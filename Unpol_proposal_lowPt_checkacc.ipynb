{
 "cells": [
  {
   "cell_type": "code",
   "execution_count": 1,
   "id": "46b6e2ac",
   "metadata": {},
   "outputs": [],
   "source": [
    "#most same as Unpol_proposal_pip_lowPt, but I want to check acceptance as a function of phi\n",
    "import pandas as pd\n",
    "import numpy as np\n",
    "import matplotlib.pyplot as plt\n",
    "import math\n"
   ]
  },
  {
   "cell_type": "code",
   "execution_count": 2,
   "id": "9bef54c6",
   "metadata": {},
   "outputs": [],
   "source": [
    "Factor = 0.3894*1e6/137\n",
    "def Get_weighted_average(value,error):\n",
    "    #Factor=2841.438#((1/137)*0.3894*1e6)\n",
    "    Factor = 0.3894*1e6/137\n",
    "    sum_mean = 0\n",
    "    sum_sigma = 0\n",
    "    #print(value,error)\n",
    "    for i in range(len(value)):\n",
    "        #print(i,value[i],error[i])\n",
    "        sum_mean += value[i]/(error[i]*error[i])\n",
    "        sum_sigma += 1/(error[i]*error[i])\n",
    "    return Factor*sum_mean/sum_sigma,Factor*math.sqrt(1/sum_sigma)\n",
    "def Get_weighted_average_phi(value,error):\n",
    "    sum_mean = 0\n",
    "    sum_sigma = 0\n",
    "    #print(value,error)\n",
    "    for i in range(len(value)):\n",
    "        #print(i,value[i],error[i])\n",
    "        sum_mean += value[i]/(error[i]*error[i])\n",
    "        sum_sigma += 1/(error[i]*error[i])\n",
    "    return sum_mean/sum_sigma,math.sqrt(1/sum_sigma)\n",
    "sys = 10\n",
    "def Get_Sys_table(xl,pTl):\n",
    "    if xl==0 and pTl==0:\n",
    "        #Sys=[[12.1/100,9.2/100,11.5/100],[11.8/100,8.8/100,11.2/100],[11.8/100,8.8/100,11.7/100],[11.8/100,9/100,12.9/100]]\n",
    "        Sys=[[sys/100,sys/100,sys/100],[sys/100,sys/100,sys/100],[sys/100,sys/100,sys/100],[sys/100,sys/100,sys/100]]\n",
    "        return Sys\n",
    "        #return 12.5/100\n",
    "    if xl==0 and pTl==0.2:\n",
    "        #Sys=[[9.3/100,8.4/100,9.95/100],[8.93/100,7.91/100,9.59/100],[8.93/100,7.91/100,10.02/100],[8.93/100,8.17/100,11.6/100]]\n",
    "        Sys=[[sys/100,sys/100,sys/100],[sys/100,sys/100,sys/100],[sys/100,sys/100,sys/100],[sys/100,sys/100,sys/100]]\n",
    "        return Sys\n",
    "        #return 12.5/100\n",
    "    #return 12.5/100\n",
    "Factor_3xs=math.sqrt(5)\n",
    "Factor_3xspim=math.sqrt(5)"
   ]
  },
  {
   "cell_type": "code",
   "execution_count": 3,
   "id": "dae35881",
   "metadata": {
    "scrolled": true
   },
   "outputs": [
    {
     "data": {
      "text/html": [
       "<div>\n",
       "<style scoped>\n",
       "    .dataframe tbody tr th:only-of-type {\n",
       "        vertical-align: middle;\n",
       "    }\n",
       "\n",
       "    .dataframe tbody tr th {\n",
       "        vertical-align: top;\n",
       "    }\n",
       "\n",
       "    .dataframe thead th {\n",
       "        text-align: right;\n",
       "    }\n",
       "</style>\n",
       "<table border=\"1\" class=\"dataframe\">\n",
       "  <thead>\n",
       "    <tr style=\"text-align: right;\">\n",
       "      <th></th>\n",
       "      <th>i</th>\n",
       "      <th>Ebeam</th>\n",
       "      <th>x</th>\n",
       "      <th>phih</th>\n",
       "      <th>y</th>\n",
       "      <th>z</th>\n",
       "      <th>Q2</th>\n",
       "      <th>pT</th>\n",
       "      <th>obs</th>\n",
       "      <th>value</th>\n",
       "      <th>stat</th>\n",
       "      <th>systrel</th>\n",
       "      <th>systabs</th>\n",
       "      <th>target</th>\n",
       "      <th>hadron</th>\n",
       "      <th>Experiment</th>\n",
       "    </tr>\n",
       "  </thead>\n",
       "  <tbody>\n",
       "    <tr>\n",
       "      <th>0</th>\n",
       "      <td>0</td>\n",
       "      <td>11.0</td>\n",
       "      <td>0.105521</td>\n",
       "      <td>-2.852458</td>\n",
       "      <td>0.570411</td>\n",
       "      <td>0.321385</td>\n",
       "      <td>1.241841</td>\n",
       "      <td>0.085001</td>\n",
       "      <td>FUUT</td>\n",
       "      <td>0.0</td>\n",
       "      <td>0.000797</td>\n",
       "      <td>0.0</td>\n",
       "      <td>0.0</td>\n",
       "      <td>neutron</td>\n",
       "      <td>pi+</td>\n",
       "      <td>solid</td>\n",
       "    </tr>\n",
       "    <tr>\n",
       "      <th>1</th>\n",
       "      <td>1</td>\n",
       "      <td>11.0</td>\n",
       "      <td>0.118940</td>\n",
       "      <td>-2.834609</td>\n",
       "      <td>0.552087</td>\n",
       "      <td>0.322892</td>\n",
       "      <td>1.354885</td>\n",
       "      <td>0.075744</td>\n",
       "      <td>FUUT</td>\n",
       "      <td>0.0</td>\n",
       "      <td>0.000647</td>\n",
       "      <td>0.0</td>\n",
       "      <td>0.0</td>\n",
       "      <td>neutron</td>\n",
       "      <td>pi+</td>\n",
       "      <td>solid</td>\n",
       "    </tr>\n",
       "    <tr>\n",
       "      <th>2</th>\n",
       "      <td>2</td>\n",
       "      <td>11.0</td>\n",
       "      <td>0.130906</td>\n",
       "      <td>-2.828701</td>\n",
       "      <td>0.520606</td>\n",
       "      <td>0.323315</td>\n",
       "      <td>1.406016</td>\n",
       "      <td>0.068274</td>\n",
       "      <td>FUUT</td>\n",
       "      <td>0.0</td>\n",
       "      <td>0.000676</td>\n",
       "      <td>0.0</td>\n",
       "      <td>0.0</td>\n",
       "      <td>neutron</td>\n",
       "      <td>pi+</td>\n",
       "      <td>solid</td>\n",
       "    </tr>\n",
       "    <tr>\n",
       "      <th>3</th>\n",
       "      <td>3</td>\n",
       "      <td>11.0</td>\n",
       "      <td>0.145825</td>\n",
       "      <td>-2.826901</td>\n",
       "      <td>0.480615</td>\n",
       "      <td>0.323474</td>\n",
       "      <td>1.445111</td>\n",
       "      <td>0.066357</td>\n",
       "      <td>FUUT</td>\n",
       "      <td>0.0</td>\n",
       "      <td>0.000736</td>\n",
       "      <td>0.0</td>\n",
       "      <td>0.0</td>\n",
       "      <td>neutron</td>\n",
       "      <td>pi+</td>\n",
       "      <td>solid</td>\n",
       "    </tr>\n",
       "    <tr>\n",
       "      <th>4</th>\n",
       "      <td>4</td>\n",
       "      <td>11.0</td>\n",
       "      <td>0.162252</td>\n",
       "      <td>-2.826915</td>\n",
       "      <td>0.442325</td>\n",
       "      <td>0.323378</td>\n",
       "      <td>1.480925</td>\n",
       "      <td>0.066214</td>\n",
       "      <td>FUUT</td>\n",
       "      <td>0.0</td>\n",
       "      <td>0.001706</td>\n",
       "      <td>0.0</td>\n",
       "      <td>0.0</td>\n",
       "      <td>neutron</td>\n",
       "      <td>pi+</td>\n",
       "      <td>solid</td>\n",
       "    </tr>\n",
       "  </tbody>\n",
       "</table>\n",
       "</div>"
      ],
      "text/plain": [
       "   i  Ebeam         x      phih         y         z        Q2        pT   obs   \n",
       "0  0   11.0  0.105521 -2.852458  0.570411  0.321385  1.241841  0.085001  FUUT  \\\n",
       "1  1   11.0  0.118940 -2.834609  0.552087  0.322892  1.354885  0.075744  FUUT   \n",
       "2  2   11.0  0.130906 -2.828701  0.520606  0.323315  1.406016  0.068274  FUUT   \n",
       "3  3   11.0  0.145825 -2.826901  0.480615  0.323474  1.445111  0.066357  FUUT   \n",
       "4  4   11.0  0.162252 -2.826915  0.442325  0.323378  1.480925  0.066214  FUUT   \n",
       "\n",
       "   value      stat  systrel  systabs   target hadron Experiment  \n",
       "0    0.0  0.000797      0.0      0.0  neutron    pi+      solid  \n",
       "1    0.0  0.000647      0.0      0.0  neutron    pi+      solid  \n",
       "2    0.0  0.000676      0.0      0.0  neutron    pi+      solid  \n",
       "3    0.0  0.000736      0.0      0.0  neutron    pi+      solid  \n",
       "4    0.0  0.001706      0.0      0.0  neutron    pi+      solid  "
      ]
     },
     "execution_count": 3,
     "metadata": {},
     "output_type": "execute_result"
    }
   ],
   "source": [
    "#1xs or 3xs doesn't matter, it's about cross section, I only care about stat\n",
    "df_1xs_zQ2xbjPhT = pd.read_csv('../Unpol_proposal/Materials/2024_acc/enhancedNpip_noacc.csv')\n",
    "df_1xs_zQ2xbjPhT.head()\n",
    "#print(np.sort(df_1xs_zQ2xbjPhT['phih'].unique()))"
   ]
  },
  {
   "cell_type": "code",
   "execution_count": 4,
   "id": "db35c55f",
   "metadata": {
    "scrolled": true
   },
   "outputs": [
    {
     "data": {
      "text/html": [
       "<div>\n",
       "<style scoped>\n",
       "    .dataframe tbody tr th:only-of-type {\n",
       "        vertical-align: middle;\n",
       "    }\n",
       "\n",
       "    .dataframe tbody tr th {\n",
       "        vertical-align: top;\n",
       "    }\n",
       "\n",
       "    .dataframe thead th {\n",
       "        text-align: right;\n",
       "    }\n",
       "</style>\n",
       "<table border=\"1\" class=\"dataframe\">\n",
       "  <thead>\n",
       "    <tr style=\"text-align: right;\">\n",
       "      <th></th>\n",
       "      <th>i</th>\n",
       "      <th>Ebeam</th>\n",
       "      <th>x</th>\n",
       "      <th>phih</th>\n",
       "      <th>y</th>\n",
       "      <th>z</th>\n",
       "      <th>Q2</th>\n",
       "      <th>pT</th>\n",
       "      <th>obs</th>\n",
       "      <th>value</th>\n",
       "      <th>stat</th>\n",
       "      <th>systrel</th>\n",
       "      <th>systabs</th>\n",
       "      <th>target</th>\n",
       "      <th>hadron</th>\n",
       "      <th>Experiment</th>\n",
       "    </tr>\n",
       "  </thead>\n",
       "  <tbody>\n",
       "    <tr>\n",
       "      <th>0</th>\n",
       "      <td>0</td>\n",
       "      <td>11.0</td>\n",
       "      <td>0.103017</td>\n",
       "      <td>-2.844259</td>\n",
       "      <td>0.565646</td>\n",
       "      <td>0.322474</td>\n",
       "      <td>1.201749</td>\n",
       "      <td>0.081033</td>\n",
       "      <td>FUUT</td>\n",
       "      <td>0.0</td>\n",
       "      <td>0.000938</td>\n",
       "      <td>0.0</td>\n",
       "      <td>0.0</td>\n",
       "      <td>neutron</td>\n",
       "      <td>pi+</td>\n",
       "      <td>solid</td>\n",
       "    </tr>\n",
       "    <tr>\n",
       "      <th>1</th>\n",
       "      <td>1</td>\n",
       "      <td>11.0</td>\n",
       "      <td>0.118815</td>\n",
       "      <td>-2.832717</td>\n",
       "      <td>0.540861</td>\n",
       "      <td>0.323261</td>\n",
       "      <td>1.325817</td>\n",
       "      <td>0.072544</td>\n",
       "      <td>FUUT</td>\n",
       "      <td>0.0</td>\n",
       "      <td>0.000955</td>\n",
       "      <td>0.0</td>\n",
       "      <td>0.0</td>\n",
       "      <td>neutron</td>\n",
       "      <td>pi+</td>\n",
       "      <td>solid</td>\n",
       "    </tr>\n",
       "    <tr>\n",
       "      <th>2</th>\n",
       "      <td>2</td>\n",
       "      <td>11.0</td>\n",
       "      <td>0.131035</td>\n",
       "      <td>-2.829297</td>\n",
       "      <td>0.506799</td>\n",
       "      <td>0.323379</td>\n",
       "      <td>1.370059</td>\n",
       "      <td>0.068226</td>\n",
       "      <td>FUUT</td>\n",
       "      <td>0.0</td>\n",
       "      <td>0.000998</td>\n",
       "      <td>0.0</td>\n",
       "      <td>0.0</td>\n",
       "      <td>neutron</td>\n",
       "      <td>pi+</td>\n",
       "      <td>solid</td>\n",
       "    </tr>\n",
       "    <tr>\n",
       "      <th>3</th>\n",
       "      <td>3</td>\n",
       "      <td>11.0</td>\n",
       "      <td>0.146572</td>\n",
       "      <td>-2.827976</td>\n",
       "      <td>0.466217</td>\n",
       "      <td>0.323332</td>\n",
       "      <td>1.408901</td>\n",
       "      <td>0.066989</td>\n",
       "      <td>FUUT</td>\n",
       "      <td>0.0</td>\n",
       "      <td>0.000956</td>\n",
       "      <td>0.0</td>\n",
       "      <td>0.0</td>\n",
       "      <td>neutron</td>\n",
       "      <td>pi+</td>\n",
       "      <td>solid</td>\n",
       "    </tr>\n",
       "    <tr>\n",
       "      <th>4</th>\n",
       "      <td>4</td>\n",
       "      <td>11.0</td>\n",
       "      <td>0.169117</td>\n",
       "      <td>-2.823566</td>\n",
       "      <td>0.416780</td>\n",
       "      <td>0.323738</td>\n",
       "      <td>1.452023</td>\n",
       "      <td>0.063966</td>\n",
       "      <td>FUUT</td>\n",
       "      <td>0.0</td>\n",
       "      <td>0.001224</td>\n",
       "      <td>0.0</td>\n",
       "      <td>0.0</td>\n",
       "      <td>neutron</td>\n",
       "      <td>pi+</td>\n",
       "      <td>solid</td>\n",
       "    </tr>\n",
       "  </tbody>\n",
       "</table>\n",
       "</div>"
      ],
      "text/plain": [
       "   i  Ebeam         x      phih         y         z        Q2        pT   obs   \n",
       "0  0   11.0  0.103017 -2.844259  0.565646  0.322474  1.201749  0.081033  FUUT  \\\n",
       "1  1   11.0  0.118815 -2.832717  0.540861  0.323261  1.325817  0.072544  FUUT   \n",
       "2  2   11.0  0.131035 -2.829297  0.506799  0.323379  1.370059  0.068226  FUUT   \n",
       "3  3   11.0  0.146572 -2.827976  0.466217  0.323332  1.408901  0.066989  FUUT   \n",
       "4  4   11.0  0.169117 -2.823566  0.416780  0.323738  1.452023  0.063966  FUUT   \n",
       "\n",
       "   value      stat  systrel  systabs   target hadron Experiment  \n",
       "0    0.0  0.000938      0.0      0.0  neutron    pi+      solid  \n",
       "1    0.0  0.000955      0.0      0.0  neutron    pi+      solid  \n",
       "2    0.0  0.000998      0.0      0.0  neutron    pi+      solid  \n",
       "3    0.0  0.000956      0.0      0.0  neutron    pi+      solid  \n",
       "4    0.0  0.001224      0.0      0.0  neutron    pi+      solid  "
      ]
     },
     "execution_count": 4,
     "metadata": {},
     "output_type": "execute_result"
    }
   ],
   "source": [
    "df_3xs_zQ2xbjPhT = pd.read_csv('../Unpol_proposal/Materials/2024_acc/enhancedNpip_withacc.csv')\n",
    "df_3xs_zQ2xbjPhT.head()"
   ]
  },
  {
   "cell_type": "code",
   "execution_count": 5,
   "id": "647ddbe4",
   "metadata": {
    "scrolled": true
   },
   "outputs": [
    {
     "name": "stdout",
     "output_type": "stream",
     "text": [
      "3.141592653589793\n"
     ]
    }
   ],
   "source": [
    "PI = math.pi\n",
    "print(PI)\n",
    "z_cuts=[0.3,0.4,0.5,0.6]\n",
    "#z_cuts=[0.3,0.35,0.4,0.45]\n",
    "#Q2_cuts=[1,2,3,4,5]\n",
    "Q2_cuts=[1,1.5,2,2.5,3]\n",
    "#Q2_cuts=[3,3.5,4,4.5,5]\n",
    "xbj_cuts=[0,0.25]\n",
    "#xbj_cuts=[0.25,0.5]\n",
    "PhT_cuts=[0,0.2]\n",
    "#PhT_cuts=[0.2,0.4]\n",
    "#PhT_cuts=[0.4,0.6]\n",
    "#phih_bins = [-3.14,-2.5,-2,-1.5,-1,-0.5,0,0.5,1,1.5,2,2.5,3.14]\n",
    "phih_bins =[-PI,-4*PI/5,-3*PI/5,-2*PI/5,-PI/5,PI/5,2*PI/5,3*PI/5,4*PI/5,PI]\n",
    "#phih_bins =[-PI,-0.9*PI,-0.8*PI,-0.7*PI,-0.6*PI,-0.5*PI,-0.4*PI,-0.3*PI,-0.2*PI,-0.1*PI,0,0.1*PI,0.2*PI,0.3*PI,0.4*PI,0.5*PI,0.6*PI,0.7*PI,0.8*PI,0.9*PI,PI]\n",
    "df_1xs_zQ2=df_1xs_zQ2xbjPhT[(df_1xs_zQ2xbjPhT['Ebeam']==11)&(df_1xs_zQ2xbjPhT['x']>xbj_cuts[0])&(df_1xs_zQ2xbjPhT['x']<xbj_cuts[1])&(df_1xs_zQ2xbjPhT['pT']>PhT_cuts[0])&(df_1xs_zQ2xbjPhT['pT']<PhT_cuts[1])]\n",
    "df_3xs_zQ2=df_3xs_zQ2xbjPhT[(df_3xs_zQ2xbjPhT['Ebeam']==11)&(df_3xs_zQ2xbjPhT['x']>xbj_cuts[0])&(df_3xs_zQ2xbjPhT['x']<xbj_cuts[1])&(df_3xs_zQ2xbjPhT['pT']>PhT_cuts[0])&(df_3xs_zQ2xbjPhT['pT']<PhT_cuts[1])]\n",
    "#df_3xspim_zQ2=df_3xspim_zQ2xbjPhT[(df_3xspim_zQ2xbjPhT['Ebeam']==11)&(df_3xspim_zQ2xbjPhT['x']>xbj_cuts[0])&(df_3xspim_zQ2xbjPhT['x']<xbj_cuts[1])&(df_3xspim_zQ2xbjPhT['pT']>PhT_cuts[0])&(df_3xspim_zQ2xbjPhT['pT']<PhT_cuts[1])]\n",
    "\n",
    "Sys_table = Get_Sys_table(xbj_cuts[0],PhT_cuts[0])"
   ]
  },
  {
   "cell_type": "code",
   "execution_count": 6,
   "id": "a4d3a3e4-6386-4c8e-80a1-6f1366b635f1",
   "metadata": {
    "tags": []
   },
   "outputs": [],
   "source": [
    "#print(Sys_table)"
   ]
  },
  {
   "cell_type": "code",
   "execution_count": 7,
   "id": "a584580b",
   "metadata": {},
   "outputs": [
    {
     "name": "stdout",
     "output_type": "stream",
     "text": [
      "197\n",
      "196\n"
     ]
    },
    {
     "name": "stderr",
     "output_type": "stream",
     "text": [
      "/var/folders/j9/hgt6bjfn0n78rvsbnlc10rqh0000gp/T/ipykernel_37694/2668002078.py:1: UserWarning: Boolean Series key will be reindexed to match DataFrame index.\n",
      "  df_1xs_1_1 = df_1xs_zQ2[df_1xs_zQ2['z']>z_cuts[0]][df_1xs_zQ2['z']<z_cuts[1]][df_1xs_zQ2['Q2']>Q2_cuts[0]][df_1xs_zQ2['Q2']<Q2_cuts[1]]\n",
      "/var/folders/j9/hgt6bjfn0n78rvsbnlc10rqh0000gp/T/ipykernel_37694/2668002078.py:1: UserWarning: Boolean Series key will be reindexed to match DataFrame index.\n",
      "  df_1xs_1_1 = df_1xs_zQ2[df_1xs_zQ2['z']>z_cuts[0]][df_1xs_zQ2['z']<z_cuts[1]][df_1xs_zQ2['Q2']>Q2_cuts[0]][df_1xs_zQ2['Q2']<Q2_cuts[1]]\n"
     ]
    }
   ],
   "source": [
    "df_1xs_1_1 = df_1xs_zQ2[df_1xs_zQ2['z']>z_cuts[0]][df_1xs_zQ2['z']<z_cuts[1]][df_1xs_zQ2['Q2']>Q2_cuts[0]][df_1xs_zQ2['Q2']<Q2_cuts[1]]\n",
    "print(len(df_1xs_1_1[df_1xs_1_1['Ebeam']==11.0]))\n",
    "print(len(df_1xs_1_1[df_1xs_1_1['Ebeam']==11.0]['phih'].unique()))"
   ]
  },
  {
   "cell_type": "code",
   "execution_count": 8,
   "id": "03421260",
   "metadata": {},
   "outputs": [
    {
     "name": "stdout",
     "output_type": "stream",
     "text": [
      "208\n",
      "208\n"
     ]
    },
    {
     "name": "stderr",
     "output_type": "stream",
     "text": [
      "/var/folders/j9/hgt6bjfn0n78rvsbnlc10rqh0000gp/T/ipykernel_37694/1735272136.py:1: UserWarning: Boolean Series key will be reindexed to match DataFrame index.\n",
      "  df_3xs_1_1 = df_3xs_zQ2[df_3xs_zQ2['z']>z_cuts[0]][df_3xs_zQ2['z']<z_cuts[1]][df_3xs_zQ2['Q2']>Q2_cuts[0]][df_3xs_zQ2['Q2']<Q2_cuts[1]]\n",
      "/var/folders/j9/hgt6bjfn0n78rvsbnlc10rqh0000gp/T/ipykernel_37694/1735272136.py:1: UserWarning: Boolean Series key will be reindexed to match DataFrame index.\n",
      "  df_3xs_1_1 = df_3xs_zQ2[df_3xs_zQ2['z']>z_cuts[0]][df_3xs_zQ2['z']<z_cuts[1]][df_3xs_zQ2['Q2']>Q2_cuts[0]][df_3xs_zQ2['Q2']<Q2_cuts[1]]\n"
     ]
    }
   ],
   "source": [
    "df_3xs_1_1 = df_3xs_zQ2[df_3xs_zQ2['z']>z_cuts[0]][df_3xs_zQ2['z']<z_cuts[1]][df_3xs_zQ2['Q2']>Q2_cuts[0]][df_3xs_zQ2['Q2']<Q2_cuts[1]]\n",
    "print(len(df_3xs_1_1[df_3xs_1_1['Ebeam']==11.0]))\n",
    "print(len(df_3xs_1_1[df_3xs_1_1['Ebeam']==11.0]['phih'].unique()))"
   ]
  },
  {
   "cell_type": "code",
   "execution_count": null,
   "id": "19967d68",
   "metadata": {},
   "outputs": [],
   "source": []
  },
  {
   "cell_type": "code",
   "execution_count": 9,
   "id": "e7518a7d",
   "metadata": {},
   "outputs": [
    {
     "name": "stdout",
     "output_type": "stream",
     "text": [
      "197\n",
      "196\n"
     ]
    },
    {
     "name": "stderr",
     "output_type": "stream",
     "text": [
      "/var/folders/j9/hgt6bjfn0n78rvsbnlc10rqh0000gp/T/ipykernel_37694/187137021.py:1: UserWarning: Boolean Series key will be reindexed to match DataFrame index.\n",
      "  df_1xs_1_2 = df_1xs_zQ2[df_1xs_zQ2['z']>z_cuts[1]][df_1xs_zQ2['z']<z_cuts[2]][df_1xs_zQ2['Q2']>Q2_cuts[0]][df_1xs_zQ2['Q2']<Q2_cuts[1]]\n",
      "/var/folders/j9/hgt6bjfn0n78rvsbnlc10rqh0000gp/T/ipykernel_37694/187137021.py:1: UserWarning: Boolean Series key will be reindexed to match DataFrame index.\n",
      "  df_1xs_1_2 = df_1xs_zQ2[df_1xs_zQ2['z']>z_cuts[1]][df_1xs_zQ2['z']<z_cuts[2]][df_1xs_zQ2['Q2']>Q2_cuts[0]][df_1xs_zQ2['Q2']<Q2_cuts[1]]\n",
      "/var/folders/j9/hgt6bjfn0n78rvsbnlc10rqh0000gp/T/ipykernel_37694/187137021.py:1: UserWarning: Boolean Series key will be reindexed to match DataFrame index.\n",
      "  df_1xs_1_2 = df_1xs_zQ2[df_1xs_zQ2['z']>z_cuts[1]][df_1xs_zQ2['z']<z_cuts[2]][df_1xs_zQ2['Q2']>Q2_cuts[0]][df_1xs_zQ2['Q2']<Q2_cuts[1]]\n"
     ]
    }
   ],
   "source": [
    "df_1xs_1_2 = df_1xs_zQ2[df_1xs_zQ2['z']>z_cuts[1]][df_1xs_zQ2['z']<z_cuts[2]][df_1xs_zQ2['Q2']>Q2_cuts[0]][df_1xs_zQ2['Q2']<Q2_cuts[1]]\n",
    "print(len(df_1xs_1_1[df_1xs_1_1['Ebeam']==11.0]))\n",
    "print(len(df_1xs_1_1[df_1xs_1_1['Ebeam']==11.0]['phih'].unique()))"
   ]
  },
  {
   "cell_type": "code",
   "execution_count": 10,
   "id": "bd45ccde",
   "metadata": {},
   "outputs": [
    {
     "name": "stdout",
     "output_type": "stream",
     "text": [
      "208\n",
      "208\n"
     ]
    },
    {
     "name": "stderr",
     "output_type": "stream",
     "text": [
      "/var/folders/j9/hgt6bjfn0n78rvsbnlc10rqh0000gp/T/ipykernel_37694/660959689.py:1: UserWarning: Boolean Series key will be reindexed to match DataFrame index.\n",
      "  df_3xs_1_2 = df_3xs_zQ2[df_3xs_zQ2['z']>z_cuts[1]][df_3xs_zQ2['z']<z_cuts[2]][df_3xs_zQ2['Q2']>Q2_cuts[0]][df_3xs_zQ2['Q2']<Q2_cuts[1]]\n",
      "/var/folders/j9/hgt6bjfn0n78rvsbnlc10rqh0000gp/T/ipykernel_37694/660959689.py:1: UserWarning: Boolean Series key will be reindexed to match DataFrame index.\n",
      "  df_3xs_1_2 = df_3xs_zQ2[df_3xs_zQ2['z']>z_cuts[1]][df_3xs_zQ2['z']<z_cuts[2]][df_3xs_zQ2['Q2']>Q2_cuts[0]][df_3xs_zQ2['Q2']<Q2_cuts[1]]\n",
      "/var/folders/j9/hgt6bjfn0n78rvsbnlc10rqh0000gp/T/ipykernel_37694/660959689.py:1: UserWarning: Boolean Series key will be reindexed to match DataFrame index.\n",
      "  df_3xs_1_2 = df_3xs_zQ2[df_3xs_zQ2['z']>z_cuts[1]][df_3xs_zQ2['z']<z_cuts[2]][df_3xs_zQ2['Q2']>Q2_cuts[0]][df_3xs_zQ2['Q2']<Q2_cuts[1]]\n"
     ]
    }
   ],
   "source": [
    "df_3xs_1_2 = df_3xs_zQ2[df_3xs_zQ2['z']>z_cuts[1]][df_3xs_zQ2['z']<z_cuts[2]][df_3xs_zQ2['Q2']>Q2_cuts[0]][df_3xs_zQ2['Q2']<Q2_cuts[1]]\n",
    "print(len(df_3xs_1_1[df_3xs_1_1['Ebeam']==11.0]))\n",
    "print(len(df_3xs_1_1[df_3xs_1_1['Ebeam']==11.0]['phih'].unique()))"
   ]
  },
  {
   "cell_type": "code",
   "execution_count": null,
   "id": "fd66eb1e",
   "metadata": {},
   "outputs": [],
   "source": []
  },
  {
   "cell_type": "code",
   "execution_count": 11,
   "id": "640b0d75",
   "metadata": {},
   "outputs": [
    {
     "name": "stdout",
     "output_type": "stream",
     "text": [
      "197\n",
      "196\n"
     ]
    },
    {
     "name": "stderr",
     "output_type": "stream",
     "text": [
      "/var/folders/j9/hgt6bjfn0n78rvsbnlc10rqh0000gp/T/ipykernel_37694/2016405503.py:1: UserWarning: Boolean Series key will be reindexed to match DataFrame index.\n",
      "  df_1xs_1_3 = df_1xs_zQ2[df_1xs_zQ2['z']>z_cuts[2]][df_1xs_zQ2['z']<z_cuts[3]][df_1xs_zQ2['Q2']>Q2_cuts[0]][df_1xs_zQ2['Q2']<Q2_cuts[1]]\n",
      "/var/folders/j9/hgt6bjfn0n78rvsbnlc10rqh0000gp/T/ipykernel_37694/2016405503.py:1: UserWarning: Boolean Series key will be reindexed to match DataFrame index.\n",
      "  df_1xs_1_3 = df_1xs_zQ2[df_1xs_zQ2['z']>z_cuts[2]][df_1xs_zQ2['z']<z_cuts[3]][df_1xs_zQ2['Q2']>Q2_cuts[0]][df_1xs_zQ2['Q2']<Q2_cuts[1]]\n",
      "/var/folders/j9/hgt6bjfn0n78rvsbnlc10rqh0000gp/T/ipykernel_37694/2016405503.py:1: UserWarning: Boolean Series key will be reindexed to match DataFrame index.\n",
      "  df_1xs_1_3 = df_1xs_zQ2[df_1xs_zQ2['z']>z_cuts[2]][df_1xs_zQ2['z']<z_cuts[3]][df_1xs_zQ2['Q2']>Q2_cuts[0]][df_1xs_zQ2['Q2']<Q2_cuts[1]]\n"
     ]
    }
   ],
   "source": [
    "df_1xs_1_3 = df_1xs_zQ2[df_1xs_zQ2['z']>z_cuts[2]][df_1xs_zQ2['z']<z_cuts[3]][df_1xs_zQ2['Q2']>Q2_cuts[0]][df_1xs_zQ2['Q2']<Q2_cuts[1]]\n",
    "print(len(df_1xs_1_1[df_1xs_1_1['Ebeam']==11.0]))\n",
    "print(len(df_1xs_1_1[df_1xs_1_1['Ebeam']==11.0]['phih'].unique()))"
   ]
  },
  {
   "cell_type": "code",
   "execution_count": 12,
   "id": "63ffe9ad",
   "metadata": {},
   "outputs": [
    {
     "name": "stdout",
     "output_type": "stream",
     "text": [
      "208\n",
      "208\n"
     ]
    },
    {
     "name": "stderr",
     "output_type": "stream",
     "text": [
      "/var/folders/j9/hgt6bjfn0n78rvsbnlc10rqh0000gp/T/ipykernel_37694/2130574157.py:1: UserWarning: Boolean Series key will be reindexed to match DataFrame index.\n",
      "  df_3xs_1_3 = df_3xs_zQ2[df_3xs_zQ2['z']>z_cuts[2]][df_3xs_zQ2['z']<z_cuts[3]][df_3xs_zQ2['Q2']>Q2_cuts[0]][df_3xs_zQ2['Q2']<Q2_cuts[1]]\n",
      "/var/folders/j9/hgt6bjfn0n78rvsbnlc10rqh0000gp/T/ipykernel_37694/2130574157.py:1: UserWarning: Boolean Series key will be reindexed to match DataFrame index.\n",
      "  df_3xs_1_3 = df_3xs_zQ2[df_3xs_zQ2['z']>z_cuts[2]][df_3xs_zQ2['z']<z_cuts[3]][df_3xs_zQ2['Q2']>Q2_cuts[0]][df_3xs_zQ2['Q2']<Q2_cuts[1]]\n",
      "/var/folders/j9/hgt6bjfn0n78rvsbnlc10rqh0000gp/T/ipykernel_37694/2130574157.py:1: UserWarning: Boolean Series key will be reindexed to match DataFrame index.\n",
      "  df_3xs_1_3 = df_3xs_zQ2[df_3xs_zQ2['z']>z_cuts[2]][df_3xs_zQ2['z']<z_cuts[3]][df_3xs_zQ2['Q2']>Q2_cuts[0]][df_3xs_zQ2['Q2']<Q2_cuts[1]]\n"
     ]
    }
   ],
   "source": [
    "df_3xs_1_3 = df_3xs_zQ2[df_3xs_zQ2['z']>z_cuts[2]][df_3xs_zQ2['z']<z_cuts[3]][df_3xs_zQ2['Q2']>Q2_cuts[0]][df_3xs_zQ2['Q2']<Q2_cuts[1]]\n",
    "print(len(df_3xs_1_1[df_3xs_1_1['Ebeam']==11.0]))\n",
    "print(len(df_3xs_1_1[df_3xs_1_1['Ebeam']==11.0]['phih'].unique()))"
   ]
  },
  {
   "cell_type": "code",
   "execution_count": null,
   "id": "e3305a07",
   "metadata": {},
   "outputs": [],
   "source": []
  },
  {
   "cell_type": "code",
   "execution_count": 13,
   "id": "b244be00",
   "metadata": {
    "scrolled": true
   },
   "outputs": [
    {
     "name": "stdout",
     "output_type": "stream",
     "text": [
      "197\n",
      "196\n"
     ]
    },
    {
     "name": "stderr",
     "output_type": "stream",
     "text": [
      "/var/folders/j9/hgt6bjfn0n78rvsbnlc10rqh0000gp/T/ipykernel_37694/4258856607.py:1: UserWarning: Boolean Series key will be reindexed to match DataFrame index.\n",
      "  df_1xs_2_1 = df_1xs_zQ2[df_1xs_zQ2['z']>z_cuts[0]][df_1xs_zQ2['z']<z_cuts[1]][df_1xs_zQ2['Q2']>Q2_cuts[1]][df_1xs_zQ2['Q2']<Q2_cuts[2]]\n",
      "/var/folders/j9/hgt6bjfn0n78rvsbnlc10rqh0000gp/T/ipykernel_37694/4258856607.py:1: UserWarning: Boolean Series key will be reindexed to match DataFrame index.\n",
      "  df_1xs_2_1 = df_1xs_zQ2[df_1xs_zQ2['z']>z_cuts[0]][df_1xs_zQ2['z']<z_cuts[1]][df_1xs_zQ2['Q2']>Q2_cuts[1]][df_1xs_zQ2['Q2']<Q2_cuts[2]]\n"
     ]
    }
   ],
   "source": [
    "df_1xs_2_1 = df_1xs_zQ2[df_1xs_zQ2['z']>z_cuts[0]][df_1xs_zQ2['z']<z_cuts[1]][df_1xs_zQ2['Q2']>Q2_cuts[1]][df_1xs_zQ2['Q2']<Q2_cuts[2]]\n",
    "print(len(df_1xs_1_1[df_1xs_1_1['Ebeam']==11.0]))\n",
    "print(len(df_1xs_1_1[df_1xs_1_1['Ebeam']==11.0]['phih'].unique()))"
   ]
  },
  {
   "cell_type": "code",
   "execution_count": 14,
   "id": "cdb0919f",
   "metadata": {
    "scrolled": true
   },
   "outputs": [
    {
     "name": "stdout",
     "output_type": "stream",
     "text": [
      "208\n",
      "208\n"
     ]
    },
    {
     "name": "stderr",
     "output_type": "stream",
     "text": [
      "/var/folders/j9/hgt6bjfn0n78rvsbnlc10rqh0000gp/T/ipykernel_37694/38913910.py:1: UserWarning: Boolean Series key will be reindexed to match DataFrame index.\n",
      "  df_3xs_2_1 = df_3xs_zQ2[df_3xs_zQ2['z']>z_cuts[0]][df_3xs_zQ2['z']<z_cuts[1]][df_3xs_zQ2['Q2']>Q2_cuts[1]][df_3xs_zQ2['Q2']<Q2_cuts[2]]\n",
      "/var/folders/j9/hgt6bjfn0n78rvsbnlc10rqh0000gp/T/ipykernel_37694/38913910.py:1: UserWarning: Boolean Series key will be reindexed to match DataFrame index.\n",
      "  df_3xs_2_1 = df_3xs_zQ2[df_3xs_zQ2['z']>z_cuts[0]][df_3xs_zQ2['z']<z_cuts[1]][df_3xs_zQ2['Q2']>Q2_cuts[1]][df_3xs_zQ2['Q2']<Q2_cuts[2]]\n"
     ]
    }
   ],
   "source": [
    "df_3xs_2_1 = df_3xs_zQ2[df_3xs_zQ2['z']>z_cuts[0]][df_3xs_zQ2['z']<z_cuts[1]][df_3xs_zQ2['Q2']>Q2_cuts[1]][df_3xs_zQ2['Q2']<Q2_cuts[2]]\n",
    "print(len(df_3xs_1_1[df_3xs_1_1['Ebeam']==11.0]))\n",
    "print(len(df_3xs_1_1[df_3xs_1_1['Ebeam']==11.0]['phih'].unique()))"
   ]
  },
  {
   "cell_type": "code",
   "execution_count": null,
   "id": "cb82cc65",
   "metadata": {
    "scrolled": true
   },
   "outputs": [],
   "source": []
  },
  {
   "cell_type": "code",
   "execution_count": 15,
   "id": "1026a51c",
   "metadata": {},
   "outputs": [
    {
     "name": "stdout",
     "output_type": "stream",
     "text": [
      "197\n",
      "196\n"
     ]
    },
    {
     "name": "stderr",
     "output_type": "stream",
     "text": [
      "/var/folders/j9/hgt6bjfn0n78rvsbnlc10rqh0000gp/T/ipykernel_37694/957587887.py:1: UserWarning: Boolean Series key will be reindexed to match DataFrame index.\n",
      "  df_1xs_2_2 = df_1xs_zQ2[df_1xs_zQ2['z']>z_cuts[1]][df_1xs_zQ2['z']<z_cuts[2]][df_1xs_zQ2['Q2']>Q2_cuts[1]][df_1xs_zQ2['Q2']<Q2_cuts[2]]\n",
      "/var/folders/j9/hgt6bjfn0n78rvsbnlc10rqh0000gp/T/ipykernel_37694/957587887.py:1: UserWarning: Boolean Series key will be reindexed to match DataFrame index.\n",
      "  df_1xs_2_2 = df_1xs_zQ2[df_1xs_zQ2['z']>z_cuts[1]][df_1xs_zQ2['z']<z_cuts[2]][df_1xs_zQ2['Q2']>Q2_cuts[1]][df_1xs_zQ2['Q2']<Q2_cuts[2]]\n",
      "/var/folders/j9/hgt6bjfn0n78rvsbnlc10rqh0000gp/T/ipykernel_37694/957587887.py:1: UserWarning: Boolean Series key will be reindexed to match DataFrame index.\n",
      "  df_1xs_2_2 = df_1xs_zQ2[df_1xs_zQ2['z']>z_cuts[1]][df_1xs_zQ2['z']<z_cuts[2]][df_1xs_zQ2['Q2']>Q2_cuts[1]][df_1xs_zQ2['Q2']<Q2_cuts[2]]\n"
     ]
    }
   ],
   "source": [
    "df_1xs_2_2 = df_1xs_zQ2[df_1xs_zQ2['z']>z_cuts[1]][df_1xs_zQ2['z']<z_cuts[2]][df_1xs_zQ2['Q2']>Q2_cuts[1]][df_1xs_zQ2['Q2']<Q2_cuts[2]]\n",
    "print(len(df_1xs_1_1[df_1xs_1_1['Ebeam']==11.0]))\n",
    "print(len(df_1xs_1_1[df_1xs_1_1['Ebeam']==11.0]['phih'].unique()))"
   ]
  },
  {
   "cell_type": "code",
   "execution_count": 16,
   "id": "e64dc8df",
   "metadata": {},
   "outputs": [
    {
     "name": "stdout",
     "output_type": "stream",
     "text": [
      "208\n",
      "208\n"
     ]
    },
    {
     "name": "stderr",
     "output_type": "stream",
     "text": [
      "/var/folders/j9/hgt6bjfn0n78rvsbnlc10rqh0000gp/T/ipykernel_37694/1303666535.py:1: UserWarning: Boolean Series key will be reindexed to match DataFrame index.\n",
      "  df_3xs_2_2 = df_3xs_zQ2[df_3xs_zQ2['z']>z_cuts[1]][df_3xs_zQ2['z']<z_cuts[2]][df_3xs_zQ2['Q2']>Q2_cuts[1]][df_3xs_zQ2['Q2']<Q2_cuts[2]]\n",
      "/var/folders/j9/hgt6bjfn0n78rvsbnlc10rqh0000gp/T/ipykernel_37694/1303666535.py:1: UserWarning: Boolean Series key will be reindexed to match DataFrame index.\n",
      "  df_3xs_2_2 = df_3xs_zQ2[df_3xs_zQ2['z']>z_cuts[1]][df_3xs_zQ2['z']<z_cuts[2]][df_3xs_zQ2['Q2']>Q2_cuts[1]][df_3xs_zQ2['Q2']<Q2_cuts[2]]\n",
      "/var/folders/j9/hgt6bjfn0n78rvsbnlc10rqh0000gp/T/ipykernel_37694/1303666535.py:1: UserWarning: Boolean Series key will be reindexed to match DataFrame index.\n",
      "  df_3xs_2_2 = df_3xs_zQ2[df_3xs_zQ2['z']>z_cuts[1]][df_3xs_zQ2['z']<z_cuts[2]][df_3xs_zQ2['Q2']>Q2_cuts[1]][df_3xs_zQ2['Q2']<Q2_cuts[2]]\n"
     ]
    }
   ],
   "source": [
    "df_3xs_2_2 = df_3xs_zQ2[df_3xs_zQ2['z']>z_cuts[1]][df_3xs_zQ2['z']<z_cuts[2]][df_3xs_zQ2['Q2']>Q2_cuts[1]][df_3xs_zQ2['Q2']<Q2_cuts[2]]\n",
    "print(len(df_3xs_1_1[df_3xs_1_1['Ebeam']==11.0]))\n",
    "print(len(df_3xs_1_1[df_3xs_1_1['Ebeam']==11.0]['phih'].unique()))"
   ]
  },
  {
   "cell_type": "code",
   "execution_count": null,
   "id": "4bbdfada",
   "metadata": {},
   "outputs": [],
   "source": []
  },
  {
   "cell_type": "code",
   "execution_count": 17,
   "id": "95a56d30",
   "metadata": {},
   "outputs": [
    {
     "name": "stdout",
     "output_type": "stream",
     "text": [
      "197\n",
      "196\n"
     ]
    },
    {
     "name": "stderr",
     "output_type": "stream",
     "text": [
      "/var/folders/j9/hgt6bjfn0n78rvsbnlc10rqh0000gp/T/ipykernel_37694/614530096.py:1: UserWarning: Boolean Series key will be reindexed to match DataFrame index.\n",
      "  df_1xs_2_3 = df_1xs_zQ2[df_1xs_zQ2['z']>z_cuts[2]][df_1xs_zQ2['z']<z_cuts[3]][df_1xs_zQ2['Q2']>Q2_cuts[1]][df_1xs_zQ2['Q2']<Q2_cuts[2]]\n",
      "/var/folders/j9/hgt6bjfn0n78rvsbnlc10rqh0000gp/T/ipykernel_37694/614530096.py:1: UserWarning: Boolean Series key will be reindexed to match DataFrame index.\n",
      "  df_1xs_2_3 = df_1xs_zQ2[df_1xs_zQ2['z']>z_cuts[2]][df_1xs_zQ2['z']<z_cuts[3]][df_1xs_zQ2['Q2']>Q2_cuts[1]][df_1xs_zQ2['Q2']<Q2_cuts[2]]\n",
      "/var/folders/j9/hgt6bjfn0n78rvsbnlc10rqh0000gp/T/ipykernel_37694/614530096.py:1: UserWarning: Boolean Series key will be reindexed to match DataFrame index.\n",
      "  df_1xs_2_3 = df_1xs_zQ2[df_1xs_zQ2['z']>z_cuts[2]][df_1xs_zQ2['z']<z_cuts[3]][df_1xs_zQ2['Q2']>Q2_cuts[1]][df_1xs_zQ2['Q2']<Q2_cuts[2]]\n"
     ]
    }
   ],
   "source": [
    "df_1xs_2_3 = df_1xs_zQ2[df_1xs_zQ2['z']>z_cuts[2]][df_1xs_zQ2['z']<z_cuts[3]][df_1xs_zQ2['Q2']>Q2_cuts[1]][df_1xs_zQ2['Q2']<Q2_cuts[2]]\n",
    "print(len(df_1xs_1_1[df_1xs_1_1['Ebeam']==11.0]))\n",
    "print(len(df_1xs_1_1[df_1xs_1_1['Ebeam']==11.0]['phih'].unique()))"
   ]
  },
  {
   "cell_type": "code",
   "execution_count": 18,
   "id": "b31752c2",
   "metadata": {},
   "outputs": [
    {
     "name": "stdout",
     "output_type": "stream",
     "text": [
      "208\n",
      "208\n"
     ]
    },
    {
     "name": "stderr",
     "output_type": "stream",
     "text": [
      "/var/folders/j9/hgt6bjfn0n78rvsbnlc10rqh0000gp/T/ipykernel_37694/2563255446.py:1: UserWarning: Boolean Series key will be reindexed to match DataFrame index.\n",
      "  df_3xs_2_3 = df_3xs_zQ2[df_3xs_zQ2['z']>z_cuts[2]][df_3xs_zQ2['z']<z_cuts[3]][df_3xs_zQ2['Q2']>Q2_cuts[1]][df_3xs_zQ2['Q2']<Q2_cuts[2]]\n",
      "/var/folders/j9/hgt6bjfn0n78rvsbnlc10rqh0000gp/T/ipykernel_37694/2563255446.py:1: UserWarning: Boolean Series key will be reindexed to match DataFrame index.\n",
      "  df_3xs_2_3 = df_3xs_zQ2[df_3xs_zQ2['z']>z_cuts[2]][df_3xs_zQ2['z']<z_cuts[3]][df_3xs_zQ2['Q2']>Q2_cuts[1]][df_3xs_zQ2['Q2']<Q2_cuts[2]]\n",
      "/var/folders/j9/hgt6bjfn0n78rvsbnlc10rqh0000gp/T/ipykernel_37694/2563255446.py:1: UserWarning: Boolean Series key will be reindexed to match DataFrame index.\n",
      "  df_3xs_2_3 = df_3xs_zQ2[df_3xs_zQ2['z']>z_cuts[2]][df_3xs_zQ2['z']<z_cuts[3]][df_3xs_zQ2['Q2']>Q2_cuts[1]][df_3xs_zQ2['Q2']<Q2_cuts[2]]\n"
     ]
    }
   ],
   "source": [
    "df_3xs_2_3 = df_3xs_zQ2[df_3xs_zQ2['z']>z_cuts[2]][df_3xs_zQ2['z']<z_cuts[3]][df_3xs_zQ2['Q2']>Q2_cuts[1]][df_3xs_zQ2['Q2']<Q2_cuts[2]]\n",
    "print(len(df_3xs_1_1[df_3xs_1_1['Ebeam']==11.0]))\n",
    "print(len(df_3xs_1_1[df_3xs_1_1['Ebeam']==11.0]['phih'].unique()))"
   ]
  },
  {
   "cell_type": "code",
   "execution_count": null,
   "id": "a44a853f",
   "metadata": {},
   "outputs": [],
   "source": []
  },
  {
   "cell_type": "code",
   "execution_count": 19,
   "id": "7909fb0a",
   "metadata": {},
   "outputs": [
    {
     "name": "stdout",
     "output_type": "stream",
     "text": [
      "197\n",
      "196\n"
     ]
    },
    {
     "name": "stderr",
     "output_type": "stream",
     "text": [
      "/var/folders/j9/hgt6bjfn0n78rvsbnlc10rqh0000gp/T/ipykernel_37694/2105384112.py:1: UserWarning: Boolean Series key will be reindexed to match DataFrame index.\n",
      "  df_1xs_3_1 = df_1xs_zQ2[df_1xs_zQ2['z']>z_cuts[0]][df_1xs_zQ2['z']<z_cuts[1]][df_1xs_zQ2['Q2']>Q2_cuts[2]][df_1xs_zQ2['Q2']<Q2_cuts[3]]\n",
      "/var/folders/j9/hgt6bjfn0n78rvsbnlc10rqh0000gp/T/ipykernel_37694/2105384112.py:1: UserWarning: Boolean Series key will be reindexed to match DataFrame index.\n",
      "  df_1xs_3_1 = df_1xs_zQ2[df_1xs_zQ2['z']>z_cuts[0]][df_1xs_zQ2['z']<z_cuts[1]][df_1xs_zQ2['Q2']>Q2_cuts[2]][df_1xs_zQ2['Q2']<Q2_cuts[3]]\n"
     ]
    }
   ],
   "source": [
    "df_1xs_3_1 = df_1xs_zQ2[df_1xs_zQ2['z']>z_cuts[0]][df_1xs_zQ2['z']<z_cuts[1]][df_1xs_zQ2['Q2']>Q2_cuts[2]][df_1xs_zQ2['Q2']<Q2_cuts[3]]\n",
    "print(len(df_1xs_1_1[df_1xs_1_1['Ebeam']==11.0]))\n",
    "print(len(df_1xs_1_1[df_1xs_1_1['Ebeam']==11.0]['phih'].unique()))"
   ]
  },
  {
   "cell_type": "code",
   "execution_count": 20,
   "id": "d210765d",
   "metadata": {
    "scrolled": true
   },
   "outputs": [
    {
     "name": "stdout",
     "output_type": "stream",
     "text": [
      "208\n",
      "208\n"
     ]
    },
    {
     "name": "stderr",
     "output_type": "stream",
     "text": [
      "/var/folders/j9/hgt6bjfn0n78rvsbnlc10rqh0000gp/T/ipykernel_37694/3731236058.py:1: UserWarning: Boolean Series key will be reindexed to match DataFrame index.\n",
      "  df_3xs_3_1 = df_3xs_zQ2[df_3xs_zQ2['z']>z_cuts[0]][df_3xs_zQ2['z']<z_cuts[1]][df_3xs_zQ2['Q2']>Q2_cuts[2]][df_3xs_zQ2['Q2']<Q2_cuts[3]]\n",
      "/var/folders/j9/hgt6bjfn0n78rvsbnlc10rqh0000gp/T/ipykernel_37694/3731236058.py:1: UserWarning: Boolean Series key will be reindexed to match DataFrame index.\n",
      "  df_3xs_3_1 = df_3xs_zQ2[df_3xs_zQ2['z']>z_cuts[0]][df_3xs_zQ2['z']<z_cuts[1]][df_3xs_zQ2['Q2']>Q2_cuts[2]][df_3xs_zQ2['Q2']<Q2_cuts[3]]\n"
     ]
    }
   ],
   "source": [
    "df_3xs_3_1 = df_3xs_zQ2[df_3xs_zQ2['z']>z_cuts[0]][df_3xs_zQ2['z']<z_cuts[1]][df_3xs_zQ2['Q2']>Q2_cuts[2]][df_3xs_zQ2['Q2']<Q2_cuts[3]]\n",
    "print(len(df_3xs_1_1[df_3xs_1_1['Ebeam']==11.0]))\n",
    "print(len(df_3xs_1_1[df_3xs_1_1['Ebeam']==11.0]['phih'].unique()))"
   ]
  },
  {
   "cell_type": "code",
   "execution_count": null,
   "id": "07394b8d",
   "metadata": {
    "scrolled": true
   },
   "outputs": [],
   "source": []
  },
  {
   "cell_type": "code",
   "execution_count": 21,
   "id": "23a33b67",
   "metadata": {
    "scrolled": true
   },
   "outputs": [
    {
     "name": "stdout",
     "output_type": "stream",
     "text": [
      "197\n",
      "196\n"
     ]
    },
    {
     "name": "stderr",
     "output_type": "stream",
     "text": [
      "/var/folders/j9/hgt6bjfn0n78rvsbnlc10rqh0000gp/T/ipykernel_37694/2875546147.py:1: UserWarning: Boolean Series key will be reindexed to match DataFrame index.\n",
      "  df_1xs_3_2 = df_1xs_zQ2[df_1xs_zQ2['z']>z_cuts[1]][df_1xs_zQ2['z']<z_cuts[2]][df_1xs_zQ2['Q2']>Q2_cuts[2]][df_1xs_zQ2['Q2']<Q2_cuts[3]]\n",
      "/var/folders/j9/hgt6bjfn0n78rvsbnlc10rqh0000gp/T/ipykernel_37694/2875546147.py:1: UserWarning: Boolean Series key will be reindexed to match DataFrame index.\n",
      "  df_1xs_3_2 = df_1xs_zQ2[df_1xs_zQ2['z']>z_cuts[1]][df_1xs_zQ2['z']<z_cuts[2]][df_1xs_zQ2['Q2']>Q2_cuts[2]][df_1xs_zQ2['Q2']<Q2_cuts[3]]\n",
      "/var/folders/j9/hgt6bjfn0n78rvsbnlc10rqh0000gp/T/ipykernel_37694/2875546147.py:1: UserWarning: Boolean Series key will be reindexed to match DataFrame index.\n",
      "  df_1xs_3_2 = df_1xs_zQ2[df_1xs_zQ2['z']>z_cuts[1]][df_1xs_zQ2['z']<z_cuts[2]][df_1xs_zQ2['Q2']>Q2_cuts[2]][df_1xs_zQ2['Q2']<Q2_cuts[3]]\n"
     ]
    }
   ],
   "source": [
    "df_1xs_3_2 = df_1xs_zQ2[df_1xs_zQ2['z']>z_cuts[1]][df_1xs_zQ2['z']<z_cuts[2]][df_1xs_zQ2['Q2']>Q2_cuts[2]][df_1xs_zQ2['Q2']<Q2_cuts[3]]\n",
    "print(len(df_1xs_1_1[df_1xs_1_1['Ebeam']==11.0]))\n",
    "print(len(df_1xs_1_1[df_1xs_1_1['Ebeam']==11.0]['phih'].unique()))"
   ]
  },
  {
   "cell_type": "code",
   "execution_count": 22,
   "id": "292d2e45",
   "metadata": {
    "scrolled": true
   },
   "outputs": [
    {
     "name": "stdout",
     "output_type": "stream",
     "text": [
      "208\n",
      "208\n"
     ]
    },
    {
     "name": "stderr",
     "output_type": "stream",
     "text": [
      "/var/folders/j9/hgt6bjfn0n78rvsbnlc10rqh0000gp/T/ipykernel_37694/4239354454.py:1: UserWarning: Boolean Series key will be reindexed to match DataFrame index.\n",
      "  df_3xs_3_2 = df_3xs_zQ2[df_3xs_zQ2['z']>z_cuts[1]][df_3xs_zQ2['z']<z_cuts[2]][df_3xs_zQ2['Q2']>Q2_cuts[2]][df_3xs_zQ2['Q2']<Q2_cuts[3]]\n",
      "/var/folders/j9/hgt6bjfn0n78rvsbnlc10rqh0000gp/T/ipykernel_37694/4239354454.py:1: UserWarning: Boolean Series key will be reindexed to match DataFrame index.\n",
      "  df_3xs_3_2 = df_3xs_zQ2[df_3xs_zQ2['z']>z_cuts[1]][df_3xs_zQ2['z']<z_cuts[2]][df_3xs_zQ2['Q2']>Q2_cuts[2]][df_3xs_zQ2['Q2']<Q2_cuts[3]]\n",
      "/var/folders/j9/hgt6bjfn0n78rvsbnlc10rqh0000gp/T/ipykernel_37694/4239354454.py:1: UserWarning: Boolean Series key will be reindexed to match DataFrame index.\n",
      "  df_3xs_3_2 = df_3xs_zQ2[df_3xs_zQ2['z']>z_cuts[1]][df_3xs_zQ2['z']<z_cuts[2]][df_3xs_zQ2['Q2']>Q2_cuts[2]][df_3xs_zQ2['Q2']<Q2_cuts[3]]\n"
     ]
    }
   ],
   "source": [
    "df_3xs_3_2 = df_3xs_zQ2[df_3xs_zQ2['z']>z_cuts[1]][df_3xs_zQ2['z']<z_cuts[2]][df_3xs_zQ2['Q2']>Q2_cuts[2]][df_3xs_zQ2['Q2']<Q2_cuts[3]]\n",
    "print(len(df_3xs_1_1[df_3xs_1_1['Ebeam']==11.0]))\n",
    "print(len(df_3xs_1_1[df_3xs_1_1['Ebeam']==11.0]['phih'].unique()))"
   ]
  },
  {
   "cell_type": "code",
   "execution_count": null,
   "id": "4eafde44",
   "metadata": {
    "scrolled": true
   },
   "outputs": [],
   "source": []
  },
  {
   "cell_type": "code",
   "execution_count": 23,
   "id": "b02cf740",
   "metadata": {
    "scrolled": true
   },
   "outputs": [
    {
     "name": "stdout",
     "output_type": "stream",
     "text": [
      "197\n",
      "196\n"
     ]
    },
    {
     "name": "stderr",
     "output_type": "stream",
     "text": [
      "/var/folders/j9/hgt6bjfn0n78rvsbnlc10rqh0000gp/T/ipykernel_37694/3204621015.py:1: UserWarning: Boolean Series key will be reindexed to match DataFrame index.\n",
      "  df_1xs_3_3 = df_1xs_zQ2[df_1xs_zQ2['z']>z_cuts[2]][df_1xs_zQ2['z']<z_cuts[3]][df_1xs_zQ2['Q2']>Q2_cuts[2]][df_1xs_zQ2['Q2']<Q2_cuts[3]]\n",
      "/var/folders/j9/hgt6bjfn0n78rvsbnlc10rqh0000gp/T/ipykernel_37694/3204621015.py:1: UserWarning: Boolean Series key will be reindexed to match DataFrame index.\n",
      "  df_1xs_3_3 = df_1xs_zQ2[df_1xs_zQ2['z']>z_cuts[2]][df_1xs_zQ2['z']<z_cuts[3]][df_1xs_zQ2['Q2']>Q2_cuts[2]][df_1xs_zQ2['Q2']<Q2_cuts[3]]\n",
      "/var/folders/j9/hgt6bjfn0n78rvsbnlc10rqh0000gp/T/ipykernel_37694/3204621015.py:1: UserWarning: Boolean Series key will be reindexed to match DataFrame index.\n",
      "  df_1xs_3_3 = df_1xs_zQ2[df_1xs_zQ2['z']>z_cuts[2]][df_1xs_zQ2['z']<z_cuts[3]][df_1xs_zQ2['Q2']>Q2_cuts[2]][df_1xs_zQ2['Q2']<Q2_cuts[3]]\n"
     ]
    }
   ],
   "source": [
    "df_1xs_3_3 = df_1xs_zQ2[df_1xs_zQ2['z']>z_cuts[2]][df_1xs_zQ2['z']<z_cuts[3]][df_1xs_zQ2['Q2']>Q2_cuts[2]][df_1xs_zQ2['Q2']<Q2_cuts[3]]\n",
    "print(len(df_1xs_1_1[df_1xs_1_1['Ebeam']==11.0]))\n",
    "print(len(df_1xs_1_1[df_1xs_1_1['Ebeam']==11.0]['phih'].unique()))"
   ]
  },
  {
   "cell_type": "code",
   "execution_count": 24,
   "id": "c52abfa6",
   "metadata": {
    "scrolled": true
   },
   "outputs": [
    {
     "name": "stdout",
     "output_type": "stream",
     "text": [
      "208\n",
      "208\n"
     ]
    },
    {
     "name": "stderr",
     "output_type": "stream",
     "text": [
      "/var/folders/j9/hgt6bjfn0n78rvsbnlc10rqh0000gp/T/ipykernel_37694/165647900.py:1: UserWarning: Boolean Series key will be reindexed to match DataFrame index.\n",
      "  df_3xs_3_3 = df_3xs_zQ2[df_3xs_zQ2['z']>z_cuts[2]][df_3xs_zQ2['z']<z_cuts[3]][df_3xs_zQ2['Q2']>Q2_cuts[2]][df_3xs_zQ2['Q2']<Q2_cuts[3]]\n",
      "/var/folders/j9/hgt6bjfn0n78rvsbnlc10rqh0000gp/T/ipykernel_37694/165647900.py:1: UserWarning: Boolean Series key will be reindexed to match DataFrame index.\n",
      "  df_3xs_3_3 = df_3xs_zQ2[df_3xs_zQ2['z']>z_cuts[2]][df_3xs_zQ2['z']<z_cuts[3]][df_3xs_zQ2['Q2']>Q2_cuts[2]][df_3xs_zQ2['Q2']<Q2_cuts[3]]\n",
      "/var/folders/j9/hgt6bjfn0n78rvsbnlc10rqh0000gp/T/ipykernel_37694/165647900.py:1: UserWarning: Boolean Series key will be reindexed to match DataFrame index.\n",
      "  df_3xs_3_3 = df_3xs_zQ2[df_3xs_zQ2['z']>z_cuts[2]][df_3xs_zQ2['z']<z_cuts[3]][df_3xs_zQ2['Q2']>Q2_cuts[2]][df_3xs_zQ2['Q2']<Q2_cuts[3]]\n"
     ]
    }
   ],
   "source": [
    "df_3xs_3_3 = df_3xs_zQ2[df_3xs_zQ2['z']>z_cuts[2]][df_3xs_zQ2['z']<z_cuts[3]][df_3xs_zQ2['Q2']>Q2_cuts[2]][df_3xs_zQ2['Q2']<Q2_cuts[3]]\n",
    "print(len(df_3xs_1_1[df_3xs_1_1['Ebeam']==11.0]))\n",
    "print(len(df_3xs_1_1[df_3xs_1_1['Ebeam']==11.0]['phih'].unique()))"
   ]
  },
  {
   "cell_type": "code",
   "execution_count": null,
   "id": "94c73978",
   "metadata": {
    "scrolled": true
   },
   "outputs": [],
   "source": []
  },
  {
   "cell_type": "code",
   "execution_count": 25,
   "id": "3f150745",
   "metadata": {
    "scrolled": true
   },
   "outputs": [
    {
     "name": "stdout",
     "output_type": "stream",
     "text": [
      "197\n",
      "196\n"
     ]
    },
    {
     "name": "stderr",
     "output_type": "stream",
     "text": [
      "/var/folders/j9/hgt6bjfn0n78rvsbnlc10rqh0000gp/T/ipykernel_37694/1080734928.py:1: UserWarning: Boolean Series key will be reindexed to match DataFrame index.\n",
      "  df_1xs_4_1 = df_1xs_zQ2[df_1xs_zQ2['z']>z_cuts[0]][df_1xs_zQ2['z']<z_cuts[1]][df_1xs_zQ2['Q2']>Q2_cuts[3]][df_1xs_zQ2['Q2']<Q2_cuts[4]]\n",
      "/var/folders/j9/hgt6bjfn0n78rvsbnlc10rqh0000gp/T/ipykernel_37694/1080734928.py:1: UserWarning: Boolean Series key will be reindexed to match DataFrame index.\n",
      "  df_1xs_4_1 = df_1xs_zQ2[df_1xs_zQ2['z']>z_cuts[0]][df_1xs_zQ2['z']<z_cuts[1]][df_1xs_zQ2['Q2']>Q2_cuts[3]][df_1xs_zQ2['Q2']<Q2_cuts[4]]\n"
     ]
    }
   ],
   "source": [
    "df_1xs_4_1 = df_1xs_zQ2[df_1xs_zQ2['z']>z_cuts[0]][df_1xs_zQ2['z']<z_cuts[1]][df_1xs_zQ2['Q2']>Q2_cuts[3]][df_1xs_zQ2['Q2']<Q2_cuts[4]]\n",
    "print(len(df_1xs_1_1[df_1xs_1_1['Ebeam']==11.0]))\n",
    "print(len(df_1xs_1_1[df_1xs_1_1['Ebeam']==11.0]['phih'].unique()))"
   ]
  },
  {
   "cell_type": "code",
   "execution_count": 26,
   "id": "179a7c9a",
   "metadata": {
    "scrolled": true
   },
   "outputs": [
    {
     "name": "stdout",
     "output_type": "stream",
     "text": [
      "208\n",
      "208\n"
     ]
    },
    {
     "name": "stderr",
     "output_type": "stream",
     "text": [
      "/var/folders/j9/hgt6bjfn0n78rvsbnlc10rqh0000gp/T/ipykernel_37694/2895693434.py:1: UserWarning: Boolean Series key will be reindexed to match DataFrame index.\n",
      "  df_3xs_4_1 = df_3xs_zQ2[df_3xs_zQ2['z']>z_cuts[0]][df_3xs_zQ2['z']<z_cuts[1]][df_3xs_zQ2['Q2']>Q2_cuts[3]][df_3xs_zQ2['Q2']<Q2_cuts[4]]\n",
      "/var/folders/j9/hgt6bjfn0n78rvsbnlc10rqh0000gp/T/ipykernel_37694/2895693434.py:1: UserWarning: Boolean Series key will be reindexed to match DataFrame index.\n",
      "  df_3xs_4_1 = df_3xs_zQ2[df_3xs_zQ2['z']>z_cuts[0]][df_3xs_zQ2['z']<z_cuts[1]][df_3xs_zQ2['Q2']>Q2_cuts[3]][df_3xs_zQ2['Q2']<Q2_cuts[4]]\n"
     ]
    }
   ],
   "source": [
    "df_3xs_4_1 = df_3xs_zQ2[df_3xs_zQ2['z']>z_cuts[0]][df_3xs_zQ2['z']<z_cuts[1]][df_3xs_zQ2['Q2']>Q2_cuts[3]][df_3xs_zQ2['Q2']<Q2_cuts[4]]\n",
    "print(len(df_3xs_1_1[df_3xs_1_1['Ebeam']==11.0]))\n",
    "print(len(df_3xs_1_1[df_3xs_1_1['Ebeam']==11.0]['phih'].unique()))"
   ]
  },
  {
   "cell_type": "code",
   "execution_count": null,
   "id": "f8dcce28",
   "metadata": {
    "scrolled": true
   },
   "outputs": [],
   "source": []
  },
  {
   "cell_type": "code",
   "execution_count": 27,
   "id": "120e1dbb",
   "metadata": {
    "scrolled": true
   },
   "outputs": [
    {
     "name": "stdout",
     "output_type": "stream",
     "text": [
      "197\n",
      "196\n"
     ]
    },
    {
     "name": "stderr",
     "output_type": "stream",
     "text": [
      "/var/folders/j9/hgt6bjfn0n78rvsbnlc10rqh0000gp/T/ipykernel_37694/1416687606.py:1: UserWarning: Boolean Series key will be reindexed to match DataFrame index.\n",
      "  df_1xs_4_2 = df_1xs_zQ2[df_1xs_zQ2['z']>z_cuts[1]][df_1xs_zQ2['z']<z_cuts[2]][df_1xs_zQ2['Q2']>Q2_cuts[3]][df_1xs_zQ2['Q2']<Q2_cuts[4]]\n",
      "/var/folders/j9/hgt6bjfn0n78rvsbnlc10rqh0000gp/T/ipykernel_37694/1416687606.py:1: UserWarning: Boolean Series key will be reindexed to match DataFrame index.\n",
      "  df_1xs_4_2 = df_1xs_zQ2[df_1xs_zQ2['z']>z_cuts[1]][df_1xs_zQ2['z']<z_cuts[2]][df_1xs_zQ2['Q2']>Q2_cuts[3]][df_1xs_zQ2['Q2']<Q2_cuts[4]]\n",
      "/var/folders/j9/hgt6bjfn0n78rvsbnlc10rqh0000gp/T/ipykernel_37694/1416687606.py:1: UserWarning: Boolean Series key will be reindexed to match DataFrame index.\n",
      "  df_1xs_4_2 = df_1xs_zQ2[df_1xs_zQ2['z']>z_cuts[1]][df_1xs_zQ2['z']<z_cuts[2]][df_1xs_zQ2['Q2']>Q2_cuts[3]][df_1xs_zQ2['Q2']<Q2_cuts[4]]\n"
     ]
    }
   ],
   "source": [
    "df_1xs_4_2 = df_1xs_zQ2[df_1xs_zQ2['z']>z_cuts[1]][df_1xs_zQ2['z']<z_cuts[2]][df_1xs_zQ2['Q2']>Q2_cuts[3]][df_1xs_zQ2['Q2']<Q2_cuts[4]]\n",
    "print(len(df_1xs_1_1[df_1xs_1_1['Ebeam']==11.0]))\n",
    "print(len(df_1xs_1_1[df_1xs_1_1['Ebeam']==11.0]['phih'].unique()))"
   ]
  },
  {
   "cell_type": "code",
   "execution_count": 28,
   "id": "46f02075",
   "metadata": {
    "scrolled": true
   },
   "outputs": [
    {
     "name": "stdout",
     "output_type": "stream",
     "text": [
      "208\n",
      "208\n"
     ]
    },
    {
     "name": "stderr",
     "output_type": "stream",
     "text": [
      "/var/folders/j9/hgt6bjfn0n78rvsbnlc10rqh0000gp/T/ipykernel_37694/2507560876.py:1: UserWarning: Boolean Series key will be reindexed to match DataFrame index.\n",
      "  df_3xs_4_2 = df_3xs_zQ2[df_3xs_zQ2['z']>z_cuts[1]][df_3xs_zQ2['z']<z_cuts[2]][df_3xs_zQ2['Q2']>Q2_cuts[3]][df_3xs_zQ2['Q2']<Q2_cuts[4]]\n",
      "/var/folders/j9/hgt6bjfn0n78rvsbnlc10rqh0000gp/T/ipykernel_37694/2507560876.py:1: UserWarning: Boolean Series key will be reindexed to match DataFrame index.\n",
      "  df_3xs_4_2 = df_3xs_zQ2[df_3xs_zQ2['z']>z_cuts[1]][df_3xs_zQ2['z']<z_cuts[2]][df_3xs_zQ2['Q2']>Q2_cuts[3]][df_3xs_zQ2['Q2']<Q2_cuts[4]]\n",
      "/var/folders/j9/hgt6bjfn0n78rvsbnlc10rqh0000gp/T/ipykernel_37694/2507560876.py:1: UserWarning: Boolean Series key will be reindexed to match DataFrame index.\n",
      "  df_3xs_4_2 = df_3xs_zQ2[df_3xs_zQ2['z']>z_cuts[1]][df_3xs_zQ2['z']<z_cuts[2]][df_3xs_zQ2['Q2']>Q2_cuts[3]][df_3xs_zQ2['Q2']<Q2_cuts[4]]\n"
     ]
    }
   ],
   "source": [
    "df_3xs_4_2 = df_3xs_zQ2[df_3xs_zQ2['z']>z_cuts[1]][df_3xs_zQ2['z']<z_cuts[2]][df_3xs_zQ2['Q2']>Q2_cuts[3]][df_3xs_zQ2['Q2']<Q2_cuts[4]]\n",
    "print(len(df_3xs_1_1[df_3xs_1_1['Ebeam']==11.0]))\n",
    "print(len(df_3xs_1_1[df_3xs_1_1['Ebeam']==11.0]['phih'].unique()))"
   ]
  },
  {
   "cell_type": "code",
   "execution_count": null,
   "id": "419bf5aa",
   "metadata": {
    "scrolled": true
   },
   "outputs": [],
   "source": []
  },
  {
   "cell_type": "code",
   "execution_count": 29,
   "id": "bef948c4",
   "metadata": {
    "scrolled": true
   },
   "outputs": [
    {
     "name": "stdout",
     "output_type": "stream",
     "text": [
      "197\n",
      "196\n"
     ]
    },
    {
     "name": "stderr",
     "output_type": "stream",
     "text": [
      "/var/folders/j9/hgt6bjfn0n78rvsbnlc10rqh0000gp/T/ipykernel_37694/1020995793.py:1: UserWarning: Boolean Series key will be reindexed to match DataFrame index.\n",
      "  df_1xs_4_3 = df_1xs_zQ2[df_1xs_zQ2['z']>z_cuts[2]][df_1xs_zQ2['z']<z_cuts[3]][df_1xs_zQ2['Q2']>Q2_cuts[3]][df_1xs_zQ2['Q2']<Q2_cuts[4]]\n",
      "/var/folders/j9/hgt6bjfn0n78rvsbnlc10rqh0000gp/T/ipykernel_37694/1020995793.py:1: UserWarning: Boolean Series key will be reindexed to match DataFrame index.\n",
      "  df_1xs_4_3 = df_1xs_zQ2[df_1xs_zQ2['z']>z_cuts[2]][df_1xs_zQ2['z']<z_cuts[3]][df_1xs_zQ2['Q2']>Q2_cuts[3]][df_1xs_zQ2['Q2']<Q2_cuts[4]]\n",
      "/var/folders/j9/hgt6bjfn0n78rvsbnlc10rqh0000gp/T/ipykernel_37694/1020995793.py:1: UserWarning: Boolean Series key will be reindexed to match DataFrame index.\n",
      "  df_1xs_4_3 = df_1xs_zQ2[df_1xs_zQ2['z']>z_cuts[2]][df_1xs_zQ2['z']<z_cuts[3]][df_1xs_zQ2['Q2']>Q2_cuts[3]][df_1xs_zQ2['Q2']<Q2_cuts[4]]\n"
     ]
    }
   ],
   "source": [
    "df_1xs_4_3 = df_1xs_zQ2[df_1xs_zQ2['z']>z_cuts[2]][df_1xs_zQ2['z']<z_cuts[3]][df_1xs_zQ2['Q2']>Q2_cuts[3]][df_1xs_zQ2['Q2']<Q2_cuts[4]]\n",
    "print(len(df_1xs_1_1[df_1xs_1_1['Ebeam']==11.0]))\n",
    "print(len(df_1xs_1_1[df_1xs_1_1['Ebeam']==11.0]['phih'].unique()))"
   ]
  },
  {
   "cell_type": "code",
   "execution_count": 30,
   "id": "a1157c4b",
   "metadata": {
    "scrolled": true
   },
   "outputs": [
    {
     "name": "stdout",
     "output_type": "stream",
     "text": [
      "208\n",
      "208\n"
     ]
    },
    {
     "name": "stderr",
     "output_type": "stream",
     "text": [
      "/var/folders/j9/hgt6bjfn0n78rvsbnlc10rqh0000gp/T/ipykernel_37694/1849816026.py:1: UserWarning: Boolean Series key will be reindexed to match DataFrame index.\n",
      "  df_3xs_4_3 = df_3xs_zQ2[df_3xs_zQ2['z']>z_cuts[2]][df_3xs_zQ2['z']<z_cuts[3]][df_3xs_zQ2['Q2']>Q2_cuts[3]][df_3xs_zQ2['Q2']<Q2_cuts[4]]\n",
      "/var/folders/j9/hgt6bjfn0n78rvsbnlc10rqh0000gp/T/ipykernel_37694/1849816026.py:1: UserWarning: Boolean Series key will be reindexed to match DataFrame index.\n",
      "  df_3xs_4_3 = df_3xs_zQ2[df_3xs_zQ2['z']>z_cuts[2]][df_3xs_zQ2['z']<z_cuts[3]][df_3xs_zQ2['Q2']>Q2_cuts[3]][df_3xs_zQ2['Q2']<Q2_cuts[4]]\n",
      "/var/folders/j9/hgt6bjfn0n78rvsbnlc10rqh0000gp/T/ipykernel_37694/1849816026.py:1: UserWarning: Boolean Series key will be reindexed to match DataFrame index.\n",
      "  df_3xs_4_3 = df_3xs_zQ2[df_3xs_zQ2['z']>z_cuts[2]][df_3xs_zQ2['z']<z_cuts[3]][df_3xs_zQ2['Q2']>Q2_cuts[3]][df_3xs_zQ2['Q2']<Q2_cuts[4]]\n"
     ]
    }
   ],
   "source": [
    "df_3xs_4_3 = df_3xs_zQ2[df_3xs_zQ2['z']>z_cuts[2]][df_3xs_zQ2['z']<z_cuts[3]][df_3xs_zQ2['Q2']>Q2_cuts[3]][df_3xs_zQ2['Q2']<Q2_cuts[4]]\n",
    "print(len(df_3xs_1_1[df_3xs_1_1['Ebeam']==11.0]))\n",
    "print(len(df_3xs_1_1[df_3xs_1_1['Ebeam']==11.0]['phih'].unique()))"
   ]
  },
  {
   "cell_type": "code",
   "execution_count": null,
   "id": "0a82f3ca",
   "metadata": {
    "scrolled": true
   },
   "outputs": [],
   "source": []
  },
  {
   "cell_type": "code",
   "execution_count": 31,
   "id": "52c5f85c",
   "metadata": {},
   "outputs": [
    {
     "data": {
      "image/png": "[encoded data removed]",
      "text/plain": [
       "<Figure size 640x480 with 1 Axes>"
      ]
     },
     "metadata": {},
     "output_type": "display_data"
    }
   ],
   "source": [
    "fig = plt.figure()\n",
    "ax = fig.add_subplot()\n",
    "phih_1_1 = df_1xs_1_1[df_1xs_1_1['Ebeam']==11.0]['phih']\n",
    "Fuu_1_1 = df_1xs_1_1[df_1xs_1_1['Ebeam']==11.0]['value']\n",
    "for i_phih_1_1 in phih_1_1:\n",
    "    Fuu_value = df_1xs_1_1[df_1xs_1_1['Ebeam']==11.0][df_1xs_1_1['phih']==i_phih_1_1]['value']\n",
    "    Fuu_stat = df_1xs_1_1[df_1xs_1_1['Ebeam']==11.0][df_1xs_1_1['phih']==i_phih_1_1]['stat']\n",
    "    #Fuu_1_1_sys.append(df_1xs_1_1[df_1xs_1_1['Ebeam']==11.0][df_1xs_1_1['phih']==i_phih_1_1]['systabs'])\n",
    "    ax.plot([i_phih_1_1,i_phih_1_1],[Fuu_value-Fuu_stat,Fuu_value+Fuu_stat],color='blue',marker='_')\n",
    "plt.plot(phih_1_1,Fuu_1_1,'bo',label='Eb=11GeV')\n",
    "phih_1_1_sorted = df_1xs_1_1[df_1xs_1_1['Ebeam']==11.0].sort_values(by=['phih'])['phih']\n",
    "#Fuu_1_1_sys = df_1xs_1_1[df_1xs_1_1['Ebeam']==11.0].sort_values(by=['phih'])['error']\n",
    "#ax.fill_between(phih_1_1_sorted,np.asarray(0.01)-np.asarray(Fuu_1_1_sys),np.asarray(0.01)+np.asarray(Fuu_1_1_sys),color='blue',alpha=0.25,linewidth=0,label='sys err')\n",
    "\n",
    "phih_1_1_Eb2 = df_1xs_1_1[df_1xs_1_1['Ebeam']==8.8]['phih']\n",
    "Fuu_1_1_Eb2 = df_1xs_1_1[df_1xs_1_1['Ebeam']==8.8]['value']\n",
    "for i_phih_1_1_Eb2 in phih_1_1_Eb2:\n",
    "    Fuu_value = df_1xs_1_1[df_1xs_1_1['Ebeam']==8.8][df_1xs_1_1['phih']==i_phih_1_1_Eb2]['value']\n",
    "    Fuu_stat = df_1xs_1_1[df_1xs_1_1['Ebeam']==8.8][df_1xs_1_1['phih']==i_phih_1_1_Eb2]['stat']\n",
    "    ax.plot([i_phih_1_1_Eb2,i_phih_1_1_Eb2],[Fuu_value-Fuu_stat,Fuu_value+Fuu_stat],color='blue',marker='_')\n",
    "plt.plot(phih_1_1_Eb2,Fuu_1_1_Eb2,'bo',label='Eb=8.8GeV')\n",
    "phih_1_1_Eb2_sorted = df_1xs_1_1[df_1xs_1_1['Ebeam']==8.8].sort_values(by=['phih'])['phih']\n",
    "#Fuu_1_1_Eb2_sys = df_1xs_1_1[df_1xs_1_1['Ebeam']==8.8].sort_values(by=['phih'])['error']\n",
    "#ax.fill_between(phih_1_1_Eb2_sorted,np.asarray(0.01)-np.asarray(Fuu_1_1_Eb2_sys),np.asarray(0.01)+np.asarray(Fuu_1_1_Eb2_sys),color='blue',alpha=0.25,linewidth=0,label='sys err')\n",
    "\n",
    "plt.xlabel('$\\phi_h$')\n",
    "plt.ylabel('$F_{UU}$')\n",
    "#plt.ylim(0.01,0.2)\n",
    "#plt.yscale('log')\n",
    "for i_phih in phih_bins:\n",
    "    plt.axvline(x=i_phih)\n",
    "#plt.savefig('../Unpol_proposal/Materials/phi.pdf')\n"
   ]
  },
  {
   "cell_type": "code",
   "execution_count": 32,
   "id": "e8763e12",
   "metadata": {
    "scrolled": true
   },
   "outputs": [
    {
     "data": {
      "image/png": "[encoded data removed]",
      "text/plain": [
       "<Figure size 640x480 with 1 Axes>"
      ]
     },
     "metadata": {},
     "output_type": "display_data"
    }
   ],
   "source": [
    "fig = plt.figure()\n",
    "ax = fig.add_subplot()\n",
    "phih_4_1 = df_1xs_4_1[df_1xs_4_1['Ebeam']==11.0]['phih']\n",
    "Fuu_4_1 = df_1xs_4_1[df_1xs_4_1['Ebeam']==11.0]['value']\n",
    "for i_phih_4_1 in phih_4_1:\n",
    "    Fuu_value = df_1xs_4_1[df_1xs_4_1['Ebeam']==11.0][df_1xs_4_1['phih']==i_phih_4_1]['value']\n",
    "    Fuu_stat = df_1xs_4_1[df_1xs_4_1['Ebeam']==11.0][df_1xs_4_1['phih']==i_phih_4_1]['stat']\n",
    "    #Fuu_4_1_sys.append(df_1xs_4_1[df_1xs_4_1['Ebeam']==11.0][df_1xs_4_1['phih']==i_phih_4_1]['systabs'])\n",
    "    ax.plot([i_phih_4_1,i_phih_4_1],[Fuu_value-Fuu_stat,Fuu_value+Fuu_stat],color='blue',marker='_')\n",
    "plt.plot(phih_4_1,Fuu_4_1,'bo',label='Eb=11GeV')\n",
    "phih_4_1_sorted = df_1xs_4_1[df_1xs_4_1['Ebeam']==11.0].sort_values(by=['phih'])['phih']\n",
    "#Fuu_4_1_sys = df_1xs_4_1[df_1xs_4_1['Ebeam']==11.0].sort_values(by=['phih'])['error']\n",
    "#ax.fill_between(phih_4_1_sorted,np.asarray(0.01)-np.asarray(Fuu_4_1_sys),np.asarray(0.01)+np.asarray(Fuu_4_1_sys),color='blue',alpha=0.25,linewidth=0,label='sys err')\n",
    "\n",
    "phih_4_1_Eb2 = df_1xs_4_1[df_1xs_4_1['Ebeam']==8.8]['phih']\n",
    "Fuu_4_1_Eb2 = df_1xs_4_1[df_1xs_4_1['Ebeam']==8.8]['value']\n",
    "for i_phih_4_1_Eb2 in phih_4_1_Eb2:\n",
    "    Fuu_value = df_1xs_4_1[df_1xs_4_1['Ebeam']==8.8][df_1xs_4_1['phih']==i_phih_4_1_Eb2]['value']\n",
    "    Fuu_stat = df_1xs_4_1[df_1xs_4_1['Ebeam']==8.8][df_1xs_4_1['phih']==i_phih_4_1_Eb2]['stat']\n",
    "    ax.plot([i_phih_4_1_Eb2,i_phih_4_1_Eb2],[Fuu_value-Fuu_stat,Fuu_value+Fuu_stat],color='blue',marker='_')\n",
    "plt.plot(phih_4_1_Eb2,Fuu_4_1_Eb2,'bo',label='Eb=8.8GeV')\n",
    "phih_4_1_Eb2_sorted = df_1xs_4_1[df_1xs_4_1['Ebeam']==8.8].sort_values(by=['phih'])['phih']\n",
    "#Fuu_4_1_Eb2_sys = df_1xs_4_1[df_1xs_4_1['Ebeam']==8.8].sort_values(by=['phih'])['error']\n",
    "#ax.fill_between(phih_4_1_Eb2_sorted,np.asarray(0.01)-np.asarray(Fuu_4_1_Eb2_sys),np.asarray(0.01)+np.asarray(Fuu_4_1_Eb2_sys),color='blue',alpha=0.25,linewidth=0,label='sys err')\n",
    "\n",
    "plt.xlabel('$\\phi_h$')\n",
    "plt.ylabel('$F_{UU}$')\n",
    "#plt.ylim(0.002,0.01)\n",
    "#plt.yscale('log')\n",
    "for i_phih in phih_bins:\n",
    "    plt.axvline(x=i_phih)\n",
    "#plt.savefig('../Unpol_proposal/Materials/phi.pdf')\n"
   ]
  },
  {
   "cell_type": "code",
   "execution_count": 33,
   "id": "501b1cfd",
   "metadata": {},
   "outputs": [
    {
     "data": {
      "image/png": "[encoded data removed]",
      "text/plain": [
       "<Figure size 640x480 with 1 Axes>"
      ]
     },
     "metadata": {},
     "output_type": "display_data"
    }
   ],
   "source": [
    "fig = plt.figure()\n",
    "ax = fig.add_subplot()\n",
    "phih_1_1 = df_3xs_1_1[df_3xs_1_1['Ebeam']==11.0]['phih']\n",
    "Fuu_1_1 = df_3xs_1_1[df_3xs_1_1['Ebeam']==11.0]['value']\n",
    "for i_phih_1_1 in phih_1_1:\n",
    "    Fuu_value = df_3xs_1_1[df_3xs_1_1['Ebeam']==11.0][df_3xs_1_1['phih']==i_phih_1_1]['value']\n",
    "    Fuu_stat = df_3xs_1_1[df_3xs_1_1['Ebeam']==11.0][df_3xs_1_1['phih']==i_phih_1_1]['stat']\n",
    "    #Fuu_1_1_sys.append(df_3xs_1_1[df_3xs_1_1['Ebeam']==11.0][df_3xs_1_1['phih']==i_phih_1_1]['systabs'])\n",
    "    ax.plot([i_phih_1_1,i_phih_1_1],[Fuu_value-Fuu_stat,Fuu_value+Fuu_stat],color='red',marker='_')\n",
    "plt.plot(phih_1_1,Fuu_1_1,'ro',label='Eb=11GeV')\n",
    "phih_1_1_sorted = df_3xs_1_1[df_3xs_1_1['Ebeam']==11.0].sort_values(by=['phih'])['phih']\n",
    "#Fuu_1_1_sys = df_3xs_1_1[df_3xs_1_1['Ebeam']==11.0].sort_values(by=['phih'])['error']\n",
    "#ax.fill_between(phih_1_1_sorted,np.asarray(0.01)-np.asarray(Fuu_1_1_sys),np.asarray(0.01)+np.asarray(Fuu_1_1_sys),color='blue',alpha=0.25,linewidth=0,label='sys err')\n",
    "\n",
    "phih_1_1_Eb2 = df_3xs_1_1[df_3xs_1_1['Ebeam']==8.8]['phih']\n",
    "Fuu_1_1_Eb2 = df_3xs_1_1[df_3xs_1_1['Ebeam']==8.8]['value']\n",
    "for i_phih_1_1_Eb2 in phih_1_1_Eb2:\n",
    "    Fuu_value = df_3xs_1_1[df_3xs_1_1['Ebeam']==8.8][df_3xs_1_1['phih']==i_phih_1_1_Eb2]['value']\n",
    "    Fuu_stat = df_3xs_1_1[df_3xs_1_1['Ebeam']==8.8][df_3xs_1_1['phih']==i_phih_1_1_Eb2]['stat']\n",
    "    ax.plot([i_phih_1_1_Eb2,i_phih_1_1_Eb2],[Fuu_value-Fuu_stat,Fuu_value+Fuu_stat],color='red',marker='_')\n",
    "plt.plot(phih_1_1_Eb2,Fuu_1_1_Eb2,'ro',label='Eb=8.8GeV')\n",
    "phih_1_1_Eb2_sorted = df_3xs_1_1[df_3xs_1_1['Ebeam']==8.8].sort_values(by=['phih'])['phih']\n",
    "#Fuu_1_1_Eb2_sys = df_3xs_1_1[df_3xs_1_1['Ebeam']==8.8].sort_values(by=['phih'])['error']\n",
    "#ax.fill_between(phih_1_1_Eb2_sorted,np.asarray(0.01)-np.asarray(Fuu_1_1_Eb2_sys),np.asarray(0.01)+np.asarray(Fuu_1_1_Eb2_sys),color='blue',alpha=0.25,linewidth=0,label='sys err')\n",
    "\n",
    "plt.xlabel('$\\phi_h$')\n",
    "plt.ylabel('$F_{UU}$')\n",
    "#plt.ylim(0.01,0.2)\n",
    "#plt.yscale('log')\n",
    "for i_phih in phih_bins:\n",
    "    plt.axvline(x=i_phih)\n",
    "#plt.savefig('../Unpol_proposal/Materials/3xs_phi.pdf')\n"
   ]
  },
  {
   "cell_type": "code",
   "execution_count": 34,
   "id": "52c8f90f",
   "metadata": {
    "scrolled": true
   },
   "outputs": [
    {
     "name": "stdout",
     "output_type": "stream",
     "text": [
      "-3.141592653589793 -2.5132741228718345\n",
      "38\n",
      "_Fuu_1_1 0.0\n",
      "_phih -2.833609064555283\n",
      "_Fuu_stat 0.29287159613599006\n",
      "-2.5132741228718345 -1.8849555921538759\n",
      "33\n",
      "_Fuu_1_1 0.0\n",
      "_phih -2.223489678921813\n",
      "_Fuu_stat 0.33535353275731955\n",
      "-1.8849555921538759 -1.2566370614359172\n",
      "20\n",
      "_Fuu_1_1 0.0\n",
      "_phih -1.6349804481654024\n",
      "_Fuu_stat 0.4940923856947697\n",
      "-1.2566370614359172 -0.6283185307179586\n",
      "7\n",
      "_Fuu_1_1 0.0\n",
      "_phih -1.0504261349350503\n",
      "_Fuu_stat 1.3223357103368505\n",
      "-0.6283185307179586 0.6283185307179586\n",
      "1\n",
      "_Fuu_1_1 0.0\n",
      "_phih -0.002086\n",
      "_Fuu_stat 3.7575678832116797\n",
      "0.6283185307179586 1.2566370614359172\n",
      "7\n",
      "_Fuu_1_1 0.0\n",
      "_phih 1.0494800798945692\n",
      "_Fuu_stat 1.324118000453992\n",
      "1.2566370614359172 1.8849555921538759\n",
      "20\n",
      "_Fuu_1_1 0.0\n",
      "_phih 1.6346713730644868\n",
      "_Fuu_stat 0.4942697821584596\n",
      "1.8849555921538759 2.5132741228718345\n",
      "33\n",
      "_Fuu_1_1 0.0\n",
      "_phih 2.223418077710132\n",
      "_Fuu_stat 0.3354868793153632\n",
      "2.5132741228718345 3.141592653589793\n",
      "38\n",
      "_Fuu_1_1 0.0\n",
      "_phih 2.8336503217883817\n",
      "_Fuu_stat 0.2928911107822392\n"
     ]
    },
    {
     "name": "stderr",
     "output_type": "stream",
     "text": [
      "/var/folders/j9/hgt6bjfn0n78rvsbnlc10rqh0000gp/T/ipykernel_37694/3498422548.py:10: UserWarning: Boolean Series key will be reindexed to match DataFrame index.\n",
      "  phih_1_1s = df_1xs_1_1[df_1xs_1_1['phih']>=i_phi_left][df_1xs_1_1['phih']<i_phi]['phih'].tolist()\n",
      "/var/folders/j9/hgt6bjfn0n78rvsbnlc10rqh0000gp/T/ipykernel_37694/3498422548.py:11: UserWarning: Boolean Series key will be reindexed to match DataFrame index.\n",
      "  Fuu_1_1s = df_1xs_1_1[df_1xs_1_1['phih']>=i_phi_left][df_1xs_1_1['phih']<i_phi]['value'].tolist()\n",
      "/var/folders/j9/hgt6bjfn0n78rvsbnlc10rqh0000gp/T/ipykernel_37694/3498422548.py:12: UserWarning: Boolean Series key will be reindexed to match DataFrame index.\n",
      "  Fuu_1_1_stats = df_1xs_1_1[df_1xs_1_1['phih']>=i_phi_left][df_1xs_1_1['phih']<i_phi]['stat'].tolist()\n",
      "/var/folders/j9/hgt6bjfn0n78rvsbnlc10rqh0000gp/T/ipykernel_37694/3498422548.py:10: UserWarning: Boolean Series key will be reindexed to match DataFrame index.\n",
      "  phih_1_1s = df_1xs_1_1[df_1xs_1_1['phih']>=i_phi_left][df_1xs_1_1['phih']<i_phi]['phih'].tolist()\n",
      "/var/folders/j9/hgt6bjfn0n78rvsbnlc10rqh0000gp/T/ipykernel_37694/3498422548.py:11: UserWarning: Boolean Series key will be reindexed to match DataFrame index.\n",
      "  Fuu_1_1s = df_1xs_1_1[df_1xs_1_1['phih']>=i_phi_left][df_1xs_1_1['phih']<i_phi]['value'].tolist()\n",
      "/var/folders/j9/hgt6bjfn0n78rvsbnlc10rqh0000gp/T/ipykernel_37694/3498422548.py:12: UserWarning: Boolean Series key will be reindexed to match DataFrame index.\n",
      "  Fuu_1_1_stats = df_1xs_1_1[df_1xs_1_1['phih']>=i_phi_left][df_1xs_1_1['phih']<i_phi]['stat'].tolist()\n",
      "/var/folders/j9/hgt6bjfn0n78rvsbnlc10rqh0000gp/T/ipykernel_37694/3498422548.py:10: UserWarning: Boolean Series key will be reindexed to match DataFrame index.\n",
      "  phih_1_1s = df_1xs_1_1[df_1xs_1_1['phih']>=i_phi_left][df_1xs_1_1['phih']<i_phi]['phih'].tolist()\n",
      "/var/folders/j9/hgt6bjfn0n78rvsbnlc10rqh0000gp/T/ipykernel_37694/3498422548.py:11: UserWarning: Boolean Series key will be reindexed to match DataFrame index.\n",
      "  Fuu_1_1s = df_1xs_1_1[df_1xs_1_1['phih']>=i_phi_left][df_1xs_1_1['phih']<i_phi]['value'].tolist()\n",
      "/var/folders/j9/hgt6bjfn0n78rvsbnlc10rqh0000gp/T/ipykernel_37694/3498422548.py:12: UserWarning: Boolean Series key will be reindexed to match DataFrame index.\n",
      "  Fuu_1_1_stats = df_1xs_1_1[df_1xs_1_1['phih']>=i_phi_left][df_1xs_1_1['phih']<i_phi]['stat'].tolist()\n",
      "/var/folders/j9/hgt6bjfn0n78rvsbnlc10rqh0000gp/T/ipykernel_37694/3498422548.py:10: UserWarning: Boolean Series key will be reindexed to match DataFrame index.\n",
      "  phih_1_1s = df_1xs_1_1[df_1xs_1_1['phih']>=i_phi_left][df_1xs_1_1['phih']<i_phi]['phih'].tolist()\n",
      "/var/folders/j9/hgt6bjfn0n78rvsbnlc10rqh0000gp/T/ipykernel_37694/3498422548.py:11: UserWarning: Boolean Series key will be reindexed to match DataFrame index.\n",
      "  Fuu_1_1s = df_1xs_1_1[df_1xs_1_1['phih']>=i_phi_left][df_1xs_1_1['phih']<i_phi]['value'].tolist()\n",
      "/var/folders/j9/hgt6bjfn0n78rvsbnlc10rqh0000gp/T/ipykernel_37694/3498422548.py:12: UserWarning: Boolean Series key will be reindexed to match DataFrame index.\n",
      "  Fuu_1_1_stats = df_1xs_1_1[df_1xs_1_1['phih']>=i_phi_left][df_1xs_1_1['phih']<i_phi]['stat'].tolist()\n",
      "/var/folders/j9/hgt6bjfn0n78rvsbnlc10rqh0000gp/T/ipykernel_37694/3498422548.py:10: UserWarning: Boolean Series key will be reindexed to match DataFrame index.\n",
      "  phih_1_1s = df_1xs_1_1[df_1xs_1_1['phih']>=i_phi_left][df_1xs_1_1['phih']<i_phi]['phih'].tolist()\n",
      "/var/folders/j9/hgt6bjfn0n78rvsbnlc10rqh0000gp/T/ipykernel_37694/3498422548.py:11: UserWarning: Boolean Series key will be reindexed to match DataFrame index.\n",
      "  Fuu_1_1s = df_1xs_1_1[df_1xs_1_1['phih']>=i_phi_left][df_1xs_1_1['phih']<i_phi]['value'].tolist()\n",
      "/var/folders/j9/hgt6bjfn0n78rvsbnlc10rqh0000gp/T/ipykernel_37694/3498422548.py:12: UserWarning: Boolean Series key will be reindexed to match DataFrame index.\n",
      "  Fuu_1_1_stats = df_1xs_1_1[df_1xs_1_1['phih']>=i_phi_left][df_1xs_1_1['phih']<i_phi]['stat'].tolist()\n",
      "/var/folders/j9/hgt6bjfn0n78rvsbnlc10rqh0000gp/T/ipykernel_37694/3498422548.py:10: UserWarning: Boolean Series key will be reindexed to match DataFrame index.\n",
      "  phih_1_1s = df_1xs_1_1[df_1xs_1_1['phih']>=i_phi_left][df_1xs_1_1['phih']<i_phi]['phih'].tolist()\n",
      "/var/folders/j9/hgt6bjfn0n78rvsbnlc10rqh0000gp/T/ipykernel_37694/3498422548.py:11: UserWarning: Boolean Series key will be reindexed to match DataFrame index.\n",
      "  Fuu_1_1s = df_1xs_1_1[df_1xs_1_1['phih']>=i_phi_left][df_1xs_1_1['phih']<i_phi]['value'].tolist()\n",
      "/var/folders/j9/hgt6bjfn0n78rvsbnlc10rqh0000gp/T/ipykernel_37694/3498422548.py:12: UserWarning: Boolean Series key will be reindexed to match DataFrame index.\n",
      "  Fuu_1_1_stats = df_1xs_1_1[df_1xs_1_1['phih']>=i_phi_left][df_1xs_1_1['phih']<i_phi]['stat'].tolist()\n",
      "/var/folders/j9/hgt6bjfn0n78rvsbnlc10rqh0000gp/T/ipykernel_37694/3498422548.py:10: UserWarning: Boolean Series key will be reindexed to match DataFrame index.\n",
      "  phih_1_1s = df_1xs_1_1[df_1xs_1_1['phih']>=i_phi_left][df_1xs_1_1['phih']<i_phi]['phih'].tolist()\n",
      "/var/folders/j9/hgt6bjfn0n78rvsbnlc10rqh0000gp/T/ipykernel_37694/3498422548.py:11: UserWarning: Boolean Series key will be reindexed to match DataFrame index.\n",
      "  Fuu_1_1s = df_1xs_1_1[df_1xs_1_1['phih']>=i_phi_left][df_1xs_1_1['phih']<i_phi]['value'].tolist()\n",
      "/var/folders/j9/hgt6bjfn0n78rvsbnlc10rqh0000gp/T/ipykernel_37694/3498422548.py:12: UserWarning: Boolean Series key will be reindexed to match DataFrame index.\n",
      "  Fuu_1_1_stats = df_1xs_1_1[df_1xs_1_1['phih']>=i_phi_left][df_1xs_1_1['phih']<i_phi]['stat'].tolist()\n",
      "/var/folders/j9/hgt6bjfn0n78rvsbnlc10rqh0000gp/T/ipykernel_37694/3498422548.py:10: UserWarning: Boolean Series key will be reindexed to match DataFrame index.\n",
      "  phih_1_1s = df_1xs_1_1[df_1xs_1_1['phih']>=i_phi_left][df_1xs_1_1['phih']<i_phi]['phih'].tolist()\n",
      "/var/folders/j9/hgt6bjfn0n78rvsbnlc10rqh0000gp/T/ipykernel_37694/3498422548.py:11: UserWarning: Boolean Series key will be reindexed to match DataFrame index.\n",
      "  Fuu_1_1s = df_1xs_1_1[df_1xs_1_1['phih']>=i_phi_left][df_1xs_1_1['phih']<i_phi]['value'].tolist()\n",
      "/var/folders/j9/hgt6bjfn0n78rvsbnlc10rqh0000gp/T/ipykernel_37694/3498422548.py:12: UserWarning: Boolean Series key will be reindexed to match DataFrame index.\n",
      "  Fuu_1_1_stats = df_1xs_1_1[df_1xs_1_1['phih']>=i_phi_left][df_1xs_1_1['phih']<i_phi]['stat'].tolist()\n"
     ]
    },
    {
     "data": {
      "text/plain": [
       "Text(0, 0.5, '$F_{UU}$')"
      ]
     },
     "execution_count": 34,
     "metadata": {},
     "output_type": "execute_result"
    },
    {
     "data": {
      "image/png": "[encoded data removed]",
      "text/plain": [
       "<Figure size 640x480 with 1 Axes>"
      ]
     },
     "metadata": {},
     "output_type": "display_data"
    }
   ],
   "source": [
    "fig = plt.figure()\n",
    "ax = fig.add_subplot()\n",
    "phih_1_1=[]\n",
    "Fuu_1_1=[]\n",
    "Fuu_1_1_stat=[]\n",
    "Fuu_1_1_sys=[]\n",
    "i_phi_left = phih_bins[0]\n",
    "for i_phi in phih_bins[1:]:\n",
    "    print(i_phi_left,i_phi)\n",
    "    phih_1_1s = df_1xs_1_1[df_1xs_1_1['phih']>=i_phi_left][df_1xs_1_1['phih']<i_phi]['phih'].tolist()\n",
    "    Fuu_1_1s = df_1xs_1_1[df_1xs_1_1['phih']>=i_phi_left][df_1xs_1_1['phih']<i_phi]['value'].tolist()\n",
    "    Fuu_1_1_stats = df_1xs_1_1[df_1xs_1_1['phih']>=i_phi_left][df_1xs_1_1['phih']<i_phi]['stat'].tolist()\n",
    "    print(len(phih_1_1s))\n",
    "    \n",
    "    if len(phih_1_1s)>0:  \n",
    "        #print('phih',phih_1_1s)\n",
    "        #print('Fuu',Fuu_1_1s)\n",
    "        #print('Fuu_stat',Fuu_1_1_stats)\n",
    "        _Fuu_1_1 = Get_weighted_average(Fuu_1_1s,Fuu_1_1_stats)[0]\n",
    "        _Fuu_1_1_stat = Get_weighted_average(Fuu_1_1s,Fuu_1_1_stats)[1]\n",
    "        _phih_1_1= Get_weighted_average_phi(phih_1_1s,Fuu_1_1_stats)[0]\n",
    "        print('_Fuu_1_1',_Fuu_1_1)\n",
    "        print('_phih',_phih_1_1)\n",
    "        print('_Fuu_stat',_Fuu_1_1_stat)\n",
    "        Fuu_1_1.append(_Fuu_1_1)\n",
    "        phih_1_1.append(_phih_1_1)\n",
    "        Fuu_1_1_stat.append(_Fuu_1_1_stat)\n",
    "        Fuu_1_1_sys.append(Sys_table[0][0]*_Fuu_1_1)\n",
    "        #print(Fuu_1_1,phih_1_1)\n",
    "        ax.plot([_phih_1_1,_phih_1_1],[_Fuu_1_1-_Fuu_1_1_stat,_Fuu_1_1+_Fuu_1_1_stat],color='blue',marker='_')\n",
    "    i_phi_left = i_phi\n",
    "    #print('phileft',i_phi_left)\n",
    "plt.plot(phih_1_1,Fuu_1_1,'bo')\n",
    "plt.xlabel('$\\phi_h$',fontsize=16)\n",
    "plt.ylabel('$F_{UU}$',fontsize=16)"
   ]
  },
  {
   "cell_type": "code",
   "execution_count": 35,
   "id": "5edcd85d",
   "metadata": {
    "scrolled": true
   },
   "outputs": [
    {
     "name": "stdout",
     "output_type": "stream",
     "text": [
      "-3.141592653589793 -2.5132741228718345\n",
      "19\n",
      "-2.5132741228718345 -1.8849555921538759\n",
      "17\n",
      "-1.8849555921538759 -1.2566370614359172\n",
      "10\n",
      "-1.2566370614359172 -0.6283185307179586\n",
      "4\n",
      "-0.6283185307179586 0.6283185307179586\n",
      "1\n",
      "0.6283185307179586 1.2566370614359172\n",
      "3\n",
      "1.2566370614359172 1.8849555921538759\n",
      "9\n",
      "1.8849555921538759 2.5132741228718345\n",
      "17\n",
      "2.5132741228718345 3.141592653589793\n",
      "19\n"
     ]
    },
    {
     "name": "stderr",
     "output_type": "stream",
     "text": [
      "/var/folders/j9/hgt6bjfn0n78rvsbnlc10rqh0000gp/T/ipykernel_37694/2884387368.py:10: UserWarning: Boolean Series key will be reindexed to match DataFrame index.\n",
      "  phih_1_2s = df_1xs_1_2[df_1xs_1_2['phih']>=i_phi_left][df_1xs_1_2['phih']<i_phi]['phih'].tolist()\n",
      "/var/folders/j9/hgt6bjfn0n78rvsbnlc10rqh0000gp/T/ipykernel_37694/2884387368.py:11: UserWarning: Boolean Series key will be reindexed to match DataFrame index.\n",
      "  Fuu_1_2s = df_1xs_1_2[df_1xs_1_2['phih']>=i_phi_left][df_1xs_1_2['phih']<i_phi]['value'].tolist()\n",
      "/var/folders/j9/hgt6bjfn0n78rvsbnlc10rqh0000gp/T/ipykernel_37694/2884387368.py:12: UserWarning: Boolean Series key will be reindexed to match DataFrame index.\n",
      "  Fuu_1_2_stats = df_1xs_1_2[df_1xs_1_2['phih']>=i_phi_left][df_1xs_1_2['phih']<i_phi]['stat'].tolist()\n",
      "/var/folders/j9/hgt6bjfn0n78rvsbnlc10rqh0000gp/T/ipykernel_37694/2884387368.py:10: UserWarning: Boolean Series key will be reindexed to match DataFrame index.\n",
      "  phih_1_2s = df_1xs_1_2[df_1xs_1_2['phih']>=i_phi_left][df_1xs_1_2['phih']<i_phi]['phih'].tolist()\n",
      "/var/folders/j9/hgt6bjfn0n78rvsbnlc10rqh0000gp/T/ipykernel_37694/2884387368.py:11: UserWarning: Boolean Series key will be reindexed to match DataFrame index.\n",
      "  Fuu_1_2s = df_1xs_1_2[df_1xs_1_2['phih']>=i_phi_left][df_1xs_1_2['phih']<i_phi]['value'].tolist()\n",
      "/var/folders/j9/hgt6bjfn0n78rvsbnlc10rqh0000gp/T/ipykernel_37694/2884387368.py:12: UserWarning: Boolean Series key will be reindexed to match DataFrame index.\n",
      "  Fuu_1_2_stats = df_1xs_1_2[df_1xs_1_2['phih']>=i_phi_left][df_1xs_1_2['phih']<i_phi]['stat'].tolist()\n",
      "/var/folders/j9/hgt6bjfn0n78rvsbnlc10rqh0000gp/T/ipykernel_37694/2884387368.py:10: UserWarning: Boolean Series key will be reindexed to match DataFrame index.\n",
      "  phih_1_2s = df_1xs_1_2[df_1xs_1_2['phih']>=i_phi_left][df_1xs_1_2['phih']<i_phi]['phih'].tolist()\n",
      "/var/folders/j9/hgt6bjfn0n78rvsbnlc10rqh0000gp/T/ipykernel_37694/2884387368.py:11: UserWarning: Boolean Series key will be reindexed to match DataFrame index.\n",
      "  Fuu_1_2s = df_1xs_1_2[df_1xs_1_2['phih']>=i_phi_left][df_1xs_1_2['phih']<i_phi]['value'].tolist()\n",
      "/var/folders/j9/hgt6bjfn0n78rvsbnlc10rqh0000gp/T/ipykernel_37694/2884387368.py:12: UserWarning: Boolean Series key will be reindexed to match DataFrame index.\n",
      "  Fuu_1_2_stats = df_1xs_1_2[df_1xs_1_2['phih']>=i_phi_left][df_1xs_1_2['phih']<i_phi]['stat'].tolist()\n",
      "/var/folders/j9/hgt6bjfn0n78rvsbnlc10rqh0000gp/T/ipykernel_37694/2884387368.py:10: UserWarning: Boolean Series key will be reindexed to match DataFrame index.\n",
      "  phih_1_2s = df_1xs_1_2[df_1xs_1_2['phih']>=i_phi_left][df_1xs_1_2['phih']<i_phi]['phih'].tolist()\n",
      "/var/folders/j9/hgt6bjfn0n78rvsbnlc10rqh0000gp/T/ipykernel_37694/2884387368.py:11: UserWarning: Boolean Series key will be reindexed to match DataFrame index.\n",
      "  Fuu_1_2s = df_1xs_1_2[df_1xs_1_2['phih']>=i_phi_left][df_1xs_1_2['phih']<i_phi]['value'].tolist()\n",
      "/var/folders/j9/hgt6bjfn0n78rvsbnlc10rqh0000gp/T/ipykernel_37694/2884387368.py:12: UserWarning: Boolean Series key will be reindexed to match DataFrame index.\n",
      "  Fuu_1_2_stats = df_1xs_1_2[df_1xs_1_2['phih']>=i_phi_left][df_1xs_1_2['phih']<i_phi]['stat'].tolist()\n",
      "/var/folders/j9/hgt6bjfn0n78rvsbnlc10rqh0000gp/T/ipykernel_37694/2884387368.py:10: UserWarning: Boolean Series key will be reindexed to match DataFrame index.\n",
      "  phih_1_2s = df_1xs_1_2[df_1xs_1_2['phih']>=i_phi_left][df_1xs_1_2['phih']<i_phi]['phih'].tolist()\n",
      "/var/folders/j9/hgt6bjfn0n78rvsbnlc10rqh0000gp/T/ipykernel_37694/2884387368.py:11: UserWarning: Boolean Series key will be reindexed to match DataFrame index.\n",
      "  Fuu_1_2s = df_1xs_1_2[df_1xs_1_2['phih']>=i_phi_left][df_1xs_1_2['phih']<i_phi]['value'].tolist()\n",
      "/var/folders/j9/hgt6bjfn0n78rvsbnlc10rqh0000gp/T/ipykernel_37694/2884387368.py:12: UserWarning: Boolean Series key will be reindexed to match DataFrame index.\n",
      "  Fuu_1_2_stats = df_1xs_1_2[df_1xs_1_2['phih']>=i_phi_left][df_1xs_1_2['phih']<i_phi]['stat'].tolist()\n",
      "/var/folders/j9/hgt6bjfn0n78rvsbnlc10rqh0000gp/T/ipykernel_37694/2884387368.py:10: UserWarning: Boolean Series key will be reindexed to match DataFrame index.\n",
      "  phih_1_2s = df_1xs_1_2[df_1xs_1_2['phih']>=i_phi_left][df_1xs_1_2['phih']<i_phi]['phih'].tolist()\n",
      "/var/folders/j9/hgt6bjfn0n78rvsbnlc10rqh0000gp/T/ipykernel_37694/2884387368.py:11: UserWarning: Boolean Series key will be reindexed to match DataFrame index.\n",
      "  Fuu_1_2s = df_1xs_1_2[df_1xs_1_2['phih']>=i_phi_left][df_1xs_1_2['phih']<i_phi]['value'].tolist()\n",
      "/var/folders/j9/hgt6bjfn0n78rvsbnlc10rqh0000gp/T/ipykernel_37694/2884387368.py:12: UserWarning: Boolean Series key will be reindexed to match DataFrame index.\n",
      "  Fuu_1_2_stats = df_1xs_1_2[df_1xs_1_2['phih']>=i_phi_left][df_1xs_1_2['phih']<i_phi]['stat'].tolist()\n",
      "/var/folders/j9/hgt6bjfn0n78rvsbnlc10rqh0000gp/T/ipykernel_37694/2884387368.py:10: UserWarning: Boolean Series key will be reindexed to match DataFrame index.\n",
      "  phih_1_2s = df_1xs_1_2[df_1xs_1_2['phih']>=i_phi_left][df_1xs_1_2['phih']<i_phi]['phih'].tolist()\n",
      "/var/folders/j9/hgt6bjfn0n78rvsbnlc10rqh0000gp/T/ipykernel_37694/2884387368.py:11: UserWarning: Boolean Series key will be reindexed to match DataFrame index.\n",
      "  Fuu_1_2s = df_1xs_1_2[df_1xs_1_2['phih']>=i_phi_left][df_1xs_1_2['phih']<i_phi]['value'].tolist()\n",
      "/var/folders/j9/hgt6bjfn0n78rvsbnlc10rqh0000gp/T/ipykernel_37694/2884387368.py:12: UserWarning: Boolean Series key will be reindexed to match DataFrame index.\n",
      "  Fuu_1_2_stats = df_1xs_1_2[df_1xs_1_2['phih']>=i_phi_left][df_1xs_1_2['phih']<i_phi]['stat'].tolist()\n",
      "/var/folders/j9/hgt6bjfn0n78rvsbnlc10rqh0000gp/T/ipykernel_37694/2884387368.py:10: UserWarning: Boolean Series key will be reindexed to match DataFrame index.\n",
      "  phih_1_2s = df_1xs_1_2[df_1xs_1_2['phih']>=i_phi_left][df_1xs_1_2['phih']<i_phi]['phih'].tolist()\n",
      "/var/folders/j9/hgt6bjfn0n78rvsbnlc10rqh0000gp/T/ipykernel_37694/2884387368.py:11: UserWarning: Boolean Series key will be reindexed to match DataFrame index.\n",
      "  Fuu_1_2s = df_1xs_1_2[df_1xs_1_2['phih']>=i_phi_left][df_1xs_1_2['phih']<i_phi]['value'].tolist()\n",
      "/var/folders/j9/hgt6bjfn0n78rvsbnlc10rqh0000gp/T/ipykernel_37694/2884387368.py:12: UserWarning: Boolean Series key will be reindexed to match DataFrame index.\n",
      "  Fuu_1_2_stats = df_1xs_1_2[df_1xs_1_2['phih']>=i_phi_left][df_1xs_1_2['phih']<i_phi]['stat'].tolist()\n"
     ]
    },
    {
     "data": {
      "text/plain": [
       "[<matplotlib.lines.Line2D at 0x12118d7e0>]"
      ]
     },
     "execution_count": 35,
     "metadata": {},
     "output_type": "execute_result"
    },
    {
     "data": {
      "image/png": "[encoded data removed]",
      "text/plain": [
       "<Figure size 640x480 with 1 Axes>"
      ]
     },
     "metadata": {},
     "output_type": "display_data"
    }
   ],
   "source": [
    "fig = plt.figure()\n",
    "ax = fig.add_subplot()\n",
    "phih_1_2=[]\n",
    "Fuu_1_2=[]\n",
    "Fuu_1_2_stat=[]\n",
    "Fuu_1_2_sys=[]\n",
    "i_phi_left = phih_bins[0]\n",
    "for i_phi in phih_bins[1:]:\n",
    "    print(i_phi_left,i_phi)\n",
    "    phih_1_2s = df_1xs_1_2[df_1xs_1_2['phih']>=i_phi_left][df_1xs_1_2['phih']<i_phi]['phih'].tolist()\n",
    "    Fuu_1_2s = df_1xs_1_2[df_1xs_1_2['phih']>=i_phi_left][df_1xs_1_2['phih']<i_phi]['value'].tolist()\n",
    "    Fuu_1_2_stats = df_1xs_1_2[df_1xs_1_2['phih']>=i_phi_left][df_1xs_1_2['phih']<i_phi]['stat'].tolist()\n",
    "    print(len(phih_1_2s))\n",
    "    \n",
    "    if len(phih_1_2s)>0:  \n",
    "        #print('phih',phih_1_2s)\n",
    "        #print('Fuu',Fuu_1_2s)\n",
    "        #print('Fuu_stat',Fuu_1_2_stats)\n",
    "        _Fuu_1_2 = Get_weighted_average(Fuu_1_2s,Fuu_1_2_stats)[0]\n",
    "        _Fuu_1_2_stat = Get_weighted_average(Fuu_1_2s,Fuu_1_2_stats)[1]\n",
    "        _phih_1_2= Get_weighted_average_phi(phih_1_2s,Fuu_1_2_stats)[0]\n",
    "        #print('_Fuu_1_2',_Fuu_1_2)\n",
    "        #print('_phih',_phih_1_2)\n",
    "        #print('_Fuu_stat',_Fuu_1_2_stat)\n",
    "        Fuu_1_2.append(_Fuu_1_2)\n",
    "        phih_1_2.append(_phih_1_2)\n",
    "        Fuu_1_2_stat.append(_Fuu_1_2_stat)\n",
    "        Fuu_1_2_sys.append(Sys_table[0][1]*_Fuu_1_2)\n",
    "        #print(Fuu_1_2,phih_1_2)\n",
    "        ax.plot([_phih_1_2,_phih_1_2],[_Fuu_1_2-_Fuu_1_2_stat,_Fuu_1_2+_Fuu_1_2_stat],color='blue',marker='_')\n",
    "    i_phi_left = i_phi\n",
    "    #print('phileft',i_phi_left)\n",
    "plt.plot(phih_1_2,Fuu_1_2,'bo')"
   ]
  },
  {
   "cell_type": "code",
   "execution_count": 36,
   "id": "98d71ccb",
   "metadata": {
    "scrolled": true
   },
   "outputs": [
    {
     "name": "stdout",
     "output_type": "stream",
     "text": [
      "-3.141592653589793 -2.5132741228718345\n",
      "10\n",
      "-2.5132741228718345 -1.8849555921538759\n",
      "9\n",
      "-1.8849555921538759 -1.2566370614359172\n",
      "5\n",
      "-1.2566370614359172 -0.6283185307179586\n",
      "2\n",
      "-0.6283185307179586 0.6283185307179586\n",
      "2\n",
      "0.6283185307179586 1.2566370614359172\n",
      "2\n",
      "1.2566370614359172 1.8849555921538759\n",
      "7\n",
      "1.8849555921538759 2.5132741228718345\n",
      "8\n",
      "2.5132741228718345 3.141592653589793\n",
      "10\n"
     ]
    },
    {
     "name": "stderr",
     "output_type": "stream",
     "text": [
      "/var/folders/j9/hgt6bjfn0n78rvsbnlc10rqh0000gp/T/ipykernel_37694/2565403742.py:10: UserWarning: Boolean Series key will be reindexed to match DataFrame index.\n",
      "  phih_1_3s = df_1xs_1_3[df_1xs_1_3['phih']>=i_phi_left][df_1xs_1_3['phih']<i_phi]['phih'].tolist()\n",
      "/var/folders/j9/hgt6bjfn0n78rvsbnlc10rqh0000gp/T/ipykernel_37694/2565403742.py:11: UserWarning: Boolean Series key will be reindexed to match DataFrame index.\n",
      "  Fuu_1_3s = df_1xs_1_3[df_1xs_1_3['phih']>=i_phi_left][df_1xs_1_3['phih']<i_phi]['value'].tolist()\n",
      "/var/folders/j9/hgt6bjfn0n78rvsbnlc10rqh0000gp/T/ipykernel_37694/2565403742.py:12: UserWarning: Boolean Series key will be reindexed to match DataFrame index.\n",
      "  Fuu_1_3_stats = df_1xs_1_3[df_1xs_1_3['phih']>=i_phi_left][df_1xs_1_3['phih']<i_phi]['stat'].tolist()\n",
      "/var/folders/j9/hgt6bjfn0n78rvsbnlc10rqh0000gp/T/ipykernel_37694/2565403742.py:10: UserWarning: Boolean Series key will be reindexed to match DataFrame index.\n",
      "  phih_1_3s = df_1xs_1_3[df_1xs_1_3['phih']>=i_phi_left][df_1xs_1_3['phih']<i_phi]['phih'].tolist()\n",
      "/var/folders/j9/hgt6bjfn0n78rvsbnlc10rqh0000gp/T/ipykernel_37694/2565403742.py:11: UserWarning: Boolean Series key will be reindexed to match DataFrame index.\n",
      "  Fuu_1_3s = df_1xs_1_3[df_1xs_1_3['phih']>=i_phi_left][df_1xs_1_3['phih']<i_phi]['value'].tolist()\n",
      "/var/folders/j9/hgt6bjfn0n78rvsbnlc10rqh0000gp/T/ipykernel_37694/2565403742.py:12: UserWarning: Boolean Series key will be reindexed to match DataFrame index.\n",
      "  Fuu_1_3_stats = df_1xs_1_3[df_1xs_1_3['phih']>=i_phi_left][df_1xs_1_3['phih']<i_phi]['stat'].tolist()\n",
      "/var/folders/j9/hgt6bjfn0n78rvsbnlc10rqh0000gp/T/ipykernel_37694/2565403742.py:10: UserWarning: Boolean Series key will be reindexed to match DataFrame index.\n",
      "  phih_1_3s = df_1xs_1_3[df_1xs_1_3['phih']>=i_phi_left][df_1xs_1_3['phih']<i_phi]['phih'].tolist()\n",
      "/var/folders/j9/hgt6bjfn0n78rvsbnlc10rqh0000gp/T/ipykernel_37694/2565403742.py:11: UserWarning: Boolean Series key will be reindexed to match DataFrame index.\n",
      "  Fuu_1_3s = df_1xs_1_3[df_1xs_1_3['phih']>=i_phi_left][df_1xs_1_3['phih']<i_phi]['value'].tolist()\n",
      "/var/folders/j9/hgt6bjfn0n78rvsbnlc10rqh0000gp/T/ipykernel_37694/2565403742.py:12: UserWarning: Boolean Series key will be reindexed to match DataFrame index.\n",
      "  Fuu_1_3_stats = df_1xs_1_3[df_1xs_1_3['phih']>=i_phi_left][df_1xs_1_3['phih']<i_phi]['stat'].tolist()\n",
      "/var/folders/j9/hgt6bjfn0n78rvsbnlc10rqh0000gp/T/ipykernel_37694/2565403742.py:10: UserWarning: Boolean Series key will be reindexed to match DataFrame index.\n",
      "  phih_1_3s = df_1xs_1_3[df_1xs_1_3['phih']>=i_phi_left][df_1xs_1_3['phih']<i_phi]['phih'].tolist()\n",
      "/var/folders/j9/hgt6bjfn0n78rvsbnlc10rqh0000gp/T/ipykernel_37694/2565403742.py:11: UserWarning: Boolean Series key will be reindexed to match DataFrame index.\n",
      "  Fuu_1_3s = df_1xs_1_3[df_1xs_1_3['phih']>=i_phi_left][df_1xs_1_3['phih']<i_phi]['value'].tolist()\n",
      "/var/folders/j9/hgt6bjfn0n78rvsbnlc10rqh0000gp/T/ipykernel_37694/2565403742.py:12: UserWarning: Boolean Series key will be reindexed to match DataFrame index.\n",
      "  Fuu_1_3_stats = df_1xs_1_3[df_1xs_1_3['phih']>=i_phi_left][df_1xs_1_3['phih']<i_phi]['stat'].tolist()\n",
      "/var/folders/j9/hgt6bjfn0n78rvsbnlc10rqh0000gp/T/ipykernel_37694/2565403742.py:10: UserWarning: Boolean Series key will be reindexed to match DataFrame index.\n",
      "  phih_1_3s = df_1xs_1_3[df_1xs_1_3['phih']>=i_phi_left][df_1xs_1_3['phih']<i_phi]['phih'].tolist()\n",
      "/var/folders/j9/hgt6bjfn0n78rvsbnlc10rqh0000gp/T/ipykernel_37694/2565403742.py:11: UserWarning: Boolean Series key will be reindexed to match DataFrame index.\n",
      "  Fuu_1_3s = df_1xs_1_3[df_1xs_1_3['phih']>=i_phi_left][df_1xs_1_3['phih']<i_phi]['value'].tolist()\n",
      "/var/folders/j9/hgt6bjfn0n78rvsbnlc10rqh0000gp/T/ipykernel_37694/2565403742.py:12: UserWarning: Boolean Series key will be reindexed to match DataFrame index.\n",
      "  Fuu_1_3_stats = df_1xs_1_3[df_1xs_1_3['phih']>=i_phi_left][df_1xs_1_3['phih']<i_phi]['stat'].tolist()\n",
      "/var/folders/j9/hgt6bjfn0n78rvsbnlc10rqh0000gp/T/ipykernel_37694/2565403742.py:10: UserWarning: Boolean Series key will be reindexed to match DataFrame index.\n",
      "  phih_1_3s = df_1xs_1_3[df_1xs_1_3['phih']>=i_phi_left][df_1xs_1_3['phih']<i_phi]['phih'].tolist()\n",
      "/var/folders/j9/hgt6bjfn0n78rvsbnlc10rqh0000gp/T/ipykernel_37694/2565403742.py:11: UserWarning: Boolean Series key will be reindexed to match DataFrame index.\n",
      "  Fuu_1_3s = df_1xs_1_3[df_1xs_1_3['phih']>=i_phi_left][df_1xs_1_3['phih']<i_phi]['value'].tolist()\n",
      "/var/folders/j9/hgt6bjfn0n78rvsbnlc10rqh0000gp/T/ipykernel_37694/2565403742.py:12: UserWarning: Boolean Series key will be reindexed to match DataFrame index.\n",
      "  Fuu_1_3_stats = df_1xs_1_3[df_1xs_1_3['phih']>=i_phi_left][df_1xs_1_3['phih']<i_phi]['stat'].tolist()\n",
      "/var/folders/j9/hgt6bjfn0n78rvsbnlc10rqh0000gp/T/ipykernel_37694/2565403742.py:10: UserWarning: Boolean Series key will be reindexed to match DataFrame index.\n",
      "  phih_1_3s = df_1xs_1_3[df_1xs_1_3['phih']>=i_phi_left][df_1xs_1_3['phih']<i_phi]['phih'].tolist()\n",
      "/var/folders/j9/hgt6bjfn0n78rvsbnlc10rqh0000gp/T/ipykernel_37694/2565403742.py:11: UserWarning: Boolean Series key will be reindexed to match DataFrame index.\n",
      "  Fuu_1_3s = df_1xs_1_3[df_1xs_1_3['phih']>=i_phi_left][df_1xs_1_3['phih']<i_phi]['value'].tolist()\n",
      "/var/folders/j9/hgt6bjfn0n78rvsbnlc10rqh0000gp/T/ipykernel_37694/2565403742.py:12: UserWarning: Boolean Series key will be reindexed to match DataFrame index.\n",
      "  Fuu_1_3_stats = df_1xs_1_3[df_1xs_1_3['phih']>=i_phi_left][df_1xs_1_3['phih']<i_phi]['stat'].tolist()\n",
      "/var/folders/j9/hgt6bjfn0n78rvsbnlc10rqh0000gp/T/ipykernel_37694/2565403742.py:10: UserWarning: Boolean Series key will be reindexed to match DataFrame index.\n",
      "  phih_1_3s = df_1xs_1_3[df_1xs_1_3['phih']>=i_phi_left][df_1xs_1_3['phih']<i_phi]['phih'].tolist()\n",
      "/var/folders/j9/hgt6bjfn0n78rvsbnlc10rqh0000gp/T/ipykernel_37694/2565403742.py:11: UserWarning: Boolean Series key will be reindexed to match DataFrame index.\n",
      "  Fuu_1_3s = df_1xs_1_3[df_1xs_1_3['phih']>=i_phi_left][df_1xs_1_3['phih']<i_phi]['value'].tolist()\n",
      "/var/folders/j9/hgt6bjfn0n78rvsbnlc10rqh0000gp/T/ipykernel_37694/2565403742.py:12: UserWarning: Boolean Series key will be reindexed to match DataFrame index.\n",
      "  Fuu_1_3_stats = df_1xs_1_3[df_1xs_1_3['phih']>=i_phi_left][df_1xs_1_3['phih']<i_phi]['stat'].tolist()\n"
     ]
    },
    {
     "data": {
      "text/plain": [
       "[<matplotlib.lines.Line2D at 0x120f118a0>]"
      ]
     },
     "execution_count": 36,
     "metadata": {},
     "output_type": "execute_result"
    },
    {
     "data": {
      "image/png": "[encoded data removed]",
      "text/plain": [
       "<Figure size 640x480 with 1 Axes>"
      ]
     },
     "metadata": {},
     "output_type": "display_data"
    }
   ],
   "source": [
    "fig = plt.figure()\n",
    "ax = fig.add_subplot()\n",
    "phih_1_3=[]\n",
    "Fuu_1_3=[]\n",
    "Fuu_1_3_stat=[]\n",
    "Fuu_1_3_sys=[]\n",
    "i_phi_left = phih_bins[0]\n",
    "for i_phi in phih_bins[1:]:\n",
    "    print(i_phi_left,i_phi)\n",
    "    phih_1_3s = df_1xs_1_3[df_1xs_1_3['phih']>=i_phi_left][df_1xs_1_3['phih']<i_phi]['phih'].tolist()\n",
    "    Fuu_1_3s = df_1xs_1_3[df_1xs_1_3['phih']>=i_phi_left][df_1xs_1_3['phih']<i_phi]['value'].tolist()\n",
    "    Fuu_1_3_stats = df_1xs_1_3[df_1xs_1_3['phih']>=i_phi_left][df_1xs_1_3['phih']<i_phi]['stat'].tolist()\n",
    "    print(len(phih_1_3s))\n",
    "    \n",
    "    if len(phih_1_3s)>0:  \n",
    "        #print('phih',phih_1_3s)\n",
    "        #print('Fuu',Fuu_1_3s)\n",
    "        #print('Fuu_stat',Fuu_1_3_stats)\n",
    "        _Fuu_1_3 = Get_weighted_average(Fuu_1_3s,Fuu_1_3_stats)[0]\n",
    "        _Fuu_1_3_stat = Get_weighted_average(Fuu_1_3s,Fuu_1_3_stats)[1]\n",
    "        _phih_1_3= Get_weighted_average_phi(phih_1_3s,Fuu_1_3_stats)[0]\n",
    "        #print('_Fuu_1_3',_Fuu_1_3)\n",
    "        #print('_phih',_phih_1_3)\n",
    "        #print('_Fuu_stat',_Fuu_1_3_stat)\n",
    "        Fuu_1_3.append(_Fuu_1_3)\n",
    "        phih_1_3.append(_phih_1_3)\n",
    "        Fuu_1_3_stat.append(_Fuu_1_3_stat)\n",
    "        Fuu_1_3_sys.append(Sys_table[0][2]*_Fuu_1_3)\n",
    "        #print(Fuu_1_3,phih_1_3)\n",
    "        ax.plot([_phih_1_3,_phih_1_3],[_Fuu_1_3-_Fuu_1_3_stat,_Fuu_1_3+_Fuu_1_3_stat],color='blue',marker='_')\n",
    "    i_phi_left = i_phi\n",
    "    #print('phileft',i_phi_left)\n",
    "plt.plot(phih_1_3,Fuu_1_3,'bo')"
   ]
  },
  {
   "cell_type": "code",
   "execution_count": 37,
   "id": "78c56c02",
   "metadata": {
    "scrolled": true
   },
   "outputs": [
    {
     "name": "stdout",
     "output_type": "stream",
     "text": [
      "-3.141592653589793 -2.5132741228718345\n",
      "40\n",
      "-2.5132741228718345 -1.8849555921538759\n",
      "40\n",
      "-1.8849555921538759 -1.2566370614359172\n",
      "42\n",
      "-1.2566370614359172 -0.6283185307179586\n",
      "32\n",
      "-0.6283185307179586 0.6283185307179586\n",
      "30\n",
      "0.6283185307179586 1.2566370614359172\n",
      "32\n",
      "1.2566370614359172 1.8849555921538759\n",
      "42\n",
      "1.8849555921538759 2.5132741228718345\n",
      "40\n",
      "2.5132741228718345 3.141592653589793\n",
      "40\n"
     ]
    },
    {
     "name": "stderr",
     "output_type": "stream",
     "text": [
      "/var/folders/j9/hgt6bjfn0n78rvsbnlc10rqh0000gp/T/ipykernel_37694/1848739742.py:10: UserWarning: Boolean Series key will be reindexed to match DataFrame index.\n",
      "  phih_2_1s = df_1xs_2_1[df_1xs_2_1['phih']>=i_phi_left][df_1xs_2_1['phih']<i_phi]['phih'].tolist()\n",
      "/var/folders/j9/hgt6bjfn0n78rvsbnlc10rqh0000gp/T/ipykernel_37694/1848739742.py:11: UserWarning: Boolean Series key will be reindexed to match DataFrame index.\n",
      "  Fuu_2_1s = df_1xs_2_1[df_1xs_2_1['phih']>=i_phi_left][df_1xs_2_1['phih']<i_phi]['value'].tolist()\n",
      "/var/folders/j9/hgt6bjfn0n78rvsbnlc10rqh0000gp/T/ipykernel_37694/1848739742.py:12: UserWarning: Boolean Series key will be reindexed to match DataFrame index.\n",
      "  Fuu_2_1_stats = df_1xs_2_1[df_1xs_2_1['phih']>=i_phi_left][df_1xs_2_1['phih']<i_phi]['stat'].tolist()\n",
      "/var/folders/j9/hgt6bjfn0n78rvsbnlc10rqh0000gp/T/ipykernel_37694/1848739742.py:10: UserWarning: Boolean Series key will be reindexed to match DataFrame index.\n",
      "  phih_2_1s = df_1xs_2_1[df_1xs_2_1['phih']>=i_phi_left][df_1xs_2_1['phih']<i_phi]['phih'].tolist()\n",
      "/var/folders/j9/hgt6bjfn0n78rvsbnlc10rqh0000gp/T/ipykernel_37694/1848739742.py:11: UserWarning: Boolean Series key will be reindexed to match DataFrame index.\n",
      "  Fuu_2_1s = df_1xs_2_1[df_1xs_2_1['phih']>=i_phi_left][df_1xs_2_1['phih']<i_phi]['value'].tolist()\n",
      "/var/folders/j9/hgt6bjfn0n78rvsbnlc10rqh0000gp/T/ipykernel_37694/1848739742.py:12: UserWarning: Boolean Series key will be reindexed to match DataFrame index.\n",
      "  Fuu_2_1_stats = df_1xs_2_1[df_1xs_2_1['phih']>=i_phi_left][df_1xs_2_1['phih']<i_phi]['stat'].tolist()\n",
      "/var/folders/j9/hgt6bjfn0n78rvsbnlc10rqh0000gp/T/ipykernel_37694/1848739742.py:10: UserWarning: Boolean Series key will be reindexed to match DataFrame index.\n",
      "  phih_2_1s = df_1xs_2_1[df_1xs_2_1['phih']>=i_phi_left][df_1xs_2_1['phih']<i_phi]['phih'].tolist()\n",
      "/var/folders/j9/hgt6bjfn0n78rvsbnlc10rqh0000gp/T/ipykernel_37694/1848739742.py:11: UserWarning: Boolean Series key will be reindexed to match DataFrame index.\n",
      "  Fuu_2_1s = df_1xs_2_1[df_1xs_2_1['phih']>=i_phi_left][df_1xs_2_1['phih']<i_phi]['value'].tolist()\n",
      "/var/folders/j9/hgt6bjfn0n78rvsbnlc10rqh0000gp/T/ipykernel_37694/1848739742.py:12: UserWarning: Boolean Series key will be reindexed to match DataFrame index.\n",
      "  Fuu_2_1_stats = df_1xs_2_1[df_1xs_2_1['phih']>=i_phi_left][df_1xs_2_1['phih']<i_phi]['stat'].tolist()\n",
      "/var/folders/j9/hgt6bjfn0n78rvsbnlc10rqh0000gp/T/ipykernel_37694/1848739742.py:10: UserWarning: Boolean Series key will be reindexed to match DataFrame index.\n",
      "  phih_2_1s = df_1xs_2_1[df_1xs_2_1['phih']>=i_phi_left][df_1xs_2_1['phih']<i_phi]['phih'].tolist()\n",
      "/var/folders/j9/hgt6bjfn0n78rvsbnlc10rqh0000gp/T/ipykernel_37694/1848739742.py:11: UserWarning: Boolean Series key will be reindexed to match DataFrame index.\n",
      "  Fuu_2_1s = df_1xs_2_1[df_1xs_2_1['phih']>=i_phi_left][df_1xs_2_1['phih']<i_phi]['value'].tolist()\n",
      "/var/folders/j9/hgt6bjfn0n78rvsbnlc10rqh0000gp/T/ipykernel_37694/1848739742.py:12: UserWarning: Boolean Series key will be reindexed to match DataFrame index.\n",
      "  Fuu_2_1_stats = df_1xs_2_1[df_1xs_2_1['phih']>=i_phi_left][df_1xs_2_1['phih']<i_phi]['stat'].tolist()\n",
      "/var/folders/j9/hgt6bjfn0n78rvsbnlc10rqh0000gp/T/ipykernel_37694/1848739742.py:10: UserWarning: Boolean Series key will be reindexed to match DataFrame index.\n",
      "  phih_2_1s = df_1xs_2_1[df_1xs_2_1['phih']>=i_phi_left][df_1xs_2_1['phih']<i_phi]['phih'].tolist()\n",
      "/var/folders/j9/hgt6bjfn0n78rvsbnlc10rqh0000gp/T/ipykernel_37694/1848739742.py:11: UserWarning: Boolean Series key will be reindexed to match DataFrame index.\n",
      "  Fuu_2_1s = df_1xs_2_1[df_1xs_2_1['phih']>=i_phi_left][df_1xs_2_1['phih']<i_phi]['value'].tolist()\n",
      "/var/folders/j9/hgt6bjfn0n78rvsbnlc10rqh0000gp/T/ipykernel_37694/1848739742.py:12: UserWarning: Boolean Series key will be reindexed to match DataFrame index.\n",
      "  Fuu_2_1_stats = df_1xs_2_1[df_1xs_2_1['phih']>=i_phi_left][df_1xs_2_1['phih']<i_phi]['stat'].tolist()\n",
      "/var/folders/j9/hgt6bjfn0n78rvsbnlc10rqh0000gp/T/ipykernel_37694/1848739742.py:10: UserWarning: Boolean Series key will be reindexed to match DataFrame index.\n",
      "  phih_2_1s = df_1xs_2_1[df_1xs_2_1['phih']>=i_phi_left][df_1xs_2_1['phih']<i_phi]['phih'].tolist()\n",
      "/var/folders/j9/hgt6bjfn0n78rvsbnlc10rqh0000gp/T/ipykernel_37694/1848739742.py:11: UserWarning: Boolean Series key will be reindexed to match DataFrame index.\n",
      "  Fuu_2_1s = df_1xs_2_1[df_1xs_2_1['phih']>=i_phi_left][df_1xs_2_1['phih']<i_phi]['value'].tolist()\n",
      "/var/folders/j9/hgt6bjfn0n78rvsbnlc10rqh0000gp/T/ipykernel_37694/1848739742.py:12: UserWarning: Boolean Series key will be reindexed to match DataFrame index.\n",
      "  Fuu_2_1_stats = df_1xs_2_1[df_1xs_2_1['phih']>=i_phi_left][df_1xs_2_1['phih']<i_phi]['stat'].tolist()\n",
      "/var/folders/j9/hgt6bjfn0n78rvsbnlc10rqh0000gp/T/ipykernel_37694/1848739742.py:10: UserWarning: Boolean Series key will be reindexed to match DataFrame index.\n",
      "  phih_2_1s = df_1xs_2_1[df_1xs_2_1['phih']>=i_phi_left][df_1xs_2_1['phih']<i_phi]['phih'].tolist()\n",
      "/var/folders/j9/hgt6bjfn0n78rvsbnlc10rqh0000gp/T/ipykernel_37694/1848739742.py:11: UserWarning: Boolean Series key will be reindexed to match DataFrame index.\n",
      "  Fuu_2_1s = df_1xs_2_1[df_1xs_2_1['phih']>=i_phi_left][df_1xs_2_1['phih']<i_phi]['value'].tolist()\n",
      "/var/folders/j9/hgt6bjfn0n78rvsbnlc10rqh0000gp/T/ipykernel_37694/1848739742.py:12: UserWarning: Boolean Series key will be reindexed to match DataFrame index.\n",
      "  Fuu_2_1_stats = df_1xs_2_1[df_1xs_2_1['phih']>=i_phi_left][df_1xs_2_1['phih']<i_phi]['stat'].tolist()\n",
      "/var/folders/j9/hgt6bjfn0n78rvsbnlc10rqh0000gp/T/ipykernel_37694/1848739742.py:10: UserWarning: Boolean Series key will be reindexed to match DataFrame index.\n",
      "  phih_2_1s = df_1xs_2_1[df_1xs_2_1['phih']>=i_phi_left][df_1xs_2_1['phih']<i_phi]['phih'].tolist()\n",
      "/var/folders/j9/hgt6bjfn0n78rvsbnlc10rqh0000gp/T/ipykernel_37694/1848739742.py:11: UserWarning: Boolean Series key will be reindexed to match DataFrame index.\n",
      "  Fuu_2_1s = df_1xs_2_1[df_1xs_2_1['phih']>=i_phi_left][df_1xs_2_1['phih']<i_phi]['value'].tolist()\n",
      "/var/folders/j9/hgt6bjfn0n78rvsbnlc10rqh0000gp/T/ipykernel_37694/1848739742.py:12: UserWarning: Boolean Series key will be reindexed to match DataFrame index.\n",
      "  Fuu_2_1_stats = df_1xs_2_1[df_1xs_2_1['phih']>=i_phi_left][df_1xs_2_1['phih']<i_phi]['stat'].tolist()\n"
     ]
    },
    {
     "data": {
      "text/plain": [
       "[<matplotlib.lines.Line2D at 0x120de3f10>]"
      ]
     },
     "execution_count": 37,
     "metadata": {},
     "output_type": "execute_result"
    },
    {
     "data": {
      "image/png": "[encoded data removed]",
      "text/plain": [
       "<Figure size 640x480 with 1 Axes>"
      ]
     },
     "metadata": {},
     "output_type": "display_data"
    }
   ],
   "source": [
    "fig = plt.figure()\n",
    "ax = fig.add_subplot()\n",
    "phih_2_1=[]\n",
    "Fuu_2_1=[]\n",
    "Fuu_2_1_stat=[]\n",
    "Fuu_2_1_sys=[]\n",
    "i_phi_left = phih_bins[0]\n",
    "for i_phi in phih_bins[1:]:\n",
    "    print(i_phi_left,i_phi)\n",
    "    phih_2_1s = df_1xs_2_1[df_1xs_2_1['phih']>=i_phi_left][df_1xs_2_1['phih']<i_phi]['phih'].tolist()\n",
    "    Fuu_2_1s = df_1xs_2_1[df_1xs_2_1['phih']>=i_phi_left][df_1xs_2_1['phih']<i_phi]['value'].tolist()\n",
    "    Fuu_2_1_stats = df_1xs_2_1[df_1xs_2_1['phih']>=i_phi_left][df_1xs_2_1['phih']<i_phi]['stat'].tolist()\n",
    "    print(len(phih_2_1s))\n",
    "    \n",
    "    if len(phih_2_1s)>0:  \n",
    "        #print('phih',phih_2_1s)\n",
    "        #print('Fuu',Fuu_2_1s)\n",
    "        #print('Fuu_stat',Fuu_2_1_stats)\n",
    "        _Fuu_2_1 = Get_weighted_average(Fuu_2_1s,Fuu_2_1_stats)[0]\n",
    "        _Fuu_2_1_stat = Get_weighted_average(Fuu_2_1s,Fuu_2_1_stats)[1]\n",
    "        _phih_2_1= Get_weighted_average_phi(phih_2_1s,Fuu_2_1_stats)[0]\n",
    "        #print('_Fuu_2_1',_Fuu_2_1)\n",
    "        #print('_phih',_phih_2_1)\n",
    "        #print('_Fuu_stat',_Fuu_2_1_stat)\n",
    "        Fuu_2_1.append(_Fuu_2_1)\n",
    "        phih_2_1.append(_phih_2_1)\n",
    "        Fuu_2_1_stat.append(_Fuu_2_1_stat)\n",
    "        Fuu_2_1_sys.append(Sys_table[1][0]*_Fuu_2_1)\n",
    "        #print(Fuu_2_1,phih_2_1)\n",
    "        ax.plot([_phih_2_1,_phih_2_1],[_Fuu_2_1-_Fuu_2_1_stat,_Fuu_2_1+_Fuu_2_1_stat],color='blue',marker='_')\n",
    "    i_phi_left = i_phi\n",
    "    #print('phileft',i_phi_left)\n",
    "plt.plot(phih_2_1,Fuu_2_1,'bo')"
   ]
  },
  {
   "cell_type": "code",
   "execution_count": 38,
   "id": "9f764588",
   "metadata": {
    "scrolled": true
   },
   "outputs": [
    {
     "name": "stdout",
     "output_type": "stream",
     "text": [
      "-3.141592653589793 -2.5132741228718345\n",
      "23\n",
      "-2.5132741228718345 -1.8849555921538759\n",
      "23\n",
      "-1.8849555921538759 -1.2566370614359172\n",
      "24\n",
      "-1.2566370614359172 -0.6283185307179586\n",
      "19\n",
      "-0.6283185307179586 0.6283185307179586\n",
      "24\n",
      "0.6283185307179586 1.2566370614359172\n",
      "19\n",
      "1.2566370614359172 1.8849555921538759\n",
      "24\n",
      "1.8849555921538759 2.5132741228718345\n",
      "23\n",
      "2.5132741228718345 3.141592653589793\n",
      "23\n"
     ]
    },
    {
     "name": "stderr",
     "output_type": "stream",
     "text": [
      "/var/folders/j9/hgt6bjfn0n78rvsbnlc10rqh0000gp/T/ipykernel_37694/817337861.py:10: UserWarning: Boolean Series key will be reindexed to match DataFrame index.\n",
      "  phih_2_2s = df_1xs_2_2[df_1xs_2_2['phih']>=i_phi_left][df_1xs_2_2['phih']<i_phi]['phih'].tolist()\n",
      "/var/folders/j9/hgt6bjfn0n78rvsbnlc10rqh0000gp/T/ipykernel_37694/817337861.py:11: UserWarning: Boolean Series key will be reindexed to match DataFrame index.\n",
      "  Fuu_2_2s = df_1xs_2_2[df_1xs_2_2['phih']>=i_phi_left][df_1xs_2_2['phih']<i_phi]['value'].tolist()\n",
      "/var/folders/j9/hgt6bjfn0n78rvsbnlc10rqh0000gp/T/ipykernel_37694/817337861.py:12: UserWarning: Boolean Series key will be reindexed to match DataFrame index.\n",
      "  Fuu_2_2_stats = df_1xs_2_2[df_1xs_2_2['phih']>=i_phi_left][df_1xs_2_2['phih']<i_phi]['stat'].tolist()\n",
      "/var/folders/j9/hgt6bjfn0n78rvsbnlc10rqh0000gp/T/ipykernel_37694/817337861.py:10: UserWarning: Boolean Series key will be reindexed to match DataFrame index.\n",
      "  phih_2_2s = df_1xs_2_2[df_1xs_2_2['phih']>=i_phi_left][df_1xs_2_2['phih']<i_phi]['phih'].tolist()\n",
      "/var/folders/j9/hgt6bjfn0n78rvsbnlc10rqh0000gp/T/ipykernel_37694/817337861.py:11: UserWarning: Boolean Series key will be reindexed to match DataFrame index.\n",
      "  Fuu_2_2s = df_1xs_2_2[df_1xs_2_2['phih']>=i_phi_left][df_1xs_2_2['phih']<i_phi]['value'].tolist()\n",
      "/var/folders/j9/hgt6bjfn0n78rvsbnlc10rqh0000gp/T/ipykernel_37694/817337861.py:12: UserWarning: Boolean Series key will be reindexed to match DataFrame index.\n",
      "  Fuu_2_2_stats = df_1xs_2_2[df_1xs_2_2['phih']>=i_phi_left][df_1xs_2_2['phih']<i_phi]['stat'].tolist()\n",
      "/var/folders/j9/hgt6bjfn0n78rvsbnlc10rqh0000gp/T/ipykernel_37694/817337861.py:10: UserWarning: Boolean Series key will be reindexed to match DataFrame index.\n",
      "  phih_2_2s = df_1xs_2_2[df_1xs_2_2['phih']>=i_phi_left][df_1xs_2_2['phih']<i_phi]['phih'].tolist()\n",
      "/var/folders/j9/hgt6bjfn0n78rvsbnlc10rqh0000gp/T/ipykernel_37694/817337861.py:11: UserWarning: Boolean Series key will be reindexed to match DataFrame index.\n",
      "  Fuu_2_2s = df_1xs_2_2[df_1xs_2_2['phih']>=i_phi_left][df_1xs_2_2['phih']<i_phi]['value'].tolist()\n",
      "/var/folders/j9/hgt6bjfn0n78rvsbnlc10rqh0000gp/T/ipykernel_37694/817337861.py:12: UserWarning: Boolean Series key will be reindexed to match DataFrame index.\n",
      "  Fuu_2_2_stats = df_1xs_2_2[df_1xs_2_2['phih']>=i_phi_left][df_1xs_2_2['phih']<i_phi]['stat'].tolist()\n",
      "/var/folders/j9/hgt6bjfn0n78rvsbnlc10rqh0000gp/T/ipykernel_37694/817337861.py:10: UserWarning: Boolean Series key will be reindexed to match DataFrame index.\n",
      "  phih_2_2s = df_1xs_2_2[df_1xs_2_2['phih']>=i_phi_left][df_1xs_2_2['phih']<i_phi]['phih'].tolist()\n",
      "/var/folders/j9/hgt6bjfn0n78rvsbnlc10rqh0000gp/T/ipykernel_37694/817337861.py:11: UserWarning: Boolean Series key will be reindexed to match DataFrame index.\n",
      "  Fuu_2_2s = df_1xs_2_2[df_1xs_2_2['phih']>=i_phi_left][df_1xs_2_2['phih']<i_phi]['value'].tolist()\n",
      "/var/folders/j9/hgt6bjfn0n78rvsbnlc10rqh0000gp/T/ipykernel_37694/817337861.py:12: UserWarning: Boolean Series key will be reindexed to match DataFrame index.\n",
      "  Fuu_2_2_stats = df_1xs_2_2[df_1xs_2_2['phih']>=i_phi_left][df_1xs_2_2['phih']<i_phi]['stat'].tolist()\n",
      "/var/folders/j9/hgt6bjfn0n78rvsbnlc10rqh0000gp/T/ipykernel_37694/817337861.py:10: UserWarning: Boolean Series key will be reindexed to match DataFrame index.\n",
      "  phih_2_2s = df_1xs_2_2[df_1xs_2_2['phih']>=i_phi_left][df_1xs_2_2['phih']<i_phi]['phih'].tolist()\n",
      "/var/folders/j9/hgt6bjfn0n78rvsbnlc10rqh0000gp/T/ipykernel_37694/817337861.py:11: UserWarning: Boolean Series key will be reindexed to match DataFrame index.\n",
      "  Fuu_2_2s = df_1xs_2_2[df_1xs_2_2['phih']>=i_phi_left][df_1xs_2_2['phih']<i_phi]['value'].tolist()\n",
      "/var/folders/j9/hgt6bjfn0n78rvsbnlc10rqh0000gp/T/ipykernel_37694/817337861.py:12: UserWarning: Boolean Series key will be reindexed to match DataFrame index.\n",
      "  Fuu_2_2_stats = df_1xs_2_2[df_1xs_2_2['phih']>=i_phi_left][df_1xs_2_2['phih']<i_phi]['stat'].tolist()\n",
      "/var/folders/j9/hgt6bjfn0n78rvsbnlc10rqh0000gp/T/ipykernel_37694/817337861.py:10: UserWarning: Boolean Series key will be reindexed to match DataFrame index.\n",
      "  phih_2_2s = df_1xs_2_2[df_1xs_2_2['phih']>=i_phi_left][df_1xs_2_2['phih']<i_phi]['phih'].tolist()\n",
      "/var/folders/j9/hgt6bjfn0n78rvsbnlc10rqh0000gp/T/ipykernel_37694/817337861.py:11: UserWarning: Boolean Series key will be reindexed to match DataFrame index.\n",
      "  Fuu_2_2s = df_1xs_2_2[df_1xs_2_2['phih']>=i_phi_left][df_1xs_2_2['phih']<i_phi]['value'].tolist()\n",
      "/var/folders/j9/hgt6bjfn0n78rvsbnlc10rqh0000gp/T/ipykernel_37694/817337861.py:12: UserWarning: Boolean Series key will be reindexed to match DataFrame index.\n",
      "  Fuu_2_2_stats = df_1xs_2_2[df_1xs_2_2['phih']>=i_phi_left][df_1xs_2_2['phih']<i_phi]['stat'].tolist()\n",
      "/var/folders/j9/hgt6bjfn0n78rvsbnlc10rqh0000gp/T/ipykernel_37694/817337861.py:10: UserWarning: Boolean Series key will be reindexed to match DataFrame index.\n",
      "  phih_2_2s = df_1xs_2_2[df_1xs_2_2['phih']>=i_phi_left][df_1xs_2_2['phih']<i_phi]['phih'].tolist()\n",
      "/var/folders/j9/hgt6bjfn0n78rvsbnlc10rqh0000gp/T/ipykernel_37694/817337861.py:11: UserWarning: Boolean Series key will be reindexed to match DataFrame index.\n",
      "  Fuu_2_2s = df_1xs_2_2[df_1xs_2_2['phih']>=i_phi_left][df_1xs_2_2['phih']<i_phi]['value'].tolist()\n",
      "/var/folders/j9/hgt6bjfn0n78rvsbnlc10rqh0000gp/T/ipykernel_37694/817337861.py:12: UserWarning: Boolean Series key will be reindexed to match DataFrame index.\n",
      "  Fuu_2_2_stats = df_1xs_2_2[df_1xs_2_2['phih']>=i_phi_left][df_1xs_2_2['phih']<i_phi]['stat'].tolist()\n",
      "/var/folders/j9/hgt6bjfn0n78rvsbnlc10rqh0000gp/T/ipykernel_37694/817337861.py:10: UserWarning: Boolean Series key will be reindexed to match DataFrame index.\n",
      "  phih_2_2s = df_1xs_2_2[df_1xs_2_2['phih']>=i_phi_left][df_1xs_2_2['phih']<i_phi]['phih'].tolist()\n",
      "/var/folders/j9/hgt6bjfn0n78rvsbnlc10rqh0000gp/T/ipykernel_37694/817337861.py:11: UserWarning: Boolean Series key will be reindexed to match DataFrame index.\n",
      "  Fuu_2_2s = df_1xs_2_2[df_1xs_2_2['phih']>=i_phi_left][df_1xs_2_2['phih']<i_phi]['value'].tolist()\n",
      "/var/folders/j9/hgt6bjfn0n78rvsbnlc10rqh0000gp/T/ipykernel_37694/817337861.py:12: UserWarning: Boolean Series key will be reindexed to match DataFrame index.\n",
      "  Fuu_2_2_stats = df_1xs_2_2[df_1xs_2_2['phih']>=i_phi_left][df_1xs_2_2['phih']<i_phi]['stat'].tolist()\n"
     ]
    },
    {
     "data": {
      "text/plain": [
       "[<matplotlib.lines.Line2D at 0x120fc0b20>]"
      ]
     },
     "execution_count": 38,
     "metadata": {},
     "output_type": "execute_result"
    },
    {
     "data": {
      "image/png": "[encoded data removed]",
      "text/plain": [
       "<Figure size 640x480 with 1 Axes>"
      ]
     },
     "metadata": {},
     "output_type": "display_data"
    }
   ],
   "source": [
    "fig = plt.figure()\n",
    "ax = fig.add_subplot()\n",
    "phih_2_2=[]\n",
    "Fuu_2_2=[]\n",
    "Fuu_2_2_stat=[]\n",
    "Fuu_2_2_sys=[]\n",
    "i_phi_left = phih_bins[0]\n",
    "for i_phi in phih_bins[1:]:\n",
    "    print(i_phi_left,i_phi)\n",
    "    phih_2_2s = df_1xs_2_2[df_1xs_2_2['phih']>=i_phi_left][df_1xs_2_2['phih']<i_phi]['phih'].tolist()\n",
    "    Fuu_2_2s = df_1xs_2_2[df_1xs_2_2['phih']>=i_phi_left][df_1xs_2_2['phih']<i_phi]['value'].tolist()\n",
    "    Fuu_2_2_stats = df_1xs_2_2[df_1xs_2_2['phih']>=i_phi_left][df_1xs_2_2['phih']<i_phi]['stat'].tolist()\n",
    "    print(len(phih_2_2s))\n",
    "    \n",
    "    if len(phih_2_2s)>0:  \n",
    "        #print('phih',phih_2_2s)\n",
    "        #print('Fuu',Fuu_2_2s)\n",
    "        #print('Fuu_stat',Fuu_2_2_stats)\n",
    "        _Fuu_2_2 = Get_weighted_average(Fuu_2_2s,Fuu_2_2_stats)[0]\n",
    "        _Fuu_2_2_stat = Get_weighted_average(Fuu_2_2s,Fuu_2_2_stats)[1]\n",
    "        _phih_2_2= Get_weighted_average_phi(phih_2_2s,Fuu_2_2_stats)[0]\n",
    "        #print('_Fuu_2_2',_Fuu_2_2)\n",
    "        #print('_phih',_phih_2_2)\n",
    "        #print('_Fuu_stat',_Fuu_2_2_stat)\n",
    "        Fuu_2_2.append(_Fuu_2_2)\n",
    "        phih_2_2.append(_phih_2_2)\n",
    "        Fuu_2_2_stat.append(_Fuu_2_2_stat)\n",
    "        Fuu_2_2_sys.append(Sys_table[1][1]*_Fuu_2_2)\n",
    "        #print(Fuu_2_2,phih_2_2)\n",
    "        ax.plot([_phih_2_2,_phih_2_2],[_Fuu_2_2-_Fuu_2_2_stat,_Fuu_2_2+_Fuu_2_2_stat],color='blue',marker='_')\n",
    "    i_phi_left = i_phi\n",
    "    #print('phileft',i_phi_left)\n",
    "plt.plot(phih_2_2,Fuu_2_2,'bo')"
   ]
  },
  {
   "cell_type": "code",
   "execution_count": 39,
   "id": "bb9a9314",
   "metadata": {
    "scrolled": true
   },
   "outputs": [
    {
     "name": "stdout",
     "output_type": "stream",
     "text": [
      "-3.141592653589793 -2.5132741228718345\n",
      "13\n",
      "-2.5132741228718345 -1.8849555921538759\n",
      "13\n",
      "-1.8849555921538759 -1.2566370614359172\n",
      "13\n",
      "-1.2566370614359172 -0.6283185307179586\n",
      "11\n",
      "-0.6283185307179586 0.6283185307179586\n",
      "18\n",
      "0.6283185307179586 1.2566370614359172\n",
      "11\n",
      "1.2566370614359172 1.8849555921538759\n",
      "13\n",
      "1.8849555921538759 2.5132741228718345\n",
      "13\n",
      "2.5132741228718345 3.141592653589793\n",
      "13\n"
     ]
    },
    {
     "name": "stderr",
     "output_type": "stream",
     "text": [
      "/var/folders/j9/hgt6bjfn0n78rvsbnlc10rqh0000gp/T/ipykernel_37694/1929653472.py:10: UserWarning: Boolean Series key will be reindexed to match DataFrame index.\n",
      "  phih_2_3s = df_1xs_2_3[df_1xs_2_3['phih']>=i_phi_left][df_1xs_2_3['phih']<i_phi]['phih'].tolist()\n",
      "/var/folders/j9/hgt6bjfn0n78rvsbnlc10rqh0000gp/T/ipykernel_37694/1929653472.py:11: UserWarning: Boolean Series key will be reindexed to match DataFrame index.\n",
      "  Fuu_2_3s = df_1xs_2_3[df_1xs_2_3['phih']>=i_phi_left][df_1xs_2_3['phih']<i_phi]['value'].tolist()\n",
      "/var/folders/j9/hgt6bjfn0n78rvsbnlc10rqh0000gp/T/ipykernel_37694/1929653472.py:12: UserWarning: Boolean Series key will be reindexed to match DataFrame index.\n",
      "  Fuu_2_3_stats = df_1xs_2_3[df_1xs_2_3['phih']>=i_phi_left][df_1xs_2_3['phih']<i_phi]['stat'].tolist()\n",
      "/var/folders/j9/hgt6bjfn0n78rvsbnlc10rqh0000gp/T/ipykernel_37694/1929653472.py:10: UserWarning: Boolean Series key will be reindexed to match DataFrame index.\n",
      "  phih_2_3s = df_1xs_2_3[df_1xs_2_3['phih']>=i_phi_left][df_1xs_2_3['phih']<i_phi]['phih'].tolist()\n",
      "/var/folders/j9/hgt6bjfn0n78rvsbnlc10rqh0000gp/T/ipykernel_37694/1929653472.py:11: UserWarning: Boolean Series key will be reindexed to match DataFrame index.\n",
      "  Fuu_2_3s = df_1xs_2_3[df_1xs_2_3['phih']>=i_phi_left][df_1xs_2_3['phih']<i_phi]['value'].tolist()\n",
      "/var/folders/j9/hgt6bjfn0n78rvsbnlc10rqh0000gp/T/ipykernel_37694/1929653472.py:12: UserWarning: Boolean Series key will be reindexed to match DataFrame index.\n",
      "  Fuu_2_3_stats = df_1xs_2_3[df_1xs_2_3['phih']>=i_phi_left][df_1xs_2_3['phih']<i_phi]['stat'].tolist()\n",
      "/var/folders/j9/hgt6bjfn0n78rvsbnlc10rqh0000gp/T/ipykernel_37694/1929653472.py:10: UserWarning: Boolean Series key will be reindexed to match DataFrame index.\n",
      "  phih_2_3s = df_1xs_2_3[df_1xs_2_3['phih']>=i_phi_left][df_1xs_2_3['phih']<i_phi]['phih'].tolist()\n",
      "/var/folders/j9/hgt6bjfn0n78rvsbnlc10rqh0000gp/T/ipykernel_37694/1929653472.py:11: UserWarning: Boolean Series key will be reindexed to match DataFrame index.\n",
      "  Fuu_2_3s = df_1xs_2_3[df_1xs_2_3['phih']>=i_phi_left][df_1xs_2_3['phih']<i_phi]['value'].tolist()\n",
      "/var/folders/j9/hgt6bjfn0n78rvsbnlc10rqh0000gp/T/ipykernel_37694/1929653472.py:12: UserWarning: Boolean Series key will be reindexed to match DataFrame index.\n",
      "  Fuu_2_3_stats = df_1xs_2_3[df_1xs_2_3['phih']>=i_phi_left][df_1xs_2_3['phih']<i_phi]['stat'].tolist()\n",
      "/var/folders/j9/hgt6bjfn0n78rvsbnlc10rqh0000gp/T/ipykernel_37694/1929653472.py:10: UserWarning: Boolean Series key will be reindexed to match DataFrame index.\n",
      "  phih_2_3s = df_1xs_2_3[df_1xs_2_3['phih']>=i_phi_left][df_1xs_2_3['phih']<i_phi]['phih'].tolist()\n",
      "/var/folders/j9/hgt6bjfn0n78rvsbnlc10rqh0000gp/T/ipykernel_37694/1929653472.py:11: UserWarning: Boolean Series key will be reindexed to match DataFrame index.\n",
      "  Fuu_2_3s = df_1xs_2_3[df_1xs_2_3['phih']>=i_phi_left][df_1xs_2_3['phih']<i_phi]['value'].tolist()\n",
      "/var/folders/j9/hgt6bjfn0n78rvsbnlc10rqh0000gp/T/ipykernel_37694/1929653472.py:12: UserWarning: Boolean Series key will be reindexed to match DataFrame index.\n",
      "  Fuu_2_3_stats = df_1xs_2_3[df_1xs_2_3['phih']>=i_phi_left][df_1xs_2_3['phih']<i_phi]['stat'].tolist()\n",
      "/var/folders/j9/hgt6bjfn0n78rvsbnlc10rqh0000gp/T/ipykernel_37694/1929653472.py:10: UserWarning: Boolean Series key will be reindexed to match DataFrame index.\n",
      "  phih_2_3s = df_1xs_2_3[df_1xs_2_3['phih']>=i_phi_left][df_1xs_2_3['phih']<i_phi]['phih'].tolist()\n",
      "/var/folders/j9/hgt6bjfn0n78rvsbnlc10rqh0000gp/T/ipykernel_37694/1929653472.py:11: UserWarning: Boolean Series key will be reindexed to match DataFrame index.\n",
      "  Fuu_2_3s = df_1xs_2_3[df_1xs_2_3['phih']>=i_phi_left][df_1xs_2_3['phih']<i_phi]['value'].tolist()\n",
      "/var/folders/j9/hgt6bjfn0n78rvsbnlc10rqh0000gp/T/ipykernel_37694/1929653472.py:12: UserWarning: Boolean Series key will be reindexed to match DataFrame index.\n",
      "  Fuu_2_3_stats = df_1xs_2_3[df_1xs_2_3['phih']>=i_phi_left][df_1xs_2_3['phih']<i_phi]['stat'].tolist()\n",
      "/var/folders/j9/hgt6bjfn0n78rvsbnlc10rqh0000gp/T/ipykernel_37694/1929653472.py:10: UserWarning: Boolean Series key will be reindexed to match DataFrame index.\n",
      "  phih_2_3s = df_1xs_2_3[df_1xs_2_3['phih']>=i_phi_left][df_1xs_2_3['phih']<i_phi]['phih'].tolist()\n",
      "/var/folders/j9/hgt6bjfn0n78rvsbnlc10rqh0000gp/T/ipykernel_37694/1929653472.py:11: UserWarning: Boolean Series key will be reindexed to match DataFrame index.\n",
      "  Fuu_2_3s = df_1xs_2_3[df_1xs_2_3['phih']>=i_phi_left][df_1xs_2_3['phih']<i_phi]['value'].tolist()\n",
      "/var/folders/j9/hgt6bjfn0n78rvsbnlc10rqh0000gp/T/ipykernel_37694/1929653472.py:12: UserWarning: Boolean Series key will be reindexed to match DataFrame index.\n",
      "  Fuu_2_3_stats = df_1xs_2_3[df_1xs_2_3['phih']>=i_phi_left][df_1xs_2_3['phih']<i_phi]['stat'].tolist()\n",
      "/var/folders/j9/hgt6bjfn0n78rvsbnlc10rqh0000gp/T/ipykernel_37694/1929653472.py:10: UserWarning: Boolean Series key will be reindexed to match DataFrame index.\n",
      "  phih_2_3s = df_1xs_2_3[df_1xs_2_3['phih']>=i_phi_left][df_1xs_2_3['phih']<i_phi]['phih'].tolist()\n",
      "/var/folders/j9/hgt6bjfn0n78rvsbnlc10rqh0000gp/T/ipykernel_37694/1929653472.py:11: UserWarning: Boolean Series key will be reindexed to match DataFrame index.\n",
      "  Fuu_2_3s = df_1xs_2_3[df_1xs_2_3['phih']>=i_phi_left][df_1xs_2_3['phih']<i_phi]['value'].tolist()\n",
      "/var/folders/j9/hgt6bjfn0n78rvsbnlc10rqh0000gp/T/ipykernel_37694/1929653472.py:12: UserWarning: Boolean Series key will be reindexed to match DataFrame index.\n",
      "  Fuu_2_3_stats = df_1xs_2_3[df_1xs_2_3['phih']>=i_phi_left][df_1xs_2_3['phih']<i_phi]['stat'].tolist()\n",
      "/var/folders/j9/hgt6bjfn0n78rvsbnlc10rqh0000gp/T/ipykernel_37694/1929653472.py:10: UserWarning: Boolean Series key will be reindexed to match DataFrame index.\n",
      "  phih_2_3s = df_1xs_2_3[df_1xs_2_3['phih']>=i_phi_left][df_1xs_2_3['phih']<i_phi]['phih'].tolist()\n",
      "/var/folders/j9/hgt6bjfn0n78rvsbnlc10rqh0000gp/T/ipykernel_37694/1929653472.py:11: UserWarning: Boolean Series key will be reindexed to match DataFrame index.\n",
      "  Fuu_2_3s = df_1xs_2_3[df_1xs_2_3['phih']>=i_phi_left][df_1xs_2_3['phih']<i_phi]['value'].tolist()\n",
      "/var/folders/j9/hgt6bjfn0n78rvsbnlc10rqh0000gp/T/ipykernel_37694/1929653472.py:12: UserWarning: Boolean Series key will be reindexed to match DataFrame index.\n",
      "  Fuu_2_3_stats = df_1xs_2_3[df_1xs_2_3['phih']>=i_phi_left][df_1xs_2_3['phih']<i_phi]['stat'].tolist()\n"
     ]
    },
    {
     "data": {
      "text/plain": [
       "[<matplotlib.lines.Line2D at 0x1211aca90>]"
      ]
     },
     "execution_count": 39,
     "metadata": {},
     "output_type": "execute_result"
    },
    {
     "data": {
      "image/png": "[encoded data removed]",
      "text/plain": [
       "<Figure size 640x480 with 1 Axes>"
      ]
     },
     "metadata": {},
     "output_type": "display_data"
    }
   ],
   "source": [
    "fig = plt.figure()\n",
    "ax = fig.add_subplot()\n",
    "phih_2_3=[]\n",
    "Fuu_2_3=[]\n",
    "Fuu_2_3_stat=[]\n",
    "Fuu_2_3_sys=[]\n",
    "i_phi_left = phih_bins[0]\n",
    "for i_phi in phih_bins[1:]:\n",
    "    print(i_phi_left,i_phi)\n",
    "    phih_2_3s = df_1xs_2_3[df_1xs_2_3['phih']>=i_phi_left][df_1xs_2_3['phih']<i_phi]['phih'].tolist()\n",
    "    Fuu_2_3s = df_1xs_2_3[df_1xs_2_3['phih']>=i_phi_left][df_1xs_2_3['phih']<i_phi]['value'].tolist()\n",
    "    Fuu_2_3_stats = df_1xs_2_3[df_1xs_2_3['phih']>=i_phi_left][df_1xs_2_3['phih']<i_phi]['stat'].tolist()\n",
    "    print(len(phih_2_3s))\n",
    "    \n",
    "    if len(phih_2_3s)>0:  \n",
    "        #print('phih',phih_2_3s)\n",
    "        #print('Fuu',Fuu_2_3s)\n",
    "        #print('Fuu_stat',Fuu_2_3_stats)\n",
    "        _Fuu_2_3 = Get_weighted_average(Fuu_2_3s,Fuu_2_3_stats)[0]\n",
    "        _Fuu_2_3_stat = Get_weighted_average(Fuu_2_3s,Fuu_2_3_stats)[1]\n",
    "        _phih_2_3= Get_weighted_average_phi(phih_2_3s,Fuu_2_3_stats)[0]\n",
    "        #print('_Fuu_2_3',_Fuu_2_3)\n",
    "        #print('_phih',_phih_2_3)\n",
    "        #print('_Fuu_stat',_Fuu_2_3_stat)\n",
    "        Fuu_2_3.append(_Fuu_2_3)\n",
    "        phih_2_3.append(_phih_2_3)\n",
    "        Fuu_2_3_stat.append(_Fuu_2_3_stat)\n",
    "        Fuu_2_3_sys.append(Sys_table[1][2]*_Fuu_2_3)\n",
    "        #print(Fuu_2_3,phih_2_3)\n",
    "        ax.plot([_phih_2_3,_phih_2_3],[_Fuu_2_3-_Fuu_2_3_stat,_Fuu_2_3+_Fuu_2_3_stat],color='blue',marker='_')\n",
    "    i_phi_left = i_phi\n",
    "    #print('phileft',i_phi_left)\n",
    "plt.plot(phih_2_3,Fuu_2_3,'bo')"
   ]
  },
  {
   "cell_type": "code",
   "execution_count": 40,
   "id": "2dc860e2",
   "metadata": {
    "scrolled": true
   },
   "outputs": [
    {
     "name": "stdout",
     "output_type": "stream",
     "text": [
      "-3.141592653589793 -2.5132741228718345\n",
      "37\n",
      "-2.5132741228718345 -1.8849555921538759\n",
      "38\n",
      "-1.8849555921538759 -1.2566370614359172\n",
      "35\n",
      "-1.2566370614359172 -0.6283185307179586\n",
      "19\n",
      "-0.6283185307179586 0.6283185307179586\n",
      "16\n",
      "0.6283185307179586 1.2566370614359172\n",
      "19\n",
      "1.2566370614359172 1.8849555921538759\n",
      "35\n",
      "1.8849555921538759 2.5132741228718345\n",
      "38\n",
      "2.5132741228718345 3.141592653589793\n",
      "37\n"
     ]
    },
    {
     "name": "stderr",
     "output_type": "stream",
     "text": [
      "/var/folders/j9/hgt6bjfn0n78rvsbnlc10rqh0000gp/T/ipykernel_37694/818043284.py:10: UserWarning: Boolean Series key will be reindexed to match DataFrame index.\n",
      "  phih_3_1s = df_1xs_3_1[df_1xs_3_1['phih']>=i_phi_left][df_1xs_3_1['phih']<i_phi]['phih'].tolist()\n",
      "/var/folders/j9/hgt6bjfn0n78rvsbnlc10rqh0000gp/T/ipykernel_37694/818043284.py:11: UserWarning: Boolean Series key will be reindexed to match DataFrame index.\n",
      "  Fuu_3_1s = df_1xs_3_1[df_1xs_3_1['phih']>=i_phi_left][df_1xs_3_1['phih']<i_phi]['value'].tolist()\n",
      "/var/folders/j9/hgt6bjfn0n78rvsbnlc10rqh0000gp/T/ipykernel_37694/818043284.py:12: UserWarning: Boolean Series key will be reindexed to match DataFrame index.\n",
      "  Fuu_3_1_stats = df_1xs_3_1[df_1xs_3_1['phih']>=i_phi_left][df_1xs_3_1['phih']<i_phi]['stat'].tolist()\n",
      "/var/folders/j9/hgt6bjfn0n78rvsbnlc10rqh0000gp/T/ipykernel_37694/818043284.py:10: UserWarning: Boolean Series key will be reindexed to match DataFrame index.\n",
      "  phih_3_1s = df_1xs_3_1[df_1xs_3_1['phih']>=i_phi_left][df_1xs_3_1['phih']<i_phi]['phih'].tolist()\n",
      "/var/folders/j9/hgt6bjfn0n78rvsbnlc10rqh0000gp/T/ipykernel_37694/818043284.py:11: UserWarning: Boolean Series key will be reindexed to match DataFrame index.\n",
      "  Fuu_3_1s = df_1xs_3_1[df_1xs_3_1['phih']>=i_phi_left][df_1xs_3_1['phih']<i_phi]['value'].tolist()\n",
      "/var/folders/j9/hgt6bjfn0n78rvsbnlc10rqh0000gp/T/ipykernel_37694/818043284.py:12: UserWarning: Boolean Series key will be reindexed to match DataFrame index.\n",
      "  Fuu_3_1_stats = df_1xs_3_1[df_1xs_3_1['phih']>=i_phi_left][df_1xs_3_1['phih']<i_phi]['stat'].tolist()\n",
      "/var/folders/j9/hgt6bjfn0n78rvsbnlc10rqh0000gp/T/ipykernel_37694/818043284.py:10: UserWarning: Boolean Series key will be reindexed to match DataFrame index.\n",
      "  phih_3_1s = df_1xs_3_1[df_1xs_3_1['phih']>=i_phi_left][df_1xs_3_1['phih']<i_phi]['phih'].tolist()\n",
      "/var/folders/j9/hgt6bjfn0n78rvsbnlc10rqh0000gp/T/ipykernel_37694/818043284.py:11: UserWarning: Boolean Series key will be reindexed to match DataFrame index.\n",
      "  Fuu_3_1s = df_1xs_3_1[df_1xs_3_1['phih']>=i_phi_left][df_1xs_3_1['phih']<i_phi]['value'].tolist()\n",
      "/var/folders/j9/hgt6bjfn0n78rvsbnlc10rqh0000gp/T/ipykernel_37694/818043284.py:12: UserWarning: Boolean Series key will be reindexed to match DataFrame index.\n",
      "  Fuu_3_1_stats = df_1xs_3_1[df_1xs_3_1['phih']>=i_phi_left][df_1xs_3_1['phih']<i_phi]['stat'].tolist()\n",
      "/var/folders/j9/hgt6bjfn0n78rvsbnlc10rqh0000gp/T/ipykernel_37694/818043284.py:10: UserWarning: Boolean Series key will be reindexed to match DataFrame index.\n",
      "  phih_3_1s = df_1xs_3_1[df_1xs_3_1['phih']>=i_phi_left][df_1xs_3_1['phih']<i_phi]['phih'].tolist()\n",
      "/var/folders/j9/hgt6bjfn0n78rvsbnlc10rqh0000gp/T/ipykernel_37694/818043284.py:11: UserWarning: Boolean Series key will be reindexed to match DataFrame index.\n",
      "  Fuu_3_1s = df_1xs_3_1[df_1xs_3_1['phih']>=i_phi_left][df_1xs_3_1['phih']<i_phi]['value'].tolist()\n",
      "/var/folders/j9/hgt6bjfn0n78rvsbnlc10rqh0000gp/T/ipykernel_37694/818043284.py:12: UserWarning: Boolean Series key will be reindexed to match DataFrame index.\n",
      "  Fuu_3_1_stats = df_1xs_3_1[df_1xs_3_1['phih']>=i_phi_left][df_1xs_3_1['phih']<i_phi]['stat'].tolist()\n",
      "/var/folders/j9/hgt6bjfn0n78rvsbnlc10rqh0000gp/T/ipykernel_37694/818043284.py:10: UserWarning: Boolean Series key will be reindexed to match DataFrame index.\n",
      "  phih_3_1s = df_1xs_3_1[df_1xs_3_1['phih']>=i_phi_left][df_1xs_3_1['phih']<i_phi]['phih'].tolist()\n",
      "/var/folders/j9/hgt6bjfn0n78rvsbnlc10rqh0000gp/T/ipykernel_37694/818043284.py:11: UserWarning: Boolean Series key will be reindexed to match DataFrame index.\n",
      "  Fuu_3_1s = df_1xs_3_1[df_1xs_3_1['phih']>=i_phi_left][df_1xs_3_1['phih']<i_phi]['value'].tolist()\n",
      "/var/folders/j9/hgt6bjfn0n78rvsbnlc10rqh0000gp/T/ipykernel_37694/818043284.py:12: UserWarning: Boolean Series key will be reindexed to match DataFrame index.\n",
      "  Fuu_3_1_stats = df_1xs_3_1[df_1xs_3_1['phih']>=i_phi_left][df_1xs_3_1['phih']<i_phi]['stat'].tolist()\n",
      "/var/folders/j9/hgt6bjfn0n78rvsbnlc10rqh0000gp/T/ipykernel_37694/818043284.py:10: UserWarning: Boolean Series key will be reindexed to match DataFrame index.\n",
      "  phih_3_1s = df_1xs_3_1[df_1xs_3_1['phih']>=i_phi_left][df_1xs_3_1['phih']<i_phi]['phih'].tolist()\n",
      "/var/folders/j9/hgt6bjfn0n78rvsbnlc10rqh0000gp/T/ipykernel_37694/818043284.py:11: UserWarning: Boolean Series key will be reindexed to match DataFrame index.\n",
      "  Fuu_3_1s = df_1xs_3_1[df_1xs_3_1['phih']>=i_phi_left][df_1xs_3_1['phih']<i_phi]['value'].tolist()\n",
      "/var/folders/j9/hgt6bjfn0n78rvsbnlc10rqh0000gp/T/ipykernel_37694/818043284.py:12: UserWarning: Boolean Series key will be reindexed to match DataFrame index.\n",
      "  Fuu_3_1_stats = df_1xs_3_1[df_1xs_3_1['phih']>=i_phi_left][df_1xs_3_1['phih']<i_phi]['stat'].tolist()\n",
      "/var/folders/j9/hgt6bjfn0n78rvsbnlc10rqh0000gp/T/ipykernel_37694/818043284.py:10: UserWarning: Boolean Series key will be reindexed to match DataFrame index.\n",
      "  phih_3_1s = df_1xs_3_1[df_1xs_3_1['phih']>=i_phi_left][df_1xs_3_1['phih']<i_phi]['phih'].tolist()\n",
      "/var/folders/j9/hgt6bjfn0n78rvsbnlc10rqh0000gp/T/ipykernel_37694/818043284.py:11: UserWarning: Boolean Series key will be reindexed to match DataFrame index.\n",
      "  Fuu_3_1s = df_1xs_3_1[df_1xs_3_1['phih']>=i_phi_left][df_1xs_3_1['phih']<i_phi]['value'].tolist()\n",
      "/var/folders/j9/hgt6bjfn0n78rvsbnlc10rqh0000gp/T/ipykernel_37694/818043284.py:12: UserWarning: Boolean Series key will be reindexed to match DataFrame index.\n",
      "  Fuu_3_1_stats = df_1xs_3_1[df_1xs_3_1['phih']>=i_phi_left][df_1xs_3_1['phih']<i_phi]['stat'].tolist()\n",
      "/var/folders/j9/hgt6bjfn0n78rvsbnlc10rqh0000gp/T/ipykernel_37694/818043284.py:10: UserWarning: Boolean Series key will be reindexed to match DataFrame index.\n",
      "  phih_3_1s = df_1xs_3_1[df_1xs_3_1['phih']>=i_phi_left][df_1xs_3_1['phih']<i_phi]['phih'].tolist()\n",
      "/var/folders/j9/hgt6bjfn0n78rvsbnlc10rqh0000gp/T/ipykernel_37694/818043284.py:11: UserWarning: Boolean Series key will be reindexed to match DataFrame index.\n",
      "  Fuu_3_1s = df_1xs_3_1[df_1xs_3_1['phih']>=i_phi_left][df_1xs_3_1['phih']<i_phi]['value'].tolist()\n",
      "/var/folders/j9/hgt6bjfn0n78rvsbnlc10rqh0000gp/T/ipykernel_37694/818043284.py:12: UserWarning: Boolean Series key will be reindexed to match DataFrame index.\n",
      "  Fuu_3_1_stats = df_1xs_3_1[df_1xs_3_1['phih']>=i_phi_left][df_1xs_3_1['phih']<i_phi]['stat'].tolist()\n"
     ]
    },
    {
     "data": {
      "text/plain": [
       "[<matplotlib.lines.Line2D at 0x120eeda20>]"
      ]
     },
     "execution_count": 40,
     "metadata": {},
     "output_type": "execute_result"
    },
    {
     "data": {
      "image/png": "[encoded data removed]",
      "text/plain": [
       "<Figure size 640x480 with 1 Axes>"
      ]
     },
     "metadata": {},
     "output_type": "display_data"
    }
   ],
   "source": [
    "fig = plt.figure()\n",
    "ax = fig.add_subplot()\n",
    "phih_3_1=[]\n",
    "Fuu_3_1=[]\n",
    "Fuu_3_1_stat=[]\n",
    "Fuu_3_1_sys=[]\n",
    "i_phi_left = phih_bins[0]\n",
    "for i_phi in phih_bins[1:]:\n",
    "    print(i_phi_left,i_phi)\n",
    "    phih_3_1s = df_1xs_3_1[df_1xs_3_1['phih']>=i_phi_left][df_1xs_3_1['phih']<i_phi]['phih'].tolist()\n",
    "    Fuu_3_1s = df_1xs_3_1[df_1xs_3_1['phih']>=i_phi_left][df_1xs_3_1['phih']<i_phi]['value'].tolist()\n",
    "    Fuu_3_1_stats = df_1xs_3_1[df_1xs_3_1['phih']>=i_phi_left][df_1xs_3_1['phih']<i_phi]['stat'].tolist()\n",
    "    print(len(phih_3_1s))\n",
    "    \n",
    "    if len(phih_3_1s)>0:  \n",
    "        #print('phih',phih_3_1s)\n",
    "        #print('Fuu',Fuu_3_1s)\n",
    "        #print('Fuu_stat',Fuu_3_1_stats)\n",
    "        _Fuu_3_1 = Get_weighted_average(Fuu_3_1s,Fuu_3_1_stats)[0]\n",
    "        _Fuu_3_1_stat = Get_weighted_average(Fuu_3_1s,Fuu_3_1_stats)[1]\n",
    "        _phih_3_1= Get_weighted_average_phi(phih_3_1s,Fuu_3_1_stats)[0]\n",
    "        #print('_Fuu_3_1',_Fuu_3_1)\n",
    "        #print('_phih',_phih_3_1)\n",
    "        #print('_Fuu_stat',_Fuu_3_1_stat)\n",
    "        Fuu_3_1.append(_Fuu_3_1)\n",
    "        phih_3_1.append(_phih_3_1)\n",
    "        Fuu_3_1_stat.append(_Fuu_3_1_stat)\n",
    "        Fuu_3_1_sys.append(Sys_table[2][0]*_Fuu_3_1)\n",
    "        #print(Fuu_3_1,phih_3_1)\n",
    "        ax.plot([_phih_3_1,_phih_3_1],[_Fuu_3_1-_Fuu_3_1_stat,_Fuu_3_1+_Fuu_3_1_stat],color='blue',marker='_')\n",
    "    i_phi_left = i_phi\n",
    "    #print('phileft',i_phi_left)\n",
    "plt.plot(phih_3_1,Fuu_3_1,'bo')"
   ]
  },
  {
   "cell_type": "code",
   "execution_count": 41,
   "id": "32e520b0",
   "metadata": {
    "scrolled": true
   },
   "outputs": [
    {
     "name": "stdout",
     "output_type": "stream",
     "text": [
      "-3.141592653589793 -2.5132741228718345\n",
      "20\n",
      "-2.5132741228718345 -1.8849555921538759\n",
      "19\n",
      "-1.8849555921538759 -1.2566370614359172\n",
      "17\n",
      "-1.2566370614359172 -0.6283185307179586\n",
      "11\n",
      "-0.6283185307179586 0.6283185307179586\n",
      "16\n",
      "0.6283185307179586 1.2566370614359172\n",
      "11\n",
      "1.2566370614359172 1.8849555921538759\n",
      "17\n",
      "1.8849555921538759 2.5132741228718345\n",
      "19\n",
      "2.5132741228718345 3.141592653589793\n",
      "20\n"
     ]
    },
    {
     "name": "stderr",
     "output_type": "stream",
     "text": [
      "/var/folders/j9/hgt6bjfn0n78rvsbnlc10rqh0000gp/T/ipykernel_37694/3442591118.py:10: UserWarning: Boolean Series key will be reindexed to match DataFrame index.\n",
      "  phih_3_2s = df_1xs_3_2[df_1xs_3_2['phih']>=i_phi_left][df_1xs_3_2['phih']<i_phi]['phih'].tolist()\n",
      "/var/folders/j9/hgt6bjfn0n78rvsbnlc10rqh0000gp/T/ipykernel_37694/3442591118.py:11: UserWarning: Boolean Series key will be reindexed to match DataFrame index.\n",
      "  Fuu_3_2s = df_1xs_3_2[df_1xs_3_2['phih']>=i_phi_left][df_1xs_3_2['phih']<i_phi]['value'].tolist()\n",
      "/var/folders/j9/hgt6bjfn0n78rvsbnlc10rqh0000gp/T/ipykernel_37694/3442591118.py:12: UserWarning: Boolean Series key will be reindexed to match DataFrame index.\n",
      "  Fuu_3_2_stats = df_1xs_3_2[df_1xs_3_2['phih']>=i_phi_left][df_1xs_3_2['phih']<i_phi]['stat'].tolist()\n",
      "/var/folders/j9/hgt6bjfn0n78rvsbnlc10rqh0000gp/T/ipykernel_37694/3442591118.py:10: UserWarning: Boolean Series key will be reindexed to match DataFrame index.\n",
      "  phih_3_2s = df_1xs_3_2[df_1xs_3_2['phih']>=i_phi_left][df_1xs_3_2['phih']<i_phi]['phih'].tolist()\n",
      "/var/folders/j9/hgt6bjfn0n78rvsbnlc10rqh0000gp/T/ipykernel_37694/3442591118.py:11: UserWarning: Boolean Series key will be reindexed to match DataFrame index.\n",
      "  Fuu_3_2s = df_1xs_3_2[df_1xs_3_2['phih']>=i_phi_left][df_1xs_3_2['phih']<i_phi]['value'].tolist()\n",
      "/var/folders/j9/hgt6bjfn0n78rvsbnlc10rqh0000gp/T/ipykernel_37694/3442591118.py:12: UserWarning: Boolean Series key will be reindexed to match DataFrame index.\n",
      "  Fuu_3_2_stats = df_1xs_3_2[df_1xs_3_2['phih']>=i_phi_left][df_1xs_3_2['phih']<i_phi]['stat'].tolist()\n",
      "/var/folders/j9/hgt6bjfn0n78rvsbnlc10rqh0000gp/T/ipykernel_37694/3442591118.py:10: UserWarning: Boolean Series key will be reindexed to match DataFrame index.\n",
      "  phih_3_2s = df_1xs_3_2[df_1xs_3_2['phih']>=i_phi_left][df_1xs_3_2['phih']<i_phi]['phih'].tolist()\n",
      "/var/folders/j9/hgt6bjfn0n78rvsbnlc10rqh0000gp/T/ipykernel_37694/3442591118.py:11: UserWarning: Boolean Series key will be reindexed to match DataFrame index.\n",
      "  Fuu_3_2s = df_1xs_3_2[df_1xs_3_2['phih']>=i_phi_left][df_1xs_3_2['phih']<i_phi]['value'].tolist()\n",
      "/var/folders/j9/hgt6bjfn0n78rvsbnlc10rqh0000gp/T/ipykernel_37694/3442591118.py:12: UserWarning: Boolean Series key will be reindexed to match DataFrame index.\n",
      "  Fuu_3_2_stats = df_1xs_3_2[df_1xs_3_2['phih']>=i_phi_left][df_1xs_3_2['phih']<i_phi]['stat'].tolist()\n",
      "/var/folders/j9/hgt6bjfn0n78rvsbnlc10rqh0000gp/T/ipykernel_37694/3442591118.py:10: UserWarning: Boolean Series key will be reindexed to match DataFrame index.\n",
      "  phih_3_2s = df_1xs_3_2[df_1xs_3_2['phih']>=i_phi_left][df_1xs_3_2['phih']<i_phi]['phih'].tolist()\n",
      "/var/folders/j9/hgt6bjfn0n78rvsbnlc10rqh0000gp/T/ipykernel_37694/3442591118.py:11: UserWarning: Boolean Series key will be reindexed to match DataFrame index.\n",
      "  Fuu_3_2s = df_1xs_3_2[df_1xs_3_2['phih']>=i_phi_left][df_1xs_3_2['phih']<i_phi]['value'].tolist()\n",
      "/var/folders/j9/hgt6bjfn0n78rvsbnlc10rqh0000gp/T/ipykernel_37694/3442591118.py:12: UserWarning: Boolean Series key will be reindexed to match DataFrame index.\n",
      "  Fuu_3_2_stats = df_1xs_3_2[df_1xs_3_2['phih']>=i_phi_left][df_1xs_3_2['phih']<i_phi]['stat'].tolist()\n",
      "/var/folders/j9/hgt6bjfn0n78rvsbnlc10rqh0000gp/T/ipykernel_37694/3442591118.py:10: UserWarning: Boolean Series key will be reindexed to match DataFrame index.\n",
      "  phih_3_2s = df_1xs_3_2[df_1xs_3_2['phih']>=i_phi_left][df_1xs_3_2['phih']<i_phi]['phih'].tolist()\n",
      "/var/folders/j9/hgt6bjfn0n78rvsbnlc10rqh0000gp/T/ipykernel_37694/3442591118.py:11: UserWarning: Boolean Series key will be reindexed to match DataFrame index.\n",
      "  Fuu_3_2s = df_1xs_3_2[df_1xs_3_2['phih']>=i_phi_left][df_1xs_3_2['phih']<i_phi]['value'].tolist()\n",
      "/var/folders/j9/hgt6bjfn0n78rvsbnlc10rqh0000gp/T/ipykernel_37694/3442591118.py:12: UserWarning: Boolean Series key will be reindexed to match DataFrame index.\n",
      "  Fuu_3_2_stats = df_1xs_3_2[df_1xs_3_2['phih']>=i_phi_left][df_1xs_3_2['phih']<i_phi]['stat'].tolist()\n",
      "/var/folders/j9/hgt6bjfn0n78rvsbnlc10rqh0000gp/T/ipykernel_37694/3442591118.py:10: UserWarning: Boolean Series key will be reindexed to match DataFrame index.\n",
      "  phih_3_2s = df_1xs_3_2[df_1xs_3_2['phih']>=i_phi_left][df_1xs_3_2['phih']<i_phi]['phih'].tolist()\n",
      "/var/folders/j9/hgt6bjfn0n78rvsbnlc10rqh0000gp/T/ipykernel_37694/3442591118.py:11: UserWarning: Boolean Series key will be reindexed to match DataFrame index.\n",
      "  Fuu_3_2s = df_1xs_3_2[df_1xs_3_2['phih']>=i_phi_left][df_1xs_3_2['phih']<i_phi]['value'].tolist()\n",
      "/var/folders/j9/hgt6bjfn0n78rvsbnlc10rqh0000gp/T/ipykernel_37694/3442591118.py:12: UserWarning: Boolean Series key will be reindexed to match DataFrame index.\n",
      "  Fuu_3_2_stats = df_1xs_3_2[df_1xs_3_2['phih']>=i_phi_left][df_1xs_3_2['phih']<i_phi]['stat'].tolist()\n",
      "/var/folders/j9/hgt6bjfn0n78rvsbnlc10rqh0000gp/T/ipykernel_37694/3442591118.py:10: UserWarning: Boolean Series key will be reindexed to match DataFrame index.\n",
      "  phih_3_2s = df_1xs_3_2[df_1xs_3_2['phih']>=i_phi_left][df_1xs_3_2['phih']<i_phi]['phih'].tolist()\n",
      "/var/folders/j9/hgt6bjfn0n78rvsbnlc10rqh0000gp/T/ipykernel_37694/3442591118.py:11: UserWarning: Boolean Series key will be reindexed to match DataFrame index.\n",
      "  Fuu_3_2s = df_1xs_3_2[df_1xs_3_2['phih']>=i_phi_left][df_1xs_3_2['phih']<i_phi]['value'].tolist()\n",
      "/var/folders/j9/hgt6bjfn0n78rvsbnlc10rqh0000gp/T/ipykernel_37694/3442591118.py:12: UserWarning: Boolean Series key will be reindexed to match DataFrame index.\n",
      "  Fuu_3_2_stats = df_1xs_3_2[df_1xs_3_2['phih']>=i_phi_left][df_1xs_3_2['phih']<i_phi]['stat'].tolist()\n",
      "/var/folders/j9/hgt6bjfn0n78rvsbnlc10rqh0000gp/T/ipykernel_37694/3442591118.py:10: UserWarning: Boolean Series key will be reindexed to match DataFrame index.\n",
      "  phih_3_2s = df_1xs_3_2[df_1xs_3_2['phih']>=i_phi_left][df_1xs_3_2['phih']<i_phi]['phih'].tolist()\n",
      "/var/folders/j9/hgt6bjfn0n78rvsbnlc10rqh0000gp/T/ipykernel_37694/3442591118.py:11: UserWarning: Boolean Series key will be reindexed to match DataFrame index.\n",
      "  Fuu_3_2s = df_1xs_3_2[df_1xs_3_2['phih']>=i_phi_left][df_1xs_3_2['phih']<i_phi]['value'].tolist()\n",
      "/var/folders/j9/hgt6bjfn0n78rvsbnlc10rqh0000gp/T/ipykernel_37694/3442591118.py:12: UserWarning: Boolean Series key will be reindexed to match DataFrame index.\n",
      "  Fuu_3_2_stats = df_1xs_3_2[df_1xs_3_2['phih']>=i_phi_left][df_1xs_3_2['phih']<i_phi]['stat'].tolist()\n"
     ]
    },
    {
     "data": {
      "text/plain": [
       "[<matplotlib.lines.Line2D at 0x127a60e20>]"
      ]
     },
     "execution_count": 41,
     "metadata": {},
     "output_type": "execute_result"
    },
    {
     "data": {
      "image/png": "[encoded data removed]",
      "text/plain": [
       "<Figure size 640x480 with 1 Axes>"
      ]
     },
     "metadata": {},
     "output_type": "display_data"
    }
   ],
   "source": [
    "fig = plt.figure()\n",
    "ax = fig.add_subplot()\n",
    "phih_3_2=[]\n",
    "Fuu_3_2=[]\n",
    "Fuu_3_2_stat=[]\n",
    "Fuu_3_2_sys=[]\n",
    "i_phi_left = phih_bins[0]\n",
    "for i_phi in phih_bins[1:]:\n",
    "    print(i_phi_left,i_phi)\n",
    "    phih_3_2s = df_1xs_3_2[df_1xs_3_2['phih']>=i_phi_left][df_1xs_3_2['phih']<i_phi]['phih'].tolist()\n",
    "    Fuu_3_2s = df_1xs_3_2[df_1xs_3_2['phih']>=i_phi_left][df_1xs_3_2['phih']<i_phi]['value'].tolist()\n",
    "    Fuu_3_2_stats = df_1xs_3_2[df_1xs_3_2['phih']>=i_phi_left][df_1xs_3_2['phih']<i_phi]['stat'].tolist()\n",
    "    print(len(phih_3_2s))\n",
    "    \n",
    "    if len(phih_3_2s)>0:  \n",
    "        #print('phih',phih_3_2s)\n",
    "        #print('Fuu',Fuu_3_2s)\n",
    "        #print('Fuu_stat',Fuu_3_2_stats)\n",
    "        _Fuu_3_2 = Get_weighted_average(Fuu_3_2s,Fuu_3_2_stats)[0]\n",
    "        _Fuu_3_2_stat = Get_weighted_average(Fuu_3_2s,Fuu_3_2_stats)[1]\n",
    "        _phih_3_2= Get_weighted_average_phi(phih_3_2s,Fuu_3_2_stats)[0]\n",
    "        #print('_Fuu_3_2',_Fuu_3_2)\n",
    "        #print('_phih',_phih_3_2)\n",
    "        #print('_Fuu_stat',_Fuu_3_2_stat)\n",
    "        Fuu_3_2.append(_Fuu_3_2)\n",
    "        phih_3_2.append(_phih_3_2)\n",
    "        Fuu_3_2_stat.append(_Fuu_3_2_stat)\n",
    "        Fuu_3_2_sys.append(Sys_table[2][1]*_Fuu_3_2)\n",
    "        #print(Fuu_3_2,phih_3_2)\n",
    "        ax.plot([_phih_3_2,_phih_3_2],[_Fuu_3_2-_Fuu_3_2_stat,_Fuu_3_2+_Fuu_3_2_stat],color='blue',marker='_')\n",
    "    i_phi_left = i_phi\n",
    "    #print('phileft',i_phi_left)\n",
    "plt.plot(phih_3_2,Fuu_3_2,'bo')"
   ]
  },
  {
   "cell_type": "code",
   "execution_count": 42,
   "id": "353e51d7",
   "metadata": {
    "scrolled": true
   },
   "outputs": [
    {
     "name": "stdout",
     "output_type": "stream",
     "text": [
      "-3.141592653589793 -2.5132741228718345\n",
      "12\n",
      "-2.5132741228718345 -1.8849555921538759\n",
      "11\n",
      "-1.8849555921538759 -1.2566370614359172\n",
      "10\n",
      "-1.2566370614359172 -0.6283185307179586\n",
      "8\n",
      "-0.6283185307179586 0.6283185307179586\n",
      "8\n",
      "0.6283185307179586 1.2566370614359172\n",
      "8\n",
      "1.2566370614359172 1.8849555921538759\n",
      "10\n",
      "1.8849555921538759 2.5132741228718345\n",
      "11\n",
      "2.5132741228718345 3.141592653589793\n",
      "13\n"
     ]
    },
    {
     "name": "stderr",
     "output_type": "stream",
     "text": [
      "/var/folders/j9/hgt6bjfn0n78rvsbnlc10rqh0000gp/T/ipykernel_37694/647871308.py:10: UserWarning: Boolean Series key will be reindexed to match DataFrame index.\n",
      "  phih_3_3s = df_1xs_3_3[df_1xs_3_3['phih']>=i_phi_left][df_1xs_3_3['phih']<i_phi]['phih'].tolist()\n",
      "/var/folders/j9/hgt6bjfn0n78rvsbnlc10rqh0000gp/T/ipykernel_37694/647871308.py:11: UserWarning: Boolean Series key will be reindexed to match DataFrame index.\n",
      "  Fuu_3_3s = df_1xs_3_3[df_1xs_3_3['phih']>=i_phi_left][df_1xs_3_3['phih']<i_phi]['value'].tolist()\n",
      "/var/folders/j9/hgt6bjfn0n78rvsbnlc10rqh0000gp/T/ipykernel_37694/647871308.py:12: UserWarning: Boolean Series key will be reindexed to match DataFrame index.\n",
      "  Fuu_3_3_stats = df_1xs_3_3[df_1xs_3_3['phih']>=i_phi_left][df_1xs_3_3['phih']<i_phi]['stat'].tolist()\n",
      "/var/folders/j9/hgt6bjfn0n78rvsbnlc10rqh0000gp/T/ipykernel_37694/647871308.py:10: UserWarning: Boolean Series key will be reindexed to match DataFrame index.\n",
      "  phih_3_3s = df_1xs_3_3[df_1xs_3_3['phih']>=i_phi_left][df_1xs_3_3['phih']<i_phi]['phih'].tolist()\n",
      "/var/folders/j9/hgt6bjfn0n78rvsbnlc10rqh0000gp/T/ipykernel_37694/647871308.py:11: UserWarning: Boolean Series key will be reindexed to match DataFrame index.\n",
      "  Fuu_3_3s = df_1xs_3_3[df_1xs_3_3['phih']>=i_phi_left][df_1xs_3_3['phih']<i_phi]['value'].tolist()\n",
      "/var/folders/j9/hgt6bjfn0n78rvsbnlc10rqh0000gp/T/ipykernel_37694/647871308.py:12: UserWarning: Boolean Series key will be reindexed to match DataFrame index.\n",
      "  Fuu_3_3_stats = df_1xs_3_3[df_1xs_3_3['phih']>=i_phi_left][df_1xs_3_3['phih']<i_phi]['stat'].tolist()\n",
      "/var/folders/j9/hgt6bjfn0n78rvsbnlc10rqh0000gp/T/ipykernel_37694/647871308.py:10: UserWarning: Boolean Series key will be reindexed to match DataFrame index.\n",
      "  phih_3_3s = df_1xs_3_3[df_1xs_3_3['phih']>=i_phi_left][df_1xs_3_3['phih']<i_phi]['phih'].tolist()\n",
      "/var/folders/j9/hgt6bjfn0n78rvsbnlc10rqh0000gp/T/ipykernel_37694/647871308.py:11: UserWarning: Boolean Series key will be reindexed to match DataFrame index.\n",
      "  Fuu_3_3s = df_1xs_3_3[df_1xs_3_3['phih']>=i_phi_left][df_1xs_3_3['phih']<i_phi]['value'].tolist()\n",
      "/var/folders/j9/hgt6bjfn0n78rvsbnlc10rqh0000gp/T/ipykernel_37694/647871308.py:12: UserWarning: Boolean Series key will be reindexed to match DataFrame index.\n",
      "  Fuu_3_3_stats = df_1xs_3_3[df_1xs_3_3['phih']>=i_phi_left][df_1xs_3_3['phih']<i_phi]['stat'].tolist()\n",
      "/var/folders/j9/hgt6bjfn0n78rvsbnlc10rqh0000gp/T/ipykernel_37694/647871308.py:10: UserWarning: Boolean Series key will be reindexed to match DataFrame index.\n",
      "  phih_3_3s = df_1xs_3_3[df_1xs_3_3['phih']>=i_phi_left][df_1xs_3_3['phih']<i_phi]['phih'].tolist()\n",
      "/var/folders/j9/hgt6bjfn0n78rvsbnlc10rqh0000gp/T/ipykernel_37694/647871308.py:11: UserWarning: Boolean Series key will be reindexed to match DataFrame index.\n",
      "  Fuu_3_3s = df_1xs_3_3[df_1xs_3_3['phih']>=i_phi_left][df_1xs_3_3['phih']<i_phi]['value'].tolist()\n",
      "/var/folders/j9/hgt6bjfn0n78rvsbnlc10rqh0000gp/T/ipykernel_37694/647871308.py:12: UserWarning: Boolean Series key will be reindexed to match DataFrame index.\n",
      "  Fuu_3_3_stats = df_1xs_3_3[df_1xs_3_3['phih']>=i_phi_left][df_1xs_3_3['phih']<i_phi]['stat'].tolist()\n",
      "/var/folders/j9/hgt6bjfn0n78rvsbnlc10rqh0000gp/T/ipykernel_37694/647871308.py:10: UserWarning: Boolean Series key will be reindexed to match DataFrame index.\n",
      "  phih_3_3s = df_1xs_3_3[df_1xs_3_3['phih']>=i_phi_left][df_1xs_3_3['phih']<i_phi]['phih'].tolist()\n",
      "/var/folders/j9/hgt6bjfn0n78rvsbnlc10rqh0000gp/T/ipykernel_37694/647871308.py:11: UserWarning: Boolean Series key will be reindexed to match DataFrame index.\n",
      "  Fuu_3_3s = df_1xs_3_3[df_1xs_3_3['phih']>=i_phi_left][df_1xs_3_3['phih']<i_phi]['value'].tolist()\n",
      "/var/folders/j9/hgt6bjfn0n78rvsbnlc10rqh0000gp/T/ipykernel_37694/647871308.py:12: UserWarning: Boolean Series key will be reindexed to match DataFrame index.\n",
      "  Fuu_3_3_stats = df_1xs_3_3[df_1xs_3_3['phih']>=i_phi_left][df_1xs_3_3['phih']<i_phi]['stat'].tolist()\n",
      "/var/folders/j9/hgt6bjfn0n78rvsbnlc10rqh0000gp/T/ipykernel_37694/647871308.py:10: UserWarning: Boolean Series key will be reindexed to match DataFrame index.\n",
      "  phih_3_3s = df_1xs_3_3[df_1xs_3_3['phih']>=i_phi_left][df_1xs_3_3['phih']<i_phi]['phih'].tolist()\n",
      "/var/folders/j9/hgt6bjfn0n78rvsbnlc10rqh0000gp/T/ipykernel_37694/647871308.py:11: UserWarning: Boolean Series key will be reindexed to match DataFrame index.\n",
      "  Fuu_3_3s = df_1xs_3_3[df_1xs_3_3['phih']>=i_phi_left][df_1xs_3_3['phih']<i_phi]['value'].tolist()\n",
      "/var/folders/j9/hgt6bjfn0n78rvsbnlc10rqh0000gp/T/ipykernel_37694/647871308.py:12: UserWarning: Boolean Series key will be reindexed to match DataFrame index.\n",
      "  Fuu_3_3_stats = df_1xs_3_3[df_1xs_3_3['phih']>=i_phi_left][df_1xs_3_3['phih']<i_phi]['stat'].tolist()\n",
      "/var/folders/j9/hgt6bjfn0n78rvsbnlc10rqh0000gp/T/ipykernel_37694/647871308.py:10: UserWarning: Boolean Series key will be reindexed to match DataFrame index.\n",
      "  phih_3_3s = df_1xs_3_3[df_1xs_3_3['phih']>=i_phi_left][df_1xs_3_3['phih']<i_phi]['phih'].tolist()\n",
      "/var/folders/j9/hgt6bjfn0n78rvsbnlc10rqh0000gp/T/ipykernel_37694/647871308.py:11: UserWarning: Boolean Series key will be reindexed to match DataFrame index.\n",
      "  Fuu_3_3s = df_1xs_3_3[df_1xs_3_3['phih']>=i_phi_left][df_1xs_3_3['phih']<i_phi]['value'].tolist()\n",
      "/var/folders/j9/hgt6bjfn0n78rvsbnlc10rqh0000gp/T/ipykernel_37694/647871308.py:12: UserWarning: Boolean Series key will be reindexed to match DataFrame index.\n",
      "  Fuu_3_3_stats = df_1xs_3_3[df_1xs_3_3['phih']>=i_phi_left][df_1xs_3_3['phih']<i_phi]['stat'].tolist()\n",
      "/var/folders/j9/hgt6bjfn0n78rvsbnlc10rqh0000gp/T/ipykernel_37694/647871308.py:10: UserWarning: Boolean Series key will be reindexed to match DataFrame index.\n",
      "  phih_3_3s = df_1xs_3_3[df_1xs_3_3['phih']>=i_phi_left][df_1xs_3_3['phih']<i_phi]['phih'].tolist()\n",
      "/var/folders/j9/hgt6bjfn0n78rvsbnlc10rqh0000gp/T/ipykernel_37694/647871308.py:11: UserWarning: Boolean Series key will be reindexed to match DataFrame index.\n",
      "  Fuu_3_3s = df_1xs_3_3[df_1xs_3_3['phih']>=i_phi_left][df_1xs_3_3['phih']<i_phi]['value'].tolist()\n",
      "/var/folders/j9/hgt6bjfn0n78rvsbnlc10rqh0000gp/T/ipykernel_37694/647871308.py:12: UserWarning: Boolean Series key will be reindexed to match DataFrame index.\n",
      "  Fuu_3_3_stats = df_1xs_3_3[df_1xs_3_3['phih']>=i_phi_left][df_1xs_3_3['phih']<i_phi]['stat'].tolist()\n"
     ]
    },
    {
     "data": {
      "text/plain": [
       "[<matplotlib.lines.Line2D at 0x127adc910>]"
      ]
     },
     "execution_count": 42,
     "metadata": {},
     "output_type": "execute_result"
    },
    {
     "data": {
      "image/png": "[encoded data removed]",
      "text/plain": [
       "<Figure size 640x480 with 1 Axes>"
      ]
     },
     "metadata": {},
     "output_type": "display_data"
    }
   ],
   "source": [
    "fig = plt.figure()\n",
    "ax = fig.add_subplot()\n",
    "phih_3_3=[]\n",
    "Fuu_3_3=[]\n",
    "Fuu_3_3_stat=[]\n",
    "Fuu_3_3_sys=[]\n",
    "i_phi_left = phih_bins[0]\n",
    "for i_phi in phih_bins[1:]:\n",
    "    print(i_phi_left,i_phi)\n",
    "    phih_3_3s = df_1xs_3_3[df_1xs_3_3['phih']>=i_phi_left][df_1xs_3_3['phih']<i_phi]['phih'].tolist()\n",
    "    Fuu_3_3s = df_1xs_3_3[df_1xs_3_3['phih']>=i_phi_left][df_1xs_3_3['phih']<i_phi]['value'].tolist()\n",
    "    Fuu_3_3_stats = df_1xs_3_3[df_1xs_3_3['phih']>=i_phi_left][df_1xs_3_3['phih']<i_phi]['stat'].tolist()\n",
    "    print(len(phih_3_3s))\n",
    "    \n",
    "    if len(phih_3_3s)>0:  \n",
    "        #print('phih',phih_3_3s)\n",
    "        #print('Fuu',Fuu_3_3s)\n",
    "        #print('Fuu_stat',Fuu_3_3_stats)\n",
    "        _Fuu_3_3 = Get_weighted_average(Fuu_3_3s,Fuu_3_3_stats)[0]\n",
    "        _Fuu_3_3_stat = Get_weighted_average(Fuu_3_3s,Fuu_3_3_stats)[1]\n",
    "        _phih_3_3= Get_weighted_average_phi(phih_3_3s,Fuu_3_3_stats)[0]\n",
    "        #print('_Fuu_3_3',_Fuu_3_3)\n",
    "        #print('_phih',_phih_3_3)\n",
    "        #print('_Fuu_stat',_Fuu_3_3_stat)\n",
    "        Fuu_3_3.append(_Fuu_3_3)\n",
    "        phih_3_3.append(_phih_3_3)\n",
    "        Fuu_3_3_stat.append(_Fuu_3_3_stat)\n",
    "        Fuu_3_3_sys.append(Sys_table[2][2]*_Fuu_3_3)\n",
    "        #print(Fuu_3_3,phih_3_3)\n",
    "        ax.plot([_phih_3_3,_phih_3_3],[_Fuu_3_3-_Fuu_3_3_stat,_Fuu_3_3+_Fuu_3_3_stat],color='blue',marker='_')\n",
    "    i_phi_left = i_phi\n",
    "    #print('phileft',i_phi_left)\n",
    "plt.plot(phih_3_3,Fuu_3_3,'bo')"
   ]
  },
  {
   "cell_type": "code",
   "execution_count": 43,
   "id": "5353444d",
   "metadata": {
    "scrolled": true
   },
   "outputs": [
    {
     "name": "stdout",
     "output_type": "stream",
     "text": [
      "-3.141592653589793 -2.5132741228718345\n",
      "16\n",
      "-2.5132741228718345 -1.8849555921538759\n",
      "16\n",
      "-1.8849555921538759 -1.2566370614359172\n",
      "13\n",
      "-1.2566370614359172 -0.6283185307179586\n",
      "7\n",
      "-0.6283185307179586 0.6283185307179586\n",
      "1\n",
      "0.6283185307179586 1.2566370614359172\n",
      "7\n",
      "1.2566370614359172 1.8849555921538759\n",
      "13\n",
      "1.8849555921538759 2.5132741228718345\n",
      "16\n",
      "2.5132741228718345 3.141592653589793\n",
      "16\n"
     ]
    },
    {
     "name": "stderr",
     "output_type": "stream",
     "text": [
      "/var/folders/j9/hgt6bjfn0n78rvsbnlc10rqh0000gp/T/ipykernel_37694/2152064691.py:10: UserWarning: Boolean Series key will be reindexed to match DataFrame index.\n",
      "  phih_4_1s = df_1xs_4_1[df_1xs_4_1['phih']>=i_phi_left][df_1xs_4_1['phih']<i_phi]['phih'].tolist()\n",
      "/var/folders/j9/hgt6bjfn0n78rvsbnlc10rqh0000gp/T/ipykernel_37694/2152064691.py:11: UserWarning: Boolean Series key will be reindexed to match DataFrame index.\n",
      "  Fuu_4_1s = df_1xs_4_1[df_1xs_4_1['phih']>=i_phi_left][df_1xs_4_1['phih']<i_phi]['value'].tolist()\n",
      "/var/folders/j9/hgt6bjfn0n78rvsbnlc10rqh0000gp/T/ipykernel_37694/2152064691.py:12: UserWarning: Boolean Series key will be reindexed to match DataFrame index.\n",
      "  Fuu_4_1_stats = df_1xs_4_1[df_1xs_4_1['phih']>=i_phi_left][df_1xs_4_1['phih']<i_phi]['stat'].tolist()\n",
      "/var/folders/j9/hgt6bjfn0n78rvsbnlc10rqh0000gp/T/ipykernel_37694/2152064691.py:10: UserWarning: Boolean Series key will be reindexed to match DataFrame index.\n",
      "  phih_4_1s = df_1xs_4_1[df_1xs_4_1['phih']>=i_phi_left][df_1xs_4_1['phih']<i_phi]['phih'].tolist()\n",
      "/var/folders/j9/hgt6bjfn0n78rvsbnlc10rqh0000gp/T/ipykernel_37694/2152064691.py:11: UserWarning: Boolean Series key will be reindexed to match DataFrame index.\n",
      "  Fuu_4_1s = df_1xs_4_1[df_1xs_4_1['phih']>=i_phi_left][df_1xs_4_1['phih']<i_phi]['value'].tolist()\n",
      "/var/folders/j9/hgt6bjfn0n78rvsbnlc10rqh0000gp/T/ipykernel_37694/2152064691.py:12: UserWarning: Boolean Series key will be reindexed to match DataFrame index.\n",
      "  Fuu_4_1_stats = df_1xs_4_1[df_1xs_4_1['phih']>=i_phi_left][df_1xs_4_1['phih']<i_phi]['stat'].tolist()\n",
      "/var/folders/j9/hgt6bjfn0n78rvsbnlc10rqh0000gp/T/ipykernel_37694/2152064691.py:10: UserWarning: Boolean Series key will be reindexed to match DataFrame index.\n",
      "  phih_4_1s = df_1xs_4_1[df_1xs_4_1['phih']>=i_phi_left][df_1xs_4_1['phih']<i_phi]['phih'].tolist()\n",
      "/var/folders/j9/hgt6bjfn0n78rvsbnlc10rqh0000gp/T/ipykernel_37694/2152064691.py:11: UserWarning: Boolean Series key will be reindexed to match DataFrame index.\n",
      "  Fuu_4_1s = df_1xs_4_1[df_1xs_4_1['phih']>=i_phi_left][df_1xs_4_1['phih']<i_phi]['value'].tolist()\n",
      "/var/folders/j9/hgt6bjfn0n78rvsbnlc10rqh0000gp/T/ipykernel_37694/2152064691.py:12: UserWarning: Boolean Series key will be reindexed to match DataFrame index.\n",
      "  Fuu_4_1_stats = df_1xs_4_1[df_1xs_4_1['phih']>=i_phi_left][df_1xs_4_1['phih']<i_phi]['stat'].tolist()\n",
      "/var/folders/j9/hgt6bjfn0n78rvsbnlc10rqh0000gp/T/ipykernel_37694/2152064691.py:10: UserWarning: Boolean Series key will be reindexed to match DataFrame index.\n",
      "  phih_4_1s = df_1xs_4_1[df_1xs_4_1['phih']>=i_phi_left][df_1xs_4_1['phih']<i_phi]['phih'].tolist()\n",
      "/var/folders/j9/hgt6bjfn0n78rvsbnlc10rqh0000gp/T/ipykernel_37694/2152064691.py:11: UserWarning: Boolean Series key will be reindexed to match DataFrame index.\n",
      "  Fuu_4_1s = df_1xs_4_1[df_1xs_4_1['phih']>=i_phi_left][df_1xs_4_1['phih']<i_phi]['value'].tolist()\n",
      "/var/folders/j9/hgt6bjfn0n78rvsbnlc10rqh0000gp/T/ipykernel_37694/2152064691.py:12: UserWarning: Boolean Series key will be reindexed to match DataFrame index.\n",
      "  Fuu_4_1_stats = df_1xs_4_1[df_1xs_4_1['phih']>=i_phi_left][df_1xs_4_1['phih']<i_phi]['stat'].tolist()\n",
      "/var/folders/j9/hgt6bjfn0n78rvsbnlc10rqh0000gp/T/ipykernel_37694/2152064691.py:10: UserWarning: Boolean Series key will be reindexed to match DataFrame index.\n",
      "  phih_4_1s = df_1xs_4_1[df_1xs_4_1['phih']>=i_phi_left][df_1xs_4_1['phih']<i_phi]['phih'].tolist()\n",
      "/var/folders/j9/hgt6bjfn0n78rvsbnlc10rqh0000gp/T/ipykernel_37694/2152064691.py:11: UserWarning: Boolean Series key will be reindexed to match DataFrame index.\n",
      "  Fuu_4_1s = df_1xs_4_1[df_1xs_4_1['phih']>=i_phi_left][df_1xs_4_1['phih']<i_phi]['value'].tolist()\n",
      "/var/folders/j9/hgt6bjfn0n78rvsbnlc10rqh0000gp/T/ipykernel_37694/2152064691.py:12: UserWarning: Boolean Series key will be reindexed to match DataFrame index.\n",
      "  Fuu_4_1_stats = df_1xs_4_1[df_1xs_4_1['phih']>=i_phi_left][df_1xs_4_1['phih']<i_phi]['stat'].tolist()\n",
      "/var/folders/j9/hgt6bjfn0n78rvsbnlc10rqh0000gp/T/ipykernel_37694/2152064691.py:10: UserWarning: Boolean Series key will be reindexed to match DataFrame index.\n",
      "  phih_4_1s = df_1xs_4_1[df_1xs_4_1['phih']>=i_phi_left][df_1xs_4_1['phih']<i_phi]['phih'].tolist()\n",
      "/var/folders/j9/hgt6bjfn0n78rvsbnlc10rqh0000gp/T/ipykernel_37694/2152064691.py:11: UserWarning: Boolean Series key will be reindexed to match DataFrame index.\n",
      "  Fuu_4_1s = df_1xs_4_1[df_1xs_4_1['phih']>=i_phi_left][df_1xs_4_1['phih']<i_phi]['value'].tolist()\n",
      "/var/folders/j9/hgt6bjfn0n78rvsbnlc10rqh0000gp/T/ipykernel_37694/2152064691.py:12: UserWarning: Boolean Series key will be reindexed to match DataFrame index.\n",
      "  Fuu_4_1_stats = df_1xs_4_1[df_1xs_4_1['phih']>=i_phi_left][df_1xs_4_1['phih']<i_phi]['stat'].tolist()\n",
      "/var/folders/j9/hgt6bjfn0n78rvsbnlc10rqh0000gp/T/ipykernel_37694/2152064691.py:10: UserWarning: Boolean Series key will be reindexed to match DataFrame index.\n",
      "  phih_4_1s = df_1xs_4_1[df_1xs_4_1['phih']>=i_phi_left][df_1xs_4_1['phih']<i_phi]['phih'].tolist()\n",
      "/var/folders/j9/hgt6bjfn0n78rvsbnlc10rqh0000gp/T/ipykernel_37694/2152064691.py:11: UserWarning: Boolean Series key will be reindexed to match DataFrame index.\n",
      "  Fuu_4_1s = df_1xs_4_1[df_1xs_4_1['phih']>=i_phi_left][df_1xs_4_1['phih']<i_phi]['value'].tolist()\n",
      "/var/folders/j9/hgt6bjfn0n78rvsbnlc10rqh0000gp/T/ipykernel_37694/2152064691.py:12: UserWarning: Boolean Series key will be reindexed to match DataFrame index.\n",
      "  Fuu_4_1_stats = df_1xs_4_1[df_1xs_4_1['phih']>=i_phi_left][df_1xs_4_1['phih']<i_phi]['stat'].tolist()\n",
      "/var/folders/j9/hgt6bjfn0n78rvsbnlc10rqh0000gp/T/ipykernel_37694/2152064691.py:10: UserWarning: Boolean Series key will be reindexed to match DataFrame index.\n",
      "  phih_4_1s = df_1xs_4_1[df_1xs_4_1['phih']>=i_phi_left][df_1xs_4_1['phih']<i_phi]['phih'].tolist()\n",
      "/var/folders/j9/hgt6bjfn0n78rvsbnlc10rqh0000gp/T/ipykernel_37694/2152064691.py:11: UserWarning: Boolean Series key will be reindexed to match DataFrame index.\n",
      "  Fuu_4_1s = df_1xs_4_1[df_1xs_4_1['phih']>=i_phi_left][df_1xs_4_1['phih']<i_phi]['value'].tolist()\n",
      "/var/folders/j9/hgt6bjfn0n78rvsbnlc10rqh0000gp/T/ipykernel_37694/2152064691.py:12: UserWarning: Boolean Series key will be reindexed to match DataFrame index.\n",
      "  Fuu_4_1_stats = df_1xs_4_1[df_1xs_4_1['phih']>=i_phi_left][df_1xs_4_1['phih']<i_phi]['stat'].tolist()\n"
     ]
    },
    {
     "data": {
      "text/plain": [
       "[<matplotlib.lines.Line2D at 0x127b5d540>]"
      ]
     },
     "execution_count": 43,
     "metadata": {},
     "output_type": "execute_result"
    },
    {
     "data": {
      "image/png": "[encoded data removed]",
      "text/plain": [
       "<Figure size 640x480 with 1 Axes>"
      ]
     },
     "metadata": {},
     "output_type": "display_data"
    }
   ],
   "source": [
    "fig = plt.figure()\n",
    "ax = fig.add_subplot()\n",
    "phih_4_1=[]\n",
    "Fuu_4_1=[]\n",
    "Fuu_4_1_stat=[]\n",
    "Fuu_4_1_sys=[]\n",
    "i_phi_left = phih_bins[0]\n",
    "for i_phi in phih_bins[1:]:\n",
    "    print(i_phi_left,i_phi)\n",
    "    phih_4_1s = df_1xs_4_1[df_1xs_4_1['phih']>=i_phi_left][df_1xs_4_1['phih']<i_phi]['phih'].tolist()\n",
    "    Fuu_4_1s = df_1xs_4_1[df_1xs_4_1['phih']>=i_phi_left][df_1xs_4_1['phih']<i_phi]['value'].tolist()\n",
    "    Fuu_4_1_stats = df_1xs_4_1[df_1xs_4_1['phih']>=i_phi_left][df_1xs_4_1['phih']<i_phi]['stat'].tolist()\n",
    "    print(len(phih_4_1s))\n",
    "    \n",
    "    if len(phih_4_1s)>0:  \n",
    "        #print('phih',phih_4_1s)\n",
    "        #print('Fuu',Fuu_4_1s)\n",
    "        #print('Fuu_stat',Fuu_4_1_stats)\n",
    "        _Fuu_4_1 = Get_weighted_average(Fuu_4_1s,Fuu_4_1_stats)[0]\n",
    "        _Fuu_4_1_stat = Get_weighted_average(Fuu_4_1s,Fuu_4_1_stats)[1]\n",
    "        _phih_4_1= Get_weighted_average_phi(phih_4_1s,Fuu_4_1_stats)[0]\n",
    "        #print('_Fuu_4_1',_Fuu_4_1)\n",
    "        #print('_phih',_phih_4_1)\n",
    "        #print('_Fuu_stat',_Fuu_4_1_stat)\n",
    "        Fuu_4_1.append(_Fuu_4_1)\n",
    "        phih_4_1.append(_phih_4_1)\n",
    "        Fuu_4_1_stat.append(_Fuu_4_1_stat)\n",
    "        Fuu_4_1_sys.append(Sys_table[3][0]*_Fuu_4_1)\n",
    "        #print(Fuu_4_1,phih_4_1)\n",
    "        ax.plot([_phih_4_1,_phih_4_1],[_Fuu_4_1-_Fuu_4_1_stat,_Fuu_4_1+_Fuu_4_1_stat],color='blue',marker='_')\n",
    "    i_phi_left = i_phi\n",
    "    #print('phileft',i_phi_left)\n",
    "plt.plot(phih_4_1,Fuu_4_1,'bo')"
   ]
  },
  {
   "cell_type": "code",
   "execution_count": 44,
   "id": "e95fd1ad",
   "metadata": {
    "scrolled": true
   },
   "outputs": [
    {
     "name": "stdout",
     "output_type": "stream",
     "text": [
      "-3.141592653589793 -2.5132741228718345\n",
      "10\n",
      "-2.5132741228718345 -1.8849555921538759\n",
      "9\n",
      "-1.8849555921538759 -1.2566370614359172\n",
      "7\n",
      "-1.2566370614359172 -0.6283185307179586\n",
      "4\n",
      "-0.6283185307179586 0.6283185307179586\n",
      "2\n",
      "0.6283185307179586 1.2566370614359172\n",
      "3\n",
      "1.2566370614359172 1.8849555921538759\n",
      "6\n",
      "1.8849555921538759 2.5132741228718345\n",
      "10\n",
      "2.5132741228718345 3.141592653589793\n",
      "10\n"
     ]
    },
    {
     "name": "stderr",
     "output_type": "stream",
     "text": [
      "/var/folders/j9/hgt6bjfn0n78rvsbnlc10rqh0000gp/T/ipykernel_37694/1939581717.py:10: UserWarning: Boolean Series key will be reindexed to match DataFrame index.\n",
      "  phih_4_2s = df_1xs_4_2[df_1xs_4_2['phih']>=i_phi_left][df_1xs_4_2['phih']<i_phi]['phih'].tolist()\n",
      "/var/folders/j9/hgt6bjfn0n78rvsbnlc10rqh0000gp/T/ipykernel_37694/1939581717.py:11: UserWarning: Boolean Series key will be reindexed to match DataFrame index.\n",
      "  Fuu_4_2s = df_1xs_4_2[df_1xs_4_2['phih']>=i_phi_left][df_1xs_4_2['phih']<i_phi]['value'].tolist()\n",
      "/var/folders/j9/hgt6bjfn0n78rvsbnlc10rqh0000gp/T/ipykernel_37694/1939581717.py:12: UserWarning: Boolean Series key will be reindexed to match DataFrame index.\n",
      "  Fuu_4_2_stats = df_1xs_4_2[df_1xs_4_2['phih']>=i_phi_left][df_1xs_4_2['phih']<i_phi]['stat'].tolist()\n",
      "/var/folders/j9/hgt6bjfn0n78rvsbnlc10rqh0000gp/T/ipykernel_37694/1939581717.py:10: UserWarning: Boolean Series key will be reindexed to match DataFrame index.\n",
      "  phih_4_2s = df_1xs_4_2[df_1xs_4_2['phih']>=i_phi_left][df_1xs_4_2['phih']<i_phi]['phih'].tolist()\n",
      "/var/folders/j9/hgt6bjfn0n78rvsbnlc10rqh0000gp/T/ipykernel_37694/1939581717.py:11: UserWarning: Boolean Series key will be reindexed to match DataFrame index.\n",
      "  Fuu_4_2s = df_1xs_4_2[df_1xs_4_2['phih']>=i_phi_left][df_1xs_4_2['phih']<i_phi]['value'].tolist()\n",
      "/var/folders/j9/hgt6bjfn0n78rvsbnlc10rqh0000gp/T/ipykernel_37694/1939581717.py:12: UserWarning: Boolean Series key will be reindexed to match DataFrame index.\n",
      "  Fuu_4_2_stats = df_1xs_4_2[df_1xs_4_2['phih']>=i_phi_left][df_1xs_4_2['phih']<i_phi]['stat'].tolist()\n",
      "/var/folders/j9/hgt6bjfn0n78rvsbnlc10rqh0000gp/T/ipykernel_37694/1939581717.py:10: UserWarning: Boolean Series key will be reindexed to match DataFrame index.\n",
      "  phih_4_2s = df_1xs_4_2[df_1xs_4_2['phih']>=i_phi_left][df_1xs_4_2['phih']<i_phi]['phih'].tolist()\n",
      "/var/folders/j9/hgt6bjfn0n78rvsbnlc10rqh0000gp/T/ipykernel_37694/1939581717.py:11: UserWarning: Boolean Series key will be reindexed to match DataFrame index.\n",
      "  Fuu_4_2s = df_1xs_4_2[df_1xs_4_2['phih']>=i_phi_left][df_1xs_4_2['phih']<i_phi]['value'].tolist()\n",
      "/var/folders/j9/hgt6bjfn0n78rvsbnlc10rqh0000gp/T/ipykernel_37694/1939581717.py:12: UserWarning: Boolean Series key will be reindexed to match DataFrame index.\n",
      "  Fuu_4_2_stats = df_1xs_4_2[df_1xs_4_2['phih']>=i_phi_left][df_1xs_4_2['phih']<i_phi]['stat'].tolist()\n",
      "/var/folders/j9/hgt6bjfn0n78rvsbnlc10rqh0000gp/T/ipykernel_37694/1939581717.py:10: UserWarning: Boolean Series key will be reindexed to match DataFrame index.\n",
      "  phih_4_2s = df_1xs_4_2[df_1xs_4_2['phih']>=i_phi_left][df_1xs_4_2['phih']<i_phi]['phih'].tolist()\n",
      "/var/folders/j9/hgt6bjfn0n78rvsbnlc10rqh0000gp/T/ipykernel_37694/1939581717.py:11: UserWarning: Boolean Series key will be reindexed to match DataFrame index.\n",
      "  Fuu_4_2s = df_1xs_4_2[df_1xs_4_2['phih']>=i_phi_left][df_1xs_4_2['phih']<i_phi]['value'].tolist()\n",
      "/var/folders/j9/hgt6bjfn0n78rvsbnlc10rqh0000gp/T/ipykernel_37694/1939581717.py:12: UserWarning: Boolean Series key will be reindexed to match DataFrame index.\n",
      "  Fuu_4_2_stats = df_1xs_4_2[df_1xs_4_2['phih']>=i_phi_left][df_1xs_4_2['phih']<i_phi]['stat'].tolist()\n",
      "/var/folders/j9/hgt6bjfn0n78rvsbnlc10rqh0000gp/T/ipykernel_37694/1939581717.py:10: UserWarning: Boolean Series key will be reindexed to match DataFrame index.\n",
      "  phih_4_2s = df_1xs_4_2[df_1xs_4_2['phih']>=i_phi_left][df_1xs_4_2['phih']<i_phi]['phih'].tolist()\n",
      "/var/folders/j9/hgt6bjfn0n78rvsbnlc10rqh0000gp/T/ipykernel_37694/1939581717.py:11: UserWarning: Boolean Series key will be reindexed to match DataFrame index.\n",
      "  Fuu_4_2s = df_1xs_4_2[df_1xs_4_2['phih']>=i_phi_left][df_1xs_4_2['phih']<i_phi]['value'].tolist()\n",
      "/var/folders/j9/hgt6bjfn0n78rvsbnlc10rqh0000gp/T/ipykernel_37694/1939581717.py:12: UserWarning: Boolean Series key will be reindexed to match DataFrame index.\n",
      "  Fuu_4_2_stats = df_1xs_4_2[df_1xs_4_2['phih']>=i_phi_left][df_1xs_4_2['phih']<i_phi]['stat'].tolist()\n",
      "/var/folders/j9/hgt6bjfn0n78rvsbnlc10rqh0000gp/T/ipykernel_37694/1939581717.py:10: UserWarning: Boolean Series key will be reindexed to match DataFrame index.\n",
      "  phih_4_2s = df_1xs_4_2[df_1xs_4_2['phih']>=i_phi_left][df_1xs_4_2['phih']<i_phi]['phih'].tolist()\n",
      "/var/folders/j9/hgt6bjfn0n78rvsbnlc10rqh0000gp/T/ipykernel_37694/1939581717.py:11: UserWarning: Boolean Series key will be reindexed to match DataFrame index.\n",
      "  Fuu_4_2s = df_1xs_4_2[df_1xs_4_2['phih']>=i_phi_left][df_1xs_4_2['phih']<i_phi]['value'].tolist()\n",
      "/var/folders/j9/hgt6bjfn0n78rvsbnlc10rqh0000gp/T/ipykernel_37694/1939581717.py:12: UserWarning: Boolean Series key will be reindexed to match DataFrame index.\n",
      "  Fuu_4_2_stats = df_1xs_4_2[df_1xs_4_2['phih']>=i_phi_left][df_1xs_4_2['phih']<i_phi]['stat'].tolist()\n",
      "/var/folders/j9/hgt6bjfn0n78rvsbnlc10rqh0000gp/T/ipykernel_37694/1939581717.py:10: UserWarning: Boolean Series key will be reindexed to match DataFrame index.\n",
      "  phih_4_2s = df_1xs_4_2[df_1xs_4_2['phih']>=i_phi_left][df_1xs_4_2['phih']<i_phi]['phih'].tolist()\n",
      "/var/folders/j9/hgt6bjfn0n78rvsbnlc10rqh0000gp/T/ipykernel_37694/1939581717.py:11: UserWarning: Boolean Series key will be reindexed to match DataFrame index.\n",
      "  Fuu_4_2s = df_1xs_4_2[df_1xs_4_2['phih']>=i_phi_left][df_1xs_4_2['phih']<i_phi]['value'].tolist()\n",
      "/var/folders/j9/hgt6bjfn0n78rvsbnlc10rqh0000gp/T/ipykernel_37694/1939581717.py:12: UserWarning: Boolean Series key will be reindexed to match DataFrame index.\n",
      "  Fuu_4_2_stats = df_1xs_4_2[df_1xs_4_2['phih']>=i_phi_left][df_1xs_4_2['phih']<i_phi]['stat'].tolist()\n",
      "/var/folders/j9/hgt6bjfn0n78rvsbnlc10rqh0000gp/T/ipykernel_37694/1939581717.py:10: UserWarning: Boolean Series key will be reindexed to match DataFrame index.\n",
      "  phih_4_2s = df_1xs_4_2[df_1xs_4_2['phih']>=i_phi_left][df_1xs_4_2['phih']<i_phi]['phih'].tolist()\n",
      "/var/folders/j9/hgt6bjfn0n78rvsbnlc10rqh0000gp/T/ipykernel_37694/1939581717.py:11: UserWarning: Boolean Series key will be reindexed to match DataFrame index.\n",
      "  Fuu_4_2s = df_1xs_4_2[df_1xs_4_2['phih']>=i_phi_left][df_1xs_4_2['phih']<i_phi]['value'].tolist()\n",
      "/var/folders/j9/hgt6bjfn0n78rvsbnlc10rqh0000gp/T/ipykernel_37694/1939581717.py:12: UserWarning: Boolean Series key will be reindexed to match DataFrame index.\n",
      "  Fuu_4_2_stats = df_1xs_4_2[df_1xs_4_2['phih']>=i_phi_left][df_1xs_4_2['phih']<i_phi]['stat'].tolist()\n"
     ]
    },
    {
     "data": {
      "text/plain": [
       "[<matplotlib.lines.Line2D at 0x127bdd1e0>]"
      ]
     },
     "execution_count": 44,
     "metadata": {},
     "output_type": "execute_result"
    },
    {
     "data": {
      "image/png": "[encoded data removed]",
      "text/plain": [
       "<Figure size 640x480 with 1 Axes>"
      ]
     },
     "metadata": {},
     "output_type": "display_data"
    }
   ],
   "source": [
    "fig = plt.figure()\n",
    "ax = fig.add_subplot()\n",
    "phih_4_2=[]\n",
    "Fuu_4_2=[]\n",
    "Fuu_4_2_stat=[]\n",
    "Fuu_4_2_sys=[]\n",
    "i_phi_left = phih_bins[0]\n",
    "for i_phi in phih_bins[1:]:\n",
    "    print(i_phi_left,i_phi)\n",
    "    phih_4_2s = df_1xs_4_2[df_1xs_4_2['phih']>=i_phi_left][df_1xs_4_2['phih']<i_phi]['phih'].tolist()\n",
    "    Fuu_4_2s = df_1xs_4_2[df_1xs_4_2['phih']>=i_phi_left][df_1xs_4_2['phih']<i_phi]['value'].tolist()\n",
    "    Fuu_4_2_stats = df_1xs_4_2[df_1xs_4_2['phih']>=i_phi_left][df_1xs_4_2['phih']<i_phi]['stat'].tolist()\n",
    "    print(len(phih_4_2s))\n",
    "    \n",
    "    if len(phih_4_2s)>0:  \n",
    "        #print('phih',phih_4_2s)\n",
    "        #print('Fuu',Fuu_4_2s)\n",
    "        #print('Fuu_stat',Fuu_4_2_stats)\n",
    "        _Fuu_4_2 = Get_weighted_average(Fuu_4_2s,Fuu_4_2_stats)[0]\n",
    "        _Fuu_4_2_stat = Get_weighted_average(Fuu_4_2s,Fuu_4_2_stats)[1]\n",
    "        _phih_4_2= Get_weighted_average_phi(phih_4_2s,Fuu_4_2_stats)[0]\n",
    "        #print('_Fuu_4_2',_Fuu_4_2)\n",
    "        #print('_phih',_phih_4_2)\n",
    "        #print('_Fuu_stat',_Fuu_4_2_stat)\n",
    "        Fuu_4_2.append(_Fuu_4_2)\n",
    "        phih_4_2.append(_phih_4_2)\n",
    "        Fuu_4_2_stat.append(_Fuu_4_2_stat)\n",
    "        Fuu_4_2_sys.append(Sys_table[3][1]*_Fuu_4_2)\n",
    "        #print(Fuu_4_2,phih_4_2)\n",
    "        ax.plot([_phih_4_2,_phih_4_2],[_Fuu_4_2-_Fuu_4_2_stat,_Fuu_4_2+_Fuu_4_2_stat],color='blue',marker='_')\n",
    "    i_phi_left = i_phi\n",
    "    #print('phileft',i_phi_left)\n",
    "plt.plot(phih_4_2,Fuu_4_2,'bo')"
   ]
  },
  {
   "cell_type": "code",
   "execution_count": 45,
   "id": "2fab40b4",
   "metadata": {
    "scrolled": true
   },
   "outputs": [
    {
     "name": "stdout",
     "output_type": "stream",
     "text": [
      "-3.141592653589793 -2.5132741228718345\n",
      "4\n",
      "-2.5132741228718345 -1.8849555921538759\n",
      "7\n",
      "-1.8849555921538759 -1.2566370614359172\n",
      "5\n",
      "-1.2566370614359172 -0.6283185307179586\n",
      "0\n",
      "-0.6283185307179586 0.6283185307179586\n",
      "3\n",
      "0.6283185307179586 1.2566370614359172\n",
      "3\n",
      "1.2566370614359172 1.8849555921538759\n",
      "3\n",
      "1.8849555921538759 2.5132741228718345\n",
      "6\n",
      "2.5132741228718345 3.141592653589793\n",
      "5\n"
     ]
    },
    {
     "name": "stderr",
     "output_type": "stream",
     "text": [
      "/var/folders/j9/hgt6bjfn0n78rvsbnlc10rqh0000gp/T/ipykernel_37694/2104906066.py:10: UserWarning: Boolean Series key will be reindexed to match DataFrame index.\n",
      "  phih_4_3s = df_1xs_4_3[df_1xs_4_3['phih']>=i_phi_left][df_1xs_4_3['phih']<i_phi]['phih'].tolist()\n",
      "/var/folders/j9/hgt6bjfn0n78rvsbnlc10rqh0000gp/T/ipykernel_37694/2104906066.py:11: UserWarning: Boolean Series key will be reindexed to match DataFrame index.\n",
      "  Fuu_4_3s = df_1xs_4_3[df_1xs_4_3['phih']>=i_phi_left][df_1xs_4_3['phih']<i_phi]['value'].tolist()\n",
      "/var/folders/j9/hgt6bjfn0n78rvsbnlc10rqh0000gp/T/ipykernel_37694/2104906066.py:12: UserWarning: Boolean Series key will be reindexed to match DataFrame index.\n",
      "  Fuu_4_3_stats = df_1xs_4_3[df_1xs_4_3['phih']>=i_phi_left][df_1xs_4_3['phih']<i_phi]['stat'].tolist()\n",
      "/var/folders/j9/hgt6bjfn0n78rvsbnlc10rqh0000gp/T/ipykernel_37694/2104906066.py:10: UserWarning: Boolean Series key will be reindexed to match DataFrame index.\n",
      "  phih_4_3s = df_1xs_4_3[df_1xs_4_3['phih']>=i_phi_left][df_1xs_4_3['phih']<i_phi]['phih'].tolist()\n",
      "/var/folders/j9/hgt6bjfn0n78rvsbnlc10rqh0000gp/T/ipykernel_37694/2104906066.py:11: UserWarning: Boolean Series key will be reindexed to match DataFrame index.\n",
      "  Fuu_4_3s = df_1xs_4_3[df_1xs_4_3['phih']>=i_phi_left][df_1xs_4_3['phih']<i_phi]['value'].tolist()\n",
      "/var/folders/j9/hgt6bjfn0n78rvsbnlc10rqh0000gp/T/ipykernel_37694/2104906066.py:12: UserWarning: Boolean Series key will be reindexed to match DataFrame index.\n",
      "  Fuu_4_3_stats = df_1xs_4_3[df_1xs_4_3['phih']>=i_phi_left][df_1xs_4_3['phih']<i_phi]['stat'].tolist()\n",
      "/var/folders/j9/hgt6bjfn0n78rvsbnlc10rqh0000gp/T/ipykernel_37694/2104906066.py:10: UserWarning: Boolean Series key will be reindexed to match DataFrame index.\n",
      "  phih_4_3s = df_1xs_4_3[df_1xs_4_3['phih']>=i_phi_left][df_1xs_4_3['phih']<i_phi]['phih'].tolist()\n",
      "/var/folders/j9/hgt6bjfn0n78rvsbnlc10rqh0000gp/T/ipykernel_37694/2104906066.py:11: UserWarning: Boolean Series key will be reindexed to match DataFrame index.\n",
      "  Fuu_4_3s = df_1xs_4_3[df_1xs_4_3['phih']>=i_phi_left][df_1xs_4_3['phih']<i_phi]['value'].tolist()\n",
      "/var/folders/j9/hgt6bjfn0n78rvsbnlc10rqh0000gp/T/ipykernel_37694/2104906066.py:12: UserWarning: Boolean Series key will be reindexed to match DataFrame index.\n",
      "  Fuu_4_3_stats = df_1xs_4_3[df_1xs_4_3['phih']>=i_phi_left][df_1xs_4_3['phih']<i_phi]['stat'].tolist()\n",
      "/var/folders/j9/hgt6bjfn0n78rvsbnlc10rqh0000gp/T/ipykernel_37694/2104906066.py:10: UserWarning: Boolean Series key will be reindexed to match DataFrame index.\n",
      "  phih_4_3s = df_1xs_4_3[df_1xs_4_3['phih']>=i_phi_left][df_1xs_4_3['phih']<i_phi]['phih'].tolist()\n",
      "/var/folders/j9/hgt6bjfn0n78rvsbnlc10rqh0000gp/T/ipykernel_37694/2104906066.py:11: UserWarning: Boolean Series key will be reindexed to match DataFrame index.\n",
      "  Fuu_4_3s = df_1xs_4_3[df_1xs_4_3['phih']>=i_phi_left][df_1xs_4_3['phih']<i_phi]['value'].tolist()\n",
      "/var/folders/j9/hgt6bjfn0n78rvsbnlc10rqh0000gp/T/ipykernel_37694/2104906066.py:12: UserWarning: Boolean Series key will be reindexed to match DataFrame index.\n",
      "  Fuu_4_3_stats = df_1xs_4_3[df_1xs_4_3['phih']>=i_phi_left][df_1xs_4_3['phih']<i_phi]['stat'].tolist()\n",
      "/var/folders/j9/hgt6bjfn0n78rvsbnlc10rqh0000gp/T/ipykernel_37694/2104906066.py:10: UserWarning: Boolean Series key will be reindexed to match DataFrame index.\n",
      "  phih_4_3s = df_1xs_4_3[df_1xs_4_3['phih']>=i_phi_left][df_1xs_4_3['phih']<i_phi]['phih'].tolist()\n",
      "/var/folders/j9/hgt6bjfn0n78rvsbnlc10rqh0000gp/T/ipykernel_37694/2104906066.py:11: UserWarning: Boolean Series key will be reindexed to match DataFrame index.\n",
      "  Fuu_4_3s = df_1xs_4_3[df_1xs_4_3['phih']>=i_phi_left][df_1xs_4_3['phih']<i_phi]['value'].tolist()\n",
      "/var/folders/j9/hgt6bjfn0n78rvsbnlc10rqh0000gp/T/ipykernel_37694/2104906066.py:12: UserWarning: Boolean Series key will be reindexed to match DataFrame index.\n",
      "  Fuu_4_3_stats = df_1xs_4_3[df_1xs_4_3['phih']>=i_phi_left][df_1xs_4_3['phih']<i_phi]['stat'].tolist()\n",
      "/var/folders/j9/hgt6bjfn0n78rvsbnlc10rqh0000gp/T/ipykernel_37694/2104906066.py:10: UserWarning: Boolean Series key will be reindexed to match DataFrame index.\n",
      "  phih_4_3s = df_1xs_4_3[df_1xs_4_3['phih']>=i_phi_left][df_1xs_4_3['phih']<i_phi]['phih'].tolist()\n",
      "/var/folders/j9/hgt6bjfn0n78rvsbnlc10rqh0000gp/T/ipykernel_37694/2104906066.py:11: UserWarning: Boolean Series key will be reindexed to match DataFrame index.\n",
      "  Fuu_4_3s = df_1xs_4_3[df_1xs_4_3['phih']>=i_phi_left][df_1xs_4_3['phih']<i_phi]['value'].tolist()\n",
      "/var/folders/j9/hgt6bjfn0n78rvsbnlc10rqh0000gp/T/ipykernel_37694/2104906066.py:12: UserWarning: Boolean Series key will be reindexed to match DataFrame index.\n",
      "  Fuu_4_3_stats = df_1xs_4_3[df_1xs_4_3['phih']>=i_phi_left][df_1xs_4_3['phih']<i_phi]['stat'].tolist()\n",
      "/var/folders/j9/hgt6bjfn0n78rvsbnlc10rqh0000gp/T/ipykernel_37694/2104906066.py:10: UserWarning: Boolean Series key will be reindexed to match DataFrame index.\n",
      "  phih_4_3s = df_1xs_4_3[df_1xs_4_3['phih']>=i_phi_left][df_1xs_4_3['phih']<i_phi]['phih'].tolist()\n",
      "/var/folders/j9/hgt6bjfn0n78rvsbnlc10rqh0000gp/T/ipykernel_37694/2104906066.py:11: UserWarning: Boolean Series key will be reindexed to match DataFrame index.\n",
      "  Fuu_4_3s = df_1xs_4_3[df_1xs_4_3['phih']>=i_phi_left][df_1xs_4_3['phih']<i_phi]['value'].tolist()\n",
      "/var/folders/j9/hgt6bjfn0n78rvsbnlc10rqh0000gp/T/ipykernel_37694/2104906066.py:12: UserWarning: Boolean Series key will be reindexed to match DataFrame index.\n",
      "  Fuu_4_3_stats = df_1xs_4_3[df_1xs_4_3['phih']>=i_phi_left][df_1xs_4_3['phih']<i_phi]['stat'].tolist()\n",
      "/var/folders/j9/hgt6bjfn0n78rvsbnlc10rqh0000gp/T/ipykernel_37694/2104906066.py:10: UserWarning: Boolean Series key will be reindexed to match DataFrame index.\n",
      "  phih_4_3s = df_1xs_4_3[df_1xs_4_3['phih']>=i_phi_left][df_1xs_4_3['phih']<i_phi]['phih'].tolist()\n",
      "/var/folders/j9/hgt6bjfn0n78rvsbnlc10rqh0000gp/T/ipykernel_37694/2104906066.py:11: UserWarning: Boolean Series key will be reindexed to match DataFrame index.\n",
      "  Fuu_4_3s = df_1xs_4_3[df_1xs_4_3['phih']>=i_phi_left][df_1xs_4_3['phih']<i_phi]['value'].tolist()\n",
      "/var/folders/j9/hgt6bjfn0n78rvsbnlc10rqh0000gp/T/ipykernel_37694/2104906066.py:12: UserWarning: Boolean Series key will be reindexed to match DataFrame index.\n",
      "  Fuu_4_3_stats = df_1xs_4_3[df_1xs_4_3['phih']>=i_phi_left][df_1xs_4_3['phih']<i_phi]['stat'].tolist()\n"
     ]
    },
    {
     "data": {
      "text/plain": [
       "[<matplotlib.lines.Line2D at 0x127c9c1f0>]"
      ]
     },
     "execution_count": 45,
     "metadata": {},
     "output_type": "execute_result"
    },
    {
     "data": {
      "image/png": "[encoded data removed]",
      "text/plain": [
       "<Figure size 640x480 with 1 Axes>"
      ]
     },
     "metadata": {},
     "output_type": "display_data"
    }
   ],
   "source": [
    "fig = plt.figure()\n",
    "ax = fig.add_subplot()\n",
    "phih_4_3=[]\n",
    "Fuu_4_3=[]\n",
    "Fuu_4_3_stat=[]\n",
    "Fuu_4_3_sys=[]\n",
    "i_phi_left = phih_bins[0]\n",
    "for i_phi in phih_bins[1:]:\n",
    "    print(i_phi_left,i_phi)\n",
    "    phih_4_3s = df_1xs_4_3[df_1xs_4_3['phih']>=i_phi_left][df_1xs_4_3['phih']<i_phi]['phih'].tolist()\n",
    "    Fuu_4_3s = df_1xs_4_3[df_1xs_4_3['phih']>=i_phi_left][df_1xs_4_3['phih']<i_phi]['value'].tolist()\n",
    "    Fuu_4_3_stats = df_1xs_4_3[df_1xs_4_3['phih']>=i_phi_left][df_1xs_4_3['phih']<i_phi]['stat'].tolist()\n",
    "    print(len(phih_4_3s))\n",
    "    \n",
    "    if len(phih_4_3s)>0:  \n",
    "        #print('phih',phih_4_3s)\n",
    "        #print('Fuu',Fuu_4_3s)\n",
    "        #print('Fuu_stat',Fuu_4_3_stats)\n",
    "        _Fuu_4_3 = Get_weighted_average(Fuu_4_3s,Fuu_4_3_stats)[0]\n",
    "        _Fuu_4_3_stat = Get_weighted_average(Fuu_4_3s,Fuu_4_3_stats)[1]\n",
    "        _phih_4_3= Get_weighted_average_phi(phih_4_3s,Fuu_4_3_stats)[0]\n",
    "        #print('_Fuu_4_3',_Fuu_4_3)\n",
    "        #print('_phih',_phih_4_3)\n",
    "        #print('_Fuu_stat',_Fuu_4_3_stat)\n",
    "        Fuu_4_3.append(_Fuu_4_3)\n",
    "        phih_4_3.append(_phih_4_3)\n",
    "        Fuu_4_3_stat.append(_Fuu_4_3_stat)\n",
    "        Fuu_4_3_sys.append(Sys_table[3][2]*_Fuu_4_3)\n",
    "        #print(Fuu_4_3,phih_4_3)\n",
    "        ax.plot([_phih_4_3,_phih_4_3],[_Fuu_4_3-_Fuu_4_3_stat,_Fuu_4_3+_Fuu_4_3_stat],color='blue',marker='_')\n",
    "    i_phi_left = i_phi\n",
    "    #print('phileft',i_phi_left)\n",
    "plt.plot(phih_4_3,Fuu_4_3,'bo')"
   ]
  },
  {
   "cell_type": "code",
   "execution_count": 46,
   "id": "ac7881b8",
   "metadata": {
    "scrolled": true
   },
   "outputs": [
    {
     "name": "stdout",
     "output_type": "stream",
     "text": [
      "-3.141592653589793 -2.5132741228718345\n",
      "39\n",
      "_Fuu_1_1 0.0\n",
      "_phih -2.8308097806802106\n",
      "_Fuu_stat 0.9402593659756681\n",
      "-2.5132741228718345 -1.8849555921538759\n",
      "33\n",
      "_Fuu_1_1 0.0\n",
      "_phih -2.2143255119757224\n",
      "_Fuu_stat 1.0206094886820047\n",
      "-1.8849555921538759 -1.2566370614359172\n",
      "22\n",
      "_Fuu_1_1 0.0\n",
      "_phih -1.615432240542432\n",
      "_Fuu_stat 1.3294043765483248\n",
      "-1.2566370614359172 -0.6283185307179586\n",
      "9\n",
      "_Fuu_1_1 0.0\n",
      "_phih -0.9822691913303133\n",
      "_Fuu_stat 2.4583330644461148\n",
      "-0.6283185307179586 0.6283185307179586\n",
      "2\n",
      "_Fuu_1_1 0.0\n",
      "_phih 0.0014374805415050345\n",
      "_Fuu_stat 5.9672208758488985\n",
      "0.6283185307179586 1.2566370614359172\n",
      "9\n",
      "_Fuu_1_1 0.0\n",
      "_phih 0.9510172848810212\n",
      "_Fuu_stat 2.4236981950318723\n",
      "1.2566370614359172 1.8849555921538759\n",
      "22\n",
      "_Fuu_1_1 0.0\n",
      "_phih 1.6154858650120008\n",
      "_Fuu_stat 1.3289746596258376\n",
      "1.8849555921538759 2.5132741228718345\n",
      "33\n",
      "_Fuu_1_1 0.0\n",
      "_phih 2.214210802823194\n",
      "_Fuu_stat 1.0207742834654954\n",
      "2.5132741228718345 3.141592653589793\n",
      "39\n",
      "_Fuu_1_1 0.0\n",
      "_phih 2.831101189538359\n",
      "_Fuu_stat 0.9406070387612784\n"
     ]
    },
    {
     "name": "stderr",
     "output_type": "stream",
     "text": [
      "/var/folders/j9/hgt6bjfn0n78rvsbnlc10rqh0000gp/T/ipykernel_37694/1267002300.py:10: UserWarning: Boolean Series key will be reindexed to match DataFrame index.\n",
      "  phih_1_1s = df_3xs_1_1[df_3xs_1_1['phih']>=i_phi_left][df_3xs_1_1['phih']<i_phi]['phih'].tolist()\n",
      "/var/folders/j9/hgt6bjfn0n78rvsbnlc10rqh0000gp/T/ipykernel_37694/1267002300.py:11: UserWarning: Boolean Series key will be reindexed to match DataFrame index.\n",
      "  Fuu_1_1s = df_3xs_1_1[df_3xs_1_1['phih']>=i_phi_left][df_3xs_1_1['phih']<i_phi]['value'].tolist()\n",
      "/var/folders/j9/hgt6bjfn0n78rvsbnlc10rqh0000gp/T/ipykernel_37694/1267002300.py:12: UserWarning: Boolean Series key will be reindexed to match DataFrame index.\n",
      "  Fuu_1_1_stats = df_3xs_1_1[df_3xs_1_1['phih']>=i_phi_left][df_3xs_1_1['phih']<i_phi]['stat'].tolist()\n",
      "/var/folders/j9/hgt6bjfn0n78rvsbnlc10rqh0000gp/T/ipykernel_37694/1267002300.py:10: UserWarning: Boolean Series key will be reindexed to match DataFrame index.\n",
      "  phih_1_1s = df_3xs_1_1[df_3xs_1_1['phih']>=i_phi_left][df_3xs_1_1['phih']<i_phi]['phih'].tolist()\n",
      "/var/folders/j9/hgt6bjfn0n78rvsbnlc10rqh0000gp/T/ipykernel_37694/1267002300.py:11: UserWarning: Boolean Series key will be reindexed to match DataFrame index.\n",
      "  Fuu_1_1s = df_3xs_1_1[df_3xs_1_1['phih']>=i_phi_left][df_3xs_1_1['phih']<i_phi]['value'].tolist()\n",
      "/var/folders/j9/hgt6bjfn0n78rvsbnlc10rqh0000gp/T/ipykernel_37694/1267002300.py:12: UserWarning: Boolean Series key will be reindexed to match DataFrame index.\n",
      "  Fuu_1_1_stats = df_3xs_1_1[df_3xs_1_1['phih']>=i_phi_left][df_3xs_1_1['phih']<i_phi]['stat'].tolist()\n",
      "/var/folders/j9/hgt6bjfn0n78rvsbnlc10rqh0000gp/T/ipykernel_37694/1267002300.py:10: UserWarning: Boolean Series key will be reindexed to match DataFrame index.\n",
      "  phih_1_1s = df_3xs_1_1[df_3xs_1_1['phih']>=i_phi_left][df_3xs_1_1['phih']<i_phi]['phih'].tolist()\n",
      "/var/folders/j9/hgt6bjfn0n78rvsbnlc10rqh0000gp/T/ipykernel_37694/1267002300.py:11: UserWarning: Boolean Series key will be reindexed to match DataFrame index.\n",
      "  Fuu_1_1s = df_3xs_1_1[df_3xs_1_1['phih']>=i_phi_left][df_3xs_1_1['phih']<i_phi]['value'].tolist()\n",
      "/var/folders/j9/hgt6bjfn0n78rvsbnlc10rqh0000gp/T/ipykernel_37694/1267002300.py:12: UserWarning: Boolean Series key will be reindexed to match DataFrame index.\n",
      "  Fuu_1_1_stats = df_3xs_1_1[df_3xs_1_1['phih']>=i_phi_left][df_3xs_1_1['phih']<i_phi]['stat'].tolist()\n",
      "/var/folders/j9/hgt6bjfn0n78rvsbnlc10rqh0000gp/T/ipykernel_37694/1267002300.py:10: UserWarning: Boolean Series key will be reindexed to match DataFrame index.\n",
      "  phih_1_1s = df_3xs_1_1[df_3xs_1_1['phih']>=i_phi_left][df_3xs_1_1['phih']<i_phi]['phih'].tolist()\n",
      "/var/folders/j9/hgt6bjfn0n78rvsbnlc10rqh0000gp/T/ipykernel_37694/1267002300.py:11: UserWarning: Boolean Series key will be reindexed to match DataFrame index.\n",
      "  Fuu_1_1s = df_3xs_1_1[df_3xs_1_1['phih']>=i_phi_left][df_3xs_1_1['phih']<i_phi]['value'].tolist()\n",
      "/var/folders/j9/hgt6bjfn0n78rvsbnlc10rqh0000gp/T/ipykernel_37694/1267002300.py:12: UserWarning: Boolean Series key will be reindexed to match DataFrame index.\n",
      "  Fuu_1_1_stats = df_3xs_1_1[df_3xs_1_1['phih']>=i_phi_left][df_3xs_1_1['phih']<i_phi]['stat'].tolist()\n",
      "/var/folders/j9/hgt6bjfn0n78rvsbnlc10rqh0000gp/T/ipykernel_37694/1267002300.py:10: UserWarning: Boolean Series key will be reindexed to match DataFrame index.\n",
      "  phih_1_1s = df_3xs_1_1[df_3xs_1_1['phih']>=i_phi_left][df_3xs_1_1['phih']<i_phi]['phih'].tolist()\n",
      "/var/folders/j9/hgt6bjfn0n78rvsbnlc10rqh0000gp/T/ipykernel_37694/1267002300.py:11: UserWarning: Boolean Series key will be reindexed to match DataFrame index.\n",
      "  Fuu_1_1s = df_3xs_1_1[df_3xs_1_1['phih']>=i_phi_left][df_3xs_1_1['phih']<i_phi]['value'].tolist()\n",
      "/var/folders/j9/hgt6bjfn0n78rvsbnlc10rqh0000gp/T/ipykernel_37694/1267002300.py:12: UserWarning: Boolean Series key will be reindexed to match DataFrame index.\n",
      "  Fuu_1_1_stats = df_3xs_1_1[df_3xs_1_1['phih']>=i_phi_left][df_3xs_1_1['phih']<i_phi]['stat'].tolist()\n",
      "/var/folders/j9/hgt6bjfn0n78rvsbnlc10rqh0000gp/T/ipykernel_37694/1267002300.py:10: UserWarning: Boolean Series key will be reindexed to match DataFrame index.\n",
      "  phih_1_1s = df_3xs_1_1[df_3xs_1_1['phih']>=i_phi_left][df_3xs_1_1['phih']<i_phi]['phih'].tolist()\n",
      "/var/folders/j9/hgt6bjfn0n78rvsbnlc10rqh0000gp/T/ipykernel_37694/1267002300.py:11: UserWarning: Boolean Series key will be reindexed to match DataFrame index.\n",
      "  Fuu_1_1s = df_3xs_1_1[df_3xs_1_1['phih']>=i_phi_left][df_3xs_1_1['phih']<i_phi]['value'].tolist()\n",
      "/var/folders/j9/hgt6bjfn0n78rvsbnlc10rqh0000gp/T/ipykernel_37694/1267002300.py:12: UserWarning: Boolean Series key will be reindexed to match DataFrame index.\n",
      "  Fuu_1_1_stats = df_3xs_1_1[df_3xs_1_1['phih']>=i_phi_left][df_3xs_1_1['phih']<i_phi]['stat'].tolist()\n",
      "/var/folders/j9/hgt6bjfn0n78rvsbnlc10rqh0000gp/T/ipykernel_37694/1267002300.py:10: UserWarning: Boolean Series key will be reindexed to match DataFrame index.\n",
      "  phih_1_1s = df_3xs_1_1[df_3xs_1_1['phih']>=i_phi_left][df_3xs_1_1['phih']<i_phi]['phih'].tolist()\n",
      "/var/folders/j9/hgt6bjfn0n78rvsbnlc10rqh0000gp/T/ipykernel_37694/1267002300.py:11: UserWarning: Boolean Series key will be reindexed to match DataFrame index.\n",
      "  Fuu_1_1s = df_3xs_1_1[df_3xs_1_1['phih']>=i_phi_left][df_3xs_1_1['phih']<i_phi]['value'].tolist()\n",
      "/var/folders/j9/hgt6bjfn0n78rvsbnlc10rqh0000gp/T/ipykernel_37694/1267002300.py:12: UserWarning: Boolean Series key will be reindexed to match DataFrame index.\n",
      "  Fuu_1_1_stats = df_3xs_1_1[df_3xs_1_1['phih']>=i_phi_left][df_3xs_1_1['phih']<i_phi]['stat'].tolist()\n",
      "/var/folders/j9/hgt6bjfn0n78rvsbnlc10rqh0000gp/T/ipykernel_37694/1267002300.py:10: UserWarning: Boolean Series key will be reindexed to match DataFrame index.\n",
      "  phih_1_1s = df_3xs_1_1[df_3xs_1_1['phih']>=i_phi_left][df_3xs_1_1['phih']<i_phi]['phih'].tolist()\n",
      "/var/folders/j9/hgt6bjfn0n78rvsbnlc10rqh0000gp/T/ipykernel_37694/1267002300.py:11: UserWarning: Boolean Series key will be reindexed to match DataFrame index.\n",
      "  Fuu_1_1s = df_3xs_1_1[df_3xs_1_1['phih']>=i_phi_left][df_3xs_1_1['phih']<i_phi]['value'].tolist()\n",
      "/var/folders/j9/hgt6bjfn0n78rvsbnlc10rqh0000gp/T/ipykernel_37694/1267002300.py:12: UserWarning: Boolean Series key will be reindexed to match DataFrame index.\n",
      "  Fuu_1_1_stats = df_3xs_1_1[df_3xs_1_1['phih']>=i_phi_left][df_3xs_1_1['phih']<i_phi]['stat'].tolist()\n"
     ]
    },
    {
     "data": {
      "text/plain": [
       "Text(0, 0.5, '$F_{UU}$')"
      ]
     },
     "execution_count": 46,
     "metadata": {},
     "output_type": "execute_result"
    },
    {
     "data": {
      "image/png": "[encoded data removed]",
      "text/plain": [
       "<Figure size 640x480 with 1 Axes>"
      ]
     },
     "metadata": {},
     "output_type": "display_data"
    }
   ],
   "source": [
    "fig = plt.figure()\n",
    "ax = fig.add_subplot()\n",
    "phih_1_1_3xs=[]\n",
    "Fuu_1_1_3xs=[]\n",
    "Fuu_1_1_3xs_stat=[]\n",
    "Fuu_1_1_3xs_sys=[]\n",
    "i_phi_left = phih_bins[0]\n",
    "for i_phi in phih_bins[1:]:\n",
    "    print(i_phi_left,i_phi)\n",
    "    phih_1_1s = df_3xs_1_1[df_3xs_1_1['phih']>=i_phi_left][df_3xs_1_1['phih']<i_phi]['phih'].tolist()\n",
    "    Fuu_1_1s = df_3xs_1_1[df_3xs_1_1['phih']>=i_phi_left][df_3xs_1_1['phih']<i_phi]['value'].tolist()\n",
    "    Fuu_1_1_stats = df_3xs_1_1[df_3xs_1_1['phih']>=i_phi_left][df_3xs_1_1['phih']<i_phi]['stat'].tolist()\n",
    "    print(len(phih_1_1s))\n",
    "    \n",
    "    if len(phih_1_1s)>0:  \n",
    "        #print('phih',phih_1_1s)\n",
    "        #print('Fuu',Fuu_1_1s)\n",
    "        #print('Fuu_stat',Fuu_1_1_stats)\n",
    "        _Fuu_1_1 = Get_weighted_average(Fuu_1_1s,Fuu_1_1_stats)[0]\n",
    "        _Fuu_1_1_stat = Factor_3xs*Get_weighted_average(Fuu_1_1s,Fuu_1_1_stats)[1]\n",
    "        _phih_1_1= Get_weighted_average_phi(phih_1_1s,Fuu_1_1_stats)[0]\n",
    "        \n",
    "        print('_Fuu_1_1',_Fuu_1_1)\n",
    "        print('_phih',_phih_1_1)\n",
    "        print('_Fuu_stat',_Fuu_1_1_stat)\n",
    "        Fuu_1_1_3xs.append(_Fuu_1_1)\n",
    "        phih_1_1_3xs.append(_phih_1_1)\n",
    "        Fuu_1_1_3xs_stat.append(_Fuu_1_1_stat)\n",
    "        Fuu_1_1_3xs_sys.append(0.05*_Fuu_1_1)\n",
    "        #print(Fuu_1_1,phih_1_1)\n",
    "        ax.plot([_phih_1_1,_phih_1_1],[_Fuu_1_1-_Fuu_1_1_stat,_Fuu_1_1+_Fuu_1_1_stat],color='red',marker='_')\n",
    "    i_phi_left = i_phi\n",
    "    #print('phileft',i_phi_left)\n",
    "plt.plot(phih_1_1_3xs,Fuu_1_1_3xs,'ro')\n",
    "plt.xlabel('$\\phi_h$',fontsize=16)\n",
    "plt.ylabel('$F_{UU}$',fontsize=16)\n"
   ]
  },
  {
   "cell_type": "code",
   "execution_count": 47,
   "id": "03051da5",
   "metadata": {
    "scrolled": true
   },
   "outputs": [
    {
     "name": "stdout",
     "output_type": "stream",
     "text": [
      "-3.141592653589793 -2.5132741228718345\n",
      "20\n",
      "-2.5132741228718345 -1.8849555921538759\n",
      "17\n",
      "-1.8849555921538759 -1.2566370614359172\n",
      "13\n",
      "-1.2566370614359172 -0.6283185307179586\n",
      "6\n",
      "-0.6283185307179586 0.6283185307179586\n",
      "3\n",
      "0.6283185307179586 1.2566370614359172\n",
      "5\n",
      "1.2566370614359172 1.8849555921538759\n",
      "12\n",
      "1.8849555921538759 2.5132741228718345\n",
      "17\n",
      "2.5132741228718345 3.141592653589793\n",
      "20\n"
     ]
    },
    {
     "name": "stderr",
     "output_type": "stream",
     "text": [
      "/var/folders/j9/hgt6bjfn0n78rvsbnlc10rqh0000gp/T/ipykernel_37694/2648398505.py:10: UserWarning: Boolean Series key will be reindexed to match DataFrame index.\n",
      "  phih_1_2s = df_3xs_1_2[df_3xs_1_2['phih']>=i_phi_left][df_3xs_1_2['phih']<i_phi]['phih'].tolist()\n",
      "/var/folders/j9/hgt6bjfn0n78rvsbnlc10rqh0000gp/T/ipykernel_37694/2648398505.py:11: UserWarning: Boolean Series key will be reindexed to match DataFrame index.\n",
      "  Fuu_1_2s = df_3xs_1_2[df_3xs_1_2['phih']>=i_phi_left][df_3xs_1_2['phih']<i_phi]['value'].tolist()\n",
      "/var/folders/j9/hgt6bjfn0n78rvsbnlc10rqh0000gp/T/ipykernel_37694/2648398505.py:12: UserWarning: Boolean Series key will be reindexed to match DataFrame index.\n",
      "  Fuu_1_2_stats = df_3xs_1_2[df_3xs_1_2['phih']>=i_phi_left][df_3xs_1_2['phih']<i_phi]['stat'].tolist()\n",
      "/var/folders/j9/hgt6bjfn0n78rvsbnlc10rqh0000gp/T/ipykernel_37694/2648398505.py:10: UserWarning: Boolean Series key will be reindexed to match DataFrame index.\n",
      "  phih_1_2s = df_3xs_1_2[df_3xs_1_2['phih']>=i_phi_left][df_3xs_1_2['phih']<i_phi]['phih'].tolist()\n",
      "/var/folders/j9/hgt6bjfn0n78rvsbnlc10rqh0000gp/T/ipykernel_37694/2648398505.py:11: UserWarning: Boolean Series key will be reindexed to match DataFrame index.\n",
      "  Fuu_1_2s = df_3xs_1_2[df_3xs_1_2['phih']>=i_phi_left][df_3xs_1_2['phih']<i_phi]['value'].tolist()\n",
      "/var/folders/j9/hgt6bjfn0n78rvsbnlc10rqh0000gp/T/ipykernel_37694/2648398505.py:12: UserWarning: Boolean Series key will be reindexed to match DataFrame index.\n",
      "  Fuu_1_2_stats = df_3xs_1_2[df_3xs_1_2['phih']>=i_phi_left][df_3xs_1_2['phih']<i_phi]['stat'].tolist()\n",
      "/var/folders/j9/hgt6bjfn0n78rvsbnlc10rqh0000gp/T/ipykernel_37694/2648398505.py:10: UserWarning: Boolean Series key will be reindexed to match DataFrame index.\n",
      "  phih_1_2s = df_3xs_1_2[df_3xs_1_2['phih']>=i_phi_left][df_3xs_1_2['phih']<i_phi]['phih'].tolist()\n",
      "/var/folders/j9/hgt6bjfn0n78rvsbnlc10rqh0000gp/T/ipykernel_37694/2648398505.py:11: UserWarning: Boolean Series key will be reindexed to match DataFrame index.\n",
      "  Fuu_1_2s = df_3xs_1_2[df_3xs_1_2['phih']>=i_phi_left][df_3xs_1_2['phih']<i_phi]['value'].tolist()\n",
      "/var/folders/j9/hgt6bjfn0n78rvsbnlc10rqh0000gp/T/ipykernel_37694/2648398505.py:12: UserWarning: Boolean Series key will be reindexed to match DataFrame index.\n",
      "  Fuu_1_2_stats = df_3xs_1_2[df_3xs_1_2['phih']>=i_phi_left][df_3xs_1_2['phih']<i_phi]['stat'].tolist()\n",
      "/var/folders/j9/hgt6bjfn0n78rvsbnlc10rqh0000gp/T/ipykernel_37694/2648398505.py:10: UserWarning: Boolean Series key will be reindexed to match DataFrame index.\n",
      "  phih_1_2s = df_3xs_1_2[df_3xs_1_2['phih']>=i_phi_left][df_3xs_1_2['phih']<i_phi]['phih'].tolist()\n",
      "/var/folders/j9/hgt6bjfn0n78rvsbnlc10rqh0000gp/T/ipykernel_37694/2648398505.py:11: UserWarning: Boolean Series key will be reindexed to match DataFrame index.\n",
      "  Fuu_1_2s = df_3xs_1_2[df_3xs_1_2['phih']>=i_phi_left][df_3xs_1_2['phih']<i_phi]['value'].tolist()\n",
      "/var/folders/j9/hgt6bjfn0n78rvsbnlc10rqh0000gp/T/ipykernel_37694/2648398505.py:12: UserWarning: Boolean Series key will be reindexed to match DataFrame index.\n",
      "  Fuu_1_2_stats = df_3xs_1_2[df_3xs_1_2['phih']>=i_phi_left][df_3xs_1_2['phih']<i_phi]['stat'].tolist()\n",
      "/var/folders/j9/hgt6bjfn0n78rvsbnlc10rqh0000gp/T/ipykernel_37694/2648398505.py:10: UserWarning: Boolean Series key will be reindexed to match DataFrame index.\n",
      "  phih_1_2s = df_3xs_1_2[df_3xs_1_2['phih']>=i_phi_left][df_3xs_1_2['phih']<i_phi]['phih'].tolist()\n",
      "/var/folders/j9/hgt6bjfn0n78rvsbnlc10rqh0000gp/T/ipykernel_37694/2648398505.py:11: UserWarning: Boolean Series key will be reindexed to match DataFrame index.\n",
      "  Fuu_1_2s = df_3xs_1_2[df_3xs_1_2['phih']>=i_phi_left][df_3xs_1_2['phih']<i_phi]['value'].tolist()\n",
      "/var/folders/j9/hgt6bjfn0n78rvsbnlc10rqh0000gp/T/ipykernel_37694/2648398505.py:12: UserWarning: Boolean Series key will be reindexed to match DataFrame index.\n",
      "  Fuu_1_2_stats = df_3xs_1_2[df_3xs_1_2['phih']>=i_phi_left][df_3xs_1_2['phih']<i_phi]['stat'].tolist()\n",
      "/var/folders/j9/hgt6bjfn0n78rvsbnlc10rqh0000gp/T/ipykernel_37694/2648398505.py:10: UserWarning: Boolean Series key will be reindexed to match DataFrame index.\n",
      "  phih_1_2s = df_3xs_1_2[df_3xs_1_2['phih']>=i_phi_left][df_3xs_1_2['phih']<i_phi]['phih'].tolist()\n",
      "/var/folders/j9/hgt6bjfn0n78rvsbnlc10rqh0000gp/T/ipykernel_37694/2648398505.py:11: UserWarning: Boolean Series key will be reindexed to match DataFrame index.\n",
      "  Fuu_1_2s = df_3xs_1_2[df_3xs_1_2['phih']>=i_phi_left][df_3xs_1_2['phih']<i_phi]['value'].tolist()\n",
      "/var/folders/j9/hgt6bjfn0n78rvsbnlc10rqh0000gp/T/ipykernel_37694/2648398505.py:12: UserWarning: Boolean Series key will be reindexed to match DataFrame index.\n",
      "  Fuu_1_2_stats = df_3xs_1_2[df_3xs_1_2['phih']>=i_phi_left][df_3xs_1_2['phih']<i_phi]['stat'].tolist()\n",
      "/var/folders/j9/hgt6bjfn0n78rvsbnlc10rqh0000gp/T/ipykernel_37694/2648398505.py:10: UserWarning: Boolean Series key will be reindexed to match DataFrame index.\n",
      "  phih_1_2s = df_3xs_1_2[df_3xs_1_2['phih']>=i_phi_left][df_3xs_1_2['phih']<i_phi]['phih'].tolist()\n",
      "/var/folders/j9/hgt6bjfn0n78rvsbnlc10rqh0000gp/T/ipykernel_37694/2648398505.py:11: UserWarning: Boolean Series key will be reindexed to match DataFrame index.\n",
      "  Fuu_1_2s = df_3xs_1_2[df_3xs_1_2['phih']>=i_phi_left][df_3xs_1_2['phih']<i_phi]['value'].tolist()\n",
      "/var/folders/j9/hgt6bjfn0n78rvsbnlc10rqh0000gp/T/ipykernel_37694/2648398505.py:12: UserWarning: Boolean Series key will be reindexed to match DataFrame index.\n",
      "  Fuu_1_2_stats = df_3xs_1_2[df_3xs_1_2['phih']>=i_phi_left][df_3xs_1_2['phih']<i_phi]['stat'].tolist()\n",
      "/var/folders/j9/hgt6bjfn0n78rvsbnlc10rqh0000gp/T/ipykernel_37694/2648398505.py:10: UserWarning: Boolean Series key will be reindexed to match DataFrame index.\n",
      "  phih_1_2s = df_3xs_1_2[df_3xs_1_2['phih']>=i_phi_left][df_3xs_1_2['phih']<i_phi]['phih'].tolist()\n",
      "/var/folders/j9/hgt6bjfn0n78rvsbnlc10rqh0000gp/T/ipykernel_37694/2648398505.py:11: UserWarning: Boolean Series key will be reindexed to match DataFrame index.\n",
      "  Fuu_1_2s = df_3xs_1_2[df_3xs_1_2['phih']>=i_phi_left][df_3xs_1_2['phih']<i_phi]['value'].tolist()\n",
      "/var/folders/j9/hgt6bjfn0n78rvsbnlc10rqh0000gp/T/ipykernel_37694/2648398505.py:12: UserWarning: Boolean Series key will be reindexed to match DataFrame index.\n",
      "  Fuu_1_2_stats = df_3xs_1_2[df_3xs_1_2['phih']>=i_phi_left][df_3xs_1_2['phih']<i_phi]['stat'].tolist()\n"
     ]
    },
    {
     "data": {
      "text/plain": [
       "Text(0, 0.5, '$F_{UU}$')"
      ]
     },
     "execution_count": 47,
     "metadata": {},
     "output_type": "execute_result"
    },
    {
     "data": {
      "image/png": "[encoded data removed]",
      "text/plain": [
       "<Figure size 640x480 with 1 Axes>"
      ]
     },
     "metadata": {},
     "output_type": "display_data"
    }
   ],
   "source": [
    "fig = plt.figure()\n",
    "ax = fig.add_subplot()\n",
    "phih_1_2_3xs=[]\n",
    "Fuu_1_2_3xs=[]\n",
    "Fuu_1_2_3xs_stat=[]\n",
    "Fuu_1_2_3xs_sys=[]\n",
    "i_phi_left = phih_bins[0]\n",
    "for i_phi in phih_bins[1:]:\n",
    "    print(i_phi_left,i_phi)\n",
    "    phih_1_2s = df_3xs_1_2[df_3xs_1_2['phih']>=i_phi_left][df_3xs_1_2['phih']<i_phi]['phih'].tolist()\n",
    "    Fuu_1_2s = df_3xs_1_2[df_3xs_1_2['phih']>=i_phi_left][df_3xs_1_2['phih']<i_phi]['value'].tolist()\n",
    "    Fuu_1_2_stats = df_3xs_1_2[df_3xs_1_2['phih']>=i_phi_left][df_3xs_1_2['phih']<i_phi]['stat'].tolist()\n",
    "    print(len(phih_1_2s))\n",
    "    \n",
    "    if len(phih_1_2s)>0:  \n",
    "        #print('phih',phih_1_2s)\n",
    "        #print('Fuu',Fuu_1_2s)\n",
    "        #print('Fuu_stat',Fuu_1_2_stats)\n",
    "        _Fuu_1_2 = Get_weighted_average(Fuu_1_2s,Fuu_1_2_stats)[0]\n",
    "        _Fuu_1_2_stat = Factor_3xs*Get_weighted_average(Fuu_1_2s,Fuu_1_2_stats)[1]\n",
    "        _phih_1_2= Get_weighted_average_phi(phih_1_2s,Fuu_1_2_stats)[0]\n",
    "        #print('_Fuu_1_2',_Fuu_1_2)\n",
    "        #print('_phih',_phih_1_2)\n",
    "        #print('_Fuu_stat',_Fuu_1_2_stat)\n",
    "        Fuu_1_2_3xs.append(_Fuu_1_2)\n",
    "        phih_1_2_3xs.append(_phih_1_2)\n",
    "        Fuu_1_2_3xs_stat.append(_Fuu_1_2_stat)\n",
    "        Fuu_1_2_3xs_sys.append(0.05*_Fuu_1_2)\n",
    "        #print(Fuu_1_2,phih_1_2)\n",
    "        ax.plot([_phih_1_2,_phih_1_2],[_Fuu_1_2-_Fuu_1_2_stat,_Fuu_1_2+_Fuu_1_2_stat],color='red',marker='_')\n",
    "    i_phi_left = i_phi\n",
    "    #print('phileft',i_phi_left)\n",
    "plt.plot(phih_1_2_3xs,Fuu_1_2_3xs,'ro')\n",
    "plt.xlabel('$\\phi_h$',fontsize=16)\n",
    "plt.ylabel('$F_{UU}$',fontsize=16)"
   ]
  },
  {
   "cell_type": "code",
   "execution_count": 48,
   "id": "e5171401",
   "metadata": {
    "scrolled": true
   },
   "outputs": [
    {
     "name": "stdout",
     "output_type": "stream",
     "text": [
      "-3.141592653589793 -2.5132741228718345\n",
      "12\n",
      "-2.5132741228718345 -1.8849555921538759\n",
      "7\n",
      "-1.8849555921538759 -1.2566370614359172\n",
      "7\n",
      "-1.2566370614359172 -0.6283185307179586\n",
      "3\n",
      "-0.6283185307179586 0.6283185307179586\n",
      "3\n",
      "0.6283185307179586 1.2566370614359172\n",
      "2\n",
      "1.2566370614359172 1.8849555921538759\n",
      "7\n",
      "1.8849555921538759 2.5132741228718345\n",
      "7\n",
      "2.5132741228718345 3.141592653589793\n",
      "11\n"
     ]
    },
    {
     "name": "stderr",
     "output_type": "stream",
     "text": [
      "/var/folders/j9/hgt6bjfn0n78rvsbnlc10rqh0000gp/T/ipykernel_37694/2872923745.py:10: UserWarning: Boolean Series key will be reindexed to match DataFrame index.\n",
      "  phih_1_3s = df_3xs_1_3[df_3xs_1_3['phih']>=i_phi_left][df_3xs_1_3['phih']<i_phi]['phih'].tolist()\n",
      "/var/folders/j9/hgt6bjfn0n78rvsbnlc10rqh0000gp/T/ipykernel_37694/2872923745.py:11: UserWarning: Boolean Series key will be reindexed to match DataFrame index.\n",
      "  Fuu_1_3s = df_3xs_1_3[df_3xs_1_3['phih']>=i_phi_left][df_3xs_1_3['phih']<i_phi]['value'].tolist()\n",
      "/var/folders/j9/hgt6bjfn0n78rvsbnlc10rqh0000gp/T/ipykernel_37694/2872923745.py:12: UserWarning: Boolean Series key will be reindexed to match DataFrame index.\n",
      "  Fuu_1_3_stats = df_3xs_1_3[df_3xs_1_3['phih']>=i_phi_left][df_3xs_1_3['phih']<i_phi]['stat'].tolist()\n",
      "/var/folders/j9/hgt6bjfn0n78rvsbnlc10rqh0000gp/T/ipykernel_37694/2872923745.py:10: UserWarning: Boolean Series key will be reindexed to match DataFrame index.\n",
      "  phih_1_3s = df_3xs_1_3[df_3xs_1_3['phih']>=i_phi_left][df_3xs_1_3['phih']<i_phi]['phih'].tolist()\n",
      "/var/folders/j9/hgt6bjfn0n78rvsbnlc10rqh0000gp/T/ipykernel_37694/2872923745.py:11: UserWarning: Boolean Series key will be reindexed to match DataFrame index.\n",
      "  Fuu_1_3s = df_3xs_1_3[df_3xs_1_3['phih']>=i_phi_left][df_3xs_1_3['phih']<i_phi]['value'].tolist()\n",
      "/var/folders/j9/hgt6bjfn0n78rvsbnlc10rqh0000gp/T/ipykernel_37694/2872923745.py:12: UserWarning: Boolean Series key will be reindexed to match DataFrame index.\n",
      "  Fuu_1_3_stats = df_3xs_1_3[df_3xs_1_3['phih']>=i_phi_left][df_3xs_1_3['phih']<i_phi]['stat'].tolist()\n",
      "/var/folders/j9/hgt6bjfn0n78rvsbnlc10rqh0000gp/T/ipykernel_37694/2872923745.py:10: UserWarning: Boolean Series key will be reindexed to match DataFrame index.\n",
      "  phih_1_3s = df_3xs_1_3[df_3xs_1_3['phih']>=i_phi_left][df_3xs_1_3['phih']<i_phi]['phih'].tolist()\n",
      "/var/folders/j9/hgt6bjfn0n78rvsbnlc10rqh0000gp/T/ipykernel_37694/2872923745.py:11: UserWarning: Boolean Series key will be reindexed to match DataFrame index.\n",
      "  Fuu_1_3s = df_3xs_1_3[df_3xs_1_3['phih']>=i_phi_left][df_3xs_1_3['phih']<i_phi]['value'].tolist()\n",
      "/var/folders/j9/hgt6bjfn0n78rvsbnlc10rqh0000gp/T/ipykernel_37694/2872923745.py:12: UserWarning: Boolean Series key will be reindexed to match DataFrame index.\n",
      "  Fuu_1_3_stats = df_3xs_1_3[df_3xs_1_3['phih']>=i_phi_left][df_3xs_1_3['phih']<i_phi]['stat'].tolist()\n",
      "/var/folders/j9/hgt6bjfn0n78rvsbnlc10rqh0000gp/T/ipykernel_37694/2872923745.py:10: UserWarning: Boolean Series key will be reindexed to match DataFrame index.\n",
      "  phih_1_3s = df_3xs_1_3[df_3xs_1_3['phih']>=i_phi_left][df_3xs_1_3['phih']<i_phi]['phih'].tolist()\n",
      "/var/folders/j9/hgt6bjfn0n78rvsbnlc10rqh0000gp/T/ipykernel_37694/2872923745.py:11: UserWarning: Boolean Series key will be reindexed to match DataFrame index.\n",
      "  Fuu_1_3s = df_3xs_1_3[df_3xs_1_3['phih']>=i_phi_left][df_3xs_1_3['phih']<i_phi]['value'].tolist()\n",
      "/var/folders/j9/hgt6bjfn0n78rvsbnlc10rqh0000gp/T/ipykernel_37694/2872923745.py:12: UserWarning: Boolean Series key will be reindexed to match DataFrame index.\n",
      "  Fuu_1_3_stats = df_3xs_1_3[df_3xs_1_3['phih']>=i_phi_left][df_3xs_1_3['phih']<i_phi]['stat'].tolist()\n",
      "/var/folders/j9/hgt6bjfn0n78rvsbnlc10rqh0000gp/T/ipykernel_37694/2872923745.py:10: UserWarning: Boolean Series key will be reindexed to match DataFrame index.\n",
      "  phih_1_3s = df_3xs_1_3[df_3xs_1_3['phih']>=i_phi_left][df_3xs_1_3['phih']<i_phi]['phih'].tolist()\n",
      "/var/folders/j9/hgt6bjfn0n78rvsbnlc10rqh0000gp/T/ipykernel_37694/2872923745.py:11: UserWarning: Boolean Series key will be reindexed to match DataFrame index.\n",
      "  Fuu_1_3s = df_3xs_1_3[df_3xs_1_3['phih']>=i_phi_left][df_3xs_1_3['phih']<i_phi]['value'].tolist()\n",
      "/var/folders/j9/hgt6bjfn0n78rvsbnlc10rqh0000gp/T/ipykernel_37694/2872923745.py:12: UserWarning: Boolean Series key will be reindexed to match DataFrame index.\n",
      "  Fuu_1_3_stats = df_3xs_1_3[df_3xs_1_3['phih']>=i_phi_left][df_3xs_1_3['phih']<i_phi]['stat'].tolist()\n",
      "/var/folders/j9/hgt6bjfn0n78rvsbnlc10rqh0000gp/T/ipykernel_37694/2872923745.py:10: UserWarning: Boolean Series key will be reindexed to match DataFrame index.\n",
      "  phih_1_3s = df_3xs_1_3[df_3xs_1_3['phih']>=i_phi_left][df_3xs_1_3['phih']<i_phi]['phih'].tolist()\n",
      "/var/folders/j9/hgt6bjfn0n78rvsbnlc10rqh0000gp/T/ipykernel_37694/2872923745.py:11: UserWarning: Boolean Series key will be reindexed to match DataFrame index.\n",
      "  Fuu_1_3s = df_3xs_1_3[df_3xs_1_3['phih']>=i_phi_left][df_3xs_1_3['phih']<i_phi]['value'].tolist()\n",
      "/var/folders/j9/hgt6bjfn0n78rvsbnlc10rqh0000gp/T/ipykernel_37694/2872923745.py:12: UserWarning: Boolean Series key will be reindexed to match DataFrame index.\n",
      "  Fuu_1_3_stats = df_3xs_1_3[df_3xs_1_3['phih']>=i_phi_left][df_3xs_1_3['phih']<i_phi]['stat'].tolist()\n",
      "/var/folders/j9/hgt6bjfn0n78rvsbnlc10rqh0000gp/T/ipykernel_37694/2872923745.py:10: UserWarning: Boolean Series key will be reindexed to match DataFrame index.\n",
      "  phih_1_3s = df_3xs_1_3[df_3xs_1_3['phih']>=i_phi_left][df_3xs_1_3['phih']<i_phi]['phih'].tolist()\n",
      "/var/folders/j9/hgt6bjfn0n78rvsbnlc10rqh0000gp/T/ipykernel_37694/2872923745.py:11: UserWarning: Boolean Series key will be reindexed to match DataFrame index.\n",
      "  Fuu_1_3s = df_3xs_1_3[df_3xs_1_3['phih']>=i_phi_left][df_3xs_1_3['phih']<i_phi]['value'].tolist()\n",
      "/var/folders/j9/hgt6bjfn0n78rvsbnlc10rqh0000gp/T/ipykernel_37694/2872923745.py:12: UserWarning: Boolean Series key will be reindexed to match DataFrame index.\n",
      "  Fuu_1_3_stats = df_3xs_1_3[df_3xs_1_3['phih']>=i_phi_left][df_3xs_1_3['phih']<i_phi]['stat'].tolist()\n",
      "/var/folders/j9/hgt6bjfn0n78rvsbnlc10rqh0000gp/T/ipykernel_37694/2872923745.py:10: UserWarning: Boolean Series key will be reindexed to match DataFrame index.\n",
      "  phih_1_3s = df_3xs_1_3[df_3xs_1_3['phih']>=i_phi_left][df_3xs_1_3['phih']<i_phi]['phih'].tolist()\n",
      "/var/folders/j9/hgt6bjfn0n78rvsbnlc10rqh0000gp/T/ipykernel_37694/2872923745.py:11: UserWarning: Boolean Series key will be reindexed to match DataFrame index.\n",
      "  Fuu_1_3s = df_3xs_1_3[df_3xs_1_3['phih']>=i_phi_left][df_3xs_1_3['phih']<i_phi]['value'].tolist()\n",
      "/var/folders/j9/hgt6bjfn0n78rvsbnlc10rqh0000gp/T/ipykernel_37694/2872923745.py:12: UserWarning: Boolean Series key will be reindexed to match DataFrame index.\n",
      "  Fuu_1_3_stats = df_3xs_1_3[df_3xs_1_3['phih']>=i_phi_left][df_3xs_1_3['phih']<i_phi]['stat'].tolist()\n"
     ]
    },
    {
     "data": {
      "text/plain": [
       "Text(0, 0.5, '$F_{UU}$')"
      ]
     },
     "execution_count": 48,
     "metadata": {},
     "output_type": "execute_result"
    },
    {
     "data": {
      "image/png": "[encoded data removed]",
      "text/plain": [
       "<Figure size 640x480 with 1 Axes>"
      ]
     },
     "metadata": {},
     "output_type": "display_data"
    }
   ],
   "source": [
    "fig = plt.figure()\n",
    "ax = fig.add_subplot()\n",
    "phih_1_3_3xs=[]\n",
    "Fuu_1_3_3xs=[]\n",
    "Fuu_1_3_3xs_stat=[]\n",
    "Fuu_1_3_3xs_sys=[]\n",
    "i_phi_left = phih_bins[0]\n",
    "for i_phi in phih_bins[1:]:\n",
    "    print(i_phi_left,i_phi)\n",
    "    phih_1_3s = df_3xs_1_3[df_3xs_1_3['phih']>=i_phi_left][df_3xs_1_3['phih']<i_phi]['phih'].tolist()\n",
    "    Fuu_1_3s = df_3xs_1_3[df_3xs_1_3['phih']>=i_phi_left][df_3xs_1_3['phih']<i_phi]['value'].tolist()\n",
    "    Fuu_1_3_stats = df_3xs_1_3[df_3xs_1_3['phih']>=i_phi_left][df_3xs_1_3['phih']<i_phi]['stat'].tolist()\n",
    "    print(len(phih_1_3s))\n",
    "    \n",
    "    if len(phih_1_3s)>0:  \n",
    "        #print('phih',phih_1_3s)\n",
    "        #print('Fuu',Fuu_1_3s)\n",
    "        #print('Fuu_stat',Fuu_1_3_stats)\n",
    "        _Fuu_1_3 = Get_weighted_average(Fuu_1_3s,Fuu_1_3_stats)[0]\n",
    "        _Fuu_1_3_stat = Factor_3xs*Get_weighted_average(Fuu_1_3s,Fuu_1_3_stats)[1]\n",
    "        _phih_1_3= Get_weighted_average_phi(phih_1_3s,Fuu_1_3_stats)[0]\n",
    "        #print('_Fuu_1_3',_Fuu_1_3)\n",
    "        #print('_phih',_phih_1_3)\n",
    "        #print('_Fuu_stat',_Fuu_1_3_stat)\n",
    "        Fuu_1_3_3xs.append(_Fuu_1_3)\n",
    "        phih_1_3_3xs.append(_phih_1_3)\n",
    "        Fuu_1_3_3xs_stat.append(_Fuu_1_3_stat)\n",
    "        Fuu_1_3_3xs_sys.append(0.05*_Fuu_1_3)\n",
    "        #print(Fuu_1_3,phih_1_3)\n",
    "        ax.plot([_phih_1_3,_phih_1_3],[_Fuu_1_3-_Fuu_1_3_stat,_Fuu_1_3+_Fuu_1_3_stat],color='red',marker='_')\n",
    "    i_phi_left = i_phi\n",
    "    #print('phileft',i_phi_left)\n",
    "plt.plot(phih_1_3_3xs,Fuu_1_3_3xs,'ro')\n",
    "plt.xlabel('$\\phi_h$',fontsize=16)\n",
    "plt.ylabel('$F_{UU}$',fontsize=16)"
   ]
  },
  {
   "cell_type": "code",
   "execution_count": 49,
   "id": "38fbeea3",
   "metadata": {
    "scrolled": true
   },
   "outputs": [
    {
     "name": "stdout",
     "output_type": "stream",
     "text": [
      "-3.141592653589793 -2.5132741228718345\n",
      "40\n",
      "-2.5132741228718345 -1.8849555921538759\n",
      "40\n",
      "-1.8849555921538759 -1.2566370614359172\n",
      "42\n",
      "-1.2566370614359172 -0.6283185307179586\n",
      "32\n",
      "-0.6283185307179586 0.6283185307179586\n",
      "30\n",
      "0.6283185307179586 1.2566370614359172\n",
      "32\n",
      "1.2566370614359172 1.8849555921538759\n",
      "42\n",
      "1.8849555921538759 2.5132741228718345\n",
      "40\n",
      "2.5132741228718345 3.141592653589793\n",
      "40\n"
     ]
    },
    {
     "name": "stderr",
     "output_type": "stream",
     "text": [
      "/var/folders/j9/hgt6bjfn0n78rvsbnlc10rqh0000gp/T/ipykernel_37694/295057374.py:10: UserWarning: Boolean Series key will be reindexed to match DataFrame index.\n",
      "  phih_2_1s = df_3xs_2_1[df_3xs_2_1['phih']>=i_phi_left][df_3xs_2_1['phih']<i_phi]['phih'].tolist()\n",
      "/var/folders/j9/hgt6bjfn0n78rvsbnlc10rqh0000gp/T/ipykernel_37694/295057374.py:11: UserWarning: Boolean Series key will be reindexed to match DataFrame index.\n",
      "  Fuu_2_1s = df_3xs_2_1[df_3xs_2_1['phih']>=i_phi_left][df_3xs_2_1['phih']<i_phi]['value'].tolist()\n",
      "/var/folders/j9/hgt6bjfn0n78rvsbnlc10rqh0000gp/T/ipykernel_37694/295057374.py:12: UserWarning: Boolean Series key will be reindexed to match DataFrame index.\n",
      "  Fuu_2_1_stats = df_3xs_2_1[df_3xs_2_1['phih']>=i_phi_left][df_3xs_2_1['phih']<i_phi]['stat'].tolist()\n",
      "/var/folders/j9/hgt6bjfn0n78rvsbnlc10rqh0000gp/T/ipykernel_37694/295057374.py:10: UserWarning: Boolean Series key will be reindexed to match DataFrame index.\n",
      "  phih_2_1s = df_3xs_2_1[df_3xs_2_1['phih']>=i_phi_left][df_3xs_2_1['phih']<i_phi]['phih'].tolist()\n",
      "/var/folders/j9/hgt6bjfn0n78rvsbnlc10rqh0000gp/T/ipykernel_37694/295057374.py:11: UserWarning: Boolean Series key will be reindexed to match DataFrame index.\n",
      "  Fuu_2_1s = df_3xs_2_1[df_3xs_2_1['phih']>=i_phi_left][df_3xs_2_1['phih']<i_phi]['value'].tolist()\n",
      "/var/folders/j9/hgt6bjfn0n78rvsbnlc10rqh0000gp/T/ipykernel_37694/295057374.py:12: UserWarning: Boolean Series key will be reindexed to match DataFrame index.\n",
      "  Fuu_2_1_stats = df_3xs_2_1[df_3xs_2_1['phih']>=i_phi_left][df_3xs_2_1['phih']<i_phi]['stat'].tolist()\n",
      "/var/folders/j9/hgt6bjfn0n78rvsbnlc10rqh0000gp/T/ipykernel_37694/295057374.py:10: UserWarning: Boolean Series key will be reindexed to match DataFrame index.\n",
      "  phih_2_1s = df_3xs_2_1[df_3xs_2_1['phih']>=i_phi_left][df_3xs_2_1['phih']<i_phi]['phih'].tolist()\n",
      "/var/folders/j9/hgt6bjfn0n78rvsbnlc10rqh0000gp/T/ipykernel_37694/295057374.py:11: UserWarning: Boolean Series key will be reindexed to match DataFrame index.\n",
      "  Fuu_2_1s = df_3xs_2_1[df_3xs_2_1['phih']>=i_phi_left][df_3xs_2_1['phih']<i_phi]['value'].tolist()\n",
      "/var/folders/j9/hgt6bjfn0n78rvsbnlc10rqh0000gp/T/ipykernel_37694/295057374.py:12: UserWarning: Boolean Series key will be reindexed to match DataFrame index.\n",
      "  Fuu_2_1_stats = df_3xs_2_1[df_3xs_2_1['phih']>=i_phi_left][df_3xs_2_1['phih']<i_phi]['stat'].tolist()\n",
      "/var/folders/j9/hgt6bjfn0n78rvsbnlc10rqh0000gp/T/ipykernel_37694/295057374.py:10: UserWarning: Boolean Series key will be reindexed to match DataFrame index.\n",
      "  phih_2_1s = df_3xs_2_1[df_3xs_2_1['phih']>=i_phi_left][df_3xs_2_1['phih']<i_phi]['phih'].tolist()\n",
      "/var/folders/j9/hgt6bjfn0n78rvsbnlc10rqh0000gp/T/ipykernel_37694/295057374.py:11: UserWarning: Boolean Series key will be reindexed to match DataFrame index.\n",
      "  Fuu_2_1s = df_3xs_2_1[df_3xs_2_1['phih']>=i_phi_left][df_3xs_2_1['phih']<i_phi]['value'].tolist()\n",
      "/var/folders/j9/hgt6bjfn0n78rvsbnlc10rqh0000gp/T/ipykernel_37694/295057374.py:12: UserWarning: Boolean Series key will be reindexed to match DataFrame index.\n",
      "  Fuu_2_1_stats = df_3xs_2_1[df_3xs_2_1['phih']>=i_phi_left][df_3xs_2_1['phih']<i_phi]['stat'].tolist()\n",
      "/var/folders/j9/hgt6bjfn0n78rvsbnlc10rqh0000gp/T/ipykernel_37694/295057374.py:10: UserWarning: Boolean Series key will be reindexed to match DataFrame index.\n",
      "  phih_2_1s = df_3xs_2_1[df_3xs_2_1['phih']>=i_phi_left][df_3xs_2_1['phih']<i_phi]['phih'].tolist()\n",
      "/var/folders/j9/hgt6bjfn0n78rvsbnlc10rqh0000gp/T/ipykernel_37694/295057374.py:11: UserWarning: Boolean Series key will be reindexed to match DataFrame index.\n",
      "  Fuu_2_1s = df_3xs_2_1[df_3xs_2_1['phih']>=i_phi_left][df_3xs_2_1['phih']<i_phi]['value'].tolist()\n",
      "/var/folders/j9/hgt6bjfn0n78rvsbnlc10rqh0000gp/T/ipykernel_37694/295057374.py:12: UserWarning: Boolean Series key will be reindexed to match DataFrame index.\n",
      "  Fuu_2_1_stats = df_3xs_2_1[df_3xs_2_1['phih']>=i_phi_left][df_3xs_2_1['phih']<i_phi]['stat'].tolist()\n",
      "/var/folders/j9/hgt6bjfn0n78rvsbnlc10rqh0000gp/T/ipykernel_37694/295057374.py:10: UserWarning: Boolean Series key will be reindexed to match DataFrame index.\n",
      "  phih_2_1s = df_3xs_2_1[df_3xs_2_1['phih']>=i_phi_left][df_3xs_2_1['phih']<i_phi]['phih'].tolist()\n",
      "/var/folders/j9/hgt6bjfn0n78rvsbnlc10rqh0000gp/T/ipykernel_37694/295057374.py:11: UserWarning: Boolean Series key will be reindexed to match DataFrame index.\n",
      "  Fuu_2_1s = df_3xs_2_1[df_3xs_2_1['phih']>=i_phi_left][df_3xs_2_1['phih']<i_phi]['value'].tolist()\n",
      "/var/folders/j9/hgt6bjfn0n78rvsbnlc10rqh0000gp/T/ipykernel_37694/295057374.py:12: UserWarning: Boolean Series key will be reindexed to match DataFrame index.\n",
      "  Fuu_2_1_stats = df_3xs_2_1[df_3xs_2_1['phih']>=i_phi_left][df_3xs_2_1['phih']<i_phi]['stat'].tolist()\n",
      "/var/folders/j9/hgt6bjfn0n78rvsbnlc10rqh0000gp/T/ipykernel_37694/295057374.py:10: UserWarning: Boolean Series key will be reindexed to match DataFrame index.\n",
      "  phih_2_1s = df_3xs_2_1[df_3xs_2_1['phih']>=i_phi_left][df_3xs_2_1['phih']<i_phi]['phih'].tolist()\n",
      "/var/folders/j9/hgt6bjfn0n78rvsbnlc10rqh0000gp/T/ipykernel_37694/295057374.py:11: UserWarning: Boolean Series key will be reindexed to match DataFrame index.\n",
      "  Fuu_2_1s = df_3xs_2_1[df_3xs_2_1['phih']>=i_phi_left][df_3xs_2_1['phih']<i_phi]['value'].tolist()\n",
      "/var/folders/j9/hgt6bjfn0n78rvsbnlc10rqh0000gp/T/ipykernel_37694/295057374.py:12: UserWarning: Boolean Series key will be reindexed to match DataFrame index.\n",
      "  Fuu_2_1_stats = df_3xs_2_1[df_3xs_2_1['phih']>=i_phi_left][df_3xs_2_1['phih']<i_phi]['stat'].tolist()\n",
      "/var/folders/j9/hgt6bjfn0n78rvsbnlc10rqh0000gp/T/ipykernel_37694/295057374.py:10: UserWarning: Boolean Series key will be reindexed to match DataFrame index.\n",
      "  phih_2_1s = df_3xs_2_1[df_3xs_2_1['phih']>=i_phi_left][df_3xs_2_1['phih']<i_phi]['phih'].tolist()\n",
      "/var/folders/j9/hgt6bjfn0n78rvsbnlc10rqh0000gp/T/ipykernel_37694/295057374.py:11: UserWarning: Boolean Series key will be reindexed to match DataFrame index.\n",
      "  Fuu_2_1s = df_3xs_2_1[df_3xs_2_1['phih']>=i_phi_left][df_3xs_2_1['phih']<i_phi]['value'].tolist()\n",
      "/var/folders/j9/hgt6bjfn0n78rvsbnlc10rqh0000gp/T/ipykernel_37694/295057374.py:12: UserWarning: Boolean Series key will be reindexed to match DataFrame index.\n",
      "  Fuu_2_1_stats = df_3xs_2_1[df_3xs_2_1['phih']>=i_phi_left][df_3xs_2_1['phih']<i_phi]['stat'].tolist()\n"
     ]
    },
    {
     "data": {
      "text/plain": [
       "Text(0, 0.5, '$F_{UU}$')"
      ]
     },
     "execution_count": 49,
     "metadata": {},
     "output_type": "execute_result"
    },
    {
     "data": {
      "image/png": "[encoded data removed]",
      "text/plain": [
       "<Figure size 640x480 with 1 Axes>"
      ]
     },
     "metadata": {},
     "output_type": "display_data"
    }
   ],
   "source": [
    "fig = plt.figure()\n",
    "ax = fig.add_subplot()\n",
    "phih_2_1_3xs=[]\n",
    "Fuu_2_1_3xs=[]\n",
    "Fuu_2_1_3xs_stat=[]\n",
    "Fuu_2_1_3xs_sys=[]\n",
    "i_phi_left = phih_bins[0]\n",
    "for i_phi in phih_bins[1:]:\n",
    "    print(i_phi_left,i_phi)\n",
    "    phih_2_1s = df_3xs_2_1[df_3xs_2_1['phih']>=i_phi_left][df_3xs_2_1['phih']<i_phi]['phih'].tolist()\n",
    "    Fuu_2_1s = df_3xs_2_1[df_3xs_2_1['phih']>=i_phi_left][df_3xs_2_1['phih']<i_phi]['value'].tolist()\n",
    "    Fuu_2_1_stats = df_3xs_2_1[df_3xs_2_1['phih']>=i_phi_left][df_3xs_2_1['phih']<i_phi]['stat'].tolist()\n",
    "    print(len(phih_2_1s))\n",
    "    \n",
    "    if len(phih_2_1s)>0:  \n",
    "        #print('phih',phih_2_1s)\n",
    "        #print('Fuu',Fuu_2_1s)\n",
    "        #print('Fuu_stat',Fuu_2_1_stats)\n",
    "        _Fuu_2_1 = Get_weighted_average(Fuu_2_1s,Fuu_2_1_stats)[0]\n",
    "        _Fuu_2_1_stat = Factor_3xs*Get_weighted_average(Fuu_2_1s,Fuu_2_1_stats)[1]\n",
    "        _phih_2_1= Get_weighted_average_phi(phih_2_1s,Fuu_2_1_stats)[0]\n",
    "        #print('_Fuu_2_1',_Fuu_2_1)\n",
    "        #print('_phih',_phih_2_1)\n",
    "        #print('_Fuu_stat',_Fuu_2_1_stat)\n",
    "        Fuu_2_1_3xs.append(_Fuu_2_1)\n",
    "        phih_2_1_3xs.append(_phih_2_1)\n",
    "        Fuu_2_1_3xs_stat.append(_Fuu_2_1_stat)\n",
    "        Fuu_2_1_3xs_sys.append(0.05*_Fuu_2_1)\n",
    "        #print(Fuu_2_1,phih_2_1)\n",
    "        ax.plot([_phih_2_1,_phih_2_1],[_Fuu_2_1-_Fuu_2_1_stat,_Fuu_2_1+_Fuu_2_1_stat],color='red',marker='_')\n",
    "    i_phi_left = i_phi\n",
    "    #print('phileft',i_phi_left)\n",
    "plt.plot(phih_2_1_3xs,Fuu_2_1_3xs,'ro')\n",
    "plt.xlabel('$\\phi_h$',fontsize=16)\n",
    "plt.ylabel('$F_{UU}$',fontsize=16)"
   ]
  },
  {
   "cell_type": "code",
   "execution_count": 50,
   "id": "b49ea350",
   "metadata": {
    "scrolled": true
   },
   "outputs": [
    {
     "name": "stdout",
     "output_type": "stream",
     "text": [
      "-3.141592653589793 -2.5132741228718345\n",
      "23\n",
      "-2.5132741228718345 -1.8849555921538759\n",
      "23\n",
      "-1.8849555921538759 -1.2566370614359172\n",
      "24\n",
      "-1.2566370614359172 -0.6283185307179586\n",
      "19\n",
      "-0.6283185307179586 0.6283185307179586\n",
      "24\n",
      "0.6283185307179586 1.2566370614359172\n",
      "19\n",
      "1.2566370614359172 1.8849555921538759\n",
      "24\n",
      "1.8849555921538759 2.5132741228718345\n",
      "23\n",
      "2.5132741228718345 3.141592653589793\n",
      "23\n"
     ]
    },
    {
     "name": "stderr",
     "output_type": "stream",
     "text": [
      "/var/folders/j9/hgt6bjfn0n78rvsbnlc10rqh0000gp/T/ipykernel_37694/1806478085.py:10: UserWarning: Boolean Series key will be reindexed to match DataFrame index.\n",
      "  phih_2_2s = df_3xs_2_2[df_3xs_2_2['phih']>=i_phi_left][df_3xs_2_2['phih']<i_phi]['phih'].tolist()\n",
      "/var/folders/j9/hgt6bjfn0n78rvsbnlc10rqh0000gp/T/ipykernel_37694/1806478085.py:11: UserWarning: Boolean Series key will be reindexed to match DataFrame index.\n",
      "  Fuu_2_2s = df_3xs_2_2[df_3xs_2_2['phih']>=i_phi_left][df_3xs_2_2['phih']<i_phi]['value'].tolist()\n",
      "/var/folders/j9/hgt6bjfn0n78rvsbnlc10rqh0000gp/T/ipykernel_37694/1806478085.py:12: UserWarning: Boolean Series key will be reindexed to match DataFrame index.\n",
      "  Fuu_2_2_stats = df_3xs_2_2[df_3xs_2_2['phih']>=i_phi_left][df_3xs_2_2['phih']<i_phi]['stat'].tolist()\n",
      "/var/folders/j9/hgt6bjfn0n78rvsbnlc10rqh0000gp/T/ipykernel_37694/1806478085.py:10: UserWarning: Boolean Series key will be reindexed to match DataFrame index.\n",
      "  phih_2_2s = df_3xs_2_2[df_3xs_2_2['phih']>=i_phi_left][df_3xs_2_2['phih']<i_phi]['phih'].tolist()\n",
      "/var/folders/j9/hgt6bjfn0n78rvsbnlc10rqh0000gp/T/ipykernel_37694/1806478085.py:11: UserWarning: Boolean Series key will be reindexed to match DataFrame index.\n",
      "  Fuu_2_2s = df_3xs_2_2[df_3xs_2_2['phih']>=i_phi_left][df_3xs_2_2['phih']<i_phi]['value'].tolist()\n",
      "/var/folders/j9/hgt6bjfn0n78rvsbnlc10rqh0000gp/T/ipykernel_37694/1806478085.py:12: UserWarning: Boolean Series key will be reindexed to match DataFrame index.\n",
      "  Fuu_2_2_stats = df_3xs_2_2[df_3xs_2_2['phih']>=i_phi_left][df_3xs_2_2['phih']<i_phi]['stat'].tolist()\n",
      "/var/folders/j9/hgt6bjfn0n78rvsbnlc10rqh0000gp/T/ipykernel_37694/1806478085.py:10: UserWarning: Boolean Series key will be reindexed to match DataFrame index.\n",
      "  phih_2_2s = df_3xs_2_2[df_3xs_2_2['phih']>=i_phi_left][df_3xs_2_2['phih']<i_phi]['phih'].tolist()\n",
      "/var/folders/j9/hgt6bjfn0n78rvsbnlc10rqh0000gp/T/ipykernel_37694/1806478085.py:11: UserWarning: Boolean Series key will be reindexed to match DataFrame index.\n",
      "  Fuu_2_2s = df_3xs_2_2[df_3xs_2_2['phih']>=i_phi_left][df_3xs_2_2['phih']<i_phi]['value'].tolist()\n",
      "/var/folders/j9/hgt6bjfn0n78rvsbnlc10rqh0000gp/T/ipykernel_37694/1806478085.py:12: UserWarning: Boolean Series key will be reindexed to match DataFrame index.\n",
      "  Fuu_2_2_stats = df_3xs_2_2[df_3xs_2_2['phih']>=i_phi_left][df_3xs_2_2['phih']<i_phi]['stat'].tolist()\n",
      "/var/folders/j9/hgt6bjfn0n78rvsbnlc10rqh0000gp/T/ipykernel_37694/1806478085.py:10: UserWarning: Boolean Series key will be reindexed to match DataFrame index.\n",
      "  phih_2_2s = df_3xs_2_2[df_3xs_2_2['phih']>=i_phi_left][df_3xs_2_2['phih']<i_phi]['phih'].tolist()\n",
      "/var/folders/j9/hgt6bjfn0n78rvsbnlc10rqh0000gp/T/ipykernel_37694/1806478085.py:11: UserWarning: Boolean Series key will be reindexed to match DataFrame index.\n",
      "  Fuu_2_2s = df_3xs_2_2[df_3xs_2_2['phih']>=i_phi_left][df_3xs_2_2['phih']<i_phi]['value'].tolist()\n",
      "/var/folders/j9/hgt6bjfn0n78rvsbnlc10rqh0000gp/T/ipykernel_37694/1806478085.py:12: UserWarning: Boolean Series key will be reindexed to match DataFrame index.\n",
      "  Fuu_2_2_stats = df_3xs_2_2[df_3xs_2_2['phih']>=i_phi_left][df_3xs_2_2['phih']<i_phi]['stat'].tolist()\n",
      "/var/folders/j9/hgt6bjfn0n78rvsbnlc10rqh0000gp/T/ipykernel_37694/1806478085.py:10: UserWarning: Boolean Series key will be reindexed to match DataFrame index.\n",
      "  phih_2_2s = df_3xs_2_2[df_3xs_2_2['phih']>=i_phi_left][df_3xs_2_2['phih']<i_phi]['phih'].tolist()\n",
      "/var/folders/j9/hgt6bjfn0n78rvsbnlc10rqh0000gp/T/ipykernel_37694/1806478085.py:11: UserWarning: Boolean Series key will be reindexed to match DataFrame index.\n",
      "  Fuu_2_2s = df_3xs_2_2[df_3xs_2_2['phih']>=i_phi_left][df_3xs_2_2['phih']<i_phi]['value'].tolist()\n",
      "/var/folders/j9/hgt6bjfn0n78rvsbnlc10rqh0000gp/T/ipykernel_37694/1806478085.py:12: UserWarning: Boolean Series key will be reindexed to match DataFrame index.\n",
      "  Fuu_2_2_stats = df_3xs_2_2[df_3xs_2_2['phih']>=i_phi_left][df_3xs_2_2['phih']<i_phi]['stat'].tolist()\n",
      "/var/folders/j9/hgt6bjfn0n78rvsbnlc10rqh0000gp/T/ipykernel_37694/1806478085.py:10: UserWarning: Boolean Series key will be reindexed to match DataFrame index.\n",
      "  phih_2_2s = df_3xs_2_2[df_3xs_2_2['phih']>=i_phi_left][df_3xs_2_2['phih']<i_phi]['phih'].tolist()\n",
      "/var/folders/j9/hgt6bjfn0n78rvsbnlc10rqh0000gp/T/ipykernel_37694/1806478085.py:11: UserWarning: Boolean Series key will be reindexed to match DataFrame index.\n",
      "  Fuu_2_2s = df_3xs_2_2[df_3xs_2_2['phih']>=i_phi_left][df_3xs_2_2['phih']<i_phi]['value'].tolist()\n",
      "/var/folders/j9/hgt6bjfn0n78rvsbnlc10rqh0000gp/T/ipykernel_37694/1806478085.py:12: UserWarning: Boolean Series key will be reindexed to match DataFrame index.\n",
      "  Fuu_2_2_stats = df_3xs_2_2[df_3xs_2_2['phih']>=i_phi_left][df_3xs_2_2['phih']<i_phi]['stat'].tolist()\n",
      "/var/folders/j9/hgt6bjfn0n78rvsbnlc10rqh0000gp/T/ipykernel_37694/1806478085.py:10: UserWarning: Boolean Series key will be reindexed to match DataFrame index.\n",
      "  phih_2_2s = df_3xs_2_2[df_3xs_2_2['phih']>=i_phi_left][df_3xs_2_2['phih']<i_phi]['phih'].tolist()\n",
      "/var/folders/j9/hgt6bjfn0n78rvsbnlc10rqh0000gp/T/ipykernel_37694/1806478085.py:11: UserWarning: Boolean Series key will be reindexed to match DataFrame index.\n",
      "  Fuu_2_2s = df_3xs_2_2[df_3xs_2_2['phih']>=i_phi_left][df_3xs_2_2['phih']<i_phi]['value'].tolist()\n",
      "/var/folders/j9/hgt6bjfn0n78rvsbnlc10rqh0000gp/T/ipykernel_37694/1806478085.py:12: UserWarning: Boolean Series key will be reindexed to match DataFrame index.\n",
      "  Fuu_2_2_stats = df_3xs_2_2[df_3xs_2_2['phih']>=i_phi_left][df_3xs_2_2['phih']<i_phi]['stat'].tolist()\n",
      "/var/folders/j9/hgt6bjfn0n78rvsbnlc10rqh0000gp/T/ipykernel_37694/1806478085.py:10: UserWarning: Boolean Series key will be reindexed to match DataFrame index.\n",
      "  phih_2_2s = df_3xs_2_2[df_3xs_2_2['phih']>=i_phi_left][df_3xs_2_2['phih']<i_phi]['phih'].tolist()\n",
      "/var/folders/j9/hgt6bjfn0n78rvsbnlc10rqh0000gp/T/ipykernel_37694/1806478085.py:11: UserWarning: Boolean Series key will be reindexed to match DataFrame index.\n",
      "  Fuu_2_2s = df_3xs_2_2[df_3xs_2_2['phih']>=i_phi_left][df_3xs_2_2['phih']<i_phi]['value'].tolist()\n",
      "/var/folders/j9/hgt6bjfn0n78rvsbnlc10rqh0000gp/T/ipykernel_37694/1806478085.py:12: UserWarning: Boolean Series key will be reindexed to match DataFrame index.\n",
      "  Fuu_2_2_stats = df_3xs_2_2[df_3xs_2_2['phih']>=i_phi_left][df_3xs_2_2['phih']<i_phi]['stat'].tolist()\n"
     ]
    },
    {
     "data": {
      "text/plain": [
       "Text(0, 0.5, '$F_{UU}$')"
      ]
     },
     "execution_count": 50,
     "metadata": {},
     "output_type": "execute_result"
    },
    {
     "data": {
      "image/png": "[encoded data removed]",
      "text/plain": [
       "<Figure size 640x480 with 1 Axes>"
      ]
     },
     "metadata": {},
     "output_type": "display_data"
    }
   ],
   "source": [
    "fig = plt.figure()\n",
    "ax = fig.add_subplot()\n",
    "phih_2_2_3xs=[]\n",
    "Fuu_2_2_3xs=[]\n",
    "Fuu_2_2_3xs_stat=[]\n",
    "Fuu_2_2_3xs_sys=[]\n",
    "i_phi_left = phih_bins[0]\n",
    "for i_phi in phih_bins[1:]:\n",
    "    print(i_phi_left,i_phi)\n",
    "    phih_2_2s = df_3xs_2_2[df_3xs_2_2['phih']>=i_phi_left][df_3xs_2_2['phih']<i_phi]['phih'].tolist()\n",
    "    Fuu_2_2s = df_3xs_2_2[df_3xs_2_2['phih']>=i_phi_left][df_3xs_2_2['phih']<i_phi]['value'].tolist()\n",
    "    Fuu_2_2_stats = df_3xs_2_2[df_3xs_2_2['phih']>=i_phi_left][df_3xs_2_2['phih']<i_phi]['stat'].tolist()\n",
    "    print(len(phih_2_2s))\n",
    "    \n",
    "    if len(phih_2_2s)>0:  \n",
    "        #print('phih',phih_2_2s)\n",
    "        #print('Fuu',Fuu_2_2s)\n",
    "        #print('Fuu_stat',Fuu_2_2_stats)\n",
    "        _Fuu_2_2 = Get_weighted_average(Fuu_2_2s,Fuu_2_2_stats)[0]\n",
    "        _Fuu_2_2_stat = Factor_3xs*Get_weighted_average(Fuu_2_2s,Fuu_2_2_stats)[1]\n",
    "        _phih_2_2= Get_weighted_average_phi(phih_2_2s,Fuu_2_2_stats)[0]\n",
    "        #print('_Fuu_2_2',_Fuu_2_2)\n",
    "        #print('_phih',_phih_2_2)\n",
    "        #print('_Fuu_stat',_Fuu_2_2_stat)\n",
    "        Fuu_2_2_3xs.append(_Fuu_2_2)\n",
    "        phih_2_2_3xs.append(_phih_2_2)\n",
    "        Fuu_2_2_3xs_stat.append(_Fuu_2_2_stat)\n",
    "        Fuu_2_2_3xs_sys.append(0.05*_Fuu_2_2)\n",
    "        #print(Fuu_2_2,phih_2_2)\n",
    "        ax.plot([_phih_2_2,_phih_2_2],[_Fuu_2_2-_Fuu_2_2_stat,_Fuu_2_2+_Fuu_2_2_stat],color='red',marker='_')\n",
    "    i_phi_left = i_phi\n",
    "    #print('phileft',i_phi_left)\n",
    "plt.plot(phih_2_2_3xs,Fuu_2_2_3xs,'ro')\n",
    "plt.xlabel('$\\phi_h$',fontsize=16)\n",
    "plt.ylabel('$F_{UU}$',fontsize=16)"
   ]
  },
  {
   "cell_type": "code",
   "execution_count": 51,
   "id": "2b5acef4",
   "metadata": {
    "scrolled": true
   },
   "outputs": [
    {
     "name": "stdout",
     "output_type": "stream",
     "text": [
      "-3.141592653589793 -2.5132741228718345\n",
      "13\n",
      "-2.5132741228718345 -1.8849555921538759\n",
      "13\n",
      "-1.8849555921538759 -1.2566370614359172\n",
      "13\n",
      "-1.2566370614359172 -0.6283185307179586\n",
      "11\n",
      "-0.6283185307179586 0.6283185307179586\n",
      "18\n",
      "0.6283185307179586 1.2566370614359172\n",
      "11\n",
      "1.2566370614359172 1.8849555921538759\n",
      "13\n",
      "1.8849555921538759 2.5132741228718345\n",
      "13\n",
      "2.5132741228718345 3.141592653589793\n",
      "13\n"
     ]
    },
    {
     "name": "stderr",
     "output_type": "stream",
     "text": [
      "/var/folders/j9/hgt6bjfn0n78rvsbnlc10rqh0000gp/T/ipykernel_37694/4103060561.py:10: UserWarning: Boolean Series key will be reindexed to match DataFrame index.\n",
      "  phih_2_3s = df_3xs_2_3[df_3xs_2_3['phih']>=i_phi_left][df_3xs_2_3['phih']<i_phi]['phih'].tolist()\n",
      "/var/folders/j9/hgt6bjfn0n78rvsbnlc10rqh0000gp/T/ipykernel_37694/4103060561.py:11: UserWarning: Boolean Series key will be reindexed to match DataFrame index.\n",
      "  Fuu_2_3s = df_3xs_2_3[df_3xs_2_3['phih']>=i_phi_left][df_3xs_2_3['phih']<i_phi]['value'].tolist()\n",
      "/var/folders/j9/hgt6bjfn0n78rvsbnlc10rqh0000gp/T/ipykernel_37694/4103060561.py:12: UserWarning: Boolean Series key will be reindexed to match DataFrame index.\n",
      "  Fuu_2_3_stats = df_3xs_2_3[df_3xs_2_3['phih']>=i_phi_left][df_3xs_2_3['phih']<i_phi]['stat'].tolist()\n",
      "/var/folders/j9/hgt6bjfn0n78rvsbnlc10rqh0000gp/T/ipykernel_37694/4103060561.py:10: UserWarning: Boolean Series key will be reindexed to match DataFrame index.\n",
      "  phih_2_3s = df_3xs_2_3[df_3xs_2_3['phih']>=i_phi_left][df_3xs_2_3['phih']<i_phi]['phih'].tolist()\n",
      "/var/folders/j9/hgt6bjfn0n78rvsbnlc10rqh0000gp/T/ipykernel_37694/4103060561.py:11: UserWarning: Boolean Series key will be reindexed to match DataFrame index.\n",
      "  Fuu_2_3s = df_3xs_2_3[df_3xs_2_3['phih']>=i_phi_left][df_3xs_2_3['phih']<i_phi]['value'].tolist()\n",
      "/var/folders/j9/hgt6bjfn0n78rvsbnlc10rqh0000gp/T/ipykernel_37694/4103060561.py:12: UserWarning: Boolean Series key will be reindexed to match DataFrame index.\n",
      "  Fuu_2_3_stats = df_3xs_2_3[df_3xs_2_3['phih']>=i_phi_left][df_3xs_2_3['phih']<i_phi]['stat'].tolist()\n",
      "/var/folders/j9/hgt6bjfn0n78rvsbnlc10rqh0000gp/T/ipykernel_37694/4103060561.py:10: UserWarning: Boolean Series key will be reindexed to match DataFrame index.\n",
      "  phih_2_3s = df_3xs_2_3[df_3xs_2_3['phih']>=i_phi_left][df_3xs_2_3['phih']<i_phi]['phih'].tolist()\n",
      "/var/folders/j9/hgt6bjfn0n78rvsbnlc10rqh0000gp/T/ipykernel_37694/4103060561.py:11: UserWarning: Boolean Series key will be reindexed to match DataFrame index.\n",
      "  Fuu_2_3s = df_3xs_2_3[df_3xs_2_3['phih']>=i_phi_left][df_3xs_2_3['phih']<i_phi]['value'].tolist()\n",
      "/var/folders/j9/hgt6bjfn0n78rvsbnlc10rqh0000gp/T/ipykernel_37694/4103060561.py:12: UserWarning: Boolean Series key will be reindexed to match DataFrame index.\n",
      "  Fuu_2_3_stats = df_3xs_2_3[df_3xs_2_3['phih']>=i_phi_left][df_3xs_2_3['phih']<i_phi]['stat'].tolist()\n",
      "/var/folders/j9/hgt6bjfn0n78rvsbnlc10rqh0000gp/T/ipykernel_37694/4103060561.py:10: UserWarning: Boolean Series key will be reindexed to match DataFrame index.\n",
      "  phih_2_3s = df_3xs_2_3[df_3xs_2_3['phih']>=i_phi_left][df_3xs_2_3['phih']<i_phi]['phih'].tolist()\n",
      "/var/folders/j9/hgt6bjfn0n78rvsbnlc10rqh0000gp/T/ipykernel_37694/4103060561.py:11: UserWarning: Boolean Series key will be reindexed to match DataFrame index.\n",
      "  Fuu_2_3s = df_3xs_2_3[df_3xs_2_3['phih']>=i_phi_left][df_3xs_2_3['phih']<i_phi]['value'].tolist()\n",
      "/var/folders/j9/hgt6bjfn0n78rvsbnlc10rqh0000gp/T/ipykernel_37694/4103060561.py:12: UserWarning: Boolean Series key will be reindexed to match DataFrame index.\n",
      "  Fuu_2_3_stats = df_3xs_2_3[df_3xs_2_3['phih']>=i_phi_left][df_3xs_2_3['phih']<i_phi]['stat'].tolist()\n",
      "/var/folders/j9/hgt6bjfn0n78rvsbnlc10rqh0000gp/T/ipykernel_37694/4103060561.py:10: UserWarning: Boolean Series key will be reindexed to match DataFrame index.\n",
      "  phih_2_3s = df_3xs_2_3[df_3xs_2_3['phih']>=i_phi_left][df_3xs_2_3['phih']<i_phi]['phih'].tolist()\n",
      "/var/folders/j9/hgt6bjfn0n78rvsbnlc10rqh0000gp/T/ipykernel_37694/4103060561.py:11: UserWarning: Boolean Series key will be reindexed to match DataFrame index.\n",
      "  Fuu_2_3s = df_3xs_2_3[df_3xs_2_3['phih']>=i_phi_left][df_3xs_2_3['phih']<i_phi]['value'].tolist()\n",
      "/var/folders/j9/hgt6bjfn0n78rvsbnlc10rqh0000gp/T/ipykernel_37694/4103060561.py:12: UserWarning: Boolean Series key will be reindexed to match DataFrame index.\n",
      "  Fuu_2_3_stats = df_3xs_2_3[df_3xs_2_3['phih']>=i_phi_left][df_3xs_2_3['phih']<i_phi]['stat'].tolist()\n",
      "/var/folders/j9/hgt6bjfn0n78rvsbnlc10rqh0000gp/T/ipykernel_37694/4103060561.py:10: UserWarning: Boolean Series key will be reindexed to match DataFrame index.\n",
      "  phih_2_3s = df_3xs_2_3[df_3xs_2_3['phih']>=i_phi_left][df_3xs_2_3['phih']<i_phi]['phih'].tolist()\n",
      "/var/folders/j9/hgt6bjfn0n78rvsbnlc10rqh0000gp/T/ipykernel_37694/4103060561.py:11: UserWarning: Boolean Series key will be reindexed to match DataFrame index.\n",
      "  Fuu_2_3s = df_3xs_2_3[df_3xs_2_3['phih']>=i_phi_left][df_3xs_2_3['phih']<i_phi]['value'].tolist()\n",
      "/var/folders/j9/hgt6bjfn0n78rvsbnlc10rqh0000gp/T/ipykernel_37694/4103060561.py:12: UserWarning: Boolean Series key will be reindexed to match DataFrame index.\n",
      "  Fuu_2_3_stats = df_3xs_2_3[df_3xs_2_3['phih']>=i_phi_left][df_3xs_2_3['phih']<i_phi]['stat'].tolist()\n",
      "/var/folders/j9/hgt6bjfn0n78rvsbnlc10rqh0000gp/T/ipykernel_37694/4103060561.py:10: UserWarning: Boolean Series key will be reindexed to match DataFrame index.\n",
      "  phih_2_3s = df_3xs_2_3[df_3xs_2_3['phih']>=i_phi_left][df_3xs_2_3['phih']<i_phi]['phih'].tolist()\n",
      "/var/folders/j9/hgt6bjfn0n78rvsbnlc10rqh0000gp/T/ipykernel_37694/4103060561.py:11: UserWarning: Boolean Series key will be reindexed to match DataFrame index.\n",
      "  Fuu_2_3s = df_3xs_2_3[df_3xs_2_3['phih']>=i_phi_left][df_3xs_2_3['phih']<i_phi]['value'].tolist()\n",
      "/var/folders/j9/hgt6bjfn0n78rvsbnlc10rqh0000gp/T/ipykernel_37694/4103060561.py:12: UserWarning: Boolean Series key will be reindexed to match DataFrame index.\n",
      "  Fuu_2_3_stats = df_3xs_2_3[df_3xs_2_3['phih']>=i_phi_left][df_3xs_2_3['phih']<i_phi]['stat'].tolist()\n",
      "/var/folders/j9/hgt6bjfn0n78rvsbnlc10rqh0000gp/T/ipykernel_37694/4103060561.py:10: UserWarning: Boolean Series key will be reindexed to match DataFrame index.\n",
      "  phih_2_3s = df_3xs_2_3[df_3xs_2_3['phih']>=i_phi_left][df_3xs_2_3['phih']<i_phi]['phih'].tolist()\n",
      "/var/folders/j9/hgt6bjfn0n78rvsbnlc10rqh0000gp/T/ipykernel_37694/4103060561.py:11: UserWarning: Boolean Series key will be reindexed to match DataFrame index.\n",
      "  Fuu_2_3s = df_3xs_2_3[df_3xs_2_3['phih']>=i_phi_left][df_3xs_2_3['phih']<i_phi]['value'].tolist()\n",
      "/var/folders/j9/hgt6bjfn0n78rvsbnlc10rqh0000gp/T/ipykernel_37694/4103060561.py:12: UserWarning: Boolean Series key will be reindexed to match DataFrame index.\n",
      "  Fuu_2_3_stats = df_3xs_2_3[df_3xs_2_3['phih']>=i_phi_left][df_3xs_2_3['phih']<i_phi]['stat'].tolist()\n"
     ]
    },
    {
     "data": {
      "text/plain": [
       "Text(0, 0.5, '$F_{UU}$')"
      ]
     },
     "execution_count": 51,
     "metadata": {},
     "output_type": "execute_result"
    },
    {
     "data": {
      "image/png": "[encoded data removed]",
      "text/plain": [
       "<Figure size 640x480 with 1 Axes>"
      ]
     },
     "metadata": {},
     "output_type": "display_data"
    }
   ],
   "source": [
    "fig = plt.figure()\n",
    "ax = fig.add_subplot()\n",
    "phih_2_3_3xs=[]\n",
    "Fuu_2_3_3xs=[]\n",
    "Fuu_2_3_3xs_stat=[]\n",
    "Fuu_2_3_3xs_sys=[]\n",
    "i_phi_left = phih_bins[0]\n",
    "for i_phi in phih_bins[1:]:\n",
    "    print(i_phi_left,i_phi)\n",
    "    phih_2_3s = df_3xs_2_3[df_3xs_2_3['phih']>=i_phi_left][df_3xs_2_3['phih']<i_phi]['phih'].tolist()\n",
    "    Fuu_2_3s = df_3xs_2_3[df_3xs_2_3['phih']>=i_phi_left][df_3xs_2_3['phih']<i_phi]['value'].tolist()\n",
    "    Fuu_2_3_stats = df_3xs_2_3[df_3xs_2_3['phih']>=i_phi_left][df_3xs_2_3['phih']<i_phi]['stat'].tolist()\n",
    "    print(len(phih_2_3s))\n",
    "    \n",
    "    if len(phih_2_3s)>0:  \n",
    "        #print('phih',phih_2_3s)\n",
    "        #print('Fuu',Fuu_2_3s)\n",
    "        #print('Fuu_stat',Fuu_2_3_stats)\n",
    "        _Fuu_2_3 = Get_weighted_average(Fuu_2_3s,Fuu_2_3_stats)[0]\n",
    "        _Fuu_2_3_stat = Factor_3xs*Get_weighted_average(Fuu_2_3s,Fuu_2_3_stats)[1]\n",
    "        _phih_2_3= Get_weighted_average_phi(phih_2_3s,Fuu_2_3_stats)[0]\n",
    "        #print('_Fuu_2_3',_Fuu_2_3)\n",
    "        #print('_phih',_phih_2_3)\n",
    "        #print('_Fuu_stat',_Fuu_2_3_stat)\n",
    "        Fuu_2_3_3xs.append(_Fuu_2_3)\n",
    "        phih_2_3_3xs.append(_phih_2_3)\n",
    "        Fuu_2_3_3xs_stat.append(_Fuu_2_3_stat)\n",
    "        Fuu_2_3_3xs_sys.append(0.05*_Fuu_2_3)\n",
    "        #print(Fuu_2_3,phih_2_3)\n",
    "        ax.plot([_phih_2_3,_phih_2_3],[_Fuu_2_3-_Fuu_2_3_stat,_Fuu_2_3+_Fuu_2_3_stat],color='red',marker='_')\n",
    "    i_phi_left = i_phi\n",
    "    #print('phileft',i_phi_left)\n",
    "plt.plot(phih_2_3_3xs,Fuu_2_3_3xs,'ro')\n",
    "plt.xlabel('$\\phi_h$',fontsize=16)\n",
    "plt.ylabel('$F_{UU}$',fontsize=16)"
   ]
  },
  {
   "cell_type": "code",
   "execution_count": 52,
   "id": "9a9e8d59",
   "metadata": {
    "scrolled": true
   },
   "outputs": [
    {
     "name": "stdout",
     "output_type": "stream",
     "text": [
      "-3.141592653589793 -2.5132741228718345\n",
      "37\n",
      "-2.5132741228718345 -1.8849555921538759\n",
      "38\n",
      "-1.8849555921538759 -1.2566370614359172\n",
      "35\n",
      "-1.2566370614359172 -0.6283185307179586\n",
      "19\n",
      "-0.6283185307179586 0.6283185307179586\n",
      "16\n",
      "0.6283185307179586 1.2566370614359172\n",
      "19\n",
      "1.2566370614359172 1.8849555921538759\n",
      "35\n",
      "1.8849555921538759 2.5132741228718345\n",
      "38\n",
      "2.5132741228718345 3.141592653589793\n",
      "37\n"
     ]
    },
    {
     "name": "stderr",
     "output_type": "stream",
     "text": [
      "/var/folders/j9/hgt6bjfn0n78rvsbnlc10rqh0000gp/T/ipykernel_37694/3716539223.py:10: UserWarning: Boolean Series key will be reindexed to match DataFrame index.\n",
      "  phih_3_1s = df_3xs_3_1[df_3xs_3_1['phih']>=i_phi_left][df_3xs_3_1['phih']<i_phi]['phih'].tolist()\n",
      "/var/folders/j9/hgt6bjfn0n78rvsbnlc10rqh0000gp/T/ipykernel_37694/3716539223.py:11: UserWarning: Boolean Series key will be reindexed to match DataFrame index.\n",
      "  Fuu_3_1s = df_3xs_3_1[df_3xs_3_1['phih']>=i_phi_left][df_3xs_3_1['phih']<i_phi]['value'].tolist()\n",
      "/var/folders/j9/hgt6bjfn0n78rvsbnlc10rqh0000gp/T/ipykernel_37694/3716539223.py:12: UserWarning: Boolean Series key will be reindexed to match DataFrame index.\n",
      "  Fuu_3_1_stats = df_3xs_3_1[df_3xs_3_1['phih']>=i_phi_left][df_3xs_3_1['phih']<i_phi]['stat'].tolist()\n",
      "/var/folders/j9/hgt6bjfn0n78rvsbnlc10rqh0000gp/T/ipykernel_37694/3716539223.py:10: UserWarning: Boolean Series key will be reindexed to match DataFrame index.\n",
      "  phih_3_1s = df_3xs_3_1[df_3xs_3_1['phih']>=i_phi_left][df_3xs_3_1['phih']<i_phi]['phih'].tolist()\n",
      "/var/folders/j9/hgt6bjfn0n78rvsbnlc10rqh0000gp/T/ipykernel_37694/3716539223.py:11: UserWarning: Boolean Series key will be reindexed to match DataFrame index.\n",
      "  Fuu_3_1s = df_3xs_3_1[df_3xs_3_1['phih']>=i_phi_left][df_3xs_3_1['phih']<i_phi]['value'].tolist()\n",
      "/var/folders/j9/hgt6bjfn0n78rvsbnlc10rqh0000gp/T/ipykernel_37694/3716539223.py:12: UserWarning: Boolean Series key will be reindexed to match DataFrame index.\n",
      "  Fuu_3_1_stats = df_3xs_3_1[df_3xs_3_1['phih']>=i_phi_left][df_3xs_3_1['phih']<i_phi]['stat'].tolist()\n",
      "/var/folders/j9/hgt6bjfn0n78rvsbnlc10rqh0000gp/T/ipykernel_37694/3716539223.py:10: UserWarning: Boolean Series key will be reindexed to match DataFrame index.\n",
      "  phih_3_1s = df_3xs_3_1[df_3xs_3_1['phih']>=i_phi_left][df_3xs_3_1['phih']<i_phi]['phih'].tolist()\n",
      "/var/folders/j9/hgt6bjfn0n78rvsbnlc10rqh0000gp/T/ipykernel_37694/3716539223.py:11: UserWarning: Boolean Series key will be reindexed to match DataFrame index.\n",
      "  Fuu_3_1s = df_3xs_3_1[df_3xs_3_1['phih']>=i_phi_left][df_3xs_3_1['phih']<i_phi]['value'].tolist()\n",
      "/var/folders/j9/hgt6bjfn0n78rvsbnlc10rqh0000gp/T/ipykernel_37694/3716539223.py:12: UserWarning: Boolean Series key will be reindexed to match DataFrame index.\n",
      "  Fuu_3_1_stats = df_3xs_3_1[df_3xs_3_1['phih']>=i_phi_left][df_3xs_3_1['phih']<i_phi]['stat'].tolist()\n",
      "/var/folders/j9/hgt6bjfn0n78rvsbnlc10rqh0000gp/T/ipykernel_37694/3716539223.py:10: UserWarning: Boolean Series key will be reindexed to match DataFrame index.\n",
      "  phih_3_1s = df_3xs_3_1[df_3xs_3_1['phih']>=i_phi_left][df_3xs_3_1['phih']<i_phi]['phih'].tolist()\n",
      "/var/folders/j9/hgt6bjfn0n78rvsbnlc10rqh0000gp/T/ipykernel_37694/3716539223.py:11: UserWarning: Boolean Series key will be reindexed to match DataFrame index.\n",
      "  Fuu_3_1s = df_3xs_3_1[df_3xs_3_1['phih']>=i_phi_left][df_3xs_3_1['phih']<i_phi]['value'].tolist()\n",
      "/var/folders/j9/hgt6bjfn0n78rvsbnlc10rqh0000gp/T/ipykernel_37694/3716539223.py:12: UserWarning: Boolean Series key will be reindexed to match DataFrame index.\n",
      "  Fuu_3_1_stats = df_3xs_3_1[df_3xs_3_1['phih']>=i_phi_left][df_3xs_3_1['phih']<i_phi]['stat'].tolist()\n",
      "/var/folders/j9/hgt6bjfn0n78rvsbnlc10rqh0000gp/T/ipykernel_37694/3716539223.py:10: UserWarning: Boolean Series key will be reindexed to match DataFrame index.\n",
      "  phih_3_1s = df_3xs_3_1[df_3xs_3_1['phih']>=i_phi_left][df_3xs_3_1['phih']<i_phi]['phih'].tolist()\n",
      "/var/folders/j9/hgt6bjfn0n78rvsbnlc10rqh0000gp/T/ipykernel_37694/3716539223.py:11: UserWarning: Boolean Series key will be reindexed to match DataFrame index.\n",
      "  Fuu_3_1s = df_3xs_3_1[df_3xs_3_1['phih']>=i_phi_left][df_3xs_3_1['phih']<i_phi]['value'].tolist()\n",
      "/var/folders/j9/hgt6bjfn0n78rvsbnlc10rqh0000gp/T/ipykernel_37694/3716539223.py:12: UserWarning: Boolean Series key will be reindexed to match DataFrame index.\n",
      "  Fuu_3_1_stats = df_3xs_3_1[df_3xs_3_1['phih']>=i_phi_left][df_3xs_3_1['phih']<i_phi]['stat'].tolist()\n",
      "/var/folders/j9/hgt6bjfn0n78rvsbnlc10rqh0000gp/T/ipykernel_37694/3716539223.py:10: UserWarning: Boolean Series key will be reindexed to match DataFrame index.\n",
      "  phih_3_1s = df_3xs_3_1[df_3xs_3_1['phih']>=i_phi_left][df_3xs_3_1['phih']<i_phi]['phih'].tolist()\n",
      "/var/folders/j9/hgt6bjfn0n78rvsbnlc10rqh0000gp/T/ipykernel_37694/3716539223.py:11: UserWarning: Boolean Series key will be reindexed to match DataFrame index.\n",
      "  Fuu_3_1s = df_3xs_3_1[df_3xs_3_1['phih']>=i_phi_left][df_3xs_3_1['phih']<i_phi]['value'].tolist()\n",
      "/var/folders/j9/hgt6bjfn0n78rvsbnlc10rqh0000gp/T/ipykernel_37694/3716539223.py:12: UserWarning: Boolean Series key will be reindexed to match DataFrame index.\n",
      "  Fuu_3_1_stats = df_3xs_3_1[df_3xs_3_1['phih']>=i_phi_left][df_3xs_3_1['phih']<i_phi]['stat'].tolist()\n",
      "/var/folders/j9/hgt6bjfn0n78rvsbnlc10rqh0000gp/T/ipykernel_37694/3716539223.py:10: UserWarning: Boolean Series key will be reindexed to match DataFrame index.\n",
      "  phih_3_1s = df_3xs_3_1[df_3xs_3_1['phih']>=i_phi_left][df_3xs_3_1['phih']<i_phi]['phih'].tolist()\n",
      "/var/folders/j9/hgt6bjfn0n78rvsbnlc10rqh0000gp/T/ipykernel_37694/3716539223.py:11: UserWarning: Boolean Series key will be reindexed to match DataFrame index.\n",
      "  Fuu_3_1s = df_3xs_3_1[df_3xs_3_1['phih']>=i_phi_left][df_3xs_3_1['phih']<i_phi]['value'].tolist()\n",
      "/var/folders/j9/hgt6bjfn0n78rvsbnlc10rqh0000gp/T/ipykernel_37694/3716539223.py:12: UserWarning: Boolean Series key will be reindexed to match DataFrame index.\n",
      "  Fuu_3_1_stats = df_3xs_3_1[df_3xs_3_1['phih']>=i_phi_left][df_3xs_3_1['phih']<i_phi]['stat'].tolist()\n",
      "/var/folders/j9/hgt6bjfn0n78rvsbnlc10rqh0000gp/T/ipykernel_37694/3716539223.py:10: UserWarning: Boolean Series key will be reindexed to match DataFrame index.\n",
      "  phih_3_1s = df_3xs_3_1[df_3xs_3_1['phih']>=i_phi_left][df_3xs_3_1['phih']<i_phi]['phih'].tolist()\n",
      "/var/folders/j9/hgt6bjfn0n78rvsbnlc10rqh0000gp/T/ipykernel_37694/3716539223.py:11: UserWarning: Boolean Series key will be reindexed to match DataFrame index.\n",
      "  Fuu_3_1s = df_3xs_3_1[df_3xs_3_1['phih']>=i_phi_left][df_3xs_3_1['phih']<i_phi]['value'].tolist()\n",
      "/var/folders/j9/hgt6bjfn0n78rvsbnlc10rqh0000gp/T/ipykernel_37694/3716539223.py:12: UserWarning: Boolean Series key will be reindexed to match DataFrame index.\n",
      "  Fuu_3_1_stats = df_3xs_3_1[df_3xs_3_1['phih']>=i_phi_left][df_3xs_3_1['phih']<i_phi]['stat'].tolist()\n"
     ]
    },
    {
     "data": {
      "text/plain": [
       "Text(0, 0.5, '$F_{UU}$')"
      ]
     },
     "execution_count": 52,
     "metadata": {},
     "output_type": "execute_result"
    },
    {
     "data": {
      "image/png": "[encoded data removed]",
      "text/plain": [
       "<Figure size 640x480 with 1 Axes>"
      ]
     },
     "metadata": {},
     "output_type": "display_data"
    }
   ],
   "source": [
    "fig = plt.figure()\n",
    "ax = fig.add_subplot()\n",
    "phih_3_1_3xs=[]\n",
    "Fuu_3_1_3xs=[]\n",
    "Fuu_3_1_3xs_stat=[]\n",
    "Fuu_3_1_3xs_sys=[]\n",
    "i_phi_left = phih_bins[0]\n",
    "for i_phi in phih_bins[1:]:\n",
    "    print(i_phi_left,i_phi)\n",
    "    phih_3_1s = df_3xs_3_1[df_3xs_3_1['phih']>=i_phi_left][df_3xs_3_1['phih']<i_phi]['phih'].tolist()\n",
    "    Fuu_3_1s = df_3xs_3_1[df_3xs_3_1['phih']>=i_phi_left][df_3xs_3_1['phih']<i_phi]['value'].tolist()\n",
    "    Fuu_3_1_stats = df_3xs_3_1[df_3xs_3_1['phih']>=i_phi_left][df_3xs_3_1['phih']<i_phi]['stat'].tolist()\n",
    "    print(len(phih_3_1s))\n",
    "    \n",
    "    if len(phih_3_1s)>0:  \n",
    "        #print('phih',phih_3_1s)\n",
    "        #print('Fuu',Fuu_3_1s)\n",
    "        #print('Fuu_stat',Fuu_3_1_stats)\n",
    "        _Fuu_3_1 = Get_weighted_average(Fuu_3_1s,Fuu_3_1_stats)[0]\n",
    "        _Fuu_3_1_stat = Factor_3xs*Get_weighted_average(Fuu_3_1s,Fuu_3_1_stats)[1]\n",
    "        _phih_3_1= Get_weighted_average_phi(phih_3_1s,Fuu_3_1_stats)[0]\n",
    "        #print('_Fuu_3_1',_Fuu_3_1)\n",
    "        #print('_phih',_phih_3_1)\n",
    "        #print('_Fuu_stat',_Fuu_3_1_stat)\n",
    "        Fuu_3_1_3xs.append(_Fuu_3_1)\n",
    "        phih_3_1_3xs.append(_phih_3_1)\n",
    "        Fuu_3_1_3xs_stat.append(_Fuu_3_1_stat)\n",
    "        Fuu_3_1_3xs_sys.append(0.05*_Fuu_3_1)\n",
    "        #print(Fuu_3_1,phih_3_1)\n",
    "        ax.plot([_phih_3_1,_phih_3_1],[_Fuu_3_1-_Fuu_3_1_stat,_Fuu_3_1+_Fuu_3_1_stat],color='red',marker='_')\n",
    "    i_phi_left = i_phi\n",
    "    #print('phileft',i_phi_left)\n",
    "plt.plot(phih_3_1_3xs,Fuu_3_1_3xs,'ro')\n",
    "plt.xlabel('$\\phi_h$',fontsize=16)\n",
    "plt.ylabel('$F_{UU}$',fontsize=16)"
   ]
  },
  {
   "cell_type": "code",
   "execution_count": 53,
   "id": "c9d33e86",
   "metadata": {
    "scrolled": true
   },
   "outputs": [
    {
     "name": "stdout",
     "output_type": "stream",
     "text": [
      "-3.141592653589793 -2.5132741228718345\n",
      "20\n",
      "-2.5132741228718345 -1.8849555921538759\n",
      "19\n",
      "-1.8849555921538759 -1.2566370614359172\n",
      "17\n",
      "-1.2566370614359172 -0.6283185307179586\n",
      "11\n",
      "-0.6283185307179586 0.6283185307179586\n",
      "16\n",
      "0.6283185307179586 1.2566370614359172\n",
      "11\n",
      "1.2566370614359172 1.8849555921538759\n",
      "17\n",
      "1.8849555921538759 2.5132741228718345\n",
      "19\n",
      "2.5132741228718345 3.141592653589793\n",
      "20\n"
     ]
    },
    {
     "name": "stderr",
     "output_type": "stream",
     "text": [
      "/var/folders/j9/hgt6bjfn0n78rvsbnlc10rqh0000gp/T/ipykernel_37694/3194809815.py:10: UserWarning: Boolean Series key will be reindexed to match DataFrame index.\n",
      "  phih_3_2s = df_3xs_3_2[df_3xs_3_2['phih']>=i_phi_left][df_3xs_3_2['phih']<i_phi]['phih'].tolist()\n",
      "/var/folders/j9/hgt6bjfn0n78rvsbnlc10rqh0000gp/T/ipykernel_37694/3194809815.py:11: UserWarning: Boolean Series key will be reindexed to match DataFrame index.\n",
      "  Fuu_3_2s = df_3xs_3_2[df_3xs_3_2['phih']>=i_phi_left][df_3xs_3_2['phih']<i_phi]['value'].tolist()\n",
      "/var/folders/j9/hgt6bjfn0n78rvsbnlc10rqh0000gp/T/ipykernel_37694/3194809815.py:12: UserWarning: Boolean Series key will be reindexed to match DataFrame index.\n",
      "  Fuu_3_2_stats = df_3xs_3_2[df_3xs_3_2['phih']>=i_phi_left][df_3xs_3_2['phih']<i_phi]['stat'].tolist()\n",
      "/var/folders/j9/hgt6bjfn0n78rvsbnlc10rqh0000gp/T/ipykernel_37694/3194809815.py:10: UserWarning: Boolean Series key will be reindexed to match DataFrame index.\n",
      "  phih_3_2s = df_3xs_3_2[df_3xs_3_2['phih']>=i_phi_left][df_3xs_3_2['phih']<i_phi]['phih'].tolist()\n",
      "/var/folders/j9/hgt6bjfn0n78rvsbnlc10rqh0000gp/T/ipykernel_37694/3194809815.py:11: UserWarning: Boolean Series key will be reindexed to match DataFrame index.\n",
      "  Fuu_3_2s = df_3xs_3_2[df_3xs_3_2['phih']>=i_phi_left][df_3xs_3_2['phih']<i_phi]['value'].tolist()\n",
      "/var/folders/j9/hgt6bjfn0n78rvsbnlc10rqh0000gp/T/ipykernel_37694/3194809815.py:12: UserWarning: Boolean Series key will be reindexed to match DataFrame index.\n",
      "  Fuu_3_2_stats = df_3xs_3_2[df_3xs_3_2['phih']>=i_phi_left][df_3xs_3_2['phih']<i_phi]['stat'].tolist()\n",
      "/var/folders/j9/hgt6bjfn0n78rvsbnlc10rqh0000gp/T/ipykernel_37694/3194809815.py:10: UserWarning: Boolean Series key will be reindexed to match DataFrame index.\n",
      "  phih_3_2s = df_3xs_3_2[df_3xs_3_2['phih']>=i_phi_left][df_3xs_3_2['phih']<i_phi]['phih'].tolist()\n",
      "/var/folders/j9/hgt6bjfn0n78rvsbnlc10rqh0000gp/T/ipykernel_37694/3194809815.py:11: UserWarning: Boolean Series key will be reindexed to match DataFrame index.\n",
      "  Fuu_3_2s = df_3xs_3_2[df_3xs_3_2['phih']>=i_phi_left][df_3xs_3_2['phih']<i_phi]['value'].tolist()\n",
      "/var/folders/j9/hgt6bjfn0n78rvsbnlc10rqh0000gp/T/ipykernel_37694/3194809815.py:12: UserWarning: Boolean Series key will be reindexed to match DataFrame index.\n",
      "  Fuu_3_2_stats = df_3xs_3_2[df_3xs_3_2['phih']>=i_phi_left][df_3xs_3_2['phih']<i_phi]['stat'].tolist()\n",
      "/var/folders/j9/hgt6bjfn0n78rvsbnlc10rqh0000gp/T/ipykernel_37694/3194809815.py:10: UserWarning: Boolean Series key will be reindexed to match DataFrame index.\n",
      "  phih_3_2s = df_3xs_3_2[df_3xs_3_2['phih']>=i_phi_left][df_3xs_3_2['phih']<i_phi]['phih'].tolist()\n",
      "/var/folders/j9/hgt6bjfn0n78rvsbnlc10rqh0000gp/T/ipykernel_37694/3194809815.py:11: UserWarning: Boolean Series key will be reindexed to match DataFrame index.\n",
      "  Fuu_3_2s = df_3xs_3_2[df_3xs_3_2['phih']>=i_phi_left][df_3xs_3_2['phih']<i_phi]['value'].tolist()\n",
      "/var/folders/j9/hgt6bjfn0n78rvsbnlc10rqh0000gp/T/ipykernel_37694/3194809815.py:12: UserWarning: Boolean Series key will be reindexed to match DataFrame index.\n",
      "  Fuu_3_2_stats = df_3xs_3_2[df_3xs_3_2['phih']>=i_phi_left][df_3xs_3_2['phih']<i_phi]['stat'].tolist()\n",
      "/var/folders/j9/hgt6bjfn0n78rvsbnlc10rqh0000gp/T/ipykernel_37694/3194809815.py:10: UserWarning: Boolean Series key will be reindexed to match DataFrame index.\n",
      "  phih_3_2s = df_3xs_3_2[df_3xs_3_2['phih']>=i_phi_left][df_3xs_3_2['phih']<i_phi]['phih'].tolist()\n",
      "/var/folders/j9/hgt6bjfn0n78rvsbnlc10rqh0000gp/T/ipykernel_37694/3194809815.py:11: UserWarning: Boolean Series key will be reindexed to match DataFrame index.\n",
      "  Fuu_3_2s = df_3xs_3_2[df_3xs_3_2['phih']>=i_phi_left][df_3xs_3_2['phih']<i_phi]['value'].tolist()\n",
      "/var/folders/j9/hgt6bjfn0n78rvsbnlc10rqh0000gp/T/ipykernel_37694/3194809815.py:12: UserWarning: Boolean Series key will be reindexed to match DataFrame index.\n",
      "  Fuu_3_2_stats = df_3xs_3_2[df_3xs_3_2['phih']>=i_phi_left][df_3xs_3_2['phih']<i_phi]['stat'].tolist()\n",
      "/var/folders/j9/hgt6bjfn0n78rvsbnlc10rqh0000gp/T/ipykernel_37694/3194809815.py:10: UserWarning: Boolean Series key will be reindexed to match DataFrame index.\n",
      "  phih_3_2s = df_3xs_3_2[df_3xs_3_2['phih']>=i_phi_left][df_3xs_3_2['phih']<i_phi]['phih'].tolist()\n",
      "/var/folders/j9/hgt6bjfn0n78rvsbnlc10rqh0000gp/T/ipykernel_37694/3194809815.py:11: UserWarning: Boolean Series key will be reindexed to match DataFrame index.\n",
      "  Fuu_3_2s = df_3xs_3_2[df_3xs_3_2['phih']>=i_phi_left][df_3xs_3_2['phih']<i_phi]['value'].tolist()\n",
      "/var/folders/j9/hgt6bjfn0n78rvsbnlc10rqh0000gp/T/ipykernel_37694/3194809815.py:12: UserWarning: Boolean Series key will be reindexed to match DataFrame index.\n",
      "  Fuu_3_2_stats = df_3xs_3_2[df_3xs_3_2['phih']>=i_phi_left][df_3xs_3_2['phih']<i_phi]['stat'].tolist()\n",
      "/var/folders/j9/hgt6bjfn0n78rvsbnlc10rqh0000gp/T/ipykernel_37694/3194809815.py:10: UserWarning: Boolean Series key will be reindexed to match DataFrame index.\n",
      "  phih_3_2s = df_3xs_3_2[df_3xs_3_2['phih']>=i_phi_left][df_3xs_3_2['phih']<i_phi]['phih'].tolist()\n",
      "/var/folders/j9/hgt6bjfn0n78rvsbnlc10rqh0000gp/T/ipykernel_37694/3194809815.py:11: UserWarning: Boolean Series key will be reindexed to match DataFrame index.\n",
      "  Fuu_3_2s = df_3xs_3_2[df_3xs_3_2['phih']>=i_phi_left][df_3xs_3_2['phih']<i_phi]['value'].tolist()\n",
      "/var/folders/j9/hgt6bjfn0n78rvsbnlc10rqh0000gp/T/ipykernel_37694/3194809815.py:12: UserWarning: Boolean Series key will be reindexed to match DataFrame index.\n",
      "  Fuu_3_2_stats = df_3xs_3_2[df_3xs_3_2['phih']>=i_phi_left][df_3xs_3_2['phih']<i_phi]['stat'].tolist()\n",
      "/var/folders/j9/hgt6bjfn0n78rvsbnlc10rqh0000gp/T/ipykernel_37694/3194809815.py:10: UserWarning: Boolean Series key will be reindexed to match DataFrame index.\n",
      "  phih_3_2s = df_3xs_3_2[df_3xs_3_2['phih']>=i_phi_left][df_3xs_3_2['phih']<i_phi]['phih'].tolist()\n",
      "/var/folders/j9/hgt6bjfn0n78rvsbnlc10rqh0000gp/T/ipykernel_37694/3194809815.py:11: UserWarning: Boolean Series key will be reindexed to match DataFrame index.\n",
      "  Fuu_3_2s = df_3xs_3_2[df_3xs_3_2['phih']>=i_phi_left][df_3xs_3_2['phih']<i_phi]['value'].tolist()\n",
      "/var/folders/j9/hgt6bjfn0n78rvsbnlc10rqh0000gp/T/ipykernel_37694/3194809815.py:12: UserWarning: Boolean Series key will be reindexed to match DataFrame index.\n",
      "  Fuu_3_2_stats = df_3xs_3_2[df_3xs_3_2['phih']>=i_phi_left][df_3xs_3_2['phih']<i_phi]['stat'].tolist()\n"
     ]
    },
    {
     "data": {
      "text/plain": [
       "Text(0, 0.5, '$F_{UU}$')"
      ]
     },
     "execution_count": 53,
     "metadata": {},
     "output_type": "execute_result"
    },
    {
     "data": {
      "image/png": "[encoded data removed]",
      "text/plain": [
       "<Figure size 640x480 with 1 Axes>"
      ]
     },
     "metadata": {},
     "output_type": "display_data"
    }
   ],
   "source": [
    "fig = plt.figure()\n",
    "ax = fig.add_subplot()\n",
    "phih_3_2_3xs=[]\n",
    "Fuu_3_2_3xs=[]\n",
    "Fuu_3_2_3xs_stat=[]\n",
    "Fuu_3_2_3xs_sys=[]\n",
    "i_phi_left = phih_bins[0]\n",
    "for i_phi in phih_bins[1:]:\n",
    "    print(i_phi_left,i_phi)\n",
    "    phih_3_2s = df_3xs_3_2[df_3xs_3_2['phih']>=i_phi_left][df_3xs_3_2['phih']<i_phi]['phih'].tolist()\n",
    "    Fuu_3_2s = df_3xs_3_2[df_3xs_3_2['phih']>=i_phi_left][df_3xs_3_2['phih']<i_phi]['value'].tolist()\n",
    "    Fuu_3_2_stats = df_3xs_3_2[df_3xs_3_2['phih']>=i_phi_left][df_3xs_3_2['phih']<i_phi]['stat'].tolist()\n",
    "    print(len(phih_3_2s))\n",
    "    \n",
    "    if len(phih_3_2s)>0:  \n",
    "        #print('phih',phih_3_2s)\n",
    "        #print('Fuu',Fuu_3_2s)\n",
    "        #print('Fuu_stat',Fuu_3_2_stats)\n",
    "        _Fuu_3_2 = Get_weighted_average(Fuu_3_2s,Fuu_3_2_stats)[0]\n",
    "        _Fuu_3_2_stat = Factor_3xs*Get_weighted_average(Fuu_3_2s,Fuu_3_2_stats)[1]\n",
    "        _phih_3_2= Get_weighted_average_phi(phih_3_2s,Fuu_3_2_stats)[0]\n",
    "        #print('_Fuu_3_2',_Fuu_3_2)\n",
    "        #print('_phih',_phih_3_2)\n",
    "        #print('_Fuu_stat',_Fuu_3_2_stat)\n",
    "        Fuu_3_2_3xs.append(_Fuu_3_2)\n",
    "        phih_3_2_3xs.append(_phih_3_2)\n",
    "        Fuu_3_2_3xs_stat.append(_Fuu_3_2_stat)\n",
    "        Fuu_3_2_3xs_sys.append(0.05*_Fuu_3_2)\n",
    "        #print(Fuu_3_2,phih_3_2)\n",
    "        ax.plot([_phih_3_2,_phih_3_2],[_Fuu_3_2-_Fuu_3_2_stat,_Fuu_3_2+_Fuu_3_2_stat],color='red',marker='_')\n",
    "    i_phi_left = i_phi\n",
    "    #print('phileft',i_phi_left)\n",
    "plt.plot(phih_3_2_3xs,Fuu_3_2_3xs,'ro')\n",
    "plt.xlabel('$\\phi_h$',fontsize=16)\n",
    "plt.ylabel('$F_{UU}$',fontsize=16)"
   ]
  },
  {
   "cell_type": "code",
   "execution_count": 54,
   "id": "efaa599c",
   "metadata": {
    "scrolled": true
   },
   "outputs": [
    {
     "name": "stdout",
     "output_type": "stream",
     "text": [
      "-3.141592653589793 -2.5132741228718345\n",
      "12\n",
      "-2.5132741228718345 -1.8849555921538759\n",
      "12\n",
      "-1.8849555921538759 -1.2566370614359172\n",
      "9\n",
      "-1.2566370614359172 -0.6283185307179586\n",
      "8\n",
      "-0.6283185307179586 0.6283185307179586\n",
      "8\n",
      "0.6283185307179586 1.2566370614359172\n",
      "8\n",
      "1.2566370614359172 1.8849555921538759\n",
      "9\n",
      "1.8849555921538759 2.5132741228718345\n",
      "12\n",
      "2.5132741228718345 3.141592653589793\n",
      "13\n"
     ]
    },
    {
     "name": "stderr",
     "output_type": "stream",
     "text": [
      "/var/folders/j9/hgt6bjfn0n78rvsbnlc10rqh0000gp/T/ipykernel_37694/805822727.py:10: UserWarning: Boolean Series key will be reindexed to match DataFrame index.\n",
      "  phih_3_3s = df_3xs_3_3[df_3xs_3_3['phih']>=i_phi_left][df_3xs_3_3['phih']<i_phi]['phih'].tolist()\n",
      "/var/folders/j9/hgt6bjfn0n78rvsbnlc10rqh0000gp/T/ipykernel_37694/805822727.py:11: UserWarning: Boolean Series key will be reindexed to match DataFrame index.\n",
      "  Fuu_3_3s = df_3xs_3_3[df_3xs_3_3['phih']>=i_phi_left][df_3xs_3_3['phih']<i_phi]['value'].tolist()\n",
      "/var/folders/j9/hgt6bjfn0n78rvsbnlc10rqh0000gp/T/ipykernel_37694/805822727.py:12: UserWarning: Boolean Series key will be reindexed to match DataFrame index.\n",
      "  Fuu_3_3_stats = df_3xs_3_3[df_3xs_3_3['phih']>=i_phi_left][df_3xs_3_3['phih']<i_phi]['stat'].tolist()\n",
      "/var/folders/j9/hgt6bjfn0n78rvsbnlc10rqh0000gp/T/ipykernel_37694/805822727.py:10: UserWarning: Boolean Series key will be reindexed to match DataFrame index.\n",
      "  phih_3_3s = df_3xs_3_3[df_3xs_3_3['phih']>=i_phi_left][df_3xs_3_3['phih']<i_phi]['phih'].tolist()\n",
      "/var/folders/j9/hgt6bjfn0n78rvsbnlc10rqh0000gp/T/ipykernel_37694/805822727.py:11: UserWarning: Boolean Series key will be reindexed to match DataFrame index.\n",
      "  Fuu_3_3s = df_3xs_3_3[df_3xs_3_3['phih']>=i_phi_left][df_3xs_3_3['phih']<i_phi]['value'].tolist()\n",
      "/var/folders/j9/hgt6bjfn0n78rvsbnlc10rqh0000gp/T/ipykernel_37694/805822727.py:12: UserWarning: Boolean Series key will be reindexed to match DataFrame index.\n",
      "  Fuu_3_3_stats = df_3xs_3_3[df_3xs_3_3['phih']>=i_phi_left][df_3xs_3_3['phih']<i_phi]['stat'].tolist()\n",
      "/var/folders/j9/hgt6bjfn0n78rvsbnlc10rqh0000gp/T/ipykernel_37694/805822727.py:10: UserWarning: Boolean Series key will be reindexed to match DataFrame index.\n",
      "  phih_3_3s = df_3xs_3_3[df_3xs_3_3['phih']>=i_phi_left][df_3xs_3_3['phih']<i_phi]['phih'].tolist()\n",
      "/var/folders/j9/hgt6bjfn0n78rvsbnlc10rqh0000gp/T/ipykernel_37694/805822727.py:11: UserWarning: Boolean Series key will be reindexed to match DataFrame index.\n",
      "  Fuu_3_3s = df_3xs_3_3[df_3xs_3_3['phih']>=i_phi_left][df_3xs_3_3['phih']<i_phi]['value'].tolist()\n",
      "/var/folders/j9/hgt6bjfn0n78rvsbnlc10rqh0000gp/T/ipykernel_37694/805822727.py:12: UserWarning: Boolean Series key will be reindexed to match DataFrame index.\n",
      "  Fuu_3_3_stats = df_3xs_3_3[df_3xs_3_3['phih']>=i_phi_left][df_3xs_3_3['phih']<i_phi]['stat'].tolist()\n",
      "/var/folders/j9/hgt6bjfn0n78rvsbnlc10rqh0000gp/T/ipykernel_37694/805822727.py:10: UserWarning: Boolean Series key will be reindexed to match DataFrame index.\n",
      "  phih_3_3s = df_3xs_3_3[df_3xs_3_3['phih']>=i_phi_left][df_3xs_3_3['phih']<i_phi]['phih'].tolist()\n",
      "/var/folders/j9/hgt6bjfn0n78rvsbnlc10rqh0000gp/T/ipykernel_37694/805822727.py:11: UserWarning: Boolean Series key will be reindexed to match DataFrame index.\n",
      "  Fuu_3_3s = df_3xs_3_3[df_3xs_3_3['phih']>=i_phi_left][df_3xs_3_3['phih']<i_phi]['value'].tolist()\n",
      "/var/folders/j9/hgt6bjfn0n78rvsbnlc10rqh0000gp/T/ipykernel_37694/805822727.py:12: UserWarning: Boolean Series key will be reindexed to match DataFrame index.\n",
      "  Fuu_3_3_stats = df_3xs_3_3[df_3xs_3_3['phih']>=i_phi_left][df_3xs_3_3['phih']<i_phi]['stat'].tolist()\n",
      "/var/folders/j9/hgt6bjfn0n78rvsbnlc10rqh0000gp/T/ipykernel_37694/805822727.py:10: UserWarning: Boolean Series key will be reindexed to match DataFrame index.\n",
      "  phih_3_3s = df_3xs_3_3[df_3xs_3_3['phih']>=i_phi_left][df_3xs_3_3['phih']<i_phi]['phih'].tolist()\n",
      "/var/folders/j9/hgt6bjfn0n78rvsbnlc10rqh0000gp/T/ipykernel_37694/805822727.py:11: UserWarning: Boolean Series key will be reindexed to match DataFrame index.\n",
      "  Fuu_3_3s = df_3xs_3_3[df_3xs_3_3['phih']>=i_phi_left][df_3xs_3_3['phih']<i_phi]['value'].tolist()\n",
      "/var/folders/j9/hgt6bjfn0n78rvsbnlc10rqh0000gp/T/ipykernel_37694/805822727.py:12: UserWarning: Boolean Series key will be reindexed to match DataFrame index.\n",
      "  Fuu_3_3_stats = df_3xs_3_3[df_3xs_3_3['phih']>=i_phi_left][df_3xs_3_3['phih']<i_phi]['stat'].tolist()\n",
      "/var/folders/j9/hgt6bjfn0n78rvsbnlc10rqh0000gp/T/ipykernel_37694/805822727.py:10: UserWarning: Boolean Series key will be reindexed to match DataFrame index.\n",
      "  phih_3_3s = df_3xs_3_3[df_3xs_3_3['phih']>=i_phi_left][df_3xs_3_3['phih']<i_phi]['phih'].tolist()\n",
      "/var/folders/j9/hgt6bjfn0n78rvsbnlc10rqh0000gp/T/ipykernel_37694/805822727.py:11: UserWarning: Boolean Series key will be reindexed to match DataFrame index.\n",
      "  Fuu_3_3s = df_3xs_3_3[df_3xs_3_3['phih']>=i_phi_left][df_3xs_3_3['phih']<i_phi]['value'].tolist()\n",
      "/var/folders/j9/hgt6bjfn0n78rvsbnlc10rqh0000gp/T/ipykernel_37694/805822727.py:12: UserWarning: Boolean Series key will be reindexed to match DataFrame index.\n",
      "  Fuu_3_3_stats = df_3xs_3_3[df_3xs_3_3['phih']>=i_phi_left][df_3xs_3_3['phih']<i_phi]['stat'].tolist()\n",
      "/var/folders/j9/hgt6bjfn0n78rvsbnlc10rqh0000gp/T/ipykernel_37694/805822727.py:10: UserWarning: Boolean Series key will be reindexed to match DataFrame index.\n",
      "  phih_3_3s = df_3xs_3_3[df_3xs_3_3['phih']>=i_phi_left][df_3xs_3_3['phih']<i_phi]['phih'].tolist()\n",
      "/var/folders/j9/hgt6bjfn0n78rvsbnlc10rqh0000gp/T/ipykernel_37694/805822727.py:11: UserWarning: Boolean Series key will be reindexed to match DataFrame index.\n",
      "  Fuu_3_3s = df_3xs_3_3[df_3xs_3_3['phih']>=i_phi_left][df_3xs_3_3['phih']<i_phi]['value'].tolist()\n",
      "/var/folders/j9/hgt6bjfn0n78rvsbnlc10rqh0000gp/T/ipykernel_37694/805822727.py:12: UserWarning: Boolean Series key will be reindexed to match DataFrame index.\n",
      "  Fuu_3_3_stats = df_3xs_3_3[df_3xs_3_3['phih']>=i_phi_left][df_3xs_3_3['phih']<i_phi]['stat'].tolist()\n",
      "/var/folders/j9/hgt6bjfn0n78rvsbnlc10rqh0000gp/T/ipykernel_37694/805822727.py:10: UserWarning: Boolean Series key will be reindexed to match DataFrame index.\n",
      "  phih_3_3s = df_3xs_3_3[df_3xs_3_3['phih']>=i_phi_left][df_3xs_3_3['phih']<i_phi]['phih'].tolist()\n",
      "/var/folders/j9/hgt6bjfn0n78rvsbnlc10rqh0000gp/T/ipykernel_37694/805822727.py:11: UserWarning: Boolean Series key will be reindexed to match DataFrame index.\n",
      "  Fuu_3_3s = df_3xs_3_3[df_3xs_3_3['phih']>=i_phi_left][df_3xs_3_3['phih']<i_phi]['value'].tolist()\n",
      "/var/folders/j9/hgt6bjfn0n78rvsbnlc10rqh0000gp/T/ipykernel_37694/805822727.py:12: UserWarning: Boolean Series key will be reindexed to match DataFrame index.\n",
      "  Fuu_3_3_stats = df_3xs_3_3[df_3xs_3_3['phih']>=i_phi_left][df_3xs_3_3['phih']<i_phi]['stat'].tolist()\n"
     ]
    },
    {
     "data": {
      "text/plain": [
       "Text(0, 0.5, '$F_{UU}$')"
      ]
     },
     "execution_count": 54,
     "metadata": {},
     "output_type": "execute_result"
    },
    {
     "data": {
      "image/png": "[encoded data removed]",
      "text/plain": [
       "<Figure size 640x480 with 1 Axes>"
      ]
     },
     "metadata": {},
     "output_type": "display_data"
    }
   ],
   "source": [
    "fig = plt.figure()\n",
    "ax = fig.add_subplot()\n",
    "phih_3_3_3xs=[]\n",
    "Fuu_3_3_3xs=[]\n",
    "Fuu_3_3_3xs_stat=[]\n",
    "Fuu_3_3_3xs_sys=[]\n",
    "i_phi_left = phih_bins[0]\n",
    "for i_phi in phih_bins[1:]:\n",
    "    print(i_phi_left,i_phi)\n",
    "    phih_3_3s = df_3xs_3_3[df_3xs_3_3['phih']>=i_phi_left][df_3xs_3_3['phih']<i_phi]['phih'].tolist()\n",
    "    Fuu_3_3s = df_3xs_3_3[df_3xs_3_3['phih']>=i_phi_left][df_3xs_3_3['phih']<i_phi]['value'].tolist()\n",
    "    Fuu_3_3_stats = df_3xs_3_3[df_3xs_3_3['phih']>=i_phi_left][df_3xs_3_3['phih']<i_phi]['stat'].tolist()\n",
    "    print(len(phih_3_3s))\n",
    "    \n",
    "    if len(phih_3_3s)>0:  \n",
    "        #print('phih',phih_3_3s)\n",
    "        #print('Fuu',Fuu_3_3s)\n",
    "        #print('Fuu_stat',Fuu_3_3_stats)\n",
    "        _Fuu_3_3 = Get_weighted_average(Fuu_3_3s,Fuu_3_3_stats)[0]\n",
    "        _Fuu_3_3_stat = Factor_3xs*Get_weighted_average(Fuu_3_3s,Fuu_3_3_stats)[1]\n",
    "        _phih_3_3= Get_weighted_average_phi(phih_3_3s,Fuu_3_3_stats)[0]\n",
    "        #print('_Fuu_3_3',_Fuu_3_3)\n",
    "        #print('_phih',_phih_3_3)\n",
    "        #print('_Fuu_stat',_Fuu_3_3_stat)\n",
    "        Fuu_3_3_3xs.append(_Fuu_3_3)\n",
    "        phih_3_3_3xs.append(_phih_3_3)\n",
    "        Fuu_3_3_3xs_stat.append(_Fuu_3_3_stat)\n",
    "        Fuu_3_3_3xs_sys.append(0.05*_Fuu_3_3)\n",
    "        #print(Fuu_3_3,phih_3_3)\n",
    "        ax.plot([_phih_3_3,_phih_3_3],[_Fuu_3_3-_Fuu_3_3_stat,_Fuu_3_3+_Fuu_3_3_stat],color='red',marker='_')\n",
    "    i_phi_left = i_phi\n",
    "    #print('phileft',i_phi_left)\n",
    "plt.plot(phih_3_3_3xs,Fuu_3_3_3xs,'ro')\n",
    "plt.xlabel('$\\phi_h$',fontsize=16)\n",
    "plt.ylabel('$F_{UU}$',fontsize=16)"
   ]
  },
  {
   "cell_type": "code",
   "execution_count": 55,
   "id": "2f076b37",
   "metadata": {
    "scrolled": true
   },
   "outputs": [
    {
     "name": "stdout",
     "output_type": "stream",
     "text": [
      "-3.141592653589793 -2.5132741228718345\n",
      "16\n",
      "-2.5132741228718345 -1.8849555921538759\n",
      "16\n",
      "-1.8849555921538759 -1.2566370614359172\n",
      "13\n",
      "-1.2566370614359172 -0.6283185307179586\n",
      "7\n",
      "-0.6283185307179586 0.6283185307179586\n",
      "1\n",
      "0.6283185307179586 1.2566370614359172\n",
      "7\n",
      "1.2566370614359172 1.8849555921538759\n",
      "13\n",
      "1.8849555921538759 2.5132741228718345\n",
      "16\n",
      "2.5132741228718345 3.141592653589793\n",
      "16\n"
     ]
    },
    {
     "name": "stderr",
     "output_type": "stream",
     "text": [
      "/var/folders/j9/hgt6bjfn0n78rvsbnlc10rqh0000gp/T/ipykernel_37694/650790593.py:10: UserWarning: Boolean Series key will be reindexed to match DataFrame index.\n",
      "  phih_4_1s = df_3xs_4_1[df_3xs_4_1['phih']>=i_phi_left][df_3xs_4_1['phih']<i_phi]['phih'].tolist()\n",
      "/var/folders/j9/hgt6bjfn0n78rvsbnlc10rqh0000gp/T/ipykernel_37694/650790593.py:11: UserWarning: Boolean Series key will be reindexed to match DataFrame index.\n",
      "  Fuu_4_1s = df_3xs_4_1[df_3xs_4_1['phih']>=i_phi_left][df_3xs_4_1['phih']<i_phi]['value'].tolist()\n",
      "/var/folders/j9/hgt6bjfn0n78rvsbnlc10rqh0000gp/T/ipykernel_37694/650790593.py:12: UserWarning: Boolean Series key will be reindexed to match DataFrame index.\n",
      "  Fuu_4_1_stats = df_3xs_4_1[df_3xs_4_1['phih']>=i_phi_left][df_3xs_4_1['phih']<i_phi]['stat'].tolist()\n",
      "/var/folders/j9/hgt6bjfn0n78rvsbnlc10rqh0000gp/T/ipykernel_37694/650790593.py:10: UserWarning: Boolean Series key will be reindexed to match DataFrame index.\n",
      "  phih_4_1s = df_3xs_4_1[df_3xs_4_1['phih']>=i_phi_left][df_3xs_4_1['phih']<i_phi]['phih'].tolist()\n",
      "/var/folders/j9/hgt6bjfn0n78rvsbnlc10rqh0000gp/T/ipykernel_37694/650790593.py:11: UserWarning: Boolean Series key will be reindexed to match DataFrame index.\n",
      "  Fuu_4_1s = df_3xs_4_1[df_3xs_4_1['phih']>=i_phi_left][df_3xs_4_1['phih']<i_phi]['value'].tolist()\n",
      "/var/folders/j9/hgt6bjfn0n78rvsbnlc10rqh0000gp/T/ipykernel_37694/650790593.py:12: UserWarning: Boolean Series key will be reindexed to match DataFrame index.\n",
      "  Fuu_4_1_stats = df_3xs_4_1[df_3xs_4_1['phih']>=i_phi_left][df_3xs_4_1['phih']<i_phi]['stat'].tolist()\n",
      "/var/folders/j9/hgt6bjfn0n78rvsbnlc10rqh0000gp/T/ipykernel_37694/650790593.py:10: UserWarning: Boolean Series key will be reindexed to match DataFrame index.\n",
      "  phih_4_1s = df_3xs_4_1[df_3xs_4_1['phih']>=i_phi_left][df_3xs_4_1['phih']<i_phi]['phih'].tolist()\n",
      "/var/folders/j9/hgt6bjfn0n78rvsbnlc10rqh0000gp/T/ipykernel_37694/650790593.py:11: UserWarning: Boolean Series key will be reindexed to match DataFrame index.\n",
      "  Fuu_4_1s = df_3xs_4_1[df_3xs_4_1['phih']>=i_phi_left][df_3xs_4_1['phih']<i_phi]['value'].tolist()\n",
      "/var/folders/j9/hgt6bjfn0n78rvsbnlc10rqh0000gp/T/ipykernel_37694/650790593.py:12: UserWarning: Boolean Series key will be reindexed to match DataFrame index.\n",
      "  Fuu_4_1_stats = df_3xs_4_1[df_3xs_4_1['phih']>=i_phi_left][df_3xs_4_1['phih']<i_phi]['stat'].tolist()\n",
      "/var/folders/j9/hgt6bjfn0n78rvsbnlc10rqh0000gp/T/ipykernel_37694/650790593.py:10: UserWarning: Boolean Series key will be reindexed to match DataFrame index.\n",
      "  phih_4_1s = df_3xs_4_1[df_3xs_4_1['phih']>=i_phi_left][df_3xs_4_1['phih']<i_phi]['phih'].tolist()\n",
      "/var/folders/j9/hgt6bjfn0n78rvsbnlc10rqh0000gp/T/ipykernel_37694/650790593.py:11: UserWarning: Boolean Series key will be reindexed to match DataFrame index.\n",
      "  Fuu_4_1s = df_3xs_4_1[df_3xs_4_1['phih']>=i_phi_left][df_3xs_4_1['phih']<i_phi]['value'].tolist()\n",
      "/var/folders/j9/hgt6bjfn0n78rvsbnlc10rqh0000gp/T/ipykernel_37694/650790593.py:12: UserWarning: Boolean Series key will be reindexed to match DataFrame index.\n",
      "  Fuu_4_1_stats = df_3xs_4_1[df_3xs_4_1['phih']>=i_phi_left][df_3xs_4_1['phih']<i_phi]['stat'].tolist()\n",
      "/var/folders/j9/hgt6bjfn0n78rvsbnlc10rqh0000gp/T/ipykernel_37694/650790593.py:10: UserWarning: Boolean Series key will be reindexed to match DataFrame index.\n",
      "  phih_4_1s = df_3xs_4_1[df_3xs_4_1['phih']>=i_phi_left][df_3xs_4_1['phih']<i_phi]['phih'].tolist()\n",
      "/var/folders/j9/hgt6bjfn0n78rvsbnlc10rqh0000gp/T/ipykernel_37694/650790593.py:11: UserWarning: Boolean Series key will be reindexed to match DataFrame index.\n",
      "  Fuu_4_1s = df_3xs_4_1[df_3xs_4_1['phih']>=i_phi_left][df_3xs_4_1['phih']<i_phi]['value'].tolist()\n",
      "/var/folders/j9/hgt6bjfn0n78rvsbnlc10rqh0000gp/T/ipykernel_37694/650790593.py:12: UserWarning: Boolean Series key will be reindexed to match DataFrame index.\n",
      "  Fuu_4_1_stats = df_3xs_4_1[df_3xs_4_1['phih']>=i_phi_left][df_3xs_4_1['phih']<i_phi]['stat'].tolist()\n",
      "/var/folders/j9/hgt6bjfn0n78rvsbnlc10rqh0000gp/T/ipykernel_37694/650790593.py:10: UserWarning: Boolean Series key will be reindexed to match DataFrame index.\n",
      "  phih_4_1s = df_3xs_4_1[df_3xs_4_1['phih']>=i_phi_left][df_3xs_4_1['phih']<i_phi]['phih'].tolist()\n",
      "/var/folders/j9/hgt6bjfn0n78rvsbnlc10rqh0000gp/T/ipykernel_37694/650790593.py:11: UserWarning: Boolean Series key will be reindexed to match DataFrame index.\n",
      "  Fuu_4_1s = df_3xs_4_1[df_3xs_4_1['phih']>=i_phi_left][df_3xs_4_1['phih']<i_phi]['value'].tolist()\n",
      "/var/folders/j9/hgt6bjfn0n78rvsbnlc10rqh0000gp/T/ipykernel_37694/650790593.py:12: UserWarning: Boolean Series key will be reindexed to match DataFrame index.\n",
      "  Fuu_4_1_stats = df_3xs_4_1[df_3xs_4_1['phih']>=i_phi_left][df_3xs_4_1['phih']<i_phi]['stat'].tolist()\n",
      "/var/folders/j9/hgt6bjfn0n78rvsbnlc10rqh0000gp/T/ipykernel_37694/650790593.py:10: UserWarning: Boolean Series key will be reindexed to match DataFrame index.\n",
      "  phih_4_1s = df_3xs_4_1[df_3xs_4_1['phih']>=i_phi_left][df_3xs_4_1['phih']<i_phi]['phih'].tolist()\n",
      "/var/folders/j9/hgt6bjfn0n78rvsbnlc10rqh0000gp/T/ipykernel_37694/650790593.py:11: UserWarning: Boolean Series key will be reindexed to match DataFrame index.\n",
      "  Fuu_4_1s = df_3xs_4_1[df_3xs_4_1['phih']>=i_phi_left][df_3xs_4_1['phih']<i_phi]['value'].tolist()\n",
      "/var/folders/j9/hgt6bjfn0n78rvsbnlc10rqh0000gp/T/ipykernel_37694/650790593.py:12: UserWarning: Boolean Series key will be reindexed to match DataFrame index.\n",
      "  Fuu_4_1_stats = df_3xs_4_1[df_3xs_4_1['phih']>=i_phi_left][df_3xs_4_1['phih']<i_phi]['stat'].tolist()\n",
      "/var/folders/j9/hgt6bjfn0n78rvsbnlc10rqh0000gp/T/ipykernel_37694/650790593.py:10: UserWarning: Boolean Series key will be reindexed to match DataFrame index.\n",
      "  phih_4_1s = df_3xs_4_1[df_3xs_4_1['phih']>=i_phi_left][df_3xs_4_1['phih']<i_phi]['phih'].tolist()\n",
      "/var/folders/j9/hgt6bjfn0n78rvsbnlc10rqh0000gp/T/ipykernel_37694/650790593.py:11: UserWarning: Boolean Series key will be reindexed to match DataFrame index.\n",
      "  Fuu_4_1s = df_3xs_4_1[df_3xs_4_1['phih']>=i_phi_left][df_3xs_4_1['phih']<i_phi]['value'].tolist()\n",
      "/var/folders/j9/hgt6bjfn0n78rvsbnlc10rqh0000gp/T/ipykernel_37694/650790593.py:12: UserWarning: Boolean Series key will be reindexed to match DataFrame index.\n",
      "  Fuu_4_1_stats = df_3xs_4_1[df_3xs_4_1['phih']>=i_phi_left][df_3xs_4_1['phih']<i_phi]['stat'].tolist()\n"
     ]
    },
    {
     "data": {
      "text/plain": [
       "Text(0, 0.5, '$F_{UU}$')"
      ]
     },
     "execution_count": 55,
     "metadata": {},
     "output_type": "execute_result"
    },
    {
     "data": {
      "image/png": "[encoded data removed]",
      "text/plain": [
       "<Figure size 640x480 with 1 Axes>"
      ]
     },
     "metadata": {},
     "output_type": "display_data"
    }
   ],
   "source": [
    "fig = plt.figure()\n",
    "ax = fig.add_subplot()\n",
    "phih_4_1_3xs=[]\n",
    "Fuu_4_1_3xs=[]\n",
    "Fuu_4_1_3xs_stat=[]\n",
    "Fuu_4_1_3xs_sys=[]\n",
    "i_phi_left = phih_bins[0]\n",
    "for i_phi in phih_bins[1:]:\n",
    "    print(i_phi_left,i_phi)\n",
    "    phih_4_1s = df_3xs_4_1[df_3xs_4_1['phih']>=i_phi_left][df_3xs_4_1['phih']<i_phi]['phih'].tolist()\n",
    "    Fuu_4_1s = df_3xs_4_1[df_3xs_4_1['phih']>=i_phi_left][df_3xs_4_1['phih']<i_phi]['value'].tolist()\n",
    "    Fuu_4_1_stats = df_3xs_4_1[df_3xs_4_1['phih']>=i_phi_left][df_3xs_4_1['phih']<i_phi]['stat'].tolist()\n",
    "    print(len(phih_4_1s))\n",
    "    \n",
    "    if len(phih_4_1s)>0:  \n",
    "        #print('phih',phih_4_1s)\n",
    "        #print('Fuu',Fuu_4_1s)\n",
    "        #print('Fuu_stat',Fuu_4_1_stats)\n",
    "        _Fuu_4_1 = Get_weighted_average(Fuu_4_1s,Fuu_4_1_stats)[0]\n",
    "        _Fuu_4_1_stat = Factor_3xs*Get_weighted_average(Fuu_4_1s,Fuu_4_1_stats)[1]\n",
    "        _phih_4_1= Get_weighted_average_phi(phih_4_1s,Fuu_4_1_stats)[0]\n",
    "        #print('_Fuu_4_1',_Fuu_4_1)\n",
    "        #print('_phih',_phih_4_1)\n",
    "        #print('_Fuu_stat',_Fuu_4_1_stat)\n",
    "        Fuu_4_1_3xs.append(_Fuu_4_1)\n",
    "        phih_4_1_3xs.append(_phih_4_1)\n",
    "        Fuu_4_1_3xs_stat.append(_Fuu_4_1_stat)\n",
    "        Fuu_4_1_3xs_sys.append(0.05*_Fuu_4_1)\n",
    "        #print(Fuu_4_1,phih_4_1)\n",
    "        ax.plot([_phih_4_1,_phih_4_1],[_Fuu_4_1-_Fuu_4_1_stat,_Fuu_4_1+_Fuu_4_1_stat],color='red',marker='_')\n",
    "    i_phi_left = i_phi\n",
    "    #print('phileft',i_phi_left)\n",
    "plt.plot(phih_4_1_3xs,Fuu_4_1_3xs,'ro')\n",
    "plt.xlabel('$\\phi_h$',fontsize=16)\n",
    "plt.ylabel('$F_{UU}$',fontsize=16)"
   ]
  },
  {
   "cell_type": "code",
   "execution_count": 56,
   "id": "f7840b73",
   "metadata": {},
   "outputs": [
    {
     "name": "stdout",
     "output_type": "stream",
     "text": [
      "-3.141592653589793 -2.5132741228718345\n",
      "11\n",
      "-2.5132741228718345 -1.8849555921538759\n",
      "8\n",
      "-1.8849555921538759 -1.2566370614359172\n",
      "7\n",
      "-1.2566370614359172 -0.6283185307179586\n",
      "4\n",
      "-0.6283185307179586 0.6283185307179586\n",
      "2\n",
      "0.6283185307179586 1.2566370614359172\n",
      "3\n",
      "1.2566370614359172 1.8849555921538759\n",
      "6\n",
      "1.8849555921538759 2.5132741228718345\n",
      "9\n",
      "2.5132741228718345 3.141592653589793\n",
      "11\n"
     ]
    },
    {
     "name": "stderr",
     "output_type": "stream",
     "text": [
      "/var/folders/j9/hgt6bjfn0n78rvsbnlc10rqh0000gp/T/ipykernel_37694/697246916.py:10: UserWarning: Boolean Series key will be reindexed to match DataFrame index.\n",
      "  phih_4_2s = df_3xs_4_2[df_3xs_4_2['phih']>=i_phi_left][df_3xs_4_2['phih']<i_phi]['phih'].tolist()\n",
      "/var/folders/j9/hgt6bjfn0n78rvsbnlc10rqh0000gp/T/ipykernel_37694/697246916.py:11: UserWarning: Boolean Series key will be reindexed to match DataFrame index.\n",
      "  Fuu_4_2s = df_3xs_4_2[df_3xs_4_2['phih']>=i_phi_left][df_3xs_4_2['phih']<i_phi]['value'].tolist()\n",
      "/var/folders/j9/hgt6bjfn0n78rvsbnlc10rqh0000gp/T/ipykernel_37694/697246916.py:12: UserWarning: Boolean Series key will be reindexed to match DataFrame index.\n",
      "  Fuu_4_2_stats = df_3xs_4_2[df_3xs_4_2['phih']>=i_phi_left][df_3xs_4_2['phih']<i_phi]['stat'].tolist()\n",
      "/var/folders/j9/hgt6bjfn0n78rvsbnlc10rqh0000gp/T/ipykernel_37694/697246916.py:10: UserWarning: Boolean Series key will be reindexed to match DataFrame index.\n",
      "  phih_4_2s = df_3xs_4_2[df_3xs_4_2['phih']>=i_phi_left][df_3xs_4_2['phih']<i_phi]['phih'].tolist()\n",
      "/var/folders/j9/hgt6bjfn0n78rvsbnlc10rqh0000gp/T/ipykernel_37694/697246916.py:11: UserWarning: Boolean Series key will be reindexed to match DataFrame index.\n",
      "  Fuu_4_2s = df_3xs_4_2[df_3xs_4_2['phih']>=i_phi_left][df_3xs_4_2['phih']<i_phi]['value'].tolist()\n",
      "/var/folders/j9/hgt6bjfn0n78rvsbnlc10rqh0000gp/T/ipykernel_37694/697246916.py:12: UserWarning: Boolean Series key will be reindexed to match DataFrame index.\n",
      "  Fuu_4_2_stats = df_3xs_4_2[df_3xs_4_2['phih']>=i_phi_left][df_3xs_4_2['phih']<i_phi]['stat'].tolist()\n",
      "/var/folders/j9/hgt6bjfn0n78rvsbnlc10rqh0000gp/T/ipykernel_37694/697246916.py:10: UserWarning: Boolean Series key will be reindexed to match DataFrame index.\n",
      "  phih_4_2s = df_3xs_4_2[df_3xs_4_2['phih']>=i_phi_left][df_3xs_4_2['phih']<i_phi]['phih'].tolist()\n",
      "/var/folders/j9/hgt6bjfn0n78rvsbnlc10rqh0000gp/T/ipykernel_37694/697246916.py:11: UserWarning: Boolean Series key will be reindexed to match DataFrame index.\n",
      "  Fuu_4_2s = df_3xs_4_2[df_3xs_4_2['phih']>=i_phi_left][df_3xs_4_2['phih']<i_phi]['value'].tolist()\n",
      "/var/folders/j9/hgt6bjfn0n78rvsbnlc10rqh0000gp/T/ipykernel_37694/697246916.py:12: UserWarning: Boolean Series key will be reindexed to match DataFrame index.\n",
      "  Fuu_4_2_stats = df_3xs_4_2[df_3xs_4_2['phih']>=i_phi_left][df_3xs_4_2['phih']<i_phi]['stat'].tolist()\n",
      "/var/folders/j9/hgt6bjfn0n78rvsbnlc10rqh0000gp/T/ipykernel_37694/697246916.py:10: UserWarning: Boolean Series key will be reindexed to match DataFrame index.\n",
      "  phih_4_2s = df_3xs_4_2[df_3xs_4_2['phih']>=i_phi_left][df_3xs_4_2['phih']<i_phi]['phih'].tolist()\n",
      "/var/folders/j9/hgt6bjfn0n78rvsbnlc10rqh0000gp/T/ipykernel_37694/697246916.py:11: UserWarning: Boolean Series key will be reindexed to match DataFrame index.\n",
      "  Fuu_4_2s = df_3xs_4_2[df_3xs_4_2['phih']>=i_phi_left][df_3xs_4_2['phih']<i_phi]['value'].tolist()\n",
      "/var/folders/j9/hgt6bjfn0n78rvsbnlc10rqh0000gp/T/ipykernel_37694/697246916.py:12: UserWarning: Boolean Series key will be reindexed to match DataFrame index.\n",
      "  Fuu_4_2_stats = df_3xs_4_2[df_3xs_4_2['phih']>=i_phi_left][df_3xs_4_2['phih']<i_phi]['stat'].tolist()\n",
      "/var/folders/j9/hgt6bjfn0n78rvsbnlc10rqh0000gp/T/ipykernel_37694/697246916.py:10: UserWarning: Boolean Series key will be reindexed to match DataFrame index.\n",
      "  phih_4_2s = df_3xs_4_2[df_3xs_4_2['phih']>=i_phi_left][df_3xs_4_2['phih']<i_phi]['phih'].tolist()\n",
      "/var/folders/j9/hgt6bjfn0n78rvsbnlc10rqh0000gp/T/ipykernel_37694/697246916.py:11: UserWarning: Boolean Series key will be reindexed to match DataFrame index.\n",
      "  Fuu_4_2s = df_3xs_4_2[df_3xs_4_2['phih']>=i_phi_left][df_3xs_4_2['phih']<i_phi]['value'].tolist()\n",
      "/var/folders/j9/hgt6bjfn0n78rvsbnlc10rqh0000gp/T/ipykernel_37694/697246916.py:12: UserWarning: Boolean Series key will be reindexed to match DataFrame index.\n",
      "  Fuu_4_2_stats = df_3xs_4_2[df_3xs_4_2['phih']>=i_phi_left][df_3xs_4_2['phih']<i_phi]['stat'].tolist()\n",
      "/var/folders/j9/hgt6bjfn0n78rvsbnlc10rqh0000gp/T/ipykernel_37694/697246916.py:10: UserWarning: Boolean Series key will be reindexed to match DataFrame index.\n",
      "  phih_4_2s = df_3xs_4_2[df_3xs_4_2['phih']>=i_phi_left][df_3xs_4_2['phih']<i_phi]['phih'].tolist()\n",
      "/var/folders/j9/hgt6bjfn0n78rvsbnlc10rqh0000gp/T/ipykernel_37694/697246916.py:11: UserWarning: Boolean Series key will be reindexed to match DataFrame index.\n",
      "  Fuu_4_2s = df_3xs_4_2[df_3xs_4_2['phih']>=i_phi_left][df_3xs_4_2['phih']<i_phi]['value'].tolist()\n",
      "/var/folders/j9/hgt6bjfn0n78rvsbnlc10rqh0000gp/T/ipykernel_37694/697246916.py:12: UserWarning: Boolean Series key will be reindexed to match DataFrame index.\n",
      "  Fuu_4_2_stats = df_3xs_4_2[df_3xs_4_2['phih']>=i_phi_left][df_3xs_4_2['phih']<i_phi]['stat'].tolist()\n",
      "/var/folders/j9/hgt6bjfn0n78rvsbnlc10rqh0000gp/T/ipykernel_37694/697246916.py:10: UserWarning: Boolean Series key will be reindexed to match DataFrame index.\n",
      "  phih_4_2s = df_3xs_4_2[df_3xs_4_2['phih']>=i_phi_left][df_3xs_4_2['phih']<i_phi]['phih'].tolist()\n",
      "/var/folders/j9/hgt6bjfn0n78rvsbnlc10rqh0000gp/T/ipykernel_37694/697246916.py:11: UserWarning: Boolean Series key will be reindexed to match DataFrame index.\n",
      "  Fuu_4_2s = df_3xs_4_2[df_3xs_4_2['phih']>=i_phi_left][df_3xs_4_2['phih']<i_phi]['value'].tolist()\n",
      "/var/folders/j9/hgt6bjfn0n78rvsbnlc10rqh0000gp/T/ipykernel_37694/697246916.py:12: UserWarning: Boolean Series key will be reindexed to match DataFrame index.\n",
      "  Fuu_4_2_stats = df_3xs_4_2[df_3xs_4_2['phih']>=i_phi_left][df_3xs_4_2['phih']<i_phi]['stat'].tolist()\n",
      "/var/folders/j9/hgt6bjfn0n78rvsbnlc10rqh0000gp/T/ipykernel_37694/697246916.py:10: UserWarning: Boolean Series key will be reindexed to match DataFrame index.\n",
      "  phih_4_2s = df_3xs_4_2[df_3xs_4_2['phih']>=i_phi_left][df_3xs_4_2['phih']<i_phi]['phih'].tolist()\n",
      "/var/folders/j9/hgt6bjfn0n78rvsbnlc10rqh0000gp/T/ipykernel_37694/697246916.py:11: UserWarning: Boolean Series key will be reindexed to match DataFrame index.\n",
      "  Fuu_4_2s = df_3xs_4_2[df_3xs_4_2['phih']>=i_phi_left][df_3xs_4_2['phih']<i_phi]['value'].tolist()\n",
      "/var/folders/j9/hgt6bjfn0n78rvsbnlc10rqh0000gp/T/ipykernel_37694/697246916.py:12: UserWarning: Boolean Series key will be reindexed to match DataFrame index.\n",
      "  Fuu_4_2_stats = df_3xs_4_2[df_3xs_4_2['phih']>=i_phi_left][df_3xs_4_2['phih']<i_phi]['stat'].tolist()\n"
     ]
    },
    {
     "data": {
      "text/plain": [
       "Text(0, 0.5, '$F_{UU}$')"
      ]
     },
     "execution_count": 56,
     "metadata": {},
     "output_type": "execute_result"
    },
    {
     "data": {
      "image/png": "[encoded data removed]",
      "text/plain": [
       "<Figure size 640x480 with 1 Axes>"
      ]
     },
     "metadata": {},
     "output_type": "display_data"
    }
   ],
   "source": [
    "fig = plt.figure()\n",
    "ax = fig.add_subplot()\n",
    "phih_4_2_3xs=[]\n",
    "Fuu_4_2_3xs=[]\n",
    "Fuu_4_2_3xs_stat=[]\n",
    "Fuu_4_2_3xs_sys=[]\n",
    "i_phi_left = phih_bins[0]\n",
    "for i_phi in phih_bins[1:]:\n",
    "    print(i_phi_left,i_phi)\n",
    "    phih_4_2s = df_3xs_4_2[df_3xs_4_2['phih']>=i_phi_left][df_3xs_4_2['phih']<i_phi]['phih'].tolist()\n",
    "    Fuu_4_2s = df_3xs_4_2[df_3xs_4_2['phih']>=i_phi_left][df_3xs_4_2['phih']<i_phi]['value'].tolist()\n",
    "    Fuu_4_2_stats = df_3xs_4_2[df_3xs_4_2['phih']>=i_phi_left][df_3xs_4_2['phih']<i_phi]['stat'].tolist()\n",
    "    print(len(phih_4_2s))\n",
    "    \n",
    "    if len(phih_4_2s)>0:  \n",
    "        #print('phih',phih_4_2s)\n",
    "        #print('Fuu',Fuu_4_2s)\n",
    "        #print('Fuu_stat',Fuu_4_2_stats)\n",
    "        _Fuu_4_2 = Get_weighted_average(Fuu_4_2s,Fuu_4_2_stats)[0]\n",
    "        _Fuu_4_2_stat = Factor_3xs*Get_weighted_average(Fuu_4_2s,Fuu_4_2_stats)[1]\n",
    "        _phih_4_2= Get_weighted_average_phi(phih_4_2s,Fuu_4_2_stats)[0]\n",
    "        #print('_Fuu_4_2',_Fuu_4_2)\n",
    "        #print('_phih',_phih_4_2)\n",
    "        #print('_Fuu_stat',_Fuu_4_2_stat)\n",
    "        Fuu_4_2_3xs.append(_Fuu_4_2)\n",
    "        phih_4_2_3xs.append(_phih_4_2)\n",
    "        Fuu_4_2_3xs_stat.append(_Fuu_4_2_stat)\n",
    "        Fuu_4_2_3xs_sys.append(0.05*_Fuu_4_2)\n",
    "        #print(Fuu_4_2,phih_4_2)\n",
    "        ax.plot([_phih_4_2,_phih_4_2],[_Fuu_4_2-_Fuu_4_2_stat,_Fuu_4_2+_Fuu_4_2_stat],color='red',marker='_')\n",
    "    i_phi_left = i_phi\n",
    "    #print('phileft',i_phi_left)\n",
    "plt.plot(phih_4_2_3xs,Fuu_4_2_3xs,'ro')\n",
    "plt.xlabel('$\\phi_h$',fontsize=16)\n",
    "plt.ylabel('$F_{UU}$',fontsize=16)"
   ]
  },
  {
   "cell_type": "code",
   "execution_count": 57,
   "id": "6f492a96",
   "metadata": {
    "scrolled": true
   },
   "outputs": [
    {
     "name": "stdout",
     "output_type": "stream",
     "text": [
      "-3.141592653589793 -2.5132741228718345\n",
      "4\n",
      "-2.5132741228718345 -1.8849555921538759\n",
      "8\n",
      "-1.8849555921538759 -1.2566370614359172\n",
      "4\n",
      "-1.2566370614359172 -0.6283185307179586\n",
      "0\n",
      "-0.6283185307179586 0.6283185307179586\n",
      "3\n",
      "0.6283185307179586 1.2566370614359172\n",
      "3\n",
      "1.2566370614359172 1.8849555921538759\n",
      "3\n",
      "1.8849555921538759 2.5132741228718345\n",
      "6\n",
      "2.5132741228718345 3.141592653589793\n",
      "5\n"
     ]
    },
    {
     "name": "stderr",
     "output_type": "stream",
     "text": [
      "/var/folders/j9/hgt6bjfn0n78rvsbnlc10rqh0000gp/T/ipykernel_37694/879100309.py:10: UserWarning: Boolean Series key will be reindexed to match DataFrame index.\n",
      "  phih_4_3s = df_3xs_4_3[df_3xs_4_3['phih']>=i_phi_left][df_3xs_4_3['phih']<i_phi]['phih'].tolist()\n",
      "/var/folders/j9/hgt6bjfn0n78rvsbnlc10rqh0000gp/T/ipykernel_37694/879100309.py:11: UserWarning: Boolean Series key will be reindexed to match DataFrame index.\n",
      "  Fuu_4_3s = df_3xs_4_3[df_3xs_4_3['phih']>=i_phi_left][df_3xs_4_3['phih']<i_phi]['value'].tolist()\n",
      "/var/folders/j9/hgt6bjfn0n78rvsbnlc10rqh0000gp/T/ipykernel_37694/879100309.py:12: UserWarning: Boolean Series key will be reindexed to match DataFrame index.\n",
      "  Fuu_4_3_stats = df_3xs_4_3[df_3xs_4_3['phih']>=i_phi_left][df_3xs_4_3['phih']<i_phi]['stat'].tolist()\n",
      "/var/folders/j9/hgt6bjfn0n78rvsbnlc10rqh0000gp/T/ipykernel_37694/879100309.py:10: UserWarning: Boolean Series key will be reindexed to match DataFrame index.\n",
      "  phih_4_3s = df_3xs_4_3[df_3xs_4_3['phih']>=i_phi_left][df_3xs_4_3['phih']<i_phi]['phih'].tolist()\n",
      "/var/folders/j9/hgt6bjfn0n78rvsbnlc10rqh0000gp/T/ipykernel_37694/879100309.py:11: UserWarning: Boolean Series key will be reindexed to match DataFrame index.\n",
      "  Fuu_4_3s = df_3xs_4_3[df_3xs_4_3['phih']>=i_phi_left][df_3xs_4_3['phih']<i_phi]['value'].tolist()\n",
      "/var/folders/j9/hgt6bjfn0n78rvsbnlc10rqh0000gp/T/ipykernel_37694/879100309.py:12: UserWarning: Boolean Series key will be reindexed to match DataFrame index.\n",
      "  Fuu_4_3_stats = df_3xs_4_3[df_3xs_4_3['phih']>=i_phi_left][df_3xs_4_3['phih']<i_phi]['stat'].tolist()\n",
      "/var/folders/j9/hgt6bjfn0n78rvsbnlc10rqh0000gp/T/ipykernel_37694/879100309.py:10: UserWarning: Boolean Series key will be reindexed to match DataFrame index.\n",
      "  phih_4_3s = df_3xs_4_3[df_3xs_4_3['phih']>=i_phi_left][df_3xs_4_3['phih']<i_phi]['phih'].tolist()\n",
      "/var/folders/j9/hgt6bjfn0n78rvsbnlc10rqh0000gp/T/ipykernel_37694/879100309.py:11: UserWarning: Boolean Series key will be reindexed to match DataFrame index.\n",
      "  Fuu_4_3s = df_3xs_4_3[df_3xs_4_3['phih']>=i_phi_left][df_3xs_4_3['phih']<i_phi]['value'].tolist()\n",
      "/var/folders/j9/hgt6bjfn0n78rvsbnlc10rqh0000gp/T/ipykernel_37694/879100309.py:12: UserWarning: Boolean Series key will be reindexed to match DataFrame index.\n",
      "  Fuu_4_3_stats = df_3xs_4_3[df_3xs_4_3['phih']>=i_phi_left][df_3xs_4_3['phih']<i_phi]['stat'].tolist()\n",
      "/var/folders/j9/hgt6bjfn0n78rvsbnlc10rqh0000gp/T/ipykernel_37694/879100309.py:10: UserWarning: Boolean Series key will be reindexed to match DataFrame index.\n",
      "  phih_4_3s = df_3xs_4_3[df_3xs_4_3['phih']>=i_phi_left][df_3xs_4_3['phih']<i_phi]['phih'].tolist()\n",
      "/var/folders/j9/hgt6bjfn0n78rvsbnlc10rqh0000gp/T/ipykernel_37694/879100309.py:11: UserWarning: Boolean Series key will be reindexed to match DataFrame index.\n",
      "  Fuu_4_3s = df_3xs_4_3[df_3xs_4_3['phih']>=i_phi_left][df_3xs_4_3['phih']<i_phi]['value'].tolist()\n",
      "/var/folders/j9/hgt6bjfn0n78rvsbnlc10rqh0000gp/T/ipykernel_37694/879100309.py:12: UserWarning: Boolean Series key will be reindexed to match DataFrame index.\n",
      "  Fuu_4_3_stats = df_3xs_4_3[df_3xs_4_3['phih']>=i_phi_left][df_3xs_4_3['phih']<i_phi]['stat'].tolist()\n",
      "/var/folders/j9/hgt6bjfn0n78rvsbnlc10rqh0000gp/T/ipykernel_37694/879100309.py:10: UserWarning: Boolean Series key will be reindexed to match DataFrame index.\n",
      "  phih_4_3s = df_3xs_4_3[df_3xs_4_3['phih']>=i_phi_left][df_3xs_4_3['phih']<i_phi]['phih'].tolist()\n",
      "/var/folders/j9/hgt6bjfn0n78rvsbnlc10rqh0000gp/T/ipykernel_37694/879100309.py:11: UserWarning: Boolean Series key will be reindexed to match DataFrame index.\n",
      "  Fuu_4_3s = df_3xs_4_3[df_3xs_4_3['phih']>=i_phi_left][df_3xs_4_3['phih']<i_phi]['value'].tolist()\n",
      "/var/folders/j9/hgt6bjfn0n78rvsbnlc10rqh0000gp/T/ipykernel_37694/879100309.py:12: UserWarning: Boolean Series key will be reindexed to match DataFrame index.\n",
      "  Fuu_4_3_stats = df_3xs_4_3[df_3xs_4_3['phih']>=i_phi_left][df_3xs_4_3['phih']<i_phi]['stat'].tolist()\n",
      "/var/folders/j9/hgt6bjfn0n78rvsbnlc10rqh0000gp/T/ipykernel_37694/879100309.py:10: UserWarning: Boolean Series key will be reindexed to match DataFrame index.\n",
      "  phih_4_3s = df_3xs_4_3[df_3xs_4_3['phih']>=i_phi_left][df_3xs_4_3['phih']<i_phi]['phih'].tolist()\n",
      "/var/folders/j9/hgt6bjfn0n78rvsbnlc10rqh0000gp/T/ipykernel_37694/879100309.py:11: UserWarning: Boolean Series key will be reindexed to match DataFrame index.\n",
      "  Fuu_4_3s = df_3xs_4_3[df_3xs_4_3['phih']>=i_phi_left][df_3xs_4_3['phih']<i_phi]['value'].tolist()\n",
      "/var/folders/j9/hgt6bjfn0n78rvsbnlc10rqh0000gp/T/ipykernel_37694/879100309.py:12: UserWarning: Boolean Series key will be reindexed to match DataFrame index.\n",
      "  Fuu_4_3_stats = df_3xs_4_3[df_3xs_4_3['phih']>=i_phi_left][df_3xs_4_3['phih']<i_phi]['stat'].tolist()\n",
      "/var/folders/j9/hgt6bjfn0n78rvsbnlc10rqh0000gp/T/ipykernel_37694/879100309.py:10: UserWarning: Boolean Series key will be reindexed to match DataFrame index.\n",
      "  phih_4_3s = df_3xs_4_3[df_3xs_4_3['phih']>=i_phi_left][df_3xs_4_3['phih']<i_phi]['phih'].tolist()\n",
      "/var/folders/j9/hgt6bjfn0n78rvsbnlc10rqh0000gp/T/ipykernel_37694/879100309.py:11: UserWarning: Boolean Series key will be reindexed to match DataFrame index.\n",
      "  Fuu_4_3s = df_3xs_4_3[df_3xs_4_3['phih']>=i_phi_left][df_3xs_4_3['phih']<i_phi]['value'].tolist()\n",
      "/var/folders/j9/hgt6bjfn0n78rvsbnlc10rqh0000gp/T/ipykernel_37694/879100309.py:12: UserWarning: Boolean Series key will be reindexed to match DataFrame index.\n",
      "  Fuu_4_3_stats = df_3xs_4_3[df_3xs_4_3['phih']>=i_phi_left][df_3xs_4_3['phih']<i_phi]['stat'].tolist()\n",
      "/var/folders/j9/hgt6bjfn0n78rvsbnlc10rqh0000gp/T/ipykernel_37694/879100309.py:10: UserWarning: Boolean Series key will be reindexed to match DataFrame index.\n",
      "  phih_4_3s = df_3xs_4_3[df_3xs_4_3['phih']>=i_phi_left][df_3xs_4_3['phih']<i_phi]['phih'].tolist()\n",
      "/var/folders/j9/hgt6bjfn0n78rvsbnlc10rqh0000gp/T/ipykernel_37694/879100309.py:11: UserWarning: Boolean Series key will be reindexed to match DataFrame index.\n",
      "  Fuu_4_3s = df_3xs_4_3[df_3xs_4_3['phih']>=i_phi_left][df_3xs_4_3['phih']<i_phi]['value'].tolist()\n",
      "/var/folders/j9/hgt6bjfn0n78rvsbnlc10rqh0000gp/T/ipykernel_37694/879100309.py:12: UserWarning: Boolean Series key will be reindexed to match DataFrame index.\n",
      "  Fuu_4_3_stats = df_3xs_4_3[df_3xs_4_3['phih']>=i_phi_left][df_3xs_4_3['phih']<i_phi]['stat'].tolist()\n"
     ]
    },
    {
     "data": {
      "text/plain": [
       "Text(0, 0.5, '$F_{UU}$')"
      ]
     },
     "execution_count": 57,
     "metadata": {},
     "output_type": "execute_result"
    },
    {
     "data": {
      "image/png": "[encoded data removed]",
      "text/plain": [
       "<Figure size 640x480 with 1 Axes>"
      ]
     },
     "metadata": {},
     "output_type": "display_data"
    }
   ],
   "source": [
    "fig = plt.figure()\n",
    "ax = fig.add_subplot()\n",
    "phih_4_3_3xs=[]\n",
    "Fuu_4_3_3xs=[]\n",
    "Fuu_4_3_3xs_stat=[]\n",
    "Fuu_4_3_3xs_sys=[]\n",
    "i_phi_left = phih_bins[0]\n",
    "for i_phi in phih_bins[1:]:\n",
    "    print(i_phi_left,i_phi)\n",
    "    phih_4_3s = df_3xs_4_3[df_3xs_4_3['phih']>=i_phi_left][df_3xs_4_3['phih']<i_phi]['phih'].tolist()\n",
    "    Fuu_4_3s = df_3xs_4_3[df_3xs_4_3['phih']>=i_phi_left][df_3xs_4_3['phih']<i_phi]['value'].tolist()\n",
    "    Fuu_4_3_stats = df_3xs_4_3[df_3xs_4_3['phih']>=i_phi_left][df_3xs_4_3['phih']<i_phi]['stat'].tolist()\n",
    "    print(len(phih_4_3s))\n",
    "    \n",
    "    if len(phih_4_3s)>0:  \n",
    "        #print('phih',phih_4_3s)\n",
    "        #print('Fuu',Fuu_4_3s)\n",
    "        #print('Fuu_stat',Fuu_4_3_stats)\n",
    "        _Fuu_4_3 = Get_weighted_average(Fuu_4_3s,Fuu_4_3_stats)[0]\n",
    "        _Fuu_4_3_stat = Factor_3xs*Get_weighted_average(Fuu_4_3s,Fuu_4_3_stats)[1]\n",
    "        _phih_4_3= Get_weighted_average_phi(phih_4_3s,Fuu_4_3_stats)[0]\n",
    "        #print('_Fuu_4_3',_Fuu_4_3)\n",
    "        #print('_phih',_phih_4_3)\n",
    "        #print('_Fuu_stat',_Fuu_4_3_stat)\n",
    "        Fuu_4_3_3xs.append(_Fuu_4_3)\n",
    "        phih_4_3_3xs.append(_phih_4_3)\n",
    "        Fuu_4_3_3xs_stat.append(_Fuu_4_3_stat)\n",
    "        Fuu_4_3_3xs_sys.append(0.05*_Fuu_4_3)\n",
    "        #print(Fuu_4_3,phih_4_3)\n",
    "        ax.plot([_phih_4_3,_phih_4_3],[_Fuu_4_3-_Fuu_4_3_stat,_Fuu_4_3+_Fuu_4_3_stat],color='red',marker='_')\n",
    "    i_phi_left = i_phi\n",
    "    #print('phileft',i_phi_left)\n",
    "plt.plot(phih_4_3_3xs,Fuu_4_3_3xs,'ro')\n",
    "plt.xlabel('$\\phi_h$',fontsize=16)\n",
    "plt.ylabel('$F_{UU}$',fontsize=16)"
   ]
  },
  {
   "cell_type": "code",
   "execution_count": 58,
   "id": "4a2ec8e9",
   "metadata": {
    "scrolled": true
   },
   "outputs": [
    {
     "data": {
      "text/plain": [
       "Text(0, 0.5, '${d \\\\bf{\\\\sigma}}/{dx_{bj}dydz_hdP^2_{hT}d\\\\phi_h}$ [$nb/GeV^2$]')"
      ]
     },
     "execution_count": 58,
     "metadata": {},
     "output_type": "execute_result"
    },
    {
     "data": {
      "image/png": "[encoded data removed]",
      "text/plain": [
       "<Figure size 1000x800 with 12 Axes>"
      ]
     },
     "metadata": {},
     "output_type": "display_data"
    }
   ],
   "source": [
    "fig, axs = plt.subplots(4,3,figsize=(10,8),sharex=True)\n",
    "fig.subplots_adjust(hspace=0)\n",
    "fig.subplots_adjust(wspace=0)\n",
    "\n",
    "plt.xlabel('$\\phi_h$ [rad]',fontsize=16)\n",
    "#over large\n",
    "Y_first_max=2;Y_second_max=2;Y_third_max=2;Y_fourth_max = 15\n",
    "#Y_first_max=200;Y_second_max=100;Y_third_max=50;Y_fourth_max = 20\n",
    "#large\n",
    "#Y_first_max=0.18;Y_second_max=0.07;Y_third_max=0.024;Y_fourth_max = 0.012\n",
    "#small2\n",
    "#Y_first_max=0.04;Y_second_max=0.03;Y_third_max=0.02;Y_fourth_max = 0.012\n",
    "#small\n",
    "#Y_first_max=0.09;Y_second_max=0.04;Y_third_max=0.01;Y_fourth_max=0.006\n",
    "\n",
    "for i_1_1 in range(0,len(phih_1_1)):\n",
    "    _phih_1_1 = phih_1_1[i_1_1]\n",
    "    _Fuu_1_1 = Fuu_1_1[i_1_1]\n",
    "    _Fuu_1_1_stat = Fuu_1_1_stat[i_1_1]\n",
    "    axs[0][0].plot([_phih_1_1,_phih_1_1],[_Fuu_1_1-_Fuu_1_1_stat,_Fuu_1_1+_Fuu_1_1_stat],color='blue',marker='_')\n",
    "axs[0][0].plot(phih_1_1,Fuu_1_1,'bo')\n",
    "axs[0][0].fill_between(phih_1_1,np.asarray(0),np.asarray(0)+np.asarray(Fuu_1_1_sys),color='blue',hatch='\\\\\\\\\\\\\\\\',alpha=0.25,linewidth=0)\n",
    "for i_1_1_3xs in range(0,len(phih_1_1_3xs)):\n",
    "    _phih_1_1 = phih_1_1_3xs[i_1_1_3xs]\n",
    "    _Fuu_1_1 = Fuu_1_1_3xs[i_1_1_3xs]\n",
    "    _Fuu_1_1_stat = Fuu_1_1_3xs_stat[i_1_1_3xs]\n",
    "    axs[0][0].plot([_phih_1_1,_phih_1_1],[_Fuu_1_1-_Fuu_1_1_stat,_Fuu_1_1+_Fuu_1_1_stat],color='red',marker='_')\n",
    "axs[0][0].plot(phih_1_1_3xs,Fuu_1_1_3xs,'ro')\n",
    "#axs[0][0].fill_between(phih_1_1_3xs,np.asarray(0),np.asarray(0)+np.asarray(Fuu_1_1_3xs_sys),color='red',hatch='\\\\\\\\\\\\\\\\',alpha=0.25,linewidth=0)\n",
    "axs[0][0].set_ylim(0.0002,Y_first_max)\n",
    "#axs[0][0].tick_params(direction='in',labelbottom=False,labelleft=False)\n",
    "axs[0][0].text(0.5,0.9,r'${}<z_h<{}\\ \\  {}<Q^2<{}$ $GeV^2$'.format(z_cuts[0],z_cuts[1],Q2_cuts[0],Q2_cuts[1]), horizontalalignment='center', verticalalignment='center', transform=axs[0][0].transAxes)\n",
    "axs[0][0].text(0.5,0.8,r'${}<x_{{b}}<{}\\ \\  {}<P_{{hT}}<{}$ GeV/c'.format(xbj_cuts[0],xbj_cuts[1],PhT_cuts[0],PhT_cuts[1]), horizontalalignment='center', verticalalignment='center', transform=axs[0][0].transAxes)\n",
    "for i_1_2 in range(0,len(phih_1_2)):\n",
    "    _phih_1_2 = phih_1_2[i_1_2]\n",
    "    _Fuu_1_2 = Fuu_1_2[i_1_2]\n",
    "    _Fuu_1_2_stat = Fuu_1_2_stat[i_1_2]\n",
    "    axs[0][1].plot([_phih_1_2,_phih_1_2],[_Fuu_1_2-_Fuu_1_2_stat,_Fuu_1_2+_Fuu_1_2_stat],color='blue',marker='_')\n",
    "axs[0][1].plot(phih_1_2,Fuu_1_2,'bo')\n",
    "axs[0][1].fill_between(phih_1_2,np.asarray(0),np.asarray(0)+np.asarray(Fuu_1_2_sys),color='blue',hatch='\\\\\\\\\\\\\\\\',alpha=0.25,linewidth=0)\n",
    "for i_1_2_3xs in range(0,len(phih_1_2_3xs)):\n",
    "    _phih_1_2 = phih_1_2_3xs[i_1_2_3xs]\n",
    "    _Fuu_1_2 = Fuu_1_2_3xs[i_1_2_3xs]\n",
    "    _Fuu_1_2_stat = Fuu_1_2_3xs_stat[i_1_2_3xs]\n",
    "    axs[0][1].plot([_phih_1_2,_phih_1_2],[_Fuu_1_2-_Fuu_1_2_stat,_Fuu_1_2+_Fuu_1_2_stat],color='red',marker='_')\n",
    "axs[0][1].plot(phih_1_2_3xs,Fuu_1_2_3xs,'ro')\n",
    "#axs[0][1].fill_between(phih_1_2_3xs,np.asarray(0),np.asarray(0)+np.asarray(Fuu_1_2_3xs_sys),color='red',hatch='\\\\\\\\\\\\\\\\',alpha=0.25,linewidth=0)\n",
    "axs[0][1].set_ylim(0.0002,Y_first_max)\n",
    "axs[0][1].tick_params(direction='in',labelbottom=False,labelleft=False)\n",
    "axs[0][1].text(0.5,0.9,r'${}<z_h<{}\\ \\ {}<Q^2<{}$ $GeV^2$'.format(z_cuts[1],z_cuts[2],Q2_cuts[0],Q2_cuts[1]), horizontalalignment='center', verticalalignment='center', transform=axs[0][1].transAxes)\n",
    "axs[0][1].text(0.5,0.8,r'${}<x_{{b}}<{}\\ \\ {}<P_{{hT}}<{}$ GeV/c'.format(xbj_cuts[0],xbj_cuts[1],PhT_cuts[0],PhT_cuts[1]), horizontalalignment='center', verticalalignment='center', transform=axs[0][1].transAxes)\n",
    "for i_1_3 in range(0,len(phih_1_3)):\n",
    "    _phih_1_3 = phih_1_3[i_1_3]\n",
    "    _Fuu_1_3 = Fuu_1_3[i_1_3]\n",
    "    _Fuu_1_3_stat = Fuu_1_3_stat[i_1_3]\n",
    "    axs[0][2].plot([_phih_1_3,_phih_1_3],[_Fuu_1_3-_Fuu_1_3_stat,_Fuu_1_3+_Fuu_1_3_stat],color='blue',marker='_')\n",
    "axs[0][2].plot(phih_1_3,Fuu_1_3,'bo')\n",
    "axs[0][2].fill_between(phih_1_3,np.asarray(0),np.asarray(0)+np.asarray(Fuu_1_3_sys),color='blue',hatch='\\\\\\\\\\\\\\\\',alpha=0.25,linewidth=0)\n",
    "for i_1_3_3xs in range(0,len(phih_1_3_3xs)):\n",
    "    _phih_1_3 = phih_1_3_3xs[i_1_3_3xs]\n",
    "    _Fuu_1_3 = Fuu_1_3_3xs[i_1_3_3xs]\n",
    "    _Fuu_1_3_stat = Fuu_1_3_3xs_stat[i_1_3_3xs]\n",
    "    axs[0][2].plot([_phih_1_3,_phih_1_3],[_Fuu_1_3-_Fuu_1_3_stat,_Fuu_1_3+_Fuu_1_3_stat],color='red',marker='_')\n",
    "axs[0][2].plot(phih_1_3_3xs,Fuu_1_3_3xs,'ro')\n",
    "#axs[0][2].fill_between(phih_1_3_3xs,np.asarray(0),np.asarray(0)+np.asarray(Fuu_1_3_3xs_sys),color='red',hatch='\\\\\\\\\\\\\\\\',alpha=0.25,linewidth=0)\n",
    "axs[0][2].set_ylim(0.0002,Y_first_max)\n",
    "axs[0][2].tick_params(direction='in',labelbottom=False,labelleft=False)\n",
    "axs[0][2].text(0.5,0.9,r'${}<z_h<{}\\ \\   {}<Q^2<{}$ $GeV^2$'.format(z_cuts[2],z_cuts[3],Q2_cuts[0],Q2_cuts[1]), horizontalalignment='center', verticalalignment='center', transform=axs[0][2].transAxes)\n",
    "axs[0][2].text(0.5,0.8,r'${}<x_{{b}}<{}\\ \\  {}<P_{{hT}}<{}$ GeV/c'.format(xbj_cuts[0],xbj_cuts[1],PhT_cuts[0],PhT_cuts[1]), horizontalalignment='center', verticalalignment='center', transform=axs[0][2].transAxes)\n",
    "for i_2_1 in range(0,len(phih_2_1)):\n",
    "    _phih_2_1 = phih_2_1[i_2_1]\n",
    "    _Fuu_2_1 = Fuu_2_1[i_2_1]\n",
    "    _Fuu_2_1_stat = Fuu_2_1_stat[i_2_1]\n",
    "    axs[1][0].plot([_phih_2_1,_phih_2_1],[_Fuu_2_1-_Fuu_2_1_stat,_Fuu_2_1+_Fuu_2_1_stat],color='blue',marker='_')\n",
    "axs[1][0].plot(phih_2_1,Fuu_2_1,'bo')\n",
    "axs[1][0].fill_between(phih_2_1,np.asarray(0),np.asarray(0)+np.asarray(Fuu_2_1_sys),color='blue',hatch='\\\\\\\\\\\\\\\\',alpha=0.25,linewidth=0)\n",
    "for i_2_1_3xs in range(0,len(phih_2_1_3xs)):\n",
    "    _phih_2_1 = phih_2_1_3xs[i_2_1_3xs]\n",
    "    _Fuu_2_1 = Fuu_2_1_3xs[i_2_1_3xs]\n",
    "    _Fuu_2_1_stat = Fuu_2_1_3xs_stat[i_2_1_3xs]\n",
    "    axs[1][0].plot([_phih_2_1,_phih_2_1],[_Fuu_2_1-_Fuu_2_1_stat,_Fuu_2_1+_Fuu_2_1_stat],color='red',marker='_')\n",
    "axs[1][0].plot(phih_2_1_3xs,Fuu_2_1_3xs,'ro')\n",
    "#axs[1][0].fill_between(phih_2_1_3xs,np.asarray(0),np.asarray(0)+np.asarray(Fuu_2_1_3xs_sys),color='red',hatch='\\\\\\\\\\\\\\\\',alpha=0.25,linewidth=0)\n",
    "axs[1][0].set_ylim(0.0002,Y_second_max)\n",
    "#axs[1][0].tick_params(direction='in',labelbottom=False,labelleft=False)\n",
    "axs[1][0].text(0.5,0.9,r'${}<z_h<{}\\ \\  {}<Q^2<{}$ $GeV^2$'.format(z_cuts[0],z_cuts[1],Q2_cuts[1],Q2_cuts[2]), horizontalalignment='center', verticalalignment='center', transform=axs[1][0].transAxes)\n",
    "axs[1][0].text(0.5,0.8,r'${}<x_{{b}}<{}\\ \\  {}<P_{{hT}}<{}$ GeV/c'.format(xbj_cuts[0],xbj_cuts[1],PhT_cuts[0],PhT_cuts[1]), horizontalalignment='center', verticalalignment='center', transform=axs[1][0].transAxes)\n",
    "for i_2_2 in range(0,len(phih_2_2)):\n",
    "    _phih_2_2 = phih_2_2[i_2_2]\n",
    "    _Fuu_2_2 = Fuu_2_2[i_2_2]\n",
    "    _Fuu_2_2_stat = Fuu_2_2_stat[i_2_2]\n",
    "    axs[1][1].plot([_phih_2_2,_phih_2_2],[_Fuu_2_2-_Fuu_2_2_stat,_Fuu_2_2+_Fuu_2_2_stat],color='blue',marker='_')\n",
    "axs[1][1].plot(phih_2_2,Fuu_2_2,'bo')\n",
    "axs[1][1].fill_between(phih_2_2,np.asarray(0),np.asarray(0)+np.asarray(Fuu_2_2_sys),color='blue',hatch='\\\\\\\\\\\\\\\\',alpha=0.25,linewidth=0)\n",
    "for i_2_2_3xs in range(0,len(phih_2_2_3xs)):\n",
    "    _phih_2_2 = phih_2_2_3xs[i_2_2_3xs]\n",
    "    _Fuu_2_2 = Fuu_2_2_3xs[i_2_2_3xs]\n",
    "    _Fuu_2_2_stat = Fuu_2_2_3xs_stat[i_2_2_3xs]\n",
    "    axs[1][1].plot([_phih_2_2,_phih_2_2],[_Fuu_2_2-_Fuu_2_2_stat,_Fuu_2_2+_Fuu_2_2_stat],color='red',marker='_')\n",
    "axs[1][1].plot(phih_2_2_3xs,Fuu_2_2_3xs,'ro')\n",
    "#axs[1][1].fill_between(phih_2_2_3xs,np.asarray(0),np.asarray(0)+np.asarray(Fuu_2_2_3xs_sys),color='red',hatch='\\\\\\\\\\\\\\\\',alpha=0.25,linewidth=0)\n",
    "axs[1][1].set_ylim(0.0002,Y_second_max)\n",
    "axs[1][1].tick_params(direction='in',labelbottom=False,labelleft=False)\n",
    "axs[1][1].text(0.5,0.9,r'${}<z_h<{}\\ \\ {}<Q^2<{}$ $GeV^2$'.format(z_cuts[1],z_cuts[2],Q2_cuts[1],Q2_cuts[2]), horizontalalignment='center', verticalalignment='center', transform=axs[1][1].transAxes)\n",
    "axs[1][1].text(0.5,0.8,r'${}<x_{{b}}<{}\\ \\ {}<P_{{hT}}<{}$ GeV/c'.format(xbj_cuts[0],xbj_cuts[1],PhT_cuts[0],PhT_cuts[1]), horizontalalignment='center', verticalalignment='center', transform=axs[1][1].transAxes)\n",
    "for i_2_3 in range(0,len(phih_2_3)):\n",
    "    _phih_2_3 = phih_2_3[i_2_3]\n",
    "    _Fuu_2_3 = Fuu_2_3[i_2_3]\n",
    "    _Fuu_2_3_stat = Fuu_2_3_stat[i_2_3]\n",
    "    axs[1][2].plot([_phih_2_3,_phih_2_3],[_Fuu_2_3-_Fuu_2_3_stat,_Fuu_2_3+_Fuu_2_3_stat],color='blue',marker='_')\n",
    "axs[1][2].plot(phih_2_3,Fuu_2_3,'bo')\n",
    "axs[1][2].fill_between(phih_2_3,np.asarray(0),np.asarray(0)+np.asarray(Fuu_2_3_sys),color='blue',hatch='\\\\\\\\\\\\\\\\',alpha=0.25,linewidth=0)\n",
    "for i_2_3_3xs in range(0,len(phih_2_3_3xs)):\n",
    "    _phih_2_3 = phih_2_3_3xs[i_2_3_3xs]\n",
    "    _Fuu_2_3 = Fuu_2_3_3xs[i_2_3_3xs]\n",
    "    _Fuu_2_3_stat = Fuu_2_3_3xs_stat[i_2_3_3xs]\n",
    "    axs[1][2].plot([_phih_2_3,_phih_2_3],[_Fuu_2_3-_Fuu_2_3_stat,_Fuu_2_3+_Fuu_2_3_stat],color='red',marker='_')\n",
    "axs[1][2].plot(phih_2_3_3xs,Fuu_2_3_3xs,'ro')\n",
    "#axs[1][2].fill_between(phih_2_3_3xs,np.asarray(0),np.asarray(0)+np.asarray(Fuu_2_3_3xs_sys),color='red',hatch='\\\\\\\\\\\\\\\\',alpha=0.25,linewidth=0)\n",
    "axs[1][2].set_ylim(0.0002,Y_second_max)\n",
    "axs[1][2].tick_params(direction='in',labelbottom=False,labelleft=False)\n",
    "axs[1][2].text(0.5,0.9,r'${}<z_h<{}\\ \\   {}<Q^2<{}$ $GeV^2$'.format(z_cuts[2],z_cuts[3],Q2_cuts[1],Q2_cuts[2]), horizontalalignment='center', verticalalignment='center', transform=axs[1][2].transAxes)\n",
    "axs[1][2].text(0.5,0.8,r'${}<x_{{b}}<{}\\ \\  {}<P_{{hT}}<{}$ GeV/c'.format(xbj_cuts[0],xbj_cuts[1],PhT_cuts[0],PhT_cuts[1]), horizontalalignment='center', verticalalignment='center', transform=axs[1][2].transAxes)\n",
    "for i_3_1 in range(0,len(phih_3_1)):\n",
    "    _phih_3_1 = phih_3_1[i_3_1]\n",
    "    _Fuu_3_1 = Fuu_3_1[i_3_1]\n",
    "    _Fuu_3_1_stat = Fuu_3_1_stat[i_3_1]\n",
    "    axs[2][0].plot([_phih_3_1,_phih_3_1],[_Fuu_3_1-_Fuu_3_1_stat,_Fuu_3_1+_Fuu_3_1_stat],color='blue',marker='_')\n",
    "axs[2][0].plot(phih_3_1,Fuu_3_1,'bo')\n",
    "axs[2][0].fill_between(phih_3_1,np.asarray(0),np.asarray(0)+np.asarray(Fuu_3_1_sys),color='blue',hatch='\\\\\\\\\\\\\\\\',alpha=0.25,linewidth=0)\n",
    "for i_3_1_3xs in range(0,len(phih_3_1_3xs)):\n",
    "    _phih_3_1 = phih_3_1_3xs[i_3_1_3xs]\n",
    "    _Fuu_3_1 = Fuu_3_1_3xs[i_3_1_3xs]\n",
    "    _Fuu_3_1_stat = Fuu_3_1_3xs_stat[i_3_1_3xs]\n",
    "    axs[2][0].plot([_phih_3_1,_phih_3_1],[_Fuu_3_1-_Fuu_3_1_stat,_Fuu_3_1+_Fuu_3_1_stat],color='red',marker='_')\n",
    "axs[2][0].plot(phih_3_1_3xs,Fuu_3_1_3xs,'ro')\n",
    "#axs[2][0].fill_between(phih_3_1_3xs,np.asarray(0),np.asarray(0)+np.asarray(Fuu_3_1_3xs_sys),color='red',hatch='\\\\\\\\\\\\\\\\',alpha=0.25,linewidth=0)\n",
    "axs[2][0].set_ylim(0.0002,Y_third_max)\n",
    "#axs[1][0].tick_params(direction='in',labelbottom=False,labelleft=False)\n",
    "axs[2][0].text(0.5,0.9,r'${}<z_h<{}\\ \\  {}<Q^2<{}$ $GeV^2$'.format(z_cuts[0],z_cuts[1],Q2_cuts[2],Q2_cuts[3]), horizontalalignment='center', verticalalignment='center', transform=axs[2][0].transAxes)\n",
    "axs[2][0].text(0.5,0.8,r'${}<x_{{b}}<{}\\ \\  {}<P_{{hT}}<{}$ GeV/c'.format(xbj_cuts[0],xbj_cuts[1],PhT_cuts[0],PhT_cuts[1]), horizontalalignment='center', verticalalignment='center', transform=axs[2][0].transAxes)\n",
    "for i_3_2 in range(0,len(phih_3_2)):\n",
    "    _phih_3_2 = phih_3_2[i_3_2]\n",
    "    _Fuu_3_2 = Fuu_3_2[i_3_2]\n",
    "    _Fuu_3_2_stat = Fuu_3_2_stat[i_3_2]\n",
    "    axs[2][1].plot([_phih_3_2,_phih_3_2],[_Fuu_3_2-_Fuu_3_2_stat,_Fuu_3_2+_Fuu_3_2_stat],color='blue',marker='_')\n",
    "axs[2][1].plot(phih_3_2,Fuu_3_2,'bo')\n",
    "axs[2][1].fill_between(phih_3_2,np.asarray(0),np.asarray(0)+np.asarray(Fuu_3_2_sys),color='blue',hatch='\\\\\\\\\\\\\\\\',alpha=0.25,linewidth=0)\n",
    "for i_3_2_3xs in range(0,len(phih_3_2_3xs)):\n",
    "    _phih_3_2 = phih_3_2_3xs[i_3_2_3xs]\n",
    "    _Fuu_3_2 = Fuu_3_2_3xs[i_3_2_3xs]\n",
    "    _Fuu_3_2_stat = Fuu_3_2_3xs_stat[i_3_2_3xs]\n",
    "    axs[2][1].plot([_phih_3_2,_phih_3_2],[_Fuu_3_2-_Fuu_3_2_stat,_Fuu_3_2+_Fuu_3_2_stat],color='red',marker='_')\n",
    "axs[2][1].plot(phih_3_2_3xs,Fuu_3_2_3xs,'ro')\n",
    "#axs[2][1].fill_between(phih_3_2_3xs,np.asarray(0),np.asarray(0)+np.asarray(Fuu_3_2_3xs_sys),color='red',hatch='\\\\\\\\\\\\\\\\',alpha=0.25,linewidth=0)\n",
    "axs[2][1].set_ylim(0.0002,Y_third_max)\n",
    "axs[2][1].tick_params(direction='in',labelbottom=False,labelleft=False)\n",
    "axs[2][1].text(0.5,0.9,r'${}<z_h<{}\\ \\ {}<Q^2<{}$ $GeV^2$'.format(z_cuts[1],z_cuts[2],Q2_cuts[2],Q2_cuts[3]), horizontalalignment='center', verticalalignment='center', transform=axs[2][1].transAxes)\n",
    "axs[2][1].text(0.5,0.8,r'${}<x_{{b}}<{}\\ \\ {}<P_{{hT}}<{}$ GeV/c'.format(xbj_cuts[0],xbj_cuts[1],PhT_cuts[0],PhT_cuts[1]), horizontalalignment='center', verticalalignment='center', transform=axs[2][1].transAxes)\n",
    "for i_3_3 in range(0,len(phih_3_3)):\n",
    "    _phih_3_3 = phih_3_3[i_3_3]\n",
    "    _Fuu_3_3 = Fuu_3_3[i_3_3]\n",
    "    _Fuu_3_3_stat = Fuu_3_3_stat[i_3_3]\n",
    "    axs[2][2].plot([_phih_3_3,_phih_3_3],[_Fuu_3_3-_Fuu_3_3_stat,_Fuu_3_3+_Fuu_3_3_stat],color='blue',marker='_')\n",
    "axs[2][2].plot(phih_3_3,Fuu_3_3,'bo')\n",
    "axs[2][2].fill_between(phih_3_3,np.asarray(0),np.asarray(0)+np.asarray(Fuu_3_3_sys),color='blue',hatch='\\\\\\\\\\\\\\\\',alpha=0.25,linewidth=0)\n",
    "for i_3_3_3xs in range(0,len(phih_3_3_3xs)):\n",
    "    _phih_3_3 = phih_3_3_3xs[i_3_3_3xs]\n",
    "    _Fuu_3_3 = Fuu_3_3_3xs[i_3_3_3xs]\n",
    "    _Fuu_3_3_stat = Fuu_3_3_3xs_stat[i_3_3_3xs]\n",
    "    axs[2][2].plot([_phih_3_3,_phih_3_3],[_Fuu_3_3-_Fuu_3_3_stat,_Fuu_3_3+_Fuu_3_3_stat],color='red',marker='_')\n",
    "axs[2][2].plot(phih_3_3_3xs,Fuu_3_3_3xs,'ro')\n",
    "#axs[2][2].fill_between(phih_3_3_3xs,np.asarray(0),np.asarray(0)+np.asarray(Fuu_3_3_3xs_sys),color='red',hatch='\\\\\\\\\\\\\\\\',alpha=0.25,linewidth=0)\n",
    "axs[2][2].set_ylim(0.0002,Y_third_max)\n",
    "axs[2][2].tick_params(direction='in',labelbottom=False,labelleft=False)\n",
    "axs[2][2].text(0.5,0.9,r'${}<z_h<{}\\ \\   {}<Q^2<{}$ $GeV^2$'.format(z_cuts[2],z_cuts[3],Q2_cuts[2],Q2_cuts[3]), horizontalalignment='center', verticalalignment='center', transform=axs[2][2].transAxes)\n",
    "axs[2][2].text(0.5,0.8,r'${}<x_{{b}}<{}\\ \\  {}<P_{{hT}}<{}$ GeV/c'.format(xbj_cuts[0],xbj_cuts[1],PhT_cuts[0],PhT_cuts[1]), horizontalalignment='center', verticalalignment='center', transform=axs[2][2].transAxes)\n",
    "for i_4_1 in range(0,len(phih_4_1)):\n",
    "    _phih_4_1 = phih_4_1[i_4_1]\n",
    "    _Fuu_4_1 = Fuu_4_1[i_4_1]\n",
    "    _Fuu_4_1_stat = Fuu_4_1_stat[i_4_1]\n",
    "    axs[3][0].plot([_phih_4_1,_phih_4_1],[_Fuu_4_1-_Fuu_4_1_stat,_Fuu_4_1+_Fuu_4_1_stat],color='blue',marker='_')\n",
    "axs[3][0].plot(phih_4_1,Fuu_4_1,'bo')\n",
    "axs[3][0].fill_between(phih_4_1,np.asarray(0),np.asarray(0)+np.asarray(Fuu_4_1_sys),color='blue',hatch='\\\\\\\\\\\\\\\\',alpha=0.25,linewidth=0)\n",
    "for i_4_1_3xs in range(0,len(phih_4_1_3xs)):\n",
    "    _phih_4_1 = phih_4_1_3xs[i_4_1_3xs]\n",
    "    _Fuu_4_1 = Fuu_4_1_3xs[i_4_1_3xs]\n",
    "    _Fuu_4_1_stat = Fuu_4_1_3xs_stat[i_4_1_3xs]\n",
    "    axs[3][0].plot([_phih_4_1,_phih_4_1],[_Fuu_4_1-_Fuu_4_1_stat,_Fuu_4_1+_Fuu_4_1_stat],color='red',marker='_')\n",
    "axs[3][0].plot(phih_4_1_3xs,Fuu_4_1_3xs,'ro')\n",
    "#axs[3][0].fill_between(phih_4_1_3xs,np.asarray(0),np.asarray(0)+np.asarray(Fuu_4_1_3xs_sys),color='red',hatch='\\\\\\\\\\\\\\\\',alpha=0.25,linewidth=0)\n",
    "axs[3][0].set_ylim(0.0002,Y_fourth_max)\n",
    "#axs[3][0].tick_params(direction='in',labelbottom=False,labelleft=False)\n",
    "axs[3][0].text(0.5,0.9,r'${}<z_h<{}\\ \\  {}<Q^2<{}$ $GeV^2$'.format(z_cuts[0],z_cuts[1],Q2_cuts[3],Q2_cuts[4]), horizontalalignment='center', verticalalignment='center', transform=axs[3][0].transAxes)\n",
    "axs[3][0].text(0.5,0.8,r'${}<x_{{b}}<{}\\ \\  {}<P_{{hT}}<{}$ GeV/c'.format(xbj_cuts[0],xbj_cuts[1],PhT_cuts[0],PhT_cuts[1]), horizontalalignment='center', verticalalignment='center', transform=axs[3][0].transAxes)\n",
    "for i_4_2 in range(0,len(phih_4_2)):\n",
    "    _phih_4_2 = phih_4_2[i_4_2]\n",
    "    _Fuu_4_2 = Fuu_4_2[i_4_2]\n",
    "    _Fuu_4_2_stat = Fuu_4_2_stat[i_4_2]\n",
    "    axs[3][1].plot([_phih_4_2,_phih_4_2],[_Fuu_4_2-_Fuu_4_2_stat,_Fuu_4_2+_Fuu_4_2_stat],color='blue',marker='_')\n",
    "axs[3][1].plot(phih_4_2,Fuu_4_2,'bo')\n",
    "axs[3][1].fill_between(phih_4_2,np.asarray(0),np.asarray(0)+np.asarray(Fuu_4_2_sys),color='blue',hatch='\\\\\\\\\\\\\\\\',alpha=0.25,linewidth=0)\n",
    "for i_4_2_3xs in range(0,len(phih_4_2_3xs)):\n",
    "    _phih_4_2 = phih_4_2_3xs[i_4_2_3xs]\n",
    "    _Fuu_4_2 = Fuu_4_2_3xs[i_4_2_3xs]\n",
    "    _Fuu_4_2_stat = Fuu_4_2_3xs_stat[i_4_2_3xs]\n",
    "    axs[3][1].plot([_phih_4_2,_phih_4_2],[_Fuu_4_2-_Fuu_4_2_stat,_Fuu_4_2+_Fuu_4_2_stat],color='red',marker='_')\n",
    "axs[3][1].plot(phih_4_2_3xs,Fuu_4_2_3xs,'ro')\n",
    "#axs[3][1].fill_between(phih_4_2_3xs,np.asarray(0),np.asarray(0)+np.asarray(Fuu_4_2_3xs_sys),color='red',hatch='\\\\\\\\\\\\\\\\',alpha=0.25,linewidth=0)\n",
    "axs[3][1].set_ylim(0.0002,Y_fourth_max)\n",
    "axs[3][1].tick_params(direction='in',labelleft=False)\n",
    "axs[3][1].text(0.5,0.9,r'${}<z_h<{}\\ \\ {}<Q^2<{}$ $GeV^2$'.format(z_cuts[1],z_cuts[2],Q2_cuts[3],Q2_cuts[4]), horizontalalignment='center', verticalalignment='center', transform=axs[3][1].transAxes)\n",
    "axs[3][1].text(0.5,0.8,r'${}<x_{{b}}<{}\\ \\ {}<P_{{hT}}<{}$ GeV/c'.format(xbj_cuts[0],xbj_cuts[1],PhT_cuts[0],PhT_cuts[1]), horizontalalignment='center', verticalalignment='center', transform=axs[3][1].transAxes)\n",
    "for i_4_3 in range(0,len(phih_4_3)):\n",
    "    _phih_4_3 = phih_4_3[i_4_3]\n",
    "    _Fuu_4_3 = Fuu_4_3[i_4_3]\n",
    "    _Fuu_4_3_stat = Fuu_4_3_stat[i_4_3]\n",
    "    axs[3][2].plot([_phih_4_3,_phih_4_3],[_Fuu_4_3-_Fuu_4_3_stat,_Fuu_4_3+_Fuu_4_3_stat],color='blue',marker='_')\n",
    "axs[3][2].plot(phih_4_3,Fuu_4_3,'bo')\n",
    "axs[3][2].fill_between(phih_4_3,np.asarray(0),np.asarray(0)+np.asarray(Fuu_4_3_sys),color='blue',hatch='\\\\\\\\\\\\\\\\',alpha=0.25,linewidth=0)\n",
    "\n",
    "for i_4_3_3xs in range(0,len(phih_4_3_3xs)):\n",
    "    _phih_4_3 = phih_4_3_3xs[i_4_3_3xs]\n",
    "    _Fuu_4_3 = Fuu_4_3_3xs[i_4_3_3xs]\n",
    "    _Fuu_4_3_stat = Fuu_4_3_3xs_stat[i_4_3_3xs]\n",
    "    axs[3][2].plot([_phih_4_3,_phih_4_3],[_Fuu_4_3-_Fuu_4_3_stat,_Fuu_4_3+_Fuu_4_3_stat],color='red',marker='_')\n",
    "axs[3][2].plot(phih_4_3_3xs,Fuu_4_3_3xs,'ro')\n",
    "#axs[3][2].fill_between(phih_4_3_3xs,np.asarray(0),np.asarray(0)+np.asarray(Fuu_4_3_3xs_sys),color='red',hatch='\\\\\\\\\\\\\\\\',alpha=0.25,linewidth=0)\n",
    "axs[3][2].set_ylim(0.0002,Y_fourth_max)\n",
    "axs[3][2].tick_params(direction='in',labelleft=False)\n",
    "axs[3][2].text(0.5,0.9,r'${}<z_h<{}\\ \\   {}<Q^2<{}$ $GeV^2$'.format(z_cuts[2],z_cuts[3],Q2_cuts[3],Q2_cuts[4]), horizontalalignment='center', verticalalignment='center', transform=axs[3][2].transAxes)\n",
    "axs[3][2].text(0.5,0.8,r'${}<x_{{b}}<{}\\ \\  {}<P_{{hT}}<{}$ GeV/c'.format(xbj_cuts[0],xbj_cuts[1],PhT_cuts[0],PhT_cuts[1]), horizontalalignment='center', verticalalignment='center', transform=axs[3][2].transAxes)\n",
    "\n",
    "axs[1][0].set_ylabel(r'${d \\bf{\\sigma}}/{dx_{bj}dydz_hdP^2_{hT}d\\phi_h}$ [$nb/GeV^2$]',fontsize=16)\n",
    "\n",
    "\n",
    "#plt.show()\n",
    "#plt.savefig('../Unpol_proposal/Materials/results/Fuu_large_PT1_pip.pdf')"
   ]
  },
  {
   "cell_type": "code",
   "execution_count": 59,
   "id": "c0d28576",
   "metadata": {
    "scrolled": true
   },
   "outputs": [
    {
     "name": "stdout",
     "output_type": "stream",
     "text": [
      "9 9\n"
     ]
    },
    {
     "data": {
      "image/png": "[encoded data removed]",
      "text/plain": [
       "<Figure size 1000x800 with 12 Axes>"
      ]
     },
     "metadata": {},
     "output_type": "display_data"
    }
   ],
   "source": [
    "fig, axs = plt.subplots(4,3,figsize=(10,8),sharex=True)\n",
    "fig.subplots_adjust(hspace=0)\n",
    "fig.subplots_adjust(wspace=0)\n",
    "\n",
    "plt.xlabel('$\\phi_h$ [rad]',fontsize=16)\n",
    "#over large\n",
    "Y_first_max=.55;Y_second_max=.32;Y_third_max=.32;Y_fourth_max = .32\n",
    "#Y_first_max=200;Y_second_max=100;Y_third_max=50;Y_fourth_max = 20\n",
    "#large\n",
    "#Y_first_max=0.18;Y_second_max=0.07;Y_third_max=0.024;Y_fourth_max = 0.012\n",
    "#small2\n",
    "#Y_first_max=0.04;Y_second_max=0.03;Y_third_max=0.02;Y_fourth_max = 0.012\n",
    "#small\n",
    "#Y_first_max=0.09;Y_second_max=0.04;Y_third_max=0.01;Y_fourth_max=0.006\n",
    "print(len(phih_1_1),len(phih_1_1_3xs))\n",
    "ratio_1_1=[]\n",
    "for i_1_1 in range(0,len(phih_1_1)):\n",
    "    _phih_1_1 = phih_1_1[i_1_1]\n",
    "    ratio_1_1.append(Fuu_1_1_stat[i_1_1]**2/Fuu_1_1_3xs_stat[i_1_1]**2)    \n",
    "axs[0][0].plot(phih_1_1,ratio_1_1,'ro')\n",
    "#axs[0][0].fill_between(phih_1_1_3xs,np.asarray(0),np.asarray(0)+np.asarray(Fuu_1_1_3xs_sys),color='red',hatch='\\\\\\\\\\\\\\\\',alpha=0.25,linewidth=0)\n",
    "axs[0][0].set_ylim(0.0002,Y_first_max)\n",
    "#axs[0][0].tick_params(direction='in',labelbottom=False,labelleft=False)\n",
    "axs[0][0].text(0.5,0.9,r'${}<z_h<{}\\ \\  {}<Q^2<{}$ $GeV^2$'.format(z_cuts[0],z_cuts[1],Q2_cuts[0],Q2_cuts[1]), horizontalalignment='center', verticalalignment='center', transform=axs[0][0].transAxes)\n",
    "axs[0][0].text(0.5,0.8,r'${}<x_{{b}}<{}\\ \\  {}<P_{{hT}}<{}$ GeV/c'.format(xbj_cuts[0],xbj_cuts[1],PhT_cuts[0],PhT_cuts[1]), horizontalalignment='center', verticalalignment='center', transform=axs[0][0].transAxes)\n",
    "ratio_1_2=[]\n",
    "for i_1_2 in range(0,len(phih_1_2)):\n",
    "    _phih_1_2 = phih_1_2[i_1_2]\n",
    "    ratio_1_2.append(Fuu_1_2_stat[i_1_2]**2/Fuu_1_2_3xs_stat[i_1_2]**2)    \n",
    "axs[0][1].plot(phih_1_2,ratio_1_2,'ro')\n",
    "#axs[0][1].fill_between(phih_1_2_3xs,np.asarray(0),np.asarray(0)+np.asarray(Fuu_1_2_3xs_sys),color='red',hatch='\\\\\\\\\\\\\\\\',alpha=0.25,linewidth=0)\n",
    "axs[0][1].set_ylim(0.0002,Y_first_max)\n",
    "axs[0][1].tick_params(direction='in',labelbottom=False,labelleft=False)\n",
    "axs[0][1].text(0.5,0.9,r'${}<z_h<{}\\ \\ {}<Q^2<{}$ $GeV^2$'.format(z_cuts[1],z_cuts[2],Q2_cuts[0],Q2_cuts[1]), horizontalalignment='center', verticalalignment='center', transform=axs[0][1].transAxes)\n",
    "axs[0][1].text(0.5,0.8,r'${}<x_{{b}}<{}\\ \\ {}<P_{{hT}}<{}$ GeV/c'.format(xbj_cuts[0],xbj_cuts[1],PhT_cuts[0],PhT_cuts[1]), horizontalalignment='center', verticalalignment='center', transform=axs[0][1].transAxes)\n",
    "ratio_1_3=[]\n",
    "for i_1_3 in range(0,len(phih_1_3)):\n",
    "    _phih_1_3 = phih_1_3[i_1_3]\n",
    "    ratio_1_3.append(Fuu_1_3_stat[i_1_3]**2/Fuu_1_3_3xs_stat[i_1_3]**2)    \n",
    "axs[0][2].plot(phih_1_3,ratio_1_3,'ro')\n",
    "#axs[0][2].fill_between(phih_1_3_3xs,np.asarray(0),np.asarray(0)+np.asarray(Fuu_1_3_3xs_sys),color='red',hatch='\\\\\\\\\\\\\\\\',alpha=0.25,linewidth=0)\n",
    "axs[0][2].set_ylim(0.0002,Y_first_max)\n",
    "axs[0][2].tick_params(direction='in',labelbottom=False,labelleft=False)\n",
    "axs[0][2].text(0.5,0.9,r'${}<z_h<{}\\ \\   {}<Q^2<{}$ $GeV^2$'.format(z_cuts[2],z_cuts[3],Q2_cuts[0],Q2_cuts[1]), horizontalalignment='center', verticalalignment='center', transform=axs[0][2].transAxes)\n",
    "axs[0][2].text(0.5,0.8,r'${}<x_{{b}}<{}\\ \\  {}<P_{{hT}}<{}$ GeV/c'.format(xbj_cuts[0],xbj_cuts[1],PhT_cuts[0],PhT_cuts[1]), horizontalalignment='center', verticalalignment='center', transform=axs[0][2].transAxes)\n",
    "ratio_2_1=[]\n",
    "for i_2_1 in range(0,len(phih_2_1)):\n",
    "    _phih_2_1 = phih_2_1[i_2_1]\n",
    "    ratio_2_1.append(Fuu_2_1_stat[i_2_1]**2/Fuu_2_1_3xs_stat[i_2_1]**2)    \n",
    "axs[1][0].plot(phih_2_1,ratio_2_1,'ro')\n",
    "#axs[1][0].fill_between(phih_2_1_3xs,np.asarray(0),np.asarray(0)+np.asarray(Fuu_2_1_3xs_sys),color='red',hatch='\\\\\\\\\\\\\\\\',alpha=0.25,linewidth=0)\n",
    "axs[1][0].set_ylim(0.0002,Y_second_max)\n",
    "#axs[1][0].tick_params(direction='in',labelbottom=False,labelleft=False)\n",
    "axs[1][0].text(0.5,0.9,r'${}<z_h<{}\\ \\  {}<Q^2<{}$ $GeV^2$'.format(z_cuts[0],z_cuts[1],Q2_cuts[1],Q2_cuts[2]), horizontalalignment='center', verticalalignment='center', transform=axs[1][0].transAxes)\n",
    "axs[1][0].text(0.5,0.8,r'${}<x_{{b}}<{}\\ \\  {}<P_{{hT}}<{}$ GeV/c'.format(xbj_cuts[0],xbj_cuts[1],PhT_cuts[0],PhT_cuts[1]), horizontalalignment='center', verticalalignment='center', transform=axs[1][0].transAxes)\n",
    "ratio_2_2=[]\n",
    "for i_2_2 in range(0,len(phih_2_2)):\n",
    "    _phih_2_2 = phih_2_2[i_2_2]\n",
    "    ratio_2_2.append(Fuu_2_2_stat[i_2_2]**2/Fuu_2_2_3xs_stat[i_2_2]**2)    \n",
    "axs[1][1].plot(phih_2_2,ratio_2_2,'ro')\n",
    "#axs[1][1].fill_between(phih_2_2_3xs,np.asarray(0),np.asarray(0)+np.asarray(Fuu_2_2_3xs_sys),color='red',hatch='\\\\\\\\\\\\\\\\',alpha=0.25,linewidth=0)\n",
    "axs[1][1].set_ylim(0.0002,Y_second_max)\n",
    "axs[1][1].tick_params(direction='in',labelbottom=False,labelleft=False)\n",
    "axs[1][1].text(0.5,0.9,r'${}<z_h<{}\\ \\ {}<Q^2<{}$ $GeV^2$'.format(z_cuts[1],z_cuts[2],Q2_cuts[1],Q2_cuts[2]), horizontalalignment='center', verticalalignment='center', transform=axs[1][1].transAxes)\n",
    "axs[1][1].text(0.5,0.8,r'${}<x_{{b}}<{}\\ \\ {}<P_{{hT}}<{}$ GeV/c'.format(xbj_cuts[0],xbj_cuts[1],PhT_cuts[0],PhT_cuts[1]), horizontalalignment='center', verticalalignment='center', transform=axs[1][1].transAxes)\n",
    "ratio_2_3=[]\n",
    "for i_2_3 in range(0,len(phih_2_3)):\n",
    "    _phih_2_3 = phih_2_3[i_2_3]\n",
    "    ratio_2_3.append(Fuu_2_3_stat[i_2_3]**2/Fuu_2_3_3xs_stat[i_2_3]**2)    \n",
    "axs[1][2].plot(phih_2_3,ratio_2_3,'ro')\n",
    "#axs[1][2].fill_between(phih_2_3_3xs,np.asarray(0),np.asarray(0)+np.asarray(Fuu_2_3_3xs_sys),color='red',hatch='\\\\\\\\\\\\\\\\',alpha=0.25,linewidth=0)\n",
    "axs[1][2].set_ylim(0.0002,Y_second_max)\n",
    "axs[1][2].tick_params(direction='in',labelbottom=False,labelleft=False)\n",
    "axs[1][2].text(0.5,0.9,r'${}<z_h<{}\\ \\   {}<Q^2<{}$ $GeV^2$'.format(z_cuts[2],z_cuts[3],Q2_cuts[1],Q2_cuts[2]), horizontalalignment='center', verticalalignment='center', transform=axs[1][2].transAxes)\n",
    "axs[1][2].text(0.5,0.8,r'${}<x_{{b}}<{}\\ \\  {}<P_{{hT}}<{}$ GeV/c'.format(xbj_cuts[0],xbj_cuts[1],PhT_cuts[0],PhT_cuts[1]), horizontalalignment='center', verticalalignment='center', transform=axs[1][2].transAxes)\n",
    "ratio_3_1=[]\n",
    "for i_3_1 in range(0,len(phih_3_1)):\n",
    "    _phih_3_1 = phih_3_1[i_3_1]\n",
    "    ratio_3_1.append(Fuu_3_1_stat[i_3_1]**2/Fuu_3_1_3xs_stat[i_3_1]**2)    \n",
    "axs[2][0].plot(phih_3_1,ratio_3_1,'ro')\n",
    "#axs[2][0].fill_between(phih_3_1_3xs,np.asarray(0),np.asarray(0)+np.asarray(Fuu_3_1_3xs_sys),color='red',hatch='\\\\\\\\\\\\\\\\',alpha=0.25,linewidth=0)\n",
    "axs[2][0].set_ylim(0.0002,Y_third_max)\n",
    "#axs[1][0].tick_params(direction='in',labelbottom=False,labelleft=False)\n",
    "axs[2][0].text(0.5,0.9,r'${}<z_h<{}\\ \\  {}<Q^2<{}$ $GeV^2$'.format(z_cuts[0],z_cuts[1],Q2_cuts[2],Q2_cuts[3]), horizontalalignment='center', verticalalignment='center', transform=axs[2][0].transAxes)\n",
    "axs[2][0].text(0.5,0.8,r'${}<x_{{b}}<{}\\ \\  {}<P_{{hT}}<{}$ GeV/c'.format(xbj_cuts[0],xbj_cuts[1],PhT_cuts[0],PhT_cuts[1]), horizontalalignment='center', verticalalignment='center', transform=axs[2][0].transAxes)\n",
    "ratio_3_2=[]\n",
    "for i_3_2 in range(0,len(phih_3_2)):\n",
    "    _phih_3_2 = phih_3_2[i_3_2]\n",
    "    ratio_3_2.append(Fuu_3_2_stat[i_3_2]**2/Fuu_3_2_3xs_stat[i_3_2]**2)    \n",
    "axs[2][1].plot(phih_3_2,ratio_3_2,'ro')\n",
    "#axs[2][1].fill_between(phih_3_2_3xs,np.asarray(0),np.asarray(0)+np.asarray(Fuu_3_2_3xs_sys),color='red',hatch='\\\\\\\\\\\\\\\\',alpha=0.25,linewidth=0)\n",
    "axs[2][1].set_ylim(0.0002,Y_third_max)\n",
    "axs[2][1].tick_params(direction='in',labelbottom=False,labelleft=False)\n",
    "axs[2][1].text(0.5,0.9,r'${}<z_h<{}\\ \\ {}<Q^2<{}$ $GeV^2$'.format(z_cuts[1],z_cuts[2],Q2_cuts[2],Q2_cuts[3]), horizontalalignment='center', verticalalignment='center', transform=axs[2][1].transAxes)\n",
    "axs[2][1].text(0.5,0.8,r'${}<x_{{b}}<{}\\ \\ {}<P_{{hT}}<{}$ GeV/c'.format(xbj_cuts[0],xbj_cuts[1],PhT_cuts[0],PhT_cuts[1]), horizontalalignment='center', verticalalignment='center', transform=axs[2][1].transAxes)\n",
    "ratio_3_3=[]\n",
    "for i_3_3 in range(0,len(phih_3_3)):\n",
    "    _phih_3_3 = phih_3_3[i_3_3]\n",
    "    ratio_3_3.append(Fuu_3_3_stat[i_3_3]**2/Fuu_3_3_3xs_stat[i_3_3]**2)    \n",
    "axs[2][2].plot(phih_3_3,ratio_3_3,'ro')\n",
    "#axs[2][2].fill_between(phih_3_3_3xs,np.asarray(0),np.asarray(0)+np.asarray(Fuu_3_3_3xs_sys),color='red',hatch='\\\\\\\\\\\\\\\\',alpha=0.25,linewidth=0)\n",
    "axs[2][2].set_ylim(0.0002,Y_third_max)\n",
    "axs[2][2].tick_params(direction='in',labelbottom=False,labelleft=False)\n",
    "axs[2][2].text(0.5,0.9,r'${}<z_h<{}\\ \\   {}<Q^2<{}$ $GeV^2$'.format(z_cuts[2],z_cuts[3],Q2_cuts[2],Q2_cuts[3]), horizontalalignment='center', verticalalignment='center', transform=axs[2][2].transAxes)\n",
    "axs[2][2].text(0.5,0.8,r'${}<x_{{b}}<{}\\ \\  {}<P_{{hT}}<{}$ GeV/c'.format(xbj_cuts[0],xbj_cuts[1],PhT_cuts[0],PhT_cuts[1]), horizontalalignment='center', verticalalignment='center', transform=axs[2][2].transAxes)\n",
    "ratio_4_1=[]\n",
    "for i_4_1 in range(0,len(phih_4_1)):\n",
    "    _phih_4_1 = phih_4_1[i_4_1]\n",
    "    ratio_4_1.append(Fuu_4_1_stat[i_4_1]**2/Fuu_4_1_3xs_stat[i_4_1]**2)    \n",
    "axs[3][0].plot(phih_4_1,ratio_4_1,'ro')\n",
    "#axs[3][0].fill_between(phih_4_1_3xs,np.asarray(0),np.asarray(0)+np.asarray(Fuu_4_1_3xs_sys),color='red',hatch='\\\\\\\\\\\\\\\\',alpha=0.25,linewidth=0)\n",
    "axs[3][0].set_ylim(0.0002,Y_fourth_max)\n",
    "#axs[3][0].tick_params(direction='in',labelbottom=False,labelleft=False)\n",
    "axs[3][0].text(0.5,0.9,r'${}<z_h<{}\\ \\  {}<Q^2<{}$ $GeV^2$'.format(z_cuts[0],z_cuts[1],Q2_cuts[3],Q2_cuts[4]), horizontalalignment='center', verticalalignment='center', transform=axs[3][0].transAxes)\n",
    "axs[3][0].text(0.5,0.8,r'${}<x_{{b}}<{}\\ \\  {}<P_{{hT}}<{}$ GeV/c'.format(xbj_cuts[0],xbj_cuts[1],PhT_cuts[0],PhT_cuts[1]), horizontalalignment='center', verticalalignment='center', transform=axs[3][0].transAxes)\n",
    "ratio_4_2=[]\n",
    "for i_4_2 in range(0,len(phih_4_2)):\n",
    "    _phih_4_2 = phih_4_2[i_4_2]\n",
    "    ratio_4_2.append(Fuu_4_2_stat[i_4_2]**2/Fuu_4_2_3xs_stat[i_4_2]**2)    \n",
    "axs[3][1].plot(phih_4_2,ratio_4_2,'ro')\n",
    "#axs[3][1].fill_between(phih_4_2_3xs,np.asarray(0),np.asarray(0)+np.asarray(Fuu_4_2_3xs_sys),color='red',hatch='\\\\\\\\\\\\\\\\',alpha=0.25,linewidth=0)\n",
    "axs[3][1].set_ylim(0.0002,Y_fourth_max)\n",
    "axs[3][1].tick_params(direction='in',labelleft=False)\n",
    "axs[3][1].text(0.5,0.9,r'${}<z_h<{}\\ \\ {}<Q^2<{}$ $GeV^2$'.format(z_cuts[1],z_cuts[2],Q2_cuts[3],Q2_cuts[4]), horizontalalignment='center', verticalalignment='center', transform=axs[3][1].transAxes)\n",
    "axs[3][1].text(0.5,0.8,r'${}<x_{{b}}<{}\\ \\ {}<P_{{hT}}<{}$ GeV/c'.format(xbj_cuts[0],xbj_cuts[1],PhT_cuts[0],PhT_cuts[1]), horizontalalignment='center', verticalalignment='center', transform=axs[3][1].transAxes)\n",
    "ratio_4_3=[]\n",
    "for i_4_3 in range(0,len(phih_4_3)):\n",
    "    _phih_4_3 = phih_4_3[i_4_3]\n",
    "    ratio_4_3.append(Fuu_4_3_stat[i_4_3]**2/Fuu_4_3_3xs_stat[i_4_3]**2)    \n",
    "axs[3][2].plot(phih_4_3,ratio_4_3,'ro')\n",
    "#axs[3][2].fill_between(phih_4_3_3xs,np.asarray(0),np.asarray(0)+np.asarray(Fuu_4_3_3xs_sys),color='red',hatch='\\\\\\\\\\\\\\\\',alpha=0.25,linewidth=0)\n",
    "axs[3][2].set_ylim(0.0002,Y_fourth_max)\n",
    "axs[3][2].tick_params(direction='in',labelleft=False)\n",
    "axs[3][2].text(0.5,0.9,r'${}<z_h<{}\\ \\   {}<Q^2<{}$ $GeV^2$'.format(z_cuts[2],z_cuts[3],Q2_cuts[3],Q2_cuts[4]), horizontalalignment='center', verticalalignment='center', transform=axs[3][2].transAxes)\n",
    "axs[3][2].text(0.5,0.8,r'${}<x_{{b}}<{}\\ \\  {}<P_{{hT}}<{}$ GeV/c'.format(xbj_cuts[0],xbj_cuts[1],PhT_cuts[0],PhT_cuts[1]), horizontalalignment='center', verticalalignment='center', transform=axs[3][2].transAxes)\n",
    "\n",
    "#axs[1][0].set_ylabel(r'${d \\bf{\\sigma}}/{dx_{bj}dydz_hdP^2_{hT}d\\phi_h}$ [$nb/GeV^2$]',fontsize=16)\n",
    "axs[1][0].set_ylabel(r'Acceptance',fontsize=16)\n",
    "\n",
    "#plt.show()\n",
    "plt.savefig('../Unpol_proposal/Materials/2024_acc/Acceptance.pdf')"
   ]
  },
  {
   "cell_type": "code",
   "execution_count": null,
   "id": "95e69dce",
   "metadata": {},
   "outputs": [],
   "source": []
  },
  {
   "cell_type": "code",
   "execution_count": null,
   "id": "7826a692",
   "metadata": {},
   "outputs": [],
   "source": []
  }
 ],
 "metadata": {
  "kernelspec": {
   "display_name": "Python 3 (ipykernel)",
   "language": "python",
   "name": "python3"
  },
  "language_info": {
   "codemirror_mode": {
    "name": "ipython",
    "version": 3
   },
   "file_extension": ".py",
   "mimetype": "text/x-python",
   "name": "python",
   "nbconvert_exporter": "python",
   "pygments_lexer": "ipython3",
   "version": "3.10.10"
  }
 },
 "nbformat": 4,
 "nbformat_minor": 5
}
