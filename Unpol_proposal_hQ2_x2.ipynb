{
 "cells": [
  {
   "cell_type": "code",
   "execution_count": 1,
   "id": "46b6e2ac",
   "metadata": {},
   "outputs": [],
   "source": [
    "import pandas as pd\n",
    "import numpy as np\n",
    "import matplotlib.pyplot as plt\n",
    "import math"
   ]
  },
  {
   "cell_type": "code",
   "execution_count": 2,
   "id": "9bef54c6",
   "metadata": {},
   "outputs": [],
   "source": [
    "Factor = 0.3894*1e6/137\n",
    "def Get_weighted_average(value,error):\n",
    "    #Factor=2841.438#((1/137)*0.3894*1e6)\n",
    "    Factor = 0.3894*1e6/137\n",
    "    sum_mean = 0\n",
    "    sum_sigma = 0\n",
    "    #print(value,error)\n",
    "    for i in range(len(value)):\n",
    "        #print(i,value[i],error[i])\n",
    "        sum_mean += value[i]/(error[i]*error[i])\n",
    "        sum_sigma += 1/(error[i]*error[i])\n",
    "    return Factor*sum_mean/sum_sigma,Factor*math.sqrt(1/sum_sigma)\n",
    "def Get_weighted_average_phi(value,error):\n",
    "    sum_mean = 0\n",
    "    sum_sigma = 0\n",
    "    #print(value,error)\n",
    "    for i in range(len(value)):\n",
    "        #print(i,value[i],error[i])\n",
    "        sum_mean += value[i]/(error[i]*error[i])\n",
    "        sum_sigma += 1/(error[i]*error[i])\n",
    "    return sum_mean/sum_sigma,math.sqrt(1/sum_sigma)\n",
    "#def Get_Sys_table(xl,pTl):\n",
    "#    if xl==0.25 and pTl==0:\n",
    "#        Sys=[[11.7/100,9.05/100,11.5/100],[12.4/100,10.1/100,10.9/100]]\n",
    "#        return Sys\n",
    "#    if xl==0.25 and pTl==0.2:\n",
    "#        Sys=[[9.72/100,8.35/100,10.6/100],[9.72/100,8.24/100,10.5/100]]\n",
    "#        return Sys\n",
    "def Get_Sys_table(xl,pTl):\n",
    "    if xl==0.25 and pTl==0:\n",
    "        #Sys=[[12.05/100,9.575/100,11.2/100],[12.05/100,9.575/100,11.2/100],[9.72/100,8.295/100,10.55/100]]\n",
    "        Sys=[[11/100,11/100,11/100],[11/100,11/100,11/100],[11/100,11/100,11/100]]\n",
    "        return Sys\n",
    "    if xl==0.25 and pTl==0.2:\n",
    "        #Sys=[[9.72/100,8.295/100,10.55/100],[9.72/100,8.295/100,10.55/100],[9.72/100,8.295/100,10.55/100]]\n",
    "        Sys=[[11/100,11/100,11/100],[11/100,11/100,11/100],[11/100,11/100,11/100]]\n",
    "        return Sys\n",
    "Factor_3xs=math.sqrt(5)"
   ]
  },
  {
   "cell_type": "code",
   "execution_count": 3,
   "id": "dae35881",
   "metadata": {
    "scrolled": true
   },
   "outputs": [
    {
     "data": {
      "text/html": [
       "<div>\n",
       "<style scoped>\n",
       "    .dataframe tbody tr th:only-of-type {\n",
       "        vertical-align: middle;\n",
       "    }\n",
       "\n",
       "    .dataframe tbody tr th {\n",
       "        vertical-align: top;\n",
       "    }\n",
       "\n",
       "    .dataframe thead th {\n",
       "        text-align: right;\n",
       "    }\n",
       "</style>\n",
       "<table border=\"1\" class=\"dataframe\">\n",
       "  <thead>\n",
       "    <tr style=\"text-align: right;\">\n",
       "      <th></th>\n",
       "      <th>i</th>\n",
       "      <th>Ebeam</th>\n",
       "      <th>x</th>\n",
       "      <th>phih</th>\n",
       "      <th>y</th>\n",
       "      <th>z</th>\n",
       "      <th>Q2</th>\n",
       "      <th>pT</th>\n",
       "      <th>obs</th>\n",
       "      <th>value</th>\n",
       "      <th>stat</th>\n",
       "      <th>systrel</th>\n",
       "      <th>systabs</th>\n",
       "      <th>target</th>\n",
       "      <th>hadron</th>\n",
       "      <th>Experiment</th>\n",
       "      <th>error</th>\n",
       "    </tr>\n",
       "  </thead>\n",
       "  <tbody>\n",
       "    <tr>\n",
       "      <th>0</th>\n",
       "      <td>0</td>\n",
       "      <td>11.0</td>\n",
       "      <td>0.325</td>\n",
       "      <td>-2.827688</td>\n",
       "      <td>0.596246</td>\n",
       "      <td>0.35</td>\n",
       "      <td>4.0</td>\n",
       "      <td>0.1</td>\n",
       "      <td>FUUT</td>\n",
       "      <td>0.008599</td>\n",
       "      <td>0.003264</td>\n",
       "      <td>0.0</td>\n",
       "      <td>0.0</td>\n",
       "      <td>neutron</td>\n",
       "      <td>pi-</td>\n",
       "      <td>solid</td>\n",
       "      <td>0.003264</td>\n",
       "    </tr>\n",
       "    <tr>\n",
       "      <th>1</th>\n",
       "      <td>1</td>\n",
       "      <td>11.0</td>\n",
       "      <td>0.325</td>\n",
       "      <td>-2.828786</td>\n",
       "      <td>0.596246</td>\n",
       "      <td>0.35</td>\n",
       "      <td>4.0</td>\n",
       "      <td>0.1</td>\n",
       "      <td>FUUT</td>\n",
       "      <td>0.008599</td>\n",
       "      <td>0.003457</td>\n",
       "      <td>0.0</td>\n",
       "      <td>0.0</td>\n",
       "      <td>neutron</td>\n",
       "      <td>pi-</td>\n",
       "      <td>solid</td>\n",
       "      <td>0.003457</td>\n",
       "    </tr>\n",
       "    <tr>\n",
       "      <th>2</th>\n",
       "      <td>2</td>\n",
       "      <td>11.0</td>\n",
       "      <td>0.325</td>\n",
       "      <td>-2.829194</td>\n",
       "      <td>0.596246</td>\n",
       "      <td>0.35</td>\n",
       "      <td>4.0</td>\n",
       "      <td>0.1</td>\n",
       "      <td>FUUT</td>\n",
       "      <td>0.008599</td>\n",
       "      <td>0.003210</td>\n",
       "      <td>0.0</td>\n",
       "      <td>0.0</td>\n",
       "      <td>neutron</td>\n",
       "      <td>pi-</td>\n",
       "      <td>solid</td>\n",
       "      <td>0.003210</td>\n",
       "    </tr>\n",
       "    <tr>\n",
       "      <th>3</th>\n",
       "      <td>3</td>\n",
       "      <td>11.0</td>\n",
       "      <td>0.325</td>\n",
       "      <td>-2.828039</td>\n",
       "      <td>0.596246</td>\n",
       "      <td>0.35</td>\n",
       "      <td>4.0</td>\n",
       "      <td>0.1</td>\n",
       "      <td>FUUT</td>\n",
       "      <td>0.008599</td>\n",
       "      <td>0.003424</td>\n",
       "      <td>0.0</td>\n",
       "      <td>0.0</td>\n",
       "      <td>neutron</td>\n",
       "      <td>pi-</td>\n",
       "      <td>solid</td>\n",
       "      <td>0.003424</td>\n",
       "    </tr>\n",
       "    <tr>\n",
       "      <th>4</th>\n",
       "      <td>4</td>\n",
       "      <td>11.0</td>\n",
       "      <td>0.325</td>\n",
       "      <td>-2.826910</td>\n",
       "      <td>0.596246</td>\n",
       "      <td>0.35</td>\n",
       "      <td>4.0</td>\n",
       "      <td>0.1</td>\n",
       "      <td>FUUT</td>\n",
       "      <td>0.008599</td>\n",
       "      <td>0.003343</td>\n",
       "      <td>0.0</td>\n",
       "      <td>0.0</td>\n",
       "      <td>neutron</td>\n",
       "      <td>pi-</td>\n",
       "      <td>solid</td>\n",
       "      <td>0.003343</td>\n",
       "    </tr>\n",
       "  </tbody>\n",
       "</table>\n",
       "</div>"
      ],
      "text/plain": [
       "   i  Ebeam      x      phih         y     z   Q2   pT   obs     value   \n",
       "0  0   11.0  0.325 -2.827688  0.596246  0.35  4.0  0.1  FUUT  0.008599  \\\n",
       "1  1   11.0  0.325 -2.828786  0.596246  0.35  4.0  0.1  FUUT  0.008599   \n",
       "2  2   11.0  0.325 -2.829194  0.596246  0.35  4.0  0.1  FUUT  0.008599   \n",
       "3  3   11.0  0.325 -2.828039  0.596246  0.35  4.0  0.1  FUUT  0.008599   \n",
       "4  4   11.0  0.325 -2.826910  0.596246  0.35  4.0  0.1  FUUT  0.008599   \n",
       "\n",
       "       stat  systrel  systabs   target hadron Experiment     error  \n",
       "0  0.003264      0.0      0.0  neutron    pi-      solid  0.003264  \n",
       "1  0.003457      0.0      0.0  neutron    pi-      solid  0.003457  \n",
       "2  0.003210      0.0      0.0  neutron    pi-      solid  0.003210  \n",
       "3  0.003424      0.0      0.0  neutron    pi-      solid  0.003424  \n",
       "4  0.003343      0.0      0.0  neutron    pi-      solid  0.003343  "
      ]
     },
     "execution_count": 3,
     "metadata": {},
     "output_type": "execute_result"
    }
   ],
   "source": [
    "#df_1xs_zQ2xbjPhT = pd.read_csv('../Unpol_proposal/Materials/output_hQ2_default_x2_stat0_pip.dat',delim_whitespace=True)\n",
    "#df_1xs_zQ2xbjPhT = pd.read_csv('../Unpol_proposal/Materials/output_hQ2_default_x2_lQ2_stat0_pip.dat',delim_whitespace=True)\n",
    "df_1xs_zQ2xbjPhT = pd.read_csv('../Unpol_proposal/Materials/output_hQ2_default_x2_lQ2_stat0_pim.dat',delim_whitespace=True)\n",
    "\n",
    "df_1xs_zQ2xbjPhT.head()\n",
    "#print(np.sort(df_1xs_zQ2xbjPhT['phih'].unique()))"
   ]
  },
  {
   "cell_type": "code",
   "execution_count": 4,
   "id": "db35c55f",
   "metadata": {
    "scrolled": true
   },
   "outputs": [
    {
     "data": {
      "text/html": [
       "<div>\n",
       "<style scoped>\n",
       "    .dataframe tbody tr th:only-of-type {\n",
       "        vertical-align: middle;\n",
       "    }\n",
       "\n",
       "    .dataframe tbody tr th {\n",
       "        vertical-align: top;\n",
       "    }\n",
       "\n",
       "    .dataframe thead th {\n",
       "        text-align: right;\n",
       "    }\n",
       "</style>\n",
       "<table border=\"1\" class=\"dataframe\">\n",
       "  <thead>\n",
       "    <tr style=\"text-align: right;\">\n",
       "      <th></th>\n",
       "      <th>i</th>\n",
       "      <th>Ebeam</th>\n",
       "      <th>x</th>\n",
       "      <th>phih</th>\n",
       "      <th>y</th>\n",
       "      <th>z</th>\n",
       "      <th>Q2</th>\n",
       "      <th>pT</th>\n",
       "      <th>obs</th>\n",
       "      <th>value</th>\n",
       "      <th>stat</th>\n",
       "      <th>systrel</th>\n",
       "      <th>systabs</th>\n",
       "      <th>target</th>\n",
       "      <th>hadron</th>\n",
       "      <th>Experiment</th>\n",
       "      <th>error</th>\n",
       "    </tr>\n",
       "  </thead>\n",
       "  <tbody>\n",
       "    <tr>\n",
       "      <th>0</th>\n",
       "      <td>0</td>\n",
       "      <td>11.0</td>\n",
       "      <td>0.325</td>\n",
       "      <td>-2.827688</td>\n",
       "      <td>0.596246</td>\n",
       "      <td>0.35</td>\n",
       "      <td>4.0</td>\n",
       "      <td>0.1</td>\n",
       "      <td>FUUT</td>\n",
       "      <td>0.009832</td>\n",
       "      <td>0.003264</td>\n",
       "      <td>0.0</td>\n",
       "      <td>0.0</td>\n",
       "      <td>neutron</td>\n",
       "      <td>pi-</td>\n",
       "      <td>solid</td>\n",
       "      <td>0.003264</td>\n",
       "    </tr>\n",
       "    <tr>\n",
       "      <th>1</th>\n",
       "      <td>1</td>\n",
       "      <td>11.0</td>\n",
       "      <td>0.325</td>\n",
       "      <td>-2.828786</td>\n",
       "      <td>0.596246</td>\n",
       "      <td>0.35</td>\n",
       "      <td>4.0</td>\n",
       "      <td>0.1</td>\n",
       "      <td>FUUT</td>\n",
       "      <td>0.009833</td>\n",
       "      <td>0.003457</td>\n",
       "      <td>0.0</td>\n",
       "      <td>0.0</td>\n",
       "      <td>neutron</td>\n",
       "      <td>pi-</td>\n",
       "      <td>solid</td>\n",
       "      <td>0.003457</td>\n",
       "    </tr>\n",
       "    <tr>\n",
       "      <th>2</th>\n",
       "      <td>2</td>\n",
       "      <td>11.0</td>\n",
       "      <td>0.325</td>\n",
       "      <td>-2.829194</td>\n",
       "      <td>0.596246</td>\n",
       "      <td>0.35</td>\n",
       "      <td>4.0</td>\n",
       "      <td>0.1</td>\n",
       "      <td>FUUT</td>\n",
       "      <td>0.009833</td>\n",
       "      <td>0.003210</td>\n",
       "      <td>0.0</td>\n",
       "      <td>0.0</td>\n",
       "      <td>neutron</td>\n",
       "      <td>pi-</td>\n",
       "      <td>solid</td>\n",
       "      <td>0.003210</td>\n",
       "    </tr>\n",
       "    <tr>\n",
       "      <th>3</th>\n",
       "      <td>3</td>\n",
       "      <td>11.0</td>\n",
       "      <td>0.325</td>\n",
       "      <td>-2.828039</td>\n",
       "      <td>0.596246</td>\n",
       "      <td>0.35</td>\n",
       "      <td>4.0</td>\n",
       "      <td>0.1</td>\n",
       "      <td>FUUT</td>\n",
       "      <td>0.009832</td>\n",
       "      <td>0.003424</td>\n",
       "      <td>0.0</td>\n",
       "      <td>0.0</td>\n",
       "      <td>neutron</td>\n",
       "      <td>pi-</td>\n",
       "      <td>solid</td>\n",
       "      <td>0.003424</td>\n",
       "    </tr>\n",
       "    <tr>\n",
       "      <th>4</th>\n",
       "      <td>4</td>\n",
       "      <td>11.0</td>\n",
       "      <td>0.325</td>\n",
       "      <td>-2.826910</td>\n",
       "      <td>0.596246</td>\n",
       "      <td>0.35</td>\n",
       "      <td>4.0</td>\n",
       "      <td>0.1</td>\n",
       "      <td>FUUT</td>\n",
       "      <td>0.009832</td>\n",
       "      <td>0.003343</td>\n",
       "      <td>0.0</td>\n",
       "      <td>0.0</td>\n",
       "      <td>neutron</td>\n",
       "      <td>pi-</td>\n",
       "      <td>solid</td>\n",
       "      <td>0.003343</td>\n",
       "    </tr>\n",
       "  </tbody>\n",
       "</table>\n",
       "</div>"
      ],
      "text/plain": [
       "   i  Ebeam      x      phih         y     z   Q2   pT   obs     value   \n",
       "0  0   11.0  0.325 -2.827688  0.596246  0.35  4.0  0.1  FUUT  0.009832  \\\n",
       "1  1   11.0  0.325 -2.828786  0.596246  0.35  4.0  0.1  FUUT  0.009833   \n",
       "2  2   11.0  0.325 -2.829194  0.596246  0.35  4.0  0.1  FUUT  0.009833   \n",
       "3  3   11.0  0.325 -2.828039  0.596246  0.35  4.0  0.1  FUUT  0.009832   \n",
       "4  4   11.0  0.325 -2.826910  0.596246  0.35  4.0  0.1  FUUT  0.009832   \n",
       "\n",
       "       stat  systrel  systabs   target hadron Experiment     error  \n",
       "0  0.003264      0.0      0.0  neutron    pi-      solid  0.003264  \n",
       "1  0.003457      0.0      0.0  neutron    pi-      solid  0.003457  \n",
       "2  0.003210      0.0      0.0  neutron    pi-      solid  0.003210  \n",
       "3  0.003424      0.0      0.0  neutron    pi-      solid  0.003424  \n",
       "4  0.003343      0.0      0.0  neutron    pi-      solid  0.003343  "
      ]
     },
     "execution_count": 4,
     "metadata": {},
     "output_type": "execute_result"
    }
   ],
   "source": [
    "#df_3xs_zQ2xbjPhT = pd.read_csv('../Unpol_proposal/Materials/output_hQ2_default3xs_x2_stat0_pip.dat',delim_whitespace=True)#it's actually stat0, this is for pip\n",
    "#df_3xs_zQ2xbjPhT = pd.read_csv('../Unpol_proposal/Materials/output_hQ2_default3xs_x2_lQ2_stat0_pip.dat',delim_whitespace=True)#it's actually stat0, this is for pip\n",
    "df_3xs_zQ2xbjPhT = pd.read_csv('../Unpol_proposal/Materials/output_hQ2_default3xs_x2_lQ2_stat0_pim.dat',delim_whitespace=True)#it's actually stat0, this is for pip\n",
    "\n",
    "df_3xs_zQ2xbjPhT.head()"
   ]
  },
  {
   "cell_type": "code",
   "execution_count": 5,
   "id": "647ddbe4",
   "metadata": {
    "scrolled": true
   },
   "outputs": [
    {
     "name": "stdout",
     "output_type": "stream",
     "text": [
      "3.141592653589793\n"
     ]
    }
   ],
   "source": [
    "PI = math.pi\n",
    "print(PI)\n",
    "z_cuts=[0.3,0.4,0.5,0.6]\n",
    "#z_cuts=[0.3,0.35,0.4,0.45]\n",
    "#Q2_cuts=[1,2,3,4,5]\n",
    "#Q2_cuts=[3,5,6,8,9]\n",
    "Q2_cuts=[3,9,9,9,9]\n",
    "#Q2_cuts=[3,3.5,4,4.5,5]\n",
    "xbj_cuts=[0.25,0.4]\n",
    "PhT_cuts=[0,0.2]\n",
    "#PhT_cuts=[0.2,0.4]\n",
    "#PhT_cuts=[0.4,0.6]\n",
    "#phih_bins = [-3.14,-2.5,-2,-1.5,-1,-0.5,0,0.5,1,1.5,2,2.5,3.14]\n",
    "phih_bins =[-PI,-4*PI/5,-3*PI/5,-2*PI/5,-PI/5,PI/5,2*PI/5,3*PI/5,4*PI/5,PI]\n",
    "#phih_bins =[-PI,-0.9*PI,-0.8*PI,-0.7*PI,-0.6*PI,-0.5*PI,-0.4*PI,-0.3*PI,-0.2*PI,-0.1*PI,0,0.1*PI,0.2*PI,0.3*PI,0.4*PI,0.5*PI,0.6*PI,0.7*PI,0.8*PI,0.9*PI,PI]\n",
    "df_1xs_zQ2=df_1xs_zQ2xbjPhT[(df_1xs_zQ2xbjPhT['Ebeam']==11)&(df_1xs_zQ2xbjPhT['x']>xbj_cuts[0])&(df_1xs_zQ2xbjPhT['x']<xbj_cuts[1])&(df_1xs_zQ2xbjPhT['pT']>PhT_cuts[0])&(df_1xs_zQ2xbjPhT['pT']<PhT_cuts[1])]\n",
    "df_3xs_zQ2=df_3xs_zQ2xbjPhT[(df_3xs_zQ2xbjPhT['Ebeam']==11)&(df_3xs_zQ2xbjPhT['x']>xbj_cuts[0])&(df_3xs_zQ2xbjPhT['x']<xbj_cuts[1])&(df_3xs_zQ2xbjPhT['pT']>PhT_cuts[0])&(df_3xs_zQ2xbjPhT['pT']<PhT_cuts[1])]\n",
    "Sys_table = Get_Sys_table(xbj_cuts[0],PhT_cuts[0])"
   ]
  },
  {
   "cell_type": "code",
   "execution_count": 6,
   "id": "a4d3a3e4-6386-4c8e-80a1-6f1366b635f1",
   "metadata": {
    "tags": []
   },
   "outputs": [
    {
     "name": "stdout",
     "output_type": "stream",
     "text": [
      "0.11\n"
     ]
    }
   ],
   "source": [
    "print(Sys_table[2][2])"
   ]
  },
  {
   "cell_type": "code",
   "execution_count": 7,
   "id": "a584580b",
   "metadata": {},
   "outputs": [
    {
     "name": "stdout",
     "output_type": "stream",
     "text": [
      "1340\n",
      "1337\n"
     ]
    },
    {
     "name": "stderr",
     "output_type": "stream",
     "text": [
      "/var/folders/j9/hgt6bjfn0n78rvsbnlc10rqh0000gp/T/ipykernel_5407/2668002078.py:1: UserWarning: Boolean Series key will be reindexed to match DataFrame index.\n",
      "  df_1xs_1_1 = df_1xs_zQ2[df_1xs_zQ2['z']>z_cuts[0]][df_1xs_zQ2['z']<z_cuts[1]][df_1xs_zQ2['Q2']>Q2_cuts[0]][df_1xs_zQ2['Q2']<Q2_cuts[1]]\n",
      "/var/folders/j9/hgt6bjfn0n78rvsbnlc10rqh0000gp/T/ipykernel_5407/2668002078.py:1: UserWarning: Boolean Series key will be reindexed to match DataFrame index.\n",
      "  df_1xs_1_1 = df_1xs_zQ2[df_1xs_zQ2['z']>z_cuts[0]][df_1xs_zQ2['z']<z_cuts[1]][df_1xs_zQ2['Q2']>Q2_cuts[0]][df_1xs_zQ2['Q2']<Q2_cuts[1]]\n"
     ]
    }
   ],
   "source": [
    "df_1xs_1_1 = df_1xs_zQ2[df_1xs_zQ2['z']>z_cuts[0]][df_1xs_zQ2['z']<z_cuts[1]][df_1xs_zQ2['Q2']>Q2_cuts[0]][df_1xs_zQ2['Q2']<Q2_cuts[1]]\n",
    "print(len(df_1xs_1_1[df_1xs_1_1['Ebeam']==11.0]))\n",
    "print(len(df_1xs_1_1[df_1xs_1_1['Ebeam']==11.0]['phih'].unique()))"
   ]
  },
  {
   "cell_type": "code",
   "execution_count": 8,
   "id": "03421260",
   "metadata": {},
   "outputs": [
    {
     "name": "stdout",
     "output_type": "stream",
     "text": [
      "1340\n",
      "1337\n"
     ]
    },
    {
     "name": "stderr",
     "output_type": "stream",
     "text": [
      "/var/folders/j9/hgt6bjfn0n78rvsbnlc10rqh0000gp/T/ipykernel_5407/1735272136.py:1: UserWarning: Boolean Series key will be reindexed to match DataFrame index.\n",
      "  df_3xs_1_1 = df_3xs_zQ2[df_3xs_zQ2['z']>z_cuts[0]][df_3xs_zQ2['z']<z_cuts[1]][df_3xs_zQ2['Q2']>Q2_cuts[0]][df_3xs_zQ2['Q2']<Q2_cuts[1]]\n",
      "/var/folders/j9/hgt6bjfn0n78rvsbnlc10rqh0000gp/T/ipykernel_5407/1735272136.py:1: UserWarning: Boolean Series key will be reindexed to match DataFrame index.\n",
      "  df_3xs_1_1 = df_3xs_zQ2[df_3xs_zQ2['z']>z_cuts[0]][df_3xs_zQ2['z']<z_cuts[1]][df_3xs_zQ2['Q2']>Q2_cuts[0]][df_3xs_zQ2['Q2']<Q2_cuts[1]]\n"
     ]
    }
   ],
   "source": [
    "df_3xs_1_1 = df_3xs_zQ2[df_3xs_zQ2['z']>z_cuts[0]][df_3xs_zQ2['z']<z_cuts[1]][df_3xs_zQ2['Q2']>Q2_cuts[0]][df_3xs_zQ2['Q2']<Q2_cuts[1]]\n",
    "print(len(df_3xs_1_1[df_3xs_1_1['Ebeam']==11.0]))\n",
    "print(len(df_3xs_1_1[df_3xs_1_1['Ebeam']==11.0]['phih'].unique()))"
   ]
  },
  {
   "cell_type": "code",
   "execution_count": 9,
   "id": "e7518a7d",
   "metadata": {},
   "outputs": [
    {
     "name": "stdout",
     "output_type": "stream",
     "text": [
      "1340\n",
      "1337\n"
     ]
    },
    {
     "name": "stderr",
     "output_type": "stream",
     "text": [
      "/var/folders/j9/hgt6bjfn0n78rvsbnlc10rqh0000gp/T/ipykernel_5407/187137021.py:1: UserWarning: Boolean Series key will be reindexed to match DataFrame index.\n",
      "  df_1xs_1_2 = df_1xs_zQ2[df_1xs_zQ2['z']>z_cuts[1]][df_1xs_zQ2['z']<z_cuts[2]][df_1xs_zQ2['Q2']>Q2_cuts[0]][df_1xs_zQ2['Q2']<Q2_cuts[1]]\n",
      "/var/folders/j9/hgt6bjfn0n78rvsbnlc10rqh0000gp/T/ipykernel_5407/187137021.py:1: UserWarning: Boolean Series key will be reindexed to match DataFrame index.\n",
      "  df_1xs_1_2 = df_1xs_zQ2[df_1xs_zQ2['z']>z_cuts[1]][df_1xs_zQ2['z']<z_cuts[2]][df_1xs_zQ2['Q2']>Q2_cuts[0]][df_1xs_zQ2['Q2']<Q2_cuts[1]]\n",
      "/var/folders/j9/hgt6bjfn0n78rvsbnlc10rqh0000gp/T/ipykernel_5407/187137021.py:1: UserWarning: Boolean Series key will be reindexed to match DataFrame index.\n",
      "  df_1xs_1_2 = df_1xs_zQ2[df_1xs_zQ2['z']>z_cuts[1]][df_1xs_zQ2['z']<z_cuts[2]][df_1xs_zQ2['Q2']>Q2_cuts[0]][df_1xs_zQ2['Q2']<Q2_cuts[1]]\n"
     ]
    }
   ],
   "source": [
    "df_1xs_1_2 = df_1xs_zQ2[df_1xs_zQ2['z']>z_cuts[1]][df_1xs_zQ2['z']<z_cuts[2]][df_1xs_zQ2['Q2']>Q2_cuts[0]][df_1xs_zQ2['Q2']<Q2_cuts[1]]\n",
    "print(len(df_1xs_1_1[df_1xs_1_1['Ebeam']==11.0]))\n",
    "print(len(df_1xs_1_1[df_1xs_1_1['Ebeam']==11.0]['phih'].unique()))"
   ]
  },
  {
   "cell_type": "code",
   "execution_count": 10,
   "id": "bd45ccde",
   "metadata": {},
   "outputs": [
    {
     "name": "stdout",
     "output_type": "stream",
     "text": [
      "1340\n",
      "1337\n"
     ]
    },
    {
     "name": "stderr",
     "output_type": "stream",
     "text": [
      "/var/folders/j9/hgt6bjfn0n78rvsbnlc10rqh0000gp/T/ipykernel_5407/660959689.py:1: UserWarning: Boolean Series key will be reindexed to match DataFrame index.\n",
      "  df_3xs_1_2 = df_3xs_zQ2[df_3xs_zQ2['z']>z_cuts[1]][df_3xs_zQ2['z']<z_cuts[2]][df_3xs_zQ2['Q2']>Q2_cuts[0]][df_3xs_zQ2['Q2']<Q2_cuts[1]]\n",
      "/var/folders/j9/hgt6bjfn0n78rvsbnlc10rqh0000gp/T/ipykernel_5407/660959689.py:1: UserWarning: Boolean Series key will be reindexed to match DataFrame index.\n",
      "  df_3xs_1_2 = df_3xs_zQ2[df_3xs_zQ2['z']>z_cuts[1]][df_3xs_zQ2['z']<z_cuts[2]][df_3xs_zQ2['Q2']>Q2_cuts[0]][df_3xs_zQ2['Q2']<Q2_cuts[1]]\n",
      "/var/folders/j9/hgt6bjfn0n78rvsbnlc10rqh0000gp/T/ipykernel_5407/660959689.py:1: UserWarning: Boolean Series key will be reindexed to match DataFrame index.\n",
      "  df_3xs_1_2 = df_3xs_zQ2[df_3xs_zQ2['z']>z_cuts[1]][df_3xs_zQ2['z']<z_cuts[2]][df_3xs_zQ2['Q2']>Q2_cuts[0]][df_3xs_zQ2['Q2']<Q2_cuts[1]]\n"
     ]
    }
   ],
   "source": [
    "df_3xs_1_2 = df_3xs_zQ2[df_3xs_zQ2['z']>z_cuts[1]][df_3xs_zQ2['z']<z_cuts[2]][df_3xs_zQ2['Q2']>Q2_cuts[0]][df_3xs_zQ2['Q2']<Q2_cuts[1]]\n",
    "print(len(df_3xs_1_1[df_3xs_1_1['Ebeam']==11.0]))\n",
    "print(len(df_3xs_1_1[df_3xs_1_1['Ebeam']==11.0]['phih'].unique()))"
   ]
  },
  {
   "cell_type": "code",
   "execution_count": 11,
   "id": "640b0d75",
   "metadata": {},
   "outputs": [
    {
     "name": "stdout",
     "output_type": "stream",
     "text": [
      "1340\n",
      "1337\n"
     ]
    },
    {
     "name": "stderr",
     "output_type": "stream",
     "text": [
      "/var/folders/j9/hgt6bjfn0n78rvsbnlc10rqh0000gp/T/ipykernel_5407/2016405503.py:1: UserWarning: Boolean Series key will be reindexed to match DataFrame index.\n",
      "  df_1xs_1_3 = df_1xs_zQ2[df_1xs_zQ2['z']>z_cuts[2]][df_1xs_zQ2['z']<z_cuts[3]][df_1xs_zQ2['Q2']>Q2_cuts[0]][df_1xs_zQ2['Q2']<Q2_cuts[1]]\n",
      "/var/folders/j9/hgt6bjfn0n78rvsbnlc10rqh0000gp/T/ipykernel_5407/2016405503.py:1: UserWarning: Boolean Series key will be reindexed to match DataFrame index.\n",
      "  df_1xs_1_3 = df_1xs_zQ2[df_1xs_zQ2['z']>z_cuts[2]][df_1xs_zQ2['z']<z_cuts[3]][df_1xs_zQ2['Q2']>Q2_cuts[0]][df_1xs_zQ2['Q2']<Q2_cuts[1]]\n",
      "/var/folders/j9/hgt6bjfn0n78rvsbnlc10rqh0000gp/T/ipykernel_5407/2016405503.py:1: UserWarning: Boolean Series key will be reindexed to match DataFrame index.\n",
      "  df_1xs_1_3 = df_1xs_zQ2[df_1xs_zQ2['z']>z_cuts[2]][df_1xs_zQ2['z']<z_cuts[3]][df_1xs_zQ2['Q2']>Q2_cuts[0]][df_1xs_zQ2['Q2']<Q2_cuts[1]]\n"
     ]
    }
   ],
   "source": [
    "df_1xs_1_3 = df_1xs_zQ2[df_1xs_zQ2['z']>z_cuts[2]][df_1xs_zQ2['z']<z_cuts[3]][df_1xs_zQ2['Q2']>Q2_cuts[0]][df_1xs_zQ2['Q2']<Q2_cuts[1]]\n",
    "print(len(df_1xs_1_1[df_1xs_1_1['Ebeam']==11.0]))\n",
    "print(len(df_1xs_1_1[df_1xs_1_1['Ebeam']==11.0]['phih'].unique()))"
   ]
  },
  {
   "cell_type": "code",
   "execution_count": 12,
   "id": "63ffe9ad",
   "metadata": {},
   "outputs": [
    {
     "name": "stdout",
     "output_type": "stream",
     "text": [
      "1340\n",
      "1337\n"
     ]
    },
    {
     "name": "stderr",
     "output_type": "stream",
     "text": [
      "/var/folders/j9/hgt6bjfn0n78rvsbnlc10rqh0000gp/T/ipykernel_5407/2130574157.py:1: UserWarning: Boolean Series key will be reindexed to match DataFrame index.\n",
      "  df_3xs_1_3 = df_3xs_zQ2[df_3xs_zQ2['z']>z_cuts[2]][df_3xs_zQ2['z']<z_cuts[3]][df_3xs_zQ2['Q2']>Q2_cuts[0]][df_3xs_zQ2['Q2']<Q2_cuts[1]]\n",
      "/var/folders/j9/hgt6bjfn0n78rvsbnlc10rqh0000gp/T/ipykernel_5407/2130574157.py:1: UserWarning: Boolean Series key will be reindexed to match DataFrame index.\n",
      "  df_3xs_1_3 = df_3xs_zQ2[df_3xs_zQ2['z']>z_cuts[2]][df_3xs_zQ2['z']<z_cuts[3]][df_3xs_zQ2['Q2']>Q2_cuts[0]][df_3xs_zQ2['Q2']<Q2_cuts[1]]\n",
      "/var/folders/j9/hgt6bjfn0n78rvsbnlc10rqh0000gp/T/ipykernel_5407/2130574157.py:1: UserWarning: Boolean Series key will be reindexed to match DataFrame index.\n",
      "  df_3xs_1_3 = df_3xs_zQ2[df_3xs_zQ2['z']>z_cuts[2]][df_3xs_zQ2['z']<z_cuts[3]][df_3xs_zQ2['Q2']>Q2_cuts[0]][df_3xs_zQ2['Q2']<Q2_cuts[1]]\n"
     ]
    }
   ],
   "source": [
    "df_3xs_1_3 = df_3xs_zQ2[df_3xs_zQ2['z']>z_cuts[2]][df_3xs_zQ2['z']<z_cuts[3]][df_3xs_zQ2['Q2']>Q2_cuts[0]][df_3xs_zQ2['Q2']<Q2_cuts[1]]\n",
    "print(len(df_3xs_1_1[df_3xs_1_1['Ebeam']==11.0]))\n",
    "print(len(df_3xs_1_1[df_3xs_1_1['Ebeam']==11.0]['phih'].unique()))"
   ]
  },
  {
   "cell_type": "code",
   "execution_count": 13,
   "id": "b244be00",
   "metadata": {
    "scrolled": true
   },
   "outputs": [
    {
     "name": "stdout",
     "output_type": "stream",
     "text": [
      "1340\n",
      "1337\n"
     ]
    },
    {
     "name": "stderr",
     "output_type": "stream",
     "text": [
      "/var/folders/j9/hgt6bjfn0n78rvsbnlc10rqh0000gp/T/ipykernel_5407/4258856607.py:1: UserWarning: Boolean Series key will be reindexed to match DataFrame index.\n",
      "  df_1xs_2_1 = df_1xs_zQ2[df_1xs_zQ2['z']>z_cuts[0]][df_1xs_zQ2['z']<z_cuts[1]][df_1xs_zQ2['Q2']>Q2_cuts[1]][df_1xs_zQ2['Q2']<Q2_cuts[2]]\n",
      "/var/folders/j9/hgt6bjfn0n78rvsbnlc10rqh0000gp/T/ipykernel_5407/4258856607.py:1: UserWarning: Boolean Series key will be reindexed to match DataFrame index.\n",
      "  df_1xs_2_1 = df_1xs_zQ2[df_1xs_zQ2['z']>z_cuts[0]][df_1xs_zQ2['z']<z_cuts[1]][df_1xs_zQ2['Q2']>Q2_cuts[1]][df_1xs_zQ2['Q2']<Q2_cuts[2]]\n"
     ]
    }
   ],
   "source": [
    "df_1xs_2_1 = df_1xs_zQ2[df_1xs_zQ2['z']>z_cuts[0]][df_1xs_zQ2['z']<z_cuts[1]][df_1xs_zQ2['Q2']>Q2_cuts[1]][df_1xs_zQ2['Q2']<Q2_cuts[2]]\n",
    "print(len(df_1xs_1_1[df_1xs_1_1['Ebeam']==11.0]))\n",
    "print(len(df_1xs_1_1[df_1xs_1_1['Ebeam']==11.0]['phih'].unique()))"
   ]
  },
  {
   "cell_type": "code",
   "execution_count": 14,
   "id": "cdb0919f",
   "metadata": {
    "scrolled": true
   },
   "outputs": [
    {
     "name": "stdout",
     "output_type": "stream",
     "text": [
      "1340\n",
      "1337\n"
     ]
    },
    {
     "name": "stderr",
     "output_type": "stream",
     "text": [
      "/var/folders/j9/hgt6bjfn0n78rvsbnlc10rqh0000gp/T/ipykernel_5407/38913910.py:1: UserWarning: Boolean Series key will be reindexed to match DataFrame index.\n",
      "  df_3xs_2_1 = df_3xs_zQ2[df_3xs_zQ2['z']>z_cuts[0]][df_3xs_zQ2['z']<z_cuts[1]][df_3xs_zQ2['Q2']>Q2_cuts[1]][df_3xs_zQ2['Q2']<Q2_cuts[2]]\n",
      "/var/folders/j9/hgt6bjfn0n78rvsbnlc10rqh0000gp/T/ipykernel_5407/38913910.py:1: UserWarning: Boolean Series key will be reindexed to match DataFrame index.\n",
      "  df_3xs_2_1 = df_3xs_zQ2[df_3xs_zQ2['z']>z_cuts[0]][df_3xs_zQ2['z']<z_cuts[1]][df_3xs_zQ2['Q2']>Q2_cuts[1]][df_3xs_zQ2['Q2']<Q2_cuts[2]]\n"
     ]
    }
   ],
   "source": [
    "df_3xs_2_1 = df_3xs_zQ2[df_3xs_zQ2['z']>z_cuts[0]][df_3xs_zQ2['z']<z_cuts[1]][df_3xs_zQ2['Q2']>Q2_cuts[1]][df_3xs_zQ2['Q2']<Q2_cuts[2]]\n",
    "print(len(df_3xs_1_1[df_3xs_1_1['Ebeam']==11.0]))\n",
    "print(len(df_3xs_1_1[df_3xs_1_1['Ebeam']==11.0]['phih'].unique()))"
   ]
  },
  {
   "cell_type": "code",
   "execution_count": 15,
   "id": "1026a51c",
   "metadata": {},
   "outputs": [
    {
     "name": "stdout",
     "output_type": "stream",
     "text": [
      "1340\n",
      "1337\n"
     ]
    },
    {
     "name": "stderr",
     "output_type": "stream",
     "text": [
      "/var/folders/j9/hgt6bjfn0n78rvsbnlc10rqh0000gp/T/ipykernel_5407/957587887.py:1: UserWarning: Boolean Series key will be reindexed to match DataFrame index.\n",
      "  df_1xs_2_2 = df_1xs_zQ2[df_1xs_zQ2['z']>z_cuts[1]][df_1xs_zQ2['z']<z_cuts[2]][df_1xs_zQ2['Q2']>Q2_cuts[1]][df_1xs_zQ2['Q2']<Q2_cuts[2]]\n",
      "/var/folders/j9/hgt6bjfn0n78rvsbnlc10rqh0000gp/T/ipykernel_5407/957587887.py:1: UserWarning: Boolean Series key will be reindexed to match DataFrame index.\n",
      "  df_1xs_2_2 = df_1xs_zQ2[df_1xs_zQ2['z']>z_cuts[1]][df_1xs_zQ2['z']<z_cuts[2]][df_1xs_zQ2['Q2']>Q2_cuts[1]][df_1xs_zQ2['Q2']<Q2_cuts[2]]\n",
      "/var/folders/j9/hgt6bjfn0n78rvsbnlc10rqh0000gp/T/ipykernel_5407/957587887.py:1: UserWarning: Boolean Series key will be reindexed to match DataFrame index.\n",
      "  df_1xs_2_2 = df_1xs_zQ2[df_1xs_zQ2['z']>z_cuts[1]][df_1xs_zQ2['z']<z_cuts[2]][df_1xs_zQ2['Q2']>Q2_cuts[1]][df_1xs_zQ2['Q2']<Q2_cuts[2]]\n"
     ]
    }
   ],
   "source": [
    "df_1xs_2_2 = df_1xs_zQ2[df_1xs_zQ2['z']>z_cuts[1]][df_1xs_zQ2['z']<z_cuts[2]][df_1xs_zQ2['Q2']>Q2_cuts[1]][df_1xs_zQ2['Q2']<Q2_cuts[2]]\n",
    "print(len(df_1xs_1_1[df_1xs_1_1['Ebeam']==11.0]))\n",
    "print(len(df_1xs_1_1[df_1xs_1_1['Ebeam']==11.0]['phih'].unique()))"
   ]
  },
  {
   "cell_type": "code",
   "execution_count": 16,
   "id": "e64dc8df",
   "metadata": {},
   "outputs": [
    {
     "name": "stdout",
     "output_type": "stream",
     "text": [
      "1340\n",
      "1337\n"
     ]
    },
    {
     "name": "stderr",
     "output_type": "stream",
     "text": [
      "/var/folders/j9/hgt6bjfn0n78rvsbnlc10rqh0000gp/T/ipykernel_5407/1303666535.py:1: UserWarning: Boolean Series key will be reindexed to match DataFrame index.\n",
      "  df_3xs_2_2 = df_3xs_zQ2[df_3xs_zQ2['z']>z_cuts[1]][df_3xs_zQ2['z']<z_cuts[2]][df_3xs_zQ2['Q2']>Q2_cuts[1]][df_3xs_zQ2['Q2']<Q2_cuts[2]]\n",
      "/var/folders/j9/hgt6bjfn0n78rvsbnlc10rqh0000gp/T/ipykernel_5407/1303666535.py:1: UserWarning: Boolean Series key will be reindexed to match DataFrame index.\n",
      "  df_3xs_2_2 = df_3xs_zQ2[df_3xs_zQ2['z']>z_cuts[1]][df_3xs_zQ2['z']<z_cuts[2]][df_3xs_zQ2['Q2']>Q2_cuts[1]][df_3xs_zQ2['Q2']<Q2_cuts[2]]\n",
      "/var/folders/j9/hgt6bjfn0n78rvsbnlc10rqh0000gp/T/ipykernel_5407/1303666535.py:1: UserWarning: Boolean Series key will be reindexed to match DataFrame index.\n",
      "  df_3xs_2_2 = df_3xs_zQ2[df_3xs_zQ2['z']>z_cuts[1]][df_3xs_zQ2['z']<z_cuts[2]][df_3xs_zQ2['Q2']>Q2_cuts[1]][df_3xs_zQ2['Q2']<Q2_cuts[2]]\n"
     ]
    }
   ],
   "source": [
    "df_3xs_2_2 = df_3xs_zQ2[df_3xs_zQ2['z']>z_cuts[1]][df_3xs_zQ2['z']<z_cuts[2]][df_3xs_zQ2['Q2']>Q2_cuts[1]][df_3xs_zQ2['Q2']<Q2_cuts[2]]\n",
    "print(len(df_3xs_1_1[df_3xs_1_1['Ebeam']==11.0]))\n",
    "print(len(df_3xs_1_1[df_3xs_1_1['Ebeam']==11.0]['phih'].unique()))"
   ]
  },
  {
   "cell_type": "code",
   "execution_count": 17,
   "id": "95a56d30",
   "metadata": {},
   "outputs": [
    {
     "name": "stdout",
     "output_type": "stream",
     "text": [
      "1340\n",
      "1337\n"
     ]
    },
    {
     "name": "stderr",
     "output_type": "stream",
     "text": [
      "/var/folders/j9/hgt6bjfn0n78rvsbnlc10rqh0000gp/T/ipykernel_5407/614530096.py:1: UserWarning: Boolean Series key will be reindexed to match DataFrame index.\n",
      "  df_1xs_2_3 = df_1xs_zQ2[df_1xs_zQ2['z']>z_cuts[2]][df_1xs_zQ2['z']<z_cuts[3]][df_1xs_zQ2['Q2']>Q2_cuts[1]][df_1xs_zQ2['Q2']<Q2_cuts[2]]\n",
      "/var/folders/j9/hgt6bjfn0n78rvsbnlc10rqh0000gp/T/ipykernel_5407/614530096.py:1: UserWarning: Boolean Series key will be reindexed to match DataFrame index.\n",
      "  df_1xs_2_3 = df_1xs_zQ2[df_1xs_zQ2['z']>z_cuts[2]][df_1xs_zQ2['z']<z_cuts[3]][df_1xs_zQ2['Q2']>Q2_cuts[1]][df_1xs_zQ2['Q2']<Q2_cuts[2]]\n",
      "/var/folders/j9/hgt6bjfn0n78rvsbnlc10rqh0000gp/T/ipykernel_5407/614530096.py:1: UserWarning: Boolean Series key will be reindexed to match DataFrame index.\n",
      "  df_1xs_2_3 = df_1xs_zQ2[df_1xs_zQ2['z']>z_cuts[2]][df_1xs_zQ2['z']<z_cuts[3]][df_1xs_zQ2['Q2']>Q2_cuts[1]][df_1xs_zQ2['Q2']<Q2_cuts[2]]\n"
     ]
    }
   ],
   "source": [
    "df_1xs_2_3 = df_1xs_zQ2[df_1xs_zQ2['z']>z_cuts[2]][df_1xs_zQ2['z']<z_cuts[3]][df_1xs_zQ2['Q2']>Q2_cuts[1]][df_1xs_zQ2['Q2']<Q2_cuts[2]]\n",
    "print(len(df_1xs_1_1[df_1xs_1_1['Ebeam']==11.0]))\n",
    "print(len(df_1xs_1_1[df_1xs_1_1['Ebeam']==11.0]['phih'].unique()))"
   ]
  },
  {
   "cell_type": "code",
   "execution_count": 18,
   "id": "b31752c2",
   "metadata": {},
   "outputs": [
    {
     "name": "stdout",
     "output_type": "stream",
     "text": [
      "1340\n",
      "1337\n"
     ]
    },
    {
     "name": "stderr",
     "output_type": "stream",
     "text": [
      "/var/folders/j9/hgt6bjfn0n78rvsbnlc10rqh0000gp/T/ipykernel_5407/2563255446.py:1: UserWarning: Boolean Series key will be reindexed to match DataFrame index.\n",
      "  df_3xs_2_3 = df_3xs_zQ2[df_3xs_zQ2['z']>z_cuts[2]][df_3xs_zQ2['z']<z_cuts[3]][df_3xs_zQ2['Q2']>Q2_cuts[1]][df_3xs_zQ2['Q2']<Q2_cuts[2]]\n",
      "/var/folders/j9/hgt6bjfn0n78rvsbnlc10rqh0000gp/T/ipykernel_5407/2563255446.py:1: UserWarning: Boolean Series key will be reindexed to match DataFrame index.\n",
      "  df_3xs_2_3 = df_3xs_zQ2[df_3xs_zQ2['z']>z_cuts[2]][df_3xs_zQ2['z']<z_cuts[3]][df_3xs_zQ2['Q2']>Q2_cuts[1]][df_3xs_zQ2['Q2']<Q2_cuts[2]]\n",
      "/var/folders/j9/hgt6bjfn0n78rvsbnlc10rqh0000gp/T/ipykernel_5407/2563255446.py:1: UserWarning: Boolean Series key will be reindexed to match DataFrame index.\n",
      "  df_3xs_2_3 = df_3xs_zQ2[df_3xs_zQ2['z']>z_cuts[2]][df_3xs_zQ2['z']<z_cuts[3]][df_3xs_zQ2['Q2']>Q2_cuts[1]][df_3xs_zQ2['Q2']<Q2_cuts[2]]\n"
     ]
    }
   ],
   "source": [
    "df_3xs_2_3 = df_3xs_zQ2[df_3xs_zQ2['z']>z_cuts[2]][df_3xs_zQ2['z']<z_cuts[3]][df_3xs_zQ2['Q2']>Q2_cuts[1]][df_3xs_zQ2['Q2']<Q2_cuts[2]]\n",
    "print(len(df_3xs_1_1[df_3xs_1_1['Ebeam']==11.0]))\n",
    "print(len(df_3xs_1_1[df_3xs_1_1['Ebeam']==11.0]['phih'].unique()))"
   ]
  },
  {
   "cell_type": "code",
   "execution_count": 19,
   "id": "7909fb0a",
   "metadata": {},
   "outputs": [
    {
     "name": "stdout",
     "output_type": "stream",
     "text": [
      "1340\n",
      "1337\n"
     ]
    },
    {
     "name": "stderr",
     "output_type": "stream",
     "text": [
      "/var/folders/j9/hgt6bjfn0n78rvsbnlc10rqh0000gp/T/ipykernel_5407/2105384112.py:1: UserWarning: Boolean Series key will be reindexed to match DataFrame index.\n",
      "  df_1xs_3_1 = df_1xs_zQ2[df_1xs_zQ2['z']>z_cuts[0]][df_1xs_zQ2['z']<z_cuts[1]][df_1xs_zQ2['Q2']>Q2_cuts[2]][df_1xs_zQ2['Q2']<Q2_cuts[3]]\n",
      "/var/folders/j9/hgt6bjfn0n78rvsbnlc10rqh0000gp/T/ipykernel_5407/2105384112.py:1: UserWarning: Boolean Series key will be reindexed to match DataFrame index.\n",
      "  df_1xs_3_1 = df_1xs_zQ2[df_1xs_zQ2['z']>z_cuts[0]][df_1xs_zQ2['z']<z_cuts[1]][df_1xs_zQ2['Q2']>Q2_cuts[2]][df_1xs_zQ2['Q2']<Q2_cuts[3]]\n"
     ]
    }
   ],
   "source": [
    "df_1xs_3_1 = df_1xs_zQ2[df_1xs_zQ2['z']>z_cuts[0]][df_1xs_zQ2['z']<z_cuts[1]][df_1xs_zQ2['Q2']>Q2_cuts[2]][df_1xs_zQ2['Q2']<Q2_cuts[3]]\n",
    "print(len(df_1xs_1_1[df_1xs_1_1['Ebeam']==11.0]))\n",
    "print(len(df_1xs_1_1[df_1xs_1_1['Ebeam']==11.0]['phih'].unique()))"
   ]
  },
  {
   "cell_type": "code",
   "execution_count": 20,
   "id": "d210765d",
   "metadata": {},
   "outputs": [
    {
     "name": "stdout",
     "output_type": "stream",
     "text": [
      "1340\n",
      "1337\n"
     ]
    },
    {
     "name": "stderr",
     "output_type": "stream",
     "text": [
      "/var/folders/j9/hgt6bjfn0n78rvsbnlc10rqh0000gp/T/ipykernel_5407/3731236058.py:1: UserWarning: Boolean Series key will be reindexed to match DataFrame index.\n",
      "  df_3xs_3_1 = df_3xs_zQ2[df_3xs_zQ2['z']>z_cuts[0]][df_3xs_zQ2['z']<z_cuts[1]][df_3xs_zQ2['Q2']>Q2_cuts[2]][df_3xs_zQ2['Q2']<Q2_cuts[3]]\n",
      "/var/folders/j9/hgt6bjfn0n78rvsbnlc10rqh0000gp/T/ipykernel_5407/3731236058.py:1: UserWarning: Boolean Series key will be reindexed to match DataFrame index.\n",
      "  df_3xs_3_1 = df_3xs_zQ2[df_3xs_zQ2['z']>z_cuts[0]][df_3xs_zQ2['z']<z_cuts[1]][df_3xs_zQ2['Q2']>Q2_cuts[2]][df_3xs_zQ2['Q2']<Q2_cuts[3]]\n"
     ]
    }
   ],
   "source": [
    "df_3xs_3_1 = df_3xs_zQ2[df_3xs_zQ2['z']>z_cuts[0]][df_3xs_zQ2['z']<z_cuts[1]][df_3xs_zQ2['Q2']>Q2_cuts[2]][df_3xs_zQ2['Q2']<Q2_cuts[3]]\n",
    "print(len(df_3xs_1_1[df_3xs_1_1['Ebeam']==11.0]))\n",
    "print(len(df_3xs_1_1[df_3xs_1_1['Ebeam']==11.0]['phih'].unique()))"
   ]
  },
  {
   "cell_type": "code",
   "execution_count": 21,
   "id": "23a33b67",
   "metadata": {
    "scrolled": true
   },
   "outputs": [
    {
     "name": "stdout",
     "output_type": "stream",
     "text": [
      "1340\n",
      "1337\n"
     ]
    },
    {
     "name": "stderr",
     "output_type": "stream",
     "text": [
      "/var/folders/j9/hgt6bjfn0n78rvsbnlc10rqh0000gp/T/ipykernel_5407/2875546147.py:1: UserWarning: Boolean Series key will be reindexed to match DataFrame index.\n",
      "  df_1xs_3_2 = df_1xs_zQ2[df_1xs_zQ2['z']>z_cuts[1]][df_1xs_zQ2['z']<z_cuts[2]][df_1xs_zQ2['Q2']>Q2_cuts[2]][df_1xs_zQ2['Q2']<Q2_cuts[3]]\n",
      "/var/folders/j9/hgt6bjfn0n78rvsbnlc10rqh0000gp/T/ipykernel_5407/2875546147.py:1: UserWarning: Boolean Series key will be reindexed to match DataFrame index.\n",
      "  df_1xs_3_2 = df_1xs_zQ2[df_1xs_zQ2['z']>z_cuts[1]][df_1xs_zQ2['z']<z_cuts[2]][df_1xs_zQ2['Q2']>Q2_cuts[2]][df_1xs_zQ2['Q2']<Q2_cuts[3]]\n",
      "/var/folders/j9/hgt6bjfn0n78rvsbnlc10rqh0000gp/T/ipykernel_5407/2875546147.py:1: UserWarning: Boolean Series key will be reindexed to match DataFrame index.\n",
      "  df_1xs_3_2 = df_1xs_zQ2[df_1xs_zQ2['z']>z_cuts[1]][df_1xs_zQ2['z']<z_cuts[2]][df_1xs_zQ2['Q2']>Q2_cuts[2]][df_1xs_zQ2['Q2']<Q2_cuts[3]]\n"
     ]
    }
   ],
   "source": [
    "df_1xs_3_2 = df_1xs_zQ2[df_1xs_zQ2['z']>z_cuts[1]][df_1xs_zQ2['z']<z_cuts[2]][df_1xs_zQ2['Q2']>Q2_cuts[2]][df_1xs_zQ2['Q2']<Q2_cuts[3]]\n",
    "print(len(df_1xs_1_1[df_1xs_1_1['Ebeam']==11.0]))\n",
    "print(len(df_1xs_1_1[df_1xs_1_1['Ebeam']==11.0]['phih'].unique()))"
   ]
  },
  {
   "cell_type": "code",
   "execution_count": 22,
   "id": "292d2e45",
   "metadata": {
    "scrolled": true
   },
   "outputs": [
    {
     "name": "stdout",
     "output_type": "stream",
     "text": [
      "1340\n",
      "1337\n"
     ]
    },
    {
     "name": "stderr",
     "output_type": "stream",
     "text": [
      "/var/folders/j9/hgt6bjfn0n78rvsbnlc10rqh0000gp/T/ipykernel_5407/4239354454.py:1: UserWarning: Boolean Series key will be reindexed to match DataFrame index.\n",
      "  df_3xs_3_2 = df_3xs_zQ2[df_3xs_zQ2['z']>z_cuts[1]][df_3xs_zQ2['z']<z_cuts[2]][df_3xs_zQ2['Q2']>Q2_cuts[2]][df_3xs_zQ2['Q2']<Q2_cuts[3]]\n",
      "/var/folders/j9/hgt6bjfn0n78rvsbnlc10rqh0000gp/T/ipykernel_5407/4239354454.py:1: UserWarning: Boolean Series key will be reindexed to match DataFrame index.\n",
      "  df_3xs_3_2 = df_3xs_zQ2[df_3xs_zQ2['z']>z_cuts[1]][df_3xs_zQ2['z']<z_cuts[2]][df_3xs_zQ2['Q2']>Q2_cuts[2]][df_3xs_zQ2['Q2']<Q2_cuts[3]]\n",
      "/var/folders/j9/hgt6bjfn0n78rvsbnlc10rqh0000gp/T/ipykernel_5407/4239354454.py:1: UserWarning: Boolean Series key will be reindexed to match DataFrame index.\n",
      "  df_3xs_3_2 = df_3xs_zQ2[df_3xs_zQ2['z']>z_cuts[1]][df_3xs_zQ2['z']<z_cuts[2]][df_3xs_zQ2['Q2']>Q2_cuts[2]][df_3xs_zQ2['Q2']<Q2_cuts[3]]\n"
     ]
    }
   ],
   "source": [
    "df_3xs_3_2 = df_3xs_zQ2[df_3xs_zQ2['z']>z_cuts[1]][df_3xs_zQ2['z']<z_cuts[2]][df_3xs_zQ2['Q2']>Q2_cuts[2]][df_3xs_zQ2['Q2']<Q2_cuts[3]]\n",
    "print(len(df_3xs_1_1[df_3xs_1_1['Ebeam']==11.0]))\n",
    "print(len(df_3xs_1_1[df_3xs_1_1['Ebeam']==11.0]['phih'].unique()))"
   ]
  },
  {
   "cell_type": "code",
   "execution_count": 23,
   "id": "b02cf740",
   "metadata": {
    "scrolled": true
   },
   "outputs": [
    {
     "name": "stdout",
     "output_type": "stream",
     "text": [
      "1340\n",
      "1337\n"
     ]
    },
    {
     "name": "stderr",
     "output_type": "stream",
     "text": [
      "/var/folders/j9/hgt6bjfn0n78rvsbnlc10rqh0000gp/T/ipykernel_5407/3204621015.py:1: UserWarning: Boolean Series key will be reindexed to match DataFrame index.\n",
      "  df_1xs_3_3 = df_1xs_zQ2[df_1xs_zQ2['z']>z_cuts[2]][df_1xs_zQ2['z']<z_cuts[3]][df_1xs_zQ2['Q2']>Q2_cuts[2]][df_1xs_zQ2['Q2']<Q2_cuts[3]]\n",
      "/var/folders/j9/hgt6bjfn0n78rvsbnlc10rqh0000gp/T/ipykernel_5407/3204621015.py:1: UserWarning: Boolean Series key will be reindexed to match DataFrame index.\n",
      "  df_1xs_3_3 = df_1xs_zQ2[df_1xs_zQ2['z']>z_cuts[2]][df_1xs_zQ2['z']<z_cuts[3]][df_1xs_zQ2['Q2']>Q2_cuts[2]][df_1xs_zQ2['Q2']<Q2_cuts[3]]\n",
      "/var/folders/j9/hgt6bjfn0n78rvsbnlc10rqh0000gp/T/ipykernel_5407/3204621015.py:1: UserWarning: Boolean Series key will be reindexed to match DataFrame index.\n",
      "  df_1xs_3_3 = df_1xs_zQ2[df_1xs_zQ2['z']>z_cuts[2]][df_1xs_zQ2['z']<z_cuts[3]][df_1xs_zQ2['Q2']>Q2_cuts[2]][df_1xs_zQ2['Q2']<Q2_cuts[3]]\n"
     ]
    }
   ],
   "source": [
    "df_1xs_3_3 = df_1xs_zQ2[df_1xs_zQ2['z']>z_cuts[2]][df_1xs_zQ2['z']<z_cuts[3]][df_1xs_zQ2['Q2']>Q2_cuts[2]][df_1xs_zQ2['Q2']<Q2_cuts[3]]\n",
    "print(len(df_1xs_1_1[df_1xs_1_1['Ebeam']==11.0]))\n",
    "print(len(df_1xs_1_1[df_1xs_1_1['Ebeam']==11.0]['phih'].unique()))"
   ]
  },
  {
   "cell_type": "code",
   "execution_count": 24,
   "id": "c52abfa6",
   "metadata": {
    "scrolled": true
   },
   "outputs": [
    {
     "name": "stdout",
     "output_type": "stream",
     "text": [
      "1340\n",
      "1337\n"
     ]
    },
    {
     "name": "stderr",
     "output_type": "stream",
     "text": [
      "/var/folders/j9/hgt6bjfn0n78rvsbnlc10rqh0000gp/T/ipykernel_5407/165647900.py:1: UserWarning: Boolean Series key will be reindexed to match DataFrame index.\n",
      "  df_3xs_3_3 = df_3xs_zQ2[df_3xs_zQ2['z']>z_cuts[2]][df_3xs_zQ2['z']<z_cuts[3]][df_3xs_zQ2['Q2']>Q2_cuts[2]][df_3xs_zQ2['Q2']<Q2_cuts[3]]\n",
      "/var/folders/j9/hgt6bjfn0n78rvsbnlc10rqh0000gp/T/ipykernel_5407/165647900.py:1: UserWarning: Boolean Series key will be reindexed to match DataFrame index.\n",
      "  df_3xs_3_3 = df_3xs_zQ2[df_3xs_zQ2['z']>z_cuts[2]][df_3xs_zQ2['z']<z_cuts[3]][df_3xs_zQ2['Q2']>Q2_cuts[2]][df_3xs_zQ2['Q2']<Q2_cuts[3]]\n",
      "/var/folders/j9/hgt6bjfn0n78rvsbnlc10rqh0000gp/T/ipykernel_5407/165647900.py:1: UserWarning: Boolean Series key will be reindexed to match DataFrame index.\n",
      "  df_3xs_3_3 = df_3xs_zQ2[df_3xs_zQ2['z']>z_cuts[2]][df_3xs_zQ2['z']<z_cuts[3]][df_3xs_zQ2['Q2']>Q2_cuts[2]][df_3xs_zQ2['Q2']<Q2_cuts[3]]\n"
     ]
    }
   ],
   "source": [
    "df_3xs_3_3 = df_3xs_zQ2[df_3xs_zQ2['z']>z_cuts[2]][df_3xs_zQ2['z']<z_cuts[3]][df_3xs_zQ2['Q2']>Q2_cuts[2]][df_3xs_zQ2['Q2']<Q2_cuts[3]]\n",
    "print(len(df_3xs_1_1[df_3xs_1_1['Ebeam']==11.0]))\n",
    "print(len(df_3xs_1_1[df_3xs_1_1['Ebeam']==11.0]['phih'].unique()))"
   ]
  },
  {
   "cell_type": "code",
   "execution_count": 25,
   "id": "3f150745",
   "metadata": {
    "scrolled": true
   },
   "outputs": [
    {
     "name": "stdout",
     "output_type": "stream",
     "text": [
      "1340\n",
      "1337\n"
     ]
    },
    {
     "name": "stderr",
     "output_type": "stream",
     "text": [
      "/var/folders/j9/hgt6bjfn0n78rvsbnlc10rqh0000gp/T/ipykernel_5407/1080734928.py:1: UserWarning: Boolean Series key will be reindexed to match DataFrame index.\n",
      "  df_1xs_4_1 = df_1xs_zQ2[df_1xs_zQ2['z']>z_cuts[0]][df_1xs_zQ2['z']<z_cuts[1]][df_1xs_zQ2['Q2']>Q2_cuts[3]][df_1xs_zQ2['Q2']<Q2_cuts[4]]\n",
      "/var/folders/j9/hgt6bjfn0n78rvsbnlc10rqh0000gp/T/ipykernel_5407/1080734928.py:1: UserWarning: Boolean Series key will be reindexed to match DataFrame index.\n",
      "  df_1xs_4_1 = df_1xs_zQ2[df_1xs_zQ2['z']>z_cuts[0]][df_1xs_zQ2['z']<z_cuts[1]][df_1xs_zQ2['Q2']>Q2_cuts[3]][df_1xs_zQ2['Q2']<Q2_cuts[4]]\n"
     ]
    }
   ],
   "source": [
    "df_1xs_4_1 = df_1xs_zQ2[df_1xs_zQ2['z']>z_cuts[0]][df_1xs_zQ2['z']<z_cuts[1]][df_1xs_zQ2['Q2']>Q2_cuts[3]][df_1xs_zQ2['Q2']<Q2_cuts[4]]\n",
    "print(len(df_1xs_1_1[df_1xs_1_1['Ebeam']==11.0]))\n",
    "print(len(df_1xs_1_1[df_1xs_1_1['Ebeam']==11.0]['phih'].unique()))"
   ]
  },
  {
   "cell_type": "code",
   "execution_count": 26,
   "id": "179a7c9a",
   "metadata": {
    "scrolled": true
   },
   "outputs": [
    {
     "name": "stdout",
     "output_type": "stream",
     "text": [
      "1340\n",
      "1337\n"
     ]
    },
    {
     "name": "stderr",
     "output_type": "stream",
     "text": [
      "/var/folders/j9/hgt6bjfn0n78rvsbnlc10rqh0000gp/T/ipykernel_5407/2895693434.py:1: UserWarning: Boolean Series key will be reindexed to match DataFrame index.\n",
      "  df_3xs_4_1 = df_3xs_zQ2[df_3xs_zQ2['z']>z_cuts[0]][df_3xs_zQ2['z']<z_cuts[1]][df_3xs_zQ2['Q2']>Q2_cuts[3]][df_3xs_zQ2['Q2']<Q2_cuts[4]]\n",
      "/var/folders/j9/hgt6bjfn0n78rvsbnlc10rqh0000gp/T/ipykernel_5407/2895693434.py:1: UserWarning: Boolean Series key will be reindexed to match DataFrame index.\n",
      "  df_3xs_4_1 = df_3xs_zQ2[df_3xs_zQ2['z']>z_cuts[0]][df_3xs_zQ2['z']<z_cuts[1]][df_3xs_zQ2['Q2']>Q2_cuts[3]][df_3xs_zQ2['Q2']<Q2_cuts[4]]\n"
     ]
    }
   ],
   "source": [
    "df_3xs_4_1 = df_3xs_zQ2[df_3xs_zQ2['z']>z_cuts[0]][df_3xs_zQ2['z']<z_cuts[1]][df_3xs_zQ2['Q2']>Q2_cuts[3]][df_3xs_zQ2['Q2']<Q2_cuts[4]]\n",
    "print(len(df_3xs_1_1[df_3xs_1_1['Ebeam']==11.0]))\n",
    "print(len(df_3xs_1_1[df_3xs_1_1['Ebeam']==11.0]['phih'].unique()))"
   ]
  },
  {
   "cell_type": "code",
   "execution_count": 27,
   "id": "120e1dbb",
   "metadata": {
    "scrolled": true
   },
   "outputs": [
    {
     "name": "stdout",
     "output_type": "stream",
     "text": [
      "1340\n",
      "1337\n"
     ]
    },
    {
     "name": "stderr",
     "output_type": "stream",
     "text": [
      "/var/folders/j9/hgt6bjfn0n78rvsbnlc10rqh0000gp/T/ipykernel_5407/1416687606.py:1: UserWarning: Boolean Series key will be reindexed to match DataFrame index.\n",
      "  df_1xs_4_2 = df_1xs_zQ2[df_1xs_zQ2['z']>z_cuts[1]][df_1xs_zQ2['z']<z_cuts[2]][df_1xs_zQ2['Q2']>Q2_cuts[3]][df_1xs_zQ2['Q2']<Q2_cuts[4]]\n",
      "/var/folders/j9/hgt6bjfn0n78rvsbnlc10rqh0000gp/T/ipykernel_5407/1416687606.py:1: UserWarning: Boolean Series key will be reindexed to match DataFrame index.\n",
      "  df_1xs_4_2 = df_1xs_zQ2[df_1xs_zQ2['z']>z_cuts[1]][df_1xs_zQ2['z']<z_cuts[2]][df_1xs_zQ2['Q2']>Q2_cuts[3]][df_1xs_zQ2['Q2']<Q2_cuts[4]]\n",
      "/var/folders/j9/hgt6bjfn0n78rvsbnlc10rqh0000gp/T/ipykernel_5407/1416687606.py:1: UserWarning: Boolean Series key will be reindexed to match DataFrame index.\n",
      "  df_1xs_4_2 = df_1xs_zQ2[df_1xs_zQ2['z']>z_cuts[1]][df_1xs_zQ2['z']<z_cuts[2]][df_1xs_zQ2['Q2']>Q2_cuts[3]][df_1xs_zQ2['Q2']<Q2_cuts[4]]\n"
     ]
    }
   ],
   "source": [
    "df_1xs_4_2 = df_1xs_zQ2[df_1xs_zQ2['z']>z_cuts[1]][df_1xs_zQ2['z']<z_cuts[2]][df_1xs_zQ2['Q2']>Q2_cuts[3]][df_1xs_zQ2['Q2']<Q2_cuts[4]]\n",
    "print(len(df_1xs_1_1[df_1xs_1_1['Ebeam']==11.0]))\n",
    "print(len(df_1xs_1_1[df_1xs_1_1['Ebeam']==11.0]['phih'].unique()))"
   ]
  },
  {
   "cell_type": "code",
   "execution_count": 28,
   "id": "46f02075",
   "metadata": {
    "scrolled": true
   },
   "outputs": [
    {
     "name": "stdout",
     "output_type": "stream",
     "text": [
      "1340\n",
      "1337\n"
     ]
    },
    {
     "name": "stderr",
     "output_type": "stream",
     "text": [
      "/var/folders/j9/hgt6bjfn0n78rvsbnlc10rqh0000gp/T/ipykernel_5407/2507560876.py:1: UserWarning: Boolean Series key will be reindexed to match DataFrame index.\n",
      "  df_3xs_4_2 = df_3xs_zQ2[df_3xs_zQ2['z']>z_cuts[1]][df_3xs_zQ2['z']<z_cuts[2]][df_3xs_zQ2['Q2']>Q2_cuts[3]][df_3xs_zQ2['Q2']<Q2_cuts[4]]\n",
      "/var/folders/j9/hgt6bjfn0n78rvsbnlc10rqh0000gp/T/ipykernel_5407/2507560876.py:1: UserWarning: Boolean Series key will be reindexed to match DataFrame index.\n",
      "  df_3xs_4_2 = df_3xs_zQ2[df_3xs_zQ2['z']>z_cuts[1]][df_3xs_zQ2['z']<z_cuts[2]][df_3xs_zQ2['Q2']>Q2_cuts[3]][df_3xs_zQ2['Q2']<Q2_cuts[4]]\n",
      "/var/folders/j9/hgt6bjfn0n78rvsbnlc10rqh0000gp/T/ipykernel_5407/2507560876.py:1: UserWarning: Boolean Series key will be reindexed to match DataFrame index.\n",
      "  df_3xs_4_2 = df_3xs_zQ2[df_3xs_zQ2['z']>z_cuts[1]][df_3xs_zQ2['z']<z_cuts[2]][df_3xs_zQ2['Q2']>Q2_cuts[3]][df_3xs_zQ2['Q2']<Q2_cuts[4]]\n"
     ]
    }
   ],
   "source": [
    "df_3xs_4_2 = df_3xs_zQ2[df_3xs_zQ2['z']>z_cuts[1]][df_3xs_zQ2['z']<z_cuts[2]][df_3xs_zQ2['Q2']>Q2_cuts[3]][df_3xs_zQ2['Q2']<Q2_cuts[4]]\n",
    "print(len(df_3xs_1_1[df_3xs_1_1['Ebeam']==11.0]))\n",
    "print(len(df_3xs_1_1[df_3xs_1_1['Ebeam']==11.0]['phih'].unique()))"
   ]
  },
  {
   "cell_type": "code",
   "execution_count": 29,
   "id": "bef948c4",
   "metadata": {
    "scrolled": true
   },
   "outputs": [
    {
     "name": "stdout",
     "output_type": "stream",
     "text": [
      "1340\n",
      "1337\n"
     ]
    },
    {
     "name": "stderr",
     "output_type": "stream",
     "text": [
      "/var/folders/j9/hgt6bjfn0n78rvsbnlc10rqh0000gp/T/ipykernel_5407/1020995793.py:1: UserWarning: Boolean Series key will be reindexed to match DataFrame index.\n",
      "  df_1xs_4_3 = df_1xs_zQ2[df_1xs_zQ2['z']>z_cuts[2]][df_1xs_zQ2['z']<z_cuts[3]][df_1xs_zQ2['Q2']>Q2_cuts[3]][df_1xs_zQ2['Q2']<Q2_cuts[4]]\n",
      "/var/folders/j9/hgt6bjfn0n78rvsbnlc10rqh0000gp/T/ipykernel_5407/1020995793.py:1: UserWarning: Boolean Series key will be reindexed to match DataFrame index.\n",
      "  df_1xs_4_3 = df_1xs_zQ2[df_1xs_zQ2['z']>z_cuts[2]][df_1xs_zQ2['z']<z_cuts[3]][df_1xs_zQ2['Q2']>Q2_cuts[3]][df_1xs_zQ2['Q2']<Q2_cuts[4]]\n",
      "/var/folders/j9/hgt6bjfn0n78rvsbnlc10rqh0000gp/T/ipykernel_5407/1020995793.py:1: UserWarning: Boolean Series key will be reindexed to match DataFrame index.\n",
      "  df_1xs_4_3 = df_1xs_zQ2[df_1xs_zQ2['z']>z_cuts[2]][df_1xs_zQ2['z']<z_cuts[3]][df_1xs_zQ2['Q2']>Q2_cuts[3]][df_1xs_zQ2['Q2']<Q2_cuts[4]]\n"
     ]
    }
   ],
   "source": [
    "df_1xs_4_3 = df_1xs_zQ2[df_1xs_zQ2['z']>z_cuts[2]][df_1xs_zQ2['z']<z_cuts[3]][df_1xs_zQ2['Q2']>Q2_cuts[3]][df_1xs_zQ2['Q2']<Q2_cuts[4]]\n",
    "print(len(df_1xs_1_1[df_1xs_1_1['Ebeam']==11.0]))\n",
    "print(len(df_1xs_1_1[df_1xs_1_1['Ebeam']==11.0]['phih'].unique()))"
   ]
  },
  {
   "cell_type": "code",
   "execution_count": 30,
   "id": "a1157c4b",
   "metadata": {
    "scrolled": true
   },
   "outputs": [
    {
     "name": "stdout",
     "output_type": "stream",
     "text": [
      "1340\n",
      "1337\n"
     ]
    },
    {
     "name": "stderr",
     "output_type": "stream",
     "text": [
      "/var/folders/j9/hgt6bjfn0n78rvsbnlc10rqh0000gp/T/ipykernel_5407/1849816026.py:1: UserWarning: Boolean Series key will be reindexed to match DataFrame index.\n",
      "  df_3xs_4_3 = df_3xs_zQ2[df_3xs_zQ2['z']>z_cuts[2]][df_3xs_zQ2['z']<z_cuts[3]][df_3xs_zQ2['Q2']>Q2_cuts[3]][df_3xs_zQ2['Q2']<Q2_cuts[4]]\n",
      "/var/folders/j9/hgt6bjfn0n78rvsbnlc10rqh0000gp/T/ipykernel_5407/1849816026.py:1: UserWarning: Boolean Series key will be reindexed to match DataFrame index.\n",
      "  df_3xs_4_3 = df_3xs_zQ2[df_3xs_zQ2['z']>z_cuts[2]][df_3xs_zQ2['z']<z_cuts[3]][df_3xs_zQ2['Q2']>Q2_cuts[3]][df_3xs_zQ2['Q2']<Q2_cuts[4]]\n",
      "/var/folders/j9/hgt6bjfn0n78rvsbnlc10rqh0000gp/T/ipykernel_5407/1849816026.py:1: UserWarning: Boolean Series key will be reindexed to match DataFrame index.\n",
      "  df_3xs_4_3 = df_3xs_zQ2[df_3xs_zQ2['z']>z_cuts[2]][df_3xs_zQ2['z']<z_cuts[3]][df_3xs_zQ2['Q2']>Q2_cuts[3]][df_3xs_zQ2['Q2']<Q2_cuts[4]]\n"
     ]
    }
   ],
   "source": [
    "df_3xs_4_3 = df_3xs_zQ2[df_3xs_zQ2['z']>z_cuts[2]][df_3xs_zQ2['z']<z_cuts[3]][df_3xs_zQ2['Q2']>Q2_cuts[3]][df_3xs_zQ2['Q2']<Q2_cuts[4]]\n",
    "print(len(df_3xs_1_1[df_3xs_1_1['Ebeam']==11.0]))\n",
    "print(len(df_3xs_1_1[df_3xs_1_1['Ebeam']==11.0]['phih'].unique()))"
   ]
  },
  {
   "cell_type": "code",
   "execution_count": 31,
   "id": "52c5f85c",
   "metadata": {},
   "outputs": [
    {
     "data": {
      "image/png": "[encoded data removed]",
      "text/plain": [
       "<Figure size 640x480 with 1 Axes>"
      ]
     },
     "metadata": {},
     "output_type": "display_data"
    }
   ],
   "source": [
    "fig = plt.figure()\n",
    "ax = fig.add_subplot()\n",
    "phih_1_1 = df_1xs_1_1[df_1xs_1_1['Ebeam']==11.0]['phih']\n",
    "Fuu_1_1 = df_1xs_1_1[df_1xs_1_1['Ebeam']==11.0]['value']\n",
    "for i_phih_1_1 in phih_1_1:\n",
    "    Fuu_value = df_1xs_1_1[df_1xs_1_1['Ebeam']==11.0][df_1xs_1_1['phih']==i_phih_1_1]['value']\n",
    "    Fuu_stat = df_1xs_1_1[df_1xs_1_1['Ebeam']==11.0][df_1xs_1_1['phih']==i_phih_1_1]['stat']\n",
    "    #Fuu_1_1_sys.append(df_1xs_1_1[df_1xs_1_1['Ebeam']==11.0][df_1xs_1_1['phih']==i_phih_1_1]['systabs'])\n",
    "    ax.plot([i_phih_1_1,i_phih_1_1],[Fuu_value-Fuu_stat,Fuu_value+Fuu_stat],color='blue',marker='_')\n",
    "plt.plot(phih_1_1,Fuu_1_1,'bo',label='Eb=11GeV')\n",
    "phih_1_1_sorted = df_1xs_1_1[df_1xs_1_1['Ebeam']==11.0].sort_values(by=['phih'])['phih']\n",
    "Fuu_1_1_sys = df_1xs_1_1[df_1xs_1_1['Ebeam']==11.0].sort_values(by=['phih'])['error']\n",
    "#ax.fill_between(phih_1_1_sorted,np.asarray(0.01)-np.asarray(Fuu_1_1_sys),np.asarray(0.01)+np.asarray(Fuu_1_1_sys),color='blue',alpha=0.25,linewidth=0,label='sys err')\n",
    "\n",
    "phih_1_1_Eb2 = df_1xs_1_1[df_1xs_1_1['Ebeam']==8.8]['phih']\n",
    "Fuu_1_1_Eb2 = df_1xs_1_1[df_1xs_1_1['Ebeam']==8.8]['value']\n",
    "for i_phih_1_1_Eb2 in phih_1_1_Eb2:\n",
    "    Fuu_value = df_1xs_1_1[df_1xs_1_1['Ebeam']==8.8][df_1xs_1_1['phih']==i_phih_1_1_Eb2]['value']\n",
    "    Fuu_stat = df_1xs_1_1[df_1xs_1_1['Ebeam']==8.8][df_1xs_1_1['phih']==i_phih_1_1_Eb2]['stat']\n",
    "    ax.plot([i_phih_1_1_Eb2,i_phih_1_1_Eb2],[Fuu_value-Fuu_stat,Fuu_value+Fuu_stat],color='blue',marker='_')\n",
    "plt.plot(phih_1_1_Eb2,Fuu_1_1_Eb2,'bo',label='Eb=8.8GeV')\n",
    "phih_1_1_Eb2_sorted = df_1xs_1_1[df_1xs_1_1['Ebeam']==8.8].sort_values(by=['phih'])['phih']\n",
    "Fuu_1_1_Eb2_sys = df_1xs_1_1[df_1xs_1_1['Ebeam']==8.8].sort_values(by=['phih'])['error']\n",
    "#ax.fill_between(phih_1_1_Eb2_sorted,np.asarray(0.01)-np.asarray(Fuu_1_1_Eb2_sys),np.asarray(0.01)+np.asarray(Fuu_1_1_Eb2_sys),color='blue',alpha=0.25,linewidth=0,label='sys err')\n",
    "\n",
    "plt.xlabel('$\\phi_h$')\n",
    "plt.ylabel('$F_{UU}$')\n",
    "plt.ylim(0.01,0.2)\n",
    "#plt.yscale('log')\n",
    "for i_phih in phih_bins:\n",
    "    plt.axvline(x=i_phih)\n",
    "plt.savefig('../Unpol_proposal/Materials/phi.pdf')\n"
   ]
  },
  {
   "cell_type": "code",
   "execution_count": 32,
   "id": "e8763e12",
   "metadata": {
    "scrolled": true
   },
   "outputs": [
    {
     "data": {
      "image/png": "[encoded data removed]",
      "text/plain": [
       "<Figure size 640x480 with 1 Axes>"
      ]
     },
     "metadata": {},
     "output_type": "display_data"
    }
   ],
   "source": [
    "fig = plt.figure()\n",
    "ax = fig.add_subplot()\n",
    "phih_4_1 = df_1xs_4_1[df_1xs_4_1['Ebeam']==11.0]['phih']\n",
    "Fuu_4_1 = df_1xs_4_1[df_1xs_4_1['Ebeam']==11.0]['value']\n",
    "for i_phih_4_1 in phih_4_1:\n",
    "    Fuu_value = df_1xs_4_1[df_1xs_4_1['Ebeam']==11.0][df_1xs_4_1['phih']==i_phih_4_1]['value']\n",
    "    Fuu_stat = df_1xs_4_1[df_1xs_4_1['Ebeam']==11.0][df_1xs_4_1['phih']==i_phih_4_1]['stat']\n",
    "    #Fuu_4_1_sys.append(df_1xs_4_1[df_1xs_4_1['Ebeam']==11.0][df_1xs_4_1['phih']==i_phih_4_1]['systabs'])\n",
    "    ax.plot([i_phih_4_1,i_phih_4_1],[Fuu_value-Fuu_stat,Fuu_value+Fuu_stat],color='blue',marker='_')\n",
    "plt.plot(phih_4_1,Fuu_4_1,'bo',label='Eb=11GeV')\n",
    "phih_4_1_sorted = df_1xs_4_1[df_1xs_4_1['Ebeam']==11.0].sort_values(by=['phih'])['phih']\n",
    "Fuu_4_1_sys = df_1xs_4_1[df_1xs_4_1['Ebeam']==11.0].sort_values(by=['phih'])['error']\n",
    "#ax.fill_between(phih_4_1_sorted,np.asarray(0.01)-np.asarray(Fuu_4_1_sys),np.asarray(0.01)+np.asarray(Fuu_4_1_sys),color='blue',alpha=0.25,linewidth=0,label='sys err')\n",
    "\n",
    "phih_4_1_Eb2 = df_1xs_4_1[df_1xs_4_1['Ebeam']==8.8]['phih']\n",
    "Fuu_4_1_Eb2 = df_1xs_4_1[df_1xs_4_1['Ebeam']==8.8]['value']\n",
    "for i_phih_4_1_Eb2 in phih_4_1_Eb2:\n",
    "    Fuu_value = df_1xs_4_1[df_1xs_4_1['Ebeam']==8.8][df_1xs_4_1['phih']==i_phih_4_1_Eb2]['value']\n",
    "    Fuu_stat = df_1xs_4_1[df_1xs_4_1['Ebeam']==8.8][df_1xs_4_1['phih']==i_phih_4_1_Eb2]['stat']\n",
    "    ax.plot([i_phih_4_1_Eb2,i_phih_4_1_Eb2],[Fuu_value-Fuu_stat,Fuu_value+Fuu_stat],color='blue',marker='_')\n",
    "plt.plot(phih_4_1_Eb2,Fuu_4_1_Eb2,'bo',label='Eb=8.8GeV')\n",
    "phih_4_1_Eb2_sorted = df_1xs_4_1[df_1xs_4_1['Ebeam']==8.8].sort_values(by=['phih'])['phih']\n",
    "Fuu_4_1_Eb2_sys = df_1xs_4_1[df_1xs_4_1['Ebeam']==8.8].sort_values(by=['phih'])['error']\n",
    "#ax.fill_between(phih_4_1_Eb2_sorted,np.asarray(0.01)-np.asarray(Fuu_4_1_Eb2_sys),np.asarray(0.01)+np.asarray(Fuu_4_1_Eb2_sys),color='blue',alpha=0.25,linewidth=0,label='sys err')\n",
    "\n",
    "plt.xlabel('$\\phi_h$')\n",
    "plt.ylabel('$F_{UU}$')\n",
    "plt.ylim(0.002,0.01)\n",
    "#plt.yscale('log')\n",
    "for i_phih in phih_bins:\n",
    "    plt.axvline(x=i_phih)\n",
    "plt.savefig('../Unpol_proposal/Materials/phi.pdf')\n"
   ]
  },
  {
   "cell_type": "code",
   "execution_count": 33,
   "id": "501b1cfd",
   "metadata": {},
   "outputs": [
    {
     "data": {
      "image/png": "[encoded data removed]",
      "text/plain": [
       "<Figure size 640x480 with 1 Axes>"
      ]
     },
     "metadata": {},
     "output_type": "display_data"
    }
   ],
   "source": [
    "fig = plt.figure()\n",
    "ax = fig.add_subplot()\n",
    "phih_1_1 = df_3xs_1_1[df_3xs_1_1['Ebeam']==11.0]['phih']\n",
    "Fuu_1_1 = df_3xs_1_1[df_3xs_1_1['Ebeam']==11.0]['value']\n",
    "for i_phih_1_1 in phih_1_1:\n",
    "    Fuu_value = df_3xs_1_1[df_3xs_1_1['Ebeam']==11.0][df_3xs_1_1['phih']==i_phih_1_1]['value']\n",
    "    Fuu_stat = df_3xs_1_1[df_3xs_1_1['Ebeam']==11.0][df_3xs_1_1['phih']==i_phih_1_1]['stat']\n",
    "    #Fuu_1_1_sys.append(df_3xs_1_1[df_3xs_1_1['Ebeam']==11.0][df_3xs_1_1['phih']==i_phih_1_1]['systabs'])\n",
    "    ax.plot([i_phih_1_1,i_phih_1_1],[Fuu_value-Fuu_stat,Fuu_value+Fuu_stat],color='red',marker='_')\n",
    "plt.plot(phih_1_1,Fuu_1_1,'ro',label='Eb=11GeV')\n",
    "phih_1_1_sorted = df_3xs_1_1[df_3xs_1_1['Ebeam']==11.0].sort_values(by=['phih'])['phih']\n",
    "Fuu_1_1_sys = df_3xs_1_1[df_3xs_1_1['Ebeam']==11.0].sort_values(by=['phih'])['error']\n",
    "#ax.fill_between(phih_1_1_sorted,np.asarray(0.01)-np.asarray(Fuu_1_1_sys),np.asarray(0.01)+np.asarray(Fuu_1_1_sys),color='blue',alpha=0.25,linewidth=0,label='sys err')\n",
    "\n",
    "phih_1_1_Eb2 = df_3xs_1_1[df_3xs_1_1['Ebeam']==8.8]['phih']\n",
    "Fuu_1_1_Eb2 = df_3xs_1_1[df_3xs_1_1['Ebeam']==8.8]['value']\n",
    "for i_phih_1_1_Eb2 in phih_1_1_Eb2:\n",
    "    Fuu_value = df_3xs_1_1[df_3xs_1_1['Ebeam']==8.8][df_3xs_1_1['phih']==i_phih_1_1_Eb2]['value']\n",
    "    Fuu_stat = df_3xs_1_1[df_3xs_1_1['Ebeam']==8.8][df_3xs_1_1['phih']==i_phih_1_1_Eb2]['stat']\n",
    "    ax.plot([i_phih_1_1_Eb2,i_phih_1_1_Eb2],[Fuu_value-Fuu_stat,Fuu_value+Fuu_stat],color='red',marker='_')\n",
    "plt.plot(phih_1_1_Eb2,Fuu_1_1_Eb2,'ro',label='Eb=8.8GeV')\n",
    "phih_1_1_Eb2_sorted = df_3xs_1_1[df_3xs_1_1['Ebeam']==8.8].sort_values(by=['phih'])['phih']\n",
    "Fuu_1_1_Eb2_sys = df_3xs_1_1[df_3xs_1_1['Ebeam']==8.8].sort_values(by=['phih'])['error']\n",
    "#ax.fill_between(phih_1_1_Eb2_sorted,np.asarray(0.01)-np.asarray(Fuu_1_1_Eb2_sys),np.asarray(0.01)+np.asarray(Fuu_1_1_Eb2_sys),color='blue',alpha=0.25,linewidth=0,label='sys err')\n",
    "\n",
    "plt.xlabel('$\\phi_h$')\n",
    "plt.ylabel('$F_{UU}$')\n",
    "plt.ylim(0.01,0.2)\n",
    "#plt.yscale('log')\n",
    "for i_phih in phih_bins:\n",
    "    plt.axvline(x=i_phih)\n",
    "plt.savefig('../Unpol_proposal/Materials/3xs_phi.pdf')\n"
   ]
  },
  {
   "cell_type": "code",
   "execution_count": 34,
   "id": "52c8f90f",
   "metadata": {
    "scrolled": true
   },
   "outputs": [
    {
     "name": "stdout",
     "output_type": "stream",
     "text": [
      "-3.141592653589793 -2.5132741228718345\n",
      "120\n",
      "-2.5132741228718345 -1.8849555921538759\n",
      "137\n",
      "-1.8849555921538759 -1.2566370614359172\n",
      "162\n",
      "-1.2566370614359172 -0.6283185307179586\n",
      "154\n",
      "-0.6283185307179586 0.6283185307179586\n",
      "196\n",
      "0.6283185307179586 1.2566370614359172\n",
      "154\n",
      "1.2566370614359172 1.8849555921538759\n",
      "162\n",
      "1.8849555921538759 2.5132741228718345\n",
      "137\n",
      "2.5132741228718345 3.141592653589793\n",
      "118\n"
     ]
    },
    {
     "name": "stderr",
     "output_type": "stream",
     "text": [
      "/var/folders/j9/hgt6bjfn0n78rvsbnlc10rqh0000gp/T/ipykernel_5407/690917321.py:10: UserWarning: Boolean Series key will be reindexed to match DataFrame index.\n",
      "  phih_1_1s = df_1xs_1_1[df_1xs_1_1['phih']>=i_phi_left][df_1xs_1_1['phih']<i_phi]['phih'].tolist()\n",
      "/var/folders/j9/hgt6bjfn0n78rvsbnlc10rqh0000gp/T/ipykernel_5407/690917321.py:11: UserWarning: Boolean Series key will be reindexed to match DataFrame index.\n",
      "  Fuu_1_1s = df_1xs_1_1[df_1xs_1_1['phih']>=i_phi_left][df_1xs_1_1['phih']<i_phi]['value'].tolist()\n",
      "/var/folders/j9/hgt6bjfn0n78rvsbnlc10rqh0000gp/T/ipykernel_5407/690917321.py:12: UserWarning: Boolean Series key will be reindexed to match DataFrame index.\n",
      "  Fuu_1_1_stats = df_1xs_1_1[df_1xs_1_1['phih']>=i_phi_left][df_1xs_1_1['phih']<i_phi]['stat'].tolist()\n",
      "/var/folders/j9/hgt6bjfn0n78rvsbnlc10rqh0000gp/T/ipykernel_5407/690917321.py:10: UserWarning: Boolean Series key will be reindexed to match DataFrame index.\n",
      "  phih_1_1s = df_1xs_1_1[df_1xs_1_1['phih']>=i_phi_left][df_1xs_1_1['phih']<i_phi]['phih'].tolist()\n",
      "/var/folders/j9/hgt6bjfn0n78rvsbnlc10rqh0000gp/T/ipykernel_5407/690917321.py:11: UserWarning: Boolean Series key will be reindexed to match DataFrame index.\n",
      "  Fuu_1_1s = df_1xs_1_1[df_1xs_1_1['phih']>=i_phi_left][df_1xs_1_1['phih']<i_phi]['value'].tolist()\n",
      "/var/folders/j9/hgt6bjfn0n78rvsbnlc10rqh0000gp/T/ipykernel_5407/690917321.py:12: UserWarning: Boolean Series key will be reindexed to match DataFrame index.\n",
      "  Fuu_1_1_stats = df_1xs_1_1[df_1xs_1_1['phih']>=i_phi_left][df_1xs_1_1['phih']<i_phi]['stat'].tolist()\n",
      "/var/folders/j9/hgt6bjfn0n78rvsbnlc10rqh0000gp/T/ipykernel_5407/690917321.py:10: UserWarning: Boolean Series key will be reindexed to match DataFrame index.\n",
      "  phih_1_1s = df_1xs_1_1[df_1xs_1_1['phih']>=i_phi_left][df_1xs_1_1['phih']<i_phi]['phih'].tolist()\n",
      "/var/folders/j9/hgt6bjfn0n78rvsbnlc10rqh0000gp/T/ipykernel_5407/690917321.py:11: UserWarning: Boolean Series key will be reindexed to match DataFrame index.\n",
      "  Fuu_1_1s = df_1xs_1_1[df_1xs_1_1['phih']>=i_phi_left][df_1xs_1_1['phih']<i_phi]['value'].tolist()\n",
      "/var/folders/j9/hgt6bjfn0n78rvsbnlc10rqh0000gp/T/ipykernel_5407/690917321.py:12: UserWarning: Boolean Series key will be reindexed to match DataFrame index.\n",
      "  Fuu_1_1_stats = df_1xs_1_1[df_1xs_1_1['phih']>=i_phi_left][df_1xs_1_1['phih']<i_phi]['stat'].tolist()\n",
      "/var/folders/j9/hgt6bjfn0n78rvsbnlc10rqh0000gp/T/ipykernel_5407/690917321.py:10: UserWarning: Boolean Series key will be reindexed to match DataFrame index.\n",
      "  phih_1_1s = df_1xs_1_1[df_1xs_1_1['phih']>=i_phi_left][df_1xs_1_1['phih']<i_phi]['phih'].tolist()\n",
      "/var/folders/j9/hgt6bjfn0n78rvsbnlc10rqh0000gp/T/ipykernel_5407/690917321.py:11: UserWarning: Boolean Series key will be reindexed to match DataFrame index.\n",
      "  Fuu_1_1s = df_1xs_1_1[df_1xs_1_1['phih']>=i_phi_left][df_1xs_1_1['phih']<i_phi]['value'].tolist()\n",
      "/var/folders/j9/hgt6bjfn0n78rvsbnlc10rqh0000gp/T/ipykernel_5407/690917321.py:12: UserWarning: Boolean Series key will be reindexed to match DataFrame index.\n",
      "  Fuu_1_1_stats = df_1xs_1_1[df_1xs_1_1['phih']>=i_phi_left][df_1xs_1_1['phih']<i_phi]['stat'].tolist()\n",
      "/var/folders/j9/hgt6bjfn0n78rvsbnlc10rqh0000gp/T/ipykernel_5407/690917321.py:10: UserWarning: Boolean Series key will be reindexed to match DataFrame index.\n",
      "  phih_1_1s = df_1xs_1_1[df_1xs_1_1['phih']>=i_phi_left][df_1xs_1_1['phih']<i_phi]['phih'].tolist()\n",
      "/var/folders/j9/hgt6bjfn0n78rvsbnlc10rqh0000gp/T/ipykernel_5407/690917321.py:11: UserWarning: Boolean Series key will be reindexed to match DataFrame index.\n",
      "  Fuu_1_1s = df_1xs_1_1[df_1xs_1_1['phih']>=i_phi_left][df_1xs_1_1['phih']<i_phi]['value'].tolist()\n",
      "/var/folders/j9/hgt6bjfn0n78rvsbnlc10rqh0000gp/T/ipykernel_5407/690917321.py:12: UserWarning: Boolean Series key will be reindexed to match DataFrame index.\n",
      "  Fuu_1_1_stats = df_1xs_1_1[df_1xs_1_1['phih']>=i_phi_left][df_1xs_1_1['phih']<i_phi]['stat'].tolist()\n",
      "/var/folders/j9/hgt6bjfn0n78rvsbnlc10rqh0000gp/T/ipykernel_5407/690917321.py:10: UserWarning: Boolean Series key will be reindexed to match DataFrame index.\n",
      "  phih_1_1s = df_1xs_1_1[df_1xs_1_1['phih']>=i_phi_left][df_1xs_1_1['phih']<i_phi]['phih'].tolist()\n",
      "/var/folders/j9/hgt6bjfn0n78rvsbnlc10rqh0000gp/T/ipykernel_5407/690917321.py:11: UserWarning: Boolean Series key will be reindexed to match DataFrame index.\n",
      "  Fuu_1_1s = df_1xs_1_1[df_1xs_1_1['phih']>=i_phi_left][df_1xs_1_1['phih']<i_phi]['value'].tolist()\n",
      "/var/folders/j9/hgt6bjfn0n78rvsbnlc10rqh0000gp/T/ipykernel_5407/690917321.py:12: UserWarning: Boolean Series key will be reindexed to match DataFrame index.\n",
      "  Fuu_1_1_stats = df_1xs_1_1[df_1xs_1_1['phih']>=i_phi_left][df_1xs_1_1['phih']<i_phi]['stat'].tolist()\n",
      "/var/folders/j9/hgt6bjfn0n78rvsbnlc10rqh0000gp/T/ipykernel_5407/690917321.py:10: UserWarning: Boolean Series key will be reindexed to match DataFrame index.\n",
      "  phih_1_1s = df_1xs_1_1[df_1xs_1_1['phih']>=i_phi_left][df_1xs_1_1['phih']<i_phi]['phih'].tolist()\n",
      "/var/folders/j9/hgt6bjfn0n78rvsbnlc10rqh0000gp/T/ipykernel_5407/690917321.py:11: UserWarning: Boolean Series key will be reindexed to match DataFrame index.\n",
      "  Fuu_1_1s = df_1xs_1_1[df_1xs_1_1['phih']>=i_phi_left][df_1xs_1_1['phih']<i_phi]['value'].tolist()\n",
      "/var/folders/j9/hgt6bjfn0n78rvsbnlc10rqh0000gp/T/ipykernel_5407/690917321.py:12: UserWarning: Boolean Series key will be reindexed to match DataFrame index.\n",
      "  Fuu_1_1_stats = df_1xs_1_1[df_1xs_1_1['phih']>=i_phi_left][df_1xs_1_1['phih']<i_phi]['stat'].tolist()\n",
      "/var/folders/j9/hgt6bjfn0n78rvsbnlc10rqh0000gp/T/ipykernel_5407/690917321.py:10: UserWarning: Boolean Series key will be reindexed to match DataFrame index.\n",
      "  phih_1_1s = df_1xs_1_1[df_1xs_1_1['phih']>=i_phi_left][df_1xs_1_1['phih']<i_phi]['phih'].tolist()\n",
      "/var/folders/j9/hgt6bjfn0n78rvsbnlc10rqh0000gp/T/ipykernel_5407/690917321.py:11: UserWarning: Boolean Series key will be reindexed to match DataFrame index.\n",
      "  Fuu_1_1s = df_1xs_1_1[df_1xs_1_1['phih']>=i_phi_left][df_1xs_1_1['phih']<i_phi]['value'].tolist()\n",
      "/var/folders/j9/hgt6bjfn0n78rvsbnlc10rqh0000gp/T/ipykernel_5407/690917321.py:12: UserWarning: Boolean Series key will be reindexed to match DataFrame index.\n",
      "  Fuu_1_1_stats = df_1xs_1_1[df_1xs_1_1['phih']>=i_phi_left][df_1xs_1_1['phih']<i_phi]['stat'].tolist()\n"
     ]
    },
    {
     "data": {
      "text/plain": [
       "Text(0, 0.5, '$F_{UU}$')"
      ]
     },
     "execution_count": 34,
     "metadata": {},
     "output_type": "execute_result"
    },
    {
     "data": {
      "image/png": "[encoded data removed]",
      "text/plain": [
       "<Figure size 640x480 with 1 Axes>"
      ]
     },
     "metadata": {},
     "output_type": "display_data"
    }
   ],
   "source": [
    "fig = plt.figure()\n",
    "ax = fig.add_subplot()\n",
    "phih_1_1=[]\n",
    "Fuu_1_1=[]\n",
    "Fuu_1_1_stat=[]\n",
    "Fuu_1_1_sys=[]\n",
    "i_phi_left = phih_bins[0]\n",
    "for i_phi in phih_bins[1:]:\n",
    "    print(i_phi_left,i_phi)\n",
    "    phih_1_1s = df_1xs_1_1[df_1xs_1_1['phih']>=i_phi_left][df_1xs_1_1['phih']<i_phi]['phih'].tolist()\n",
    "    Fuu_1_1s = df_1xs_1_1[df_1xs_1_1['phih']>=i_phi_left][df_1xs_1_1['phih']<i_phi]['value'].tolist()\n",
    "    Fuu_1_1_stats = df_1xs_1_1[df_1xs_1_1['phih']>=i_phi_left][df_1xs_1_1['phih']<i_phi]['stat'].tolist()\n",
    "    print(len(phih_1_1s))\n",
    "    \n",
    "    if len(phih_1_1s)>0:  \n",
    "        #print('phih',phih_1_1s)\n",
    "        #print('Fuu',Fuu_1_1s)\n",
    "        #print('Fuu_stat',Fuu_1_1_stats)\n",
    "        _Fuu_1_1 = Get_weighted_average(Fuu_1_1s,Fuu_1_1_stats)[0]\n",
    "        _Fuu_1_1_stat = Get_weighted_average(Fuu_1_1s,Fuu_1_1_stats)[1]\n",
    "        _phih_1_1= Get_weighted_average_phi(phih_1_1s,Fuu_1_1_stats)[0]\n",
    "        #print('_Fuu_1_1',_Fuu_1_1)\n",
    "        #print('_phih',_phih_1_1)\n",
    "        #print('_Fuu_stat',_Fuu_1_1_stat)\n",
    "        Fuu_1_1.append(_Fuu_1_1)\n",
    "        phih_1_1.append(_phih_1_1)\n",
    "        Fuu_1_1_stat.append(_Fuu_1_1_stat)\n",
    "        Fuu_1_1_sys.append(Sys_table[0][0]*_Fuu_1_1)\n",
    "        #print(Fuu_1_1,phih_1_1)\n",
    "        ax.plot([_phih_1_1,_phih_1_1],[_Fuu_1_1-_Fuu_1_1_stat,_Fuu_1_1+_Fuu_1_1_stat],color='blue',marker='_')\n",
    "    i_phi_left = i_phi\n",
    "    #print('phileft',i_phi_left)\n",
    "plt.plot(phih_1_1,Fuu_1_1,'bo')\n",
    "plt.xlabel('$\\phi_h$',fontsize=16)\n",
    "plt.ylabel('$F_{UU}$',fontsize=16)"
   ]
  },
  {
   "cell_type": "code",
   "execution_count": 35,
   "id": "5edcd85d",
   "metadata": {
    "scrolled": true
   },
   "outputs": [
    {
     "name": "stdout",
     "output_type": "stream",
     "text": [
      "-3.141592653589793 -2.5132741228718345\n",
      "78\n",
      "-2.5132741228718345 -1.8849555921538759\n",
      "89\n",
      "-1.8849555921538759 -1.2566370614359172\n",
      "101\n",
      "-1.2566370614359172 -0.6283185307179586\n",
      "91\n",
      "-0.6283185307179586 0.6283185307179586\n",
      "157\n",
      "0.6283185307179586 1.2566370614359172\n",
      "90\n",
      "1.2566370614359172 1.8849555921538759\n",
      "103\n",
      "1.8849555921538759 2.5132741228718345\n",
      "87\n",
      "2.5132741228718345 3.141592653589793\n",
      "81\n"
     ]
    },
    {
     "name": "stderr",
     "output_type": "stream",
     "text": [
      "/var/folders/j9/hgt6bjfn0n78rvsbnlc10rqh0000gp/T/ipykernel_5407/2884387368.py:10: UserWarning: Boolean Series key will be reindexed to match DataFrame index.\n",
      "  phih_1_2s = df_1xs_1_2[df_1xs_1_2['phih']>=i_phi_left][df_1xs_1_2['phih']<i_phi]['phih'].tolist()\n",
      "/var/folders/j9/hgt6bjfn0n78rvsbnlc10rqh0000gp/T/ipykernel_5407/2884387368.py:11: UserWarning: Boolean Series key will be reindexed to match DataFrame index.\n",
      "  Fuu_1_2s = df_1xs_1_2[df_1xs_1_2['phih']>=i_phi_left][df_1xs_1_2['phih']<i_phi]['value'].tolist()\n",
      "/var/folders/j9/hgt6bjfn0n78rvsbnlc10rqh0000gp/T/ipykernel_5407/2884387368.py:12: UserWarning: Boolean Series key will be reindexed to match DataFrame index.\n",
      "  Fuu_1_2_stats = df_1xs_1_2[df_1xs_1_2['phih']>=i_phi_left][df_1xs_1_2['phih']<i_phi]['stat'].tolist()\n",
      "/var/folders/j9/hgt6bjfn0n78rvsbnlc10rqh0000gp/T/ipykernel_5407/2884387368.py:10: UserWarning: Boolean Series key will be reindexed to match DataFrame index.\n",
      "  phih_1_2s = df_1xs_1_2[df_1xs_1_2['phih']>=i_phi_left][df_1xs_1_2['phih']<i_phi]['phih'].tolist()\n",
      "/var/folders/j9/hgt6bjfn0n78rvsbnlc10rqh0000gp/T/ipykernel_5407/2884387368.py:11: UserWarning: Boolean Series key will be reindexed to match DataFrame index.\n",
      "  Fuu_1_2s = df_1xs_1_2[df_1xs_1_2['phih']>=i_phi_left][df_1xs_1_2['phih']<i_phi]['value'].tolist()\n",
      "/var/folders/j9/hgt6bjfn0n78rvsbnlc10rqh0000gp/T/ipykernel_5407/2884387368.py:12: UserWarning: Boolean Series key will be reindexed to match DataFrame index.\n",
      "  Fuu_1_2_stats = df_1xs_1_2[df_1xs_1_2['phih']>=i_phi_left][df_1xs_1_2['phih']<i_phi]['stat'].tolist()\n",
      "/var/folders/j9/hgt6bjfn0n78rvsbnlc10rqh0000gp/T/ipykernel_5407/2884387368.py:10: UserWarning: Boolean Series key will be reindexed to match DataFrame index.\n",
      "  phih_1_2s = df_1xs_1_2[df_1xs_1_2['phih']>=i_phi_left][df_1xs_1_2['phih']<i_phi]['phih'].tolist()\n",
      "/var/folders/j9/hgt6bjfn0n78rvsbnlc10rqh0000gp/T/ipykernel_5407/2884387368.py:11: UserWarning: Boolean Series key will be reindexed to match DataFrame index.\n",
      "  Fuu_1_2s = df_1xs_1_2[df_1xs_1_2['phih']>=i_phi_left][df_1xs_1_2['phih']<i_phi]['value'].tolist()\n",
      "/var/folders/j9/hgt6bjfn0n78rvsbnlc10rqh0000gp/T/ipykernel_5407/2884387368.py:12: UserWarning: Boolean Series key will be reindexed to match DataFrame index.\n",
      "  Fuu_1_2_stats = df_1xs_1_2[df_1xs_1_2['phih']>=i_phi_left][df_1xs_1_2['phih']<i_phi]['stat'].tolist()\n",
      "/var/folders/j9/hgt6bjfn0n78rvsbnlc10rqh0000gp/T/ipykernel_5407/2884387368.py:10: UserWarning: Boolean Series key will be reindexed to match DataFrame index.\n",
      "  phih_1_2s = df_1xs_1_2[df_1xs_1_2['phih']>=i_phi_left][df_1xs_1_2['phih']<i_phi]['phih'].tolist()\n",
      "/var/folders/j9/hgt6bjfn0n78rvsbnlc10rqh0000gp/T/ipykernel_5407/2884387368.py:11: UserWarning: Boolean Series key will be reindexed to match DataFrame index.\n",
      "  Fuu_1_2s = df_1xs_1_2[df_1xs_1_2['phih']>=i_phi_left][df_1xs_1_2['phih']<i_phi]['value'].tolist()\n",
      "/var/folders/j9/hgt6bjfn0n78rvsbnlc10rqh0000gp/T/ipykernel_5407/2884387368.py:12: UserWarning: Boolean Series key will be reindexed to match DataFrame index.\n",
      "  Fuu_1_2_stats = df_1xs_1_2[df_1xs_1_2['phih']>=i_phi_left][df_1xs_1_2['phih']<i_phi]['stat'].tolist()\n",
      "/var/folders/j9/hgt6bjfn0n78rvsbnlc10rqh0000gp/T/ipykernel_5407/2884387368.py:10: UserWarning: Boolean Series key will be reindexed to match DataFrame index.\n",
      "  phih_1_2s = df_1xs_1_2[df_1xs_1_2['phih']>=i_phi_left][df_1xs_1_2['phih']<i_phi]['phih'].tolist()\n",
      "/var/folders/j9/hgt6bjfn0n78rvsbnlc10rqh0000gp/T/ipykernel_5407/2884387368.py:11: UserWarning: Boolean Series key will be reindexed to match DataFrame index.\n",
      "  Fuu_1_2s = df_1xs_1_2[df_1xs_1_2['phih']>=i_phi_left][df_1xs_1_2['phih']<i_phi]['value'].tolist()\n",
      "/var/folders/j9/hgt6bjfn0n78rvsbnlc10rqh0000gp/T/ipykernel_5407/2884387368.py:12: UserWarning: Boolean Series key will be reindexed to match DataFrame index.\n",
      "  Fuu_1_2_stats = df_1xs_1_2[df_1xs_1_2['phih']>=i_phi_left][df_1xs_1_2['phih']<i_phi]['stat'].tolist()\n",
      "/var/folders/j9/hgt6bjfn0n78rvsbnlc10rqh0000gp/T/ipykernel_5407/2884387368.py:10: UserWarning: Boolean Series key will be reindexed to match DataFrame index.\n",
      "  phih_1_2s = df_1xs_1_2[df_1xs_1_2['phih']>=i_phi_left][df_1xs_1_2['phih']<i_phi]['phih'].tolist()\n",
      "/var/folders/j9/hgt6bjfn0n78rvsbnlc10rqh0000gp/T/ipykernel_5407/2884387368.py:11: UserWarning: Boolean Series key will be reindexed to match DataFrame index.\n",
      "  Fuu_1_2s = df_1xs_1_2[df_1xs_1_2['phih']>=i_phi_left][df_1xs_1_2['phih']<i_phi]['value'].tolist()\n",
      "/var/folders/j9/hgt6bjfn0n78rvsbnlc10rqh0000gp/T/ipykernel_5407/2884387368.py:12: UserWarning: Boolean Series key will be reindexed to match DataFrame index.\n",
      "  Fuu_1_2_stats = df_1xs_1_2[df_1xs_1_2['phih']>=i_phi_left][df_1xs_1_2['phih']<i_phi]['stat'].tolist()\n",
      "/var/folders/j9/hgt6bjfn0n78rvsbnlc10rqh0000gp/T/ipykernel_5407/2884387368.py:10: UserWarning: Boolean Series key will be reindexed to match DataFrame index.\n",
      "  phih_1_2s = df_1xs_1_2[df_1xs_1_2['phih']>=i_phi_left][df_1xs_1_2['phih']<i_phi]['phih'].tolist()\n",
      "/var/folders/j9/hgt6bjfn0n78rvsbnlc10rqh0000gp/T/ipykernel_5407/2884387368.py:11: UserWarning: Boolean Series key will be reindexed to match DataFrame index.\n",
      "  Fuu_1_2s = df_1xs_1_2[df_1xs_1_2['phih']>=i_phi_left][df_1xs_1_2['phih']<i_phi]['value'].tolist()\n",
      "/var/folders/j9/hgt6bjfn0n78rvsbnlc10rqh0000gp/T/ipykernel_5407/2884387368.py:12: UserWarning: Boolean Series key will be reindexed to match DataFrame index.\n",
      "  Fuu_1_2_stats = df_1xs_1_2[df_1xs_1_2['phih']>=i_phi_left][df_1xs_1_2['phih']<i_phi]['stat'].tolist()\n",
      "/var/folders/j9/hgt6bjfn0n78rvsbnlc10rqh0000gp/T/ipykernel_5407/2884387368.py:10: UserWarning: Boolean Series key will be reindexed to match DataFrame index.\n",
      "  phih_1_2s = df_1xs_1_2[df_1xs_1_2['phih']>=i_phi_left][df_1xs_1_2['phih']<i_phi]['phih'].tolist()\n",
      "/var/folders/j9/hgt6bjfn0n78rvsbnlc10rqh0000gp/T/ipykernel_5407/2884387368.py:11: UserWarning: Boolean Series key will be reindexed to match DataFrame index.\n",
      "  Fuu_1_2s = df_1xs_1_2[df_1xs_1_2['phih']>=i_phi_left][df_1xs_1_2['phih']<i_phi]['value'].tolist()\n",
      "/var/folders/j9/hgt6bjfn0n78rvsbnlc10rqh0000gp/T/ipykernel_5407/2884387368.py:12: UserWarning: Boolean Series key will be reindexed to match DataFrame index.\n",
      "  Fuu_1_2_stats = df_1xs_1_2[df_1xs_1_2['phih']>=i_phi_left][df_1xs_1_2['phih']<i_phi]['stat'].tolist()\n"
     ]
    },
    {
     "data": {
      "text/plain": [
       "[<matplotlib.lines.Line2D at 0x11d031ab0>]"
      ]
     },
     "execution_count": 35,
     "metadata": {},
     "output_type": "execute_result"
    },
    {
     "data": {
      "image/png": "[encoded data removed]",
      "text/plain": [
       "<Figure size 640x480 with 1 Axes>"
      ]
     },
     "metadata": {},
     "output_type": "display_data"
    }
   ],
   "source": [
    "fig = plt.figure()\n",
    "ax = fig.add_subplot()\n",
    "phih_1_2=[]\n",
    "Fuu_1_2=[]\n",
    "Fuu_1_2_stat=[]\n",
    "Fuu_1_2_sys=[]\n",
    "i_phi_left = phih_bins[0]\n",
    "for i_phi in phih_bins[1:]:\n",
    "    print(i_phi_left,i_phi)\n",
    "    phih_1_2s = df_1xs_1_2[df_1xs_1_2['phih']>=i_phi_left][df_1xs_1_2['phih']<i_phi]['phih'].tolist()\n",
    "    Fuu_1_2s = df_1xs_1_2[df_1xs_1_2['phih']>=i_phi_left][df_1xs_1_2['phih']<i_phi]['value'].tolist()\n",
    "    Fuu_1_2_stats = df_1xs_1_2[df_1xs_1_2['phih']>=i_phi_left][df_1xs_1_2['phih']<i_phi]['stat'].tolist()\n",
    "    print(len(phih_1_2s))\n",
    "    \n",
    "    if len(phih_1_2s)>0:  \n",
    "        #print('phih',phih_1_2s)\n",
    "        #print('Fuu',Fuu_1_2s)\n",
    "        #print('Fuu_stat',Fuu_1_2_stats)\n",
    "        _Fuu_1_2 = Get_weighted_average(Fuu_1_2s,Fuu_1_2_stats)[0]\n",
    "        _Fuu_1_2_stat = Get_weighted_average(Fuu_1_2s,Fuu_1_2_stats)[1]\n",
    "        _phih_1_2= Get_weighted_average_phi(phih_1_2s,Fuu_1_2_stats)[0]\n",
    "        #print('_Fuu_1_2',_Fuu_1_2)\n",
    "        #print('_phih',_phih_1_2)\n",
    "        #print('_Fuu_stat',_Fuu_1_2_stat)\n",
    "        Fuu_1_2.append(_Fuu_1_2)\n",
    "        phih_1_2.append(_phih_1_2)\n",
    "        Fuu_1_2_stat.append(_Fuu_1_2_stat)\n",
    "        Fuu_1_2_sys.append(Sys_table[0][1]*_Fuu_1_2)\n",
    "        #print(Fuu_1_2,phih_1_2)\n",
    "        ax.plot([_phih_1_2,_phih_1_2],[_Fuu_1_2-_Fuu_1_2_stat,_Fuu_1_2+_Fuu_1_2_stat],color='blue',marker='_')\n",
    "    i_phi_left = i_phi\n",
    "    #print('phileft',i_phi_left)\n",
    "plt.plot(phih_1_2,Fuu_1_2,'bo')"
   ]
  },
  {
   "cell_type": "code",
   "execution_count": 36,
   "id": "98d71ccb",
   "metadata": {
    "scrolled": true
   },
   "outputs": [
    {
     "name": "stdout",
     "output_type": "stream",
     "text": [
      "-3.141592653589793 -2.5132741228718345\n",
      "33\n",
      "-2.5132741228718345 -1.8849555921538759\n",
      "35\n",
      "-1.8849555921538759 -1.2566370614359172\n",
      "42\n",
      "-1.2566370614359172 -0.6283185307179586\n",
      "35\n",
      "-0.6283185307179586 0.6283185307179586\n",
      "65\n",
      "0.6283185307179586 1.2566370614359172\n",
      "37\n",
      "1.2566370614359172 1.8849555921538759\n",
      "36\n",
      "1.8849555921538759 2.5132741228718345\n",
      "38\n",
      "2.5132741228718345 3.141592653589793\n",
      "32\n"
     ]
    },
    {
     "name": "stderr",
     "output_type": "stream",
     "text": [
      "/var/folders/j9/hgt6bjfn0n78rvsbnlc10rqh0000gp/T/ipykernel_5407/2565403742.py:10: UserWarning: Boolean Series key will be reindexed to match DataFrame index.\n",
      "  phih_1_3s = df_1xs_1_3[df_1xs_1_3['phih']>=i_phi_left][df_1xs_1_3['phih']<i_phi]['phih'].tolist()\n",
      "/var/folders/j9/hgt6bjfn0n78rvsbnlc10rqh0000gp/T/ipykernel_5407/2565403742.py:11: UserWarning: Boolean Series key will be reindexed to match DataFrame index.\n",
      "  Fuu_1_3s = df_1xs_1_3[df_1xs_1_3['phih']>=i_phi_left][df_1xs_1_3['phih']<i_phi]['value'].tolist()\n",
      "/var/folders/j9/hgt6bjfn0n78rvsbnlc10rqh0000gp/T/ipykernel_5407/2565403742.py:12: UserWarning: Boolean Series key will be reindexed to match DataFrame index.\n",
      "  Fuu_1_3_stats = df_1xs_1_3[df_1xs_1_3['phih']>=i_phi_left][df_1xs_1_3['phih']<i_phi]['stat'].tolist()\n",
      "/var/folders/j9/hgt6bjfn0n78rvsbnlc10rqh0000gp/T/ipykernel_5407/2565403742.py:10: UserWarning: Boolean Series key will be reindexed to match DataFrame index.\n",
      "  phih_1_3s = df_1xs_1_3[df_1xs_1_3['phih']>=i_phi_left][df_1xs_1_3['phih']<i_phi]['phih'].tolist()\n",
      "/var/folders/j9/hgt6bjfn0n78rvsbnlc10rqh0000gp/T/ipykernel_5407/2565403742.py:11: UserWarning: Boolean Series key will be reindexed to match DataFrame index.\n",
      "  Fuu_1_3s = df_1xs_1_3[df_1xs_1_3['phih']>=i_phi_left][df_1xs_1_3['phih']<i_phi]['value'].tolist()\n",
      "/var/folders/j9/hgt6bjfn0n78rvsbnlc10rqh0000gp/T/ipykernel_5407/2565403742.py:12: UserWarning: Boolean Series key will be reindexed to match DataFrame index.\n",
      "  Fuu_1_3_stats = df_1xs_1_3[df_1xs_1_3['phih']>=i_phi_left][df_1xs_1_3['phih']<i_phi]['stat'].tolist()\n",
      "/var/folders/j9/hgt6bjfn0n78rvsbnlc10rqh0000gp/T/ipykernel_5407/2565403742.py:10: UserWarning: Boolean Series key will be reindexed to match DataFrame index.\n",
      "  phih_1_3s = df_1xs_1_3[df_1xs_1_3['phih']>=i_phi_left][df_1xs_1_3['phih']<i_phi]['phih'].tolist()\n",
      "/var/folders/j9/hgt6bjfn0n78rvsbnlc10rqh0000gp/T/ipykernel_5407/2565403742.py:11: UserWarning: Boolean Series key will be reindexed to match DataFrame index.\n",
      "  Fuu_1_3s = df_1xs_1_3[df_1xs_1_3['phih']>=i_phi_left][df_1xs_1_3['phih']<i_phi]['value'].tolist()\n",
      "/var/folders/j9/hgt6bjfn0n78rvsbnlc10rqh0000gp/T/ipykernel_5407/2565403742.py:12: UserWarning: Boolean Series key will be reindexed to match DataFrame index.\n",
      "  Fuu_1_3_stats = df_1xs_1_3[df_1xs_1_3['phih']>=i_phi_left][df_1xs_1_3['phih']<i_phi]['stat'].tolist()\n",
      "/var/folders/j9/hgt6bjfn0n78rvsbnlc10rqh0000gp/T/ipykernel_5407/2565403742.py:10: UserWarning: Boolean Series key will be reindexed to match DataFrame index.\n",
      "  phih_1_3s = df_1xs_1_3[df_1xs_1_3['phih']>=i_phi_left][df_1xs_1_3['phih']<i_phi]['phih'].tolist()\n",
      "/var/folders/j9/hgt6bjfn0n78rvsbnlc10rqh0000gp/T/ipykernel_5407/2565403742.py:11: UserWarning: Boolean Series key will be reindexed to match DataFrame index.\n",
      "  Fuu_1_3s = df_1xs_1_3[df_1xs_1_3['phih']>=i_phi_left][df_1xs_1_3['phih']<i_phi]['value'].tolist()\n",
      "/var/folders/j9/hgt6bjfn0n78rvsbnlc10rqh0000gp/T/ipykernel_5407/2565403742.py:12: UserWarning: Boolean Series key will be reindexed to match DataFrame index.\n",
      "  Fuu_1_3_stats = df_1xs_1_3[df_1xs_1_3['phih']>=i_phi_left][df_1xs_1_3['phih']<i_phi]['stat'].tolist()\n",
      "/var/folders/j9/hgt6bjfn0n78rvsbnlc10rqh0000gp/T/ipykernel_5407/2565403742.py:10: UserWarning: Boolean Series key will be reindexed to match DataFrame index.\n",
      "  phih_1_3s = df_1xs_1_3[df_1xs_1_3['phih']>=i_phi_left][df_1xs_1_3['phih']<i_phi]['phih'].tolist()\n",
      "/var/folders/j9/hgt6bjfn0n78rvsbnlc10rqh0000gp/T/ipykernel_5407/2565403742.py:11: UserWarning: Boolean Series key will be reindexed to match DataFrame index.\n",
      "  Fuu_1_3s = df_1xs_1_3[df_1xs_1_3['phih']>=i_phi_left][df_1xs_1_3['phih']<i_phi]['value'].tolist()\n",
      "/var/folders/j9/hgt6bjfn0n78rvsbnlc10rqh0000gp/T/ipykernel_5407/2565403742.py:12: UserWarning: Boolean Series key will be reindexed to match DataFrame index.\n",
      "  Fuu_1_3_stats = df_1xs_1_3[df_1xs_1_3['phih']>=i_phi_left][df_1xs_1_3['phih']<i_phi]['stat'].tolist()\n",
      "/var/folders/j9/hgt6bjfn0n78rvsbnlc10rqh0000gp/T/ipykernel_5407/2565403742.py:10: UserWarning: Boolean Series key will be reindexed to match DataFrame index.\n",
      "  phih_1_3s = df_1xs_1_3[df_1xs_1_3['phih']>=i_phi_left][df_1xs_1_3['phih']<i_phi]['phih'].tolist()\n",
      "/var/folders/j9/hgt6bjfn0n78rvsbnlc10rqh0000gp/T/ipykernel_5407/2565403742.py:11: UserWarning: Boolean Series key will be reindexed to match DataFrame index.\n",
      "  Fuu_1_3s = df_1xs_1_3[df_1xs_1_3['phih']>=i_phi_left][df_1xs_1_3['phih']<i_phi]['value'].tolist()\n",
      "/var/folders/j9/hgt6bjfn0n78rvsbnlc10rqh0000gp/T/ipykernel_5407/2565403742.py:12: UserWarning: Boolean Series key will be reindexed to match DataFrame index.\n",
      "  Fuu_1_3_stats = df_1xs_1_3[df_1xs_1_3['phih']>=i_phi_left][df_1xs_1_3['phih']<i_phi]['stat'].tolist()\n",
      "/var/folders/j9/hgt6bjfn0n78rvsbnlc10rqh0000gp/T/ipykernel_5407/2565403742.py:10: UserWarning: Boolean Series key will be reindexed to match DataFrame index.\n",
      "  phih_1_3s = df_1xs_1_3[df_1xs_1_3['phih']>=i_phi_left][df_1xs_1_3['phih']<i_phi]['phih'].tolist()\n",
      "/var/folders/j9/hgt6bjfn0n78rvsbnlc10rqh0000gp/T/ipykernel_5407/2565403742.py:11: UserWarning: Boolean Series key will be reindexed to match DataFrame index.\n",
      "  Fuu_1_3s = df_1xs_1_3[df_1xs_1_3['phih']>=i_phi_left][df_1xs_1_3['phih']<i_phi]['value'].tolist()\n",
      "/var/folders/j9/hgt6bjfn0n78rvsbnlc10rqh0000gp/T/ipykernel_5407/2565403742.py:12: UserWarning: Boolean Series key will be reindexed to match DataFrame index.\n",
      "  Fuu_1_3_stats = df_1xs_1_3[df_1xs_1_3['phih']>=i_phi_left][df_1xs_1_3['phih']<i_phi]['stat'].tolist()\n",
      "/var/folders/j9/hgt6bjfn0n78rvsbnlc10rqh0000gp/T/ipykernel_5407/2565403742.py:10: UserWarning: Boolean Series key will be reindexed to match DataFrame index.\n",
      "  phih_1_3s = df_1xs_1_3[df_1xs_1_3['phih']>=i_phi_left][df_1xs_1_3['phih']<i_phi]['phih'].tolist()\n",
      "/var/folders/j9/hgt6bjfn0n78rvsbnlc10rqh0000gp/T/ipykernel_5407/2565403742.py:11: UserWarning: Boolean Series key will be reindexed to match DataFrame index.\n",
      "  Fuu_1_3s = df_1xs_1_3[df_1xs_1_3['phih']>=i_phi_left][df_1xs_1_3['phih']<i_phi]['value'].tolist()\n",
      "/var/folders/j9/hgt6bjfn0n78rvsbnlc10rqh0000gp/T/ipykernel_5407/2565403742.py:12: UserWarning: Boolean Series key will be reindexed to match DataFrame index.\n",
      "  Fuu_1_3_stats = df_1xs_1_3[df_1xs_1_3['phih']>=i_phi_left][df_1xs_1_3['phih']<i_phi]['stat'].tolist()\n"
     ]
    },
    {
     "data": {
      "text/plain": [
       "[<matplotlib.lines.Line2D at 0x11d0d81c0>]"
      ]
     },
     "execution_count": 36,
     "metadata": {},
     "output_type": "execute_result"
    },
    {
     "data": {
      "image/png": "[encoded data removed]",
      "text/plain": [
       "<Figure size 640x480 with 1 Axes>"
      ]
     },
     "metadata": {},
     "output_type": "display_data"
    }
   ],
   "source": [
    "fig = plt.figure()\n",
    "ax = fig.add_subplot()\n",
    "phih_1_3=[]\n",
    "Fuu_1_3=[]\n",
    "Fuu_1_3_stat=[]\n",
    "Fuu_1_3_sys=[]\n",
    "i_phi_left = phih_bins[0]\n",
    "for i_phi in phih_bins[1:]:\n",
    "    print(i_phi_left,i_phi)\n",
    "    phih_1_3s = df_1xs_1_3[df_1xs_1_3['phih']>=i_phi_left][df_1xs_1_3['phih']<i_phi]['phih'].tolist()\n",
    "    Fuu_1_3s = df_1xs_1_3[df_1xs_1_3['phih']>=i_phi_left][df_1xs_1_3['phih']<i_phi]['value'].tolist()\n",
    "    Fuu_1_3_stats = df_1xs_1_3[df_1xs_1_3['phih']>=i_phi_left][df_1xs_1_3['phih']<i_phi]['stat'].tolist()\n",
    "    print(len(phih_1_3s))\n",
    "    \n",
    "    if len(phih_1_3s)>0:  \n",
    "        #print('phih',phih_1_3s)\n",
    "        #print('Fuu',Fuu_1_3s)\n",
    "        #print('Fuu_stat',Fuu_1_3_stats)\n",
    "        _Fuu_1_3 = Get_weighted_average(Fuu_1_3s,Fuu_1_3_stats)[0]\n",
    "        _Fuu_1_3_stat = Get_weighted_average(Fuu_1_3s,Fuu_1_3_stats)[1]\n",
    "        _phih_1_3= Get_weighted_average_phi(phih_1_3s,Fuu_1_3_stats)[0]\n",
    "        #print('_Fuu_1_3',_Fuu_1_3)\n",
    "        #print('_phih',_phih_1_3)\n",
    "        #print('_Fuu_stat',_Fuu_1_3_stat)\n",
    "        Fuu_1_3.append(_Fuu_1_3)\n",
    "        phih_1_3.append(_phih_1_3)\n",
    "        Fuu_1_3_stat.append(_Fuu_1_3_stat)\n",
    "        Fuu_1_3_sys.append(Sys_table[0][2]*_Fuu_1_3)\n",
    "        #print(Fuu_1_3,phih_1_3)\n",
    "        ax.plot([_phih_1_3,_phih_1_3],[_Fuu_1_3-_Fuu_1_3_stat,_Fuu_1_3+_Fuu_1_3_stat],color='blue',marker='_')\n",
    "    i_phi_left = i_phi\n",
    "    #print('phileft',i_phi_left)\n",
    "plt.plot(phih_1_3,Fuu_1_3,'bo')"
   ]
  },
  {
   "cell_type": "code",
   "execution_count": 37,
   "id": "78c56c02",
   "metadata": {
    "scrolled": true
   },
   "outputs": [
    {
     "name": "stdout",
     "output_type": "stream",
     "text": [
      "-3.141592653589793 -2.5132741228718345\n",
      "0\n",
      "-2.5132741228718345 -1.8849555921538759\n",
      "0\n",
      "-1.8849555921538759 -1.2566370614359172\n",
      "0\n",
      "-1.2566370614359172 -0.6283185307179586\n",
      "0\n",
      "-0.6283185307179586 0.6283185307179586\n",
      "0\n",
      "0.6283185307179586 1.2566370614359172\n",
      "0\n",
      "1.2566370614359172 1.8849555921538759\n",
      "0\n",
      "1.8849555921538759 2.5132741228718345\n",
      "0\n",
      "2.5132741228718345 3.141592653589793\n",
      "0\n"
     ]
    },
    {
     "data": {
      "text/plain": [
       "[<matplotlib.lines.Line2D at 0x11d2322c0>]"
      ]
     },
     "execution_count": 37,
     "metadata": {},
     "output_type": "execute_result"
    },
    {
     "data": {
      "image/png": "[encoded data removed]",
      "text/plain": [
       "<Figure size 640x480 with 1 Axes>"
      ]
     },
     "metadata": {},
     "output_type": "display_data"
    }
   ],
   "source": [
    "fig = plt.figure()\n",
    "ax = fig.add_subplot()\n",
    "phih_2_1=[]\n",
    "Fuu_2_1=[]\n",
    "Fuu_2_1_stat=[]\n",
    "Fuu_2_1_sys=[]\n",
    "i_phi_left = phih_bins[0]\n",
    "for i_phi in phih_bins[1:]:\n",
    "    print(i_phi_left,i_phi)\n",
    "    phih_2_1s = df_1xs_2_1[df_1xs_2_1['phih']>=i_phi_left][df_1xs_2_1['phih']<i_phi]['phih'].tolist()\n",
    "    Fuu_2_1s = df_1xs_2_1[df_1xs_2_1['phih']>=i_phi_left][df_1xs_2_1['phih']<i_phi]['value'].tolist()\n",
    "    Fuu_2_1_stats = df_1xs_2_1[df_1xs_2_1['phih']>=i_phi_left][df_1xs_2_1['phih']<i_phi]['stat'].tolist()\n",
    "    print(len(phih_2_1s))\n",
    "    \n",
    "    if len(phih_2_1s)>0:  \n",
    "        #print('phih',phih_2_1s)\n",
    "        #print('Fuu',Fuu_2_1s)\n",
    "        #print('Fuu_stat',Fuu_2_1_stats)\n",
    "        _Fuu_2_1 = Get_weighted_average(Fuu_2_1s,Fuu_2_1_stats)[0]\n",
    "        _Fuu_2_1_stat = Get_weighted_average(Fuu_2_1s,Fuu_2_1_stats)[1]\n",
    "        _phih_2_1= Get_weighted_average_phi(phih_2_1s,Fuu_2_1_stats)[0]\n",
    "        #print('_Fuu_2_1',_Fuu_2_1)\n",
    "        #print('_phih',_phih_2_1)\n",
    "        #print('_Fuu_stat',_Fuu_2_1_stat)\n",
    "        Fuu_2_1.append(_Fuu_2_1)\n",
    "        phih_2_1.append(_phih_2_1)\n",
    "        Fuu_2_1_stat.append(_Fuu_2_1_stat)\n",
    "        Fuu_2_1_sys.append(Sys_table[1][0]*_Fuu_2_1)\n",
    "        #print(Fuu_2_1,phih_2_1)\n",
    "        ax.plot([_phih_2_1,_phih_2_1],[_Fuu_2_1-_Fuu_2_1_stat,_Fuu_2_1+_Fuu_2_1_stat],color='blue',marker='_')\n",
    "    i_phi_left = i_phi\n",
    "    #print('phileft',i_phi_left)\n",
    "plt.plot(phih_2_1,Fuu_2_1,'bo')"
   ]
  },
  {
   "cell_type": "code",
   "execution_count": 38,
   "id": "9f764588",
   "metadata": {
    "scrolled": true
   },
   "outputs": [
    {
     "name": "stdout",
     "output_type": "stream",
     "text": [
      "-3.141592653589793 -2.5132741228718345\n",
      "0\n",
      "-2.5132741228718345 -1.8849555921538759\n",
      "0\n",
      "-1.8849555921538759 -1.2566370614359172\n",
      "0\n",
      "-1.2566370614359172 -0.6283185307179586\n",
      "0\n",
      "-0.6283185307179586 0.6283185307179586\n",
      "0\n",
      "0.6283185307179586 1.2566370614359172\n",
      "0\n",
      "1.2566370614359172 1.8849555921538759\n",
      "0\n",
      "1.8849555921538759 2.5132741228718345\n",
      "0\n",
      "2.5132741228718345 3.141592653589793\n",
      "0\n"
     ]
    },
    {
     "data": {
      "text/plain": [
       "[<matplotlib.lines.Line2D at 0x11d29dde0>]"
      ]
     },
     "execution_count": 38,
     "metadata": {},
     "output_type": "execute_result"
    },
    {
     "data": {
      "image/png": "[encoded data removed]",
      "text/plain": [
       "<Figure size 640x480 with 1 Axes>"
      ]
     },
     "metadata": {},
     "output_type": "display_data"
    }
   ],
   "source": [
    "fig = plt.figure()\n",
    "ax = fig.add_subplot()\n",
    "phih_2_2=[]\n",
    "Fuu_2_2=[]\n",
    "Fuu_2_2_stat=[]\n",
    "Fuu_2_2_sys=[]\n",
    "i_phi_left = phih_bins[0]\n",
    "for i_phi in phih_bins[1:]:\n",
    "    print(i_phi_left,i_phi)\n",
    "    phih_2_2s = df_1xs_2_2[df_1xs_2_2['phih']>=i_phi_left][df_1xs_2_2['phih']<i_phi]['phih'].tolist()\n",
    "    Fuu_2_2s = df_1xs_2_2[df_1xs_2_2['phih']>=i_phi_left][df_1xs_2_2['phih']<i_phi]['value'].tolist()\n",
    "    Fuu_2_2_stats = df_1xs_2_2[df_1xs_2_2['phih']>=i_phi_left][df_1xs_2_2['phih']<i_phi]['stat'].tolist()\n",
    "    print(len(phih_2_2s))\n",
    "    \n",
    "    if len(phih_2_2s)>0:  \n",
    "        #print('phih',phih_2_2s)\n",
    "        #print('Fuu',Fuu_2_2s)\n",
    "        #print('Fuu_stat',Fuu_2_2_stats)\n",
    "        _Fuu_2_2 = Get_weighted_average(Fuu_2_2s,Fuu_2_2_stats)[0]\n",
    "        _Fuu_2_2_stat = Get_weighted_average(Fuu_2_2s,Fuu_2_2_stats)[1]\n",
    "        _phih_2_2= Get_weighted_average_phi(phih_2_2s,Fuu_2_2_stats)[0]\n",
    "        #print('_Fuu_2_2',_Fuu_2_2)\n",
    "        #print('_phih',_phih_2_2)\n",
    "        #print('_Fuu_stat',_Fuu_2_2_stat)\n",
    "        Fuu_2_2.append(_Fuu_2_2)\n",
    "        phih_2_2.append(_phih_2_2)\n",
    "        Fuu_2_2_stat.append(_Fuu_2_2_stat)\n",
    "        Fuu_2_2_sys.append(Sys_table[1][1]*_Fuu_2_2)\n",
    "        #print(Fuu_2_2,phih_2_2)\n",
    "        ax.plot([_phih_2_2,_phih_2_2],[_Fuu_2_2-_Fuu_2_2_stat,_Fuu_2_2+_Fuu_2_2_stat],color='blue',marker='_')\n",
    "    i_phi_left = i_phi\n",
    "    #print('phileft',i_phi_left)\n",
    "plt.plot(phih_2_2,Fuu_2_2,'bo')"
   ]
  },
  {
   "cell_type": "code",
   "execution_count": 39,
   "id": "bb9a9314",
   "metadata": {
    "scrolled": true
   },
   "outputs": [
    {
     "name": "stdout",
     "output_type": "stream",
     "text": [
      "-3.141592653589793 -2.5132741228718345\n",
      "0\n",
      "-2.5132741228718345 -1.8849555921538759\n",
      "0\n",
      "-1.8849555921538759 -1.2566370614359172\n",
      "0\n",
      "-1.2566370614359172 -0.6283185307179586\n",
      "0\n",
      "-0.6283185307179586 0.6283185307179586\n",
      "0\n",
      "0.6283185307179586 1.2566370614359172\n",
      "0\n",
      "1.2566370614359172 1.8849555921538759\n",
      "0\n",
      "1.8849555921538759 2.5132741228718345\n",
      "0\n",
      "2.5132741228718345 3.141592653589793\n",
      "0\n"
     ]
    },
    {
     "data": {
      "text/plain": [
       "[<matplotlib.lines.Line2D at 0x11d3121a0>]"
      ]
     },
     "execution_count": 39,
     "metadata": {},
     "output_type": "execute_result"
    },
    {
     "data": {
      "image/png": "[encoded data removed]",
      "text/plain": [
       "<Figure size 640x480 with 1 Axes>"
      ]
     },
     "metadata": {},
     "output_type": "display_data"
    }
   ],
   "source": [
    "fig = plt.figure()\n",
    "ax = fig.add_subplot()\n",
    "phih_2_3=[]\n",
    "Fuu_2_3=[]\n",
    "Fuu_2_3_stat=[]\n",
    "Fuu_2_3_sys=[]\n",
    "i_phi_left = phih_bins[0]\n",
    "for i_phi in phih_bins[1:]:\n",
    "    print(i_phi_left,i_phi)\n",
    "    phih_2_3s = df_1xs_2_3[df_1xs_2_3['phih']>=i_phi_left][df_1xs_2_3['phih']<i_phi]['phih'].tolist()\n",
    "    Fuu_2_3s = df_1xs_2_3[df_1xs_2_3['phih']>=i_phi_left][df_1xs_2_3['phih']<i_phi]['value'].tolist()\n",
    "    Fuu_2_3_stats = df_1xs_2_3[df_1xs_2_3['phih']>=i_phi_left][df_1xs_2_3['phih']<i_phi]['stat'].tolist()\n",
    "    print(len(phih_2_3s))\n",
    "    \n",
    "    if len(phih_2_3s)>0:  \n",
    "        #print('phih',phih_2_3s)\n",
    "        #print('Fuu',Fuu_2_3s)\n",
    "        #print('Fuu_stat',Fuu_2_3_stats)\n",
    "        _Fuu_2_3 = Get_weighted_average(Fuu_2_3s,Fuu_2_3_stats)[0]\n",
    "        _Fuu_2_3_stat = Get_weighted_average(Fuu_2_3s,Fuu_2_3_stats)[1]\n",
    "        _phih_2_3= Get_weighted_average_phi(phih_2_3s,Fuu_2_3_stats)[0]\n",
    "        #print('_Fuu_2_3',_Fuu_2_3)\n",
    "        #print('_phih',_phih_2_3)\n",
    "        #print('_Fuu_stat',_Fuu_2_3_stat)\n",
    "        Fuu_2_3.append(_Fuu_2_3)\n",
    "        phih_2_3.append(_phih_2_3)\n",
    "        Fuu_2_3_stat.append(_Fuu_2_3_stat)\n",
    "        Fuu_2_3_sys.append(Sys_table[1][2]*_Fuu_2_3)\n",
    "        #print(Fuu_2_3,phih_2_3)\n",
    "        ax.plot([_phih_2_3,_phih_2_3],[_Fuu_2_3-_Fuu_2_3_stat,_Fuu_2_3+_Fuu_2_3_stat],color='blue',marker='_')\n",
    "    i_phi_left = i_phi\n",
    "    #print('phileft',i_phi_left)\n",
    "plt.plot(phih_2_3,Fuu_2_3,'bo')"
   ]
  },
  {
   "cell_type": "code",
   "execution_count": 40,
   "id": "2dc860e2",
   "metadata": {
    "scrolled": true
   },
   "outputs": [
    {
     "name": "stdout",
     "output_type": "stream",
     "text": [
      "-3.141592653589793 -2.5132741228718345\n",
      "0\n",
      "-2.5132741228718345 -1.8849555921538759\n",
      "0\n",
      "-1.8849555921538759 -1.2566370614359172\n",
      "0\n",
      "-1.2566370614359172 -0.6283185307179586\n",
      "0\n",
      "-0.6283185307179586 0.6283185307179586\n",
      "0\n",
      "0.6283185307179586 1.2566370614359172\n",
      "0\n",
      "1.2566370614359172 1.8849555921538759\n",
      "0\n",
      "1.8849555921538759 2.5132741228718345\n",
      "0\n",
      "2.5132741228718345 3.141592653589793\n",
      "0\n"
     ]
    },
    {
     "data": {
      "text/plain": [
       "[<matplotlib.lines.Line2D at 0x11d29e9e0>]"
      ]
     },
     "execution_count": 40,
     "metadata": {},
     "output_type": "execute_result"
    },
    {
     "data": {
      "image/png": "[encoded data removed]",
      "text/plain": [
       "<Figure size 640x480 with 1 Axes>"
      ]
     },
     "metadata": {},
     "output_type": "display_data"
    }
   ],
   "source": [
    "fig = plt.figure()\n",
    "ax = fig.add_subplot()\n",
    "phih_3_1=[]\n",
    "Fuu_3_1=[]\n",
    "Fuu_3_1_stat=[]\n",
    "Fuu_3_1_sys=[]\n",
    "i_phi_left = phih_bins[0]\n",
    "for i_phi in phih_bins[1:]:\n",
    "    print(i_phi_left,i_phi)\n",
    "    phih_3_1s = df_1xs_3_1[df_1xs_3_1['phih']>=i_phi_left][df_1xs_3_1['phih']<i_phi]['phih'].tolist()\n",
    "    Fuu_3_1s = df_1xs_3_1[df_1xs_3_1['phih']>=i_phi_left][df_1xs_3_1['phih']<i_phi]['value'].tolist()\n",
    "    Fuu_3_1_stats = df_1xs_3_1[df_1xs_3_1['phih']>=i_phi_left][df_1xs_3_1['phih']<i_phi]['stat'].tolist()\n",
    "    print(len(phih_3_1s))\n",
    "    \n",
    "    if len(phih_3_1s)>0:  \n",
    "        #print('phih',phih_3_1s)\n",
    "        #print('Fuu',Fuu_3_1s)\n",
    "        #print('Fuu_stat',Fuu_3_1_stats)\n",
    "        _Fuu_3_1 = Get_weighted_average(Fuu_3_1s,Fuu_3_1_stats)[0]\n",
    "        _Fuu_3_1_stat = Get_weighted_average(Fuu_3_1s,Fuu_3_1_stats)[1]\n",
    "        _phih_3_1= Get_weighted_average_phi(phih_3_1s,Fuu_3_1_stats)[0]\n",
    "        #print('_Fuu_3_1',_Fuu_3_1)\n",
    "        #print('_phih',_phih_3_1)\n",
    "        #print('_Fuu_stat',_Fuu_3_1_stat)\n",
    "        Fuu_3_1.append(_Fuu_3_1)\n",
    "        phih_3_1.append(_phih_3_1)\n",
    "        Fuu_3_1_stat.append(_Fuu_3_1_stat)\n",
    "        Fuu_3_1_sys.append(Sys_table[2][0]*_Fuu_3_1)\n",
    "        #print(Fuu_3_1,phih_3_1)\n",
    "        ax.plot([_phih_3_1,_phih_3_1],[_Fuu_3_1-_Fuu_3_1_stat,_Fuu_3_1+_Fuu_3_1_stat],color='blue',marker='_')\n",
    "    i_phi_left = i_phi\n",
    "    #print('phileft',i_phi_left)\n",
    "plt.plot(phih_3_1,Fuu_3_1,'bo')"
   ]
  },
  {
   "cell_type": "code",
   "execution_count": 41,
   "id": "32e520b0",
   "metadata": {
    "scrolled": true
   },
   "outputs": [
    {
     "name": "stdout",
     "output_type": "stream",
     "text": [
      "-3.141592653589793 -2.5132741228718345\n",
      "0\n",
      "-2.5132741228718345 -1.8849555921538759\n",
      "0\n",
      "-1.8849555921538759 -1.2566370614359172\n",
      "0\n",
      "-1.2566370614359172 -0.6283185307179586\n",
      "0\n",
      "-0.6283185307179586 0.6283185307179586\n",
      "0\n",
      "0.6283185307179586 1.2566370614359172\n",
      "0\n",
      "1.2566370614359172 1.8849555921538759\n",
      "0\n",
      "1.8849555921538759 2.5132741228718345\n",
      "0\n",
      "2.5132741228718345 3.141592653589793\n",
      "0\n"
     ]
    },
    {
     "data": {
      "text/plain": [
       "[<matplotlib.lines.Line2D at 0x11d3ed840>]"
      ]
     },
     "execution_count": 41,
     "metadata": {},
     "output_type": "execute_result"
    },
    {
     "data": {
      "image/png": "[encoded data removed]",
      "text/plain": [
       "<Figure size 640x480 with 1 Axes>"
      ]
     },
     "metadata": {},
     "output_type": "display_data"
    }
   ],
   "source": [
    "fig = plt.figure()\n",
    "ax = fig.add_subplot()\n",
    "phih_3_2=[]\n",
    "Fuu_3_2=[]\n",
    "Fuu_3_2_stat=[]\n",
    "Fuu_3_2_sys=[]\n",
    "i_phi_left = phih_bins[0]\n",
    "for i_phi in phih_bins[1:]:\n",
    "    print(i_phi_left,i_phi)\n",
    "    phih_3_2s = df_1xs_3_2[df_1xs_3_2['phih']>=i_phi_left][df_1xs_3_2['phih']<i_phi]['phih'].tolist()\n",
    "    Fuu_3_2s = df_1xs_3_2[df_1xs_3_2['phih']>=i_phi_left][df_1xs_3_2['phih']<i_phi]['value'].tolist()\n",
    "    Fuu_3_2_stats = df_1xs_3_2[df_1xs_3_2['phih']>=i_phi_left][df_1xs_3_2['phih']<i_phi]['stat'].tolist()\n",
    "    print(len(phih_3_2s))\n",
    "    \n",
    "    if len(phih_3_2s)>0:  \n",
    "        #print('phih',phih_3_2s)\n",
    "        #print('Fuu',Fuu_3_2s)\n",
    "        #print('Fuu_stat',Fuu_3_2_stats)\n",
    "        _Fuu_3_2 = Get_weighted_average(Fuu_3_2s,Fuu_3_2_stats)[0]\n",
    "        _Fuu_3_2_stat = Get_weighted_average(Fuu_3_2s,Fuu_3_2_stats)[1]\n",
    "        _phih_3_2= Get_weighted_average_phi(phih_3_2s,Fuu_3_2_stats)[0]\n",
    "        #print('_Fuu_3_2',_Fuu_3_2)\n",
    "        #print('_phih',_phih_3_2)\n",
    "        #print('_Fuu_stat',_Fuu_3_2_stat)\n",
    "        Fuu_3_2.append(_Fuu_3_2)\n",
    "        phih_3_2.append(_phih_3_2)\n",
    "        Fuu_3_2_stat.append(_Fuu_3_2_stat)\n",
    "        Fuu_3_2_sys.append(Sys_table[2][1]*_Fuu_3_2)\n",
    "        #print(Fuu_3_2,phih_3_2)\n",
    "        ax.plot([_phih_3_2,_phih_3_2],[_Fuu_3_2-_Fuu_3_2_stat,_Fuu_3_2+_Fuu_3_2_stat],color='blue',marker='_')\n",
    "    i_phi_left = i_phi\n",
    "    #print('phileft',i_phi_left)\n",
    "plt.plot(phih_3_2,Fuu_3_2,'bo')"
   ]
  },
  {
   "cell_type": "code",
   "execution_count": 42,
   "id": "353e51d7",
   "metadata": {
    "scrolled": true
   },
   "outputs": [
    {
     "name": "stdout",
     "output_type": "stream",
     "text": [
      "-3.141592653589793 -2.5132741228718345\n",
      "0\n",
      "-2.5132741228718345 -1.8849555921538759\n",
      "0\n",
      "-1.8849555921538759 -1.2566370614359172\n",
      "0\n",
      "-1.2566370614359172 -0.6283185307179586\n",
      "0\n",
      "-0.6283185307179586 0.6283185307179586\n",
      "0\n",
      "0.6283185307179586 1.2566370614359172\n",
      "0\n",
      "1.2566370614359172 1.8849555921538759\n",
      "0\n",
      "1.8849555921538759 2.5132741228718345\n",
      "0\n",
      "2.5132741228718345 3.141592653589793\n",
      "0\n"
     ]
    },
    {
     "data": {
      "text/plain": [
       "[<matplotlib.lines.Line2D at 0x11d27c7f0>]"
      ]
     },
     "execution_count": 42,
     "metadata": {},
     "output_type": "execute_result"
    },
    {
     "data": {
      "image/png": "[encoded data removed]",
      "text/plain": [
       "<Figure size 640x480 with 1 Axes>"
      ]
     },
     "metadata": {},
     "output_type": "display_data"
    }
   ],
   "source": [
    "fig = plt.figure()\n",
    "ax = fig.add_subplot()\n",
    "phih_3_3=[]\n",
    "Fuu_3_3=[]\n",
    "Fuu_3_3_stat=[]\n",
    "Fuu_3_3_sys=[]\n",
    "i_phi_left = phih_bins[0]\n",
    "for i_phi in phih_bins[1:]:\n",
    "    print(i_phi_left,i_phi)\n",
    "    phih_3_3s = df_1xs_3_3[df_1xs_3_3['phih']>=i_phi_left][df_1xs_3_3['phih']<i_phi]['phih'].tolist()\n",
    "    Fuu_3_3s = df_1xs_3_3[df_1xs_3_3['phih']>=i_phi_left][df_1xs_3_3['phih']<i_phi]['value'].tolist()\n",
    "    Fuu_3_3_stats = df_1xs_3_3[df_1xs_3_3['phih']>=i_phi_left][df_1xs_3_3['phih']<i_phi]['stat'].tolist()\n",
    "    print(len(phih_3_3s))\n",
    "    \n",
    "    if len(phih_3_3s)>0:  \n",
    "        #print('phih',phih_3_3s)\n",
    "        #print('Fuu',Fuu_3_3s)\n",
    "        #print('Fuu_stat',Fuu_3_3_stats)\n",
    "        _Fuu_3_3 = Get_weighted_average(Fuu_3_3s,Fuu_3_3_stats)[0]\n",
    "        _Fuu_3_3_stat = Get_weighted_average(Fuu_3_3s,Fuu_3_3_stats)[1]\n",
    "        _phih_3_3= Get_weighted_average_phi(phih_3_3s,Fuu_3_3_stats)[0]\n",
    "        #print('_Fuu_3_3',_Fuu_3_3)\n",
    "        #print('_phih',_phih_3_3)\n",
    "        #print('_Fuu_stat',_Fuu_3_3_stat)\n",
    "        Fuu_3_3.append(_Fuu_3_3)\n",
    "        phih_3_3.append(_phih_3_3)\n",
    "        Fuu_3_3_stat.append(_Fuu_3_3_stat)\n",
    "        Fuu_3_3_sys.append(Sys_table[2][2]*_Fuu_3_3)\n",
    "        #print(Fuu_3_3,phih_3_3)\n",
    "        ax.plot([_phih_3_3,_phih_3_3],[_Fuu_3_3-_Fuu_3_3_stat,_Fuu_3_3+_Fuu_3_3_stat],color='blue',marker='_')\n",
    "    i_phi_left = i_phi\n",
    "    #print('phileft',i_phi_left)\n",
    "plt.plot(phih_3_3,Fuu_3_3,'bo')"
   ]
  },
  {
   "cell_type": "code",
   "execution_count": 43,
   "id": "5353444d",
   "metadata": {
    "scrolled": true
   },
   "outputs": [
    {
     "name": "stdout",
     "output_type": "stream",
     "text": [
      "-3.141592653589793 -2.5132741228718345\n",
      "0\n",
      "-2.5132741228718345 -1.8849555921538759\n",
      "0\n",
      "-1.8849555921538759 -1.2566370614359172\n",
      "0\n",
      "-1.2566370614359172 -0.6283185307179586\n",
      "0\n",
      "-0.6283185307179586 0.6283185307179586\n",
      "0\n",
      "0.6283185307179586 1.2566370614359172\n",
      "0\n",
      "1.2566370614359172 1.8849555921538759\n",
      "0\n",
      "1.8849555921538759 2.5132741228718345\n",
      "0\n",
      "2.5132741228718345 3.141592653589793\n",
      "0\n"
     ]
    },
    {
     "data": {
      "text/plain": [
       "[<matplotlib.lines.Line2D at 0x11b769ab0>]"
      ]
     },
     "execution_count": 43,
     "metadata": {},
     "output_type": "execute_result"
    },
    {
     "data": {
      "image/png": "[encoded data removed]",
      "text/plain": [
       "<Figure size 640x480 with 1 Axes>"
      ]
     },
     "metadata": {},
     "output_type": "display_data"
    }
   ],
   "source": [
    "fig = plt.figure()\n",
    "ax = fig.add_subplot()\n",
    "phih_4_1=[]\n",
    "Fuu_4_1=[]\n",
    "Fuu_4_1_stat=[]\n",
    "Fuu_4_1_sys=[]\n",
    "i_phi_left = phih_bins[0]\n",
    "for i_phi in phih_bins[1:]:\n",
    "    print(i_phi_left,i_phi)\n",
    "    phih_4_1s = df_1xs_4_1[df_1xs_4_1['phih']>=i_phi_left][df_1xs_4_1['phih']<i_phi]['phih'].tolist()\n",
    "    Fuu_4_1s = df_1xs_4_1[df_1xs_4_1['phih']>=i_phi_left][df_1xs_4_1['phih']<i_phi]['value'].tolist()\n",
    "    Fuu_4_1_stats = df_1xs_4_1[df_1xs_4_1['phih']>=i_phi_left][df_1xs_4_1['phih']<i_phi]['stat'].tolist()\n",
    "    print(len(phih_4_1s))\n",
    "    \n",
    "    if len(phih_4_1s)>0:  \n",
    "        #print('phih',phih_4_1s)\n",
    "        #print('Fuu',Fuu_4_1s)\n",
    "        #print('Fuu_stat',Fuu_4_1_stats)\n",
    "        _Fuu_4_1 = Get_weighted_average(Fuu_4_1s,Fuu_4_1_stats)[0]\n",
    "        _Fuu_4_1_stat = Get_weighted_average(Fuu_4_1s,Fuu_4_1_stats)[1]\n",
    "        _phih_4_1= Get_weighted_average_phi(phih_4_1s,Fuu_4_1_stats)[0]\n",
    "        #print('_Fuu_4_1',_Fuu_4_1)\n",
    "        #print('_phih',_phih_4_1)\n",
    "        #print('_Fuu_stat',_Fuu_4_1_stat)\n",
    "        Fuu_4_1.append(_Fuu_4_1)\n",
    "        phih_4_1.append(_phih_4_1)\n",
    "        Fuu_4_1_stat.append(_Fuu_4_1_stat)\n",
    "        Fuu_4_1_sys.append(Sys_table[3][0]*_Fuu_4_1)\n",
    "        #print(Fuu_4_1,phih_4_1)\n",
    "        ax.plot([_phih_4_1,_phih_4_1],[_Fuu_4_1-_Fuu_4_1_stat,_Fuu_4_1+_Fuu_4_1_stat],color='blue',marker='_')\n",
    "    i_phi_left = i_phi\n",
    "    #print('phileft',i_phi_left)\n",
    "plt.plot(phih_4_1,Fuu_4_1,'bo')"
   ]
  },
  {
   "cell_type": "code",
   "execution_count": 44,
   "id": "e95fd1ad",
   "metadata": {
    "scrolled": true
   },
   "outputs": [
    {
     "name": "stdout",
     "output_type": "stream",
     "text": [
      "-3.141592653589793 -2.5132741228718345\n",
      "0\n",
      "-2.5132741228718345 -1.8849555921538759\n",
      "0\n",
      "-1.8849555921538759 -1.2566370614359172\n",
      "0\n",
      "-1.2566370614359172 -0.6283185307179586\n",
      "0\n",
      "-0.6283185307179586 0.6283185307179586\n",
      "0\n",
      "0.6283185307179586 1.2566370614359172\n",
      "0\n",
      "1.2566370614359172 1.8849555921538759\n",
      "0\n",
      "1.8849555921538759 2.5132741228718345\n",
      "0\n",
      "2.5132741228718345 3.141592653589793\n",
      "0\n"
     ]
    },
    {
     "data": {
      "text/plain": [
       "[<matplotlib.lines.Line2D at 0x11b631330>]"
      ]
     },
     "execution_count": 44,
     "metadata": {},
     "output_type": "execute_result"
    },
    {
     "data": {
      "image/png": "[encoded data removed]",
      "text/plain": [
       "<Figure size 640x480 with 1 Axes>"
      ]
     },
     "metadata": {},
     "output_type": "display_data"
    }
   ],
   "source": [
    "fig = plt.figure()\n",
    "ax = fig.add_subplot()\n",
    "phih_4_2=[]\n",
    "Fuu_4_2=[]\n",
    "Fuu_4_2_stat=[]\n",
    "Fuu_4_2_sys=[]\n",
    "i_phi_left = phih_bins[0]\n",
    "for i_phi in phih_bins[1:]:\n",
    "    print(i_phi_left,i_phi)\n",
    "    phih_4_2s = df_1xs_4_2[df_1xs_4_2['phih']>=i_phi_left][df_1xs_4_2['phih']<i_phi]['phih'].tolist()\n",
    "    Fuu_4_2s = df_1xs_4_2[df_1xs_4_2['phih']>=i_phi_left][df_1xs_4_2['phih']<i_phi]['value'].tolist()\n",
    "    Fuu_4_2_stats = df_1xs_4_2[df_1xs_4_2['phih']>=i_phi_left][df_1xs_4_2['phih']<i_phi]['stat'].tolist()\n",
    "    print(len(phih_4_2s))\n",
    "    \n",
    "    if len(phih_4_2s)>0:  \n",
    "        #print('phih',phih_4_2s)\n",
    "        #print('Fuu',Fuu_4_2s)\n",
    "        #print('Fuu_stat',Fuu_4_2_stats)\n",
    "        _Fuu_4_2 = Get_weighted_average(Fuu_4_2s,Fuu_4_2_stats)[0]\n",
    "        _Fuu_4_2_stat = Get_weighted_average(Fuu_4_2s,Fuu_4_2_stats)[1]\n",
    "        _phih_4_2= Get_weighted_average_phi(phih_4_2s,Fuu_4_2_stats)[0]\n",
    "        #print('_Fuu_4_2',_Fuu_4_2)\n",
    "        #print('_phih',_phih_4_2)\n",
    "        #print('_Fuu_stat',_Fuu_4_2_stat)\n",
    "        Fuu_4_2.append(_Fuu_4_2)\n",
    "        phih_4_2.append(_phih_4_2)\n",
    "        Fuu_4_2_stat.append(_Fuu_4_2_stat)\n",
    "        Fuu_4_2_sys.append(Sys_table[3][1]*_Fuu_4_2)\n",
    "        #print(Fuu_4_2,phih_4_2)\n",
    "        ax.plot([_phih_4_2,_phih_4_2],[_Fuu_4_2-_Fuu_4_2_stat,_Fuu_4_2+_Fuu_4_2_stat],color='blue',marker='_')\n",
    "    i_phi_left = i_phi\n",
    "    #print('phileft',i_phi_left)\n",
    "plt.plot(phih_4_2,Fuu_4_2,'bo')"
   ]
  },
  {
   "cell_type": "code",
   "execution_count": 45,
   "id": "2fab40b4",
   "metadata": {
    "scrolled": true
   },
   "outputs": [
    {
     "name": "stdout",
     "output_type": "stream",
     "text": [
      "-3.141592653589793 -2.5132741228718345\n",
      "0\n",
      "-2.5132741228718345 -1.8849555921538759\n",
      "0\n",
      "-1.8849555921538759 -1.2566370614359172\n",
      "0\n",
      "-1.2566370614359172 -0.6283185307179586\n",
      "0\n",
      "-0.6283185307179586 0.6283185307179586\n",
      "0\n",
      "0.6283185307179586 1.2566370614359172\n",
      "0\n",
      "1.2566370614359172 1.8849555921538759\n",
      "0\n",
      "1.8849555921538759 2.5132741228718345\n",
      "0\n",
      "2.5132741228718345 3.141592653589793\n",
      "0\n"
     ]
    },
    {
     "data": {
      "text/plain": [
       "[<matplotlib.lines.Line2D at 0x11b57d600>]"
      ]
     },
     "execution_count": 45,
     "metadata": {},
     "output_type": "execute_result"
    },
    {
     "data": {
      "image/png": "[encoded data removed]",
      "text/plain": [
       "<Figure size 640x480 with 1 Axes>"
      ]
     },
     "metadata": {},
     "output_type": "display_data"
    }
   ],
   "source": [
    "fig = plt.figure()\n",
    "ax = fig.add_subplot()\n",
    "phih_4_3=[]\n",
    "Fuu_4_3=[]\n",
    "Fuu_4_3_stat=[]\n",
    "Fuu_4_3_sys=[]\n",
    "i_phi_left = phih_bins[0]\n",
    "for i_phi in phih_bins[1:]:\n",
    "    print(i_phi_left,i_phi)\n",
    "    phih_4_3s = df_1xs_4_3[df_1xs_4_3['phih']>=i_phi_left][df_1xs_4_3['phih']<i_phi]['phih'].tolist()\n",
    "    Fuu_4_3s = df_1xs_4_3[df_1xs_4_3['phih']>=i_phi_left][df_1xs_4_3['phih']<i_phi]['value'].tolist()\n",
    "    Fuu_4_3_stats = df_1xs_4_3[df_1xs_4_3['phih']>=i_phi_left][df_1xs_4_3['phih']<i_phi]['stat'].tolist()\n",
    "    print(len(phih_4_3s))\n",
    "    \n",
    "    if len(phih_4_3s)>0:  \n",
    "        #print('phih',phih_4_3s)\n",
    "        #print('Fuu',Fuu_4_3s)\n",
    "        #print('Fuu_stat',Fuu_4_3_stats)\n",
    "        _Fuu_4_3 = Get_weighted_average(Fuu_4_3s,Fuu_4_3_stats)[0]\n",
    "        _Fuu_4_3_stat = Get_weighted_average(Fuu_4_3s,Fuu_4_3_stats)[1]\n",
    "        _phih_4_3= Get_weighted_average_phi(phih_4_3s,Fuu_4_3_stats)[0]\n",
    "        #print('_Fuu_4_3',_Fuu_4_3)\n",
    "        #print('_phih',_phih_4_3)\n",
    "        #print('_Fuu_stat',_Fuu_4_3_stat)\n",
    "        Fuu_4_3.append(_Fuu_4_3)\n",
    "        phih_4_3.append(_phih_4_3)\n",
    "        Fuu_4_3_stat.append(_Fuu_4_3_stat)\n",
    "        Fuu_4_3_sys.append(Sys_table[3][2]*_Fuu_4_3)\n",
    "        #print(Fuu_4_3,phih_4_3)\n",
    "        ax.plot([_phih_4_3,_phih_4_3],[_Fuu_4_3-_Fuu_4_3_stat,_Fuu_4_3+_Fuu_4_3_stat],color='blue',marker='_')\n",
    "    i_phi_left = i_phi\n",
    "    #print('phileft',i_phi_left)\n",
    "plt.plot(phih_4_3,Fuu_4_3,'bo')"
   ]
  },
  {
   "cell_type": "code",
   "execution_count": 46,
   "id": "ac7881b8",
   "metadata": {
    "scrolled": true
   },
   "outputs": [
    {
     "name": "stdout",
     "output_type": "stream",
     "text": [
      "-3.141592653589793 -2.5132741228718345\n",
      "120\n",
      "-2.5132741228718345 -1.8849555921538759\n",
      "137\n",
      "-1.8849555921538759 -1.2566370614359172\n",
      "162\n",
      "-1.2566370614359172 -0.6283185307179586\n",
      "154\n",
      "-0.6283185307179586 0.6283185307179586\n",
      "196\n",
      "0.6283185307179586 1.2566370614359172\n",
      "154\n",
      "1.2566370614359172 1.8849555921538759\n",
      "162\n",
      "1.8849555921538759 2.5132741228718345\n",
      "137\n",
      "2.5132741228718345 3.141592653589793\n",
      "118\n"
     ]
    },
    {
     "name": "stderr",
     "output_type": "stream",
     "text": [
      "/var/folders/j9/hgt6bjfn0n78rvsbnlc10rqh0000gp/T/ipykernel_5407/3092226884.py:10: UserWarning: Boolean Series key will be reindexed to match DataFrame index.\n",
      "  phih_1_1s = df_3xs_1_1[df_3xs_1_1['phih']>=i_phi_left][df_3xs_1_1['phih']<i_phi]['phih'].tolist()\n",
      "/var/folders/j9/hgt6bjfn0n78rvsbnlc10rqh0000gp/T/ipykernel_5407/3092226884.py:11: UserWarning: Boolean Series key will be reindexed to match DataFrame index.\n",
      "  Fuu_1_1s = df_3xs_1_1[df_3xs_1_1['phih']>=i_phi_left][df_3xs_1_1['phih']<i_phi]['value'].tolist()\n",
      "/var/folders/j9/hgt6bjfn0n78rvsbnlc10rqh0000gp/T/ipykernel_5407/3092226884.py:12: UserWarning: Boolean Series key will be reindexed to match DataFrame index.\n",
      "  Fuu_1_1_stats = df_3xs_1_1[df_3xs_1_1['phih']>=i_phi_left][df_3xs_1_1['phih']<i_phi]['stat'].tolist()\n",
      "/var/folders/j9/hgt6bjfn0n78rvsbnlc10rqh0000gp/T/ipykernel_5407/3092226884.py:10: UserWarning: Boolean Series key will be reindexed to match DataFrame index.\n",
      "  phih_1_1s = df_3xs_1_1[df_3xs_1_1['phih']>=i_phi_left][df_3xs_1_1['phih']<i_phi]['phih'].tolist()\n",
      "/var/folders/j9/hgt6bjfn0n78rvsbnlc10rqh0000gp/T/ipykernel_5407/3092226884.py:11: UserWarning: Boolean Series key will be reindexed to match DataFrame index.\n",
      "  Fuu_1_1s = df_3xs_1_1[df_3xs_1_1['phih']>=i_phi_left][df_3xs_1_1['phih']<i_phi]['value'].tolist()\n",
      "/var/folders/j9/hgt6bjfn0n78rvsbnlc10rqh0000gp/T/ipykernel_5407/3092226884.py:12: UserWarning: Boolean Series key will be reindexed to match DataFrame index.\n",
      "  Fuu_1_1_stats = df_3xs_1_1[df_3xs_1_1['phih']>=i_phi_left][df_3xs_1_1['phih']<i_phi]['stat'].tolist()\n",
      "/var/folders/j9/hgt6bjfn0n78rvsbnlc10rqh0000gp/T/ipykernel_5407/3092226884.py:10: UserWarning: Boolean Series key will be reindexed to match DataFrame index.\n",
      "  phih_1_1s = df_3xs_1_1[df_3xs_1_1['phih']>=i_phi_left][df_3xs_1_1['phih']<i_phi]['phih'].tolist()\n",
      "/var/folders/j9/hgt6bjfn0n78rvsbnlc10rqh0000gp/T/ipykernel_5407/3092226884.py:11: UserWarning: Boolean Series key will be reindexed to match DataFrame index.\n",
      "  Fuu_1_1s = df_3xs_1_1[df_3xs_1_1['phih']>=i_phi_left][df_3xs_1_1['phih']<i_phi]['value'].tolist()\n",
      "/var/folders/j9/hgt6bjfn0n78rvsbnlc10rqh0000gp/T/ipykernel_5407/3092226884.py:12: UserWarning: Boolean Series key will be reindexed to match DataFrame index.\n",
      "  Fuu_1_1_stats = df_3xs_1_1[df_3xs_1_1['phih']>=i_phi_left][df_3xs_1_1['phih']<i_phi]['stat'].tolist()\n",
      "/var/folders/j9/hgt6bjfn0n78rvsbnlc10rqh0000gp/T/ipykernel_5407/3092226884.py:10: UserWarning: Boolean Series key will be reindexed to match DataFrame index.\n",
      "  phih_1_1s = df_3xs_1_1[df_3xs_1_1['phih']>=i_phi_left][df_3xs_1_1['phih']<i_phi]['phih'].tolist()\n",
      "/var/folders/j9/hgt6bjfn0n78rvsbnlc10rqh0000gp/T/ipykernel_5407/3092226884.py:11: UserWarning: Boolean Series key will be reindexed to match DataFrame index.\n",
      "  Fuu_1_1s = df_3xs_1_1[df_3xs_1_1['phih']>=i_phi_left][df_3xs_1_1['phih']<i_phi]['value'].tolist()\n",
      "/var/folders/j9/hgt6bjfn0n78rvsbnlc10rqh0000gp/T/ipykernel_5407/3092226884.py:12: UserWarning: Boolean Series key will be reindexed to match DataFrame index.\n",
      "  Fuu_1_1_stats = df_3xs_1_1[df_3xs_1_1['phih']>=i_phi_left][df_3xs_1_1['phih']<i_phi]['stat'].tolist()\n",
      "/var/folders/j9/hgt6bjfn0n78rvsbnlc10rqh0000gp/T/ipykernel_5407/3092226884.py:10: UserWarning: Boolean Series key will be reindexed to match DataFrame index.\n",
      "  phih_1_1s = df_3xs_1_1[df_3xs_1_1['phih']>=i_phi_left][df_3xs_1_1['phih']<i_phi]['phih'].tolist()\n",
      "/var/folders/j9/hgt6bjfn0n78rvsbnlc10rqh0000gp/T/ipykernel_5407/3092226884.py:11: UserWarning: Boolean Series key will be reindexed to match DataFrame index.\n",
      "  Fuu_1_1s = df_3xs_1_1[df_3xs_1_1['phih']>=i_phi_left][df_3xs_1_1['phih']<i_phi]['value'].tolist()\n",
      "/var/folders/j9/hgt6bjfn0n78rvsbnlc10rqh0000gp/T/ipykernel_5407/3092226884.py:12: UserWarning: Boolean Series key will be reindexed to match DataFrame index.\n",
      "  Fuu_1_1_stats = df_3xs_1_1[df_3xs_1_1['phih']>=i_phi_left][df_3xs_1_1['phih']<i_phi]['stat'].tolist()\n",
      "/var/folders/j9/hgt6bjfn0n78rvsbnlc10rqh0000gp/T/ipykernel_5407/3092226884.py:10: UserWarning: Boolean Series key will be reindexed to match DataFrame index.\n",
      "  phih_1_1s = df_3xs_1_1[df_3xs_1_1['phih']>=i_phi_left][df_3xs_1_1['phih']<i_phi]['phih'].tolist()\n",
      "/var/folders/j9/hgt6bjfn0n78rvsbnlc10rqh0000gp/T/ipykernel_5407/3092226884.py:11: UserWarning: Boolean Series key will be reindexed to match DataFrame index.\n",
      "  Fuu_1_1s = df_3xs_1_1[df_3xs_1_1['phih']>=i_phi_left][df_3xs_1_1['phih']<i_phi]['value'].tolist()\n",
      "/var/folders/j9/hgt6bjfn0n78rvsbnlc10rqh0000gp/T/ipykernel_5407/3092226884.py:12: UserWarning: Boolean Series key will be reindexed to match DataFrame index.\n",
      "  Fuu_1_1_stats = df_3xs_1_1[df_3xs_1_1['phih']>=i_phi_left][df_3xs_1_1['phih']<i_phi]['stat'].tolist()\n",
      "/var/folders/j9/hgt6bjfn0n78rvsbnlc10rqh0000gp/T/ipykernel_5407/3092226884.py:10: UserWarning: Boolean Series key will be reindexed to match DataFrame index.\n",
      "  phih_1_1s = df_3xs_1_1[df_3xs_1_1['phih']>=i_phi_left][df_3xs_1_1['phih']<i_phi]['phih'].tolist()\n",
      "/var/folders/j9/hgt6bjfn0n78rvsbnlc10rqh0000gp/T/ipykernel_5407/3092226884.py:11: UserWarning: Boolean Series key will be reindexed to match DataFrame index.\n",
      "  Fuu_1_1s = df_3xs_1_1[df_3xs_1_1['phih']>=i_phi_left][df_3xs_1_1['phih']<i_phi]['value'].tolist()\n",
      "/var/folders/j9/hgt6bjfn0n78rvsbnlc10rqh0000gp/T/ipykernel_5407/3092226884.py:12: UserWarning: Boolean Series key will be reindexed to match DataFrame index.\n",
      "  Fuu_1_1_stats = df_3xs_1_1[df_3xs_1_1['phih']>=i_phi_left][df_3xs_1_1['phih']<i_phi]['stat'].tolist()\n",
      "/var/folders/j9/hgt6bjfn0n78rvsbnlc10rqh0000gp/T/ipykernel_5407/3092226884.py:10: UserWarning: Boolean Series key will be reindexed to match DataFrame index.\n",
      "  phih_1_1s = df_3xs_1_1[df_3xs_1_1['phih']>=i_phi_left][df_3xs_1_1['phih']<i_phi]['phih'].tolist()\n",
      "/var/folders/j9/hgt6bjfn0n78rvsbnlc10rqh0000gp/T/ipykernel_5407/3092226884.py:11: UserWarning: Boolean Series key will be reindexed to match DataFrame index.\n",
      "  Fuu_1_1s = df_3xs_1_1[df_3xs_1_1['phih']>=i_phi_left][df_3xs_1_1['phih']<i_phi]['value'].tolist()\n",
      "/var/folders/j9/hgt6bjfn0n78rvsbnlc10rqh0000gp/T/ipykernel_5407/3092226884.py:12: UserWarning: Boolean Series key will be reindexed to match DataFrame index.\n",
      "  Fuu_1_1_stats = df_3xs_1_1[df_3xs_1_1['phih']>=i_phi_left][df_3xs_1_1['phih']<i_phi]['stat'].tolist()\n"
     ]
    },
    {
     "data": {
      "text/plain": [
       "Text(0, 0.5, '$F_{UU}$')"
      ]
     },
     "execution_count": 46,
     "metadata": {},
     "output_type": "execute_result"
    },
    {
     "data": {
      "image/png": "[encoded data removed]",
      "text/plain": [
       "<Figure size 640x480 with 1 Axes>"
      ]
     },
     "metadata": {},
     "output_type": "display_data"
    }
   ],
   "source": [
    "fig = plt.figure()\n",
    "ax = fig.add_subplot()\n",
    "phih_1_1_3xs=[]\n",
    "Fuu_1_1_3xs=[]\n",
    "Fuu_1_1_3xs_stat=[]\n",
    "Fuu_1_1_3xs_sys=[]\n",
    "i_phi_left = phih_bins[0]\n",
    "for i_phi in phih_bins[1:]:\n",
    "    print(i_phi_left,i_phi)\n",
    "    phih_1_1s = df_3xs_1_1[df_3xs_1_1['phih']>=i_phi_left][df_3xs_1_1['phih']<i_phi]['phih'].tolist()\n",
    "    Fuu_1_1s = df_3xs_1_1[df_3xs_1_1['phih']>=i_phi_left][df_3xs_1_1['phih']<i_phi]['value'].tolist()\n",
    "    Fuu_1_1_stats = df_3xs_1_1[df_3xs_1_1['phih']>=i_phi_left][df_3xs_1_1['phih']<i_phi]['stat'].tolist()\n",
    "    print(len(phih_1_1s))\n",
    "    \n",
    "    if len(phih_1_1s)>0:  \n",
    "        #print('phih',phih_1_1s)\n",
    "        #print('Fuu',Fuu_1_1s)\n",
    "        #print('Fuu_stat',Fuu_1_1_stats)\n",
    "        _Fuu_1_1 = Get_weighted_average(Fuu_1_1s,Fuu_1_1_stats)[0]\n",
    "        _Fuu_1_1_stat = Factor_3xs*Get_weighted_average(Fuu_1_1s,Fuu_1_1_stats)[1]\n",
    "        _phih_1_1= Get_weighted_average_phi(phih_1_1s,Fuu_1_1_stats)[0]\n",
    "        #print('_Fuu_1_1',_Fuu_1_1)\n",
    "        #print('_phih',_phih_1_1)\n",
    "        #print('_Fuu_stat',_Fuu_1_1_stat)\n",
    "        Fuu_1_1_3xs.append(_Fuu_1_1)\n",
    "        phih_1_1_3xs.append(_phih_1_1)\n",
    "        Fuu_1_1_3xs_stat.append(_Fuu_1_1_stat)\n",
    "        Fuu_1_1_3xs_sys.append(0.05*_Fuu_1_1)\n",
    "        #print(Fuu_1_1,phih_1_1)\n",
    "        ax.plot([_phih_1_1,_phih_1_1],[_Fuu_1_1-_Fuu_1_1_stat,_Fuu_1_1+_Fuu_1_1_stat],color='red',marker='_')\n",
    "    i_phi_left = i_phi\n",
    "    #print('phileft',i_phi_left)\n",
    "plt.plot(phih_1_1_3xs,Fuu_1_1_3xs,'ro')\n",
    "plt.xlabel('$\\phi_h$',fontsize=16)\n",
    "plt.ylabel('$F_{UU}$',fontsize=16)"
   ]
  },
  {
   "cell_type": "code",
   "execution_count": 47,
   "id": "03051da5",
   "metadata": {
    "scrolled": true
   },
   "outputs": [
    {
     "name": "stdout",
     "output_type": "stream",
     "text": [
      "-3.141592653589793 -2.5132741228718345\n",
      "78\n",
      "-2.5132741228718345 -1.8849555921538759\n",
      "89\n",
      "-1.8849555921538759 -1.2566370614359172\n",
      "101\n",
      "-1.2566370614359172 -0.6283185307179586\n",
      "91\n",
      "-0.6283185307179586 0.6283185307179586\n",
      "157\n",
      "0.6283185307179586 1.2566370614359172\n",
      "90\n",
      "1.2566370614359172 1.8849555921538759\n",
      "103\n",
      "1.8849555921538759 2.5132741228718345\n",
      "87\n",
      "2.5132741228718345 3.141592653589793\n",
      "81\n"
     ]
    },
    {
     "name": "stderr",
     "output_type": "stream",
     "text": [
      "/var/folders/j9/hgt6bjfn0n78rvsbnlc10rqh0000gp/T/ipykernel_5407/2648398505.py:10: UserWarning: Boolean Series key will be reindexed to match DataFrame index.\n",
      "  phih_1_2s = df_3xs_1_2[df_3xs_1_2['phih']>=i_phi_left][df_3xs_1_2['phih']<i_phi]['phih'].tolist()\n",
      "/var/folders/j9/hgt6bjfn0n78rvsbnlc10rqh0000gp/T/ipykernel_5407/2648398505.py:11: UserWarning: Boolean Series key will be reindexed to match DataFrame index.\n",
      "  Fuu_1_2s = df_3xs_1_2[df_3xs_1_2['phih']>=i_phi_left][df_3xs_1_2['phih']<i_phi]['value'].tolist()\n",
      "/var/folders/j9/hgt6bjfn0n78rvsbnlc10rqh0000gp/T/ipykernel_5407/2648398505.py:12: UserWarning: Boolean Series key will be reindexed to match DataFrame index.\n",
      "  Fuu_1_2_stats = df_3xs_1_2[df_3xs_1_2['phih']>=i_phi_left][df_3xs_1_2['phih']<i_phi]['stat'].tolist()\n",
      "/var/folders/j9/hgt6bjfn0n78rvsbnlc10rqh0000gp/T/ipykernel_5407/2648398505.py:10: UserWarning: Boolean Series key will be reindexed to match DataFrame index.\n",
      "  phih_1_2s = df_3xs_1_2[df_3xs_1_2['phih']>=i_phi_left][df_3xs_1_2['phih']<i_phi]['phih'].tolist()\n",
      "/var/folders/j9/hgt6bjfn0n78rvsbnlc10rqh0000gp/T/ipykernel_5407/2648398505.py:11: UserWarning: Boolean Series key will be reindexed to match DataFrame index.\n",
      "  Fuu_1_2s = df_3xs_1_2[df_3xs_1_2['phih']>=i_phi_left][df_3xs_1_2['phih']<i_phi]['value'].tolist()\n",
      "/var/folders/j9/hgt6bjfn0n78rvsbnlc10rqh0000gp/T/ipykernel_5407/2648398505.py:12: UserWarning: Boolean Series key will be reindexed to match DataFrame index.\n",
      "  Fuu_1_2_stats = df_3xs_1_2[df_3xs_1_2['phih']>=i_phi_left][df_3xs_1_2['phih']<i_phi]['stat'].tolist()\n",
      "/var/folders/j9/hgt6bjfn0n78rvsbnlc10rqh0000gp/T/ipykernel_5407/2648398505.py:10: UserWarning: Boolean Series key will be reindexed to match DataFrame index.\n",
      "  phih_1_2s = df_3xs_1_2[df_3xs_1_2['phih']>=i_phi_left][df_3xs_1_2['phih']<i_phi]['phih'].tolist()\n",
      "/var/folders/j9/hgt6bjfn0n78rvsbnlc10rqh0000gp/T/ipykernel_5407/2648398505.py:11: UserWarning: Boolean Series key will be reindexed to match DataFrame index.\n",
      "  Fuu_1_2s = df_3xs_1_2[df_3xs_1_2['phih']>=i_phi_left][df_3xs_1_2['phih']<i_phi]['value'].tolist()\n",
      "/var/folders/j9/hgt6bjfn0n78rvsbnlc10rqh0000gp/T/ipykernel_5407/2648398505.py:12: UserWarning: Boolean Series key will be reindexed to match DataFrame index.\n",
      "  Fuu_1_2_stats = df_3xs_1_2[df_3xs_1_2['phih']>=i_phi_left][df_3xs_1_2['phih']<i_phi]['stat'].tolist()\n",
      "/var/folders/j9/hgt6bjfn0n78rvsbnlc10rqh0000gp/T/ipykernel_5407/2648398505.py:10: UserWarning: Boolean Series key will be reindexed to match DataFrame index.\n",
      "  phih_1_2s = df_3xs_1_2[df_3xs_1_2['phih']>=i_phi_left][df_3xs_1_2['phih']<i_phi]['phih'].tolist()\n",
      "/var/folders/j9/hgt6bjfn0n78rvsbnlc10rqh0000gp/T/ipykernel_5407/2648398505.py:11: UserWarning: Boolean Series key will be reindexed to match DataFrame index.\n",
      "  Fuu_1_2s = df_3xs_1_2[df_3xs_1_2['phih']>=i_phi_left][df_3xs_1_2['phih']<i_phi]['value'].tolist()\n",
      "/var/folders/j9/hgt6bjfn0n78rvsbnlc10rqh0000gp/T/ipykernel_5407/2648398505.py:12: UserWarning: Boolean Series key will be reindexed to match DataFrame index.\n",
      "  Fuu_1_2_stats = df_3xs_1_2[df_3xs_1_2['phih']>=i_phi_left][df_3xs_1_2['phih']<i_phi]['stat'].tolist()\n",
      "/var/folders/j9/hgt6bjfn0n78rvsbnlc10rqh0000gp/T/ipykernel_5407/2648398505.py:10: UserWarning: Boolean Series key will be reindexed to match DataFrame index.\n",
      "  phih_1_2s = df_3xs_1_2[df_3xs_1_2['phih']>=i_phi_left][df_3xs_1_2['phih']<i_phi]['phih'].tolist()\n",
      "/var/folders/j9/hgt6bjfn0n78rvsbnlc10rqh0000gp/T/ipykernel_5407/2648398505.py:11: UserWarning: Boolean Series key will be reindexed to match DataFrame index.\n",
      "  Fuu_1_2s = df_3xs_1_2[df_3xs_1_2['phih']>=i_phi_left][df_3xs_1_2['phih']<i_phi]['value'].tolist()\n",
      "/var/folders/j9/hgt6bjfn0n78rvsbnlc10rqh0000gp/T/ipykernel_5407/2648398505.py:12: UserWarning: Boolean Series key will be reindexed to match DataFrame index.\n",
      "  Fuu_1_2_stats = df_3xs_1_2[df_3xs_1_2['phih']>=i_phi_left][df_3xs_1_2['phih']<i_phi]['stat'].tolist()\n",
      "/var/folders/j9/hgt6bjfn0n78rvsbnlc10rqh0000gp/T/ipykernel_5407/2648398505.py:10: UserWarning: Boolean Series key will be reindexed to match DataFrame index.\n",
      "  phih_1_2s = df_3xs_1_2[df_3xs_1_2['phih']>=i_phi_left][df_3xs_1_2['phih']<i_phi]['phih'].tolist()\n",
      "/var/folders/j9/hgt6bjfn0n78rvsbnlc10rqh0000gp/T/ipykernel_5407/2648398505.py:11: UserWarning: Boolean Series key will be reindexed to match DataFrame index.\n",
      "  Fuu_1_2s = df_3xs_1_2[df_3xs_1_2['phih']>=i_phi_left][df_3xs_1_2['phih']<i_phi]['value'].tolist()\n",
      "/var/folders/j9/hgt6bjfn0n78rvsbnlc10rqh0000gp/T/ipykernel_5407/2648398505.py:12: UserWarning: Boolean Series key will be reindexed to match DataFrame index.\n",
      "  Fuu_1_2_stats = df_3xs_1_2[df_3xs_1_2['phih']>=i_phi_left][df_3xs_1_2['phih']<i_phi]['stat'].tolist()\n",
      "/var/folders/j9/hgt6bjfn0n78rvsbnlc10rqh0000gp/T/ipykernel_5407/2648398505.py:10: UserWarning: Boolean Series key will be reindexed to match DataFrame index.\n",
      "  phih_1_2s = df_3xs_1_2[df_3xs_1_2['phih']>=i_phi_left][df_3xs_1_2['phih']<i_phi]['phih'].tolist()\n",
      "/var/folders/j9/hgt6bjfn0n78rvsbnlc10rqh0000gp/T/ipykernel_5407/2648398505.py:11: UserWarning: Boolean Series key will be reindexed to match DataFrame index.\n",
      "  Fuu_1_2s = df_3xs_1_2[df_3xs_1_2['phih']>=i_phi_left][df_3xs_1_2['phih']<i_phi]['value'].tolist()\n",
      "/var/folders/j9/hgt6bjfn0n78rvsbnlc10rqh0000gp/T/ipykernel_5407/2648398505.py:12: UserWarning: Boolean Series key will be reindexed to match DataFrame index.\n",
      "  Fuu_1_2_stats = df_3xs_1_2[df_3xs_1_2['phih']>=i_phi_left][df_3xs_1_2['phih']<i_phi]['stat'].tolist()\n",
      "/var/folders/j9/hgt6bjfn0n78rvsbnlc10rqh0000gp/T/ipykernel_5407/2648398505.py:10: UserWarning: Boolean Series key will be reindexed to match DataFrame index.\n",
      "  phih_1_2s = df_3xs_1_2[df_3xs_1_2['phih']>=i_phi_left][df_3xs_1_2['phih']<i_phi]['phih'].tolist()\n",
      "/var/folders/j9/hgt6bjfn0n78rvsbnlc10rqh0000gp/T/ipykernel_5407/2648398505.py:11: UserWarning: Boolean Series key will be reindexed to match DataFrame index.\n",
      "  Fuu_1_2s = df_3xs_1_2[df_3xs_1_2['phih']>=i_phi_left][df_3xs_1_2['phih']<i_phi]['value'].tolist()\n",
      "/var/folders/j9/hgt6bjfn0n78rvsbnlc10rqh0000gp/T/ipykernel_5407/2648398505.py:12: UserWarning: Boolean Series key will be reindexed to match DataFrame index.\n",
      "  Fuu_1_2_stats = df_3xs_1_2[df_3xs_1_2['phih']>=i_phi_left][df_3xs_1_2['phih']<i_phi]['stat'].tolist()\n"
     ]
    },
    {
     "data": {
      "text/plain": [
       "Text(0, 0.5, '$F_{UU}$')"
      ]
     },
     "execution_count": 47,
     "metadata": {},
     "output_type": "execute_result"
    },
    {
     "data": {
      "image/png": "[encoded data removed]",
      "text/plain": [
       "<Figure size 640x480 with 1 Axes>"
      ]
     },
     "metadata": {},
     "output_type": "display_data"
    }
   ],
   "source": [
    "fig = plt.figure()\n",
    "ax = fig.add_subplot()\n",
    "phih_1_2_3xs=[]\n",
    "Fuu_1_2_3xs=[]\n",
    "Fuu_1_2_3xs_stat=[]\n",
    "Fuu_1_2_3xs_sys=[]\n",
    "i_phi_left = phih_bins[0]\n",
    "for i_phi in phih_bins[1:]:\n",
    "    print(i_phi_left,i_phi)\n",
    "    phih_1_2s = df_3xs_1_2[df_3xs_1_2['phih']>=i_phi_left][df_3xs_1_2['phih']<i_phi]['phih'].tolist()\n",
    "    Fuu_1_2s = df_3xs_1_2[df_3xs_1_2['phih']>=i_phi_left][df_3xs_1_2['phih']<i_phi]['value'].tolist()\n",
    "    Fuu_1_2_stats = df_3xs_1_2[df_3xs_1_2['phih']>=i_phi_left][df_3xs_1_2['phih']<i_phi]['stat'].tolist()\n",
    "    print(len(phih_1_2s))\n",
    "    \n",
    "    if len(phih_1_2s)>0:  \n",
    "        #print('phih',phih_1_2s)\n",
    "        #print('Fuu',Fuu_1_2s)\n",
    "        #print('Fuu_stat',Fuu_1_2_stats)\n",
    "        _Fuu_1_2 = Get_weighted_average(Fuu_1_2s,Fuu_1_2_stats)[0]\n",
    "        _Fuu_1_2_stat = Factor_3xs*Get_weighted_average(Fuu_1_2s,Fuu_1_2_stats)[1]\n",
    "        _phih_1_2= Get_weighted_average_phi(phih_1_2s,Fuu_1_2_stats)[0]\n",
    "        #print('_Fuu_1_2',_Fuu_1_2)\n",
    "        #print('_phih',_phih_1_2)\n",
    "        #print('_Fuu_stat',_Fuu_1_2_stat)\n",
    "        Fuu_1_2_3xs.append(_Fuu_1_2)\n",
    "        phih_1_2_3xs.append(_phih_1_2)\n",
    "        Fuu_1_2_3xs_stat.append(_Fuu_1_2_stat)\n",
    "        Fuu_1_2_3xs_sys.append(0.05*_Fuu_1_2)\n",
    "        #print(Fuu_1_2,phih_1_2)\n",
    "        ax.plot([_phih_1_2,_phih_1_2],[_Fuu_1_2-_Fuu_1_2_stat,_Fuu_1_2+_Fuu_1_2_stat],color='red',marker='_')\n",
    "    i_phi_left = i_phi\n",
    "    #print('phileft',i_phi_left)\n",
    "plt.plot(phih_1_2_3xs,Fuu_1_2_3xs,'ro')\n",
    "plt.xlabel('$\\phi_h$',fontsize=16)\n",
    "plt.ylabel('$F_{UU}$',fontsize=16)"
   ]
  },
  {
   "cell_type": "code",
   "execution_count": 48,
   "id": "e5171401",
   "metadata": {
    "scrolled": true
   },
   "outputs": [
    {
     "name": "stdout",
     "output_type": "stream",
     "text": [
      "-3.141592653589793 -2.5132741228718345\n",
      "33\n",
      "-2.5132741228718345 -1.8849555921538759\n"
     ]
    },
    {
     "name": "stderr",
     "output_type": "stream",
     "text": [
      "/var/folders/j9/hgt6bjfn0n78rvsbnlc10rqh0000gp/T/ipykernel_5407/2872923745.py:10: UserWarning: Boolean Series key will be reindexed to match DataFrame index.\n",
      "  phih_1_3s = df_3xs_1_3[df_3xs_1_3['phih']>=i_phi_left][df_3xs_1_3['phih']<i_phi]['phih'].tolist()\n",
      "/var/folders/j9/hgt6bjfn0n78rvsbnlc10rqh0000gp/T/ipykernel_5407/2872923745.py:11: UserWarning: Boolean Series key will be reindexed to match DataFrame index.\n",
      "  Fuu_1_3s = df_3xs_1_3[df_3xs_1_3['phih']>=i_phi_left][df_3xs_1_3['phih']<i_phi]['value'].tolist()\n",
      "/var/folders/j9/hgt6bjfn0n78rvsbnlc10rqh0000gp/T/ipykernel_5407/2872923745.py:12: UserWarning: Boolean Series key will be reindexed to match DataFrame index.\n",
      "  Fuu_1_3_stats = df_3xs_1_3[df_3xs_1_3['phih']>=i_phi_left][df_3xs_1_3['phih']<i_phi]['stat'].tolist()\n"
     ]
    },
    {
     "name": "stdout",
     "output_type": "stream",
     "text": [
      "35\n",
      "-1.8849555921538759 -1.2566370614359172\n",
      "42\n",
      "-1.2566370614359172 -0.6283185307179586\n",
      "35\n",
      "-0.6283185307179586 0.6283185307179586\n",
      "65\n",
      "0.6283185307179586 1.2566370614359172\n",
      "37\n",
      "1.2566370614359172 1.8849555921538759\n",
      "36\n",
      "1.8849555921538759 2.5132741228718345\n",
      "38\n",
      "2.5132741228718345 3.141592653589793\n",
      "32\n"
     ]
    },
    {
     "name": "stderr",
     "output_type": "stream",
     "text": [
      "/var/folders/j9/hgt6bjfn0n78rvsbnlc10rqh0000gp/T/ipykernel_5407/2872923745.py:10: UserWarning: Boolean Series key will be reindexed to match DataFrame index.\n",
      "  phih_1_3s = df_3xs_1_3[df_3xs_1_3['phih']>=i_phi_left][df_3xs_1_3['phih']<i_phi]['phih'].tolist()\n",
      "/var/folders/j9/hgt6bjfn0n78rvsbnlc10rqh0000gp/T/ipykernel_5407/2872923745.py:11: UserWarning: Boolean Series key will be reindexed to match DataFrame index.\n",
      "  Fuu_1_3s = df_3xs_1_3[df_3xs_1_3['phih']>=i_phi_left][df_3xs_1_3['phih']<i_phi]['value'].tolist()\n",
      "/var/folders/j9/hgt6bjfn0n78rvsbnlc10rqh0000gp/T/ipykernel_5407/2872923745.py:12: UserWarning: Boolean Series key will be reindexed to match DataFrame index.\n",
      "  Fuu_1_3_stats = df_3xs_1_3[df_3xs_1_3['phih']>=i_phi_left][df_3xs_1_3['phih']<i_phi]['stat'].tolist()\n",
      "/var/folders/j9/hgt6bjfn0n78rvsbnlc10rqh0000gp/T/ipykernel_5407/2872923745.py:10: UserWarning: Boolean Series key will be reindexed to match DataFrame index.\n",
      "  phih_1_3s = df_3xs_1_3[df_3xs_1_3['phih']>=i_phi_left][df_3xs_1_3['phih']<i_phi]['phih'].tolist()\n",
      "/var/folders/j9/hgt6bjfn0n78rvsbnlc10rqh0000gp/T/ipykernel_5407/2872923745.py:11: UserWarning: Boolean Series key will be reindexed to match DataFrame index.\n",
      "  Fuu_1_3s = df_3xs_1_3[df_3xs_1_3['phih']>=i_phi_left][df_3xs_1_3['phih']<i_phi]['value'].tolist()\n",
      "/var/folders/j9/hgt6bjfn0n78rvsbnlc10rqh0000gp/T/ipykernel_5407/2872923745.py:12: UserWarning: Boolean Series key will be reindexed to match DataFrame index.\n",
      "  Fuu_1_3_stats = df_3xs_1_3[df_3xs_1_3['phih']>=i_phi_left][df_3xs_1_3['phih']<i_phi]['stat'].tolist()\n",
      "/var/folders/j9/hgt6bjfn0n78rvsbnlc10rqh0000gp/T/ipykernel_5407/2872923745.py:10: UserWarning: Boolean Series key will be reindexed to match DataFrame index.\n",
      "  phih_1_3s = df_3xs_1_3[df_3xs_1_3['phih']>=i_phi_left][df_3xs_1_3['phih']<i_phi]['phih'].tolist()\n",
      "/var/folders/j9/hgt6bjfn0n78rvsbnlc10rqh0000gp/T/ipykernel_5407/2872923745.py:11: UserWarning: Boolean Series key will be reindexed to match DataFrame index.\n",
      "  Fuu_1_3s = df_3xs_1_3[df_3xs_1_3['phih']>=i_phi_left][df_3xs_1_3['phih']<i_phi]['value'].tolist()\n",
      "/var/folders/j9/hgt6bjfn0n78rvsbnlc10rqh0000gp/T/ipykernel_5407/2872923745.py:12: UserWarning: Boolean Series key will be reindexed to match DataFrame index.\n",
      "  Fuu_1_3_stats = df_3xs_1_3[df_3xs_1_3['phih']>=i_phi_left][df_3xs_1_3['phih']<i_phi]['stat'].tolist()\n",
      "/var/folders/j9/hgt6bjfn0n78rvsbnlc10rqh0000gp/T/ipykernel_5407/2872923745.py:10: UserWarning: Boolean Series key will be reindexed to match DataFrame index.\n",
      "  phih_1_3s = df_3xs_1_3[df_3xs_1_3['phih']>=i_phi_left][df_3xs_1_3['phih']<i_phi]['phih'].tolist()\n",
      "/var/folders/j9/hgt6bjfn0n78rvsbnlc10rqh0000gp/T/ipykernel_5407/2872923745.py:11: UserWarning: Boolean Series key will be reindexed to match DataFrame index.\n",
      "  Fuu_1_3s = df_3xs_1_3[df_3xs_1_3['phih']>=i_phi_left][df_3xs_1_3['phih']<i_phi]['value'].tolist()\n",
      "/var/folders/j9/hgt6bjfn0n78rvsbnlc10rqh0000gp/T/ipykernel_5407/2872923745.py:12: UserWarning: Boolean Series key will be reindexed to match DataFrame index.\n",
      "  Fuu_1_3_stats = df_3xs_1_3[df_3xs_1_3['phih']>=i_phi_left][df_3xs_1_3['phih']<i_phi]['stat'].tolist()\n",
      "/var/folders/j9/hgt6bjfn0n78rvsbnlc10rqh0000gp/T/ipykernel_5407/2872923745.py:10: UserWarning: Boolean Series key will be reindexed to match DataFrame index.\n",
      "  phih_1_3s = df_3xs_1_3[df_3xs_1_3['phih']>=i_phi_left][df_3xs_1_3['phih']<i_phi]['phih'].tolist()\n",
      "/var/folders/j9/hgt6bjfn0n78rvsbnlc10rqh0000gp/T/ipykernel_5407/2872923745.py:11: UserWarning: Boolean Series key will be reindexed to match DataFrame index.\n",
      "  Fuu_1_3s = df_3xs_1_3[df_3xs_1_3['phih']>=i_phi_left][df_3xs_1_3['phih']<i_phi]['value'].tolist()\n",
      "/var/folders/j9/hgt6bjfn0n78rvsbnlc10rqh0000gp/T/ipykernel_5407/2872923745.py:12: UserWarning: Boolean Series key will be reindexed to match DataFrame index.\n",
      "  Fuu_1_3_stats = df_3xs_1_3[df_3xs_1_3['phih']>=i_phi_left][df_3xs_1_3['phih']<i_phi]['stat'].tolist()\n",
      "/var/folders/j9/hgt6bjfn0n78rvsbnlc10rqh0000gp/T/ipykernel_5407/2872923745.py:10: UserWarning: Boolean Series key will be reindexed to match DataFrame index.\n",
      "  phih_1_3s = df_3xs_1_3[df_3xs_1_3['phih']>=i_phi_left][df_3xs_1_3['phih']<i_phi]['phih'].tolist()\n",
      "/var/folders/j9/hgt6bjfn0n78rvsbnlc10rqh0000gp/T/ipykernel_5407/2872923745.py:11: UserWarning: Boolean Series key will be reindexed to match DataFrame index.\n",
      "  Fuu_1_3s = df_3xs_1_3[df_3xs_1_3['phih']>=i_phi_left][df_3xs_1_3['phih']<i_phi]['value'].tolist()\n",
      "/var/folders/j9/hgt6bjfn0n78rvsbnlc10rqh0000gp/T/ipykernel_5407/2872923745.py:12: UserWarning: Boolean Series key will be reindexed to match DataFrame index.\n",
      "  Fuu_1_3_stats = df_3xs_1_3[df_3xs_1_3['phih']>=i_phi_left][df_3xs_1_3['phih']<i_phi]['stat'].tolist()\n",
      "/var/folders/j9/hgt6bjfn0n78rvsbnlc10rqh0000gp/T/ipykernel_5407/2872923745.py:10: UserWarning: Boolean Series key will be reindexed to match DataFrame index.\n",
      "  phih_1_3s = df_3xs_1_3[df_3xs_1_3['phih']>=i_phi_left][df_3xs_1_3['phih']<i_phi]['phih'].tolist()\n",
      "/var/folders/j9/hgt6bjfn0n78rvsbnlc10rqh0000gp/T/ipykernel_5407/2872923745.py:11: UserWarning: Boolean Series key will be reindexed to match DataFrame index.\n",
      "  Fuu_1_3s = df_3xs_1_3[df_3xs_1_3['phih']>=i_phi_left][df_3xs_1_3['phih']<i_phi]['value'].tolist()\n",
      "/var/folders/j9/hgt6bjfn0n78rvsbnlc10rqh0000gp/T/ipykernel_5407/2872923745.py:12: UserWarning: Boolean Series key will be reindexed to match DataFrame index.\n",
      "  Fuu_1_3_stats = df_3xs_1_3[df_3xs_1_3['phih']>=i_phi_left][df_3xs_1_3['phih']<i_phi]['stat'].tolist()\n"
     ]
    },
    {
     "data": {
      "text/plain": [
       "Text(0, 0.5, '$F_{UU}$')"
      ]
     },
     "execution_count": 48,
     "metadata": {},
     "output_type": "execute_result"
    },
    {
     "data": {
      "image/png": "[encoded data removed]",
      "text/plain": [
       "<Figure size 640x480 with 1 Axes>"
      ]
     },
     "metadata": {},
     "output_type": "display_data"
    }
   ],
   "source": [
    "fig = plt.figure()\n",
    "ax = fig.add_subplot()\n",
    "phih_1_3_3xs=[]\n",
    "Fuu_1_3_3xs=[]\n",
    "Fuu_1_3_3xs_stat=[]\n",
    "Fuu_1_3_3xs_sys=[]\n",
    "i_phi_left = phih_bins[0]\n",
    "for i_phi in phih_bins[1:]:\n",
    "    print(i_phi_left,i_phi)\n",
    "    phih_1_3s = df_3xs_1_3[df_3xs_1_3['phih']>=i_phi_left][df_3xs_1_3['phih']<i_phi]['phih'].tolist()\n",
    "    Fuu_1_3s = df_3xs_1_3[df_3xs_1_3['phih']>=i_phi_left][df_3xs_1_3['phih']<i_phi]['value'].tolist()\n",
    "    Fuu_1_3_stats = df_3xs_1_3[df_3xs_1_3['phih']>=i_phi_left][df_3xs_1_3['phih']<i_phi]['stat'].tolist()\n",
    "    print(len(phih_1_3s))\n",
    "    \n",
    "    if len(phih_1_3s)>0:  \n",
    "        #print('phih',phih_1_3s)\n",
    "        #print('Fuu',Fuu_1_3s)\n",
    "        #print('Fuu_stat',Fuu_1_3_stats)\n",
    "        _Fuu_1_3 = Get_weighted_average(Fuu_1_3s,Fuu_1_3_stats)[0]\n",
    "        _Fuu_1_3_stat = Factor_3xs*Get_weighted_average(Fuu_1_3s,Fuu_1_3_stats)[1]\n",
    "        _phih_1_3= Get_weighted_average_phi(phih_1_3s,Fuu_1_3_stats)[0]\n",
    "        #print('_Fuu_1_3',_Fuu_1_3)\n",
    "        #print('_phih',_phih_1_3)\n",
    "        #print('_Fuu_stat',_Fuu_1_3_stat)\n",
    "        Fuu_1_3_3xs.append(_Fuu_1_3)\n",
    "        phih_1_3_3xs.append(_phih_1_3)\n",
    "        Fuu_1_3_3xs_stat.append(_Fuu_1_3_stat)\n",
    "        Fuu_1_3_3xs_sys.append(0.05*_Fuu_1_3)\n",
    "        #print(Fuu_1_3,phih_1_3)\n",
    "        ax.plot([_phih_1_3,_phih_1_3],[_Fuu_1_3-_Fuu_1_3_stat,_Fuu_1_3+_Fuu_1_3_stat],color='red',marker='_')\n",
    "    i_phi_left = i_phi\n",
    "    #print('phileft',i_phi_left)\n",
    "plt.plot(phih_1_3_3xs,Fuu_1_3_3xs,'ro')\n",
    "plt.xlabel('$\\phi_h$',fontsize=16)\n",
    "plt.ylabel('$F_{UU}$',fontsize=16)"
   ]
  },
  {
   "cell_type": "code",
   "execution_count": 49,
   "id": "38fbeea3",
   "metadata": {
    "scrolled": true
   },
   "outputs": [
    {
     "name": "stdout",
     "output_type": "stream",
     "text": [
      "-3.141592653589793 -2.5132741228718345\n",
      "0\n",
      "-2.5132741228718345 -1.8849555921538759\n",
      "0\n",
      "-1.8849555921538759 -1.2566370614359172\n",
      "0\n",
      "-1.2566370614359172 -0.6283185307179586\n",
      "0\n",
      "-0.6283185307179586 0.6283185307179586\n",
      "0\n",
      "0.6283185307179586 1.2566370614359172\n",
      "0\n",
      "1.2566370614359172 1.8849555921538759\n",
      "0\n",
      "1.8849555921538759 2.5132741228718345\n",
      "0\n",
      "2.5132741228718345 3.141592653589793\n",
      "0\n"
     ]
    },
    {
     "data": {
      "text/plain": [
       "Text(0, 0.5, '$F_{UU}$')"
      ]
     },
     "execution_count": 49,
     "metadata": {},
     "output_type": "execute_result"
    },
    {
     "data": {
      "image/png": "[encoded data removed]",
      "text/plain": [
       "<Figure size 640x480 with 1 Axes>"
      ]
     },
     "metadata": {},
     "output_type": "display_data"
    }
   ],
   "source": [
    "fig = plt.figure()\n",
    "ax = fig.add_subplot()\n",
    "phih_2_1_3xs=[]\n",
    "Fuu_2_1_3xs=[]\n",
    "Fuu_2_1_3xs_stat=[]\n",
    "Fuu_2_1_3xs_sys=[]\n",
    "i_phi_left = phih_bins[0]\n",
    "for i_phi in phih_bins[1:]:\n",
    "    print(i_phi_left,i_phi)\n",
    "    phih_2_1s = df_3xs_2_1[df_3xs_2_1['phih']>=i_phi_left][df_3xs_2_1['phih']<i_phi]['phih'].tolist()\n",
    "    Fuu_2_1s = df_3xs_2_1[df_3xs_2_1['phih']>=i_phi_left][df_3xs_2_1['phih']<i_phi]['value'].tolist()\n",
    "    Fuu_2_1_stats = df_3xs_2_1[df_3xs_2_1['phih']>=i_phi_left][df_3xs_2_1['phih']<i_phi]['stat'].tolist()\n",
    "    print(len(phih_2_1s))\n",
    "    \n",
    "    if len(phih_2_1s)>0:  \n",
    "        #print('phih',phih_2_1s)\n",
    "        #print('Fuu',Fuu_2_1s)\n",
    "        #print('Fuu_stat',Fuu_2_1_stats)\n",
    "        _Fuu_2_1 = Get_weighted_average(Fuu_2_1s,Fuu_2_1_stats)[0]\n",
    "        _Fuu_2_1_stat = Factor_3xs*Get_weighted_average(Fuu_2_1s,Fuu_2_1_stats)[1]\n",
    "        _phih_2_1= Get_weighted_average_phi(phih_2_1s,Fuu_2_1_stats)[0]\n",
    "        #print('_Fuu_2_1',_Fuu_2_1)\n",
    "        #print('_phih',_phih_2_1)\n",
    "        #print('_Fuu_stat',_Fuu_2_1_stat)\n",
    "        Fuu_2_1_3xs.append(_Fuu_2_1)\n",
    "        phih_2_1_3xs.append(_phih_2_1)\n",
    "        Fuu_2_1_3xs_stat.append(_Fuu_2_1_stat)\n",
    "        Fuu_2_1_3xs_sys.append(0.05*_Fuu_2_1)\n",
    "        #print(Fuu_2_1,phih_2_1)\n",
    "        ax.plot([_phih_2_1,_phih_2_1],[_Fuu_2_1-_Fuu_2_1_stat,_Fuu_2_1+_Fuu_2_1_stat],color='red',marker='_')\n",
    "    i_phi_left = i_phi\n",
    "    #print('phileft',i_phi_left)\n",
    "plt.plot(phih_2_1_3xs,Fuu_2_1_3xs,'ro')\n",
    "plt.xlabel('$\\phi_h$',fontsize=16)\n",
    "plt.ylabel('$F_{UU}$',fontsize=16)"
   ]
  },
  {
   "cell_type": "code",
   "execution_count": 50,
   "id": "b49ea350",
   "metadata": {
    "scrolled": true
   },
   "outputs": [
    {
     "name": "stdout",
     "output_type": "stream",
     "text": [
      "-3.141592653589793 -2.5132741228718345\n",
      "0\n",
      "-2.5132741228718345 -1.8849555921538759\n",
      "0\n",
      "-1.8849555921538759 -1.2566370614359172\n",
      "0\n",
      "-1.2566370614359172 -0.6283185307179586\n",
      "0\n",
      "-0.6283185307179586 0.6283185307179586\n",
      "0\n",
      "0.6283185307179586 1.2566370614359172\n",
      "0\n",
      "1.2566370614359172 1.8849555921538759\n",
      "0\n",
      "1.8849555921538759 2.5132741228718345\n",
      "0\n",
      "2.5132741228718345 3.141592653589793\n",
      "0\n"
     ]
    },
    {
     "data": {
      "text/plain": [
       "Text(0, 0.5, '$F_{UU}$')"
      ]
     },
     "execution_count": 50,
     "metadata": {},
     "output_type": "execute_result"
    },
    {
     "data": {
      "image/png": "[encoded data removed]",
      "text/plain": [
       "<Figure size 640x480 with 1 Axes>"
      ]
     },
     "metadata": {},
     "output_type": "display_data"
    }
   ],
   "source": [
    "fig = plt.figure()\n",
    "ax = fig.add_subplot()\n",
    "phih_2_2_3xs=[]\n",
    "Fuu_2_2_3xs=[]\n",
    "Fuu_2_2_3xs_stat=[]\n",
    "Fuu_2_2_3xs_sys=[]\n",
    "i_phi_left = phih_bins[0]\n",
    "for i_phi in phih_bins[1:]:\n",
    "    print(i_phi_left,i_phi)\n",
    "    phih_2_2s = df_3xs_2_2[df_3xs_2_2['phih']>=i_phi_left][df_3xs_2_2['phih']<i_phi]['phih'].tolist()\n",
    "    Fuu_2_2s = df_3xs_2_2[df_3xs_2_2['phih']>=i_phi_left][df_3xs_2_2['phih']<i_phi]['value'].tolist()\n",
    "    Fuu_2_2_stats = df_3xs_2_2[df_3xs_2_2['phih']>=i_phi_left][df_3xs_2_2['phih']<i_phi]['stat'].tolist()\n",
    "    print(len(phih_2_2s))\n",
    "    \n",
    "    if len(phih_2_2s)>0:  \n",
    "        #print('phih',phih_2_2s)\n",
    "        #print('Fuu',Fuu_2_2s)\n",
    "        #print('Fuu_stat',Fuu_2_2_stats)\n",
    "        _Fuu_2_2 = Get_weighted_average(Fuu_2_2s,Fuu_2_2_stats)[0]\n",
    "        _Fuu_2_2_stat = Factor_3xs*Get_weighted_average(Fuu_2_2s,Fuu_2_2_stats)[1]\n",
    "        _phih_2_2= Get_weighted_average_phi(phih_2_2s,Fuu_2_2_stats)[0]\n",
    "        #print('_Fuu_2_2',_Fuu_2_2)\n",
    "        #print('_phih',_phih_2_2)\n",
    "        #print('_Fuu_stat',_Fuu_2_2_stat)\n",
    "        Fuu_2_2_3xs.append(_Fuu_2_2)\n",
    "        phih_2_2_3xs.append(_phih_2_2)\n",
    "        Fuu_2_2_3xs_stat.append(_Fuu_2_2_stat)\n",
    "        Fuu_2_2_3xs_sys.append(0.05*_Fuu_2_2)\n",
    "        #print(Fuu_2_2,phih_2_2)\n",
    "        ax.plot([_phih_2_2,_phih_2_2],[_Fuu_2_2-_Fuu_2_2_stat,_Fuu_2_2+_Fuu_2_2_stat],color='red',marker='_')\n",
    "    i_phi_left = i_phi\n",
    "    #print('phileft',i_phi_left)\n",
    "plt.plot(phih_2_2_3xs,Fuu_2_2_3xs,'ro')\n",
    "plt.xlabel('$\\phi_h$',fontsize=16)\n",
    "plt.ylabel('$F_{UU}$',fontsize=16)"
   ]
  },
  {
   "cell_type": "code",
   "execution_count": 51,
   "id": "2b5acef4",
   "metadata": {
    "scrolled": true
   },
   "outputs": [
    {
     "name": "stdout",
     "output_type": "stream",
     "text": [
      "-3.141592653589793 -2.5132741228718345\n",
      "0\n",
      "-2.5132741228718345 -1.8849555921538759\n",
      "0\n",
      "-1.8849555921538759 -1.2566370614359172\n",
      "0\n",
      "-1.2566370614359172 -0.6283185307179586\n",
      "0\n",
      "-0.6283185307179586 0.6283185307179586\n",
      "0\n",
      "0.6283185307179586 1.2566370614359172\n",
      "0\n",
      "1.2566370614359172 1.8849555921538759\n",
      "0\n",
      "1.8849555921538759 2.5132741228718345\n",
      "0\n",
      "2.5132741228718345 3.141592653589793\n",
      "0\n"
     ]
    },
    {
     "data": {
      "text/plain": [
       "Text(0, 0.5, '$F_{UU}$')"
      ]
     },
     "execution_count": 51,
     "metadata": {},
     "output_type": "execute_result"
    },
    {
     "data": {
      "image/png": "[encoded data removed]",
      "text/plain": [
       "<Figure size 640x480 with 1 Axes>"
      ]
     },
     "metadata": {},
     "output_type": "display_data"
    }
   ],
   "source": [
    "fig = plt.figure()\n",
    "ax = fig.add_subplot()\n",
    "phih_2_3_3xs=[]\n",
    "Fuu_2_3_3xs=[]\n",
    "Fuu_2_3_3xs_stat=[]\n",
    "Fuu_2_3_3xs_sys=[]\n",
    "i_phi_left = phih_bins[0]\n",
    "for i_phi in phih_bins[1:]:\n",
    "    print(i_phi_left,i_phi)\n",
    "    phih_2_3s = df_3xs_2_3[df_3xs_2_3['phih']>=i_phi_left][df_3xs_2_3['phih']<i_phi]['phih'].tolist()\n",
    "    Fuu_2_3s = df_3xs_2_3[df_3xs_2_3['phih']>=i_phi_left][df_3xs_2_3['phih']<i_phi]['value'].tolist()\n",
    "    Fuu_2_3_stats = df_3xs_2_3[df_3xs_2_3['phih']>=i_phi_left][df_3xs_2_3['phih']<i_phi]['stat'].tolist()\n",
    "    print(len(phih_2_3s))\n",
    "    \n",
    "    if len(phih_2_3s)>0:  \n",
    "        #print('phih',phih_2_3s)\n",
    "        #print('Fuu',Fuu_2_3s)\n",
    "        #print('Fuu_stat',Fuu_2_3_stats)\n",
    "        _Fuu_2_3 = Get_weighted_average(Fuu_2_3s,Fuu_2_3_stats)[0]\n",
    "        _Fuu_2_3_stat = Factor_3xs*Get_weighted_average(Fuu_2_3s,Fuu_2_3_stats)[1]\n",
    "        _phih_2_3= Get_weighted_average_phi(phih_2_3s,Fuu_2_3_stats)[0]\n",
    "        #print('_Fuu_2_3',_Fuu_2_3)\n",
    "        #print('_phih',_phih_2_3)\n",
    "        #print('_Fuu_stat',_Fuu_2_3_stat)\n",
    "        Fuu_2_3_3xs.append(_Fuu_2_3)\n",
    "        phih_2_3_3xs.append(_phih_2_3)\n",
    "        Fuu_2_3_3xs_stat.append(_Fuu_2_3_stat)\n",
    "        Fuu_2_3_3xs_sys.append(0.05*_Fuu_2_3)\n",
    "        #print(Fuu_2_3,phih_2_3)\n",
    "        ax.plot([_phih_2_3,_phih_2_3],[_Fuu_2_3-_Fuu_2_3_stat,_Fuu_2_3+_Fuu_2_3_stat],color='red',marker='_')\n",
    "    i_phi_left = i_phi\n",
    "    #print('phileft',i_phi_left)\n",
    "plt.plot(phih_2_3_3xs,Fuu_2_3_3xs,'ro')\n",
    "plt.xlabel('$\\phi_h$',fontsize=16)\n",
    "plt.ylabel('$F_{UU}$',fontsize=16)"
   ]
  },
  {
   "cell_type": "code",
   "execution_count": 52,
   "id": "9a9e8d59",
   "metadata": {
    "scrolled": true
   },
   "outputs": [
    {
     "name": "stdout",
     "output_type": "stream",
     "text": [
      "-3.141592653589793 -2.5132741228718345\n",
      "0\n",
      "-2.5132741228718345 -1.8849555921538759\n",
      "0\n",
      "-1.8849555921538759 -1.2566370614359172\n",
      "0\n",
      "-1.2566370614359172 -0.6283185307179586\n",
      "0\n",
      "-0.6283185307179586 0.6283185307179586\n",
      "0\n",
      "0.6283185307179586 1.2566370614359172\n",
      "0\n",
      "1.2566370614359172 1.8849555921538759\n",
      "0\n",
      "1.8849555921538759 2.5132741228718345\n",
      "0\n",
      "2.5132741228718345 3.141592653589793\n",
      "0\n"
     ]
    },
    {
     "data": {
      "text/plain": [
       "Text(0, 0.5, '$F_{UU}$')"
      ]
     },
     "execution_count": 52,
     "metadata": {},
     "output_type": "execute_result"
    },
    {
     "data": {
      "image/png": "[encoded data removed]",
      "text/plain": [
       "<Figure size 640x480 with 1 Axes>"
      ]
     },
     "metadata": {},
     "output_type": "display_data"
    }
   ],
   "source": [
    "fig = plt.figure()\n",
    "ax = fig.add_subplot()\n",
    "phih_3_1_3xs=[]\n",
    "Fuu_3_1_3xs=[]\n",
    "Fuu_3_1_3xs_stat=[]\n",
    "Fuu_3_1_3xs_sys=[]\n",
    "i_phi_left = phih_bins[0]\n",
    "for i_phi in phih_bins[1:]:\n",
    "    print(i_phi_left,i_phi)\n",
    "    phih_3_1s = df_3xs_3_1[df_3xs_3_1['phih']>=i_phi_left][df_3xs_3_1['phih']<i_phi]['phih'].tolist()\n",
    "    Fuu_3_1s = df_3xs_3_1[df_3xs_3_1['phih']>=i_phi_left][df_3xs_3_1['phih']<i_phi]['value'].tolist()\n",
    "    Fuu_3_1_stats = df_3xs_3_1[df_3xs_3_1['phih']>=i_phi_left][df_3xs_3_1['phih']<i_phi]['stat'].tolist()\n",
    "    print(len(phih_3_1s))\n",
    "    \n",
    "    if len(phih_3_1s)>0:  \n",
    "        #print('phih',phih_3_1s)\n",
    "        #print('Fuu',Fuu_3_1s)\n",
    "        #print('Fuu_stat',Fuu_3_1_stats)\n",
    "        _Fuu_3_1 = Get_weighted_average(Fuu_3_1s,Fuu_3_1_stats)[0]\n",
    "        _Fuu_3_1_stat = Factor_3xs*Get_weighted_average(Fuu_3_1s,Fuu_3_1_stats)[1]\n",
    "        _phih_3_1= Get_weighted_average_phi(phih_3_1s,Fuu_3_1_stats)[0]\n",
    "        #print('_Fuu_3_1',_Fuu_3_1)\n",
    "        #print('_phih',_phih_3_1)\n",
    "        #print('_Fuu_stat',_Fuu_3_1_stat)\n",
    "        Fuu_3_1_3xs.append(_Fuu_3_1)\n",
    "        phih_3_1_3xs.append(_phih_3_1)\n",
    "        Fuu_3_1_3xs_stat.append(_Fuu_3_1_stat)\n",
    "        Fuu_3_1_3xs_sys.append(0.05*_Fuu_3_1)\n",
    "        #print(Fuu_3_1,phih_3_1)\n",
    "        ax.plot([_phih_3_1,_phih_3_1],[_Fuu_3_1-_Fuu_3_1_stat,_Fuu_3_1+_Fuu_3_1_stat],color='red',marker='_')\n",
    "    i_phi_left = i_phi\n",
    "    #print('phileft',i_phi_left)\n",
    "plt.plot(phih_3_1_3xs,Fuu_3_1_3xs,'ro')\n",
    "plt.xlabel('$\\phi_h$',fontsize=16)\n",
    "plt.ylabel('$F_{UU}$',fontsize=16)"
   ]
  },
  {
   "cell_type": "code",
   "execution_count": 53,
   "id": "c9d33e86",
   "metadata": {
    "scrolled": true
   },
   "outputs": [
    {
     "name": "stdout",
     "output_type": "stream",
     "text": [
      "-3.141592653589793 -2.5132741228718345\n",
      "0\n",
      "-2.5132741228718345 -1.8849555921538759\n",
      "0\n",
      "-1.8849555921538759 -1.2566370614359172\n",
      "0\n",
      "-1.2566370614359172 -0.6283185307179586\n",
      "0\n",
      "-0.6283185307179586 0.6283185307179586\n",
      "0\n",
      "0.6283185307179586 1.2566370614359172\n",
      "0\n",
      "1.2566370614359172 1.8849555921538759\n",
      "0\n",
      "1.8849555921538759 2.5132741228718345\n",
      "0\n",
      "2.5132741228718345 3.141592653589793\n",
      "0\n"
     ]
    },
    {
     "data": {
      "text/plain": [
       "Text(0, 0.5, '$F_{UU}$')"
      ]
     },
     "execution_count": 53,
     "metadata": {},
     "output_type": "execute_result"
    },
    {
     "data": {
      "image/png": "[encoded data removed]",
      "text/plain": [
       "<Figure size 640x480 with 1 Axes>"
      ]
     },
     "metadata": {},
     "output_type": "display_data"
    }
   ],
   "source": [
    "fig = plt.figure()\n",
    "ax = fig.add_subplot()\n",
    "phih_3_2_3xs=[]\n",
    "Fuu_3_2_3xs=[]\n",
    "Fuu_3_2_3xs_stat=[]\n",
    "Fuu_3_2_3xs_sys=[]\n",
    "i_phi_left = phih_bins[0]\n",
    "for i_phi in phih_bins[1:]:\n",
    "    print(i_phi_left,i_phi)\n",
    "    phih_3_2s = df_3xs_3_2[df_3xs_3_2['phih']>=i_phi_left][df_3xs_3_2['phih']<i_phi]['phih'].tolist()\n",
    "    Fuu_3_2s = df_3xs_3_2[df_3xs_3_2['phih']>=i_phi_left][df_3xs_3_2['phih']<i_phi]['value'].tolist()\n",
    "    Fuu_3_2_stats = df_3xs_3_2[df_3xs_3_2['phih']>=i_phi_left][df_3xs_3_2['phih']<i_phi]['stat'].tolist()\n",
    "    print(len(phih_3_2s))\n",
    "    \n",
    "    if len(phih_3_2s)>0:  \n",
    "        #print('phih',phih_3_2s)\n",
    "        #print('Fuu',Fuu_3_2s)\n",
    "        #print('Fuu_stat',Fuu_3_2_stats)\n",
    "        _Fuu_3_2 = Get_weighted_average(Fuu_3_2s,Fuu_3_2_stats)[0]\n",
    "        _Fuu_3_2_stat = Factor_3xs*Get_weighted_average(Fuu_3_2s,Fuu_3_2_stats)[1]\n",
    "        _phih_3_2= Get_weighted_average_phi(phih_3_2s,Fuu_3_2_stats)[0]\n",
    "        #print('_Fuu_3_2',_Fuu_3_2)\n",
    "        #print('_phih',_phih_3_2)\n",
    "        #print('_Fuu_stat',_Fuu_3_2_stat)\n",
    "        Fuu_3_2_3xs.append(_Fuu_3_2)\n",
    "        phih_3_2_3xs.append(_phih_3_2)\n",
    "        Fuu_3_2_3xs_stat.append(_Fuu_3_2_stat)\n",
    "        Fuu_3_2_3xs_sys.append(0.05*_Fuu_3_2)\n",
    "        #print(Fuu_3_2,phih_3_2)\n",
    "        ax.plot([_phih_3_2,_phih_3_2],[_Fuu_3_2-_Fuu_3_2_stat,_Fuu_3_2+_Fuu_3_2_stat],color='red',marker='_')\n",
    "    i_phi_left = i_phi\n",
    "    #print('phileft',i_phi_left)\n",
    "plt.plot(phih_3_2_3xs,Fuu_3_2_3xs,'ro')\n",
    "plt.xlabel('$\\phi_h$',fontsize=16)\n",
    "plt.ylabel('$F_{UU}$',fontsize=16)"
   ]
  },
  {
   "cell_type": "code",
   "execution_count": 54,
   "id": "efaa599c",
   "metadata": {
    "scrolled": true
   },
   "outputs": [
    {
     "name": "stdout",
     "output_type": "stream",
     "text": [
      "-3.141592653589793 -2.5132741228718345\n",
      "0\n",
      "-2.5132741228718345 -1.8849555921538759\n",
      "0\n",
      "-1.8849555921538759 -1.2566370614359172\n",
      "0\n",
      "-1.2566370614359172 -0.6283185307179586\n",
      "0\n",
      "-0.6283185307179586 0.6283185307179586\n",
      "0\n",
      "0.6283185307179586 1.2566370614359172\n",
      "0\n",
      "1.2566370614359172 1.8849555921538759\n",
      "0\n",
      "1.8849555921538759 2.5132741228718345\n",
      "0\n",
      "2.5132741228718345 3.141592653589793\n",
      "0\n"
     ]
    },
    {
     "data": {
      "text/plain": [
       "Text(0, 0.5, '$F_{UU}$')"
      ]
     },
     "execution_count": 54,
     "metadata": {},
     "output_type": "execute_result"
    },
    {
     "data": {
      "image/png": "[encoded data removed]",
      "text/plain": [
       "<Figure size 640x480 with 1 Axes>"
      ]
     },
     "metadata": {},
     "output_type": "display_data"
    }
   ],
   "source": [
    "fig = plt.figure()\n",
    "ax = fig.add_subplot()\n",
    "phih_3_3_3xs=[]\n",
    "Fuu_3_3_3xs=[]\n",
    "Fuu_3_3_3xs_stat=[]\n",
    "Fuu_3_3_3xs_sys=[]\n",
    "i_phi_left = phih_bins[0]\n",
    "for i_phi in phih_bins[1:]:\n",
    "    print(i_phi_left,i_phi)\n",
    "    phih_3_3s = df_3xs_3_3[df_3xs_3_3['phih']>=i_phi_left][df_3xs_3_3['phih']<i_phi]['phih'].tolist()\n",
    "    Fuu_3_3s = df_3xs_3_3[df_3xs_3_3['phih']>=i_phi_left][df_3xs_3_3['phih']<i_phi]['value'].tolist()\n",
    "    Fuu_3_3_stats = df_3xs_3_3[df_3xs_3_3['phih']>=i_phi_left][df_3xs_3_3['phih']<i_phi]['stat'].tolist()\n",
    "    print(len(phih_3_3s))\n",
    "    \n",
    "    if len(phih_3_3s)>0:  \n",
    "        #print('phih',phih_3_3s)\n",
    "        #print('Fuu',Fuu_3_3s)\n",
    "        #print('Fuu_stat',Fuu_3_3_stats)\n",
    "        _Fuu_3_3 = Get_weighted_average(Fuu_3_3s,Fuu_3_3_stats)[0]\n",
    "        _Fuu_3_3_stat = Factor_3xs*Get_weighted_average(Fuu_3_3s,Fuu_3_3_stats)[1]\n",
    "        _phih_3_3= Get_weighted_average_phi(phih_3_3s,Fuu_3_3_stats)[0]\n",
    "        #print('_Fuu_3_3',_Fuu_3_3)\n",
    "        #print('_phih',_phih_3_3)\n",
    "        #print('_Fuu_stat',_Fuu_3_3_stat)\n",
    "        Fuu_3_3_3xs.append(_Fuu_3_3)\n",
    "        phih_3_3_3xs.append(_phih_3_3)\n",
    "        Fuu_3_3_3xs_stat.append(_Fuu_3_3_stat)\n",
    "        Fuu_3_3_3xs_sys.append(0.05*_Fuu_3_3)\n",
    "        #print(Fuu_3_3,phih_3_3)\n",
    "        ax.plot([_phih_3_3,_phih_3_3],[_Fuu_3_3-_Fuu_3_3_stat,_Fuu_3_3+_Fuu_3_3_stat],color='red',marker='_')\n",
    "    i_phi_left = i_phi\n",
    "    #print('phileft',i_phi_left)\n",
    "plt.plot(phih_3_3_3xs,Fuu_3_3_3xs,'ro')\n",
    "plt.xlabel('$\\phi_h$',fontsize=16)\n",
    "plt.ylabel('$F_{UU}$',fontsize=16)"
   ]
  },
  {
   "cell_type": "code",
   "execution_count": 55,
   "id": "2f076b37",
   "metadata": {
    "scrolled": true
   },
   "outputs": [
    {
     "name": "stdout",
     "output_type": "stream",
     "text": [
      "-3.141592653589793 -2.5132741228718345\n",
      "0\n",
      "-2.5132741228718345 -1.8849555921538759\n",
      "0\n",
      "-1.8849555921538759 -1.2566370614359172\n",
      "0\n",
      "-1.2566370614359172 -0.6283185307179586\n",
      "0\n",
      "-0.6283185307179586 0.6283185307179586\n",
      "0\n",
      "0.6283185307179586 1.2566370614359172\n",
      "0\n",
      "1.2566370614359172 1.8849555921538759\n",
      "0\n",
      "1.8849555921538759 2.5132741228718345\n",
      "0\n",
      "2.5132741228718345 3.141592653589793\n",
      "0\n"
     ]
    },
    {
     "data": {
      "text/plain": [
       "Text(0, 0.5, '$F_{UU}$')"
      ]
     },
     "execution_count": 55,
     "metadata": {},
     "output_type": "execute_result"
    },
    {
     "data": {
      "image/png": "[encoded data removed]",
      "text/plain": [
       "<Figure size 640x480 with 1 Axes>"
      ]
     },
     "metadata": {},
     "output_type": "display_data"
    }
   ],
   "source": [
    "fig = plt.figure()\n",
    "ax = fig.add_subplot()\n",
    "phih_4_1_3xs=[]\n",
    "Fuu_4_1_3xs=[]\n",
    "Fuu_4_1_3xs_stat=[]\n",
    "Fuu_4_1_3xs_sys=[]\n",
    "i_phi_left = phih_bins[0]\n",
    "for i_phi in phih_bins[1:]:\n",
    "    print(i_phi_left,i_phi)\n",
    "    phih_4_1s = df_3xs_4_1[df_3xs_4_1['phih']>=i_phi_left][df_3xs_4_1['phih']<i_phi]['phih'].tolist()\n",
    "    Fuu_4_1s = df_3xs_4_1[df_3xs_4_1['phih']>=i_phi_left][df_3xs_4_1['phih']<i_phi]['value'].tolist()\n",
    "    Fuu_4_1_stats = df_3xs_4_1[df_3xs_4_1['phih']>=i_phi_left][df_3xs_4_1['phih']<i_phi]['stat'].tolist()\n",
    "    print(len(phih_4_1s))\n",
    "    \n",
    "    if len(phih_4_1s)>0:  \n",
    "        #print('phih',phih_4_1s)\n",
    "        #print('Fuu',Fuu_4_1s)\n",
    "        #print('Fuu_stat',Fuu_4_1_stats)\n",
    "        _Fuu_4_1 = Get_weighted_average(Fuu_4_1s,Fuu_4_1_stats)[0]\n",
    "        _Fuu_4_1_stat = Factor_3xs*Get_weighted_average(Fuu_4_1s,Fuu_4_1_stats)[1]\n",
    "        _phih_4_1= Get_weighted_average_phi(phih_4_1s,Fuu_4_1_stats)[0]\n",
    "        #print('_Fuu_4_1',_Fuu_4_1)\n",
    "        #print('_phih',_phih_4_1)\n",
    "        #print('_Fuu_stat',_Fuu_4_1_stat)\n",
    "        Fuu_4_1_3xs.append(_Fuu_4_1)\n",
    "        phih_4_1_3xs.append(_phih_4_1)\n",
    "        Fuu_4_1_3xs_stat.append(_Fuu_4_1_stat)\n",
    "        Fuu_4_1_3xs_sys.append(0.05*_Fuu_4_1)\n",
    "        #print(Fuu_4_1,phih_4_1)\n",
    "        ax.plot([_phih_4_1,_phih_4_1],[_Fuu_4_1-_Fuu_4_1_stat,_Fuu_4_1+_Fuu_4_1_stat],color='red',marker='_')\n",
    "    i_phi_left = i_phi\n",
    "    #print('phileft',i_phi_left)\n",
    "plt.plot(phih_4_1_3xs,Fuu_4_1_3xs,'ro')\n",
    "plt.xlabel('$\\phi_h$',fontsize=16)\n",
    "plt.ylabel('$F_{UU}$',fontsize=16)"
   ]
  },
  {
   "cell_type": "code",
   "execution_count": 56,
   "id": "f7840b73",
   "metadata": {},
   "outputs": [
    {
     "name": "stdout",
     "output_type": "stream",
     "text": [
      "-3.141592653589793 -2.5132741228718345\n",
      "0\n",
      "-2.5132741228718345 -1.8849555921538759\n",
      "0\n",
      "-1.8849555921538759 -1.2566370614359172\n",
      "0\n",
      "-1.2566370614359172 -0.6283185307179586\n",
      "0\n",
      "-0.6283185307179586 0.6283185307179586\n",
      "0\n",
      "0.6283185307179586 1.2566370614359172\n",
      "0\n",
      "1.2566370614359172 1.8849555921538759\n",
      "0\n",
      "1.8849555921538759 2.5132741228718345\n",
      "0\n",
      "2.5132741228718345 3.141592653589793\n",
      "0\n"
     ]
    },
    {
     "data": {
      "text/plain": [
       "Text(0, 0.5, '$F_{UU}$')"
      ]
     },
     "execution_count": 56,
     "metadata": {},
     "output_type": "execute_result"
    },
    {
     "data": {
      "image/png": "[encoded data removed]",
      "text/plain": [
       "<Figure size 640x480 with 1 Axes>"
      ]
     },
     "metadata": {},
     "output_type": "display_data"
    }
   ],
   "source": [
    "fig = plt.figure()\n",
    "ax = fig.add_subplot()\n",
    "phih_4_2_3xs=[]\n",
    "Fuu_4_2_3xs=[]\n",
    "Fuu_4_2_3xs_stat=[]\n",
    "Fuu_4_2_3xs_sys=[]\n",
    "i_phi_left = phih_bins[0]\n",
    "for i_phi in phih_bins[1:]:\n",
    "    print(i_phi_left,i_phi)\n",
    "    phih_4_2s = df_3xs_4_2[df_3xs_4_2['phih']>=i_phi_left][df_3xs_4_2['phih']<i_phi]['phih'].tolist()\n",
    "    Fuu_4_2s = df_3xs_4_2[df_3xs_4_2['phih']>=i_phi_left][df_3xs_4_2['phih']<i_phi]['value'].tolist()\n",
    "    Fuu_4_2_stats = df_3xs_4_2[df_3xs_4_2['phih']>=i_phi_left][df_3xs_4_2['phih']<i_phi]['stat'].tolist()\n",
    "    print(len(phih_4_2s))\n",
    "    \n",
    "    if len(phih_4_2s)>0:  \n",
    "        #print('phih',phih_4_2s)\n",
    "        #print('Fuu',Fuu_4_2s)\n",
    "        #print('Fuu_stat',Fuu_4_2_stats)\n",
    "        _Fuu_4_2 = Get_weighted_average(Fuu_4_2s,Fuu_4_2_stats)[0]\n",
    "        _Fuu_4_2_stat = Factor_3xs*Get_weighted_average(Fuu_4_2s,Fuu_4_2_stats)[1]\n",
    "        _phih_4_2= Get_weighted_average_phi(phih_4_2s,Fuu_4_2_stats)[0]\n",
    "        #print('_Fuu_4_2',_Fuu_4_2)\n",
    "        #print('_phih',_phih_4_2)\n",
    "        #print('_Fuu_stat',_Fuu_4_2_stat)\n",
    "        Fuu_4_2_3xs.append(_Fuu_4_2)\n",
    "        phih_4_2_3xs.append(_phih_4_2)\n",
    "        Fuu_4_2_3xs_stat.append(_Fuu_4_2_stat)\n",
    "        Fuu_4_2_3xs_sys.append(0.05*_Fuu_4_2)\n",
    "        #print(Fuu_4_2,phih_4_2)\n",
    "        ax.plot([_phih_4_2,_phih_4_2],[_Fuu_4_2-_Fuu_4_2_stat,_Fuu_4_2+_Fuu_4_2_stat],color='red',marker='_')\n",
    "    i_phi_left = i_phi\n",
    "    #print('phileft',i_phi_left)\n",
    "plt.plot(phih_4_2_3xs,Fuu_4_2_3xs,'ro')\n",
    "plt.xlabel('$\\phi_h$',fontsize=16)\n",
    "plt.ylabel('$F_{UU}$',fontsize=16)"
   ]
  },
  {
   "cell_type": "code",
   "execution_count": 57,
   "id": "6f492a96",
   "metadata": {
    "scrolled": true
   },
   "outputs": [
    {
     "name": "stdout",
     "output_type": "stream",
     "text": [
      "-3.141592653589793 -2.5132741228718345\n",
      "0\n",
      "-2.5132741228718345 -1.8849555921538759\n",
      "0\n",
      "-1.8849555921538759 -1.2566370614359172\n",
      "0\n",
      "-1.2566370614359172 -0.6283185307179586\n",
      "0\n",
      "-0.6283185307179586 0.6283185307179586\n",
      "0\n",
      "0.6283185307179586 1.2566370614359172\n",
      "0\n",
      "1.2566370614359172 1.8849555921538759\n",
      "0\n",
      "1.8849555921538759 2.5132741228718345\n",
      "0\n",
      "2.5132741228718345 3.141592653589793\n",
      "0\n"
     ]
    },
    {
     "data": {
      "text/plain": [
       "Text(0, 0.5, '$F_{UU}$')"
      ]
     },
     "execution_count": 57,
     "metadata": {},
     "output_type": "execute_result"
    },
    {
     "data": {
      "image/png": "[encoded data removed]",
      "text/plain": [
       "<Figure size 640x480 with 1 Axes>"
      ]
     },
     "metadata": {},
     "output_type": "display_data"
    }
   ],
   "source": [
    "fig = plt.figure()\n",
    "ax = fig.add_subplot()\n",
    "phih_4_3_3xs=[]\n",
    "Fuu_4_3_3xs=[]\n",
    "Fuu_4_3_3xs_stat=[]\n",
    "Fuu_4_3_3xs_sys=[]\n",
    "i_phi_left = phih_bins[0]\n",
    "for i_phi in phih_bins[1:]:\n",
    "    print(i_phi_left,i_phi)\n",
    "    phih_4_3s = df_3xs_4_3[df_3xs_4_3['phih']>=i_phi_left][df_3xs_4_3['phih']<i_phi]['phih'].tolist()\n",
    "    Fuu_4_3s = df_3xs_4_3[df_3xs_4_3['phih']>=i_phi_left][df_3xs_4_3['phih']<i_phi]['value'].tolist()\n",
    "    Fuu_4_3_stats = df_3xs_4_3[df_3xs_4_3['phih']>=i_phi_left][df_3xs_4_3['phih']<i_phi]['stat'].tolist()\n",
    "    print(len(phih_4_3s))\n",
    "    \n",
    "    if len(phih_4_3s)>0:  \n",
    "        #print('phih',phih_4_3s)\n",
    "        #print('Fuu',Fuu_4_3s)\n",
    "        #print('Fuu_stat',Fuu_4_3_stats)\n",
    "        _Fuu_4_3 = Get_weighted_average(Fuu_4_3s,Fuu_4_3_stats)[0]\n",
    "        _Fuu_4_3_stat = Factor_3xs*Get_weighted_average(Fuu_4_3s,Fuu_4_3_stats)[1]\n",
    "        _phih_4_3= Get_weighted_average_phi(phih_4_3s,Fuu_4_3_stats)[0]\n",
    "        #print('_Fuu_4_3',_Fuu_4_3)\n",
    "        #print('_phih',_phih_4_3)\n",
    "        #print('_Fuu_stat',_Fuu_4_3_stat)\n",
    "        Fuu_4_3_3xs.append(_Fuu_4_3)\n",
    "        phih_4_3_3xs.append(_phih_4_3)\n",
    "        Fuu_4_3_3xs_stat.append(_Fuu_4_3_stat)\n",
    "        Fuu_4_3_3xs_sys.append(0.05*_Fuu_4_3)\n",
    "        #print(Fuu_4_3,phih_4_3)\n",
    "        ax.plot([_phih_4_3,_phih_4_3],[_Fuu_4_3-_Fuu_4_3_stat,_Fuu_4_3+_Fuu_4_3_stat],color='red',marker='_')\n",
    "    i_phi_left = i_phi\n",
    "    #print('phileft',i_phi_left)\n",
    "plt.plot(phih_4_3_3xs,Fuu_4_3_3xs,'ro')\n",
    "plt.xlabel('$\\phi_h$',fontsize=16)\n",
    "plt.ylabel('$F_{UU}$',fontsize=16)"
   ]
  },
  {
   "cell_type": "code",
   "execution_count": 58,
   "id": "8f9bc060",
   "metadata": {},
   "outputs": [
    {
     "data": {
      "text/plain": [
       "<matplotlib.collections.PolyCollection at 0x11cca4c40>"
      ]
     },
     "execution_count": 58,
     "metadata": {},
     "output_type": "execute_result"
    },
    {
     "data": {
      "image/png": "[encoded data removed]",
      "text/plain": [
       "<Figure size 1000x800 with 12 Axes>"
      ]
     },
     "metadata": {},
     "output_type": "display_data"
    }
   ],
   "source": [
    "fig, axs = plt.subplots(4,3,figsize=(10,8),sharey=True)\n",
    "fig.subplots_adjust(hspace=0)\n",
    "fig.subplots_adjust(wspace=0)\n",
    "#plt.ylim(0.0002,0.99)\n",
    "plt.yscale('log')\n",
    "plt.xlabel('$\\phi_h(rad)$',fontsize=16)\n",
    "\n",
    "for i_1_1 in range(0,len(phih_1_1)):\n",
    "    _phih_1_1 = phih_1_1[i_1_1]\n",
    "    _Fuu_1_1 = Fuu_1_1[i_1_1]\n",
    "    _Fuu_1_1_stat = Fuu_1_1_stat[i_1_1]\n",
    "    axs[0][0].plot([_phih_1_1,_phih_1_1],[_Fuu_1_1-_Fuu_1_1_stat,_Fuu_1_1+_Fuu_1_1_stat],color='blue',marker='_')\n",
    "axs[0][0].plot(phih_1_1,Fuu_1_1,'bo')\n",
    "axs[0][0].fill_between(phih_1_1,np.asarray(0),np.asarray(0)+np.asarray(Fuu_1_1_sys),color='blue',hatch='\\\\\\\\\\\\\\\\',alpha=0.25,linewidth=0)\n",
    "axs[0][0].set_ylabel('$F_{UU}$',fontsize=16)\n",
    "for i_1_1_3xs in range(0,len(phih_1_1_3xs)):\n",
    "    _phih_1_1 = phih_1_1_3xs[i_1_1_3xs]\n",
    "    _Fuu_1_1 = Fuu_1_1_3xs[i_1_1_3xs]\n",
    "    _Fuu_1_1_stat = Fuu_1_1_3xs_stat[i_1_1_3xs]\n",
    "    axs[0][0].plot([_phih_1_1,_phih_1_1],[_Fuu_1_1-_Fuu_1_1_stat,_Fuu_1_1+_Fuu_1_1_stat],color='red',marker='_')\n",
    "axs[0][0].plot(phih_1_1_3xs,Fuu_1_1_3xs,'ro')\n",
    "axs[0][0].fill_between(phih_1_1_3xs,np.asarray(0),np.asarray(0)+np.asarray(Fuu_1_1_3xs_sys),color='red',hatch='\\\\\\\\\\\\\\\\',alpha=0.25,linewidth=0)\n",
    "for i_1_2 in range(0,len(phih_1_2)):\n",
    "    _phih_1_2 = phih_1_2[i_1_2]\n",
    "    _Fuu_1_2 = Fuu_1_2[i_1_2]\n",
    "    _Fuu_1_2_stat = Fuu_1_2_stat[i_1_2]\n",
    "    axs[0][1].plot([_phih_1_2,_phih_1_2],[_Fuu_1_2-_Fuu_1_2_stat,_Fuu_1_2+_Fuu_1_2_stat],color='blue',marker='_')\n",
    "axs[0][1].plot(phih_1_2,Fuu_1_2,'bo')\n",
    "axs[0][1].fill_between(phih_1_2,np.asarray(0),np.asarray(0)+np.asarray(Fuu_1_2_sys),color='blue',hatch='\\\\\\\\\\\\\\\\',alpha=0.25,linewidth=0)\n",
    "for i_1_2_3xs in range(0,len(phih_1_2_3xs)):\n",
    "    _phih_1_2 = phih_1_2_3xs[i_1_2_3xs]\n",
    "    _Fuu_1_2 = Fuu_1_2_3xs[i_1_2_3xs]\n",
    "    _Fuu_1_2_stat = Fuu_1_2_3xs_stat[i_1_2_3xs]\n",
    "    axs[0][1].plot([_phih_1_2,_phih_1_2],[_Fuu_1_2-_Fuu_1_2_stat,_Fuu_1_2+_Fuu_1_2_stat],color='red',marker='_')\n",
    "axs[0][1].plot(phih_1_2_3xs,Fuu_1_2_3xs,'ro')\n",
    "axs[0][1].fill_between(phih_1_2_3xs,np.asarray(0),np.asarray(0)+np.asarray(Fuu_1_2_3xs_sys),color='red',hatch='\\\\\\\\\\\\\\\\',alpha=0.25,linewidth=0)\n",
    "for i_1_3 in range(0,len(phih_1_3)):\n",
    "    _phih_1_3 = phih_1_3[i_1_3]\n",
    "    _Fuu_1_3 = Fuu_1_3[i_1_3]\n",
    "    _Fuu_1_3_stat = Fuu_1_3_stat[i_1_3]\n",
    "    axs[0][2].plot([_phih_1_3,_phih_1_3],[_Fuu_1_3-_Fuu_1_3_stat,_Fuu_1_3+_Fuu_1_3_stat],color='blue',marker='_')\n",
    "axs[0][2].plot(phih_1_3,Fuu_1_3,'bo')\n",
    "axs[0][2].fill_between(phih_1_3,np.asarray(0),np.asarray(0)+np.asarray(Fuu_1_3_sys),color='blue',hatch='\\\\\\\\\\\\\\\\',alpha=0.25,linewidth=0)\n",
    "for i_1_3_3xs in range(0,len(phih_1_3_3xs)):\n",
    "    _phih_1_3 = phih_1_3_3xs[i_1_3_3xs]\n",
    "    _Fuu_1_3 = Fuu_1_3_3xs[i_1_3_3xs]\n",
    "    _Fuu_1_3_stat = Fuu_1_3_3xs_stat[i_1_3_3xs]\n",
    "    axs[0][2].plot([_phih_1_3,_phih_1_3],[_Fuu_1_3-_Fuu_1_3_stat,_Fuu_1_3+_Fuu_1_3_stat],color='red',marker='_')\n",
    "axs[0][2].plot(phih_1_3_3xs,Fuu_1_3_3xs,'ro')\n",
    "axs[0][2].fill_between(phih_1_3_3xs,np.asarray(0),np.asarray(0)+np.asarray(Fuu_1_3_3xs_sys),color='red',hatch='\\\\\\\\\\\\\\\\',alpha=0.25,linewidth=0)\n",
    "for i_2_1 in range(0,len(phih_2_1)):\n",
    "    _phih_2_1 = phih_2_1[i_2_1]\n",
    "    _Fuu_2_1 = Fuu_2_1[i_2_1]\n",
    "    _Fuu_2_1_stat = Fuu_2_1_stat[i_2_1]\n",
    "    axs[1][0].plot([_phih_2_1,_phih_2_1],[_Fuu_2_1-_Fuu_2_1_stat,_Fuu_2_1+_Fuu_2_1_stat],color='blue',marker='_')\n",
    "axs[1][0].plot(phih_2_1,Fuu_2_1,'bo')\n",
    "axs[1][0].fill_between(phih_2_1,np.asarray(0),np.asarray(0)+np.asarray(Fuu_2_1_sys),color='blue',hatch='\\\\\\\\\\\\\\\\',alpha=0.25,linewidth=0)\n",
    "for i_2_1_3xs in range(0,len(phih_2_1_3xs)):\n",
    "    _phih_2_1 = phih_2_1_3xs[i_2_1_3xs]\n",
    "    _Fuu_2_1 = Fuu_2_1_3xs[i_2_1_3xs]\n",
    "    _Fuu_2_1_stat = Fuu_2_1_3xs_stat[i_2_1_3xs]\n",
    "    axs[1][0].plot([_phih_2_1,_phih_2_1],[_Fuu_2_1-_Fuu_2_1_stat,_Fuu_2_1+_Fuu_2_1_stat],color='red',marker='_')\n",
    "axs[1][0].plot(phih_2_1_3xs,Fuu_2_1_3xs,'ro')\n",
    "axs[1][0].fill_between(phih_2_1_3xs,np.asarray(0),np.asarray(0)+np.asarray(Fuu_2_1_3xs_sys),color='red',hatch='\\\\\\\\\\\\\\\\',alpha=0.25,linewidth=0)\n",
    "for i_2_2 in range(0,len(phih_2_2)):\n",
    "    _phih_2_2 = phih_2_2[i_2_2]\n",
    "    _Fuu_2_2 = Fuu_2_2[i_2_2]\n",
    "    _Fuu_2_2_stat = Fuu_2_2_stat[i_2_2]\n",
    "    axs[1][1].plot([_phih_2_2,_phih_2_2],[_Fuu_2_2-_Fuu_2_2_stat,_Fuu_2_2+_Fuu_2_2_stat],color='blue',marker='_')\n",
    "axs[1][1].plot(phih_2_2,Fuu_2_2,'bo')\n",
    "axs[1][1].fill_between(phih_2_2,np.asarray(0),np.asarray(0)+np.asarray(Fuu_2_2_sys),color='blue',hatch='\\\\\\\\\\\\\\\\',alpha=0.25,linewidth=0)\n",
    "for i_2_2_3xs in range(0,len(phih_2_2_3xs)):\n",
    "    _phih_2_2 = phih_2_2_3xs[i_2_2_3xs]\n",
    "    _Fuu_2_2 = Fuu_2_2_3xs[i_2_2_3xs]\n",
    "    _Fuu_2_2_stat = Fuu_2_2_3xs_stat[i_2_2_3xs]\n",
    "    axs[1][1].plot([_phih_2_2,_phih_2_2],[_Fuu_2_2-_Fuu_2_2_stat,_Fuu_2_2+_Fuu_2_2_stat],color='red',marker='_')\n",
    "axs[1][1].plot(phih_2_2_3xs,Fuu_2_2_3xs,'ro')\n",
    "axs[1][1].fill_between(phih_2_2_3xs,np.asarray(0),np.asarray(0)+np.asarray(Fuu_2_2_3xs_sys),color='red',hatch='\\\\\\\\\\\\\\\\',alpha=0.25,linewidth=0)\n",
    "for i_2_3 in range(0,len(phih_2_3)):\n",
    "    _phih_2_3 = phih_2_3[i_2_3]\n",
    "    _Fuu_2_3 = Fuu_2_3[i_2_3]\n",
    "    _Fuu_2_3_stat = Fuu_2_3_stat[i_2_3]\n",
    "    axs[1][2].plot([_phih_2_3,_phih_2_3],[_Fuu_2_3-_Fuu_2_3_stat,_Fuu_2_3+_Fuu_2_3_stat],color='blue',marker='_')\n",
    "axs[1][2].plot(phih_2_3,Fuu_2_3,'bo')\n",
    "axs[1][2].fill_between(phih_2_3,np.asarray(0),np.asarray(0)+np.asarray(Fuu_2_3_sys),color='blue',hatch='\\\\\\\\\\\\\\\\',alpha=0.25,linewidth=0)\n",
    "for i_2_3_3xs in range(0,len(phih_2_3_3xs)):\n",
    "    _phih_2_3 = phih_2_3_3xs[i_2_3_3xs]\n",
    "    _Fuu_2_3 = Fuu_2_3_3xs[i_2_3_3xs]\n",
    "    _Fuu_2_3_stat = Fuu_2_3_3xs_stat[i_2_3_3xs]\n",
    "    axs[1][2].plot([_phih_2_3,_phih_2_3],[_Fuu_2_3-_Fuu_2_3_stat,_Fuu_2_3+_Fuu_2_3_stat],color='red',marker='_')\n",
    "axs[1][2].plot(phih_2_3_3xs,Fuu_2_3_3xs,'ro')\n",
    "axs[1][2].fill_between(phih_2_3_3xs,np.asarray(0),np.asarray(0)+np.asarray(Fuu_2_3_3xs_sys),color='red',hatch='\\\\\\\\\\\\\\\\',alpha=0.25,linewidth=0)\n",
    "for i_3_1 in range(0,len(phih_3_1)):\n",
    "    _phih_3_1 = phih_3_1[i_3_1]\n",
    "    _Fuu_3_1 = Fuu_3_1[i_3_1]\n",
    "    _Fuu_3_1_stat = Fuu_3_1_stat[i_3_1]\n",
    "    axs[2][0].plot([_phih_3_1,_phih_3_1],[_Fuu_3_1-_Fuu_3_1_stat,_Fuu_3_1+_Fuu_3_1_stat],color='blue',marker='_')\n",
    "axs[2][0].plot(phih_3_1,Fuu_3_1,'bo')\n",
    "axs[2][0].fill_between(phih_3_1,np.asarray(0),np.asarray(0)+np.asarray(Fuu_3_1_sys),color='blue',hatch='\\\\\\\\\\\\\\\\',alpha=0.25,linewidth=0)\n",
    "for i_3_1_3xs in range(0,len(phih_3_1_3xs)):\n",
    "    _phih_3_1 = phih_3_1_3xs[i_3_1_3xs]\n",
    "    _Fuu_3_1 = Fuu_3_1_3xs[i_3_1_3xs]\n",
    "    _Fuu_3_1_stat = Fuu_3_1_3xs_stat[i_3_1_3xs]\n",
    "    axs[2][0].plot([_phih_3_1,_phih_3_1],[_Fuu_3_1-_Fuu_3_1_stat,_Fuu_3_1+_Fuu_3_1_stat],color='red',marker='_')\n",
    "axs[2][0].plot(phih_3_1_3xs,Fuu_3_1_3xs,'ro')\n",
    "axs[2][0].fill_between(phih_3_1_3xs,np.asarray(0),np.asarray(0)+np.asarray(Fuu_3_1_3xs_sys),color='red',hatch='\\\\\\\\\\\\\\\\',alpha=0.25,linewidth=0)\n",
    "for i_3_2 in range(0,len(phih_3_2)):\n",
    "    _phih_3_2 = phih_3_2[i_3_2]\n",
    "    _Fuu_3_2 = Fuu_3_2[i_3_2]\n",
    "    _Fuu_3_2_stat = Fuu_3_2_stat[i_3_2]\n",
    "    axs[2][1].plot([_phih_3_2,_phih_3_2],[_Fuu_3_2-_Fuu_3_2_stat,_Fuu_3_2+_Fuu_3_2_stat],color='blue',marker='_')\n",
    "axs[2][1].plot(phih_3_2,Fuu_3_2,'bo')\n",
    "axs[2][1].fill_between(phih_3_2,np.asarray(0),np.asarray(0)+np.asarray(Fuu_3_2_sys),color='blue',hatch='\\\\\\\\\\\\\\\\',alpha=0.25,linewidth=0)\n",
    "for i_3_2_3xs in range(0,len(phih_3_2_3xs)):\n",
    "    _phih_3_2 = phih_3_2_3xs[i_3_2_3xs]\n",
    "    _Fuu_3_2 = Fuu_3_2_3xs[i_3_2_3xs]\n",
    "    _Fuu_3_2_stat = Fuu_3_2_3xs_stat[i_3_2_3xs]\n",
    "    axs[2][1].plot([_phih_3_2,_phih_3_2],[_Fuu_3_2-_Fuu_3_2_stat,_Fuu_3_2+_Fuu_3_2_stat],color='red',marker='_')\n",
    "axs[2][1].plot(phih_3_2_3xs,Fuu_3_2_3xs,'ro')\n",
    "axs[2][1].fill_between(phih_3_2_3xs,np.asarray(0),np.asarray(0)+np.asarray(Fuu_3_2_3xs_sys),color='red',hatch='\\\\\\\\\\\\\\\\',alpha=0.25,linewidth=0)\n",
    "for i_3_3 in range(0,len(phih_3_3)):\n",
    "    _phih_3_3 = phih_3_3[i_3_3]\n",
    "    _Fuu_3_3 = Fuu_3_3[i_3_3]\n",
    "    _Fuu_3_3_stat = Fuu_3_3_stat[i_3_3]\n",
    "    axs[2][2].plot([_phih_3_3,_phih_3_3],[_Fuu_3_3-_Fuu_3_3_stat,_Fuu_3_3+_Fuu_3_3_stat],color='blue',marker='_')\n",
    "axs[2][2].plot(phih_3_3,Fuu_3_3,'bo')\n",
    "axs[2][2].fill_between(phih_3_3,np.asarray(0),np.asarray(0)+np.asarray(Fuu_3_3_sys),color='blue',hatch='\\\\\\\\\\\\\\\\',alpha=0.25,linewidth=0)\n",
    "for i_3_3_3xs in range(0,len(phih_3_3_3xs)):\n",
    "    _phih_3_3 = phih_3_3_3xs[i_3_3_3xs]\n",
    "    _Fuu_3_3 = Fuu_3_3_3xs[i_3_3_3xs]\n",
    "    _Fuu_3_3_stat = Fuu_3_3_3xs_stat[i_3_3_3xs]\n",
    "    axs[2][2].plot([_phih_3_3,_phih_3_3],[_Fuu_3_3-_Fuu_3_3_stat,_Fuu_3_3+_Fuu_3_3_stat],color='red',marker='_')\n",
    "axs[2][2].plot(phih_3_3_3xs,Fuu_3_3_3xs,'ro')\n",
    "axs[2][2].fill_between(phih_3_3_3xs,np.asarray(0),np.asarray(0)+np.asarray(Fuu_3_3_3xs_sys),color='red',hatch='\\\\\\\\\\\\\\\\',alpha=0.25,linewidth=0)\n",
    "for i_4_1 in range(0,len(phih_4_1)):\n",
    "    _phih_4_1 = phih_4_1[i_4_1]\n",
    "    _Fuu_4_1 = Fuu_4_1[i_4_1]\n",
    "    _Fuu_4_1_stat = Fuu_4_1_stat[i_4_1]\n",
    "    axs[3][0].plot([_phih_4_1,_phih_4_1],[_Fuu_4_1-_Fuu_4_1_stat,_Fuu_4_1+_Fuu_4_1_stat],color='blue',marker='_')\n",
    "axs[3][0].plot(phih_4_1,Fuu_4_1,'bo')\n",
    "axs[3][0].fill_between(phih_4_1,np.asarray(0),np.asarray(0)+np.asarray(Fuu_4_1_sys),color='blue',hatch='\\\\\\\\\\\\\\\\',alpha=0.25,linewidth=0)\n",
    "for i_4_1_3xs in range(0,len(phih_4_1_3xs)):\n",
    "    _phih_4_1 = phih_4_1_3xs[i_4_1_3xs]\n",
    "    _Fuu_4_1 = Fuu_4_1_3xs[i_4_1_3xs]\n",
    "    _Fuu_4_1_stat = Fuu_4_1_3xs_stat[i_4_1_3xs]\n",
    "    axs[3][0].plot([_phih_4_1,_phih_4_1],[_Fuu_4_1-_Fuu_4_1_stat,_Fuu_4_1+_Fuu_4_1_stat],color='red',marker='_')\n",
    "axs[3][0].plot(phih_4_1_3xs,Fuu_4_1_3xs,'ro')\n",
    "axs[3][0].fill_between(phih_4_1_3xs,np.asarray(0),np.asarray(0)+np.asarray(Fuu_4_1_3xs_sys),color='red',hatch='\\\\\\\\\\\\\\\\',alpha=0.25,linewidth=0)\n",
    "for i_4_2 in range(0,len(phih_4_2)):\n",
    "    _phih_4_2 = phih_4_2[i_4_2]\n",
    "    _Fuu_4_2 = Fuu_4_2[i_4_2]\n",
    "    _Fuu_4_2_stat = Fuu_4_2_stat[i_4_2]\n",
    "    axs[3][1].plot([_phih_4_2,_phih_4_2],[_Fuu_4_2-_Fuu_4_2_stat,_Fuu_4_2+_Fuu_4_2_stat],color='blue',marker='_')\n",
    "axs[3][1].plot(phih_4_2,Fuu_4_2,'bo')\n",
    "axs[3][1].fill_between(phih_4_2,np.asarray(0),np.asarray(0)+np.asarray(Fuu_4_2_sys),color='blue',hatch='\\\\\\\\\\\\\\\\',alpha=0.25,linewidth=0)\n",
    "for i_4_2_3xs in range(0,len(phih_4_2_3xs)):\n",
    "    _phih_4_2 = phih_4_2_3xs[i_4_2_3xs]\n",
    "    _Fuu_4_2 = Fuu_4_2_3xs[i_4_2_3xs]\n",
    "    _Fuu_4_2_stat = Fuu_4_2_3xs_stat[i_4_2_3xs]\n",
    "    axs[3][1].plot([_phih_4_2,_phih_4_2],[_Fuu_4_2-_Fuu_4_2_stat,_Fuu_4_2+_Fuu_4_2_stat],color='red',marker='_')\n",
    "axs[3][1].plot(phih_4_2_3xs,Fuu_4_2_3xs,'ro')\n",
    "axs[3][1].fill_between(phih_4_2_3xs,np.asarray(0),np.asarray(0)+np.asarray(Fuu_4_2_3xs_sys),color='red',hatch='\\\\\\\\\\\\\\\\',alpha=0.25,linewidth=0)\n",
    "for i_4_3 in range(0,len(phih_4_3)):\n",
    "    _phih_4_3 = phih_4_3[i_4_3]\n",
    "    _Fuu_4_3 = Fuu_4_3[i_4_3]\n",
    "    _Fuu_4_3_stat = Fuu_4_3_stat[i_4_3]\n",
    "    axs[3][2].plot([_phih_4_3,_phih_4_3],[_Fuu_4_3-_Fuu_4_3_stat,_Fuu_4_3+_Fuu_4_3_stat],color='blue',marker='_')\n",
    "axs[3][2].plot(phih_4_3,Fuu_4_3,'bo')\n",
    "axs[3][2].fill_between(phih_4_3,np.asarray(0),np.asarray(0)+np.asarray(Fuu_4_3_sys),color='blue',hatch='\\\\\\\\\\\\\\\\',alpha=0.25,linewidth=0)\n",
    "for i_4_3_3xs in range(0,len(phih_4_3_3xs)):\n",
    "    _phih_4_3 = phih_4_3_3xs[i_4_3_3xs]\n",
    "    _Fuu_4_3 = Fuu_4_3_3xs[i_4_3_3xs]\n",
    "    _Fuu_4_3_stat = Fuu_4_3_3xs_stat[i_4_3_3xs]\n",
    "    axs[3][2].plot([_phih_4_3,_phih_4_3],[_Fuu_4_3-_Fuu_4_3_stat,_Fuu_4_3+_Fuu_4_3_stat],color='red',marker='_')\n",
    "axs[3][2].plot(phih_4_3_3xs,Fuu_4_3_3xs,'ro')\n",
    "axs[3][2].fill_between(phih_4_3_3xs,np.asarray(0),np.asarray(0)+np.asarray(Fuu_4_3_3xs_sys),color='red',hatch='\\\\\\\\\\\\\\\\',alpha=0.25,linewidth=0)\n",
    "\n",
    "#plt.savefig('../Unpol_proposal/Materials/Fuu_log.pdf')"
   ]
  },
  {
   "cell_type": "code",
   "execution_count": 59,
   "id": "ee9b8d28-9e43-4b37-b315-6b91dee988f3",
   "metadata": {},
   "outputs": [
    {
     "data": {
      "text/plain": [
       "Text(0, 0.5, '${d \\\\bf{\\\\sigma}}/{dzdydxdP^2_{hT}d\\\\phi_h}$ [$nb/GeV^2$]')"
      ]
     },
     "execution_count": 59,
     "metadata": {},
     "output_type": "execute_result"
    },
    {
     "data": {
      "image/png": "[encoded data removed]",
      "text/plain": [
       "<Figure size 1000x800 with 12 Axes>"
      ]
     },
     "metadata": {},
     "output_type": "display_data"
    }
   ],
   "source": [
    "fig, axs = plt.subplots(4,3,figsize=(10,8),sharex=True)\n",
    "fig.subplots_adjust(hspace=0)\n",
    "fig.subplots_adjust(wspace=0)\n",
    "\n",
    "plt.xlabel('$\\phi_h$ [rad]',fontsize=16)\n",
    "#over large\n",
    "Y_first_max=820;Y_second_max=420;Y_third_max=220;Y_fourth_max = 150\n",
    "#Y_first_max=200;Y_second_max=100;Y_third_max=50;Y_fourth_max = 20\n",
    "#large\n",
    "#Y_first_max=0.18;Y_second_max=0.07;Y_third_max=0.024;Y_fourth_max = 0.012\n",
    "#small2\n",
    "#Y_first_max=0.04;Y_second_max=0.03;Y_third_max=0.02;Y_fourth_max = 0.012\n",
    "#small\n",
    "#Y_first_max=0.09;Y_second_max=0.04;Y_third_max=0.01;Y_fourth_max=0.006\n",
    "\n",
    "for i_1_1 in range(0,len(phih_1_1)):\n",
    "    _phih_1_1 = phih_1_1[i_1_1]\n",
    "    _Fuu_1_1 = Fuu_1_1[i_1_1]\n",
    "    _Fuu_1_1_stat = Fuu_1_1_stat[i_1_1]\n",
    "    axs[0][0].plot([_phih_1_1,_phih_1_1],[_Fuu_1_1-_Fuu_1_1_stat,_Fuu_1_1+_Fuu_1_1_stat],color='blue',marker='_')\n",
    "axs[0][0].plot(phih_1_1,Fuu_1_1,'bo')\n",
    "axs[0][0].fill_between(phih_1_1,np.asarray(0),np.asarray(0)+np.asarray(Fuu_1_1_sys),color='blue',hatch='\\\\\\\\\\\\\\\\',alpha=0.25,linewidth=0)\n",
    "for i_1_1_3xs in range(0,len(phih_1_1_3xs)):\n",
    "    _phih_1_1 = phih_1_1_3xs[i_1_1_3xs]\n",
    "    _Fuu_1_1 = Fuu_1_1_3xs[i_1_1_3xs]\n",
    "    _Fuu_1_1_stat = Fuu_1_1_3xs_stat[i_1_1_3xs]\n",
    "    axs[0][0].plot([_phih_1_1,_phih_1_1],[_Fuu_1_1-_Fuu_1_1_stat,_Fuu_1_1+_Fuu_1_1_stat],color='red',marker='_')\n",
    "axs[0][0].plot(phih_1_1_3xs,Fuu_1_1_3xs,'ro')\n",
    "#axs[0][0].fill_between(phih_1_1_3xs,np.asarray(0),np.asarray(0)+np.asarray(Fuu_1_1_3xs_sys),color='red',hatch='\\\\\\\\\\\\\\\\',alpha=0.25,linewidth=0)\n",
    "axs[0][0].set_ylim(0.0002,Y_first_max)\n",
    "#axs[0][0].tick_params(direction='in',labelbottom=False,labelleft=False)\n",
    "axs[0][0].text(0.5,0.9,r'${}<z_h<{}\\ \\  {}<Q^2<{}$ $GeV^2$'.format(z_cuts[0],z_cuts[1],Q2_cuts[0],Q2_cuts[1]), horizontalalignment='center', verticalalignment='center', transform=axs[0][0].transAxes)\n",
    "axs[0][0].text(0.5,0.8,r'${}<x_{{b}}<{}\\ \\  {}<P_{{hT}}<{}$ GeV'.format(xbj_cuts[0],xbj_cuts[1],PhT_cuts[0],PhT_cuts[1]), horizontalalignment='center', verticalalignment='center', transform=axs[0][0].transAxes)\n",
    "for i_1_2 in range(0,len(phih_1_2)):\n",
    "    _phih_1_2 = phih_1_2[i_1_2]\n",
    "    _Fuu_1_2 = Fuu_1_2[i_1_2]\n",
    "    _Fuu_1_2_stat = Fuu_1_2_stat[i_1_2]\n",
    "    axs[0][1].plot([_phih_1_2,_phih_1_2],[_Fuu_1_2-_Fuu_1_2_stat,_Fuu_1_2+_Fuu_1_2_stat],color='blue',marker='_')\n",
    "axs[0][1].plot(phih_1_2,Fuu_1_2,'bo')\n",
    "axs[0][1].fill_between(phih_1_2,np.asarray(0),np.asarray(0)+np.asarray(Fuu_1_2_sys),color='blue',hatch='\\\\\\\\\\\\\\\\',alpha=0.25,linewidth=0)\n",
    "for i_1_2_3xs in range(0,len(phih_1_2_3xs)):\n",
    "    _phih_1_2 = phih_1_2_3xs[i_1_2_3xs]\n",
    "    _Fuu_1_2 = Fuu_1_2_3xs[i_1_2_3xs]\n",
    "    _Fuu_1_2_stat = Fuu_1_2_3xs_stat[i_1_2_3xs]\n",
    "    axs[0][1].plot([_phih_1_2,_phih_1_2],[_Fuu_1_2-_Fuu_1_2_stat,_Fuu_1_2+_Fuu_1_2_stat],color='red',marker='_')\n",
    "axs[0][1].plot(phih_1_2_3xs,Fuu_1_2_3xs,'ro')\n",
    "#axs[0][1].fill_between(phih_1_2_3xs,np.asarray(0),np.asarray(0)+np.asarray(Fuu_1_2_3xs_sys),color='red',hatch='\\\\\\\\\\\\\\\\',alpha=0.25,linewidth=0)\n",
    "axs[0][1].set_ylim(0.0002,Y_first_max)\n",
    "axs[0][1].tick_params(direction='in',labelbottom=False,labelleft=False)\n",
    "axs[0][1].text(0.5,0.9,r'${}<z_h<{}\\ \\ {}<Q^2<{}$ $GeV^2$'.format(z_cuts[1],z_cuts[2],Q2_cuts[0],Q2_cuts[1]), horizontalalignment='center', verticalalignment='center', transform=axs[0][1].transAxes)\n",
    "axs[0][1].text(0.5,0.8,r'${}<x_{{b}}<{}\\ \\ {}<P_{{hT}}<{}$ GeV'.format(xbj_cuts[0],xbj_cuts[1],PhT_cuts[0],PhT_cuts[1]), horizontalalignment='center', verticalalignment='center', transform=axs[0][1].transAxes)\n",
    "for i_1_3 in range(0,len(phih_1_3)):\n",
    "    _phih_1_3 = phih_1_3[i_1_3]\n",
    "    _Fuu_1_3 = Fuu_1_3[i_1_3]\n",
    "    _Fuu_1_3_stat = Fuu_1_3_stat[i_1_3]\n",
    "    axs[0][2].plot([_phih_1_3,_phih_1_3],[_Fuu_1_3-_Fuu_1_3_stat,_Fuu_1_3+_Fuu_1_3_stat],color='blue',marker='_')\n",
    "axs[0][2].plot(phih_1_3,Fuu_1_3,'bo')\n",
    "axs[0][2].fill_between(phih_1_3,np.asarray(0),np.asarray(0)+np.asarray(Fuu_1_3_sys),color='blue',hatch='\\\\\\\\\\\\\\\\',alpha=0.25,linewidth=0)\n",
    "for i_1_3_3xs in range(0,len(phih_1_3_3xs)):\n",
    "    _phih_1_3 = phih_1_3_3xs[i_1_3_3xs]\n",
    "    _Fuu_1_3 = Fuu_1_3_3xs[i_1_3_3xs]\n",
    "    _Fuu_1_3_stat = Fuu_1_3_3xs_stat[i_1_3_3xs]\n",
    "    axs[0][2].plot([_phih_1_3,_phih_1_3],[_Fuu_1_3-_Fuu_1_3_stat,_Fuu_1_3+_Fuu_1_3_stat],color='red',marker='_')\n",
    "axs[0][2].plot(phih_1_3_3xs,Fuu_1_3_3xs,'ro')\n",
    "#axs[0][2].fill_between(phih_1_3_3xs,np.asarray(0),np.asarray(0)+np.asarray(Fuu_1_3_3xs_sys),color='red',hatch='\\\\\\\\\\\\\\\\',alpha=0.25,linewidth=0)\n",
    "axs[0][2].set_ylim(0.0002,Y_first_max)\n",
    "axs[0][2].tick_params(direction='in',labelbottom=False,labelleft=False)\n",
    "axs[0][2].text(0.5,0.9,r'${}<z_h<{}\\ \\   {}<Q^2<{}$ $GeV^2$'.format(z_cuts[2],z_cuts[3],Q2_cuts[0],Q2_cuts[1]), horizontalalignment='center', verticalalignment='center', transform=axs[0][2].transAxes)\n",
    "axs[0][2].text(0.5,0.8,r'${}<x_{{b}}<{}\\ \\  {}<P_{{hT}}<{}$ GeV'.format(xbj_cuts[0],xbj_cuts[1],PhT_cuts[0],PhT_cuts[1]), horizontalalignment='center', verticalalignment='center', transform=axs[0][2].transAxes)\n",
    "for i_2_1 in range(0,len(phih_2_1)):\n",
    "    _phih_2_1 = phih_2_1[i_2_1]\n",
    "    _Fuu_2_1 = Fuu_2_1[i_2_1]\n",
    "    _Fuu_2_1_stat = Fuu_2_1_stat[i_2_1]\n",
    "    axs[1][0].plot([_phih_2_1,_phih_2_1],[_Fuu_2_1-_Fuu_2_1_stat,_Fuu_2_1+_Fuu_2_1_stat],color='blue',marker='_')\n",
    "axs[1][0].plot(phih_2_1,Fuu_2_1,'bo')\n",
    "axs[1][0].fill_between(phih_2_1,np.asarray(0),np.asarray(0)+np.asarray(Fuu_2_1_sys),color='blue',hatch='\\\\\\\\\\\\\\\\',alpha=0.25,linewidth=0)\n",
    "for i_2_1_3xs in range(0,len(phih_2_1_3xs)):\n",
    "    _phih_2_1 = phih_2_1_3xs[i_2_1_3xs]\n",
    "    _Fuu_2_1 = Fuu_2_1_3xs[i_2_1_3xs]\n",
    "    _Fuu_2_1_stat = Fuu_2_1_3xs_stat[i_2_1_3xs]\n",
    "    axs[1][0].plot([_phih_2_1,_phih_2_1],[_Fuu_2_1-_Fuu_2_1_stat,_Fuu_2_1+_Fuu_2_1_stat],color='red',marker='_')\n",
    "axs[1][0].plot(phih_2_1_3xs,Fuu_2_1_3xs,'ro')\n",
    "#axs[1][0].fill_between(phih_2_1_3xs,np.asarray(0),np.asarray(0)+np.asarray(Fuu_2_1_3xs_sys),color='red',hatch='\\\\\\\\\\\\\\\\',alpha=0.25,linewidth=0)\n",
    "axs[1][0].set_ylim(0.0002,Y_second_max)\n",
    "#axs[1][0].tick_params(direction='in',labelbottom=False,labelleft=False)\n",
    "axs[1][0].text(0.5,0.9,r'${}<z_h<{}\\ \\  {}<Q^2<{}$ $GeV^2$'.format(z_cuts[0],z_cuts[1],Q2_cuts[1],Q2_cuts[2]), horizontalalignment='center', verticalalignment='center', transform=axs[1][0].transAxes)\n",
    "axs[1][0].text(0.5,0.8,r'${}<x_{{b}}<{}\\ \\  {}<P_{{hT}}<{}$ GeV'.format(xbj_cuts[0],xbj_cuts[1],PhT_cuts[0],PhT_cuts[1]), horizontalalignment='center', verticalalignment='center', transform=axs[1][0].transAxes)\n",
    "for i_2_2 in range(0,len(phih_2_2)):\n",
    "    _phih_2_2 = phih_2_2[i_2_2]\n",
    "    _Fuu_2_2 = Fuu_2_2[i_2_2]\n",
    "    _Fuu_2_2_stat = Fuu_2_2_stat[i_2_2]\n",
    "    axs[1][1].plot([_phih_2_2,_phih_2_2],[_Fuu_2_2-_Fuu_2_2_stat,_Fuu_2_2+_Fuu_2_2_stat],color='blue',marker='_')\n",
    "axs[1][1].plot(phih_2_2,Fuu_2_2,'bo')\n",
    "axs[1][1].fill_between(phih_2_2,np.asarray(0),np.asarray(0)+np.asarray(Fuu_2_2_sys),color='blue',hatch='\\\\\\\\\\\\\\\\',alpha=0.25,linewidth=0)\n",
    "for i_2_2_3xs in range(0,len(phih_2_2_3xs)):\n",
    "    _phih_2_2 = phih_2_2_3xs[i_2_2_3xs]\n",
    "    _Fuu_2_2 = Fuu_2_2_3xs[i_2_2_3xs]\n",
    "    _Fuu_2_2_stat = Fuu_2_2_3xs_stat[i_2_2_3xs]\n",
    "    axs[1][1].plot([_phih_2_2,_phih_2_2],[_Fuu_2_2-_Fuu_2_2_stat,_Fuu_2_2+_Fuu_2_2_stat],color='red',marker='_')\n",
    "axs[1][1].plot(phih_2_2_3xs,Fuu_2_2_3xs,'ro')\n",
    "#axs[1][1].fill_between(phih_2_2_3xs,np.asarray(0),np.asarray(0)+np.asarray(Fuu_2_2_3xs_sys),color='red',hatch='\\\\\\\\\\\\\\\\',alpha=0.25,linewidth=0)\n",
    "axs[1][1].set_ylim(0.0002,Y_second_max)\n",
    "axs[1][1].tick_params(direction='in',labelbottom=False,labelleft=False)\n",
    "axs[1][1].text(0.5,0.9,r'${}<z_h<{}\\ \\ {}<Q^2<{}$ $GeV^2$'.format(z_cuts[1],z_cuts[2],Q2_cuts[1],Q2_cuts[2]), horizontalalignment='center', verticalalignment='center', transform=axs[1][1].transAxes)\n",
    "axs[1][1].text(0.5,0.8,r'${}<x_{{b}}<{}\\ \\ {}<P_{{hT}}<{}$ GeV'.format(xbj_cuts[0],xbj_cuts[1],PhT_cuts[0],PhT_cuts[1]), horizontalalignment='center', verticalalignment='center', transform=axs[1][1].transAxes)\n",
    "for i_2_3 in range(0,len(phih_2_3)):\n",
    "    _phih_2_3 = phih_2_3[i_2_3]\n",
    "    _Fuu_2_3 = Fuu_2_3[i_2_3]\n",
    "    _Fuu_2_3_stat = Fuu_2_3_stat[i_2_3]\n",
    "    axs[1][2].plot([_phih_2_3,_phih_2_3],[_Fuu_2_3-_Fuu_2_3_stat,_Fuu_2_3+_Fuu_2_3_stat],color='blue',marker='_')\n",
    "axs[1][2].plot(phih_2_3,Fuu_2_3,'bo')\n",
    "axs[1][2].fill_between(phih_2_3,np.asarray(0),np.asarray(0)+np.asarray(Fuu_2_3_sys),color='blue',hatch='\\\\\\\\\\\\\\\\',alpha=0.25,linewidth=0)\n",
    "for i_2_3_3xs in range(0,len(phih_2_3_3xs)):\n",
    "    _phih_2_3 = phih_2_3_3xs[i_2_3_3xs]\n",
    "    _Fuu_2_3 = Fuu_2_3_3xs[i_2_3_3xs]\n",
    "    _Fuu_2_3_stat = Fuu_2_3_3xs_stat[i_2_3_3xs]\n",
    "    axs[1][2].plot([_phih_2_3,_phih_2_3],[_Fuu_2_3-_Fuu_2_3_stat,_Fuu_2_3+_Fuu_2_3_stat],color='red',marker='_')\n",
    "axs[1][2].plot(phih_2_3_3xs,Fuu_2_3_3xs,'ro')\n",
    "#axs[1][2].fill_between(phih_2_3_3xs,np.asarray(0),np.asarray(0)+np.asarray(Fuu_2_3_3xs_sys),color='red',hatch='\\\\\\\\\\\\\\\\',alpha=0.25,linewidth=0)\n",
    "axs[1][2].set_ylim(0.0002,Y_second_max)\n",
    "axs[1][2].tick_params(direction='in',labelbottom=False,labelleft=False)\n",
    "axs[1][2].text(0.5,0.9,r'${}<z_h<{}\\ \\   {}<Q^2<{}$ $GeV^2$'.format(z_cuts[2],z_cuts[3],Q2_cuts[1],Q2_cuts[2]), horizontalalignment='center', verticalalignment='center', transform=axs[1][2].transAxes)\n",
    "axs[1][2].text(0.5,0.8,r'${}<x_{{b}}<{}\\ \\  {}<P_{{hT}}<{}$ GeV'.format(xbj_cuts[0],xbj_cuts[1],PhT_cuts[0],PhT_cuts[1]), horizontalalignment='center', verticalalignment='center', transform=axs[1][2].transAxes)\n",
    "for i_3_1 in range(0,len(phih_3_1)):\n",
    "    _phih_3_1 = phih_3_1[i_3_1]\n",
    "    _Fuu_3_1 = Fuu_3_1[i_3_1]\n",
    "    _Fuu_3_1_stat = Fuu_3_1_stat[i_3_1]\n",
    "    axs[2][0].plot([_phih_3_1,_phih_3_1],[_Fuu_3_1-_Fuu_3_1_stat,_Fuu_3_1+_Fuu_3_1_stat],color='blue',marker='_')\n",
    "axs[2][0].plot(phih_3_1,Fuu_3_1,'bo')\n",
    "axs[2][0].fill_between(phih_3_1,np.asarray(0),np.asarray(0)+np.asarray(Fuu_3_1_sys),color='blue',hatch='\\\\\\\\\\\\\\\\',alpha=0.25,linewidth=0)\n",
    "for i_3_1_3xs in range(0,len(phih_3_1_3xs)):\n",
    "    _phih_3_1 = phih_3_1_3xs[i_3_1_3xs]\n",
    "    _Fuu_3_1 = Fuu_3_1_3xs[i_3_1_3xs]\n",
    "    _Fuu_3_1_stat = Fuu_3_1_3xs_stat[i_3_1_3xs]\n",
    "    axs[2][0].plot([_phih_3_1,_phih_3_1],[_Fuu_3_1-_Fuu_3_1_stat,_Fuu_3_1+_Fuu_3_1_stat],color='red',marker='_')\n",
    "axs[2][0].plot(phih_3_1_3xs,Fuu_3_1_3xs,'ro')\n",
    "#axs[2][0].fill_between(phih_3_1_3xs,np.asarray(0),np.asarray(0)+np.asarray(Fuu_3_1_3xs_sys),color='red',hatch='\\\\\\\\\\\\\\\\',alpha=0.25,linewidth=0)\n",
    "axs[2][0].set_ylim(0.0002,Y_third_max)\n",
    "#axs[1][0].tick_params(direction='in',labelbottom=False,labelleft=False)\n",
    "axs[2][0].text(0.5,0.9,r'${}<z_h<{}\\ \\  {}<Q^2<{}$ $GeV^2$'.format(z_cuts[0],z_cuts[1],Q2_cuts[2],Q2_cuts[3]), horizontalalignment='center', verticalalignment='center', transform=axs[2][0].transAxes)\n",
    "axs[2][0].text(0.5,0.8,r'${}<x_{{b}}<{}\\ \\  {}<P_{{hT}}<{}$ GeV'.format(xbj_cuts[0],xbj_cuts[1],PhT_cuts[0],PhT_cuts[1]), horizontalalignment='center', verticalalignment='center', transform=axs[2][0].transAxes)\n",
    "for i_3_2 in range(0,len(phih_3_2)):\n",
    "    _phih_3_2 = phih_3_2[i_3_2]\n",
    "    _Fuu_3_2 = Fuu_3_2[i_3_2]\n",
    "    _Fuu_3_2_stat = Fuu_3_2_stat[i_3_2]\n",
    "    axs[2][1].plot([_phih_3_2,_phih_3_2],[_Fuu_3_2-_Fuu_3_2_stat,_Fuu_3_2+_Fuu_3_2_stat],color='blue',marker='_')\n",
    "axs[2][1].plot(phih_3_2,Fuu_3_2,'bo')\n",
    "axs[2][1].fill_between(phih_3_2,np.asarray(0),np.asarray(0)+np.asarray(Fuu_3_2_sys),color='blue',hatch='\\\\\\\\\\\\\\\\',alpha=0.25,linewidth=0)\n",
    "for i_3_2_3xs in range(0,len(phih_3_2_3xs)):\n",
    "    _phih_3_2 = phih_3_2_3xs[i_3_2_3xs]\n",
    "    _Fuu_3_2 = Fuu_3_2_3xs[i_3_2_3xs]\n",
    "    _Fuu_3_2_stat = Fuu_3_2_3xs_stat[i_3_2_3xs]\n",
    "    axs[2][1].plot([_phih_3_2,_phih_3_2],[_Fuu_3_2-_Fuu_3_2_stat,_Fuu_3_2+_Fuu_3_2_stat],color='red',marker='_')\n",
    "axs[2][1].plot(phih_3_2_3xs,Fuu_3_2_3xs,'ro')\n",
    "#axs[2][1].fill_between(phih_3_2_3xs,np.asarray(0),np.asarray(0)+np.asarray(Fuu_3_2_3xs_sys),color='red',hatch='\\\\\\\\\\\\\\\\',alpha=0.25,linewidth=0)\n",
    "axs[2][1].set_ylim(0.0002,Y_third_max)\n",
    "axs[2][1].tick_params(direction='in',labelbottom=False,labelleft=False)\n",
    "axs[2][1].text(0.5,0.9,r'${}<z_h<{}\\ \\ {}<Q^2<{}$ $GeV^2$'.format(z_cuts[1],z_cuts[2],Q2_cuts[2],Q2_cuts[3]), horizontalalignment='center', verticalalignment='center', transform=axs[2][1].transAxes)\n",
    "axs[2][1].text(0.5,0.8,r'${}<x_{{b}}<{}\\ \\ {}<P_{{hT}}<{}$ GeV'.format(xbj_cuts[0],xbj_cuts[1],PhT_cuts[0],PhT_cuts[1]), horizontalalignment='center', verticalalignment='center', transform=axs[2][1].transAxes)\n",
    "for i_3_3 in range(0,len(phih_3_3)):\n",
    "    _phih_3_3 = phih_3_3[i_3_3]\n",
    "    _Fuu_3_3 = Fuu_3_3[i_3_3]\n",
    "    _Fuu_3_3_stat = Fuu_3_3_stat[i_3_3]\n",
    "    axs[2][2].plot([_phih_3_3,_phih_3_3],[_Fuu_3_3-_Fuu_3_3_stat,_Fuu_3_3+_Fuu_3_3_stat],color='blue',marker='_')\n",
    "axs[2][2].plot(phih_3_3,Fuu_3_3,'bo')\n",
    "axs[2][2].fill_between(phih_3_3,np.asarray(0),np.asarray(0)+np.asarray(Fuu_3_3_sys),color='blue',hatch='\\\\\\\\\\\\\\\\',alpha=0.25,linewidth=0)\n",
    "for i_3_3_3xs in range(0,len(phih_3_3_3xs)):\n",
    "    _phih_3_3 = phih_3_3_3xs[i_3_3_3xs]\n",
    "    _Fuu_3_3 = Fuu_3_3_3xs[i_3_3_3xs]\n",
    "    _Fuu_3_3_stat = Fuu_3_3_3xs_stat[i_3_3_3xs]\n",
    "    axs[2][2].plot([_phih_3_3,_phih_3_3],[_Fuu_3_3-_Fuu_3_3_stat,_Fuu_3_3+_Fuu_3_3_stat],color='red',marker='_')\n",
    "axs[2][2].plot(phih_3_3_3xs,Fuu_3_3_3xs,'ro')\n",
    "#axs[2][2].fill_between(phih_3_3_3xs,np.asarray(0),np.asarray(0)+np.asarray(Fuu_3_3_3xs_sys),color='red',hatch='\\\\\\\\\\\\\\\\',alpha=0.25,linewidth=0)\n",
    "axs[2][2].set_ylim(0.0002,Y_third_max)\n",
    "axs[2][2].tick_params(direction='in',labelbottom=False,labelleft=False)\n",
    "axs[2][2].text(0.5,0.9,r'${}<z_h<{}\\ \\   {}<Q^2<{}$ $GeV^2$'.format(z_cuts[2],z_cuts[3],Q2_cuts[2],Q2_cuts[3]), horizontalalignment='center', verticalalignment='center', transform=axs[2][2].transAxes)\n",
    "axs[2][2].text(0.5,0.8,r'${}<x_{{b}}<{}\\ \\  {}<P_{{hT}}<{}$ GeV'.format(xbj_cuts[0],xbj_cuts[1],PhT_cuts[0],PhT_cuts[1]), horizontalalignment='center', verticalalignment='center', transform=axs[2][2].transAxes)\n",
    "for i_4_1 in range(0,len(phih_4_1)):\n",
    "    _phih_4_1 = phih_4_1[i_4_1]\n",
    "    _Fuu_4_1 = Fuu_4_1[i_4_1]\n",
    "    _Fuu_4_1_stat = Fuu_4_1_stat[i_4_1]\n",
    "    axs[3][0].plot([_phih_4_1,_phih_4_1],[_Fuu_4_1-_Fuu_4_1_stat,_Fuu_4_1+_Fuu_4_1_stat],color='blue',marker='_')\n",
    "axs[3][0].plot(phih_4_1,Fuu_4_1,'bo')\n",
    "axs[3][0].fill_between(phih_4_1,np.asarray(0),np.asarray(0)+np.asarray(Fuu_4_1_sys),color='blue',hatch='\\\\\\\\\\\\\\\\',alpha=0.25,linewidth=0)\n",
    "for i_4_1_3xs in range(0,len(phih_4_1_3xs)):\n",
    "    _phih_4_1 = phih_4_1_3xs[i_4_1_3xs]\n",
    "    _Fuu_4_1 = Fuu_4_1_3xs[i_4_1_3xs]\n",
    "    _Fuu_4_1_stat = Fuu_4_1_3xs_stat[i_4_1_3xs]\n",
    "    axs[3][0].plot([_phih_4_1,_phih_4_1],[_Fuu_4_1-_Fuu_4_1_stat,_Fuu_4_1+_Fuu_4_1_stat],color='red',marker='_')\n",
    "axs[3][0].plot(phih_4_1_3xs,Fuu_4_1_3xs,'ro')\n",
    "#axs[3][0].fill_between(phih_4_1_3xs,np.asarray(0),np.asarray(0)+np.asarray(Fuu_4_1_3xs_sys),color='red',hatch='\\\\\\\\\\\\\\\\',alpha=0.25,linewidth=0)\n",
    "axs[3][0].set_ylim(0.0002,Y_fourth_max)\n",
    "#axs[3][0].tick_params(direction='in',labelbottom=False,labelleft=False)\n",
    "axs[3][0].text(0.5,0.9,r'${}<z_h<{}\\ \\  {}<Q^2<{}$ $GeV^2$'.format(z_cuts[0],z_cuts[1],Q2_cuts[3],Q2_cuts[4]), horizontalalignment='center', verticalalignment='center', transform=axs[3][0].transAxes)\n",
    "axs[3][0].text(0.5,0.8,r'${}<x_{{b}}<{}\\ \\  {}<P_{{hT}}<{}$ GeV'.format(xbj_cuts[0],xbj_cuts[1],PhT_cuts[0],PhT_cuts[1]), horizontalalignment='center', verticalalignment='center', transform=axs[3][0].transAxes)\n",
    "for i_4_2 in range(0,len(phih_4_2)):\n",
    "    _phih_4_2 = phih_4_2[i_4_2]\n",
    "    _Fuu_4_2 = Fuu_4_2[i_4_2]\n",
    "    _Fuu_4_2_stat = Fuu_4_2_stat[i_4_2]\n",
    "    axs[3][1].plot([_phih_4_2,_phih_4_2],[_Fuu_4_2-_Fuu_4_2_stat,_Fuu_4_2+_Fuu_4_2_stat],color='blue',marker='_')\n",
    "axs[3][1].plot(phih_4_2,Fuu_4_2,'bo')\n",
    "axs[3][1].fill_between(phih_4_2,np.asarray(0),np.asarray(0)+np.asarray(Fuu_4_2_sys),color='blue',hatch='\\\\\\\\\\\\\\\\',alpha=0.25,linewidth=0)\n",
    "for i_4_2_3xs in range(0,len(phih_4_2_3xs)):\n",
    "    _phih_4_2 = phih_4_2_3xs[i_4_2_3xs]\n",
    "    _Fuu_4_2 = Fuu_4_2_3xs[i_4_2_3xs]\n",
    "    _Fuu_4_2_stat = Fuu_4_2_3xs_stat[i_4_2_3xs]\n",
    "    axs[3][1].plot([_phih_4_2,_phih_4_2],[_Fuu_4_2-_Fuu_4_2_stat,_Fuu_4_2+_Fuu_4_2_stat],color='red',marker='_')\n",
    "axs[3][1].plot(phih_4_2_3xs,Fuu_4_2_3xs,'ro')\n",
    "#axs[3][1].fill_between(phih_4_2_3xs,np.asarray(0),np.asarray(0)+np.asarray(Fuu_4_2_3xs_sys),color='red',hatch='\\\\\\\\\\\\\\\\',alpha=0.25,linewidth=0)\n",
    "axs[3][1].set_ylim(0.0002,Y_fourth_max)\n",
    "axs[3][1].tick_params(direction='in',labelleft=False)\n",
    "axs[3][1].text(0.5,0.9,r'${}<z_h<{}\\ \\ {}<Q^2<{}$ $GeV^2$'.format(z_cuts[1],z_cuts[2],Q2_cuts[3],Q2_cuts[4]), horizontalalignment='center', verticalalignment='center', transform=axs[3][1].transAxes)\n",
    "axs[3][1].text(0.5,0.8,r'${}<x_{{b}}<{}\\ \\ {}<P_{{hT}}<{}$ GeV'.format(xbj_cuts[0],xbj_cuts[1],PhT_cuts[0],PhT_cuts[1]), horizontalalignment='center', verticalalignment='center', transform=axs[3][1].transAxes)\n",
    "for i_4_3 in range(0,len(phih_4_3)):\n",
    "    _phih_4_3 = phih_4_3[i_4_3]\n",
    "    _Fuu_4_3 = Fuu_4_3[i_4_3]\n",
    "    _Fuu_4_3_stat = Fuu_4_3_stat[i_4_3]\n",
    "    axs[3][2].plot([_phih_4_3,_phih_4_3],[_Fuu_4_3-_Fuu_4_3_stat,_Fuu_4_3+_Fuu_4_3_stat],color='blue',marker='_')\n",
    "axs[3][2].plot(phih_4_3,Fuu_4_3,'bo')\n",
    "axs[3][2].fill_between(phih_4_3,np.asarray(0),np.asarray(0)+np.asarray(Fuu_4_3_sys),color='blue',hatch='\\\\\\\\\\\\\\\\',alpha=0.25,linewidth=0)\n",
    "\n",
    "for i_4_3_3xs in range(0,len(phih_4_3_3xs)):\n",
    "    _phih_4_3 = phih_4_3_3xs[i_4_3_3xs]\n",
    "    _Fuu_4_3 = Fuu_4_3_3xs[i_4_3_3xs]\n",
    "    _Fuu_4_3_stat = Fuu_4_3_3xs_stat[i_4_3_3xs]\n",
    "    axs[3][2].plot([_phih_4_3,_phih_4_3],[_Fuu_4_3-_Fuu_4_3_stat,_Fuu_4_3+_Fuu_4_3_stat],color='red',marker='_')\n",
    "axs[3][2].plot(phih_4_3_3xs,Fuu_4_3_3xs,'ro')\n",
    "#axs[3][2].fill_between(phih_4_3_3xs,np.asarray(0),np.asarray(0)+np.asarray(Fuu_4_3_3xs_sys),color='red',hatch='\\\\\\\\\\\\\\\\',alpha=0.25,linewidth=0)\n",
    "axs[3][2].set_ylim(0.0002,Y_fourth_max)\n",
    "axs[3][2].tick_params(direction='in',labelleft=False)\n",
    "axs[3][2].text(0.5,0.9,r'${}<z_h<{}\\ \\   {}<Q^2<{}$ $GeV^2$'.format(z_cuts[2],z_cuts[3],Q2_cuts[3],Q2_cuts[4]), horizontalalignment='center', verticalalignment='center', transform=axs[3][2].transAxes)\n",
    "axs[3][2].text(0.5,0.8,r'${}<x_{{b}}<{}\\ \\  {}<P_{{hT}}<{}$ GeV'.format(xbj_cuts[0],xbj_cuts[1],PhT_cuts[0],PhT_cuts[1]), horizontalalignment='center', verticalalignment='center', transform=axs[3][2].transAxes)\n",
    "\n",
    "axs[1][0].set_ylabel(r'${d \\bf{\\sigma}}/{dzdydxdP^2_{hT}d\\phi_h}$ [$nb/GeV^2$]',fontsize=16)\n",
    "\n",
    "\n",
    "#plt.show()\n",
    "#plt.savefig('../Unpol_proposal/Materials/results/Fuu.pdf')"
   ]
  },
  {
   "cell_type": "code",
   "execution_count": 60,
   "id": "cc619b65",
   "metadata": {},
   "outputs": [
    {
     "data": {
      "image/png": "[encoded data removed]",
      "text/plain": [
       "<Figure size 1000x800 with 6 Axes>"
      ]
     },
     "metadata": {},
     "output_type": "display_data"
    }
   ],
   "source": [
    "fig, axs = plt.subplots(2,3,figsize=(10,8),sharex=True)\n",
    "fig.subplots_adjust(hspace=0)\n",
    "fig.subplots_adjust(wspace=0)\n",
    "\n",
    "plt.xlabel('$\\phi_h$ [rad]',fontsize=16)\n",
    "#over large\n",
    "Y_first_max=60;Y_second_max=50;Y_third_max=50;Y_fourth_max = 150\n",
    "#Y_first_max=820;Y_second_max=420;Y_third_max=220;Y_fourth_max = 150\n",
    "#Y_first_max=200;Y_second_max=100;Y_third_max=50;Y_fourth_max = 20\n",
    "#large\n",
    "#Y_first_max=0.18;Y_second_max=0.07;Y_third_max=0.024;Y_fourth_max = 0.012\n",
    "#small2\n",
    "#Y_first_max=0.04;Y_second_max=0.03;Y_third_max=0.02;Y_fourth_max = 0.012\n",
    "#small\n",
    "#Y_first_max=0.09;Y_second_max=0.04;Y_third_max=0.01;Y_fourth_max=0.006\n",
    "\n",
    "for i_1_1 in range(0,len(phih_1_1)):\n",
    "    _phih_1_1 = phih_1_1[i_1_1]\n",
    "    _Fuu_1_1 = Fuu_1_1[i_1_1]\n",
    "    _Fuu_1_1_stat = Fuu_1_1_stat[i_1_1]\n",
    "    axs[0][0].plot([_phih_1_1,_phih_1_1],[_Fuu_1_1-_Fuu_1_1_stat,_Fuu_1_1+_Fuu_1_1_stat],color='blue',marker='_')\n",
    "axs[0][0].plot(phih_1_1,Fuu_1_1,'bo')\n",
    "axs[0][0].fill_between(phih_1_1,np.asarray(0),np.asarray(0)+np.asarray(Fuu_1_1_sys),color='blue',hatch='\\\\\\\\\\\\\\\\',alpha=0.25,linewidth=0)\n",
    "for i_1_1_3xs in range(0,len(phih_1_1_3xs)):\n",
    "    _phih_1_1 = phih_1_1_3xs[i_1_1_3xs]\n",
    "    _Fuu_1_1 = Fuu_1_1_3xs[i_1_1_3xs]\n",
    "    _Fuu_1_1_stat = Fuu_1_1_3xs_stat[i_1_1_3xs]\n",
    "    axs[0][0].plot([_phih_1_1,_phih_1_1],[_Fuu_1_1-_Fuu_1_1_stat,_Fuu_1_1+_Fuu_1_1_stat],color='red',marker='_')\n",
    "axs[0][0].plot(phih_1_1_3xs,Fuu_1_1_3xs,'ro')\n",
    "#axs[0][0].fill_between(phih_1_1_3xs,np.asarray(0),np.asarray(0)+np.asarray(Fuu_1_1_3xs_sys),color='red',hatch='\\\\\\\\\\\\\\\\',alpha=0.25,linewidth=0)\n",
    "axs[0][0].set_ylim(0.0002,Y_first_max)\n",
    "#axs[0][0].tick_params(direction='in',labelbottom=False,labelleft=False)\n",
    "axs[0][0].text(0.5,0.9,r'${}<z_h<{}\\ \\  {}<Q^2<{}$ $GeV^2$'.format(z_cuts[0],z_cuts[1],Q2_cuts[0],Q2_cuts[1]), horizontalalignment='center', verticalalignment='center', transform=axs[0][0].transAxes)\n",
    "axs[0][0].text(0.5,0.8,r'${}<x_{{b}}<{}\\ \\  {}<P_{{hT}}<{}$ GeV'.format(xbj_cuts[0],xbj_cuts[1],PhT_cuts[0],PhT_cuts[1]), horizontalalignment='center', verticalalignment='center', transform=axs[0][0].transAxes)\n",
    "for i_1_2 in range(0,len(phih_1_2)):\n",
    "    _phih_1_2 = phih_1_2[i_1_2]\n",
    "    _Fuu_1_2 = Fuu_1_2[i_1_2]\n",
    "    _Fuu_1_2_stat = Fuu_1_2_stat[i_1_2]\n",
    "    axs[0][1].plot([_phih_1_2,_phih_1_2],[_Fuu_1_2-_Fuu_1_2_stat,_Fuu_1_2+_Fuu_1_2_stat],color='blue',marker='_')\n",
    "axs[0][1].plot(phih_1_2,Fuu_1_2,'bo')\n",
    "axs[0][1].fill_between(phih_1_2,np.asarray(0),np.asarray(0)+np.asarray(Fuu_1_2_sys),color='blue',hatch='\\\\\\\\\\\\\\\\',alpha=0.25,linewidth=0)\n",
    "for i_1_2_3xs in range(0,len(phih_1_2_3xs)):\n",
    "    _phih_1_2 = phih_1_2_3xs[i_1_2_3xs]\n",
    "    _Fuu_1_2 = Fuu_1_2_3xs[i_1_2_3xs]\n",
    "    _Fuu_1_2_stat = Fuu_1_2_3xs_stat[i_1_2_3xs]\n",
    "    axs[0][1].plot([_phih_1_2,_phih_1_2],[_Fuu_1_2-_Fuu_1_2_stat,_Fuu_1_2+_Fuu_1_2_stat],color='red',marker='_')\n",
    "axs[0][1].plot(phih_1_2_3xs,Fuu_1_2_3xs,'ro')\n",
    "#axs[0][1].fill_between(phih_1_2_3xs,np.asarray(0),np.asarray(0)+np.asarray(Fuu_1_2_3xs_sys),color='red',hatch='\\\\\\\\\\\\\\\\',alpha=0.25,linewidth=0)\n",
    "axs[0][1].set_ylim(0.0002,Y_first_max)\n",
    "axs[0][1].tick_params(direction='in',labelbottom=False,labelleft=False)\n",
    "axs[0][1].text(0.5,0.9,r'${}<z_h<{}\\ \\ {}<Q^2<{}$ $GeV^2$'.format(z_cuts[1],z_cuts[2],Q2_cuts[0],Q2_cuts[1]), horizontalalignment='center', verticalalignment='center', transform=axs[0][1].transAxes)\n",
    "axs[0][1].text(0.5,0.8,r'${}<x_{{b}}<{}\\ \\ {}<P_{{hT}}<{}$ GeV'.format(xbj_cuts[0],xbj_cuts[1],PhT_cuts[0],PhT_cuts[1]), horizontalalignment='center', verticalalignment='center', transform=axs[0][1].transAxes)\n",
    "for i_1_3 in range(0,len(phih_1_3)):\n",
    "    _phih_1_3 = phih_1_3[i_1_3]\n",
    "    _Fuu_1_3 = Fuu_1_3[i_1_3]\n",
    "    _Fuu_1_3_stat = Fuu_1_3_stat[i_1_3]\n",
    "    axs[0][2].plot([_phih_1_3,_phih_1_3],[_Fuu_1_3-_Fuu_1_3_stat,_Fuu_1_3+_Fuu_1_3_stat],color='blue',marker='_')\n",
    "axs[0][2].plot(phih_1_3,Fuu_1_3,'bo')\n",
    "axs[0][2].fill_between(phih_1_3,np.asarray(0),np.asarray(0)+np.asarray(Fuu_1_3_sys),color='blue',hatch='\\\\\\\\\\\\\\\\',alpha=0.25,linewidth=0)\n",
    "for i_1_3_3xs in range(0,len(phih_1_3_3xs)):\n",
    "    _phih_1_3 = phih_1_3_3xs[i_1_3_3xs]\n",
    "    _Fuu_1_3 = Fuu_1_3_3xs[i_1_3_3xs]\n",
    "    _Fuu_1_3_stat = Fuu_1_3_3xs_stat[i_1_3_3xs]\n",
    "    axs[0][2].plot([_phih_1_3,_phih_1_3],[_Fuu_1_3-_Fuu_1_3_stat,_Fuu_1_3+_Fuu_1_3_stat],color='red',marker='_')\n",
    "axs[0][2].plot(phih_1_3_3xs,Fuu_1_3_3xs,'ro')\n",
    "#axs[0][2].fill_between(phih_1_3_3xs,np.asarray(0),np.asarray(0)+np.asarray(Fuu_1_3_3xs_sys),color='red',hatch='\\\\\\\\\\\\\\\\',alpha=0.25,linewidth=0)\n",
    "axs[0][2].set_ylim(0.0002,Y_first_max)\n",
    "axs[0][2].tick_params(direction='in',labelbottom=False,labelleft=False)\n",
    "axs[0][2].text(0.5,0.9,r'${}<z_h<{}\\ \\   {}<Q^2<{}$ $GeV^2$'.format(z_cuts[2],z_cuts[3],Q2_cuts[0],Q2_cuts[1]), horizontalalignment='center', verticalalignment='center', transform=axs[0][2].transAxes)\n",
    "axs[0][2].text(0.5,0.8,r'${}<x_{{b}}<{}\\ \\  {}<P_{{hT}}<{}$ GeV'.format(xbj_cuts[0],xbj_cuts[1],PhT_cuts[0],PhT_cuts[1]), horizontalalignment='center', verticalalignment='center', transform=axs[0][2].transAxes)\n",
    "for i_2_1 in range(0,len(phih_2_1)):\n",
    "    _phih_2_1 = phih_2_1[i_2_1]\n",
    "    _Fuu_2_1 = Fuu_2_1[i_2_1]\n",
    "    _Fuu_2_1_stat = Fuu_2_1_stat[i_2_1]\n",
    "    axs[1][0].plot([_phih_2_1,_phih_2_1],[_Fuu_2_1-_Fuu_2_1_stat,_Fuu_2_1+_Fuu_2_1_stat],color='blue',marker='_')\n",
    "axs[1][0].plot(phih_2_1,Fuu_2_1,'bo')\n",
    "axs[1][0].fill_between(phih_2_1,np.asarray(0),np.asarray(0)+np.asarray(Fuu_2_1_sys),color='blue',hatch='\\\\\\\\\\\\\\\\',alpha=0.25,linewidth=0)\n",
    "for i_2_1_3xs in range(0,len(phih_2_1_3xs)):\n",
    "    _phih_2_1 = phih_2_1_3xs[i_2_1_3xs]\n",
    "    _Fuu_2_1 = Fuu_2_1_3xs[i_2_1_3xs]\n",
    "    _Fuu_2_1_stat = Fuu_2_1_3xs_stat[i_2_1_3xs]\n",
    "    axs[1][0].plot([_phih_2_1,_phih_2_1],[_Fuu_2_1-_Fuu_2_1_stat,_Fuu_2_1+_Fuu_2_1_stat],color='red',marker='_')\n",
    "axs[1][0].plot(phih_2_1_3xs,Fuu_2_1_3xs,'ro')\n",
    "#axs[1][0].fill_between(phih_2_1_3xs,np.asarray(0),np.asarray(0)+np.asarray(Fuu_2_1_3xs_sys),color='red',hatch='\\\\\\\\\\\\\\\\',alpha=0.25,linewidth=0)\n",
    "axs[1][0].set_ylim(0.0002,Y_second_max)\n",
    "#axs[1][0].tick_params(direction='in',labelbottom=False,labelleft=False)\n",
    "axs[1][0].text(0.5,0.9,r'${}<z_h<{}\\ \\  {}<Q^2<{}$ $GeV^2$'.format(z_cuts[0],z_cuts[1],Q2_cuts[1],Q2_cuts[2]), horizontalalignment='center', verticalalignment='center', transform=axs[1][0].transAxes)\n",
    "axs[1][0].text(0.5,0.8,r'${}<x_{{b}}<{}\\ \\  {}<P_{{hT}}<{}$ GeV'.format(xbj_cuts[0],xbj_cuts[1],PhT_cuts[0],PhT_cuts[1]), horizontalalignment='center', verticalalignment='center', transform=axs[1][0].transAxes)\n",
    "for i_2_2 in range(0,len(phih_2_2)):\n",
    "    _phih_2_2 = phih_2_2[i_2_2]\n",
    "    _Fuu_2_2 = Fuu_2_2[i_2_2]\n",
    "    _Fuu_2_2_stat = Fuu_2_2_stat[i_2_2]\n",
    "    axs[1][1].plot([_phih_2_2,_phih_2_2],[_Fuu_2_2-_Fuu_2_2_stat,_Fuu_2_2+_Fuu_2_2_stat],color='blue',marker='_')\n",
    "axs[1][1].plot(phih_2_2,Fuu_2_2,'bo')\n",
    "axs[1][1].fill_between(phih_2_2,np.asarray(0),np.asarray(0)+np.asarray(Fuu_2_2_sys),color='blue',hatch='\\\\\\\\\\\\\\\\',alpha=0.25,linewidth=0)\n",
    "for i_2_2_3xs in range(0,len(phih_2_2_3xs)):\n",
    "    _phih_2_2 = phih_2_2_3xs[i_2_2_3xs]\n",
    "    _Fuu_2_2 = Fuu_2_2_3xs[i_2_2_3xs]\n",
    "    _Fuu_2_2_stat = Fuu_2_2_3xs_stat[i_2_2_3xs]\n",
    "    axs[1][1].plot([_phih_2_2,_phih_2_2],[_Fuu_2_2-_Fuu_2_2_stat,_Fuu_2_2+_Fuu_2_2_stat],color='red',marker='_')\n",
    "axs[1][1].plot(phih_2_2_3xs,Fuu_2_2_3xs,'ro')\n",
    "#axs[1][1].fill_between(phih_2_2_3xs,np.asarray(0),np.asarray(0)+np.asarray(Fuu_2_2_3xs_sys),color='red',hatch='\\\\\\\\\\\\\\\\',alpha=0.25,linewidth=0)\n",
    "axs[1][1].set_ylim(0.0002,Y_second_max)\n",
    "axs[1][1].tick_params(direction='in',labelbottom=False,labelleft=False)\n",
    "axs[1][1].text(0.5,0.9,r'${}<z_h<{}\\ \\ {}<Q^2<{}$ $GeV^2$'.format(z_cuts[1],z_cuts[2],Q2_cuts[1],Q2_cuts[2]), horizontalalignment='center', verticalalignment='center', transform=axs[1][1].transAxes)\n",
    "axs[1][1].text(0.5,0.8,r'${}<x_{{b}}<{}\\ \\ {}<P_{{hT}}<{}$ GeV'.format(xbj_cuts[0],xbj_cuts[1],PhT_cuts[0],PhT_cuts[1]), horizontalalignment='center', verticalalignment='center', transform=axs[1][1].transAxes)\n",
    "for i_2_3 in range(0,len(phih_2_3)):\n",
    "    _phih_2_3 = phih_2_3[i_2_3]\n",
    "    _Fuu_2_3 = Fuu_2_3[i_2_3]\n",
    "    _Fuu_2_3_stat = Fuu_2_3_stat[i_2_3]\n",
    "    axs[1][2].plot([_phih_2_3,_phih_2_3],[_Fuu_2_3-_Fuu_2_3_stat,_Fuu_2_3+_Fuu_2_3_stat],color='blue',marker='_')\n",
    "axs[1][2].plot(phih_2_3,Fuu_2_3,'bo')\n",
    "axs[1][2].fill_between(phih_2_3,np.asarray(0),np.asarray(0)+np.asarray(Fuu_2_3_sys),color='blue',hatch='\\\\\\\\\\\\\\\\',alpha=0.25,linewidth=0)\n",
    "for i_2_3_3xs in range(0,len(phih_2_3_3xs)):\n",
    "    _phih_2_3 = phih_2_3_3xs[i_2_3_3xs]\n",
    "    _Fuu_2_3 = Fuu_2_3_3xs[i_2_3_3xs]\n",
    "    _Fuu_2_3_stat = Fuu_2_3_3xs_stat[i_2_3_3xs]\n",
    "    axs[1][2].plot([_phih_2_3,_phih_2_3],[_Fuu_2_3-_Fuu_2_3_stat,_Fuu_2_3+_Fuu_2_3_stat],color='red',marker='_')\n",
    "axs[1][2].plot(phih_2_3_3xs,Fuu_2_3_3xs,'ro')\n",
    "#axs[1][2].fill_between(phih_2_3_3xs,np.asarray(0),np.asarray(0)+np.asarray(Fuu_2_3_3xs_sys),color='red',hatch='\\\\\\\\\\\\\\\\',alpha=0.25,linewidth=0)\n",
    "axs[1][2].set_ylim(0.0002,Y_second_max)\n",
    "axs[1][2].tick_params(direction='in',labelbottom=False,labelleft=False)\n",
    "axs[1][2].text(0.5,0.9,r'${}<z_h<{}\\ \\   {}<Q^2<{}$ $GeV^2$'.format(z_cuts[2],z_cuts[3],Q2_cuts[1],Q2_cuts[2]), horizontalalignment='center', verticalalignment='center', transform=axs[1][2].transAxes)\n",
    "axs[1][2].text(0.5,0.8,r'${}<x_{{b}}<{}\\ \\  {}<P_{{hT}}<{}$ GeV'.format(xbj_cuts[0],xbj_cuts[1],PhT_cuts[0],PhT_cuts[1]), horizontalalignment='center', verticalalignment='center', transform=axs[1][2].transAxes)\n",
    "\n",
    "axs[1][0].set_ylabel(r'${d \\bf{\\sigma}}/{dzdydxdP^2_{hT}d\\phi_h}$ [$nb/GeV^2$]',fontsize=16)\n",
    "\n",
    "\n",
    "#plt.show()\n",
    "plt.savefig('../Unpol_proposal/Materials/results/Fuu_hQ2_x2_allQ2.pdf')"
   ]
  },
  {
   "cell_type": "code",
   "execution_count": 61,
   "id": "4ddb4751",
   "metadata": {},
   "outputs": [
    {
     "data": {
      "image/png": "[encoded data removed]",
      "text/plain": [
       "<Figure size 1000x300 with 3 Axes>"
      ]
     },
     "metadata": {},
     "output_type": "display_data"
    }
   ],
   "source": [
    "\n",
    "fig, axs = plt.subplots(1,3,figsize=(10,3),sharey=True)\n",
    "fig.subplots_adjust(hspace=0)\n",
    "fig.subplots_adjust(wspace=0)\n",
    "\n",
    "plt.xlabel('$\\phi_h$ [rad]',fontsize=16)\n",
    "#over large\n",
    "Y_first_max=60;Y_second_max=50;Y_third_max=50;Y_fourth_max = 150\n",
    "#Y_first_max=200;Y_second_max=100;Y_third_max=50;Y_fourth_max = 20\n",
    "#large\n",
    "#Y_first_max=0.18;Y_second_max=0.07;Y_third_max=0.024;Y_fourth_max = 0.012\n",
    "#small2\n",
    "#Y_first_max=0.04;Y_second_max=0.03;Y_third_max=0.02;Y_fourth_max = 0.012\n",
    "#small\n",
    "#Y_first_max=0.09;Y_second_max=0.04;Y_third_max=0.01;Y_fourth_max=0.006\n",
    "\n",
    "for i_1_1 in range(0,len(phih_1_1)):\n",
    "    _phih_1_1 = phih_1_1[i_1_1]\n",
    "    _Fuu_1_1 = Fuu_1_1[i_1_1]\n",
    "    _Fuu_1_1_stat = Fuu_1_1_stat[i_1_1]\n",
    "    axs[0].plot([_phih_1_1,_phih_1_1],[_Fuu_1_1-_Fuu_1_1_stat,_Fuu_1_1+_Fuu_1_1_stat],color='blue',marker='_')\n",
    "axs[0].plot(phih_1_1,Fuu_1_1,'bo')\n",
    "axs[0].fill_between(phih_1_1,np.asarray(0),np.asarray(0)+np.asarray(Fuu_1_1_sys),color='blue',hatch='\\\\\\\\\\\\\\\\',alpha=0.25,linewidth=0)\n",
    "for i_1_1_3xs in range(0,len(phih_1_1_3xs)):\n",
    "    _phih_1_1 = phih_1_1_3xs[i_1_1_3xs]\n",
    "    _Fuu_1_1 = Fuu_1_1_3xs[i_1_1_3xs]\n",
    "    _Fuu_1_1_stat = Fuu_1_1_3xs_stat[i_1_1_3xs]\n",
    "    axs[0].plot([_phih_1_1,_phih_1_1],[_Fuu_1_1-_Fuu_1_1_stat,_Fuu_1_1+_Fuu_1_1_stat],color='red',marker='_')\n",
    "axs[0].plot(phih_1_1_3xs,Fuu_1_1_3xs,'ro')\n",
    "#axs[0].fill_between(phih_1_1_3xs,np.asarray(0),np.asarray(0)+np.asarray(Fuu_1_1_3xs_sys),color='red',hatch='\\\\\\\\\\\\\\\\',alpha=0.25,linewidth=0)\n",
    "axs[0].set_ylim(0.0002,Y_first_max)\n",
    "#axs[0].tick_params(direction='in',labelbottom=False,labelleft=False)\n",
    "axs[0].text(0.5,0.9,r'${}<z_h<{}\\ \\  {}<Q^2<{}$ $GeV^2$'.format(z_cuts[0],z_cuts[1],Q2_cuts[0],Q2_cuts[1]), horizontalalignment='center', verticalalignment='center', transform=axs[0].transAxes)\n",
    "axs[0].text(0.5,0.8,r'${}<x_{{b}}<{}\\ \\  {}<P_{{hT}}<{}$ $GeV/c$'.format(xbj_cuts[0],xbj_cuts[1],PhT_cuts[0],PhT_cuts[1]), horizontalalignment='center', verticalalignment='center', transform=axs[0].transAxes)\n",
    "for i_1_2 in range(0,len(phih_1_2)):\n",
    "    _phih_1_2 = phih_1_2[i_1_2]\n",
    "    _Fuu_1_2 = Fuu_1_2[i_1_2]\n",
    "    _Fuu_1_2_stat = Fuu_1_2_stat[i_1_2]\n",
    "    axs[1].plot([_phih_1_2,_phih_1_2],[_Fuu_1_2-_Fuu_1_2_stat,_Fuu_1_2+_Fuu_1_2_stat],color='blue',marker='_')\n",
    "axs[1].plot(phih_1_2,Fuu_1_2,'bo')\n",
    "axs[1].fill_between(phih_1_2,np.asarray(0),np.asarray(0)+np.asarray(Fuu_1_2_sys),color='blue',hatch='\\\\\\\\\\\\\\\\',alpha=0.25,linewidth=0)\n",
    "for i_1_2_3xs in range(0,len(phih_1_2_3xs)):\n",
    "    _phih_1_2 = phih_1_2_3xs[i_1_2_3xs]\n",
    "    _Fuu_1_2 = Fuu_1_2_3xs[i_1_2_3xs]\n",
    "    _Fuu_1_2_stat = Fuu_1_2_3xs_stat[i_1_2_3xs]\n",
    "    axs[1].plot([_phih_1_2,_phih_1_2],[_Fuu_1_2-_Fuu_1_2_stat,_Fuu_1_2+_Fuu_1_2_stat],color='red',marker='_')\n",
    "axs[1].plot(phih_1_2_3xs,Fuu_1_2_3xs,'ro')\n",
    "#axs[1].fill_between(phih_1_2_3xs,np.asarray(0),np.asarray(0)+np.asarray(Fuu_1_2_3xs_sys),color='red',hatch='\\\\\\\\\\\\\\\\',alpha=0.25,linewidth=0)\n",
    "axs[1].set_ylim(0.0002,Y_first_max)\n",
    "axs[1].tick_params(direction='in',labelbottom=False,labelleft=False)\n",
    "axs[1].text(0.5,0.9,r'${}<z_h<{}\\ \\ {}<Q^2<{}$ $GeV^2$'.format(z_cuts[1],z_cuts[2],Q2_cuts[0],Q2_cuts[1]), horizontalalignment='center', verticalalignment='center', transform=axs[1].transAxes)\n",
    "axs[1].text(0.5,0.8,r'${}<x_{{b}}<{}\\ \\ {}<P_{{hT}}<{}$ $GeV/c$'.format(xbj_cuts[0],xbj_cuts[1],PhT_cuts[0],PhT_cuts[1]), horizontalalignment='center', verticalalignment='center', transform=axs[1].transAxes)\n",
    "for i_1_3 in range(0,len(phih_1_3)):\n",
    "    _phih_1_3 = phih_1_3[i_1_3]\n",
    "    _Fuu_1_3 = Fuu_1_3[i_1_3]\n",
    "    _Fuu_1_3_stat = Fuu_1_3_stat[i_1_3]\n",
    "    axs[2].plot([_phih_1_3,_phih_1_3],[_Fuu_1_3-_Fuu_1_3_stat,_Fuu_1_3+_Fuu_1_3_stat],color='blue',marker='_')\n",
    "axs[2].plot(phih_1_3,Fuu_1_3,'bo')\n",
    "axs[2].fill_between(phih_1_3,np.asarray(0),np.asarray(0)+np.asarray(Fuu_1_3_sys),color='blue',hatch='\\\\\\\\\\\\\\\\',alpha=0.25,linewidth=0)\n",
    "for i_1_3_3xs in range(0,len(phih_1_3_3xs)):\n",
    "    _phih_1_3 = phih_1_3_3xs[i_1_3_3xs]\n",
    "    _Fuu_1_3 = Fuu_1_3_3xs[i_1_3_3xs]\n",
    "    _Fuu_1_3_stat = Fuu_1_3_3xs_stat[i_1_3_3xs]\n",
    "    axs[2].plot([_phih_1_3,_phih_1_3],[_Fuu_1_3-_Fuu_1_3_stat,_Fuu_1_3+_Fuu_1_3_stat],color='red',marker='_')\n",
    "axs[2].plot(phih_1_3_3xs,Fuu_1_3_3xs,'ro')\n",
    "#axs[2].fill_between(phih_1_3_3xs,np.asarray(0),np.asarray(0)+np.asarray(Fuu_1_3_3xs_sys),color='red',hatch='\\\\\\\\\\\\\\\\',alpha=0.25,linewidth=0)\n",
    "axs[2].set_ylim(0.0002,Y_first_max)\n",
    "axs[2].tick_params(direction='in',labelbottom=False,labelleft=False)\n",
    "axs[2].text(0.5,0.9,r'${}<z_h<{}\\ \\   {}<Q^2<{}$ $GeV^2$'.format(z_cuts[2],z_cuts[3],Q2_cuts[0],Q2_cuts[1]), horizontalalignment='center', verticalalignment='center', transform=axs[2].transAxes)\n",
    "axs[2].text(0.5,0.8,r'${}<x_{{b}}<{}\\ \\  {}<P_{{hT}}<{}$ $GeV/c$'.format(xbj_cuts[0],xbj_cuts[1],PhT_cuts[0],PhT_cuts[1]), horizontalalignment='center', verticalalignment='center', transform=axs[2].transAxes)\n",
    "\n",
    "axs[0].set_ylabel(r'${d \\bf{\\sigma}}/{dx_{bj}dydz_hdP^2_{hT}d\\phi_h}$ [$nb/GeV^2$]',fontsize=13)\n",
    "\n",
    "\n",
    "#plt.show()\n",
    "plt.savefig('../Unpol_proposal/Materials/results/Fuu_hQ2_x2.pdf')"
   ]
  },
  {
   "cell_type": "code",
   "execution_count": 62,
   "id": "ad4392f6",
   "metadata": {},
   "outputs": [
    {
     "data": {
      "text/plain": [
       "Text(0, 0.5, '${d \\\\bf{\\\\sigma}}/{dzdydxdp^2_{T}d\\\\phi_h}$ [$nb/GeV^2$]')"
      ]
     },
     "execution_count": 62,
     "metadata": {},
     "output_type": "execute_result"
    },
    {
     "data": {
      "image/png": "[encoded data removed]",
      "text/plain": [
       "<Figure size 1000x800 with 12 Axes>"
      ]
     },
     "metadata": {},
     "output_type": "display_data"
    }
   ],
   "source": [
    "fig, axs = plt.subplots(4,3,figsize=(10,8),sharex=True)\n",
    "fig.subplots_adjust(hspace=0)\n",
    "fig.subplots_adjust(wspace=0)\n",
    "plt.yscale('log')\n",
    "plt.xlabel('$\\phi_h$ [rad]',fontsize=16)\n",
    "#over large\n",
    "Y_first_max=8e3;Y_second_max=8e3;Y_third_max=8e3;Y_fourth_max=8e3\n",
    "#Y_first_min=3;Y_second_min=1.1;Y_third_min=0.7;Y_fourth_min=0.09\n",
    "Y_first_min=.3;Y_second_min=.3;Y_third_min=.3;Y_fourth_min=.3\n",
    "#large\n",
    "#Y_first_max=0.18;Y_second_max=0.07;Y_third_max=0.024;Y_fourth_max = 0.012\n",
    "#small2\n",
    "#Y_first_max=0.04;Y_second_max=0.03;Y_third_max=0.02;Y_fourth_max = 0.012\n",
    "#small\n",
    "#Y_first_max=0.09;Y_second_max=0.04;Y_third_max=0.01;Y_fourth_max=0.006\n",
    "\n",
    "for i_1_1 in range(0,len(phih_1_1)):\n",
    "    _phih_1_1 = phih_1_1[i_1_1]\n",
    "    _Fuu_1_1 = Fuu_1_1[i_1_1]\n",
    "    _Fuu_1_1_stat = Fuu_1_1_stat[i_1_1]\n",
    "    axs[0][0].plot([_phih_1_1,_phih_1_1],[_Fuu_1_1-_Fuu_1_1_stat,_Fuu_1_1+_Fuu_1_1_stat],color='blue',marker='_')\n",
    "axs[0][0].plot(phih_1_1,Fuu_1_1,'bo')\n",
    "axs[0][0].fill_between(phih_1_1,np.asarray(0),np.asarray(0)+np.asarray(Fuu_1_1_sys),color='blue',hatch='\\\\\\\\\\\\\\\\',alpha=0.25,linewidth=0)\n",
    "for i_1_1_3xs in range(0,len(phih_1_1_3xs)):\n",
    "    _phih_1_1 = phih_1_1_3xs[i_1_1_3xs]\n",
    "    _Fuu_1_1 = Fuu_1_1_3xs[i_1_1_3xs]\n",
    "    _Fuu_1_1_stat = Fuu_1_1_3xs_stat[i_1_1_3xs]\n",
    "    axs[0][0].plot([_phih_1_1,_phih_1_1],[_Fuu_1_1-_Fuu_1_1_stat,_Fuu_1_1+_Fuu_1_1_stat],color='red',marker='_')\n",
    "axs[0][0].plot(phih_1_1_3xs,Fuu_1_1_3xs,'ro')\n",
    "#axs[0][0].fill_between(phih_1_1_3xs,np.asarray(0),np.asarray(0)+np.asarray(Fuu_1_1_3xs_sys),color='red',hatch='\\\\\\\\\\\\\\\\',alpha=0.25,linewidth=0)\n",
    "axs[0][0].set_yscale('log')\n",
    "axs[0][0].set_ylim(Y_first_min,Y_first_max)\n",
    "#axs[0][0].tick_params(direction='in',labelbottom=False,labelleft=False)\n",
    "axs[0][0].text(0.5,0.9,r'${}<z_h<{}\\ \\  {}<Q^2<{}$'.format(z_cuts[0],z_cuts[1],Q2_cuts[0],Q2_cuts[1]), horizontalalignment='center', verticalalignment='center', transform=axs[0][0].transAxes)\n",
    "axs[0][0].text(0.5,0.75,r'${}<x_{{b}}<{}\\ \\  {}<P_{{hT}}<{}$'.format(xbj_cuts[0],xbj_cuts[1],PhT_cuts[0],PhT_cuts[1]), horizontalalignment='center', verticalalignment='center', transform=axs[0][0].transAxes)\n",
    "for i_1_2 in range(0,len(phih_1_2)):\n",
    "    _phih_1_2 = phih_1_2[i_1_2]\n",
    "    _Fuu_1_2 = Fuu_1_2[i_1_2]\n",
    "    _Fuu_1_2_stat = Fuu_1_2_stat[i_1_2]\n",
    "    axs[0][1].plot([_phih_1_2,_phih_1_2],[_Fuu_1_2-_Fuu_1_2_stat,_Fuu_1_2+_Fuu_1_2_stat],color='blue',marker='_')\n",
    "axs[0][1].plot(phih_1_2,Fuu_1_2,'bo')\n",
    "axs[0][1].fill_between(phih_1_2,np.asarray(0),np.asarray(0)+np.asarray(Fuu_1_2_sys),color='blue',hatch='\\\\\\\\\\\\\\\\',alpha=0.25,linewidth=0)\n",
    "for i_1_2_3xs in range(0,len(phih_1_2_3xs)):\n",
    "    _phih_1_2 = phih_1_2_3xs[i_1_2_3xs]\n",
    "    _Fuu_1_2 = Fuu_1_2_3xs[i_1_2_3xs]\n",
    "    _Fuu_1_2_stat = Fuu_1_2_3xs_stat[i_1_2_3xs]\n",
    "    axs[0][1].plot([_phih_1_2,_phih_1_2],[_Fuu_1_2-_Fuu_1_2_stat,_Fuu_1_2+_Fuu_1_2_stat],color='red',marker='_')\n",
    "axs[0][1].plot(phih_1_2_3xs,Fuu_1_2_3xs,'ro')\n",
    "#axs[0][1].fill_between(phih_1_2_3xs,np.asarray(0),np.asarray(0)+np.asarray(Fuu_1_2_3xs_sys),color='red',hatch='\\\\\\\\\\\\\\\\',alpha=0.25,linewidth=0)\n",
    "axs[0][1].set_yscale('log')\n",
    "axs[0][1].set_ylim(Y_first_min,Y_first_max)\n",
    "axs[0][1].tick_params(direction='in',labelbottom=False,labelleft=False)\n",
    "axs[0][1].text(0.5,0.9,r'${}<z_h<{}\\ \\ {}<Q^2<{}$'.format(z_cuts[1],z_cuts[2],Q2_cuts[0],Q2_cuts[1]), horizontalalignment='center', verticalalignment='center', transform=axs[0][1].transAxes)\n",
    "axs[0][1].text(0.5,0.75,r'${}<x_{{b}}<{}\\ \\ {}<P_{{hT}}<{}$'.format(xbj_cuts[0],xbj_cuts[1],PhT_cuts[0],PhT_cuts[1]), horizontalalignment='center', verticalalignment='center', transform=axs[0][1].transAxes)\n",
    "for i_1_3 in range(0,len(phih_1_3)):\n",
    "    _phih_1_3 = phih_1_3[i_1_3]\n",
    "    _Fuu_1_3 = Fuu_1_3[i_1_3]\n",
    "    _Fuu_1_3_stat = Fuu_1_3_stat[i_1_3]\n",
    "    axs[0][2].plot([_phih_1_3,_phih_1_3],[_Fuu_1_3-_Fuu_1_3_stat,_Fuu_1_3+_Fuu_1_3_stat],color='blue',marker='_')\n",
    "axs[0][2].plot(phih_1_3,Fuu_1_3,'bo')\n",
    "axs[0][2].fill_between(phih_1_3,np.asarray(0),np.asarray(0)+np.asarray(Fuu_1_3_sys),color='blue',hatch='\\\\\\\\\\\\\\\\',alpha=0.25,linewidth=0)\n",
    "for i_1_3_3xs in range(0,len(phih_1_3_3xs)):\n",
    "    _phih_1_3 = phih_1_3_3xs[i_1_3_3xs]\n",
    "    _Fuu_1_3 = Fuu_1_3_3xs[i_1_3_3xs]\n",
    "    _Fuu_1_3_stat = Fuu_1_3_3xs_stat[i_1_3_3xs]\n",
    "    axs[0][2].plot([_phih_1_3,_phih_1_3],[_Fuu_1_3-_Fuu_1_3_stat,_Fuu_1_3+_Fuu_1_3_stat],color='red',marker='_')\n",
    "axs[0][2].plot(phih_1_3_3xs,Fuu_1_3_3xs,'ro')\n",
    "#axs[0][2].fill_between(phih_1_3_3xs,np.asarray(0),np.asarray(0)+np.asarray(Fuu_1_3_3xs_sys),color='red',hatch='\\\\\\\\\\\\\\\\',alpha=0.25,linewidth=0)\n",
    "axs[0][2].set_yscale('log')\n",
    "axs[0][2].set_ylim(Y_first_min,Y_first_max)\n",
    "axs[0][2].tick_params(direction='in',labelbottom=False,labelleft=False)\n",
    "axs[0][2].text(0.5,0.9,r'${}<z_h<{}\\ \\   {}<Q^2<{}$'.format(z_cuts[2],z_cuts[3],Q2_cuts[0],Q2_cuts[1]), horizontalalignment='center', verticalalignment='center', transform=axs[0][2].transAxes)\n",
    "axs[0][2].text(0.5,0.75,r'${}<x_{{b}}<{}\\ \\  {}<P_{{hT}}<{}$'.format(xbj_cuts[0],xbj_cuts[1],PhT_cuts[0],PhT_cuts[1]), horizontalalignment='center', verticalalignment='center', transform=axs[0][2].transAxes)\n",
    "for i_2_1 in range(0,len(phih_2_1)):\n",
    "    _phih_2_1 = phih_2_1[i_2_1]\n",
    "    _Fuu_2_1 = Fuu_2_1[i_2_1]\n",
    "    _Fuu_2_1_stat = Fuu_2_1_stat[i_2_1]\n",
    "    axs[1][0].plot([_phih_2_1,_phih_2_1],[_Fuu_2_1-_Fuu_2_1_stat,_Fuu_2_1+_Fuu_2_1_stat],color='blue',marker='_')\n",
    "axs[1][0].plot(phih_2_1,Fuu_2_1,'bo')\n",
    "axs[1][0].fill_between(phih_2_1,np.asarray(0),np.asarray(0)+np.asarray(Fuu_2_1_sys),color='blue',hatch='\\\\\\\\\\\\\\\\',alpha=0.25,linewidth=0)\n",
    "for i_2_1_3xs in range(0,len(phih_2_1_3xs)):\n",
    "    _phih_2_1 = phih_2_1_3xs[i_2_1_3xs]\n",
    "    _Fuu_2_1 = Fuu_2_1_3xs[i_2_1_3xs]\n",
    "    _Fuu_2_1_stat = Fuu_2_1_3xs_stat[i_2_1_3xs]\n",
    "    axs[1][0].plot([_phih_2_1,_phih_2_1],[_Fuu_2_1-_Fuu_2_1_stat,_Fuu_2_1+_Fuu_2_1_stat],color='red',marker='_')\n",
    "axs[1][0].plot(phih_2_1_3xs,Fuu_2_1_3xs,'ro')\n",
    "#axs[1][0].fill_between(phih_2_1_3xs,np.asarray(0),np.asarray(0)+np.asarray(Fuu_2_1_3xs_sys),color='red',hatch='\\\\\\\\\\\\\\\\',alpha=0.25,linewidth=0)\n",
    "axs[1][0].set_yscale('log')\n",
    "axs[1][0].set_ylim(Y_second_min,Y_second_max)\n",
    "#axs[1][0].tick_params(direction='in',labelbottom=False,labelleft=False)\n",
    "axs[1][0].text(0.5,0.9,r'${}<z_h<{}\\ \\  {}<Q^2<{}$'.format(z_cuts[0],z_cuts[1],Q2_cuts[1],Q2_cuts[2]), horizontalalignment='center', verticalalignment='center', transform=axs[1][0].transAxes)\n",
    "axs[1][0].text(0.5,0.75,r'${}<x_{{b}}<{}\\ \\  {}<P_{{hT}}<{}$'.format(xbj_cuts[0],xbj_cuts[1],PhT_cuts[0],PhT_cuts[1]), horizontalalignment='center', verticalalignment='center', transform=axs[1][0].transAxes)\n",
    "for i_2_2 in range(0,len(phih_2_2)):\n",
    "    _phih_2_2 = phih_2_2[i_2_2]\n",
    "    _Fuu_2_2 = Fuu_2_2[i_2_2]\n",
    "    _Fuu_2_2_stat = Fuu_2_2_stat[i_2_2]\n",
    "    axs[1][1].plot([_phih_2_2,_phih_2_2],[_Fuu_2_2-_Fuu_2_2_stat,_Fuu_2_2+_Fuu_2_2_stat],color='blue',marker='_')\n",
    "axs[1][1].plot(phih_2_2,Fuu_2_2,'bo')\n",
    "axs[1][1].fill_between(phih_2_2,np.asarray(0),np.asarray(0)+np.asarray(Fuu_2_2_sys),color='blue',hatch='\\\\\\\\\\\\\\\\',alpha=0.25,linewidth=0)\n",
    "for i_2_2_3xs in range(0,len(phih_2_2_3xs)):\n",
    "    _phih_2_2 = phih_2_2_3xs[i_2_2_3xs]\n",
    "    _Fuu_2_2 = Fuu_2_2_3xs[i_2_2_3xs]\n",
    "    _Fuu_2_2_stat = Fuu_2_2_3xs_stat[i_2_2_3xs]\n",
    "    axs[1][1].plot([_phih_2_2,_phih_2_2],[_Fuu_2_2-_Fuu_2_2_stat,_Fuu_2_2+_Fuu_2_2_stat],color='red',marker='_')\n",
    "axs[1][1].plot(phih_2_2_3xs,Fuu_2_2_3xs,'ro')\n",
    "#axs[1][1].fill_between(phih_2_2_3xs,np.asarray(0),np.asarray(0)+np.asarray(Fuu_2_2_3xs_sys),color='red',hatch='\\\\\\\\\\\\\\\\',alpha=0.25,linewidth=0)\n",
    "axs[1][1].set_yscale('log')\n",
    "axs[1][1].set_ylim(Y_second_min,Y_second_max)\n",
    "axs[1][1].tick_params(direction='in',labelbottom=False,labelleft=False)\n",
    "axs[1][1].text(0.5,0.9,r'${}<z_h<{}\\ \\ {}<Q^2<{}$'.format(z_cuts[1],z_cuts[2],Q2_cuts[1],Q2_cuts[2]), horizontalalignment='center', verticalalignment='center', transform=axs[1][1].transAxes)\n",
    "axs[1][1].text(0.5,0.75,r'${}<x_{{b}}<{}\\ \\ {}<P_{{hT}}<{}$'.format(xbj_cuts[0],xbj_cuts[1],PhT_cuts[0],PhT_cuts[1]), horizontalalignment='center', verticalalignment='center', transform=axs[1][1].transAxes)\n",
    "for i_2_3 in range(0,len(phih_2_3)):\n",
    "    _phih_2_3 = phih_2_3[i_2_3]\n",
    "    _Fuu_2_3 = Fuu_2_3[i_2_3]\n",
    "    _Fuu_2_3_stat = Fuu_2_3_stat[i_2_3]\n",
    "    axs[1][2].plot([_phih_2_3,_phih_2_3],[_Fuu_2_3-_Fuu_2_3_stat,_Fuu_2_3+_Fuu_2_3_stat],color='blue',marker='_')\n",
    "axs[1][2].plot(phih_2_3,Fuu_2_3,'bo')\n",
    "axs[1][2].fill_between(phih_2_3,np.asarray(0),np.asarray(0)+np.asarray(Fuu_2_3_sys),color='blue',hatch='\\\\\\\\\\\\\\\\',alpha=0.25,linewidth=0)\n",
    "for i_2_3_3xs in range(0,len(phih_2_3_3xs)):\n",
    "    _phih_2_3 = phih_2_3_3xs[i_2_3_3xs]\n",
    "    _Fuu_2_3 = Fuu_2_3_3xs[i_2_3_3xs]\n",
    "    _Fuu_2_3_stat = Fuu_2_3_3xs_stat[i_2_3_3xs]\n",
    "    axs[1][2].plot([_phih_2_3,_phih_2_3],[_Fuu_2_3-_Fuu_2_3_stat,_Fuu_2_3+_Fuu_2_3_stat],color='red',marker='_')\n",
    "axs[1][2].plot(phih_2_3_3xs,Fuu_2_3_3xs,'ro')\n",
    "#axs[1][2].fill_between(phih_2_3_3xs,np.asarray(0),np.asarray(0)+np.asarray(Fuu_2_3_3xs_sys),color='red',hatch='\\\\\\\\\\\\\\\\',alpha=0.25,linewidth=0)\n",
    "axs[1][2].set_yscale('log')\n",
    "axs[1][2].set_ylim(Y_second_min,Y_second_max)\n",
    "axs[1][2].tick_params(direction='in',labelbottom=False,labelleft=False)\n",
    "axs[1][2].text(0.5,0.9,r'${}<z_h<{}\\ \\   {}<Q^2<{}$'.format(z_cuts[2],z_cuts[3],Q2_cuts[1],Q2_cuts[2]), horizontalalignment='center', verticalalignment='center', transform=axs[1][2].transAxes)\n",
    "axs[1][2].text(0.5,0.75,r'${}<x_{{b}}<{}\\ \\  {}<P_{{hT}}<{}$'.format(xbj_cuts[0],xbj_cuts[1],PhT_cuts[0],PhT_cuts[1]), horizontalalignment='center', verticalalignment='center', transform=axs[1][2].transAxes)\n",
    "for i_3_1 in range(0,len(phih_3_1)):\n",
    "    _phih_3_1 = phih_3_1[i_3_1]\n",
    "    _Fuu_3_1 = Fuu_3_1[i_3_1]\n",
    "    _Fuu_3_1_stat = Fuu_3_1_stat[i_3_1]\n",
    "    axs[2][0].plot([_phih_3_1,_phih_3_1],[_Fuu_3_1-_Fuu_3_1_stat,_Fuu_3_1+_Fuu_3_1_stat],color='blue',marker='_')\n",
    "axs[2][0].plot(phih_3_1,Fuu_3_1,'bo')\n",
    "axs[2][0].fill_between(phih_3_1,np.asarray(0),np.asarray(0)+np.asarray(Fuu_3_1_sys),color='blue',hatch='\\\\\\\\\\\\\\\\',alpha=0.25,linewidth=0)\n",
    "for i_3_1_3xs in range(0,len(phih_3_1_3xs)):\n",
    "    _phih_3_1 = phih_3_1_3xs[i_3_1_3xs]\n",
    "    _Fuu_3_1 = Fuu_3_1_3xs[i_3_1_3xs]\n",
    "    _Fuu_3_1_stat = Fuu_3_1_3xs_stat[i_3_1_3xs]\n",
    "    axs[2][0].plot([_phih_3_1,_phih_3_1],[_Fuu_3_1-_Fuu_3_1_stat,_Fuu_3_1+_Fuu_3_1_stat],color='red',marker='_')\n",
    "axs[2][0].plot(phih_3_1_3xs,Fuu_3_1_3xs,'ro')\n",
    "#axs[2][0].fill_between(phih_3_1_3xs,np.asarray(0),np.asarray(0)+np.asarray(Fuu_3_1_3xs_sys),color='red',hatch='\\\\\\\\\\\\\\\\',alpha=0.25,linewidth=0)\n",
    "axs[2][0].set_yscale('log')\n",
    "axs[2][0].set_ylim(Y_third_min,Y_third_max)\n",
    "#axs[1][0].tick_params(direction='in',labelbottom=False,labelleft=False)\n",
    "axs[2][0].text(0.5,0.9,r'${}<z_h<{}\\ \\  {}<Q^2<{}$'.format(z_cuts[0],z_cuts[1],Q2_cuts[2],Q2_cuts[3]), horizontalalignment='center', verticalalignment='center', transform=axs[2][0].transAxes)\n",
    "axs[2][0].text(0.5,0.75,r'${}<x_{{b}}<{}\\ \\  {}<P_{{hT}}<{}$'.format(xbj_cuts[0],xbj_cuts[1],PhT_cuts[0],PhT_cuts[1]), horizontalalignment='center', verticalalignment='center', transform=axs[2][0].transAxes)\n",
    "for i_3_2 in range(0,len(phih_3_2)):\n",
    "    _phih_3_2 = phih_3_2[i_3_2]\n",
    "    _Fuu_3_2 = Fuu_3_2[i_3_2]\n",
    "    _Fuu_3_2_stat = Fuu_3_2_stat[i_3_2]\n",
    "    axs[2][1].plot([_phih_3_2,_phih_3_2],[_Fuu_3_2-_Fuu_3_2_stat,_Fuu_3_2+_Fuu_3_2_stat],color='blue',marker='_')\n",
    "axs[2][1].plot(phih_3_2,Fuu_3_2,'bo')\n",
    "axs[2][1].fill_between(phih_3_2,np.asarray(0),np.asarray(0)+np.asarray(Fuu_3_2_sys),color='blue',hatch='\\\\\\\\\\\\\\\\',alpha=0.25,linewidth=0)\n",
    "for i_3_2_3xs in range(0,len(phih_3_2_3xs)):\n",
    "    _phih_3_2 = phih_3_2_3xs[i_3_2_3xs]\n",
    "    _Fuu_3_2 = Fuu_3_2_3xs[i_3_2_3xs]\n",
    "    _Fuu_3_2_stat = Fuu_3_2_3xs_stat[i_3_2_3xs]\n",
    "    axs[2][1].plot([_phih_3_2,_phih_3_2],[_Fuu_3_2-_Fuu_3_2_stat,_Fuu_3_2+_Fuu_3_2_stat],color='red',marker='_')\n",
    "axs[2][1].plot(phih_3_2_3xs,Fuu_3_2_3xs,'ro')\n",
    "#axs[2][1].fill_between(phih_3_2_3xs,np.asarray(0),np.asarray(0)+np.asarray(Fuu_3_2_3xs_sys),color='red',hatch='\\\\\\\\\\\\\\\\',alpha=0.25,linewidth=0)\n",
    "axs[2][1].set_yscale('log')\n",
    "axs[2][1].set_ylim(Y_third_min,Y_third_max)\n",
    "axs[2][1].tick_params(direction='in',labelbottom=False,labelleft=False)\n",
    "axs[2][1].text(0.5,0.9,r'${}<z_h<{}\\ \\ {}<Q^2<{}$'.format(z_cuts[1],z_cuts[2],Q2_cuts[2],Q2_cuts[3]), horizontalalignment='center', verticalalignment='center', transform=axs[2][1].transAxes)\n",
    "axs[2][1].text(0.5,0.75,r'${}<x_{{b}}<{}\\ \\ {}<P_{{hT}}<{}$'.format(xbj_cuts[0],xbj_cuts[1],PhT_cuts[0],PhT_cuts[1]), horizontalalignment='center', verticalalignment='center', transform=axs[2][1].transAxes)\n",
    "for i_3_3 in range(0,len(phih_3_3)):\n",
    "    _phih_3_3 = phih_3_3[i_3_3]\n",
    "    _Fuu_3_3 = Fuu_3_3[i_3_3]\n",
    "    _Fuu_3_3_stat = Fuu_3_3_stat[i_3_3]\n",
    "    axs[2][2].plot([_phih_3_3,_phih_3_3],[_Fuu_3_3-_Fuu_3_3_stat,_Fuu_3_3+_Fuu_3_3_stat],color='blue',marker='_')\n",
    "axs[2][2].plot(phih_3_3,Fuu_3_3,'bo')\n",
    "axs[2][2].fill_between(phih_3_3,np.asarray(0),np.asarray(0)+np.asarray(Fuu_3_3_sys),color='blue',hatch='\\\\\\\\\\\\\\\\',alpha=0.25,linewidth=0)\n",
    "for i_3_3_3xs in range(0,len(phih_3_3_3xs)):\n",
    "    _phih_3_3 = phih_3_3_3xs[i_3_3_3xs]\n",
    "    _Fuu_3_3 = Fuu_3_3_3xs[i_3_3_3xs]\n",
    "    _Fuu_3_3_stat = Fuu_3_3_3xs_stat[i_3_3_3xs]\n",
    "    axs[2][2].plot([_phih_3_3,_phih_3_3],[_Fuu_3_3-_Fuu_3_3_stat,_Fuu_3_3+_Fuu_3_3_stat],color='red',marker='_')\n",
    "axs[2][2].plot(phih_3_3_3xs,Fuu_3_3_3xs,'ro')\n",
    "#axs[2][2].fill_between(phih_3_3_3xs,np.asarray(0),np.asarray(0)+np.asarray(Fuu_3_3_3xs_sys),color='red',hatch='\\\\\\\\\\\\\\\\',alpha=0.25,linewidth=0)\n",
    "axs[2][2].set_yscale('log')\n",
    "axs[2][2].set_ylim(Y_third_min,Y_third_max)\n",
    "axs[2][2].tick_params(direction='in',labelbottom=False,labelleft=False)\n",
    "axs[2][2].text(0.5,0.9,r'${}<z_h<{}\\ \\   {}<Q^2<{}$'.format(z_cuts[2],z_cuts[3],Q2_cuts[2],Q2_cuts[3]), horizontalalignment='center', verticalalignment='center', transform=axs[2][2].transAxes)\n",
    "axs[2][2].text(0.5,0.75,r'${}<x_{{b}}<{}\\ \\  {}<P_{{hT}}<{}$'.format(xbj_cuts[0],xbj_cuts[1],PhT_cuts[0],PhT_cuts[1]), horizontalalignment='center', verticalalignment='center', transform=axs[2][2].transAxes)\n",
    "for i_4_1 in range(0,len(phih_4_1)):\n",
    "    _phih_4_1 = phih_4_1[i_4_1]\n",
    "    _Fuu_4_1 = Fuu_4_1[i_4_1]\n",
    "    _Fuu_4_1_stat = Fuu_4_1_stat[i_4_1]\n",
    "    axs[3][0].plot([_phih_4_1,_phih_4_1],[_Fuu_4_1-_Fuu_4_1_stat,_Fuu_4_1+_Fuu_4_1_stat],color='blue',marker='_')\n",
    "axs[3][0].plot(phih_4_1,Fuu_4_1,'bo')\n",
    "axs[3][0].fill_between(phih_4_1,np.asarray(0),np.asarray(0)+np.asarray(Fuu_4_1_sys),color='blue',hatch='\\\\\\\\\\\\\\\\',alpha=0.25,linewidth=0)\n",
    "for i_4_1_3xs in range(0,len(phih_4_1_3xs)):\n",
    "    _phih_4_1 = phih_4_1_3xs[i_4_1_3xs]\n",
    "    _Fuu_4_1 = Fuu_4_1_3xs[i_4_1_3xs]\n",
    "    _Fuu_4_1_stat = Fuu_4_1_3xs_stat[i_4_1_3xs]\n",
    "    axs[3][0].plot([_phih_4_1,_phih_4_1],[_Fuu_4_1-_Fuu_4_1_stat,_Fuu_4_1+_Fuu_4_1_stat],color='red',marker='_')\n",
    "axs[3][0].plot(phih_4_1_3xs,Fuu_4_1_3xs,'ro')\n",
    "#axs[3][0].fill_between(phih_4_1_3xs,np.asarray(0),np.asarray(0)+np.asarray(Fuu_4_1_3xs_sys),color='red',hatch='\\\\\\\\\\\\\\\\',alpha=0.25,linewidth=0)\n",
    "axs[3][0].set_yscale('log')\n",
    "axs[3][0].set_ylim(Y_fourth_min,Y_fourth_max)\n",
    "#axs[3][0].tick_params(direction='in',labelbottom=False,labelleft=False)\n",
    "axs[3][0].text(0.5,0.9,r'${}<z_h<{}\\ \\  {}<Q^2<{}$'.format(z_cuts[0],z_cuts[1],Q2_cuts[3],Q2_cuts[4]), horizontalalignment='center', verticalalignment='center', transform=axs[3][0].transAxes)\n",
    "axs[3][0].text(0.5,0.75,r'${}<x_{{b}}<{}\\ \\  {}<P_{{hT}}<{}$'.format(xbj_cuts[0],xbj_cuts[1],PhT_cuts[0],PhT_cuts[1]), horizontalalignment='center', verticalalignment='center', transform=axs[3][0].transAxes)\n",
    "for i_4_2 in range(0,len(phih_4_2)):\n",
    "    _phih_4_2 = phih_4_2[i_4_2]\n",
    "    _Fuu_4_2 = Fuu_4_2[i_4_2]\n",
    "    _Fuu_4_2_stat = Fuu_4_2_stat[i_4_2]\n",
    "    axs[3][1].plot([_phih_4_2,_phih_4_2],[_Fuu_4_2-_Fuu_4_2_stat,_Fuu_4_2+_Fuu_4_2_stat],color='blue',marker='_')\n",
    "axs[3][1].plot(phih_4_2,Fuu_4_2,'bo')\n",
    "axs[3][1].fill_between(phih_4_2,np.asarray(0),np.asarray(0)+np.asarray(Fuu_4_2_sys),color='blue',hatch='\\\\\\\\\\\\\\\\',alpha=0.25,linewidth=0)\n",
    "for i_4_2_3xs in range(0,len(phih_4_2_3xs)):\n",
    "    _phih_4_2 = phih_4_2_3xs[i_4_2_3xs]\n",
    "    _Fuu_4_2 = Fuu_4_2_3xs[i_4_2_3xs]\n",
    "    _Fuu_4_2_stat = Fuu_4_2_3xs_stat[i_4_2_3xs]\n",
    "    axs[3][1].plot([_phih_4_2,_phih_4_2],[_Fuu_4_2-_Fuu_4_2_stat,_Fuu_4_2+_Fuu_4_2_stat],color='red',marker='_')\n",
    "axs[3][1].plot(phih_4_2_3xs,Fuu_4_2_3xs,'ro')\n",
    "#axs[3][1].fill_between(phih_4_2_3xs,np.asarray(0),np.asarray(0)+np.asarray(Fuu_4_2_3xs_sys),color='red',hatch='\\\\\\\\\\\\\\\\',alpha=0.25,linewidth=0)\n",
    "axs[3][1].set_yscale('log')\n",
    "axs[3][1].set_ylim(Y_fourth_min,Y_fourth_max)\n",
    "axs[3][1].tick_params(direction='in',labelleft=False)\n",
    "axs[3][1].text(0.5,0.9,r'${}<z_h<{}\\ \\ {}<Q^2<{}$'.format(z_cuts[1],z_cuts[2],Q2_cuts[3],Q2_cuts[4]), horizontalalignment='center', verticalalignment='center', transform=axs[3][1].transAxes)\n",
    "axs[3][1].text(0.5,0.75,r'${}<x_{{b}}<{}\\ \\ {}<P_{{hT}}<{}$'.format(xbj_cuts[0],xbj_cuts[1],PhT_cuts[0],PhT_cuts[1]), horizontalalignment='center', verticalalignment='center', transform=axs[3][1].transAxes)\n",
    "for i_4_3 in range(0,len(phih_4_3)):\n",
    "    _phih_4_3 = phih_4_3[i_4_3]\n",
    "    _Fuu_4_3 = Fuu_4_3[i_4_3]\n",
    "    _Fuu_4_3_stat = Fuu_4_3_stat[i_4_3]\n",
    "    axs[3][2].plot([_phih_4_3,_phih_4_3],[_Fuu_4_3-_Fuu_4_3_stat,_Fuu_4_3+_Fuu_4_3_stat],color='blue',marker='_')\n",
    "axs[3][2].plot(phih_4_3,Fuu_4_3,'bo')\n",
    "axs[3][2].fill_between(phih_4_3,np.asarray(0),np.asarray(0)+np.asarray(Fuu_4_3_sys),color='blue',hatch='\\\\\\\\\\\\\\\\',alpha=0.25,linewidth=0)\n",
    "\n",
    "for i_4_3_3xs in range(0,len(phih_4_3_3xs)):\n",
    "    _phih_4_3 = phih_4_3_3xs[i_4_3_3xs]\n",
    "    _Fuu_4_3 = Fuu_4_3_3xs[i_4_3_3xs]\n",
    "    _Fuu_4_3_stat = Fuu_4_3_3xs_stat[i_4_3_3xs]\n",
    "    axs[3][2].plot([_phih_4_3,_phih_4_3],[_Fuu_4_3-_Fuu_4_3_stat,_Fuu_4_3+_Fuu_4_3_stat],color='red',marker='_')\n",
    "axs[3][2].plot(phih_4_3_3xs,Fuu_4_3_3xs,'ro')\n",
    "#axs[3][2].fill_between(phih_4_3_3xs,np.asarray(0),np.asarray(0)+np.asarray(Fuu_4_3_3xs_sys),color='red',hatch='\\\\\\\\\\\\\\\\',alpha=0.25,linewidth=0)\n",
    "axs[3][2].set_yscale('log')\n",
    "axs[3][2].set_ylim(Y_fourth_min,Y_fourth_max)\n",
    "axs[3][2].tick_params(direction='in',labelleft=False)\n",
    "axs[3][2].text(0.5,0.9,r'${}<z_h<{}\\ \\   {}<Q^2<{}$'.format(z_cuts[2],z_cuts[3],Q2_cuts[3],Q2_cuts[4]), horizontalalignment='center', verticalalignment='center', transform=axs[3][2].transAxes)\n",
    "axs[3][2].text(0.5,0.75,r'${}<x_{{b}}<{}\\ \\  {}<P_{{hT}}<{}$'.format(xbj_cuts[0],xbj_cuts[1],PhT_cuts[0],PhT_cuts[1]), horizontalalignment='center', verticalalignment='center', transform=axs[3][2].transAxes)\n",
    "\n",
    "axs[1][0].set_ylabel(r'${d \\bf{\\sigma}}/{dzdydxdp^2_{T}d\\phi_h}$ [$nb/GeV^2$]',fontsize=16)\n",
    "\n",
    "\n",
    "#plt.show()\n",
    "#plt.savefig('../Unpol_proposal/Materials/results/Fuu.pdf')"
   ]
  },
  {
   "cell_type": "code",
   "execution_count": 63,
   "id": "12888d7f",
   "metadata": {},
   "outputs": [
    {
     "name": "stdout",
     "output_type": "stream",
     "text": [
      "-3.141592653589793 -2.827433388230814 -2.5132741228718345 -2.199114857512855 -1.8849555921538759 -1.5707963267948966\n"
     ]
    }
   ],
   "source": [
    "print(-PI,-0.9*PI,-0.8*PI,-0.7*PI,-0.6*PI,-0.5*PI)\n",
    "    \n",
    "    \n",
    "    "
   ]
  },
  {
   "cell_type": "code",
   "execution_count": null,
   "id": "1e3ce6c9",
   "metadata": {},
   "outputs": [],
   "source": []
  }
 ],
 "metadata": {
  "kernelspec": {
   "display_name": "Python 3 (ipykernel)",
   "language": "python",
   "name": "python3"
  },
  "language_info": {
   "codemirror_mode": {
    "name": "ipython",
    "version": 3
   },
   "file_extension": ".py",
   "mimetype": "text/x-python",
   "name": "python",
   "nbconvert_exporter": "python",
   "pygments_lexer": "ipython3",
   "version": "3.10.10"
  }
 },
 "nbformat": 4,
 "nbformat_minor": 5
}
