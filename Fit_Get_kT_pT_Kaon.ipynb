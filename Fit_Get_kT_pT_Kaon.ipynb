{
 "cells": [
  {
   "cell_type": "code",
   "execution_count": 1,
   "id": "82a028b4",
   "metadata": {},
   "outputs": [
    {
     "name": "stdout",
     "output_type": "stream",
     "text": [
      "LHAPDF 6.5.3 loading /opt/homebrew/Cellar/lhapdf/6.5.3/share/LHAPDF/CJ15lo/CJ15lo_0000.dat\n",
      "['/opt/homebrew/Cellar/root/6.26.06_2/lib/root', '/Users/sj400/Duke/sidis_project/calculate_xs', '', '/opt/homebrew/Cellar/lhapdf/6.5.3/lib/python3.10/site-packages', '/Users/sj400/miniconda3/lib/python310.zip', '/Users/sj400/miniconda3/lib/python3.10', '/Users/sj400/miniconda3/lib/python3.10/lib-dynload', '/Users/sj400/.local/lib/python3.10/site-packages', '/Users/sj400/miniconda3/lib/python3.10/site-packages']\n",
      "CJ15lo PDF set, member #0, version 2; LHAPDF ID = 12300\n",
      "LHAPDF 6.5.3 loading /opt/homebrew/Cellar/lhapdf/6.5.3/share/LHAPDF/DSSFFlo/DSSFFlo_0211.dat\n",
      "DSSFFlo PDF set, member #211, version 1; LHAPDF ID = 90211\n",
      "LHAPDF 6.5.3 loading /opt/homebrew/Cellar/lhapdf/6.5.3/share/LHAPDF/DSSFFlo/DSSFFlo_0321.dat\n",
      "DSSFFlo PDF set, member #321, version 1; LHAPDF ID = 90321\n"
     ]
    }
   ],
   "source": [
    "import pandas as pd\n",
    "import numpy as np\n",
    "import matplotlib.pyplot as plt\n",
    "import math\n",
    "import lhapdf\n",
    "import sys\n",
    "sys.path.insert(1,'/Users/sj400/Duke/sidis_project/calculate_xs')\n",
    "import tmdlib.tmd_fit as tmd\n",
    "print(sys.path)\n",
    "import iminuit\n",
    "from iminuit import Minuit\n",
    "from iminuit.cost import LeastSquares\n"
   ]
  },
  {
   "cell_type": "code",
   "execution_count": 2,
   "id": "1c0d5cdc",
   "metadata": {},
   "outputs": [],
   "source": [
    "Factor = 0.3894*1e6/137\n",
    "\n",
    "Factor_3xs=math.sqrt(5)\n",
    "Factor_3xspim=math.sqrt(5)"
   ]
  },
  {
   "cell_type": "code",
   "execution_count": 3,
   "id": "a398857a",
   "metadata": {
    "scrolled": true
   },
   "outputs": [],
   "source": [
    "#df_3xspim_zQ2xbjPhT = pd.read_csv('../Unpol_proposal/Materials/Shuo_Vlad_unpol_cs_results/default_3xs_2024/CS3xs_default_x1_stat0_pim_new.dat',delim_whitespace=True)\n",
    "#It's actually pip, but lazy\n",
    "#df_3xspim_zQ2xbjPhT = pd.read_csv('../Unpol_proposal/Materials/Shuo_Vlad_unpol_cs_results/default_3xs_2024/CS3xs_default_x1_stat0_pip_new.dat',delim_whitespace=True)\n",
    "df_3xspim_zQ2xbjPhT = pd.read_csv('../Unpol_proposal/Materials/Shuo_Vlad_unpol_cs_modified/CS3xs_default_x1_stat0_new.dat',delim_whitespace=True)\n",
    "\n",
    "#df_3xspim_zQ2xbjPhT.head()"
   ]
  },
  {
   "cell_type": "code",
   "execution_count": 4,
   "id": "5e586058",
   "metadata": {},
   "outputs": [
    {
     "name": "stdout",
     "output_type": "stream",
     "text": [
      "LHAPDF 6.5.3 loading /opt/homebrew/Cellar/lhapdf/6.5.3/share/LHAPDF/CJ15lo/CJ15lo_0000.dat\n",
      "CJ15lo PDF set, member #0, version 2; LHAPDF ID = 12300\n",
      "LHAPDF 6.5.3 loading /opt/homebrew/Cellar/lhapdf/6.5.3/share/LHAPDF/DSSFFlo/DSSFFlo_0211.dat\n",
      "DSSFFlo PDF set, member #211, version 1; LHAPDF ID = 90211\n"
     ]
    }
   ],
   "source": [
    "xpdf = lhapdf.mkPDF(\"CJ15lo\",0)\n",
    "zff = lhapdf.mkPDF(\"DSSFFlo\",211)\n",
    "\n",
    "    "
   ]
  },
  {
   "cell_type": "code",
   "execution_count": 5,
   "id": "a2721220",
   "metadata": {},
   "outputs": [
    {
     "data": {
      "text/html": [
       "<table>\n",
       "    <tr>\n",
       "        <th colspan=\"2\" style=\"text-align:center\" title=\"Minimizer\"> Migrad </th>\n",
       "    </tr>\n",
       "    <tr>\n",
       "        <td style=\"text-align:left\" title=\"Minimum value of function\"> FCN = 21.69 </td>\n",
       "        <td style=\"text-align:center\" title=\"Total number of function and (optional) gradient evaluations\"> Nfcn = 44 </td>\n",
       "    </tr>\n",
       "    <tr>\n",
       "        <td style=\"text-align:left\" title=\"Estimated distance to minimum and goal\"> EDM = 7.95e-08 (Goal: 0.0002) </td>\n",
       "        <td style=\"text-align:center\" title=\"Total run time of algorithms\">  </td>\n",
       "    </tr>\n",
       "    <tr>\n",
       "        <td style=\"text-align:center;background-color:#92CCA6;color:black\"> Valid Minimum </td>\n",
       "        <td style=\"text-align:center;background-color:#92CCA6;color:black\"> Below EDM threshold (goal x 10) </td>\n",
       "    </tr>\n",
       "    <tr>\n",
       "        <td style=\"text-align:center;background-color:#92CCA6;color:black\"> No parameters at limit </td>\n",
       "        <td style=\"text-align:center;background-color:#92CCA6;color:black\"> Below call limit </td>\n",
       "    </tr>\n",
       "    <tr>\n",
       "        <td style=\"text-align:center;background-color:#92CCA6;color:black\"> Hesse ok </td>\n",
       "        <td style=\"text-align:center;background-color:#92CCA6;color:black\"> Covariance accurate </td>\n",
       "    </tr>\n",
       "</table><table>\n",
       "    <tr>\n",
       "        <td></td>\n",
       "        <th title=\"Variable name\"> Name </th>\n",
       "        <th title=\"Value of parameter\"> Value </th>\n",
       "        <th title=\"Hesse error\"> Hesse Error </th>\n",
       "        <th title=\"Minos lower error\"> Minos Error- </th>\n",
       "        <th title=\"Minos upper error\"> Minos Error+ </th>\n",
       "        <th title=\"Lower limit of the parameter\"> Limit- </th>\n",
       "        <th title=\"Upper limit of the parameter\"> Limit+ </th>\n",
       "        <th title=\"Is the parameter fixed in the fit\"> Fixed </th>\n",
       "    </tr>\n",
       "    <tr>\n",
       "        <th> 0 </th>\n",
       "        <td> kt2 </td>\n",
       "        <td> 0.5871 </td>\n",
       "        <td> 0.0019 </td>\n",
       "        <td>  </td>\n",
       "        <td>  </td>\n",
       "        <td>  </td>\n",
       "        <td>  </td>\n",
       "        <td>  </td>\n",
       "    </tr>\n",
       "    <tr>\n",
       "        <th> 1 </th>\n",
       "        <td> pt2 </td>\n",
       "        <td> 116.57e-3 </td>\n",
       "        <td> 0.30e-3 </td>\n",
       "        <td>  </td>\n",
       "        <td>  </td>\n",
       "        <td>  </td>\n",
       "        <td>  </td>\n",
       "        <td>  </td>\n",
       "    </tr>\n",
       "</table><table>\n",
       "    <tr>\n",
       "        <td></td>\n",
       "        <th> kt2 </th>\n",
       "        <th> pt2 </th>\n",
       "    </tr>\n",
       "    <tr>\n",
       "        <th> kt2 </th>\n",
       "        <td> 3.57e-06 </td>\n",
       "        <td style=\"background-color:rgb(250,244,244);color:black\"> 0.02e-6 <strong>(0.040)</strong> </td>\n",
       "    </tr>\n",
       "    <tr>\n",
       "        <th> pt2 </th>\n",
       "        <td style=\"background-color:rgb(250,244,244);color:black\"> 0.02e-6 <strong>(0.040)</strong> </td>\n",
       "        <td> 8.75e-08 </td>\n",
       "    </tr>\n",
       "</table>"
      ],
      "text/plain": [
       "┌─────────────────────────────────────────────────────────────────────────┐\n",
       "│                                Migrad                                   │\n",
       "├──────────────────────────────────┬──────────────────────────────────────┤\n",
       "│ FCN = 21.69                      │              Nfcn = 44               │\n",
       "│ EDM = 7.95e-08 (Goal: 0.0002)    │                                      │\n",
       "├──────────────────────────────────┼──────────────────────────────────────┤\n",
       "│          Valid Minimum           │   Below EDM threshold (goal x 10)    │\n",
       "├──────────────────────────────────┼──────────────────────────────────────┤\n",
       "│      No parameters at limit      │           Below call limit           │\n",
       "├──────────────────────────────────┼──────────────────────────────────────┤\n",
       "│             Hesse ok             │         Covariance accurate          │\n",
       "└──────────────────────────────────┴──────────────────────────────────────┘\n",
       "┌───┬──────┬───────────┬───────────┬────────────┬────────────┬─────────┬─────────┬───────┐\n",
       "│   │ Name │   Value   │ Hesse Err │ Minos Err- │ Minos Err+ │ Limit-  │ Limit+  │ Fixed │\n",
       "├───┼──────┼───────────┼───────────┼────────────┼────────────┼─────────┼─────────┼───────┤\n",
       "│ 0 │ kt2  │  0.5871   │  0.0019   │            │            │         │         │       │\n",
       "│ 1 │ pt2  │ 116.57e-3 │  0.30e-3  │            │            │         │         │       │\n",
       "└───┴──────┴───────────┴───────────┴────────────┴────────────┴─────────┴─────────┴───────┘\n",
       "┌─────┬───────────────────┐\n",
       "│     │      kt2      pt2 │\n",
       "├─────┼───────────────────┤\n",
       "│ kt2 │ 3.57e-06  0.02e-6 │\n",
       "│ pt2 │  0.02e-6 8.75e-08 │\n",
       "└─────┴───────────────────┘"
      ]
     },
     "execution_count": 5,
     "metadata": {},
     "output_type": "execute_result"
    }
   ],
   "source": [
    "def least_square(kt2,pt2):\n",
    "    least_square = 0                                                                                                                                                              \n",
    "    for i in range(0,len(df_3xspim_zQ2xbjPhT)):\n",
    "        x, phih, y, z, Q2, pT, value, stat, target, hadron = df_3xspim_zQ2xbjPhT.loc[i]['x'], df_3xspim_zQ2xbjPhT.loc[i]['phih'], df_3xspim_zQ2xbjPhT.loc[i]['y'], df_3xspim_zQ2xbjPhT.loc[i]['z'], df_3xspim_zQ2xbjPhT.loc[i]['Q2'],df_3xspim_zQ2xbjPhT.loc[i]['pT'], df_3xspim_zQ2xbjPhT.loc[i]['value'],df_3xspim_zQ2xbjPhT.loc[i]['stat'],df_3xspim_zQ2xbjPhT.loc[i]['target'], df_3xspim_zQ2xbjPhT.loc[i]['hadron']\n",
    "        #print(x,phih,y,z,Q2,pT)\n",
    "        least_square+=(value-tmd.SigmaAllCahnBM(x, phih, y, Q2, z, pT, target, hadron,kt2,pt2))**2/(Factor_3xspim*stat+0.11*value)**2\n",
    "    return least_square\n",
    "\n",
    "m_get_kT_pT = Minuit(least_square,kt2=0.61,pt2=0.117)\n",
    "m_get_kT_pT.migrad()\n",
    "m_get_kT_pT.hesse()\n",
    "\n"
   ]
  },
  {
   "cell_type": "code",
   "execution_count": 6,
   "id": "f41e069d",
   "metadata": {},
   "outputs": [
    {
     "name": "stdout",
     "output_type": "stream",
     "text": [
      "['$\\\\chi^2$/$n_\\\\mathrm{dof}$ = 21.7 / nan = nan']\n",
      "par: <ValueView kt2=0.5870968641705009 pt2=0.11656834957295774> err: <ErrorView kt2=0.001888892631511261 pt2=0.0002957793698889433>\n"
     ]
    }
   ],
   "source": [
    "fit_info = [\n",
    "    f\"$\\\\chi^2$/$n_\\\\mathrm{{dof}}$ = {m_get_kT_pT.fval:.1f} / {m_get_kT_pT.ndof:.0f} = {m_get_kT_pT.fmin.reduced_chi2:.1f}\",\n",
    "]\n",
    "print(fit_info)\n",
    "#print('chi2,n',m_get_kT_pT.fval, m_get_kT_pT.ndof, m_get_kT_pT.fmin.reduced_chi2)\n",
    "print('par:',m_get_kT_pT.values,'err:',m_get_kT_pT.errors)\n",
    "\n",
    "#par0 = ()\n"
   ]
  },
  {
   "cell_type": "code",
   "execution_count": null,
   "id": "35f37b12",
   "metadata": {},
   "outputs": [
    {
     "data": {
      "text/html": [
       "<progress value='0' max='100'></progress> 0 %"
      ],
      "text/plain": [
       "<IPython.core.display.HTML object>"
      ]
     },
     "metadata": {},
     "output_type": "display_data"
    }
   ],
   "source": [
    "m_get_kT_pT.draw_mnmatrix()"
   ]
  },
  {
   "cell_type": "code",
   "execution_count": null,
   "id": "a373e672",
   "metadata": {},
   "outputs": [],
   "source": [
    "m_get_kT_pT.draw_mncontour(\"kt2\", \"pt2\", cl=(0.68, 0.9, 0.99))"
   ]
  },
  {
   "cell_type": "code",
   "execution_count": null,
   "id": "0c475b82",
   "metadata": {},
   "outputs": [],
   "source": []
  }
 ],
 "metadata": {
  "kernelspec": {
   "display_name": "Python 3 (ipykernel)",
   "language": "python",
   "name": "python3"
  },
  "language_info": {
   "codemirror_mode": {
    "name": "ipython",
    "version": 3
   },
   "file_extension": ".py",
   "mimetype": "text/x-python",
   "name": "python",
   "nbconvert_exporter": "python",
   "pygments_lexer": "ipython3",
   "version": "3.10.10"
  }
 },
 "nbformat": 4,
 "nbformat_minor": 5
}
